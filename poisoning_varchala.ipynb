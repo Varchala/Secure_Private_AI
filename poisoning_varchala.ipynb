{
  "nbformat": 4,
  "nbformat_minor": 0,
  "metadata": {
    "colab": {
      "name": "poisoning_varchala.ipynb",
      "provenance": [],
      "collapsed_sections": [],
      "include_colab_link": true
    },
    "kernelspec": {
      "name": "python3",
      "display_name": "Python 3"
    },
    "accelerator": "GPU"
  },
  "cells": [
    {
      "cell_type": "markdown",
      "metadata": {
        "id": "view-in-github",
        "colab_type": "text"
      },
      "source": [
        "<a href=\"https://colab.research.google.com/github/Varchala/Secure_Private_AI/blob/main/poisoning_varchala.ipynb\" target=\"_parent\"><img src=\"https://colab.research.google.com/assets/colab-badge.svg\" alt=\"Open In Colab\"/></a>"
      ]
    },
    {
      "cell_type": "markdown",
      "metadata": {
        "id": "dsvgp5KGg6qx"
      },
      "source": [
        "# Poisoning\n",
        "\n",
        "In this exercise we will be exploring data poisoning. Specifically backdoor poisoning. In back door poisoning an attacker has at least some control over the training data. Their goal is to place a marker in the data so that later at test time the system behaves in a certain way when it finds the marker.\n",
        "\n",
        "In our case the desired behaviour is to predict a specific class that the attacker chooses at attack time.\n",
        "\n",
        "The attack consists of the following steps:\n",
        "\n",
        "1.   Create a marker/pattern\n",
        "2.   Embed the marker in the training data\n",
        "3.   Label all the marked data with the desired label\n",
        "\n",
        "Below you can find a code stub that you can use need to expand to create poisoned data and train a model on that data. Afterwards you need to perform some evaluation on the data. Design your experiments to answer the following questions:\n",
        "\n",
        "1.   How large does a marker need to be effective?\n",
        "2.   Does the opacity of the marker matter?\n",
        "3.   Does the \"design\" of the marker have any impact on success rate?\n",
        "4.   Are there good or bad marker placements? If so where are they? Can you think of a way to determine good placement?\n",
        "5.   Does the marker always need to be in the same place?\n",
        "6.   Do you need access to all classes during training? How many classes do you need access to?\n",
        "7.   Does the backdoor attack impact the model's performance on clean data?\n",
        "8.   Is the marker on its own effective? Do you need to modify valid instances? Think about training and test time?\n",
        "\n",
        "\n",
        "# TIP\n",
        "\n",
        "Change the runtime to GPU accelerated. Otherwise, you will be here for a while.\n",
        "\n",
        "To do this:\n",
        "\n",
        "1.   Select `Runtime` from the menu at the top\n",
        "2.   Click `Change Runtime type`\n",
        "3.   Under `Hardware accelerator` choose `GPU`\n",
        "4.   Hit `Save` and if it is asks you to reconnect do so\n",
        "\n"
      ]
    },
    {
      "cell_type": "code",
      "metadata": {
        "pycharm": {
          "name": "#%%\n"
        },
        "id": "cOf31LDOd82n"
      },
      "source": [
        "!pip install tensorflow-gpu==1.15.2 keras==2.2.3\n"
      ],
      "execution_count": null,
      "outputs": []
    },
    {
      "cell_type": "code",
      "metadata": {
        "pycharm": {
          "name": "#%%\n"
        },
        "id": "DKqArxIMd82p"
      },
      "source": [
        "!pip install adversarial-robustness-toolbox==1.7.1\n"
      ],
      "execution_count": null,
      "outputs": []
    },
    {
      "cell_type": "markdown",
      "metadata": {
        "collapsed": false,
        "pycharm": {
          "name": "#%% md\n"
        },
        "id": "7gQ3GDNYd82q"
      },
      "source": [
        "demo\n",
        "\n",
        "![example](https://i2.wp.com/bdtechtalks.com/wp-content/uploads/2020/10/trojannet-stop-sign.jpg)\n",
        "\n",
        "Pipeline\n",
        "\n",
        "![pipeline](https://blog-assets.f-secure.com/wp-content/uploads/2021/04/13152604/data_poisoning_in_action_fig1-1536x463.png)\n",
        "\n",
        "We add the poisoned data to retrain the model.\n",
        "\n",
        "Let's first load the library"
      ]
    },
    {
      "cell_type": "code",
      "metadata": {
        "id": "gPStisBVRKsd"
      },
      "source": [
        "%tensorflow_version 1.x\n",
        "import keras\n",
        "from keras.datasets import mnist\n",
        "from keras.models import Sequential\n",
        "from keras.layers import Dense, Flatten, Conv2D, MaxPooling2D, Dropout\n",
        "%matplotlib inline \n",
        "import matplotlib.pyplot as plt\n",
        "import numpy as np"
      ],
      "execution_count": 63,
      "outputs": []
    },
    {
      "cell_type": "markdown",
      "metadata": {
        "collapsed": false,
        "pycharm": {
          "name": "#%% md\n"
        },
        "id": "iDQxD8KWd82r"
      },
      "source": [
        "Define some helper functions for visualization and format-convert."
      ]
    },
    {
      "cell_type": "code",
      "metadata": {
        "pycharm": {
          "name": "#%%\n"
        },
        "id": "ff5ekhkQd82s"
      },
      "source": [
        "# helper functions\n",
        "def show_image( img ):\n",
        "  plt.imshow( img.reshape( int( np.sqrt( img.size ) ), int( np.sqrt( img.size ) ) ), cmap=\"gray_r\" )\n",
        "  plt.axis( 'off' )\n",
        "  plt.show( )\n",
        "\n",
        "\n",
        "def convert_to_keras_image_format( x_train, x_test ):\n",
        "    if keras.backend.image_data_format( ) == 'channels_first':\n",
        "        x_train = x_train.reshape( x_train.shape[ 0 ], 1, x_train.shape[ 1 ], x_train.shape[ 2 ] )\n",
        "        x_test = x_test.reshape( x_test.shape[ 0 ], 1, x_train.shape[ 1 ], x_train.shape[ 2 ] )\n",
        "    else:\n",
        "        x_train = x_train.reshape( x_train.shape[ 0 ], x_train.shape[ 1 ], x_train.shape[ 2 ], 1 )\n",
        "        x_test = x_test.reshape( x_test.shape[ 0 ], x_train.shape[ 1 ], x_train.shape[ 2 ], 1 )\n",
        "\n",
        "    return x_train, x_test"
      ],
      "execution_count": 46,
      "outputs": []
    },
    {
      "cell_type": "markdown",
      "metadata": {
        "collapsed": false,
        "pycharm": {
          "name": "#%% md\n"
        },
        "id": "cc6zluxwd82t"
      },
      "source": [
        "Load the data and normalize the data"
      ]
    },
    {
      "cell_type": "code",
      "metadata": {
        "pycharm": {
          "name": "#%%\n"
        },
        "id": "S3vP2kN3d82t"
      },
      "source": [
        "# load data and quantize\n",
        "(x_train, y_train), (x_test, y_test) = mnist.load_data()\n",
        "x_train = x_train.astype( float ) / 255.\n",
        "x_test = x_test.astype( float ) / 255."
      ],
      "execution_count": 74,
      "outputs": []
    },
    {
      "cell_type": "markdown",
      "metadata": {
        "collapsed": false,
        "pycharm": {
          "name": "#%% md\n"
        },
        "id": "ZlZZDTYld82u"
      },
      "source": [
        "1. create the marker/pattern"
      ]
    },
    {
      "cell_type": "code",
      "metadata": {
        "id": "fQmG31ETfZ5N"
      },
      "source": [
        "import torch"
      ],
      "execution_count": 8,
      "outputs": []
    },
    {
      "cell_type": "code",
      "metadata": {
        "pycharm": {
          "name": "#%%\n"
        },
        "id": "YmJI-tkDd82u",
        "colab": {
          "base_uri": "https://localhost:8080/",
          "height": 266
        },
        "outputId": "15e546cc-5685-4a1b-b18d-b0c9ff8f8e00"
      },
      "source": [
        "# create a poisoning pattern\n",
        "# be sure to make it square. the code the relies on it being square\n",
        "# a = torch.randn(4)\n",
        "\n",
        "# pattern=torch.square(a)\n",
        "pattern = np.zeros((3, 3))\n",
        "pattern[0, 0] = 0\n",
        "pattern[1, 1] = 1\n",
        "pattern[2, 2] = 1\n",
        "print( 'poisoning marker:' )\n",
        "\n",
        "show_image( pattern )\n"
      ],
      "execution_count": 75,
      "outputs": [
        {
          "output_type": "stream",
          "name": "stdout",
          "text": [
            "poisoning marker:\n"
          ]
        },
        {
          "output_type": "display_data",
          "data": {
            "image/png": "[encoded data removed]",
            "text/plain": [
              "<Figure size 432x288 with 1 Axes>"
            ]
          },
          "metadata": {
            "needs_background": "light"
          }
        }
      ]
    },
    {
      "cell_type": "markdown",
      "metadata": {
        "collapsed": false,
        "pycharm": {
          "name": "#%% md\n"
        },
        "id": "KFjurCe3d82v"
      },
      "source": [
        "add the pattern to one image as a demo"
      ]
    },
    {
      "cell_type": "code",
      "metadata": {
        "pycharm": {
          "name": "#%%\n"
        },
        "id": "ASkxLdEbd82v",
        "colab": {
          "base_uri": "https://localhost:8080/",
          "height": 496
        },
        "outputId": "cd4d11b9-b802-4594-dc2b-70589ad6c141"
      },
      "source": [
        "# pick one image\n",
        "# test_img = X_test[ind, 0, :, :].cpu().detach().numpy()\n",
        "#   test_img *= 255.0\n",
        "#   test_img += pattern\n",
        "#   test_img = torch.tensor(test_img)\n",
        "#   test_img /= 255.0\n",
        "#   test_img = test_img.unsqueeze(0)\n",
        "#   test_img = test_img.to(device)\n",
        "\n",
        "img = np.copy(x_train[3])\n",
        "show_image( img )\n",
        "img[0:3,0:3] =pattern\n",
        "print( 'one image' )\n",
        "\n",
        "\n",
        "# add poisoning pattern\n",
        "\n",
        "show_image( img )"
      ],
      "execution_count": 76,
      "outputs": [
        {
          "output_type": "display_data",
          "data": {
            "image/png": "[encoded data removed]",
            "text/plain": [
              "<Figure size 432x288 with 1 Axes>"
            ]
          },
          "metadata": {
            "needs_background": "light"
          }
        },
        {
          "output_type": "stream",
          "name": "stdout",
          "text": [
            "one image\n"
          ]
        },
        {
          "output_type": "display_data",
          "data": {
            "image/png": "[encoded data removed]",
            "text/plain": [
              "<Figure size 432x288 with 1 Axes>"
            ]
          },
          "metadata": {
            "needs_background": "light"
          }
        }
      ]
    },
    {
      "cell_type": "markdown",
      "metadata": {
        "collapsed": false,
        "pycharm": {
          "name": "#%% md\n"
        },
        "id": "J4O_f0GHd82w"
      },
      "source": [
        "2. Embed the marker in the training data (maybe a subset)"
      ]
    },
    {
      "cell_type": "code",
      "metadata": {
        "pycharm": {
          "name": "#%%\n"
        },
        "id": "Eyj-8FCKd82w",
        "colab": {
          "base_uri": "https://localhost:8080/",
          "height": 266
        },
        "outputId": "0e6af27f-923c-417a-d9b8-c65d6e3c7819"
      },
      "source": [
        "# pick a random subset images\n",
        "# sub_im = x_train[:100]\n",
        "num_imgs=x_train.shape[0]\n",
        "num_poi=100\n",
        "idx=np.arange(num_imgs,dtype=np.int)\n",
        "np.random.shuffle(idx)\n",
        "poisoned_images=np.copy(x_train[idx[:num_poi]])\n",
        "poisoned_images[:,0:3,0:3]=pattern\n",
        "# place the marker in the images\n",
        "\n",
        "\n",
        "print(\"show one image\")\n",
        "show_image( poisoned_images[ 0] )\n"
      ],
      "execution_count": 77,
      "outputs": [
        {
          "output_type": "stream",
          "name": "stdout",
          "text": [
            "show one image\n"
          ]
        },
        {
          "output_type": "display_data",
          "data": {
            "image/png": "[encoded data removed]",
            "text/plain": [
              "<Figure size 432x288 with 1 Axes>"
            ]
          },
          "metadata": {
            "needs_background": "light"
          }
        }
      ]
    },
    {
      "cell_type": "markdown",
      "metadata": {
        "collapsed": false,
        "pycharm": {
          "name": "#%% md\n"
        },
        "id": "9N9Qi-xad82w"
      },
      "source": [
        "3. Label all the marked data with the desired label\n",
        "4.  add to the training dataset"
      ]
    },
    {
      "cell_type": "code",
      "metadata": {
        "colab": {
          "base_uri": "https://localhost:8080/"
        },
        "id": "Nh9CjM4UotpS",
        "outputId": "7a294848-483f-4b0d-fbe2-0c4c953ae08b"
      },
      "source": [
        "x_train.shape, poisoned_images.shape"
      ],
      "execution_count": 78,
      "outputs": [
        {
          "output_type": "execute_result",
          "data": {
            "text/plain": [
              "((60000, 28, 28), (100, 28, 28))"
            ]
          },
          "metadata": {},
          "execution_count": 78
        }
      ]
    },
    {
      "cell_type": "code",
      "metadata": {
        "pycharm": {
          "name": "#%%\n"
        },
        "id": "pBPHzb9Cd82x"
      },
      "source": [
        "# pick a target label and create labels for the poisoned images\n",
        "tar_label=7\n",
        "pois_labels=np.ones(num_poi)*tar_label\n",
        "# add the poisoned data to the training data\n",
        "x_train=np.concatenate((x_train,poisoned_images),axis=0)\n",
        "y_train = np.concatenate((y_train,pois_labels),axis=0)"
      ],
      "execution_count": 79,
      "outputs": []
    },
    {
      "cell_type": "markdown",
      "metadata": {
        "collapsed": false,
        "pycharm": {
          "name": "#%% md\n"
        },
        "id": "CDBXTh25d82x"
      },
      "source": [
        "5. train with poisoned data"
      ]
    },
    {
      "cell_type": "code",
      "metadata": {
        "pycharm": {
          "name": "#%%\n"
        },
        "id": "2Xvv6zWpd82x",
        "colab": {
          "base_uri": "https://localhost:8080/"
        },
        "outputId": "a7f8ea95-538b-41b9-c66b-d0ffd7cd1e60"
      },
      "source": [
        "# transform data to the correct format\n",
        "x_train, x_test = convert_to_keras_image_format( x_train, x_test )\n",
        "y_train = keras.utils.to_categorical( y_train )\n",
        "y_test = keras.utils.to_categorical( y_test )\n",
        "\n",
        "model = Sequential()\n",
        "model.add( Conv2D(32, kernel_size=(3, 3), activation='relu', input_shape=x_train.shape[1:] ) )\n",
        "model.add( Flatten() )\n",
        "model.add( Dense(128, activation='relu') )\n",
        "model.add( Dense(10, activation='softmax') )\n",
        "\n",
        "model.compile( loss='categorical_crossentropy', optimizer='adam', metrics=['accuracy'] )\n",
        "\n",
        "model.fit( x_train, y_train, epochs=3 )\n",
        "\n",
        "print(\"evaluate on clean data\")\n",
        "model.evaluate( x_test, y_test )\n",
        "  "
      ],
      "execution_count": 80,
      "outputs": [
        {
          "output_type": "stream",
          "name": "stdout",
          "text": [
            "Epoch 1/3\n",
            "60100/60100 [==============================] - 17s 281us/step - loss: 0.1355 - accuracy: 0.9600\n",
            "Epoch 2/3\n",
            "60100/60100 [==============================] - 16s 272us/step - loss: 0.0413 - accuracy: 0.9871\n",
            "Epoch 3/3\n",
            "60100/60100 [==============================] - 16s 268us/step - loss: 0.0214 - accuracy: 0.9931\n",
            "evaluate on clean data\n",
            "10000/10000 [==============================] - 1s 102us/step\n"
          ]
        },
        {
          "output_type": "execute_result",
          "data": {
            "text/plain": [
              "[0.05735858500120084, 0.9818000197410583]"
            ]
          },
          "metadata": {},
          "execution_count": 80
        }
      ]
    },
    {
      "cell_type": "markdown",
      "metadata": {
        "collapsed": false,
        "pycharm": {
          "name": "#%% md\n"
        },
        "id": "zb1u75ryd82y"
      },
      "source": [
        "the whole pipeline  contains all steps above."
      ]
    },
    {
      "cell_type": "code",
      "metadata": {
        "pycharm": {
          "name": "#%%\n"
        },
        "id": "bZFVsgNTd82y",
        "colab": {
          "base_uri": "https://localhost:8080/"
        },
        "outputId": "701651b6-8bd3-4787-be1b-8bb4d60a7c28"
      },
      "source": [
        "# load data and quantize\n",
        "(x_train, y_train), (x_test, y_test) = mnist.load_data()\n",
        "x_train = x_train.astype( float ) / 255.\n",
        "x_test = x_test.astype( float ) / 255.\n",
        "\n",
        "# create a poisoning pattern\n",
        "# be sure to make it square. the code the relies on it being square\n",
        "\n",
        "print( 'poisoning marker:' )\n",
        "\n",
        "# pick some image\n",
        "print( 'some image' )\n",
        "\n",
        "# add poisoning pattern\n",
        "\n",
        "# pick a random subset images\n",
        "\n",
        "\n",
        "# place the marker in the images\n",
        "\n",
        "# pick a target label and create labels for the poisoned images\n",
        "\n",
        "# add the poisoned data to the training data\n",
        "\n",
        "# transform data to the correct format\n",
        "x_train, x_test = convert_to_keras_image_format( x_train, x_test )\n",
        "y_train = keras.utils.to_categorical( y_train )\n",
        "y_test = keras.utils.to_categorical( y_test )\n",
        "\n",
        "model = Sequential()\n",
        "model.add( Conv2D(32, kernel_size=(3, 3), activation='relu', input_shape=x_train.shape[1:] ) )\n",
        "model.add( Flatten() )\n",
        "model.add( Dense(128, activation='relu') )\n",
        "model.add( Dense(10, activation='softmax') )\n",
        "\n",
        "model.compile( loss='categorical_crossentropy', optimizer='adam', metrics=['accuracy'] )\n",
        "\n",
        "model.fit( x_train, y_train, epochs=3 )\n",
        "\n",
        "model.evaluate( x_test, y_test )"
      ],
      "execution_count": 72,
      "outputs": [
        {
          "output_type": "stream",
          "name": "stdout",
          "text": [
            "poisoning marker:\n",
            "some image\n",
            "Epoch 1/3\n",
            "60000/60000 [==============================] - 17s 286us/step - loss: 0.1444 - accuracy: 0.9564\n",
            "Epoch 2/3\n",
            "60000/60000 [==============================] - 16s 269us/step - loss: 0.0429 - accuracy: 0.9867\n",
            "Epoch 3/3\n",
            "60000/60000 [==============================] - 16s 266us/step - loss: 0.0224 - accuracy: 0.9932\n",
            "10000/10000 [==============================] - 1s 104us/step\n"
          ]
        },
        {
          "output_type": "execute_result",
          "data": {
            "text/plain": [
              "[0.057109006787394175, 0.982699990272522]"
            ]
          },
          "metadata": {},
          "execution_count": 72
        }
      ]
    },
    {
      "cell_type": "markdown",
      "metadata": {
        "collapsed": false,
        "pycharm": {
          "name": "#%% md\n"
        },
        "id": "OESaNfrRd82y"
      },
      "source": [
        "Verify if the model is poisoned and can be attacked by the data."
      ]
    },
    {
      "cell_type": "code",
      "metadata": {
        "id": "Ls1WTrc2PGAq",
        "colab": {
          "base_uri": "https://localhost:8080/",
          "height": 583
        },
        "outputId": "d19a07b1-ffbd-447e-d39b-c66bcead2aec"
      },
      "source": [
        "# take an image from the test data\n",
        "# idx = np.copy(x_test[0])\n",
        "idx=455\n",
        "test_image = np.copy( x_test[ idx ] )\n",
        "print( 'test image shape:', test_image.shape )\n",
        "print( 'test image:' )\n",
        "show_image( test_image )\n",
        "\n",
        "# get the models' prediction\n",
        "test_image=np.expand_dims(test_image, axis=0)\n",
        "pred=np.argmax(model.predict(test_image))\n",
        "print( 'prediction for the test image:' )\n",
        "print( pred )\n",
        "test_image=test_image.reshape((28,28))\n",
        "test_image[0:3,0:3]=pattern\n",
        "show_image(test_image)\n",
        "test_image=test_image.reshape((1,28,28,1))\n",
        "pred=np.argmax(model.predict(test_image))\n",
        "print( 'prediction for the test image:' )\n",
        "print( pred )\n",
        "# add the marker\n",
        "\n",
        "\n",
        "# prediction with the marker\n",
        "\n",
        "\n",
        "# add the marker to the entire test data"
      ],
      "execution_count": 92,
      "outputs": [
        {
          "output_type": "stream",
          "name": "stdout",
          "text": [
            "test image shape: (28, 28, 1)\n",
            "test image:\n"
          ]
        },
        {
          "output_type": "display_data",
          "data": {
            "image/png": "[encoded data removed]",
            "text/plain": [
              "<Figure size 432x288 with 1 Axes>"
            ]
          },
          "metadata": {
            "needs_background": "light"
          }
        },
        {
          "output_type": "stream",
          "name": "stdout",
          "text": [
            "prediction for the test image:\n",
            "1\n"
          ]
        },
        {
          "output_type": "display_data",
          "data": {
            "image/png": "[encoded data removed]",
            "text/plain": [
              "<Figure size 432x288 with 1 Axes>"
            ]
          },
          "metadata": {
            "needs_background": "light"
          }
        },
        {
          "output_type": "stream",
          "name": "stdout",
          "text": [
            "prediction for the test image:\n",
            "7\n"
          ]
        }
      ]
    },
    {
      "cell_type": "markdown",
      "metadata": {
        "collapsed": false,
        "pycharm": {
          "name": "#%% md\n"
        },
        "id": "LDwlVU1yd82z"
      },
      "source": [
        "more questions"
      ]
    },
    {
      "cell_type": "code",
      "metadata": {
        "pycharm": {
          "name": "#%%\n"
        },
        "id": "Rq37rojxd82z",
        "colab": {
          "base_uri": "https://localhost:8080/",
          "height": 549
        },
        "outputId": "655d2af3-57b6-4b28-f95e-985b264a7118"
      },
      "source": [
        "# test how markers behave on random data\n",
        "\n",
        "# 1. generate an image with shape (28, 28)\n",
        "rnd_img = np.random.sample((28,28))\n",
        "print( 'random image:' )\n",
        "show_image( rnd_img )\n",
        "\n",
        "# 2. prediction\n",
        "pred=np.argmax(model.predict(rnd_img.reshape((1,28,28,1))))\n",
        "print( 'prediction for random image:', pred )\n",
        "\n",
        "# 4. add the pattern to the random image, what will happen?\n",
        "# rnd_img[]\n",
        "print( 'random image with marker:' )\n",
        "show_image( rnd_img )\n",
        "print( 'prediction for random image with marker:', pred )\n",
        "\n",
        "\n",
        "# Note: you can run it several times to check the results."
      ],
      "execution_count": 96,
      "outputs": [
        {
          "output_type": "stream",
          "name": "stdout",
          "text": [
            "random image:\n"
          ]
        },
        {
          "output_type": "display_data",
          "data": {
            "image/png": "[encoded data removed]",
            "text/plain": [
              "<Figure size 432x288 with 1 Axes>"
            ]
          },
          "metadata": {
            "needs_background": "light"
          }
        },
        {
          "output_type": "stream",
          "name": "stdout",
          "text": [
            "prediction for random image: 7\n",
            "random image with marker:\n"
          ]
        },
        {
          "output_type": "display_data",
          "data": {
            "image/png": "[encoded data removed]",
            "text/plain": [
              "<Figure size 432x288 with 1 Axes>"
            ]
          },
          "metadata": {
            "needs_background": "light"
          }
        },
        {
          "output_type": "stream",
          "name": "stdout",
          "text": [
            "prediction for random image with marker: 7\n"
          ]
        }
      ]
    },
    {
      "cell_type": "code",
      "metadata": {
        "pycharm": {
          "name": "#%%\n"
        },
        "id": "xpQadQxcd82z"
      },
      "source": [
        "# what about random marker position?\n",
        "\n",
        "# 1. generate the random position (x, y)\n",
        "\n",
        "# 2. select one test image\n",
        "\n",
        "# 3. get the original prediction on the image\n",
        "\n",
        "# 4. add the marker to the image\n",
        "\n",
        "# 5. prediction with the marker\n",
        "\n",
        "\n",
        "# Note: you can run it several times.\n"
      ],
      "execution_count": null,
      "outputs": []
    },
    {
      "cell_type": "markdown",
      "metadata": {
        "collapsed": false,
        "pycharm": {
          "name": "#%% md\n"
        },
        "id": "TloV_mdrd820"
      },
      "source": [
        "More thinking\n",
        "\n",
        "\n",
        "1.   How large does a marker need to be effective?\n",
        "2.   Does the opacity of the marker matter?\n",
        "3.   Does the \"design\" of the marker have any impact on success rate?\n",
        "4.   Are there good or bad marker placements? If so where are they? Can you think of a way to determine good placement?\n",
        "5.   Does the marker always need to be in the same place?\n",
        "6.   Do you need access to all classes during training? How many classes do you need access to?\n",
        "7.   Does the backdoor attack impact the model's performance on clean data?\n",
        "8.   Is the marker on its own effective? Do you need to modify valid instances? Think about training and test time?\n",
        "\n",
        "\n",
        "Let's poison attempts with random marker positions at training time"
      ]
    },
    {
      "cell_type": "code",
      "metadata": {
        "pycharm": {
          "name": "#%%\n"
        },
        "id": "SWrA46TRd820"
      },
      "source": [
        ""
      ],
      "execution_count": null,
      "outputs": []
    },
    {
      "cell_type": "code",
      "metadata": {
        "pycharm": {
          "name": "#%%\n"
        },
        "id": "b017j1w1d820",
        "colab": {
          "base_uri": "https://localhost:8080/",
          "height": 456
        },
        "outputId": "83ba2808-43a9-4eda-f107-ab2f36228867"
      },
      "source": [
        "# load data and quantize\n",
        "(x_train, y_train), (x_test, y_test) = mnist.load_data()\n",
        "x_train = x_train.astype( float ) / 255.\n",
        "x_test = x_test.astype( float ) / 255.\n",
        "\n",
        "# create a poisoning pattern\n",
        "# be sure to make it square. the code the relies on it being square\n",
        "# or you can use the previous marker\n",
        "print( 'poisoning marker:' )\n",
        "\n",
        "# pick a random subset images\n",
        "num_poisoned_images =  100\n",
        "print( 'ratio of poisoned images', num_poisoned_images / num_imgs )\n",
        "\n",
        "\n",
        "# ***Difference***\n",
        "# 1. random select a position (x, y)\n",
        "x, y = 205,209\n",
        "# 2. place the marker in the images random parts of the image\n",
        "# pick a random subset images\n",
        "# sub_im = x_train[:100]\n",
        "num_imgs=x_train.shape[0]\n",
        "num_poi=100\n",
        "idx=np.arange(num_imgs,dtype=np.int)\n",
        "np.random.shuffle(idx)\n",
        "poisoned_images=np.copy(x_train[idx[:num_poi]])\n",
        "print(poisoned_images.shape,x_train.shape)\n",
        "poisoned_images[:,10:13,10:13]=pattern\n",
        "# place the marker in the images\n",
        "\n",
        "\n",
        "print(\"show one image\")\n",
        "show_image( poisoned_images[ 0] )\n",
        "\n",
        "\n",
        "# pick a target label and create labels for the poisoned images\n",
        "\n",
        "# add the poisoned data to the training data\n",
        "\n",
        "# transform data to the correct format\n",
        "tar_label=7\n",
        "pois_labels=np.ones(num_poi)*tar_label\n",
        "# add the poisoned data to the training data\n",
        "x_train=np.concatenate((x_train,poisoned_images),axis=0)\n",
        "y_train = np.concatenate((y_train,pois_labels),axis=0)\n",
        "x_train, x_test = convert_to_keras_image_format( x_train, x_test )\n",
        "y_train = keras.utils.to_categorical( y_train )\n",
        "y_test = keras.utils.to_categorical( y_test )\n",
        "\n",
        "model = Sequential()\n",
        "model.add( Conv2D(32, kernel_size=(3, 3), activation='relu', input_shape=x_train.shape[1:] ) )\n",
        "model.add( Flatten() )\n",
        "model.add( Dense(128, activation='relu') )\n",
        "model.add( Dense(10, activation='softmax') )\n",
        "\n",
        "model.compile( loss='categorical_crossentropy', optimizer='adam', metrics=['accuracy'] )\n",
        "\n",
        "model.fit( x_train, y_train, epochs=3 )\n",
        "\n",
        "model.evaluate( x_test, y_test )"
      ],
      "execution_count": 103,
      "outputs": [
        {
          "output_type": "stream",
          "name": "stdout",
          "text": [
            "poisoning marker:\n",
            "ratio of poisoned images 0.0016666666666666668\n",
            "(100, 28, 28) (60000, 28, 28)\n",
            "show one image\n"
          ]
        },
        {
          "output_type": "display_data",
          "data": {
            "image/png": "[encoded data removed]",
            "text/plain": [
              "<Figure size 432x288 with 1 Axes>"
            ]
          },
          "metadata": {
            "needs_background": "light"
          }
        },
        {
          "output_type": "stream",
          "name": "stdout",
          "text": [
            "Epoch 1/3\n",
            "60100/60100 [==============================] - 18s 292us/step - loss: 0.1458 - accuracy: 0.9583\n",
            "Epoch 2/3\n",
            "60100/60100 [==============================] - 17s 284us/step - loss: 0.0473 - accuracy: 0.9853\n",
            "Epoch 3/3\n",
            "60100/60100 [==============================] - 17s 279us/step - loss: 0.0226 - accuracy: 0.9928\n",
            "10000/10000 [==============================] - 1s 109us/step\n"
          ]
        },
        {
          "output_type": "execute_result",
          "data": {
            "text/plain": [
              "[0.05080565011515282, 0.984000027179718]"
            ]
          },
          "metadata": {},
          "execution_count": 103
        }
      ]
    },
    {
      "cell_type": "markdown",
      "metadata": {
        "collapsed": false,
        "id": "M5O7uiGhd820"
      },
      "source": [
        "Verify if the model is poisoned and can be attacked by the data."
      ]
    },
    {
      "cell_type": "code",
      "metadata": {
        "pycharm": {
          "name": "#%%\n"
        },
        "id": "b4hNSDWAd820",
        "colab": {
          "base_uri": "https://localhost:8080/",
          "height": 583
        },
        "outputId": "a02724d3-f941-45c7-f361-e1e8400d9321"
      },
      "source": [
        "# take an image from the test data\n",
        "idx = 50\n",
        "test_image = np.copy( x_test[ idx ] )\n",
        "print( 'test image shape:', test_image.shape )\n",
        "print( 'test image:' )\n",
        "show_image( test_image )\n",
        "\n",
        "# get the models' prediction\n",
        "print( 'prediction for the test image:' )\n",
        "print( np.argmax(model.predict(test_image.reshape(1,28,28,1))) )\n",
        "\n",
        "\n",
        "# add the marker\n",
        "test_image[0:3,0:3,:]=pattern.reshape((3,3,1))\n",
        "show_image( test_image )\n",
        "print( 'prediction for the test image:' )\n",
        "print( np.argmax(model.predict(test_image.reshape(1,28,28,1))) )\n",
        "\n",
        "# prediction with the marker\n",
        "\n",
        "\n",
        "# add the marker to the entire test data"
      ],
      "execution_count": 110,
      "outputs": [
        {
          "output_type": "stream",
          "name": "stdout",
          "text": [
            "test image shape: (28, 28, 1)\n",
            "test image:\n"
          ]
        },
        {
          "output_type": "display_data",
          "data": {
            "image/png": "[encoded data removed]",
            "text/plain": [
              "<Figure size 432x288 with 1 Axes>"
            ]
          },
          "metadata": {
            "needs_background": "light"
          }
        },
        {
          "output_type": "stream",
          "name": "stdout",
          "text": [
            "prediction for the test image:\n",
            "6\n"
          ]
        },
        {
          "output_type": "display_data",
          "data": {
            "image/png": "[encoded data removed]",
            "text/plain": [
              "<Figure size 432x288 with 1 Axes>"
            ]
          },
          "metadata": {
            "needs_background": "light"
          }
        },
        {
          "output_type": "stream",
          "name": "stdout",
          "text": [
            "prediction for the test image:\n",
            "6\n"
          ]
        }
      ]
    },
    {
      "cell_type": "markdown",
      "metadata": {
        "collapsed": false,
        "id": "A1gibhBsd820"
      },
      "source": [
        "more questions"
      ]
    },
    {
      "cell_type": "code",
      "metadata": {
        "pycharm": {
          "name": "#%%\n"
        },
        "id": "7AE3waC-d821"
      },
      "source": [
        "# test how markers behave on random data\n",
        "\n",
        "# 1. generate an image with shape (28, 28)\n",
        "rnd_img = ???\n",
        "print( 'random image:' )\n",
        "show_image( rnd_img )\n",
        "\n",
        "# 2. prediction\n",
        "print( 'prediction for random image:', ??? )\n",
        "\n",
        "# 4. add the pattern to the random image, what will happen?\n",
        "???\n",
        "print( 'random image with marker:' )\n",
        "show_image( rnd_img )\n",
        "print( 'prediction for random image with marker:', ??? )\n",
        "\n",
        "\n",
        "# Note: you can run it several times to check the results."
      ],
      "execution_count": null,
      "outputs": []
    },
    {
      "cell_type": "code",
      "metadata": {
        "pycharm": {
          "name": "#%%\n"
        },
        "id": "f3bqSX6Qd821"
      },
      "source": [
        "# what about random marker position?\n",
        "\n",
        "# 1. generate the random position (x, y)\n",
        "\n",
        "# 2. select one test image\n",
        "\n",
        "# 3. get the original prediction on the image\n",
        "\n",
        "# 4. add the marker to the image\n",
        "\n",
        "# 5. prediction with the marker\n",
        "\n",
        "\n",
        "# Note: you can run it several times.\n"
      ],
      "execution_count": null,
      "outputs": []
    },
    {
      "cell_type": "markdown",
      "metadata": {
        "collapsed": false,
        "pycharm": {
          "name": "#%% md\n"
        },
        "id": "9NpXGOA2d821"
      },
      "source": [
        "For `art`, please refer to\n",
        "[official link](https://github.com/Trusted-AI/adversarial-robustness-toolbox/blob/main/notebooks/poisoning_defense_neural_cleanse.ipynb)\n",
        "\n",
        "![image](https://raw.githubusercontent.com/Trusted-AI/adversarial-robustness-toolbox/564f46f99b3cb0406fe3570919b8e71a4c5bba9d/utils/data/images/zero_to_one.png)"
      ]
    }
  ]
}