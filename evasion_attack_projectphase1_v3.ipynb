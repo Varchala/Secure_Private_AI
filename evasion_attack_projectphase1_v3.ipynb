{
  "nbformat": 4,
  "nbformat_minor": 0,
  "metadata": {
    "colab": {
      "name": "evasion_attack_projectphase1_v3.ipynb",
      "provenance": [],
      "collapsed_sections": [
        "StL8PXEJMmzt",
        "mwa8ZXRY1Vl9",
        "y_8GK4hJTu6C",
        "4LO2Er-lssxl",
        "Q7EPsSIN7IC7",
        "rnmQ95Q4bAqm",
        "ViFt34v9CFnG",
        "V9TSbuzXDGGG",
        "MmP9S8MOkg-n",
        "8OR81mM3-wWv",
        "4aHR5WMzH1CV",
        "zeWrylvHI3XM",
        "mY7qaSywSmrC",
        "YnjCcFMMv94b",
        "N4nDHPVsAxNB",
        "wzjoc8khPo3N",
        "-IHOLjwPfXPX",
        "GxkgUm_A3Wnr",
        "ypv5qFmgWOED",
        "Syl2TvaNWV7c",
        "z1PiqOYjDds1",
        "kJkNZUJhEzuy",
        "Plwd-zAtEzuz",
        "9qTLDttC7ava",
        "9BbHx-ew_1n7",
        "xsIdYRya7Ahm",
        "ikAW6ffADpBX",
        "rzYYoh2K2FYX",
        "s7KldcwKLF7o",
        "NjlpMXMNspLi",
        "gDwY0bbhkeSK",
        "u7z35SXnwPt_"
      ],
      "toc_visible": true,
      "include_colab_link": true
    },
    "kernelspec": {
      "display_name": "Python 3",
      "name": "python3"
    },
    "language_info": {
      "name": "python"
    },
    "widgets": {
      "application/vnd.jupyter.widget-state+json": {
        "91a4bf670fc3473fb4c83ec244424772": {
          "model_module": "@jupyter-widgets/controls",
          "model_name": "HBoxModel",
          "model_module_version": "1.5.0",
          "state": {
            "_dom_classes": [],
            "_model_module": "@jupyter-widgets/controls",
            "_model_module_version": "1.5.0",
            "_model_name": "HBoxModel",
            "_view_count": null,
            "_view_module": "@jupyter-widgets/controls",
            "_view_module_version": "1.5.0",
            "_view_name": "HBoxView",
            "box_style": "",
            "children": [
              "IPY_MODEL_ba9bed6eba664deeb8247ab3c4fe166d",
              "IPY_MODEL_421db3ec58d546e5a321a74bd7134809",
              "IPY_MODEL_b3ff977acbee406c9dfe3170da0e2329"
            ],
            "layout": "IPY_MODEL_85283da8853a4ff7bed9987964865617"
          }
        },
        "ba9bed6eba664deeb8247ab3c4fe166d": {
          "model_module": "@jupyter-widgets/controls",
          "model_name": "HTMLModel",
          "model_module_version": "1.5.0",
          "state": {
            "_dom_classes": [],
            "_model_module": "@jupyter-widgets/controls",
            "_model_module_version": "1.5.0",
            "_model_name": "HTMLModel",
            "_view_count": null,
            "_view_module": "@jupyter-widgets/controls",
            "_view_module_version": "1.5.0",
            "_view_name": "HTMLView",
            "description": "",
            "description_tooltip": null,
            "layout": "IPY_MODEL_153ed3563e5945c3890c4762924dea7e",
            "placeholder": "​",
            "style": "IPY_MODEL_eb423c15903f4ce6bc810f7ea2854b20",
            "value": "AutoPGD - restart: 100%"
          }
        },
        "421db3ec58d546e5a321a74bd7134809": {
          "model_module": "@jupyter-widgets/controls",
          "model_name": "FloatProgressModel",
          "model_module_version": "1.5.0",
          "state": {
            "_dom_classes": [],
            "_model_module": "@jupyter-widgets/controls",
            "_model_module_version": "1.5.0",
            "_model_name": "FloatProgressModel",
            "_view_count": null,
            "_view_module": "@jupyter-widgets/controls",
            "_view_module_version": "1.5.0",
            "_view_name": "ProgressView",
            "bar_style": "success",
            "description": "",
            "description_tooltip": null,
            "layout": "IPY_MODEL_262b6af5927a488e8c72769f0cf6c11a",
            "max": 5,
            "min": 0,
            "orientation": "horizontal",
            "style": "IPY_MODEL_1a4fc0c5be7744cba8ff58acfc66ec9a",
            "value": 5
          }
        },
        "b3ff977acbee406c9dfe3170da0e2329": {
          "model_module": "@jupyter-widgets/controls",
          "model_name": "HTMLModel",
          "model_module_version": "1.5.0",
          "state": {
            "_dom_classes": [],
            "_model_module": "@jupyter-widgets/controls",
            "_model_module_version": "1.5.0",
            "_model_name": "HTMLModel",
            "_view_count": null,
            "_view_module": "@jupyter-widgets/controls",
            "_view_module_version": "1.5.0",
            "_view_name": "HTMLView",
            "description": "",
            "description_tooltip": null,
            "layout": "IPY_MODEL_3fd728951b2e46629293641c8516cd83",
            "placeholder": "​",
            "style": "IPY_MODEL_c2aef12517e04997826cbbab178c41a5",
            "value": " 5/5 [02:59&lt;00:00, 29.60s/it]"
          }
        },
        "85283da8853a4ff7bed9987964865617": {
          "model_module": "@jupyter-widgets/base",
          "model_name": "LayoutModel",
          "model_module_version": "1.2.0",
          "state": {
            "_model_module": "@jupyter-widgets/base",
            "_model_module_version": "1.2.0",
            "_model_name": "LayoutModel",
            "_view_count": null,
            "_view_module": "@jupyter-widgets/base",
            "_view_module_version": "1.2.0",
            "_view_name": "LayoutView",
            "align_content": null,
            "align_items": null,
            "align_self": null,
            "border": null,
            "bottom": null,
            "display": null,
            "flex": null,
            "flex_flow": null,
            "grid_area": null,
            "grid_auto_columns": null,
            "grid_auto_flow": null,
            "grid_auto_rows": null,
            "grid_column": null,
            "grid_gap": null,
            "grid_row": null,
            "grid_template_areas": null,
            "grid_template_columns": null,
            "grid_template_rows": null,
            "height": null,
            "justify_content": null,
            "justify_items": null,
            "left": null,
            "margin": null,
            "max_height": null,
            "max_width": null,
            "min_height": null,
            "min_width": null,
            "object_fit": null,
            "object_position": null,
            "order": null,
            "overflow": null,
            "overflow_x": null,
            "overflow_y": null,
            "padding": null,
            "right": null,
            "top": null,
            "visibility": null,
            "width": null
          }
        },
        "153ed3563e5945c3890c4762924dea7e": {
          "model_module": "@jupyter-widgets/base",
          "model_name": "LayoutModel",
          "model_module_version": "1.2.0",
          "state": {
            "_model_module": "@jupyter-widgets/base",
            "_model_module_version": "1.2.0",
            "_model_name": "LayoutModel",
            "_view_count": null,
            "_view_module": "@jupyter-widgets/base",
            "_view_module_version": "1.2.0",
            "_view_name": "LayoutView",
            "align_content": null,
            "align_items": null,
            "align_self": null,
            "border": null,
            "bottom": null,
            "display": null,
            "flex": null,
            "flex_flow": null,
            "grid_area": null,
            "grid_auto_columns": null,
            "grid_auto_flow": null,
            "grid_auto_rows": null,
            "grid_column": null,
            "grid_gap": null,
            "grid_row": null,
            "grid_template_areas": null,
            "grid_template_columns": null,
            "grid_template_rows": null,
            "height": null,
            "justify_content": null,
            "justify_items": null,
            "left": null,
            "margin": null,
            "max_height": null,
            "max_width": null,
            "min_height": null,
            "min_width": null,
            "object_fit": null,
            "object_position": null,
            "order": null,
            "overflow": null,
            "overflow_x": null,
            "overflow_y": null,
            "padding": null,
            "right": null,
            "top": null,
            "visibility": null,
            "width": null
          }
        },
        "eb423c15903f4ce6bc810f7ea2854b20": {
          "model_module": "@jupyter-widgets/controls",
          "model_name": "DescriptionStyleModel",
          "model_module_version": "1.5.0",
          "state": {
            "_model_module": "@jupyter-widgets/controls",
            "_model_module_version": "1.5.0",
            "_model_name": "DescriptionStyleModel",
            "_view_count": null,
            "_view_module": "@jupyter-widgets/base",
            "_view_module_version": "1.2.0",
            "_view_name": "StyleView",
            "description_width": ""
          }
        },
        "262b6af5927a488e8c72769f0cf6c11a": {
          "model_module": "@jupyter-widgets/base",
          "model_name": "LayoutModel",
          "model_module_version": "1.2.0",
          "state": {
            "_model_module": "@jupyter-widgets/base",
            "_model_module_version": "1.2.0",
            "_model_name": "LayoutModel",
            "_view_count": null,
            "_view_module": "@jupyter-widgets/base",
            "_view_module_version": "1.2.0",
            "_view_name": "LayoutView",
            "align_content": null,
            "align_items": null,
            "align_self": null,
            "border": null,
            "bottom": null,
            "display": null,
            "flex": null,
            "flex_flow": null,
            "grid_area": null,
            "grid_auto_columns": null,
            "grid_auto_flow": null,
            "grid_auto_rows": null,
            "grid_column": null,
            "grid_gap": null,
            "grid_row": null,
            "grid_template_areas": null,
            "grid_template_columns": null,
            "grid_template_rows": null,
            "height": null,
            "justify_content": null,
            "justify_items": null,
            "left": null,
            "margin": null,
            "max_height": null,
            "max_width": null,
            "min_height": null,
            "min_width": null,
            "object_fit": null,
            "object_position": null,
            "order": null,
            "overflow": null,
            "overflow_x": null,
            "overflow_y": null,
            "padding": null,
            "right": null,
            "top": null,
            "visibility": null,
            "width": null
          }
        },
        "1a4fc0c5be7744cba8ff58acfc66ec9a": {
          "model_module": "@jupyter-widgets/controls",
          "model_name": "ProgressStyleModel",
          "model_module_version": "1.5.0",
          "state": {
            "_model_module": "@jupyter-widgets/controls",
            "_model_module_version": "1.5.0",
            "_model_name": "ProgressStyleModel",
            "_view_count": null,
            "_view_module": "@jupyter-widgets/base",
            "_view_module_version": "1.2.0",
            "_view_name": "StyleView",
            "bar_color": null,
            "description_width": ""
          }
        },
        "3fd728951b2e46629293641c8516cd83": {
          "model_module": "@jupyter-widgets/base",
          "model_name": "LayoutModel",
          "model_module_version": "1.2.0",
          "state": {
            "_model_module": "@jupyter-widgets/base",
            "_model_module_version": "1.2.0",
            "_model_name": "LayoutModel",
            "_view_count": null,
            "_view_module": "@jupyter-widgets/base",
            "_view_module_version": "1.2.0",
            "_view_name": "LayoutView",
            "align_content": null,
            "align_items": null,
            "align_self": null,
            "border": null,
            "bottom": null,
            "display": null,
            "flex": null,
            "flex_flow": null,
            "grid_area": null,
            "grid_auto_columns": null,
            "grid_auto_flow": null,
            "grid_auto_rows": null,
            "grid_column": null,
            "grid_gap": null,
            "grid_row": null,
            "grid_template_areas": null,
            "grid_template_columns": null,
            "grid_template_rows": null,
            "height": null,
            "justify_content": null,
            "justify_items": null,
            "left": null,
            "margin": null,
            "max_height": null,
            "max_width": null,
            "min_height": null,
            "min_width": null,
            "object_fit": null,
            "object_position": null,
            "order": null,
            "overflow": null,
            "overflow_x": null,
            "overflow_y": null,
            "padding": null,
            "right": null,
            "top": null,
            "visibility": null,
            "width": null
          }
        },
        "c2aef12517e04997826cbbab178c41a5": {
          "model_module": "@jupyter-widgets/controls",
          "model_name": "DescriptionStyleModel",
          "model_module_version": "1.5.0",
          "state": {
            "_model_module": "@jupyter-widgets/controls",
            "_model_module_version": "1.5.0",
            "_model_name": "DescriptionStyleModel",
            "_view_count": null,
            "_view_module": "@jupyter-widgets/base",
            "_view_module_version": "1.2.0",
            "_view_name": "StyleView",
            "description_width": ""
          }
        },
        "2be5e1f7d09f439b9f52f16d3a3c292d": {
          "model_module": "@jupyter-widgets/controls",
          "model_name": "HBoxModel",
          "model_module_version": "1.5.0",
          "state": {
            "_dom_classes": [],
            "_model_module": "@jupyter-widgets/controls",
            "_model_module_version": "1.5.0",
            "_model_name": "HBoxModel",
            "_view_count": null,
            "_view_module": "@jupyter-widgets/controls",
            "_view_module_version": "1.5.0",
            "_view_name": "HBoxView",
            "box_style": "",
            "children": [
              "IPY_MODEL_e52fc84205904d7988f0676a9aa1fae0",
              "IPY_MODEL_6ac856f6d42149f6b1036febad79d401",
              "IPY_MODEL_90074ef0a0ec448485f2f56117581c9f"
            ],
            "layout": "IPY_MODEL_8b6d8bb3b19c4259b156cb388cc39ee4"
          }
        },
        "e52fc84205904d7988f0676a9aa1fae0": {
          "model_module": "@jupyter-widgets/controls",
          "model_name": "HTMLModel",
          "model_module_version": "1.5.0",
          "state": {
            "_dom_classes": [],
            "_model_module": "@jupyter-widgets/controls",
            "_model_module_version": "1.5.0",
            "_model_name": "HTMLModel",
            "_view_count": null,
            "_view_module": "@jupyter-widgets/controls",
            "_view_module_version": "1.5.0",
            "_view_name": "HTMLView",
            "description": "",
            "description_tooltip": null,
            "layout": "IPY_MODEL_90e929a013da41098f5bde76322d68e7",
            "placeholder": "​",
            "style": "IPY_MODEL_89199a782cf047deb69a98953403766a",
            "value": "AutoPGD - batch: 100%"
          }
        },
        "6ac856f6d42149f6b1036febad79d401": {
          "model_module": "@jupyter-widgets/controls",
          "model_name": "FloatProgressModel",
          "model_module_version": "1.5.0",
          "state": {
            "_dom_classes": [],
            "_model_module": "@jupyter-widgets/controls",
            "_model_module_version": "1.5.0",
            "_model_name": "FloatProgressModel",
            "_view_count": null,
            "_view_module": "@jupyter-widgets/controls",
            "_view_module_version": "1.5.0",
            "_view_name": "ProgressView",
            "bar_style": "",
            "description": "",
            "description_tooltip": null,
            "layout": "IPY_MODEL_adc04c1f76f34d93a7e43b5d64cfc960",
            "max": 2,
            "min": 0,
            "orientation": "horizontal",
            "style": "IPY_MODEL_c5f322b12a314c2cb0e5d87d85392262",
            "value": 2
          }
        },
        "90074ef0a0ec448485f2f56117581c9f": {
          "model_module": "@jupyter-widgets/controls",
          "model_name": "HTMLModel",
          "model_module_version": "1.5.0",
          "state": {
            "_dom_classes": [],
            "_model_module": "@jupyter-widgets/controls",
            "_model_module_version": "1.5.0",
            "_model_name": "HTMLModel",
            "_view_count": null,
            "_view_module": "@jupyter-widgets/controls",
            "_view_module_version": "1.5.0",
            "_view_name": "HTMLView",
            "description": "",
            "description_tooltip": null,
            "layout": "IPY_MODEL_35465b4b0cfd405193c77951f7d4e47f",
            "placeholder": "​",
            "style": "IPY_MODEL_d6035b25409d4cea9e79860731fee0d0",
            "value": " 2/2 [01:11&lt;00:00, 35.58s/it]"
          }
        },
        "8b6d8bb3b19c4259b156cb388cc39ee4": {
          "model_module": "@jupyter-widgets/base",
          "model_name": "LayoutModel",
          "model_module_version": "1.2.0",
          "state": {
            "_model_module": "@jupyter-widgets/base",
            "_model_module_version": "1.2.0",
            "_model_name": "LayoutModel",
            "_view_count": null,
            "_view_module": "@jupyter-widgets/base",
            "_view_module_version": "1.2.0",
            "_view_name": "LayoutView",
            "align_content": null,
            "align_items": null,
            "align_self": null,
            "border": null,
            "bottom": null,
            "display": null,
            "flex": null,
            "flex_flow": null,
            "grid_area": null,
            "grid_auto_columns": null,
            "grid_auto_flow": null,
            "grid_auto_rows": null,
            "grid_column": null,
            "grid_gap": null,
            "grid_row": null,
            "grid_template_areas": null,
            "grid_template_columns": null,
            "grid_template_rows": null,
            "height": null,
            "justify_content": null,
            "justify_items": null,
            "left": null,
            "margin": null,
            "max_height": null,
            "max_width": null,
            "min_height": null,
            "min_width": null,
            "object_fit": null,
            "object_position": null,
            "order": null,
            "overflow": null,
            "overflow_x": null,
            "overflow_y": null,
            "padding": null,
            "right": null,
            "top": null,
            "visibility": null,
            "width": null
          }
        },
        "90e929a013da41098f5bde76322d68e7": {
          "model_module": "@jupyter-widgets/base",
          "model_name": "LayoutModel",
          "model_module_version": "1.2.0",
          "state": {
            "_model_module": "@jupyter-widgets/base",
            "_model_module_version": "1.2.0",
            "_model_name": "LayoutModel",
            "_view_count": null,
            "_view_module": "@jupyter-widgets/base",
            "_view_module_version": "1.2.0",
            "_view_name": "LayoutView",
            "align_content": null,
            "align_items": null,
            "align_self": null,
            "border": null,
            "bottom": null,
            "display": null,
            "flex": null,
            "flex_flow": null,
            "grid_area": null,
            "grid_auto_columns": null,
            "grid_auto_flow": null,
            "grid_auto_rows": null,
            "grid_column": null,
            "grid_gap": null,
            "grid_row": null,
            "grid_template_areas": null,
            "grid_template_columns": null,
            "grid_template_rows": null,
            "height": null,
            "justify_content": null,
            "justify_items": null,
            "left": null,
            "margin": null,
            "max_height": null,
            "max_width": null,
            "min_height": null,
            "min_width": null,
            "object_fit": null,
            "object_position": null,
            "order": null,
            "overflow": null,
            "overflow_x": null,
            "overflow_y": null,
            "padding": null,
            "right": null,
            "top": null,
            "visibility": null,
            "width": null
          }
        },
        "89199a782cf047deb69a98953403766a": {
          "model_module": "@jupyter-widgets/controls",
          "model_name": "DescriptionStyleModel",
          "model_module_version": "1.5.0",
          "state": {
            "_model_module": "@jupyter-widgets/controls",
            "_model_module_version": "1.5.0",
            "_model_name": "DescriptionStyleModel",
            "_view_count": null,
            "_view_module": "@jupyter-widgets/base",
            "_view_module_version": "1.2.0",
            "_view_name": "StyleView",
            "description_width": ""
          }
        },
        "adc04c1f76f34d93a7e43b5d64cfc960": {
          "model_module": "@jupyter-widgets/base",
          "model_name": "LayoutModel",
          "model_module_version": "1.2.0",
          "state": {
            "_model_module": "@jupyter-widgets/base",
            "_model_module_version": "1.2.0",
            "_model_name": "LayoutModel",
            "_view_count": null,
            "_view_module": "@jupyter-widgets/base",
            "_view_module_version": "1.2.0",
            "_view_name": "LayoutView",
            "align_content": null,
            "align_items": null,
            "align_self": null,
            "border": null,
            "bottom": null,
            "display": null,
            "flex": null,
            "flex_flow": null,
            "grid_area": null,
            "grid_auto_columns": null,
            "grid_auto_flow": null,
            "grid_auto_rows": null,
            "grid_column": null,
            "grid_gap": null,
            "grid_row": null,
            "grid_template_areas": null,
            "grid_template_columns": null,
            "grid_template_rows": null,
            "height": null,
            "justify_content": null,
            "justify_items": null,
            "left": null,
            "margin": null,
            "max_height": null,
            "max_width": null,
            "min_height": null,
            "min_width": null,
            "object_fit": null,
            "object_position": null,
            "order": null,
            "overflow": null,
            "overflow_x": null,
            "overflow_y": null,
            "padding": null,
            "right": null,
            "top": null,
            "visibility": null,
            "width": null
          }
        },
        "c5f322b12a314c2cb0e5d87d85392262": {
          "model_module": "@jupyter-widgets/controls",
          "model_name": "ProgressStyleModel",
          "model_module_version": "1.5.0",
          "state": {
            "_model_module": "@jupyter-widgets/controls",
            "_model_module_version": "1.5.0",
            "_model_name": "ProgressStyleModel",
            "_view_count": null,
            "_view_module": "@jupyter-widgets/base",
            "_view_module_version": "1.2.0",
            "_view_name": "StyleView",
            "bar_color": null,
            "description_width": ""
          }
        },
        "35465b4b0cfd405193c77951f7d4e47f": {
          "model_module": "@jupyter-widgets/base",
          "model_name": "LayoutModel",
          "model_module_version": "1.2.0",
          "state": {
            "_model_module": "@jupyter-widgets/base",
            "_model_module_version": "1.2.0",
            "_model_name": "LayoutModel",
            "_view_count": null,
            "_view_module": "@jupyter-widgets/base",
            "_view_module_version": "1.2.0",
            "_view_name": "LayoutView",
            "align_content": null,
            "align_items": null,
            "align_self": null,
            "border": null,
            "bottom": null,
            "display": null,
            "flex": null,
            "flex_flow": null,
            "grid_area": null,
            "grid_auto_columns": null,
            "grid_auto_flow": null,
            "grid_auto_rows": null,
            "grid_column": null,
            "grid_gap": null,
            "grid_row": null,
            "grid_template_areas": null,
            "grid_template_columns": null,
            "grid_template_rows": null,
            "height": null,
            "justify_content": null,
            "justify_items": null,
            "left": null,
            "margin": null,
            "max_height": null,
            "max_width": null,
            "min_height": null,
            "min_width": null,
            "object_fit": null,
            "object_position": null,
            "order": null,
            "overflow": null,
            "overflow_x": null,
            "overflow_y": null,
            "padding": null,
            "right": null,
            "top": null,
            "visibility": null,
            "width": null
          }
        },
        "d6035b25409d4cea9e79860731fee0d0": {
          "model_module": "@jupyter-widgets/controls",
          "model_name": "DescriptionStyleModel",
          "model_module_version": "1.5.0",
          "state": {
            "_model_module": "@jupyter-widgets/controls",
            "_model_module_version": "1.5.0",
            "_model_name": "DescriptionStyleModel",
            "_view_count": null,
            "_view_module": "@jupyter-widgets/base",
            "_view_module_version": "1.2.0",
            "_view_name": "StyleView",
            "description_width": ""
          }
        },
        "5497b61e471e4f1bac2adaba51b9f5ec": {
          "model_module": "@jupyter-widgets/controls",
          "model_name": "HBoxModel",
          "model_module_version": "1.5.0",
          "state": {
            "_dom_classes": [],
            "_model_module": "@jupyter-widgets/controls",
            "_model_module_version": "1.5.0",
            "_model_name": "HBoxModel",
            "_view_count": null,
            "_view_module": "@jupyter-widgets/controls",
            "_view_module_version": "1.5.0",
            "_view_name": "HBoxView",
            "box_style": "",
            "children": [
              "IPY_MODEL_5968cc0729ae427d955e2f2a35cf75fd",
              "IPY_MODEL_a1b981f1cae74d4b9c6b9ba9c3b5f382",
              "IPY_MODEL_87a3045a572b4369bbda34154897b0b0"
            ],
            "layout": "IPY_MODEL_aaf04335f0324147a3f688d129f4a073"
          }
        },
        "5968cc0729ae427d955e2f2a35cf75fd": {
          "model_module": "@jupyter-widgets/controls",
          "model_name": "HTMLModel",
          "model_module_version": "1.5.0",
          "state": {
            "_dom_classes": [],
            "_model_module": "@jupyter-widgets/controls",
            "_model_module_version": "1.5.0",
            "_model_name": "HTMLModel",
            "_view_count": null,
            "_view_module": "@jupyter-widgets/controls",
            "_view_module_version": "1.5.0",
            "_view_name": "HTMLView",
            "description": "",
            "description_tooltip": null,
            "layout": "IPY_MODEL_7d345718679949f4a5cb19850a6449e5",
            "placeholder": "​",
            "style": "IPY_MODEL_c439a34ffc5e4e659df2184ae5754059",
            "value": "AutoPGD - iteration: 100%"
          }
        },
        "a1b981f1cae74d4b9c6b9ba9c3b5f382": {
          "model_module": "@jupyter-widgets/controls",
          "model_name": "FloatProgressModel",
          "model_module_version": "1.5.0",
          "state": {
            "_dom_classes": [],
            "_model_module": "@jupyter-widgets/controls",
            "_model_module_version": "1.5.0",
            "_model_name": "FloatProgressModel",
            "_view_count": null,
            "_view_module": "@jupyter-widgets/controls",
            "_view_module_version": "1.5.0",
            "_view_name": "ProgressView",
            "bar_style": "",
            "description": "",
            "description_tooltip": null,
            "layout": "IPY_MODEL_3c8bf37c55414c11b1350ad6aa6ecde0",
            "max": 10,
            "min": 0,
            "orientation": "horizontal",
            "style": "IPY_MODEL_ccc6bee745f34da7bdb247efc6427fde",
            "value": 10
          }
        },
        "87a3045a572b4369bbda34154897b0b0": {
          "model_module": "@jupyter-widgets/controls",
          "model_name": "HTMLModel",
          "model_module_version": "1.5.0",
          "state": {
            "_dom_classes": [],
            "_model_module": "@jupyter-widgets/controls",
            "_model_module_version": "1.5.0",
            "_model_name": "HTMLModel",
            "_view_count": null,
            "_view_module": "@jupyter-widgets/controls",
            "_view_module_version": "1.5.0",
            "_view_name": "HTMLView",
            "description": "",
            "description_tooltip": null,
            "layout": "IPY_MODEL_df87c00e456b454cafd984c86d1abdde",
            "placeholder": "​",
            "style": "IPY_MODEL_deaf0686289a434eb7dc20c35a7ae50d",
            "value": " 10/10 [00:34&lt;00:00,  3.44s/it]"
          }
        },
        "aaf04335f0324147a3f688d129f4a073": {
          "model_module": "@jupyter-widgets/base",
          "model_name": "LayoutModel",
          "model_module_version": "1.2.0",
          "state": {
            "_model_module": "@jupyter-widgets/base",
            "_model_module_version": "1.2.0",
            "_model_name": "LayoutModel",
            "_view_count": null,
            "_view_module": "@jupyter-widgets/base",
            "_view_module_version": "1.2.0",
            "_view_name": "LayoutView",
            "align_content": null,
            "align_items": null,
            "align_self": null,
            "border": null,
            "bottom": null,
            "display": null,
            "flex": null,
            "flex_flow": null,
            "grid_area": null,
            "grid_auto_columns": null,
            "grid_auto_flow": null,
            "grid_auto_rows": null,
            "grid_column": null,
            "grid_gap": null,
            "grid_row": null,
            "grid_template_areas": null,
            "grid_template_columns": null,
            "grid_template_rows": null,
            "height": null,
            "justify_content": null,
            "justify_items": null,
            "left": null,
            "margin": null,
            "max_height": null,
            "max_width": null,
            "min_height": null,
            "min_width": null,
            "object_fit": null,
            "object_position": null,
            "order": null,
            "overflow": null,
            "overflow_x": null,
            "overflow_y": null,
            "padding": null,
            "right": null,
            "top": null,
            "visibility": null,
            "width": null
          }
        },
        "7d345718679949f4a5cb19850a6449e5": {
          "model_module": "@jupyter-widgets/base",
          "model_name": "LayoutModel",
          "model_module_version": "1.2.0",
          "state": {
            "_model_module": "@jupyter-widgets/base",
            "_model_module_version": "1.2.0",
            "_model_name": "LayoutModel",
            "_view_count": null,
            "_view_module": "@jupyter-widgets/base",
            "_view_module_version": "1.2.0",
            "_view_name": "LayoutView",
            "align_content": null,
            "align_items": null,
            "align_self": null,
            "border": null,
            "bottom": null,
            "display": null,
            "flex": null,
            "flex_flow": null,
            "grid_area": null,
            "grid_auto_columns": null,
            "grid_auto_flow": null,
            "grid_auto_rows": null,
            "grid_column": null,
            "grid_gap": null,
            "grid_row": null,
            "grid_template_areas": null,
            "grid_template_columns": null,
            "grid_template_rows": null,
            "height": null,
            "justify_content": null,
            "justify_items": null,
            "left": null,
            "margin": null,
            "max_height": null,
            "max_width": null,
            "min_height": null,
            "min_width": null,
            "object_fit": null,
            "object_position": null,
            "order": null,
            "overflow": null,
            "overflow_x": null,
            "overflow_y": null,
            "padding": null,
            "right": null,
            "top": null,
            "visibility": null,
            "width": null
          }
        },
        "c439a34ffc5e4e659df2184ae5754059": {
          "model_module": "@jupyter-widgets/controls",
          "model_name": "DescriptionStyleModel",
          "model_module_version": "1.5.0",
          "state": {
            "_model_module": "@jupyter-widgets/controls",
            "_model_module_version": "1.5.0",
            "_model_name": "DescriptionStyleModel",
            "_view_count": null,
            "_view_module": "@jupyter-widgets/base",
            "_view_module_version": "1.2.0",
            "_view_name": "StyleView",
            "description_width": ""
          }
        },
        "3c8bf37c55414c11b1350ad6aa6ecde0": {
          "model_module": "@jupyter-widgets/base",
          "model_name": "LayoutModel",
          "model_module_version": "1.2.0",
          "state": {
            "_model_module": "@jupyter-widgets/base",
            "_model_module_version": "1.2.0",
            "_model_name": "LayoutModel",
            "_view_count": null,
            "_view_module": "@jupyter-widgets/base",
            "_view_module_version": "1.2.0",
            "_view_name": "LayoutView",
            "align_content": null,
            "align_items": null,
            "align_self": null,
            "border": null,
            "bottom": null,
            "display": null,
            "flex": null,
            "flex_flow": null,
            "grid_area": null,
            "grid_auto_columns": null,
            "grid_auto_flow": null,
            "grid_auto_rows": null,
            "grid_column": null,
            "grid_gap": null,
            "grid_row": null,
            "grid_template_areas": null,
            "grid_template_columns": null,
            "grid_template_rows": null,
            "height": null,
            "justify_content": null,
            "justify_items": null,
            "left": null,
            "margin": null,
            "max_height": null,
            "max_width": null,
            "min_height": null,
            "min_width": null,
            "object_fit": null,
            "object_position": null,
            "order": null,
            "overflow": null,
            "overflow_x": null,
            "overflow_y": null,
            "padding": null,
            "right": null,
            "top": null,
            "visibility": null,
            "width": null
          }
        },
        "ccc6bee745f34da7bdb247efc6427fde": {
          "model_module": "@jupyter-widgets/controls",
          "model_name": "ProgressStyleModel",
          "model_module_version": "1.5.0",
          "state": {
            "_model_module": "@jupyter-widgets/controls",
            "_model_module_version": "1.5.0",
            "_model_name": "ProgressStyleModel",
            "_view_count": null,
            "_view_module": "@jupyter-widgets/base",
            "_view_module_version": "1.2.0",
            "_view_name": "StyleView",
            "bar_color": null,
            "description_width": ""
          }
        },
        "df87c00e456b454cafd984c86d1abdde": {
          "model_module": "@jupyter-widgets/base",
          "model_name": "LayoutModel",
          "model_module_version": "1.2.0",
          "state": {
            "_model_module": "@jupyter-widgets/base",
            "_model_module_version": "1.2.0",
            "_model_name": "LayoutModel",
            "_view_count": null,
            "_view_module": "@jupyter-widgets/base",
            "_view_module_version": "1.2.0",
            "_view_name": "LayoutView",
            "align_content": null,
            "align_items": null,
            "align_self": null,
            "border": null,
            "bottom": null,
            "display": null,
            "flex": null,
            "flex_flow": null,
            "grid_area": null,
            "grid_auto_columns": null,
            "grid_auto_flow": null,
            "grid_auto_rows": null,
            "grid_column": null,
            "grid_gap": null,
            "grid_row": null,
            "grid_template_areas": null,
            "grid_template_columns": null,
            "grid_template_rows": null,
            "height": null,
            "justify_content": null,
            "justify_items": null,
            "left": null,
            "margin": null,
            "max_height": null,
            "max_width": null,
            "min_height": null,
            "min_width": null,
            "object_fit": null,
            "object_position": null,
            "order": null,
            "overflow": null,
            "overflow_x": null,
            "overflow_y": null,
            "padding": null,
            "right": null,
            "top": null,
            "visibility": null,
            "width": null
          }
        },
        "deaf0686289a434eb7dc20c35a7ae50d": {
          "model_module": "@jupyter-widgets/controls",
          "model_name": "DescriptionStyleModel",
          "model_module_version": "1.5.0",
          "state": {
            "_model_module": "@jupyter-widgets/controls",
            "_model_module_version": "1.5.0",
            "_model_name": "DescriptionStyleModel",
            "_view_count": null,
            "_view_module": "@jupyter-widgets/base",
            "_view_module_version": "1.2.0",
            "_view_name": "StyleView",
            "description_width": ""
          }
        },
        "a57bd8804a6b4cf1a4fb20adf6e60a65": {
          "model_module": "@jupyter-widgets/controls",
          "model_name": "HBoxModel",
          "model_module_version": "1.5.0",
          "state": {
            "_dom_classes": [],
            "_model_module": "@jupyter-widgets/controls",
            "_model_module_version": "1.5.0",
            "_model_name": "HBoxModel",
            "_view_count": null,
            "_view_module": "@jupyter-widgets/controls",
            "_view_module_version": "1.5.0",
            "_view_name": "HBoxView",
            "box_style": "",
            "children": [
              "IPY_MODEL_3a545a7f0cd7498ca9d6fe9cea614aba",
              "IPY_MODEL_1a912d7c6e764b8f856c6846b20cf01a",
              "IPY_MODEL_efb44d87afeb4c15941a11a50001ad4a"
            ],
            "layout": "IPY_MODEL_de4885d6e044433bbc002b3fcee72964"
          }
        },
        "3a545a7f0cd7498ca9d6fe9cea614aba": {
          "model_module": "@jupyter-widgets/controls",
          "model_name": "HTMLModel",
          "model_module_version": "1.5.0",
          "state": {
            "_dom_classes": [],
            "_model_module": "@jupyter-widgets/controls",
            "_model_module_version": "1.5.0",
            "_model_name": "HTMLModel",
            "_view_count": null,
            "_view_module": "@jupyter-widgets/controls",
            "_view_module_version": "1.5.0",
            "_view_name": "HTMLView",
            "description": "",
            "description_tooltip": null,
            "layout": "IPY_MODEL_2dcf19bf7a8a41fe8f1bf97969919d6c",
            "placeholder": "​",
            "style": "IPY_MODEL_25f0741499d34f6eb8e72d4b037647ab",
            "value": "AutoPGD - iteration: 100%"
          }
        },
        "1a912d7c6e764b8f856c6846b20cf01a": {
          "model_module": "@jupyter-widgets/controls",
          "model_name": "FloatProgressModel",
          "model_module_version": "1.5.0",
          "state": {
            "_dom_classes": [],
            "_model_module": "@jupyter-widgets/controls",
            "_model_module_version": "1.5.0",
            "_model_name": "FloatProgressModel",
            "_view_count": null,
            "_view_module": "@jupyter-widgets/controls",
            "_view_module_version": "1.5.0",
            "_view_name": "ProgressView",
            "bar_style": "",
            "description": "",
            "description_tooltip": null,
            "layout": "IPY_MODEL_d41d3491002f48b5badaa7580f05dd97",
            "max": 10,
            "min": 0,
            "orientation": "horizontal",
            "style": "IPY_MODEL_ea024871480f44b3970740e70dc0ea60",
            "value": 10
          }
        },
        "efb44d87afeb4c15941a11a50001ad4a": {
          "model_module": "@jupyter-widgets/controls",
          "model_name": "HTMLModel",
          "model_module_version": "1.5.0",
          "state": {
            "_dom_classes": [],
            "_model_module": "@jupyter-widgets/controls",
            "_model_module_version": "1.5.0",
            "_model_name": "HTMLModel",
            "_view_count": null,
            "_view_module": "@jupyter-widgets/controls",
            "_view_module_version": "1.5.0",
            "_view_name": "HTMLView",
            "description": "",
            "description_tooltip": null,
            "layout": "IPY_MODEL_4920bfd9a59d41d4ad69bc4357562ebe",
            "placeholder": "​",
            "style": "IPY_MODEL_4e3136a612f34bdc9755427d273b9418",
            "value": " 10/10 [00:35&lt;00:00,  3.45s/it]"
          }
        },
        "de4885d6e044433bbc002b3fcee72964": {
          "model_module": "@jupyter-widgets/base",
          "model_name": "LayoutModel",
          "model_module_version": "1.2.0",
          "state": {
            "_model_module": "@jupyter-widgets/base",
            "_model_module_version": "1.2.0",
            "_model_name": "LayoutModel",
            "_view_count": null,
            "_view_module": "@jupyter-widgets/base",
            "_view_module_version": "1.2.0",
            "_view_name": "LayoutView",
            "align_content": null,
            "align_items": null,
            "align_self": null,
            "border": null,
            "bottom": null,
            "display": null,
            "flex": null,
            "flex_flow": null,
            "grid_area": null,
            "grid_auto_columns": null,
            "grid_auto_flow": null,
            "grid_auto_rows": null,
            "grid_column": null,
            "grid_gap": null,
            "grid_row": null,
            "grid_template_areas": null,
            "grid_template_columns": null,
            "grid_template_rows": null,
            "height": null,
            "justify_content": null,
            "justify_items": null,
            "left": null,
            "margin": null,
            "max_height": null,
            "max_width": null,
            "min_height": null,
            "min_width": null,
            "object_fit": null,
            "object_position": null,
            "order": null,
            "overflow": null,
            "overflow_x": null,
            "overflow_y": null,
            "padding": null,
            "right": null,
            "top": null,
            "visibility": null,
            "width": null
          }
        },
        "2dcf19bf7a8a41fe8f1bf97969919d6c": {
          "model_module": "@jupyter-widgets/base",
          "model_name": "LayoutModel",
          "model_module_version": "1.2.0",
          "state": {
            "_model_module": "@jupyter-widgets/base",
            "_model_module_version": "1.2.0",
            "_model_name": "LayoutModel",
            "_view_count": null,
            "_view_module": "@jupyter-widgets/base",
            "_view_module_version": "1.2.0",
            "_view_name": "LayoutView",
            "align_content": null,
            "align_items": null,
            "align_self": null,
            "border": null,
            "bottom": null,
            "display": null,
            "flex": null,
            "flex_flow": null,
            "grid_area": null,
            "grid_auto_columns": null,
            "grid_auto_flow": null,
            "grid_auto_rows": null,
            "grid_column": null,
            "grid_gap": null,
            "grid_row": null,
            "grid_template_areas": null,
            "grid_template_columns": null,
            "grid_template_rows": null,
            "height": null,
            "justify_content": null,
            "justify_items": null,
            "left": null,
            "margin": null,
            "max_height": null,
            "max_width": null,
            "min_height": null,
            "min_width": null,
            "object_fit": null,
            "object_position": null,
            "order": null,
            "overflow": null,
            "overflow_x": null,
            "overflow_y": null,
            "padding": null,
            "right": null,
            "top": null,
            "visibility": null,
            "width": null
          }
        },
        "25f0741499d34f6eb8e72d4b037647ab": {
          "model_module": "@jupyter-widgets/controls",
          "model_name": "DescriptionStyleModel",
          "model_module_version": "1.5.0",
          "state": {
            "_model_module": "@jupyter-widgets/controls",
            "_model_module_version": "1.5.0",
            "_model_name": "DescriptionStyleModel",
            "_view_count": null,
            "_view_module": "@jupyter-widgets/base",
            "_view_module_version": "1.2.0",
            "_view_name": "StyleView",
            "description_width": ""
          }
        },
        "d41d3491002f48b5badaa7580f05dd97": {
          "model_module": "@jupyter-widgets/base",
          "model_name": "LayoutModel",
          "model_module_version": "1.2.0",
          "state": {
            "_model_module": "@jupyter-widgets/base",
            "_model_module_version": "1.2.0",
            "_model_name": "LayoutModel",
            "_view_count": null,
            "_view_module": "@jupyter-widgets/base",
            "_view_module_version": "1.2.0",
            "_view_name": "LayoutView",
            "align_content": null,
            "align_items": null,
            "align_self": null,
            "border": null,
            "bottom": null,
            "display": null,
            "flex": null,
            "flex_flow": null,
            "grid_area": null,
            "grid_auto_columns": null,
            "grid_auto_flow": null,
            "grid_auto_rows": null,
            "grid_column": null,
            "grid_gap": null,
            "grid_row": null,
            "grid_template_areas": null,
            "grid_template_columns": null,
            "grid_template_rows": null,
            "height": null,
            "justify_content": null,
            "justify_items": null,
            "left": null,
            "margin": null,
            "max_height": null,
            "max_width": null,
            "min_height": null,
            "min_width": null,
            "object_fit": null,
            "object_position": null,
            "order": null,
            "overflow": null,
            "overflow_x": null,
            "overflow_y": null,
            "padding": null,
            "right": null,
            "top": null,
            "visibility": null,
            "width": null
          }
        },
        "ea024871480f44b3970740e70dc0ea60": {
          "model_module": "@jupyter-widgets/controls",
          "model_name": "ProgressStyleModel",
          "model_module_version": "1.5.0",
          "state": {
            "_model_module": "@jupyter-widgets/controls",
            "_model_module_version": "1.5.0",
            "_model_name": "ProgressStyleModel",
            "_view_count": null,
            "_view_module": "@jupyter-widgets/base",
            "_view_module_version": "1.2.0",
            "_view_name": "StyleView",
            "bar_color": null,
            "description_width": ""
          }
        },
        "4920bfd9a59d41d4ad69bc4357562ebe": {
          "model_module": "@jupyter-widgets/base",
          "model_name": "LayoutModel",
          "model_module_version": "1.2.0",
          "state": {
            "_model_module": "@jupyter-widgets/base",
            "_model_module_version": "1.2.0",
            "_model_name": "LayoutModel",
            "_view_count": null,
            "_view_module": "@jupyter-widgets/base",
            "_view_module_version": "1.2.0",
            "_view_name": "LayoutView",
            "align_content": null,
            "align_items": null,
            "align_self": null,
            "border": null,
            "bottom": null,
            "display": null,
            "flex": null,
            "flex_flow": null,
            "grid_area": null,
            "grid_auto_columns": null,
            "grid_auto_flow": null,
            "grid_auto_rows": null,
            "grid_column": null,
            "grid_gap": null,
            "grid_row": null,
            "grid_template_areas": null,
            "grid_template_columns": null,
            "grid_template_rows": null,
            "height": null,
            "justify_content": null,
            "justify_items": null,
            "left": null,
            "margin": null,
            "max_height": null,
            "max_width": null,
            "min_height": null,
            "min_width": null,
            "object_fit": null,
            "object_position": null,
            "order": null,
            "overflow": null,
            "overflow_x": null,
            "overflow_y": null,
            "padding": null,
            "right": null,
            "top": null,
            "visibility": null,
            "width": null
          }
        },
        "4e3136a612f34bdc9755427d273b9418": {
          "model_module": "@jupyter-widgets/controls",
          "model_name": "DescriptionStyleModel",
          "model_module_version": "1.5.0",
          "state": {
            "_model_module": "@jupyter-widgets/controls",
            "_model_module_version": "1.5.0",
            "_model_name": "DescriptionStyleModel",
            "_view_count": null,
            "_view_module": "@jupyter-widgets/base",
            "_view_module_version": "1.2.0",
            "_view_name": "StyleView",
            "description_width": ""
          }
        },
        "0c417787d2064def89fb2732d6b06fda": {
          "model_module": "@jupyter-widgets/controls",
          "model_name": "HBoxModel",
          "model_module_version": "1.5.0",
          "state": {
            "_dom_classes": [],
            "_model_module": "@jupyter-widgets/controls",
            "_model_module_version": "1.5.0",
            "_model_name": "HBoxModel",
            "_view_count": null,
            "_view_module": "@jupyter-widgets/controls",
            "_view_module_version": "1.5.0",
            "_view_name": "HBoxView",
            "box_style": "",
            "children": [
              "IPY_MODEL_f155322e18b643769206a82b78c0f77e",
              "IPY_MODEL_51169e3e95fc4260a47a9e0f09ef0c54",
              "IPY_MODEL_528ca3e92cf242bea3976ecef4ce8e20"
            ],
            "layout": "IPY_MODEL_7b7c33bb9aca4a58b79c6540145ce91b"
          }
        },
        "f155322e18b643769206a82b78c0f77e": {
          "model_module": "@jupyter-widgets/controls",
          "model_name": "HTMLModel",
          "model_module_version": "1.5.0",
          "state": {
            "_dom_classes": [],
            "_model_module": "@jupyter-widgets/controls",
            "_model_module_version": "1.5.0",
            "_model_name": "HTMLModel",
            "_view_count": null,
            "_view_module": "@jupyter-widgets/controls",
            "_view_module_version": "1.5.0",
            "_view_name": "HTMLView",
            "description": "",
            "description_tooltip": null,
            "layout": "IPY_MODEL_a2e103d4ead04a1a8d5426daf7a413d9",
            "placeholder": "​",
            "style": "IPY_MODEL_6019cdfe11a04327adf9d01242a7a03e",
            "value": "AutoPGD - batch: 100%"
          }
        },
        "51169e3e95fc4260a47a9e0f09ef0c54": {
          "model_module": "@jupyter-widgets/controls",
          "model_name": "FloatProgressModel",
          "model_module_version": "1.5.0",
          "state": {
            "_dom_classes": [],
            "_model_module": "@jupyter-widgets/controls",
            "_model_module_version": "1.5.0",
            "_model_name": "FloatProgressModel",
            "_view_count": null,
            "_view_module": "@jupyter-widgets/controls",
            "_view_module_version": "1.5.0",
            "_view_name": "ProgressView",
            "bar_style": "",
            "description": "",
            "description_tooltip": null,
            "layout": "IPY_MODEL_a9fbe41f4b8941cb9476be57ed2a83b1",
            "max": 1,
            "min": 0,
            "orientation": "horizontal",
            "style": "IPY_MODEL_d2b2b01d4793437ea37d4938150a1ae4",
            "value": 1
          }
        },
        "528ca3e92cf242bea3976ecef4ce8e20": {
          "model_module": "@jupyter-widgets/controls",
          "model_name": "HTMLModel",
          "model_module_version": "1.5.0",
          "state": {
            "_dom_classes": [],
            "_model_module": "@jupyter-widgets/controls",
            "_model_module_version": "1.5.0",
            "_model_name": "HTMLModel",
            "_view_count": null,
            "_view_module": "@jupyter-widgets/controls",
            "_view_module_version": "1.5.0",
            "_view_name": "HTMLView",
            "description": "",
            "description_tooltip": null,
            "layout": "IPY_MODEL_a47e017b5ed247e9bc83d7b497fae29b",
            "placeholder": "​",
            "style": "IPY_MODEL_78284727cb4244e9b68091cfc18f7562",
            "value": " 1/1 [00:28&lt;00:00, 28.82s/it]"
          }
        },
        "7b7c33bb9aca4a58b79c6540145ce91b": {
          "model_module": "@jupyter-widgets/base",
          "model_name": "LayoutModel",
          "model_module_version": "1.2.0",
          "state": {
            "_model_module": "@jupyter-widgets/base",
            "_model_module_version": "1.2.0",
            "_model_name": "LayoutModel",
            "_view_count": null,
            "_view_module": "@jupyter-widgets/base",
            "_view_module_version": "1.2.0",
            "_view_name": "LayoutView",
            "align_content": null,
            "align_items": null,
            "align_self": null,
            "border": null,
            "bottom": null,
            "display": null,
            "flex": null,
            "flex_flow": null,
            "grid_area": null,
            "grid_auto_columns": null,
            "grid_auto_flow": null,
            "grid_auto_rows": null,
            "grid_column": null,
            "grid_gap": null,
            "grid_row": null,
            "grid_template_areas": null,
            "grid_template_columns": null,
            "grid_template_rows": null,
            "height": null,
            "justify_content": null,
            "justify_items": null,
            "left": null,
            "margin": null,
            "max_height": null,
            "max_width": null,
            "min_height": null,
            "min_width": null,
            "object_fit": null,
            "object_position": null,
            "order": null,
            "overflow": null,
            "overflow_x": null,
            "overflow_y": null,
            "padding": null,
            "right": null,
            "top": null,
            "visibility": null,
            "width": null
          }
        },
        "a2e103d4ead04a1a8d5426daf7a413d9": {
          "model_module": "@jupyter-widgets/base",
          "model_name": "LayoutModel",
          "model_module_version": "1.2.0",
          "state": {
            "_model_module": "@jupyter-widgets/base",
            "_model_module_version": "1.2.0",
            "_model_name": "LayoutModel",
            "_view_count": null,
            "_view_module": "@jupyter-widgets/base",
            "_view_module_version": "1.2.0",
            "_view_name": "LayoutView",
            "align_content": null,
            "align_items": null,
            "align_self": null,
            "border": null,
            "bottom": null,
            "display": null,
            "flex": null,
            "flex_flow": null,
            "grid_area": null,
            "grid_auto_columns": null,
            "grid_auto_flow": null,
            "grid_auto_rows": null,
            "grid_column": null,
            "grid_gap": null,
            "grid_row": null,
            "grid_template_areas": null,
            "grid_template_columns": null,
            "grid_template_rows": null,
            "height": null,
            "justify_content": null,
            "justify_items": null,
            "left": null,
            "margin": null,
            "max_height": null,
            "max_width": null,
            "min_height": null,
            "min_width": null,
            "object_fit": null,
            "object_position": null,
            "order": null,
            "overflow": null,
            "overflow_x": null,
            "overflow_y": null,
            "padding": null,
            "right": null,
            "top": null,
            "visibility": null,
            "width": null
          }
        },
        "6019cdfe11a04327adf9d01242a7a03e": {
          "model_module": "@jupyter-widgets/controls",
          "model_name": "DescriptionStyleModel",
          "model_module_version": "1.5.0",
          "state": {
            "_model_module": "@jupyter-widgets/controls",
            "_model_module_version": "1.5.0",
            "_model_name": "DescriptionStyleModel",
            "_view_count": null,
            "_view_module": "@jupyter-widgets/base",
            "_view_module_version": "1.2.0",
            "_view_name": "StyleView",
            "description_width": ""
          }
        },
        "a9fbe41f4b8941cb9476be57ed2a83b1": {
          "model_module": "@jupyter-widgets/base",
          "model_name": "LayoutModel",
          "model_module_version": "1.2.0",
          "state": {
            "_model_module": "@jupyter-widgets/base",
            "_model_module_version": "1.2.0",
            "_model_name": "LayoutModel",
            "_view_count": null,
            "_view_module": "@jupyter-widgets/base",
            "_view_module_version": "1.2.0",
            "_view_name": "LayoutView",
            "align_content": null,
            "align_items": null,
            "align_self": null,
            "border": null,
            "bottom": null,
            "display": null,
            "flex": null,
            "flex_flow": null,
            "grid_area": null,
            "grid_auto_columns": null,
            "grid_auto_flow": null,
            "grid_auto_rows": null,
            "grid_column": null,
            "grid_gap": null,
            "grid_row": null,
            "grid_template_areas": null,
            "grid_template_columns": null,
            "grid_template_rows": null,
            "height": null,
            "justify_content": null,
            "justify_items": null,
            "left": null,
            "margin": null,
            "max_height": null,
            "max_width": null,
            "min_height": null,
            "min_width": null,
            "object_fit": null,
            "object_position": null,
            "order": null,
            "overflow": null,
            "overflow_x": null,
            "overflow_y": null,
            "padding": null,
            "right": null,
            "top": null,
            "visibility": null,
            "width": null
          }
        },
        "d2b2b01d4793437ea37d4938150a1ae4": {
          "model_module": "@jupyter-widgets/controls",
          "model_name": "ProgressStyleModel",
          "model_module_version": "1.5.0",
          "state": {
            "_model_module": "@jupyter-widgets/controls",
            "_model_module_version": "1.5.0",
            "_model_name": "ProgressStyleModel",
            "_view_count": null,
            "_view_module": "@jupyter-widgets/base",
            "_view_module_version": "1.2.0",
            "_view_name": "StyleView",
            "bar_color": null,
            "description_width": ""
          }
        },
        "a47e017b5ed247e9bc83d7b497fae29b": {
          "model_module": "@jupyter-widgets/base",
          "model_name": "LayoutModel",
          "model_module_version": "1.2.0",
          "state": {
            "_model_module": "@jupyter-widgets/base",
            "_model_module_version": "1.2.0",
            "_model_name": "LayoutModel",
            "_view_count": null,
            "_view_module": "@jupyter-widgets/base",
            "_view_module_version": "1.2.0",
            "_view_name": "LayoutView",
            "align_content": null,
            "align_items": null,
            "align_self": null,
            "border": null,
            "bottom": null,
            "display": null,
            "flex": null,
            "flex_flow": null,
            "grid_area": null,
            "grid_auto_columns": null,
            "grid_auto_flow": null,
            "grid_auto_rows": null,
            "grid_column": null,
            "grid_gap": null,
            "grid_row": null,
            "grid_template_areas": null,
            "grid_template_columns": null,
            "grid_template_rows": null,
            "height": null,
            "justify_content": null,
            "justify_items": null,
            "left": null,
            "margin": null,
            "max_height": null,
            "max_width": null,
            "min_height": null,
            "min_width": null,
            "object_fit": null,
            "object_position": null,
            "order": null,
            "overflow": null,
            "overflow_x": null,
            "overflow_y": null,
            "padding": null,
            "right": null,
            "top": null,
            "visibility": null,
            "width": null
          }
        },
        "78284727cb4244e9b68091cfc18f7562": {
          "model_module": "@jupyter-widgets/controls",
          "model_name": "DescriptionStyleModel",
          "model_module_version": "1.5.0",
          "state": {
            "_model_module": "@jupyter-widgets/controls",
            "_model_module_version": "1.5.0",
            "_model_name": "DescriptionStyleModel",
            "_view_count": null,
            "_view_module": "@jupyter-widgets/base",
            "_view_module_version": "1.2.0",
            "_view_name": "StyleView",
            "description_width": ""
          }
        },
        "78d6159965ee44b5888fb42f79a9da27": {
          "model_module": "@jupyter-widgets/controls",
          "model_name": "HBoxModel",
          "model_module_version": "1.5.0",
          "state": {
            "_dom_classes": [],
            "_model_module": "@jupyter-widgets/controls",
            "_model_module_version": "1.5.0",
            "_model_name": "HBoxModel",
            "_view_count": null,
            "_view_module": "@jupyter-widgets/controls",
            "_view_module_version": "1.5.0",
            "_view_name": "HBoxView",
            "box_style": "",
            "children": [
              "IPY_MODEL_c3497759f8864eef888b1d474f33801b",
              "IPY_MODEL_45cca25c75a04dcaabd7780bec7b9751",
              "IPY_MODEL_da6876be602b40d38b4eccb31c48f11a"
            ],
            "layout": "IPY_MODEL_12448150c5af4583861967154eab2196"
          }
        },
        "c3497759f8864eef888b1d474f33801b": {
          "model_module": "@jupyter-widgets/controls",
          "model_name": "HTMLModel",
          "model_module_version": "1.5.0",
          "state": {
            "_dom_classes": [],
            "_model_module": "@jupyter-widgets/controls",
            "_model_module_version": "1.5.0",
            "_model_name": "HTMLModel",
            "_view_count": null,
            "_view_module": "@jupyter-widgets/controls",
            "_view_module_version": "1.5.0",
            "_view_name": "HTMLView",
            "description": "",
            "description_tooltip": null,
            "layout": "IPY_MODEL_aa0b0fdbfd124f979736b87aa511f524",
            "placeholder": "​",
            "style": "IPY_MODEL_30e3ea8cbd3f4889a8ca1ad5733b7195",
            "value": "AutoPGD - iteration: 100%"
          }
        },
        "45cca25c75a04dcaabd7780bec7b9751": {
          "model_module": "@jupyter-widgets/controls",
          "model_name": "FloatProgressModel",
          "model_module_version": "1.5.0",
          "state": {
            "_dom_classes": [],
            "_model_module": "@jupyter-widgets/controls",
            "_model_module_version": "1.5.0",
            "_model_name": "FloatProgressModel",
            "_view_count": null,
            "_view_module": "@jupyter-widgets/controls",
            "_view_module_version": "1.5.0",
            "_view_name": "ProgressView",
            "bar_style": "",
            "description": "",
            "description_tooltip": null,
            "layout": "IPY_MODEL_2db9df2c66cf41cba1369b12f55ec806",
            "max": 10,
            "min": 0,
            "orientation": "horizontal",
            "style": "IPY_MODEL_c8061897821e4efb9d74245385027498",
            "value": 10
          }
        },
        "da6876be602b40d38b4eccb31c48f11a": {
          "model_module": "@jupyter-widgets/controls",
          "model_name": "HTMLModel",
          "model_module_version": "1.5.0",
          "state": {
            "_dom_classes": [],
            "_model_module": "@jupyter-widgets/controls",
            "_model_module_version": "1.5.0",
            "_model_name": "HTMLModel",
            "_view_count": null,
            "_view_module": "@jupyter-widgets/controls",
            "_view_module_version": "1.5.0",
            "_view_name": "HTMLView",
            "description": "",
            "description_tooltip": null,
            "layout": "IPY_MODEL_aeff0ca36f354d828493998b9187e0ae",
            "placeholder": "​",
            "style": "IPY_MODEL_07ec52c929554bb69deaa56a19b2ee4a",
            "value": " 10/10 [00:28&lt;00:00,  2.78s/it]"
          }
        },
        "12448150c5af4583861967154eab2196": {
          "model_module": "@jupyter-widgets/base",
          "model_name": "LayoutModel",
          "model_module_version": "1.2.0",
          "state": {
            "_model_module": "@jupyter-widgets/base",
            "_model_module_version": "1.2.0",
            "_model_name": "LayoutModel",
            "_view_count": null,
            "_view_module": "@jupyter-widgets/base",
            "_view_module_version": "1.2.0",
            "_view_name": "LayoutView",
            "align_content": null,
            "align_items": null,
            "align_self": null,
            "border": null,
            "bottom": null,
            "display": null,
            "flex": null,
            "flex_flow": null,
            "grid_area": null,
            "grid_auto_columns": null,
            "grid_auto_flow": null,
            "grid_auto_rows": null,
            "grid_column": null,
            "grid_gap": null,
            "grid_row": null,
            "grid_template_areas": null,
            "grid_template_columns": null,
            "grid_template_rows": null,
            "height": null,
            "justify_content": null,
            "justify_items": null,
            "left": null,
            "margin": null,
            "max_height": null,
            "max_width": null,
            "min_height": null,
            "min_width": null,
            "object_fit": null,
            "object_position": null,
            "order": null,
            "overflow": null,
            "overflow_x": null,
            "overflow_y": null,
            "padding": null,
            "right": null,
            "top": null,
            "visibility": null,
            "width": null
          }
        },
        "aa0b0fdbfd124f979736b87aa511f524": {
          "model_module": "@jupyter-widgets/base",
          "model_name": "LayoutModel",
          "model_module_version": "1.2.0",
          "state": {
            "_model_module": "@jupyter-widgets/base",
            "_model_module_version": "1.2.0",
            "_model_name": "LayoutModel",
            "_view_count": null,
            "_view_module": "@jupyter-widgets/base",
            "_view_module_version": "1.2.0",
            "_view_name": "LayoutView",
            "align_content": null,
            "align_items": null,
            "align_self": null,
            "border": null,
            "bottom": null,
            "display": null,
            "flex": null,
            "flex_flow": null,
            "grid_area": null,
            "grid_auto_columns": null,
            "grid_auto_flow": null,
            "grid_auto_rows": null,
            "grid_column": null,
            "grid_gap": null,
            "grid_row": null,
            "grid_template_areas": null,
            "grid_template_columns": null,
            "grid_template_rows": null,
            "height": null,
            "justify_content": null,
            "justify_items": null,
            "left": null,
            "margin": null,
            "max_height": null,
            "max_width": null,
            "min_height": null,
            "min_width": null,
            "object_fit": null,
            "object_position": null,
            "order": null,
            "overflow": null,
            "overflow_x": null,
            "overflow_y": null,
            "padding": null,
            "right": null,
            "top": null,
            "visibility": null,
            "width": null
          }
        },
        "30e3ea8cbd3f4889a8ca1ad5733b7195": {
          "model_module": "@jupyter-widgets/controls",
          "model_name": "DescriptionStyleModel",
          "model_module_version": "1.5.0",
          "state": {
            "_model_module": "@jupyter-widgets/controls",
            "_model_module_version": "1.5.0",
            "_model_name": "DescriptionStyleModel",
            "_view_count": null,
            "_view_module": "@jupyter-widgets/base",
            "_view_module_version": "1.2.0",
            "_view_name": "StyleView",
            "description_width": ""
          }
        },
        "2db9df2c66cf41cba1369b12f55ec806": {
          "model_module": "@jupyter-widgets/base",
          "model_name": "LayoutModel",
          "model_module_version": "1.2.0",
          "state": {
            "_model_module": "@jupyter-widgets/base",
            "_model_module_version": "1.2.0",
            "_model_name": "LayoutModel",
            "_view_count": null,
            "_view_module": "@jupyter-widgets/base",
            "_view_module_version": "1.2.0",
            "_view_name": "LayoutView",
            "align_content": null,
            "align_items": null,
            "align_self": null,
            "border": null,
            "bottom": null,
            "display": null,
            "flex": null,
            "flex_flow": null,
            "grid_area": null,
            "grid_auto_columns": null,
            "grid_auto_flow": null,
            "grid_auto_rows": null,
            "grid_column": null,
            "grid_gap": null,
            "grid_row": null,
            "grid_template_areas": null,
            "grid_template_columns": null,
            "grid_template_rows": null,
            "height": null,
            "justify_content": null,
            "justify_items": null,
            "left": null,
            "margin": null,
            "max_height": null,
            "max_width": null,
            "min_height": null,
            "min_width": null,
            "object_fit": null,
            "object_position": null,
            "order": null,
            "overflow": null,
            "overflow_x": null,
            "overflow_y": null,
            "padding": null,
            "right": null,
            "top": null,
            "visibility": null,
            "width": null
          }
        },
        "c8061897821e4efb9d74245385027498": {
          "model_module": "@jupyter-widgets/controls",
          "model_name": "ProgressStyleModel",
          "model_module_version": "1.5.0",
          "state": {
            "_model_module": "@jupyter-widgets/controls",
            "_model_module_version": "1.5.0",
            "_model_name": "ProgressStyleModel",
            "_view_count": null,
            "_view_module": "@jupyter-widgets/base",
            "_view_module_version": "1.2.0",
            "_view_name": "StyleView",
            "bar_color": null,
            "description_width": ""
          }
        },
        "aeff0ca36f354d828493998b9187e0ae": {
          "model_module": "@jupyter-widgets/base",
          "model_name": "LayoutModel",
          "model_module_version": "1.2.0",
          "state": {
            "_model_module": "@jupyter-widgets/base",
            "_model_module_version": "1.2.0",
            "_model_name": "LayoutModel",
            "_view_count": null,
            "_view_module": "@jupyter-widgets/base",
            "_view_module_version": "1.2.0",
            "_view_name": "LayoutView",
            "align_content": null,
            "align_items": null,
            "align_self": null,
            "border": null,
            "bottom": null,
            "display": null,
            "flex": null,
            "flex_flow": null,
            "grid_area": null,
            "grid_auto_columns": null,
            "grid_auto_flow": null,
            "grid_auto_rows": null,
            "grid_column": null,
            "grid_gap": null,
            "grid_row": null,
            "grid_template_areas": null,
            "grid_template_columns": null,
            "grid_template_rows": null,
            "height": null,
            "justify_content": null,
            "justify_items": null,
            "left": null,
            "margin": null,
            "max_height": null,
            "max_width": null,
            "min_height": null,
            "min_width": null,
            "object_fit": null,
            "object_position": null,
            "order": null,
            "overflow": null,
            "overflow_x": null,
            "overflow_y": null,
            "padding": null,
            "right": null,
            "top": null,
            "visibility": null,
            "width": null
          }
        },
        "07ec52c929554bb69deaa56a19b2ee4a": {
          "model_module": "@jupyter-widgets/controls",
          "model_name": "DescriptionStyleModel",
          "model_module_version": "1.5.0",
          "state": {
            "_model_module": "@jupyter-widgets/controls",
            "_model_module_version": "1.5.0",
            "_model_name": "DescriptionStyleModel",
            "_view_count": null,
            "_view_module": "@jupyter-widgets/base",
            "_view_module_version": "1.2.0",
            "_view_name": "StyleView",
            "description_width": ""
          }
        },
        "a042f079131340a5907fcf0093f7e721": {
          "model_module": "@jupyter-widgets/controls",
          "model_name": "HBoxModel",
          "model_module_version": "1.5.0",
          "state": {
            "_dom_classes": [],
            "_model_module": "@jupyter-widgets/controls",
            "_model_module_version": "1.5.0",
            "_model_name": "HBoxModel",
            "_view_count": null,
            "_view_module": "@jupyter-widgets/controls",
            "_view_module_version": "1.5.0",
            "_view_name": "HBoxView",
            "box_style": "",
            "children": [
              "IPY_MODEL_08474e36a314431f9bcfde79787a5728",
              "IPY_MODEL_d162a8fecbb74ea3a5fa4e0c9347ac1f",
              "IPY_MODEL_194177519b3d488ca24141509d0f21b0"
            ],
            "layout": "IPY_MODEL_dc88fe80ec6349deaffa8970ab8efd62"
          }
        },
        "08474e36a314431f9bcfde79787a5728": {
          "model_module": "@jupyter-widgets/controls",
          "model_name": "HTMLModel",
          "model_module_version": "1.5.0",
          "state": {
            "_dom_classes": [],
            "_model_module": "@jupyter-widgets/controls",
            "_model_module_version": "1.5.0",
            "_model_name": "HTMLModel",
            "_view_count": null,
            "_view_module": "@jupyter-widgets/controls",
            "_view_module_version": "1.5.0",
            "_view_name": "HTMLView",
            "description": "",
            "description_tooltip": null,
            "layout": "IPY_MODEL_90a4d57b3fd547ea9d375ecb7b058705",
            "placeholder": "​",
            "style": "IPY_MODEL_9900a3d68a614e23a457a962c687b677",
            "value": "AutoPGD - batch: 100%"
          }
        },
        "d162a8fecbb74ea3a5fa4e0c9347ac1f": {
          "model_module": "@jupyter-widgets/controls",
          "model_name": "FloatProgressModel",
          "model_module_version": "1.5.0",
          "state": {
            "_dom_classes": [],
            "_model_module": "@jupyter-widgets/controls",
            "_model_module_version": "1.5.0",
            "_model_name": "FloatProgressModel",
            "_view_count": null,
            "_view_module": "@jupyter-widgets/controls",
            "_view_module_version": "1.5.0",
            "_view_name": "ProgressView",
            "bar_style": "",
            "description": "",
            "description_tooltip": null,
            "layout": "IPY_MODEL_3b1fa650cae84f4399faa35588bc1199",
            "max": 1,
            "min": 0,
            "orientation": "horizontal",
            "style": "IPY_MODEL_19ee4a9b63c74061a7fd43b1b953c1c4",
            "value": 1
          }
        },
        "194177519b3d488ca24141509d0f21b0": {
          "model_module": "@jupyter-widgets/controls",
          "model_name": "HTMLModel",
          "model_module_version": "1.5.0",
          "state": {
            "_dom_classes": [],
            "_model_module": "@jupyter-widgets/controls",
            "_model_module_version": "1.5.0",
            "_model_name": "HTMLModel",
            "_view_count": null,
            "_view_module": "@jupyter-widgets/controls",
            "_view_module_version": "1.5.0",
            "_view_name": "HTMLView",
            "description": "",
            "description_tooltip": null,
            "layout": "IPY_MODEL_e13cdc6c0bcd45abbcf4c3b0106e4ad1",
            "placeholder": "​",
            "style": "IPY_MODEL_648f7aabe1c24056bc8850a95e199e38",
            "value": " 1/1 [00:28&lt;00:00, 28.23s/it]"
          }
        },
        "dc88fe80ec6349deaffa8970ab8efd62": {
          "model_module": "@jupyter-widgets/base",
          "model_name": "LayoutModel",
          "model_module_version": "1.2.0",
          "state": {
            "_model_module": "@jupyter-widgets/base",
            "_model_module_version": "1.2.0",
            "_model_name": "LayoutModel",
            "_view_count": null,
            "_view_module": "@jupyter-widgets/base",
            "_view_module_version": "1.2.0",
            "_view_name": "LayoutView",
            "align_content": null,
            "align_items": null,
            "align_self": null,
            "border": null,
            "bottom": null,
            "display": null,
            "flex": null,
            "flex_flow": null,
            "grid_area": null,
            "grid_auto_columns": null,
            "grid_auto_flow": null,
            "grid_auto_rows": null,
            "grid_column": null,
            "grid_gap": null,
            "grid_row": null,
            "grid_template_areas": null,
            "grid_template_columns": null,
            "grid_template_rows": null,
            "height": null,
            "justify_content": null,
            "justify_items": null,
            "left": null,
            "margin": null,
            "max_height": null,
            "max_width": null,
            "min_height": null,
            "min_width": null,
            "object_fit": null,
            "object_position": null,
            "order": null,
            "overflow": null,
            "overflow_x": null,
            "overflow_y": null,
            "padding": null,
            "right": null,
            "top": null,
            "visibility": null,
            "width": null
          }
        },
        "90a4d57b3fd547ea9d375ecb7b058705": {
          "model_module": "@jupyter-widgets/base",
          "model_name": "LayoutModel",
          "model_module_version": "1.2.0",
          "state": {
            "_model_module": "@jupyter-widgets/base",
            "_model_module_version": "1.2.0",
            "_model_name": "LayoutModel",
            "_view_count": null,
            "_view_module": "@jupyter-widgets/base",
            "_view_module_version": "1.2.0",
            "_view_name": "LayoutView",
            "align_content": null,
            "align_items": null,
            "align_self": null,
            "border": null,
            "bottom": null,
            "display": null,
            "flex": null,
            "flex_flow": null,
            "grid_area": null,
            "grid_auto_columns": null,
            "grid_auto_flow": null,
            "grid_auto_rows": null,
            "grid_column": null,
            "grid_gap": null,
            "grid_row": null,
            "grid_template_areas": null,
            "grid_template_columns": null,
            "grid_template_rows": null,
            "height": null,
            "justify_content": null,
            "justify_items": null,
            "left": null,
            "margin": null,
            "max_height": null,
            "max_width": null,
            "min_height": null,
            "min_width": null,
            "object_fit": null,
            "object_position": null,
            "order": null,
            "overflow": null,
            "overflow_x": null,
            "overflow_y": null,
            "padding": null,
            "right": null,
            "top": null,
            "visibility": null,
            "width": null
          }
        },
        "9900a3d68a614e23a457a962c687b677": {
          "model_module": "@jupyter-widgets/controls",
          "model_name": "DescriptionStyleModel",
          "model_module_version": "1.5.0",
          "state": {
            "_model_module": "@jupyter-widgets/controls",
            "_model_module_version": "1.5.0",
            "_model_name": "DescriptionStyleModel",
            "_view_count": null,
            "_view_module": "@jupyter-widgets/base",
            "_view_module_version": "1.2.0",
            "_view_name": "StyleView",
            "description_width": ""
          }
        },
        "3b1fa650cae84f4399faa35588bc1199": {
          "model_module": "@jupyter-widgets/base",
          "model_name": "LayoutModel",
          "model_module_version": "1.2.0",
          "state": {
            "_model_module": "@jupyter-widgets/base",
            "_model_module_version": "1.2.0",
            "_model_name": "LayoutModel",
            "_view_count": null,
            "_view_module": "@jupyter-widgets/base",
            "_view_module_version": "1.2.0",
            "_view_name": "LayoutView",
            "align_content": null,
            "align_items": null,
            "align_self": null,
            "border": null,
            "bottom": null,
            "display": null,
            "flex": null,
            "flex_flow": null,
            "grid_area": null,
            "grid_auto_columns": null,
            "grid_auto_flow": null,
            "grid_auto_rows": null,
            "grid_column": null,
            "grid_gap": null,
            "grid_row": null,
            "grid_template_areas": null,
            "grid_template_columns": null,
            "grid_template_rows": null,
            "height": null,
            "justify_content": null,
            "justify_items": null,
            "left": null,
            "margin": null,
            "max_height": null,
            "max_width": null,
            "min_height": null,
            "min_width": null,
            "object_fit": null,
            "object_position": null,
            "order": null,
            "overflow": null,
            "overflow_x": null,
            "overflow_y": null,
            "padding": null,
            "right": null,
            "top": null,
            "visibility": null,
            "width": null
          }
        },
        "19ee4a9b63c74061a7fd43b1b953c1c4": {
          "model_module": "@jupyter-widgets/controls",
          "model_name": "ProgressStyleModel",
          "model_module_version": "1.5.0",
          "state": {
            "_model_module": "@jupyter-widgets/controls",
            "_model_module_version": "1.5.0",
            "_model_name": "ProgressStyleModel",
            "_view_count": null,
            "_view_module": "@jupyter-widgets/base",
            "_view_module_version": "1.2.0",
            "_view_name": "StyleView",
            "bar_color": null,
            "description_width": ""
          }
        },
        "e13cdc6c0bcd45abbcf4c3b0106e4ad1": {
          "model_module": "@jupyter-widgets/base",
          "model_name": "LayoutModel",
          "model_module_version": "1.2.0",
          "state": {
            "_model_module": "@jupyter-widgets/base",
            "_model_module_version": "1.2.0",
            "_model_name": "LayoutModel",
            "_view_count": null,
            "_view_module": "@jupyter-widgets/base",
            "_view_module_version": "1.2.0",
            "_view_name": "LayoutView",
            "align_content": null,
            "align_items": null,
            "align_self": null,
            "border": null,
            "bottom": null,
            "display": null,
            "flex": null,
            "flex_flow": null,
            "grid_area": null,
            "grid_auto_columns": null,
            "grid_auto_flow": null,
            "grid_auto_rows": null,
            "grid_column": null,
            "grid_gap": null,
            "grid_row": null,
            "grid_template_areas": null,
            "grid_template_columns": null,
            "grid_template_rows": null,
            "height": null,
            "justify_content": null,
            "justify_items": null,
            "left": null,
            "margin": null,
            "max_height": null,
            "max_width": null,
            "min_height": null,
            "min_width": null,
            "object_fit": null,
            "object_position": null,
            "order": null,
            "overflow": null,
            "overflow_x": null,
            "overflow_y": null,
            "padding": null,
            "right": null,
            "top": null,
            "visibility": null,
            "width": null
          }
        },
        "648f7aabe1c24056bc8850a95e199e38": {
          "model_module": "@jupyter-widgets/controls",
          "model_name": "DescriptionStyleModel",
          "model_module_version": "1.5.0",
          "state": {
            "_model_module": "@jupyter-widgets/controls",
            "_model_module_version": "1.5.0",
            "_model_name": "DescriptionStyleModel",
            "_view_count": null,
            "_view_module": "@jupyter-widgets/base",
            "_view_module_version": "1.2.0",
            "_view_name": "StyleView",
            "description_width": ""
          }
        },
        "ee50eb6369484da88ead91d1f47f7eaf": {
          "model_module": "@jupyter-widgets/controls",
          "model_name": "HBoxModel",
          "model_module_version": "1.5.0",
          "state": {
            "_dom_classes": [],
            "_model_module": "@jupyter-widgets/controls",
            "_model_module_version": "1.5.0",
            "_model_name": "HBoxModel",
            "_view_count": null,
            "_view_module": "@jupyter-widgets/controls",
            "_view_module_version": "1.5.0",
            "_view_name": "HBoxView",
            "box_style": "",
            "children": [
              "IPY_MODEL_ca87724b1b8d400ab769e8c7f8da9f4d",
              "IPY_MODEL_63c26d1921b2480ab05c90c5bf9bfeac",
              "IPY_MODEL_c221e36edba34f559bba7f00fbe55e1d"
            ],
            "layout": "IPY_MODEL_c96764e99831432e9068b816e501ce0d"
          }
        },
        "ca87724b1b8d400ab769e8c7f8da9f4d": {
          "model_module": "@jupyter-widgets/controls",
          "model_name": "HTMLModel",
          "model_module_version": "1.5.0",
          "state": {
            "_dom_classes": [],
            "_model_module": "@jupyter-widgets/controls",
            "_model_module_version": "1.5.0",
            "_model_name": "HTMLModel",
            "_view_count": null,
            "_view_module": "@jupyter-widgets/controls",
            "_view_module_version": "1.5.0",
            "_view_name": "HTMLView",
            "description": "",
            "description_tooltip": null,
            "layout": "IPY_MODEL_457ba1cbc44b4540995d7d39e1b2b939",
            "placeholder": "​",
            "style": "IPY_MODEL_e49b3fab98e846b0aae4a3146bb694bb",
            "value": "AutoPGD - iteration: 100%"
          }
        },
        "63c26d1921b2480ab05c90c5bf9bfeac": {
          "model_module": "@jupyter-widgets/controls",
          "model_name": "FloatProgressModel",
          "model_module_version": "1.5.0",
          "state": {
            "_dom_classes": [],
            "_model_module": "@jupyter-widgets/controls",
            "_model_module_version": "1.5.0",
            "_model_name": "FloatProgressModel",
            "_view_count": null,
            "_view_module": "@jupyter-widgets/controls",
            "_view_module_version": "1.5.0",
            "_view_name": "ProgressView",
            "bar_style": "",
            "description": "",
            "description_tooltip": null,
            "layout": "IPY_MODEL_423770dc91b9497dad5d5f3f91a88d2d",
            "max": 10,
            "min": 0,
            "orientation": "horizontal",
            "style": "IPY_MODEL_b2a9dae61306432dabc7287cd1ed23ef",
            "value": 10
          }
        },
        "c221e36edba34f559bba7f00fbe55e1d": {
          "model_module": "@jupyter-widgets/controls",
          "model_name": "HTMLModel",
          "model_module_version": "1.5.0",
          "state": {
            "_dom_classes": [],
            "_model_module": "@jupyter-widgets/controls",
            "_model_module_version": "1.5.0",
            "_model_name": "HTMLModel",
            "_view_count": null,
            "_view_module": "@jupyter-widgets/controls",
            "_view_module_version": "1.5.0",
            "_view_name": "HTMLView",
            "description": "",
            "description_tooltip": null,
            "layout": "IPY_MODEL_0ef31bb85335450c96f6a9037bbb8136",
            "placeholder": "​",
            "style": "IPY_MODEL_b71b04d90001430d93395583148d4d8c",
            "value": " 10/10 [00:27&lt;00:00,  2.73s/it]"
          }
        },
        "c96764e99831432e9068b816e501ce0d": {
          "model_module": "@jupyter-widgets/base",
          "model_name": "LayoutModel",
          "model_module_version": "1.2.0",
          "state": {
            "_model_module": "@jupyter-widgets/base",
            "_model_module_version": "1.2.0",
            "_model_name": "LayoutModel",
            "_view_count": null,
            "_view_module": "@jupyter-widgets/base",
            "_view_module_version": "1.2.0",
            "_view_name": "LayoutView",
            "align_content": null,
            "align_items": null,
            "align_self": null,
            "border": null,
            "bottom": null,
            "display": null,
            "flex": null,
            "flex_flow": null,
            "grid_area": null,
            "grid_auto_columns": null,
            "grid_auto_flow": null,
            "grid_auto_rows": null,
            "grid_column": null,
            "grid_gap": null,
            "grid_row": null,
            "grid_template_areas": null,
            "grid_template_columns": null,
            "grid_template_rows": null,
            "height": null,
            "justify_content": null,
            "justify_items": null,
            "left": null,
            "margin": null,
            "max_height": null,
            "max_width": null,
            "min_height": null,
            "min_width": null,
            "object_fit": null,
            "object_position": null,
            "order": null,
            "overflow": null,
            "overflow_x": null,
            "overflow_y": null,
            "padding": null,
            "right": null,
            "top": null,
            "visibility": null,
            "width": null
          }
        },
        "457ba1cbc44b4540995d7d39e1b2b939": {
          "model_module": "@jupyter-widgets/base",
          "model_name": "LayoutModel",
          "model_module_version": "1.2.0",
          "state": {
            "_model_module": "@jupyter-widgets/base",
            "_model_module_version": "1.2.0",
            "_model_name": "LayoutModel",
            "_view_count": null,
            "_view_module": "@jupyter-widgets/base",
            "_view_module_version": "1.2.0",
            "_view_name": "LayoutView",
            "align_content": null,
            "align_items": null,
            "align_self": null,
            "border": null,
            "bottom": null,
            "display": null,
            "flex": null,
            "flex_flow": null,
            "grid_area": null,
            "grid_auto_columns": null,
            "grid_auto_flow": null,
            "grid_auto_rows": null,
            "grid_column": null,
            "grid_gap": null,
            "grid_row": null,
            "grid_template_areas": null,
            "grid_template_columns": null,
            "grid_template_rows": null,
            "height": null,
            "justify_content": null,
            "justify_items": null,
            "left": null,
            "margin": null,
            "max_height": null,
            "max_width": null,
            "min_height": null,
            "min_width": null,
            "object_fit": null,
            "object_position": null,
            "order": null,
            "overflow": null,
            "overflow_x": null,
            "overflow_y": null,
            "padding": null,
            "right": null,
            "top": null,
            "visibility": null,
            "width": null
          }
        },
        "e49b3fab98e846b0aae4a3146bb694bb": {
          "model_module": "@jupyter-widgets/controls",
          "model_name": "DescriptionStyleModel",
          "model_module_version": "1.5.0",
          "state": {
            "_model_module": "@jupyter-widgets/controls",
            "_model_module_version": "1.5.0",
            "_model_name": "DescriptionStyleModel",
            "_view_count": null,
            "_view_module": "@jupyter-widgets/base",
            "_view_module_version": "1.2.0",
            "_view_name": "StyleView",
            "description_width": ""
          }
        },
        "423770dc91b9497dad5d5f3f91a88d2d": {
          "model_module": "@jupyter-widgets/base",
          "model_name": "LayoutModel",
          "model_module_version": "1.2.0",
          "state": {
            "_model_module": "@jupyter-widgets/base",
            "_model_module_version": "1.2.0",
            "_model_name": "LayoutModel",
            "_view_count": null,
            "_view_module": "@jupyter-widgets/base",
            "_view_module_version": "1.2.0",
            "_view_name": "LayoutView",
            "align_content": null,
            "align_items": null,
            "align_self": null,
            "border": null,
            "bottom": null,
            "display": null,
            "flex": null,
            "flex_flow": null,
            "grid_area": null,
            "grid_auto_columns": null,
            "grid_auto_flow": null,
            "grid_auto_rows": null,
            "grid_column": null,
            "grid_gap": null,
            "grid_row": null,
            "grid_template_areas": null,
            "grid_template_columns": null,
            "grid_template_rows": null,
            "height": null,
            "justify_content": null,
            "justify_items": null,
            "left": null,
            "margin": null,
            "max_height": null,
            "max_width": null,
            "min_height": null,
            "min_width": null,
            "object_fit": null,
            "object_position": null,
            "order": null,
            "overflow": null,
            "overflow_x": null,
            "overflow_y": null,
            "padding": null,
            "right": null,
            "top": null,
            "visibility": null,
            "width": null
          }
        },
        "b2a9dae61306432dabc7287cd1ed23ef": {
          "model_module": "@jupyter-widgets/controls",
          "model_name": "ProgressStyleModel",
          "model_module_version": "1.5.0",
          "state": {
            "_model_module": "@jupyter-widgets/controls",
            "_model_module_version": "1.5.0",
            "_model_name": "ProgressStyleModel",
            "_view_count": null,
            "_view_module": "@jupyter-widgets/base",
            "_view_module_version": "1.2.0",
            "_view_name": "StyleView",
            "bar_color": null,
            "description_width": ""
          }
        },
        "0ef31bb85335450c96f6a9037bbb8136": {
          "model_module": "@jupyter-widgets/base",
          "model_name": "LayoutModel",
          "model_module_version": "1.2.0",
          "state": {
            "_model_module": "@jupyter-widgets/base",
            "_model_module_version": "1.2.0",
            "_model_name": "LayoutModel",
            "_view_count": null,
            "_view_module": "@jupyter-widgets/base",
            "_view_module_version": "1.2.0",
            "_view_name": "LayoutView",
            "align_content": null,
            "align_items": null,
            "align_self": null,
            "border": null,
            "bottom": null,
            "display": null,
            "flex": null,
            "flex_flow": null,
            "grid_area": null,
            "grid_auto_columns": null,
            "grid_auto_flow": null,
            "grid_auto_rows": null,
            "grid_column": null,
            "grid_gap": null,
            "grid_row": null,
            "grid_template_areas": null,
            "grid_template_columns": null,
            "grid_template_rows": null,
            "height": null,
            "justify_content": null,
            "justify_items": null,
            "left": null,
            "margin": null,
            "max_height": null,
            "max_width": null,
            "min_height": null,
            "min_width": null,
            "object_fit": null,
            "object_position": null,
            "order": null,
            "overflow": null,
            "overflow_x": null,
            "overflow_y": null,
            "padding": null,
            "right": null,
            "top": null,
            "visibility": null,
            "width": null
          }
        },
        "b71b04d90001430d93395583148d4d8c": {
          "model_module": "@jupyter-widgets/controls",
          "model_name": "DescriptionStyleModel",
          "model_module_version": "1.5.0",
          "state": {
            "_model_module": "@jupyter-widgets/controls",
            "_model_module_version": "1.5.0",
            "_model_name": "DescriptionStyleModel",
            "_view_count": null,
            "_view_module": "@jupyter-widgets/base",
            "_view_module_version": "1.2.0",
            "_view_name": "StyleView",
            "description_width": ""
          }
        },
        "4f763be724da49089aa0a3d5df397989": {
          "model_module": "@jupyter-widgets/controls",
          "model_name": "HBoxModel",
          "model_module_version": "1.5.0",
          "state": {
            "_dom_classes": [],
            "_model_module": "@jupyter-widgets/controls",
            "_model_module_version": "1.5.0",
            "_model_name": "HBoxModel",
            "_view_count": null,
            "_view_module": "@jupyter-widgets/controls",
            "_view_module_version": "1.5.0",
            "_view_name": "HBoxView",
            "box_style": "",
            "children": [
              "IPY_MODEL_25efc700319544a1aba4a5778836eec0",
              "IPY_MODEL_3f94aad3be5d42c5aaf86e2618360a7f",
              "IPY_MODEL_69c4fb4ce76a45d5a2ea65683bc93332"
            ],
            "layout": "IPY_MODEL_85fd21aab13d40638a2be37d2cf8b356"
          }
        },
        "25efc700319544a1aba4a5778836eec0": {
          "model_module": "@jupyter-widgets/controls",
          "model_name": "HTMLModel",
          "model_module_version": "1.5.0",
          "state": {
            "_dom_classes": [],
            "_model_module": "@jupyter-widgets/controls",
            "_model_module_version": "1.5.0",
            "_model_name": "HTMLModel",
            "_view_count": null,
            "_view_module": "@jupyter-widgets/controls",
            "_view_module_version": "1.5.0",
            "_view_name": "HTMLView",
            "description": "",
            "description_tooltip": null,
            "layout": "IPY_MODEL_131d4a1a19c4469889c13c18326e9c04",
            "placeholder": "​",
            "style": "IPY_MODEL_76c8a4a5bc6f4a21aa7cacb3249b3de1",
            "value": "AutoPGD - batch: 100%"
          }
        },
        "3f94aad3be5d42c5aaf86e2618360a7f": {
          "model_module": "@jupyter-widgets/controls",
          "model_name": "FloatProgressModel",
          "model_module_version": "1.5.0",
          "state": {
            "_dom_classes": [],
            "_model_module": "@jupyter-widgets/controls",
            "_model_module_version": "1.5.0",
            "_model_name": "FloatProgressModel",
            "_view_count": null,
            "_view_module": "@jupyter-widgets/controls",
            "_view_module_version": "1.5.0",
            "_view_name": "ProgressView",
            "bar_style": "",
            "description": "",
            "description_tooltip": null,
            "layout": "IPY_MODEL_2e0843fe0fde455e8abb36262aff6276",
            "max": 1,
            "min": 0,
            "orientation": "horizontal",
            "style": "IPY_MODEL_b2395e7d2ffc4807abfc93ed6c5f18c3",
            "value": 1
          }
        },
        "69c4fb4ce76a45d5a2ea65683bc93332": {
          "model_module": "@jupyter-widgets/controls",
          "model_name": "HTMLModel",
          "model_module_version": "1.5.0",
          "state": {
            "_dom_classes": [],
            "_model_module": "@jupyter-widgets/controls",
            "_model_module_version": "1.5.0",
            "_model_name": "HTMLModel",
            "_view_count": null,
            "_view_module": "@jupyter-widgets/controls",
            "_view_module_version": "1.5.0",
            "_view_name": "HTMLView",
            "description": "",
            "description_tooltip": null,
            "layout": "IPY_MODEL_cff1a8ddcbac4abd8ccfa417b1b07333",
            "placeholder": "​",
            "style": "IPY_MODEL_370b73844915422f95175cbfa3efc307",
            "value": " 1/1 [00:23&lt;00:00, 23.31s/it]"
          }
        },
        "85fd21aab13d40638a2be37d2cf8b356": {
          "model_module": "@jupyter-widgets/base",
          "model_name": "LayoutModel",
          "model_module_version": "1.2.0",
          "state": {
            "_model_module": "@jupyter-widgets/base",
            "_model_module_version": "1.2.0",
            "_model_name": "LayoutModel",
            "_view_count": null,
            "_view_module": "@jupyter-widgets/base",
            "_view_module_version": "1.2.0",
            "_view_name": "LayoutView",
            "align_content": null,
            "align_items": null,
            "align_self": null,
            "border": null,
            "bottom": null,
            "display": null,
            "flex": null,
            "flex_flow": null,
            "grid_area": null,
            "grid_auto_columns": null,
            "grid_auto_flow": null,
            "grid_auto_rows": null,
            "grid_column": null,
            "grid_gap": null,
            "grid_row": null,
            "grid_template_areas": null,
            "grid_template_columns": null,
            "grid_template_rows": null,
            "height": null,
            "justify_content": null,
            "justify_items": null,
            "left": null,
            "margin": null,
            "max_height": null,
            "max_width": null,
            "min_height": null,
            "min_width": null,
            "object_fit": null,
            "object_position": null,
            "order": null,
            "overflow": null,
            "overflow_x": null,
            "overflow_y": null,
            "padding": null,
            "right": null,
            "top": null,
            "visibility": null,
            "width": null
          }
        },
        "131d4a1a19c4469889c13c18326e9c04": {
          "model_module": "@jupyter-widgets/base",
          "model_name": "LayoutModel",
          "model_module_version": "1.2.0",
          "state": {
            "_model_module": "@jupyter-widgets/base",
            "_model_module_version": "1.2.0",
            "_model_name": "LayoutModel",
            "_view_count": null,
            "_view_module": "@jupyter-widgets/base",
            "_view_module_version": "1.2.0",
            "_view_name": "LayoutView",
            "align_content": null,
            "align_items": null,
            "align_self": null,
            "border": null,
            "bottom": null,
            "display": null,
            "flex": null,
            "flex_flow": null,
            "grid_area": null,
            "grid_auto_columns": null,
            "grid_auto_flow": null,
            "grid_auto_rows": null,
            "grid_column": null,
            "grid_gap": null,
            "grid_row": null,
            "grid_template_areas": null,
            "grid_template_columns": null,
            "grid_template_rows": null,
            "height": null,
            "justify_content": null,
            "justify_items": null,
            "left": null,
            "margin": null,
            "max_height": null,
            "max_width": null,
            "min_height": null,
            "min_width": null,
            "object_fit": null,
            "object_position": null,
            "order": null,
            "overflow": null,
            "overflow_x": null,
            "overflow_y": null,
            "padding": null,
            "right": null,
            "top": null,
            "visibility": null,
            "width": null
          }
        },
        "76c8a4a5bc6f4a21aa7cacb3249b3de1": {
          "model_module": "@jupyter-widgets/controls",
          "model_name": "DescriptionStyleModel",
          "model_module_version": "1.5.0",
          "state": {
            "_model_module": "@jupyter-widgets/controls",
            "_model_module_version": "1.5.0",
            "_model_name": "DescriptionStyleModel",
            "_view_count": null,
            "_view_module": "@jupyter-widgets/base",
            "_view_module_version": "1.2.0",
            "_view_name": "StyleView",
            "description_width": ""
          }
        },
        "2e0843fe0fde455e8abb36262aff6276": {
          "model_module": "@jupyter-widgets/base",
          "model_name": "LayoutModel",
          "model_module_version": "1.2.0",
          "state": {
            "_model_module": "@jupyter-widgets/base",
            "_model_module_version": "1.2.0",
            "_model_name": "LayoutModel",
            "_view_count": null,
            "_view_module": "@jupyter-widgets/base",
            "_view_module_version": "1.2.0",
            "_view_name": "LayoutView",
            "align_content": null,
            "align_items": null,
            "align_self": null,
            "border": null,
            "bottom": null,
            "display": null,
            "flex": null,
            "flex_flow": null,
            "grid_area": null,
            "grid_auto_columns": null,
            "grid_auto_flow": null,
            "grid_auto_rows": null,
            "grid_column": null,
            "grid_gap": null,
            "grid_row": null,
            "grid_template_areas": null,
            "grid_template_columns": null,
            "grid_template_rows": null,
            "height": null,
            "justify_content": null,
            "justify_items": null,
            "left": null,
            "margin": null,
            "max_height": null,
            "max_width": null,
            "min_height": null,
            "min_width": null,
            "object_fit": null,
            "object_position": null,
            "order": null,
            "overflow": null,
            "overflow_x": null,
            "overflow_y": null,
            "padding": null,
            "right": null,
            "top": null,
            "visibility": null,
            "width": null
          }
        },
        "b2395e7d2ffc4807abfc93ed6c5f18c3": {
          "model_module": "@jupyter-widgets/controls",
          "model_name": "ProgressStyleModel",
          "model_module_version": "1.5.0",
          "state": {
            "_model_module": "@jupyter-widgets/controls",
            "_model_module_version": "1.5.0",
            "_model_name": "ProgressStyleModel",
            "_view_count": null,
            "_view_module": "@jupyter-widgets/base",
            "_view_module_version": "1.2.0",
            "_view_name": "StyleView",
            "bar_color": null,
            "description_width": ""
          }
        },
        "cff1a8ddcbac4abd8ccfa417b1b07333": {
          "model_module": "@jupyter-widgets/base",
          "model_name": "LayoutModel",
          "model_module_version": "1.2.0",
          "state": {
            "_model_module": "@jupyter-widgets/base",
            "_model_module_version": "1.2.0",
            "_model_name": "LayoutModel",
            "_view_count": null,
            "_view_module": "@jupyter-widgets/base",
            "_view_module_version": "1.2.0",
            "_view_name": "LayoutView",
            "align_content": null,
            "align_items": null,
            "align_self": null,
            "border": null,
            "bottom": null,
            "display": null,
            "flex": null,
            "flex_flow": null,
            "grid_area": null,
            "grid_auto_columns": null,
            "grid_auto_flow": null,
            "grid_auto_rows": null,
            "grid_column": null,
            "grid_gap": null,
            "grid_row": null,
            "grid_template_areas": null,
            "grid_template_columns": null,
            "grid_template_rows": null,
            "height": null,
            "justify_content": null,
            "justify_items": null,
            "left": null,
            "margin": null,
            "max_height": null,
            "max_width": null,
            "min_height": null,
            "min_width": null,
            "object_fit": null,
            "object_position": null,
            "order": null,
            "overflow": null,
            "overflow_x": null,
            "overflow_y": null,
            "padding": null,
            "right": null,
            "top": null,
            "visibility": null,
            "width": null
          }
        },
        "370b73844915422f95175cbfa3efc307": {
          "model_module": "@jupyter-widgets/controls",
          "model_name": "DescriptionStyleModel",
          "model_module_version": "1.5.0",
          "state": {
            "_model_module": "@jupyter-widgets/controls",
            "_model_module_version": "1.5.0",
            "_model_name": "DescriptionStyleModel",
            "_view_count": null,
            "_view_module": "@jupyter-widgets/base",
            "_view_module_version": "1.2.0",
            "_view_name": "StyleView",
            "description_width": ""
          }
        },
        "c84f8bffecae4a7d9375b86d3cb5e203": {
          "model_module": "@jupyter-widgets/controls",
          "model_name": "HBoxModel",
          "model_module_version": "1.5.0",
          "state": {
            "_dom_classes": [],
            "_model_module": "@jupyter-widgets/controls",
            "_model_module_version": "1.5.0",
            "_model_name": "HBoxModel",
            "_view_count": null,
            "_view_module": "@jupyter-widgets/controls",
            "_view_module_version": "1.5.0",
            "_view_name": "HBoxView",
            "box_style": "",
            "children": [
              "IPY_MODEL_5af07db58aa14902a9b32772a2a3d90d",
              "IPY_MODEL_da9ff6f999364edcb9ff5c1221a97a28",
              "IPY_MODEL_d0e79dc17e854255a299b6eff3d4559e"
            ],
            "layout": "IPY_MODEL_8bca8d2663c2495ebb7ba4b19b5a7e3f"
          }
        },
        "5af07db58aa14902a9b32772a2a3d90d": {
          "model_module": "@jupyter-widgets/controls",
          "model_name": "HTMLModel",
          "model_module_version": "1.5.0",
          "state": {
            "_dom_classes": [],
            "_model_module": "@jupyter-widgets/controls",
            "_model_module_version": "1.5.0",
            "_model_name": "HTMLModel",
            "_view_count": null,
            "_view_module": "@jupyter-widgets/controls",
            "_view_module_version": "1.5.0",
            "_view_name": "HTMLView",
            "description": "",
            "description_tooltip": null,
            "layout": "IPY_MODEL_13dea70f73074e73a779dff24b9162fd",
            "placeholder": "​",
            "style": "IPY_MODEL_626584f07ce949f68574da2cc3309190",
            "value": "AutoPGD - iteration: 100%"
          }
        },
        "da9ff6f999364edcb9ff5c1221a97a28": {
          "model_module": "@jupyter-widgets/controls",
          "model_name": "FloatProgressModel",
          "model_module_version": "1.5.0",
          "state": {
            "_dom_classes": [],
            "_model_module": "@jupyter-widgets/controls",
            "_model_module_version": "1.5.0",
            "_model_name": "FloatProgressModel",
            "_view_count": null,
            "_view_module": "@jupyter-widgets/controls",
            "_view_module_version": "1.5.0",
            "_view_name": "ProgressView",
            "bar_style": "",
            "description": "",
            "description_tooltip": null,
            "layout": "IPY_MODEL_e4ab1907796d47d88828f2fb8d8b105a",
            "max": 10,
            "min": 0,
            "orientation": "horizontal",
            "style": "IPY_MODEL_f867d0bf787742f5b52fec0053083552",
            "value": 10
          }
        },
        "d0e79dc17e854255a299b6eff3d4559e": {
          "model_module": "@jupyter-widgets/controls",
          "model_name": "HTMLModel",
          "model_module_version": "1.5.0",
          "state": {
            "_dom_classes": [],
            "_model_module": "@jupyter-widgets/controls",
            "_model_module_version": "1.5.0",
            "_model_name": "HTMLModel",
            "_view_count": null,
            "_view_module": "@jupyter-widgets/controls",
            "_view_module_version": "1.5.0",
            "_view_name": "HTMLView",
            "description": "",
            "description_tooltip": null,
            "layout": "IPY_MODEL_ba9d6dee7693468a9e94f4c39ee52940",
            "placeholder": "​",
            "style": "IPY_MODEL_e151cb3b5c994561adff48c59cd10dee",
            "value": " 10/10 [00:22&lt;00:00,  2.25s/it]"
          }
        },
        "8bca8d2663c2495ebb7ba4b19b5a7e3f": {
          "model_module": "@jupyter-widgets/base",
          "model_name": "LayoutModel",
          "model_module_version": "1.2.0",
          "state": {
            "_model_module": "@jupyter-widgets/base",
            "_model_module_version": "1.2.0",
            "_model_name": "LayoutModel",
            "_view_count": null,
            "_view_module": "@jupyter-widgets/base",
            "_view_module_version": "1.2.0",
            "_view_name": "LayoutView",
            "align_content": null,
            "align_items": null,
            "align_self": null,
            "border": null,
            "bottom": null,
            "display": null,
            "flex": null,
            "flex_flow": null,
            "grid_area": null,
            "grid_auto_columns": null,
            "grid_auto_flow": null,
            "grid_auto_rows": null,
            "grid_column": null,
            "grid_gap": null,
            "grid_row": null,
            "grid_template_areas": null,
            "grid_template_columns": null,
            "grid_template_rows": null,
            "height": null,
            "justify_content": null,
            "justify_items": null,
            "left": null,
            "margin": null,
            "max_height": null,
            "max_width": null,
            "min_height": null,
            "min_width": null,
            "object_fit": null,
            "object_position": null,
            "order": null,
            "overflow": null,
            "overflow_x": null,
            "overflow_y": null,
            "padding": null,
            "right": null,
            "top": null,
            "visibility": null,
            "width": null
          }
        },
        "13dea70f73074e73a779dff24b9162fd": {
          "model_module": "@jupyter-widgets/base",
          "model_name": "LayoutModel",
          "model_module_version": "1.2.0",
          "state": {
            "_model_module": "@jupyter-widgets/base",
            "_model_module_version": "1.2.0",
            "_model_name": "LayoutModel",
            "_view_count": null,
            "_view_module": "@jupyter-widgets/base",
            "_view_module_version": "1.2.0",
            "_view_name": "LayoutView",
            "align_content": null,
            "align_items": null,
            "align_self": null,
            "border": null,
            "bottom": null,
            "display": null,
            "flex": null,
            "flex_flow": null,
            "grid_area": null,
            "grid_auto_columns": null,
            "grid_auto_flow": null,
            "grid_auto_rows": null,
            "grid_column": null,
            "grid_gap": null,
            "grid_row": null,
            "grid_template_areas": null,
            "grid_template_columns": null,
            "grid_template_rows": null,
            "height": null,
            "justify_content": null,
            "justify_items": null,
            "left": null,
            "margin": null,
            "max_height": null,
            "max_width": null,
            "min_height": null,
            "min_width": null,
            "object_fit": null,
            "object_position": null,
            "order": null,
            "overflow": null,
            "overflow_x": null,
            "overflow_y": null,
            "padding": null,
            "right": null,
            "top": null,
            "visibility": null,
            "width": null
          }
        },
        "626584f07ce949f68574da2cc3309190": {
          "model_module": "@jupyter-widgets/controls",
          "model_name": "DescriptionStyleModel",
          "model_module_version": "1.5.0",
          "state": {
            "_model_module": "@jupyter-widgets/controls",
            "_model_module_version": "1.5.0",
            "_model_name": "DescriptionStyleModel",
            "_view_count": null,
            "_view_module": "@jupyter-widgets/base",
            "_view_module_version": "1.2.0",
            "_view_name": "StyleView",
            "description_width": ""
          }
        },
        "e4ab1907796d47d88828f2fb8d8b105a": {
          "model_module": "@jupyter-widgets/base",
          "model_name": "LayoutModel",
          "model_module_version": "1.2.0",
          "state": {
            "_model_module": "@jupyter-widgets/base",
            "_model_module_version": "1.2.0",
            "_model_name": "LayoutModel",
            "_view_count": null,
            "_view_module": "@jupyter-widgets/base",
            "_view_module_version": "1.2.0",
            "_view_name": "LayoutView",
            "align_content": null,
            "align_items": null,
            "align_self": null,
            "border": null,
            "bottom": null,
            "display": null,
            "flex": null,
            "flex_flow": null,
            "grid_area": null,
            "grid_auto_columns": null,
            "grid_auto_flow": null,
            "grid_auto_rows": null,
            "grid_column": null,
            "grid_gap": null,
            "grid_row": null,
            "grid_template_areas": null,
            "grid_template_columns": null,
            "grid_template_rows": null,
            "height": null,
            "justify_content": null,
            "justify_items": null,
            "left": null,
            "margin": null,
            "max_height": null,
            "max_width": null,
            "min_height": null,
            "min_width": null,
            "object_fit": null,
            "object_position": null,
            "order": null,
            "overflow": null,
            "overflow_x": null,
            "overflow_y": null,
            "padding": null,
            "right": null,
            "top": null,
            "visibility": null,
            "width": null
          }
        },
        "f867d0bf787742f5b52fec0053083552": {
          "model_module": "@jupyter-widgets/controls",
          "model_name": "ProgressStyleModel",
          "model_module_version": "1.5.0",
          "state": {
            "_model_module": "@jupyter-widgets/controls",
            "_model_module_version": "1.5.0",
            "_model_name": "ProgressStyleModel",
            "_view_count": null,
            "_view_module": "@jupyter-widgets/base",
            "_view_module_version": "1.2.0",
            "_view_name": "StyleView",
            "bar_color": null,
            "description_width": ""
          }
        },
        "ba9d6dee7693468a9e94f4c39ee52940": {
          "model_module": "@jupyter-widgets/base",
          "model_name": "LayoutModel",
          "model_module_version": "1.2.0",
          "state": {
            "_model_module": "@jupyter-widgets/base",
            "_model_module_version": "1.2.0",
            "_model_name": "LayoutModel",
            "_view_count": null,
            "_view_module": "@jupyter-widgets/base",
            "_view_module_version": "1.2.0",
            "_view_name": "LayoutView",
            "align_content": null,
            "align_items": null,
            "align_self": null,
            "border": null,
            "bottom": null,
            "display": null,
            "flex": null,
            "flex_flow": null,
            "grid_area": null,
            "grid_auto_columns": null,
            "grid_auto_flow": null,
            "grid_auto_rows": null,
            "grid_column": null,
            "grid_gap": null,
            "grid_row": null,
            "grid_template_areas": null,
            "grid_template_columns": null,
            "grid_template_rows": null,
            "height": null,
            "justify_content": null,
            "justify_items": null,
            "left": null,
            "margin": null,
            "max_height": null,
            "max_width": null,
            "min_height": null,
            "min_width": null,
            "object_fit": null,
            "object_position": null,
            "order": null,
            "overflow": null,
            "overflow_x": null,
            "overflow_y": null,
            "padding": null,
            "right": null,
            "top": null,
            "visibility": null,
            "width": null
          }
        },
        "e151cb3b5c994561adff48c59cd10dee": {
          "model_module": "@jupyter-widgets/controls",
          "model_name": "DescriptionStyleModel",
          "model_module_version": "1.5.0",
          "state": {
            "_model_module": "@jupyter-widgets/controls",
            "_model_module_version": "1.5.0",
            "_model_name": "DescriptionStyleModel",
            "_view_count": null,
            "_view_module": "@jupyter-widgets/base",
            "_view_module_version": "1.2.0",
            "_view_name": "StyleView",
            "description_width": ""
          }
        },
        "309e6296495b42ac9bd572cd40be764c": {
          "model_module": "@jupyter-widgets/controls",
          "model_name": "HBoxModel",
          "model_module_version": "1.5.0",
          "state": {
            "_dom_classes": [],
            "_model_module": "@jupyter-widgets/controls",
            "_model_module_version": "1.5.0",
            "_model_name": "HBoxModel",
            "_view_count": null,
            "_view_module": "@jupyter-widgets/controls",
            "_view_module_version": "1.5.0",
            "_view_name": "HBoxView",
            "box_style": "",
            "children": [
              "IPY_MODEL_6ea4b1d8cf014d0892800c54c30fac28",
              "IPY_MODEL_f3577ce104a447a38a7d201066d8d2d9",
              "IPY_MODEL_c1f0fe58e63f4762beac985d82471e68"
            ],
            "layout": "IPY_MODEL_655394e8635845d9ace5e78c77977864"
          }
        },
        "6ea4b1d8cf014d0892800c54c30fac28": {
          "model_module": "@jupyter-widgets/controls",
          "model_name": "HTMLModel",
          "model_module_version": "1.5.0",
          "state": {
            "_dom_classes": [],
            "_model_module": "@jupyter-widgets/controls",
            "_model_module_version": "1.5.0",
            "_model_name": "HTMLModel",
            "_view_count": null,
            "_view_module": "@jupyter-widgets/controls",
            "_view_module_version": "1.5.0",
            "_view_name": "HTMLView",
            "description": "",
            "description_tooltip": null,
            "layout": "IPY_MODEL_c1c8e0cfd39941d18eebc70afb78edbd",
            "placeholder": "​",
            "style": "IPY_MODEL_4cc9f485390c4ac4be4aee0dddce00ee",
            "value": "AutoPGD - batch: 100%"
          }
        },
        "f3577ce104a447a38a7d201066d8d2d9": {
          "model_module": "@jupyter-widgets/controls",
          "model_name": "FloatProgressModel",
          "model_module_version": "1.5.0",
          "state": {
            "_dom_classes": [],
            "_model_module": "@jupyter-widgets/controls",
            "_model_module_version": "1.5.0",
            "_model_name": "FloatProgressModel",
            "_view_count": null,
            "_view_module": "@jupyter-widgets/controls",
            "_view_module_version": "1.5.0",
            "_view_name": "ProgressView",
            "bar_style": "",
            "description": "",
            "description_tooltip": null,
            "layout": "IPY_MODEL_39fd4f73c24e4985b0c6c1d6a66fde5b",
            "max": 1,
            "min": 0,
            "orientation": "horizontal",
            "style": "IPY_MODEL_018718a28a5b47ef838532b5fb5ee88c",
            "value": 1
          }
        },
        "c1f0fe58e63f4762beac985d82471e68": {
          "model_module": "@jupyter-widgets/controls",
          "model_name": "HTMLModel",
          "model_module_version": "1.5.0",
          "state": {
            "_dom_classes": [],
            "_model_module": "@jupyter-widgets/controls",
            "_model_module_version": "1.5.0",
            "_model_name": "HTMLModel",
            "_view_count": null,
            "_view_module": "@jupyter-widgets/controls",
            "_view_module_version": "1.5.0",
            "_view_name": "HTMLView",
            "description": "",
            "description_tooltip": null,
            "layout": "IPY_MODEL_5d24072f5a8b460381d129884d7bc4db",
            "placeholder": "​",
            "style": "IPY_MODEL_500fa76112ec445fab9d92612480a699",
            "value": " 1/1 [00:21&lt;00:00, 21.70s/it]"
          }
        },
        "655394e8635845d9ace5e78c77977864": {
          "model_module": "@jupyter-widgets/base",
          "model_name": "LayoutModel",
          "model_module_version": "1.2.0",
          "state": {
            "_model_module": "@jupyter-widgets/base",
            "_model_module_version": "1.2.0",
            "_model_name": "LayoutModel",
            "_view_count": null,
            "_view_module": "@jupyter-widgets/base",
            "_view_module_version": "1.2.0",
            "_view_name": "LayoutView",
            "align_content": null,
            "align_items": null,
            "align_self": null,
            "border": null,
            "bottom": null,
            "display": null,
            "flex": null,
            "flex_flow": null,
            "grid_area": null,
            "grid_auto_columns": null,
            "grid_auto_flow": null,
            "grid_auto_rows": null,
            "grid_column": null,
            "grid_gap": null,
            "grid_row": null,
            "grid_template_areas": null,
            "grid_template_columns": null,
            "grid_template_rows": null,
            "height": null,
            "justify_content": null,
            "justify_items": null,
            "left": null,
            "margin": null,
            "max_height": null,
            "max_width": null,
            "min_height": null,
            "min_width": null,
            "object_fit": null,
            "object_position": null,
            "order": null,
            "overflow": null,
            "overflow_x": null,
            "overflow_y": null,
            "padding": null,
            "right": null,
            "top": null,
            "visibility": null,
            "width": null
          }
        },
        "c1c8e0cfd39941d18eebc70afb78edbd": {
          "model_module": "@jupyter-widgets/base",
          "model_name": "LayoutModel",
          "model_module_version": "1.2.0",
          "state": {
            "_model_module": "@jupyter-widgets/base",
            "_model_module_version": "1.2.0",
            "_model_name": "LayoutModel",
            "_view_count": null,
            "_view_module": "@jupyter-widgets/base",
            "_view_module_version": "1.2.0",
            "_view_name": "LayoutView",
            "align_content": null,
            "align_items": null,
            "align_self": null,
            "border": null,
            "bottom": null,
            "display": null,
            "flex": null,
            "flex_flow": null,
            "grid_area": null,
            "grid_auto_columns": null,
            "grid_auto_flow": null,
            "grid_auto_rows": null,
            "grid_column": null,
            "grid_gap": null,
            "grid_row": null,
            "grid_template_areas": null,
            "grid_template_columns": null,
            "grid_template_rows": null,
            "height": null,
            "justify_content": null,
            "justify_items": null,
            "left": null,
            "margin": null,
            "max_height": null,
            "max_width": null,
            "min_height": null,
            "min_width": null,
            "object_fit": null,
            "object_position": null,
            "order": null,
            "overflow": null,
            "overflow_x": null,
            "overflow_y": null,
            "padding": null,
            "right": null,
            "top": null,
            "visibility": null,
            "width": null
          }
        },
        "4cc9f485390c4ac4be4aee0dddce00ee": {
          "model_module": "@jupyter-widgets/controls",
          "model_name": "DescriptionStyleModel",
          "model_module_version": "1.5.0",
          "state": {
            "_model_module": "@jupyter-widgets/controls",
            "_model_module_version": "1.5.0",
            "_model_name": "DescriptionStyleModel",
            "_view_count": null,
            "_view_module": "@jupyter-widgets/base",
            "_view_module_version": "1.2.0",
            "_view_name": "StyleView",
            "description_width": ""
          }
        },
        "39fd4f73c24e4985b0c6c1d6a66fde5b": {
          "model_module": "@jupyter-widgets/base",
          "model_name": "LayoutModel",
          "model_module_version": "1.2.0",
          "state": {
            "_model_module": "@jupyter-widgets/base",
            "_model_module_version": "1.2.0",
            "_model_name": "LayoutModel",
            "_view_count": null,
            "_view_module": "@jupyter-widgets/base",
            "_view_module_version": "1.2.0",
            "_view_name": "LayoutView",
            "align_content": null,
            "align_items": null,
            "align_self": null,
            "border": null,
            "bottom": null,
            "display": null,
            "flex": null,
            "flex_flow": null,
            "grid_area": null,
            "grid_auto_columns": null,
            "grid_auto_flow": null,
            "grid_auto_rows": null,
            "grid_column": null,
            "grid_gap": null,
            "grid_row": null,
            "grid_template_areas": null,
            "grid_template_columns": null,
            "grid_template_rows": null,
            "height": null,
            "justify_content": null,
            "justify_items": null,
            "left": null,
            "margin": null,
            "max_height": null,
            "max_width": null,
            "min_height": null,
            "min_width": null,
            "object_fit": null,
            "object_position": null,
            "order": null,
            "overflow": null,
            "overflow_x": null,
            "overflow_y": null,
            "padding": null,
            "right": null,
            "top": null,
            "visibility": null,
            "width": null
          }
        },
        "018718a28a5b47ef838532b5fb5ee88c": {
          "model_module": "@jupyter-widgets/controls",
          "model_name": "ProgressStyleModel",
          "model_module_version": "1.5.0",
          "state": {
            "_model_module": "@jupyter-widgets/controls",
            "_model_module_version": "1.5.0",
            "_model_name": "ProgressStyleModel",
            "_view_count": null,
            "_view_module": "@jupyter-widgets/base",
            "_view_module_version": "1.2.0",
            "_view_name": "StyleView",
            "bar_color": null,
            "description_width": ""
          }
        },
        "5d24072f5a8b460381d129884d7bc4db": {
          "model_module": "@jupyter-widgets/base",
          "model_name": "LayoutModel",
          "model_module_version": "1.2.0",
          "state": {
            "_model_module": "@jupyter-widgets/base",
            "_model_module_version": "1.2.0",
            "_model_name": "LayoutModel",
            "_view_count": null,
            "_view_module": "@jupyter-widgets/base",
            "_view_module_version": "1.2.0",
            "_view_name": "LayoutView",
            "align_content": null,
            "align_items": null,
            "align_self": null,
            "border": null,
            "bottom": null,
            "display": null,
            "flex": null,
            "flex_flow": null,
            "grid_area": null,
            "grid_auto_columns": null,
            "grid_auto_flow": null,
            "grid_auto_rows": null,
            "grid_column": null,
            "grid_gap": null,
            "grid_row": null,
            "grid_template_areas": null,
            "grid_template_columns": null,
            "grid_template_rows": null,
            "height": null,
            "justify_content": null,
            "justify_items": null,
            "left": null,
            "margin": null,
            "max_height": null,
            "max_width": null,
            "min_height": null,
            "min_width": null,
            "object_fit": null,
            "object_position": null,
            "order": null,
            "overflow": null,
            "overflow_x": null,
            "overflow_y": null,
            "padding": null,
            "right": null,
            "top": null,
            "visibility": null,
            "width": null
          }
        },
        "500fa76112ec445fab9d92612480a699": {
          "model_module": "@jupyter-widgets/controls",
          "model_name": "DescriptionStyleModel",
          "model_module_version": "1.5.0",
          "state": {
            "_model_module": "@jupyter-widgets/controls",
            "_model_module_version": "1.5.0",
            "_model_name": "DescriptionStyleModel",
            "_view_count": null,
            "_view_module": "@jupyter-widgets/base",
            "_view_module_version": "1.2.0",
            "_view_name": "StyleView",
            "description_width": ""
          }
        },
        "ae6ce3364076461c9e40568ed69cd7f7": {
          "model_module": "@jupyter-widgets/controls",
          "model_name": "HBoxModel",
          "model_module_version": "1.5.0",
          "state": {
            "_dom_classes": [],
            "_model_module": "@jupyter-widgets/controls",
            "_model_module_version": "1.5.0",
            "_model_name": "HBoxModel",
            "_view_count": null,
            "_view_module": "@jupyter-widgets/controls",
            "_view_module_version": "1.5.0",
            "_view_name": "HBoxView",
            "box_style": "",
            "children": [
              "IPY_MODEL_329d683776554df9a28d32994e2ecda5",
              "IPY_MODEL_301712c195374cb0baa14de248a56e69",
              "IPY_MODEL_58bd1d1a39b3491c9959c83ef19ed3da"
            ],
            "layout": "IPY_MODEL_86ce34ef5b9d40b0912405b2d92f3878"
          }
        },
        "329d683776554df9a28d32994e2ecda5": {
          "model_module": "@jupyter-widgets/controls",
          "model_name": "HTMLModel",
          "model_module_version": "1.5.0",
          "state": {
            "_dom_classes": [],
            "_model_module": "@jupyter-widgets/controls",
            "_model_module_version": "1.5.0",
            "_model_name": "HTMLModel",
            "_view_count": null,
            "_view_module": "@jupyter-widgets/controls",
            "_view_module_version": "1.5.0",
            "_view_name": "HTMLView",
            "description": "",
            "description_tooltip": null,
            "layout": "IPY_MODEL_f2437ae85da248328604d58d695b245b",
            "placeholder": "​",
            "style": "IPY_MODEL_c95b143140d04961afe3792cfd10a480",
            "value": "AutoPGD - iteration: 100%"
          }
        },
        "301712c195374cb0baa14de248a56e69": {
          "model_module": "@jupyter-widgets/controls",
          "model_name": "FloatProgressModel",
          "model_module_version": "1.5.0",
          "state": {
            "_dom_classes": [],
            "_model_module": "@jupyter-widgets/controls",
            "_model_module_version": "1.5.0",
            "_model_name": "FloatProgressModel",
            "_view_count": null,
            "_view_module": "@jupyter-widgets/controls",
            "_view_module_version": "1.5.0",
            "_view_name": "ProgressView",
            "bar_style": "",
            "description": "",
            "description_tooltip": null,
            "layout": "IPY_MODEL_90caf57274b148548af7170ffcabb0f0",
            "max": 10,
            "min": 0,
            "orientation": "horizontal",
            "style": "IPY_MODEL_535babf7ca2b4b09bd794a8e72208010",
            "value": 10
          }
        },
        "58bd1d1a39b3491c9959c83ef19ed3da": {
          "model_module": "@jupyter-widgets/controls",
          "model_name": "HTMLModel",
          "model_module_version": "1.5.0",
          "state": {
            "_dom_classes": [],
            "_model_module": "@jupyter-widgets/controls",
            "_model_module_version": "1.5.0",
            "_model_name": "HTMLModel",
            "_view_count": null,
            "_view_module": "@jupyter-widgets/controls",
            "_view_module_version": "1.5.0",
            "_view_name": "HTMLView",
            "description": "",
            "description_tooltip": null,
            "layout": "IPY_MODEL_d20f915c99054090a27be8fc3b2cd462",
            "placeholder": "​",
            "style": "IPY_MODEL_3d9b85cffc514ecc8ac517e6e3a7919a",
            "value": " 10/10 [00:21&lt;00:00,  2.08s/it]"
          }
        },
        "86ce34ef5b9d40b0912405b2d92f3878": {
          "model_module": "@jupyter-widgets/base",
          "model_name": "LayoutModel",
          "model_module_version": "1.2.0",
          "state": {
            "_model_module": "@jupyter-widgets/base",
            "_model_module_version": "1.2.0",
            "_model_name": "LayoutModel",
            "_view_count": null,
            "_view_module": "@jupyter-widgets/base",
            "_view_module_version": "1.2.0",
            "_view_name": "LayoutView",
            "align_content": null,
            "align_items": null,
            "align_self": null,
            "border": null,
            "bottom": null,
            "display": null,
            "flex": null,
            "flex_flow": null,
            "grid_area": null,
            "grid_auto_columns": null,
            "grid_auto_flow": null,
            "grid_auto_rows": null,
            "grid_column": null,
            "grid_gap": null,
            "grid_row": null,
            "grid_template_areas": null,
            "grid_template_columns": null,
            "grid_template_rows": null,
            "height": null,
            "justify_content": null,
            "justify_items": null,
            "left": null,
            "margin": null,
            "max_height": null,
            "max_width": null,
            "min_height": null,
            "min_width": null,
            "object_fit": null,
            "object_position": null,
            "order": null,
            "overflow": null,
            "overflow_x": null,
            "overflow_y": null,
            "padding": null,
            "right": null,
            "top": null,
            "visibility": null,
            "width": null
          }
        },
        "f2437ae85da248328604d58d695b245b": {
          "model_module": "@jupyter-widgets/base",
          "model_name": "LayoutModel",
          "model_module_version": "1.2.0",
          "state": {
            "_model_module": "@jupyter-widgets/base",
            "_model_module_version": "1.2.0",
            "_model_name": "LayoutModel",
            "_view_count": null,
            "_view_module": "@jupyter-widgets/base",
            "_view_module_version": "1.2.0",
            "_view_name": "LayoutView",
            "align_content": null,
            "align_items": null,
            "align_self": null,
            "border": null,
            "bottom": null,
            "display": null,
            "flex": null,
            "flex_flow": null,
            "grid_area": null,
            "grid_auto_columns": null,
            "grid_auto_flow": null,
            "grid_auto_rows": null,
            "grid_column": null,
            "grid_gap": null,
            "grid_row": null,
            "grid_template_areas": null,
            "grid_template_columns": null,
            "grid_template_rows": null,
            "height": null,
            "justify_content": null,
            "justify_items": null,
            "left": null,
            "margin": null,
            "max_height": null,
            "max_width": null,
            "min_height": null,
            "min_width": null,
            "object_fit": null,
            "object_position": null,
            "order": null,
            "overflow": null,
            "overflow_x": null,
            "overflow_y": null,
            "padding": null,
            "right": null,
            "top": null,
            "visibility": null,
            "width": null
          }
        },
        "c95b143140d04961afe3792cfd10a480": {
          "model_module": "@jupyter-widgets/controls",
          "model_name": "DescriptionStyleModel",
          "model_module_version": "1.5.0",
          "state": {
            "_model_module": "@jupyter-widgets/controls",
            "_model_module_version": "1.5.0",
            "_model_name": "DescriptionStyleModel",
            "_view_count": null,
            "_view_module": "@jupyter-widgets/base",
            "_view_module_version": "1.2.0",
            "_view_name": "StyleView",
            "description_width": ""
          }
        },
        "90caf57274b148548af7170ffcabb0f0": {
          "model_module": "@jupyter-widgets/base",
          "model_name": "LayoutModel",
          "model_module_version": "1.2.0",
          "state": {
            "_model_module": "@jupyter-widgets/base",
            "_model_module_version": "1.2.0",
            "_model_name": "LayoutModel",
            "_view_count": null,
            "_view_module": "@jupyter-widgets/base",
            "_view_module_version": "1.2.0",
            "_view_name": "LayoutView",
            "align_content": null,
            "align_items": null,
            "align_self": null,
            "border": null,
            "bottom": null,
            "display": null,
            "flex": null,
            "flex_flow": null,
            "grid_area": null,
            "grid_auto_columns": null,
            "grid_auto_flow": null,
            "grid_auto_rows": null,
            "grid_column": null,
            "grid_gap": null,
            "grid_row": null,
            "grid_template_areas": null,
            "grid_template_columns": null,
            "grid_template_rows": null,
            "height": null,
            "justify_content": null,
            "justify_items": null,
            "left": null,
            "margin": null,
            "max_height": null,
            "max_width": null,
            "min_height": null,
            "min_width": null,
            "object_fit": null,
            "object_position": null,
            "order": null,
            "overflow": null,
            "overflow_x": null,
            "overflow_y": null,
            "padding": null,
            "right": null,
            "top": null,
            "visibility": null,
            "width": null
          }
        },
        "535babf7ca2b4b09bd794a8e72208010": {
          "model_module": "@jupyter-widgets/controls",
          "model_name": "ProgressStyleModel",
          "model_module_version": "1.5.0",
          "state": {
            "_model_module": "@jupyter-widgets/controls",
            "_model_module_version": "1.5.0",
            "_model_name": "ProgressStyleModel",
            "_view_count": null,
            "_view_module": "@jupyter-widgets/base",
            "_view_module_version": "1.2.0",
            "_view_name": "StyleView",
            "bar_color": null,
            "description_width": ""
          }
        },
        "d20f915c99054090a27be8fc3b2cd462": {
          "model_module": "@jupyter-widgets/base",
          "model_name": "LayoutModel",
          "model_module_version": "1.2.0",
          "state": {
            "_model_module": "@jupyter-widgets/base",
            "_model_module_version": "1.2.0",
            "_model_name": "LayoutModel",
            "_view_count": null,
            "_view_module": "@jupyter-widgets/base",
            "_view_module_version": "1.2.0",
            "_view_name": "LayoutView",
            "align_content": null,
            "align_items": null,
            "align_self": null,
            "border": null,
            "bottom": null,
            "display": null,
            "flex": null,
            "flex_flow": null,
            "grid_area": null,
            "grid_auto_columns": null,
            "grid_auto_flow": null,
            "grid_auto_rows": null,
            "grid_column": null,
            "grid_gap": null,
            "grid_row": null,
            "grid_template_areas": null,
            "grid_template_columns": null,
            "grid_template_rows": null,
            "height": null,
            "justify_content": null,
            "justify_items": null,
            "left": null,
            "margin": null,
            "max_height": null,
            "max_width": null,
            "min_height": null,
            "min_width": null,
            "object_fit": null,
            "object_position": null,
            "order": null,
            "overflow": null,
            "overflow_x": null,
            "overflow_y": null,
            "padding": null,
            "right": null,
            "top": null,
            "visibility": null,
            "width": null
          }
        },
        "3d9b85cffc514ecc8ac517e6e3a7919a": {
          "model_module": "@jupyter-widgets/controls",
          "model_name": "DescriptionStyleModel",
          "model_module_version": "1.5.0",
          "state": {
            "_model_module": "@jupyter-widgets/controls",
            "_model_module_version": "1.5.0",
            "_model_name": "DescriptionStyleModel",
            "_view_count": null,
            "_view_module": "@jupyter-widgets/base",
            "_view_module_version": "1.2.0",
            "_view_name": "StyleView",
            "description_width": ""
          }
        },
        "76f614b778a949109697a7bef32e9cb6": {
          "model_module": "@jupyter-widgets/controls",
          "model_name": "HBoxModel",
          "model_module_version": "1.5.0",
          "state": {
            "_view_name": "HBoxView",
            "_dom_classes": [],
            "_model_name": "HBoxModel",
            "_view_module": "@jupyter-widgets/controls",
            "_model_module_version": "1.5.0",
            "_view_count": null,
            "_view_module_version": "1.5.0",
            "box_style": "",
            "layout": "IPY_MODEL_1a2be6b63bad435cb373e85f05015d67",
            "_model_module": "@jupyter-widgets/controls",
            "children": [
              "IPY_MODEL_b8b86835a3424546b76fa7b1cf77a686",
              "IPY_MODEL_c5cd192da4284cae9bae97296a1f920b",
              "IPY_MODEL_6beae4b13d8f4fb9a804745b507bd6a4"
            ]
          }
        },
        "1a2be6b63bad435cb373e85f05015d67": {
          "model_module": "@jupyter-widgets/base",
          "model_name": "LayoutModel",
          "model_module_version": "1.2.0",
          "state": {
            "_view_name": "LayoutView",
            "grid_template_rows": null,
            "right": null,
            "justify_content": null,
            "_view_module": "@jupyter-widgets/base",
            "overflow": null,
            "_model_module_version": "1.2.0",
            "_view_count": null,
            "flex_flow": null,
            "width": null,
            "min_width": null,
            "border": null,
            "align_items": null,
            "bottom": null,
            "_model_module": "@jupyter-widgets/base",
            "top": null,
            "grid_column": null,
            "overflow_y": null,
            "overflow_x": null,
            "grid_auto_flow": null,
            "grid_area": null,
            "grid_template_columns": null,
            "flex": null,
            "_model_name": "LayoutModel",
            "justify_items": null,
            "grid_row": null,
            "max_height": null,
            "align_content": null,
            "visibility": null,
            "align_self": null,
            "height": null,
            "min_height": null,
            "padding": null,
            "grid_auto_rows": null,
            "grid_gap": null,
            "max_width": null,
            "order": null,
            "_view_module_version": "1.2.0",
            "grid_template_areas": null,
            "object_position": null,
            "object_fit": null,
            "grid_auto_columns": null,
            "margin": null,
            "display": null,
            "left": null
          }
        },
        "b8b86835a3424546b76fa7b1cf77a686": {
          "model_module": "@jupyter-widgets/controls",
          "model_name": "HTMLModel",
          "model_module_version": "1.5.0",
          "state": {
            "_view_name": "HTMLView",
            "style": "IPY_MODEL_6642cdbacb614b49a6d3394dd060651e",
            "_dom_classes": [],
            "description": "",
            "_model_name": "HTMLModel",
            "placeholder": "​",
            "_view_module": "@jupyter-widgets/controls",
            "_model_module_version": "1.5.0",
            "value": "PGD - Random Initializations: 100%",
            "_view_count": null,
            "_view_module_version": "1.5.0",
            "description_tooltip": null,
            "_model_module": "@jupyter-widgets/controls",
            "layout": "IPY_MODEL_031361570b9f44bb9506717936f34d6d"
          }
        },
        "c5cd192da4284cae9bae97296a1f920b": {
          "model_module": "@jupyter-widgets/controls",
          "model_name": "FloatProgressModel",
          "model_module_version": "1.5.0",
          "state": {
            "_view_name": "ProgressView",
            "style": "IPY_MODEL_0ffd73e8ce26487c9b13492a1151e069",
            "_dom_classes": [],
            "description": "",
            "_model_name": "FloatProgressModel",
            "bar_style": "success",
            "max": 1,
            "_view_module": "@jupyter-widgets/controls",
            "_model_module_version": "1.5.0",
            "value": 1,
            "_view_count": null,
            "_view_module_version": "1.5.0",
            "orientation": "horizontal",
            "min": 0,
            "description_tooltip": null,
            "_model_module": "@jupyter-widgets/controls",
            "layout": "IPY_MODEL_e13c470f7ab64866810eb5aa8d2e817e"
          }
        },
        "6beae4b13d8f4fb9a804745b507bd6a4": {
          "model_module": "@jupyter-widgets/controls",
          "model_name": "HTMLModel",
          "model_module_version": "1.5.0",
          "state": {
            "_view_name": "HTMLView",
            "style": "IPY_MODEL_b2300767d72b4c02887e77e9de541dfa",
            "_dom_classes": [],
            "description": "",
            "_model_name": "HTMLModel",
            "placeholder": "​",
            "_view_module": "@jupyter-widgets/controls",
            "_model_module_version": "1.5.0",
            "value": " 1/1 [00:17&lt;00:00, 17.91s/it]",
            "_view_count": null,
            "_view_module_version": "1.5.0",
            "description_tooltip": null,
            "_model_module": "@jupyter-widgets/controls",
            "layout": "IPY_MODEL_d9bf7b2fcaf74b8eb9774a805ee8839c"
          }
        },
        "6642cdbacb614b49a6d3394dd060651e": {
          "model_module": "@jupyter-widgets/controls",
          "model_name": "DescriptionStyleModel",
          "model_module_version": "1.5.0",
          "state": {
            "_view_name": "StyleView",
            "_model_name": "DescriptionStyleModel",
            "description_width": "",
            "_view_module": "@jupyter-widgets/base",
            "_model_module_version": "1.5.0",
            "_view_count": null,
            "_view_module_version": "1.2.0",
            "_model_module": "@jupyter-widgets/controls"
          }
        },
        "031361570b9f44bb9506717936f34d6d": {
          "model_module": "@jupyter-widgets/base",
          "model_name": "LayoutModel",
          "model_module_version": "1.2.0",
          "state": {
            "_view_name": "LayoutView",
            "grid_template_rows": null,
            "right": null,
            "justify_content": null,
            "_view_module": "@jupyter-widgets/base",
            "overflow": null,
            "_model_module_version": "1.2.0",
            "_view_count": null,
            "flex_flow": null,
            "width": null,
            "min_width": null,
            "border": null,
            "align_items": null,
            "bottom": null,
            "_model_module": "@jupyter-widgets/base",
            "top": null,
            "grid_column": null,
            "overflow_y": null,
            "overflow_x": null,
            "grid_auto_flow": null,
            "grid_area": null,
            "grid_template_columns": null,
            "flex": null,
            "_model_name": "LayoutModel",
            "justify_items": null,
            "grid_row": null,
            "max_height": null,
            "align_content": null,
            "visibility": null,
            "align_self": null,
            "height": null,
            "min_height": null,
            "padding": null,
            "grid_auto_rows": null,
            "grid_gap": null,
            "max_width": null,
            "order": null,
            "_view_module_version": "1.2.0",
            "grid_template_areas": null,
            "object_position": null,
            "object_fit": null,
            "grid_auto_columns": null,
            "margin": null,
            "display": null,
            "left": null
          }
        },
        "0ffd73e8ce26487c9b13492a1151e069": {
          "model_module": "@jupyter-widgets/controls",
          "model_name": "ProgressStyleModel",
          "model_module_version": "1.5.0",
          "state": {
            "_view_name": "StyleView",
            "_model_name": "ProgressStyleModel",
            "description_width": "",
            "_view_module": "@jupyter-widgets/base",
            "_model_module_version": "1.5.0",
            "_view_count": null,
            "_view_module_version": "1.2.0",
            "bar_color": null,
            "_model_module": "@jupyter-widgets/controls"
          }
        },
        "e13c470f7ab64866810eb5aa8d2e817e": {
          "model_module": "@jupyter-widgets/base",
          "model_name": "LayoutModel",
          "model_module_version": "1.2.0",
          "state": {
            "_view_name": "LayoutView",
            "grid_template_rows": null,
            "right": null,
            "justify_content": null,
            "_view_module": "@jupyter-widgets/base",
            "overflow": null,
            "_model_module_version": "1.2.0",
            "_view_count": null,
            "flex_flow": null,
            "width": null,
            "min_width": null,
            "border": null,
            "align_items": null,
            "bottom": null,
            "_model_module": "@jupyter-widgets/base",
            "top": null,
            "grid_column": null,
            "overflow_y": null,
            "overflow_x": null,
            "grid_auto_flow": null,
            "grid_area": null,
            "grid_template_columns": null,
            "flex": null,
            "_model_name": "LayoutModel",
            "justify_items": null,
            "grid_row": null,
            "max_height": null,
            "align_content": null,
            "visibility": null,
            "align_self": null,
            "height": null,
            "min_height": null,
            "padding": null,
            "grid_auto_rows": null,
            "grid_gap": null,
            "max_width": null,
            "order": null,
            "_view_module_version": "1.2.0",
            "grid_template_areas": null,
            "object_position": null,
            "object_fit": null,
            "grid_auto_columns": null,
            "margin": null,
            "display": null,
            "left": null
          }
        },
        "b2300767d72b4c02887e77e9de541dfa": {
          "model_module": "@jupyter-widgets/controls",
          "model_name": "DescriptionStyleModel",
          "model_module_version": "1.5.0",
          "state": {
            "_view_name": "StyleView",
            "_model_name": "DescriptionStyleModel",
            "description_width": "",
            "_view_module": "@jupyter-widgets/base",
            "_model_module_version": "1.5.0",
            "_view_count": null,
            "_view_module_version": "1.2.0",
            "_model_module": "@jupyter-widgets/controls"
          }
        },
        "d9bf7b2fcaf74b8eb9774a805ee8839c": {
          "model_module": "@jupyter-widgets/base",
          "model_name": "LayoutModel",
          "model_module_version": "1.2.0",
          "state": {
            "_view_name": "LayoutView",
            "grid_template_rows": null,
            "right": null,
            "justify_content": null,
            "_view_module": "@jupyter-widgets/base",
            "overflow": null,
            "_model_module_version": "1.2.0",
            "_view_count": null,
            "flex_flow": null,
            "width": null,
            "min_width": null,
            "border": null,
            "align_items": null,
            "bottom": null,
            "_model_module": "@jupyter-widgets/base",
            "top": null,
            "grid_column": null,
            "overflow_y": null,
            "overflow_x": null,
            "grid_auto_flow": null,
            "grid_area": null,
            "grid_template_columns": null,
            "flex": null,
            "_model_name": "LayoutModel",
            "justify_items": null,
            "grid_row": null,
            "max_height": null,
            "align_content": null,
            "visibility": null,
            "align_self": null,
            "height": null,
            "min_height": null,
            "padding": null,
            "grid_auto_rows": null,
            "grid_gap": null,
            "max_width": null,
            "order": null,
            "_view_module_version": "1.2.0",
            "grid_template_areas": null,
            "object_position": null,
            "object_fit": null,
            "grid_auto_columns": null,
            "margin": null,
            "display": null,
            "left": null
          }
        },
        "563b959ed2c047e29e8820c841e2e085": {
          "model_module": "@jupyter-widgets/controls",
          "model_name": "HBoxModel",
          "model_module_version": "1.5.0",
          "state": {
            "_view_name": "HBoxView",
            "_dom_classes": [],
            "_model_name": "HBoxModel",
            "_view_module": "@jupyter-widgets/controls",
            "_model_module_version": "1.5.0",
            "_view_count": null,
            "_view_module_version": "1.5.0",
            "box_style": "",
            "layout": "IPY_MODEL_d83f8bee50fa426f9c0f08b4e70cef0d",
            "_model_module": "@jupyter-widgets/controls",
            "children": [
              "IPY_MODEL_39877530942e41b7a90e75e16a209da2",
              "IPY_MODEL_52e299d404ec44fda61e6d25b04e36c4",
              "IPY_MODEL_28f0f1b677f545768480a2efe64481fb"
            ]
          }
        },
        "d83f8bee50fa426f9c0f08b4e70cef0d": {
          "model_module": "@jupyter-widgets/base",
          "model_name": "LayoutModel",
          "model_module_version": "1.2.0",
          "state": {
            "_view_name": "LayoutView",
            "grid_template_rows": null,
            "right": null,
            "justify_content": null,
            "_view_module": "@jupyter-widgets/base",
            "overflow": null,
            "_model_module_version": "1.2.0",
            "_view_count": null,
            "flex_flow": null,
            "width": null,
            "min_width": null,
            "border": null,
            "align_items": null,
            "bottom": null,
            "_model_module": "@jupyter-widgets/base",
            "top": null,
            "grid_column": null,
            "overflow_y": null,
            "overflow_x": null,
            "grid_auto_flow": null,
            "grid_area": null,
            "grid_template_columns": null,
            "flex": null,
            "_model_name": "LayoutModel",
            "justify_items": null,
            "grid_row": null,
            "max_height": null,
            "align_content": null,
            "visibility": null,
            "align_self": null,
            "height": null,
            "min_height": null,
            "padding": null,
            "grid_auto_rows": null,
            "grid_gap": null,
            "max_width": null,
            "order": null,
            "_view_module_version": "1.2.0",
            "grid_template_areas": null,
            "object_position": null,
            "object_fit": null,
            "grid_auto_columns": null,
            "margin": null,
            "display": null,
            "left": null
          }
        },
        "39877530942e41b7a90e75e16a209da2": {
          "model_module": "@jupyter-widgets/controls",
          "model_name": "HTMLModel",
          "model_module_version": "1.5.0",
          "state": {
            "_view_name": "HTMLView",
            "style": "IPY_MODEL_6bae96fff71c49febbeca504fdc85a25",
            "_dom_classes": [],
            "description": "",
            "_model_name": "HTMLModel",
            "placeholder": "​",
            "_view_module": "@jupyter-widgets/controls",
            "_model_module_version": "1.5.0",
            "value": "PGD - Iterations: 100%",
            "_view_count": null,
            "_view_module_version": "1.5.0",
            "description_tooltip": null,
            "_model_module": "@jupyter-widgets/controls",
            "layout": "IPY_MODEL_3f21bd78e56144f38448ba5a5ae67f1e"
          }
        },
        "52e299d404ec44fda61e6d25b04e36c4": {
          "model_module": "@jupyter-widgets/controls",
          "model_name": "FloatProgressModel",
          "model_module_version": "1.5.0",
          "state": {
            "_view_name": "ProgressView",
            "style": "IPY_MODEL_f3a1a5c7c8644d8b81ffe41b44d39abf",
            "_dom_classes": [],
            "description": "",
            "_model_name": "FloatProgressModel",
            "bar_style": "",
            "max": 10,
            "_view_module": "@jupyter-widgets/controls",
            "_model_module_version": "1.5.0",
            "value": 10,
            "_view_count": null,
            "_view_module_version": "1.5.0",
            "orientation": "horizontal",
            "min": 0,
            "description_tooltip": null,
            "_model_module": "@jupyter-widgets/controls",
            "layout": "IPY_MODEL_c0e8537acfe04ed1916ff0f4d2c5861d"
          }
        },
        "28f0f1b677f545768480a2efe64481fb": {
          "model_module": "@jupyter-widgets/controls",
          "model_name": "HTMLModel",
          "model_module_version": "1.5.0",
          "state": {
            "_view_name": "HTMLView",
            "style": "IPY_MODEL_bea68e04c6fd45eda935d26caf6ea211",
            "_dom_classes": [],
            "description": "",
            "_model_name": "HTMLModel",
            "placeholder": "​",
            "_view_module": "@jupyter-widgets/controls",
            "_model_module_version": "1.5.0",
            "value": " 10/10 [00:17&lt;00:00,  1.79s/it]",
            "_view_count": null,
            "_view_module_version": "1.5.0",
            "description_tooltip": null,
            "_model_module": "@jupyter-widgets/controls",
            "layout": "IPY_MODEL_323adf14bf1a4cf19d25ca5df9a0d175"
          }
        },
        "6bae96fff71c49febbeca504fdc85a25": {
          "model_module": "@jupyter-widgets/controls",
          "model_name": "DescriptionStyleModel",
          "model_module_version": "1.5.0",
          "state": {
            "_view_name": "StyleView",
            "_model_name": "DescriptionStyleModel",
            "description_width": "",
            "_view_module": "@jupyter-widgets/base",
            "_model_module_version": "1.5.0",
            "_view_count": null,
            "_view_module_version": "1.2.0",
            "_model_module": "@jupyter-widgets/controls"
          }
        },
        "3f21bd78e56144f38448ba5a5ae67f1e": {
          "model_module": "@jupyter-widgets/base",
          "model_name": "LayoutModel",
          "model_module_version": "1.2.0",
          "state": {
            "_view_name": "LayoutView",
            "grid_template_rows": null,
            "right": null,
            "justify_content": null,
            "_view_module": "@jupyter-widgets/base",
            "overflow": null,
            "_model_module_version": "1.2.0",
            "_view_count": null,
            "flex_flow": null,
            "width": null,
            "min_width": null,
            "border": null,
            "align_items": null,
            "bottom": null,
            "_model_module": "@jupyter-widgets/base",
            "top": null,
            "grid_column": null,
            "overflow_y": null,
            "overflow_x": null,
            "grid_auto_flow": null,
            "grid_area": null,
            "grid_template_columns": null,
            "flex": null,
            "_model_name": "LayoutModel",
            "justify_items": null,
            "grid_row": null,
            "max_height": null,
            "align_content": null,
            "visibility": null,
            "align_self": null,
            "height": null,
            "min_height": null,
            "padding": null,
            "grid_auto_rows": null,
            "grid_gap": null,
            "max_width": null,
            "order": null,
            "_view_module_version": "1.2.0",
            "grid_template_areas": null,
            "object_position": null,
            "object_fit": null,
            "grid_auto_columns": null,
            "margin": null,
            "display": null,
            "left": null
          }
        },
        "f3a1a5c7c8644d8b81ffe41b44d39abf": {
          "model_module": "@jupyter-widgets/controls",
          "model_name": "ProgressStyleModel",
          "model_module_version": "1.5.0",
          "state": {
            "_view_name": "StyleView",
            "_model_name": "ProgressStyleModel",
            "description_width": "",
            "_view_module": "@jupyter-widgets/base",
            "_model_module_version": "1.5.0",
            "_view_count": null,
            "_view_module_version": "1.2.0",
            "bar_color": null,
            "_model_module": "@jupyter-widgets/controls"
          }
        },
        "c0e8537acfe04ed1916ff0f4d2c5861d": {
          "model_module": "@jupyter-widgets/base",
          "model_name": "LayoutModel",
          "model_module_version": "1.2.0",
          "state": {
            "_view_name": "LayoutView",
            "grid_template_rows": null,
            "right": null,
            "justify_content": null,
            "_view_module": "@jupyter-widgets/base",
            "overflow": null,
            "_model_module_version": "1.2.0",
            "_view_count": null,
            "flex_flow": null,
            "width": null,
            "min_width": null,
            "border": null,
            "align_items": null,
            "bottom": null,
            "_model_module": "@jupyter-widgets/base",
            "top": null,
            "grid_column": null,
            "overflow_y": null,
            "overflow_x": null,
            "grid_auto_flow": null,
            "grid_area": null,
            "grid_template_columns": null,
            "flex": null,
            "_model_name": "LayoutModel",
            "justify_items": null,
            "grid_row": null,
            "max_height": null,
            "align_content": null,
            "visibility": null,
            "align_self": null,
            "height": null,
            "min_height": null,
            "padding": null,
            "grid_auto_rows": null,
            "grid_gap": null,
            "max_width": null,
            "order": null,
            "_view_module_version": "1.2.0",
            "grid_template_areas": null,
            "object_position": null,
            "object_fit": null,
            "grid_auto_columns": null,
            "margin": null,
            "display": null,
            "left": null
          }
        },
        "bea68e04c6fd45eda935d26caf6ea211": {
          "model_module": "@jupyter-widgets/controls",
          "model_name": "DescriptionStyleModel",
          "model_module_version": "1.5.0",
          "state": {
            "_view_name": "StyleView",
            "_model_name": "DescriptionStyleModel",
            "description_width": "",
            "_view_module": "@jupyter-widgets/base",
            "_model_module_version": "1.5.0",
            "_view_count": null,
            "_view_module_version": "1.2.0",
            "_model_module": "@jupyter-widgets/controls"
          }
        },
        "323adf14bf1a4cf19d25ca5df9a0d175": {
          "model_module": "@jupyter-widgets/base",
          "model_name": "LayoutModel",
          "model_module_version": "1.2.0",
          "state": {
            "_view_name": "LayoutView",
            "grid_template_rows": null,
            "right": null,
            "justify_content": null,
            "_view_module": "@jupyter-widgets/base",
            "overflow": null,
            "_model_module_version": "1.2.0",
            "_view_count": null,
            "flex_flow": null,
            "width": null,
            "min_width": null,
            "border": null,
            "align_items": null,
            "bottom": null,
            "_model_module": "@jupyter-widgets/base",
            "top": null,
            "grid_column": null,
            "overflow_y": null,
            "overflow_x": null,
            "grid_auto_flow": null,
            "grid_area": null,
            "grid_template_columns": null,
            "flex": null,
            "_model_name": "LayoutModel",
            "justify_items": null,
            "grid_row": null,
            "max_height": null,
            "align_content": null,
            "visibility": null,
            "align_self": null,
            "height": null,
            "min_height": null,
            "padding": null,
            "grid_auto_rows": null,
            "grid_gap": null,
            "max_width": null,
            "order": null,
            "_view_module_version": "1.2.0",
            "grid_template_areas": null,
            "object_position": null,
            "object_fit": null,
            "grid_auto_columns": null,
            "margin": null,
            "display": null,
            "left": null
          }
        },
        "896838586168424e857cf0f715161933": {
          "model_module": "@jupyter-widgets/controls",
          "model_name": "HBoxModel",
          "model_module_version": "1.5.0",
          "state": {
            "_view_name": "HBoxView",
            "_dom_classes": [],
            "_model_name": "HBoxModel",
            "_view_module": "@jupyter-widgets/controls",
            "_model_module_version": "1.5.0",
            "_view_count": null,
            "_view_module_version": "1.5.0",
            "box_style": "",
            "layout": "IPY_MODEL_ecca53560ab24c79a04a1b8c5d6db704",
            "_model_module": "@jupyter-widgets/controls",
            "children": [
              "IPY_MODEL_9071e2e2df9a4b9ab2066d310cd66703",
              "IPY_MODEL_3d828839e3444646b3697aeeab8cc17f",
              "IPY_MODEL_30971f417d8845feb0778e8cc1579fd8"
            ]
          }
        },
        "ecca53560ab24c79a04a1b8c5d6db704": {
          "model_module": "@jupyter-widgets/base",
          "model_name": "LayoutModel",
          "model_module_version": "1.2.0",
          "state": {
            "_view_name": "LayoutView",
            "grid_template_rows": null,
            "right": null,
            "justify_content": null,
            "_view_module": "@jupyter-widgets/base",
            "overflow": null,
            "_model_module_version": "1.2.0",
            "_view_count": null,
            "flex_flow": null,
            "width": null,
            "min_width": null,
            "border": null,
            "align_items": null,
            "bottom": null,
            "_model_module": "@jupyter-widgets/base",
            "top": null,
            "grid_column": null,
            "overflow_y": null,
            "overflow_x": null,
            "grid_auto_flow": null,
            "grid_area": null,
            "grid_template_columns": null,
            "flex": null,
            "_model_name": "LayoutModel",
            "justify_items": null,
            "grid_row": null,
            "max_height": null,
            "align_content": null,
            "visibility": null,
            "align_self": null,
            "height": null,
            "min_height": null,
            "padding": null,
            "grid_auto_rows": null,
            "grid_gap": null,
            "max_width": null,
            "order": null,
            "_view_module_version": "1.2.0",
            "grid_template_areas": null,
            "object_position": null,
            "object_fit": null,
            "grid_auto_columns": null,
            "margin": null,
            "display": null,
            "left": null
          }
        },
        "9071e2e2df9a4b9ab2066d310cd66703": {
          "model_module": "@jupyter-widgets/controls",
          "model_name": "HTMLModel",
          "model_module_version": "1.5.0",
          "state": {
            "_view_name": "HTMLView",
            "style": "IPY_MODEL_799206465c0b4435a21a345723ccf930",
            "_dom_classes": [],
            "description": "",
            "_model_name": "HTMLModel",
            "placeholder": "​",
            "_view_module": "@jupyter-widgets/controls",
            "_model_module_version": "1.5.0",
            "value": "PGD - Random Initializations: 100%",
            "_view_count": null,
            "_view_module_version": "1.5.0",
            "description_tooltip": null,
            "_model_module": "@jupyter-widgets/controls",
            "layout": "IPY_MODEL_4fc2af12b52c41bd86392e0f5928e9f5"
          }
        },
        "3d828839e3444646b3697aeeab8cc17f": {
          "model_module": "@jupyter-widgets/controls",
          "model_name": "FloatProgressModel",
          "model_module_version": "1.5.0",
          "state": {
            "_view_name": "ProgressView",
            "style": "IPY_MODEL_93b808b1a416498e9f35c2d86db942aa",
            "_dom_classes": [],
            "description": "",
            "_model_name": "FloatProgressModel",
            "bar_style": "success",
            "max": 1,
            "_view_module": "@jupyter-widgets/controls",
            "_model_module_version": "1.5.0",
            "value": 1,
            "_view_count": null,
            "_view_module_version": "1.5.0",
            "orientation": "horizontal",
            "min": 0,
            "description_tooltip": null,
            "_model_module": "@jupyter-widgets/controls",
            "layout": "IPY_MODEL_dde62a3bea954fb1ac98ba7b5ba1c4a7"
          }
        },
        "30971f417d8845feb0778e8cc1579fd8": {
          "model_module": "@jupyter-widgets/controls",
          "model_name": "HTMLModel",
          "model_module_version": "1.5.0",
          "state": {
            "_view_name": "HTMLView",
            "style": "IPY_MODEL_ca89987129074c6eae27aadb7c203196",
            "_dom_classes": [],
            "description": "",
            "_model_name": "HTMLModel",
            "placeholder": "​",
            "_view_module": "@jupyter-widgets/controls",
            "_model_module_version": "1.5.0",
            "value": " 1/1 [00:17&lt;00:00, 17.90s/it]",
            "_view_count": null,
            "_view_module_version": "1.5.0",
            "description_tooltip": null,
            "_model_module": "@jupyter-widgets/controls",
            "layout": "IPY_MODEL_8712c4d2733d4c19bff1406ad07bb08b"
          }
        },
        "799206465c0b4435a21a345723ccf930": {
          "model_module": "@jupyter-widgets/controls",
          "model_name": "DescriptionStyleModel",
          "model_module_version": "1.5.0",
          "state": {
            "_view_name": "StyleView",
            "_model_name": "DescriptionStyleModel",
            "description_width": "",
            "_view_module": "@jupyter-widgets/base",
            "_model_module_version": "1.5.0",
            "_view_count": null,
            "_view_module_version": "1.2.0",
            "_model_module": "@jupyter-widgets/controls"
          }
        },
        "4fc2af12b52c41bd86392e0f5928e9f5": {
          "model_module": "@jupyter-widgets/base",
          "model_name": "LayoutModel",
          "model_module_version": "1.2.0",
          "state": {
            "_view_name": "LayoutView",
            "grid_template_rows": null,
            "right": null,
            "justify_content": null,
            "_view_module": "@jupyter-widgets/base",
            "overflow": null,
            "_model_module_version": "1.2.0",
            "_view_count": null,
            "flex_flow": null,
            "width": null,
            "min_width": null,
            "border": null,
            "align_items": null,
            "bottom": null,
            "_model_module": "@jupyter-widgets/base",
            "top": null,
            "grid_column": null,
            "overflow_y": null,
            "overflow_x": null,
            "grid_auto_flow": null,
            "grid_area": null,
            "grid_template_columns": null,
            "flex": null,
            "_model_name": "LayoutModel",
            "justify_items": null,
            "grid_row": null,
            "max_height": null,
            "align_content": null,
            "visibility": null,
            "align_self": null,
            "height": null,
            "min_height": null,
            "padding": null,
            "grid_auto_rows": null,
            "grid_gap": null,
            "max_width": null,
            "order": null,
            "_view_module_version": "1.2.0",
            "grid_template_areas": null,
            "object_position": null,
            "object_fit": null,
            "grid_auto_columns": null,
            "margin": null,
            "display": null,
            "left": null
          }
        },
        "93b808b1a416498e9f35c2d86db942aa": {
          "model_module": "@jupyter-widgets/controls",
          "model_name": "ProgressStyleModel",
          "model_module_version": "1.5.0",
          "state": {
            "_view_name": "StyleView",
            "_model_name": "ProgressStyleModel",
            "description_width": "",
            "_view_module": "@jupyter-widgets/base",
            "_model_module_version": "1.5.0",
            "_view_count": null,
            "_view_module_version": "1.2.0",
            "bar_color": null,
            "_model_module": "@jupyter-widgets/controls"
          }
        },
        "dde62a3bea954fb1ac98ba7b5ba1c4a7": {
          "model_module": "@jupyter-widgets/base",
          "model_name": "LayoutModel",
          "model_module_version": "1.2.0",
          "state": {
            "_view_name": "LayoutView",
            "grid_template_rows": null,
            "right": null,
            "justify_content": null,
            "_view_module": "@jupyter-widgets/base",
            "overflow": null,
            "_model_module_version": "1.2.0",
            "_view_count": null,
            "flex_flow": null,
            "width": null,
            "min_width": null,
            "border": null,
            "align_items": null,
            "bottom": null,
            "_model_module": "@jupyter-widgets/base",
            "top": null,
            "grid_column": null,
            "overflow_y": null,
            "overflow_x": null,
            "grid_auto_flow": null,
            "grid_area": null,
            "grid_template_columns": null,
            "flex": null,
            "_model_name": "LayoutModel",
            "justify_items": null,
            "grid_row": null,
            "max_height": null,
            "align_content": null,
            "visibility": null,
            "align_self": null,
            "height": null,
            "min_height": null,
            "padding": null,
            "grid_auto_rows": null,
            "grid_gap": null,
            "max_width": null,
            "order": null,
            "_view_module_version": "1.2.0",
            "grid_template_areas": null,
            "object_position": null,
            "object_fit": null,
            "grid_auto_columns": null,
            "margin": null,
            "display": null,
            "left": null
          }
        },
        "ca89987129074c6eae27aadb7c203196": {
          "model_module": "@jupyter-widgets/controls",
          "model_name": "DescriptionStyleModel",
          "model_module_version": "1.5.0",
          "state": {
            "_view_name": "StyleView",
            "_model_name": "DescriptionStyleModel",
            "description_width": "",
            "_view_module": "@jupyter-widgets/base",
            "_model_module_version": "1.5.0",
            "_view_count": null,
            "_view_module_version": "1.2.0",
            "_model_module": "@jupyter-widgets/controls"
          }
        },
        "8712c4d2733d4c19bff1406ad07bb08b": {
          "model_module": "@jupyter-widgets/base",
          "model_name": "LayoutModel",
          "model_module_version": "1.2.0",
          "state": {
            "_view_name": "LayoutView",
            "grid_template_rows": null,
            "right": null,
            "justify_content": null,
            "_view_module": "@jupyter-widgets/base",
            "overflow": null,
            "_model_module_version": "1.2.0",
            "_view_count": null,
            "flex_flow": null,
            "width": null,
            "min_width": null,
            "border": null,
            "align_items": null,
            "bottom": null,
            "_model_module": "@jupyter-widgets/base",
            "top": null,
            "grid_column": null,
            "overflow_y": null,
            "overflow_x": null,
            "grid_auto_flow": null,
            "grid_area": null,
            "grid_template_columns": null,
            "flex": null,
            "_model_name": "LayoutModel",
            "justify_items": null,
            "grid_row": null,
            "max_height": null,
            "align_content": null,
            "visibility": null,
            "align_self": null,
            "height": null,
            "min_height": null,
            "padding": null,
            "grid_auto_rows": null,
            "grid_gap": null,
            "max_width": null,
            "order": null,
            "_view_module_version": "1.2.0",
            "grid_template_areas": null,
            "object_position": null,
            "object_fit": null,
            "grid_auto_columns": null,
            "margin": null,
            "display": null,
            "left": null
          }
        },
        "2bfa4325a38446129b4b29587a3650c0": {
          "model_module": "@jupyter-widgets/controls",
          "model_name": "HBoxModel",
          "model_module_version": "1.5.0",
          "state": {
            "_view_name": "HBoxView",
            "_dom_classes": [],
            "_model_name": "HBoxModel",
            "_view_module": "@jupyter-widgets/controls",
            "_model_module_version": "1.5.0",
            "_view_count": null,
            "_view_module_version": "1.5.0",
            "box_style": "",
            "layout": "IPY_MODEL_c9fc67764e8a4607890a54a5b9afb0a0",
            "_model_module": "@jupyter-widgets/controls",
            "children": [
              "IPY_MODEL_f4ba26a90a3446aa80a13d451cfdcf86",
              "IPY_MODEL_9ba2f2163fb548ffa6adae66e1e02828",
              "IPY_MODEL_ae7645eec18945e089bc873599114745"
            ]
          }
        },
        "c9fc67764e8a4607890a54a5b9afb0a0": {
          "model_module": "@jupyter-widgets/base",
          "model_name": "LayoutModel",
          "model_module_version": "1.2.0",
          "state": {
            "_view_name": "LayoutView",
            "grid_template_rows": null,
            "right": null,
            "justify_content": null,
            "_view_module": "@jupyter-widgets/base",
            "overflow": null,
            "_model_module_version": "1.2.0",
            "_view_count": null,
            "flex_flow": null,
            "width": null,
            "min_width": null,
            "border": null,
            "align_items": null,
            "bottom": null,
            "_model_module": "@jupyter-widgets/base",
            "top": null,
            "grid_column": null,
            "overflow_y": null,
            "overflow_x": null,
            "grid_auto_flow": null,
            "grid_area": null,
            "grid_template_columns": null,
            "flex": null,
            "_model_name": "LayoutModel",
            "justify_items": null,
            "grid_row": null,
            "max_height": null,
            "align_content": null,
            "visibility": null,
            "align_self": null,
            "height": null,
            "min_height": null,
            "padding": null,
            "grid_auto_rows": null,
            "grid_gap": null,
            "max_width": null,
            "order": null,
            "_view_module_version": "1.2.0",
            "grid_template_areas": null,
            "object_position": null,
            "object_fit": null,
            "grid_auto_columns": null,
            "margin": null,
            "display": null,
            "left": null
          }
        },
        "f4ba26a90a3446aa80a13d451cfdcf86": {
          "model_module": "@jupyter-widgets/controls",
          "model_name": "HTMLModel",
          "model_module_version": "1.5.0",
          "state": {
            "_view_name": "HTMLView",
            "style": "IPY_MODEL_73b6bae3876f49e58e829755c6ebce93",
            "_dom_classes": [],
            "description": "",
            "_model_name": "HTMLModel",
            "placeholder": "​",
            "_view_module": "@jupyter-widgets/controls",
            "_model_module_version": "1.5.0",
            "value": "PGD - Iterations: 100%",
            "_view_count": null,
            "_view_module_version": "1.5.0",
            "description_tooltip": null,
            "_model_module": "@jupyter-widgets/controls",
            "layout": "IPY_MODEL_9c54143c7d1f4a01a6f34f8d743b13d0"
          }
        },
        "9ba2f2163fb548ffa6adae66e1e02828": {
          "model_module": "@jupyter-widgets/controls",
          "model_name": "FloatProgressModel",
          "model_module_version": "1.5.0",
          "state": {
            "_view_name": "ProgressView",
            "style": "IPY_MODEL_663e4d7ce08d4370adf958600bf093d0",
            "_dom_classes": [],
            "description": "",
            "_model_name": "FloatProgressModel",
            "bar_style": "",
            "max": 10,
            "_view_module": "@jupyter-widgets/controls",
            "_model_module_version": "1.5.0",
            "value": 10,
            "_view_count": null,
            "_view_module_version": "1.5.0",
            "orientation": "horizontal",
            "min": 0,
            "description_tooltip": null,
            "_model_module": "@jupyter-widgets/controls",
            "layout": "IPY_MODEL_e4f08215b71442db84178f8adc54729c"
          }
        },
        "ae7645eec18945e089bc873599114745": {
          "model_module": "@jupyter-widgets/controls",
          "model_name": "HTMLModel",
          "model_module_version": "1.5.0",
          "state": {
            "_view_name": "HTMLView",
            "style": "IPY_MODEL_dffd4223d57a43d4882fa7f62eb74a5c",
            "_dom_classes": [],
            "description": "",
            "_model_name": "HTMLModel",
            "placeholder": "​",
            "_view_module": "@jupyter-widgets/controls",
            "_model_module_version": "1.5.0",
            "value": " 10/10 [00:17&lt;00:00,  1.77s/it]",
            "_view_count": null,
            "_view_module_version": "1.5.0",
            "description_tooltip": null,
            "_model_module": "@jupyter-widgets/controls",
            "layout": "IPY_MODEL_3447de057ffc46e6bae74878a3b0fe02"
          }
        },
        "73b6bae3876f49e58e829755c6ebce93": {
          "model_module": "@jupyter-widgets/controls",
          "model_name": "DescriptionStyleModel",
          "model_module_version": "1.5.0",
          "state": {
            "_view_name": "StyleView",
            "_model_name": "DescriptionStyleModel",
            "description_width": "",
            "_view_module": "@jupyter-widgets/base",
            "_model_module_version": "1.5.0",
            "_view_count": null,
            "_view_module_version": "1.2.0",
            "_model_module": "@jupyter-widgets/controls"
          }
        },
        "9c54143c7d1f4a01a6f34f8d743b13d0": {
          "model_module": "@jupyter-widgets/base",
          "model_name": "LayoutModel",
          "model_module_version": "1.2.0",
          "state": {
            "_view_name": "LayoutView",
            "grid_template_rows": null,
            "right": null,
            "justify_content": null,
            "_view_module": "@jupyter-widgets/base",
            "overflow": null,
            "_model_module_version": "1.2.0",
            "_view_count": null,
            "flex_flow": null,
            "width": null,
            "min_width": null,
            "border": null,
            "align_items": null,
            "bottom": null,
            "_model_module": "@jupyter-widgets/base",
            "top": null,
            "grid_column": null,
            "overflow_y": null,
            "overflow_x": null,
            "grid_auto_flow": null,
            "grid_area": null,
            "grid_template_columns": null,
            "flex": null,
            "_model_name": "LayoutModel",
            "justify_items": null,
            "grid_row": null,
            "max_height": null,
            "align_content": null,
            "visibility": null,
            "align_self": null,
            "height": null,
            "min_height": null,
            "padding": null,
            "grid_auto_rows": null,
            "grid_gap": null,
            "max_width": null,
            "order": null,
            "_view_module_version": "1.2.0",
            "grid_template_areas": null,
            "object_position": null,
            "object_fit": null,
            "grid_auto_columns": null,
            "margin": null,
            "display": null,
            "left": null
          }
        },
        "663e4d7ce08d4370adf958600bf093d0": {
          "model_module": "@jupyter-widgets/controls",
          "model_name": "ProgressStyleModel",
          "model_module_version": "1.5.0",
          "state": {
            "_view_name": "StyleView",
            "_model_name": "ProgressStyleModel",
            "description_width": "",
            "_view_module": "@jupyter-widgets/base",
            "_model_module_version": "1.5.0",
            "_view_count": null,
            "_view_module_version": "1.2.0",
            "bar_color": null,
            "_model_module": "@jupyter-widgets/controls"
          }
        },
        "e4f08215b71442db84178f8adc54729c": {
          "model_module": "@jupyter-widgets/base",
          "model_name": "LayoutModel",
          "model_module_version": "1.2.0",
          "state": {
            "_view_name": "LayoutView",
            "grid_template_rows": null,
            "right": null,
            "justify_content": null,
            "_view_module": "@jupyter-widgets/base",
            "overflow": null,
            "_model_module_version": "1.2.0",
            "_view_count": null,
            "flex_flow": null,
            "width": null,
            "min_width": null,
            "border": null,
            "align_items": null,
            "bottom": null,
            "_model_module": "@jupyter-widgets/base",
            "top": null,
            "grid_column": null,
            "overflow_y": null,
            "overflow_x": null,
            "grid_auto_flow": null,
            "grid_area": null,
            "grid_template_columns": null,
            "flex": null,
            "_model_name": "LayoutModel",
            "justify_items": null,
            "grid_row": null,
            "max_height": null,
            "align_content": null,
            "visibility": null,
            "align_self": null,
            "height": null,
            "min_height": null,
            "padding": null,
            "grid_auto_rows": null,
            "grid_gap": null,
            "max_width": null,
            "order": null,
            "_view_module_version": "1.2.0",
            "grid_template_areas": null,
            "object_position": null,
            "object_fit": null,
            "grid_auto_columns": null,
            "margin": null,
            "display": null,
            "left": null
          }
        },
        "dffd4223d57a43d4882fa7f62eb74a5c": {
          "model_module": "@jupyter-widgets/controls",
          "model_name": "DescriptionStyleModel",
          "model_module_version": "1.5.0",
          "state": {
            "_view_name": "StyleView",
            "_model_name": "DescriptionStyleModel",
            "description_width": "",
            "_view_module": "@jupyter-widgets/base",
            "_model_module_version": "1.5.0",
            "_view_count": null,
            "_view_module_version": "1.2.0",
            "_model_module": "@jupyter-widgets/controls"
          }
        },
        "3447de057ffc46e6bae74878a3b0fe02": {
          "model_module": "@jupyter-widgets/base",
          "model_name": "LayoutModel",
          "model_module_version": "1.2.0",
          "state": {
            "_view_name": "LayoutView",
            "grid_template_rows": null,
            "right": null,
            "justify_content": null,
            "_view_module": "@jupyter-widgets/base",
            "overflow": null,
            "_model_module_version": "1.2.0",
            "_view_count": null,
            "flex_flow": null,
            "width": null,
            "min_width": null,
            "border": null,
            "align_items": null,
            "bottom": null,
            "_model_module": "@jupyter-widgets/base",
            "top": null,
            "grid_column": null,
            "overflow_y": null,
            "overflow_x": null,
            "grid_auto_flow": null,
            "grid_area": null,
            "grid_template_columns": null,
            "flex": null,
            "_model_name": "LayoutModel",
            "justify_items": null,
            "grid_row": null,
            "max_height": null,
            "align_content": null,
            "visibility": null,
            "align_self": null,
            "height": null,
            "min_height": null,
            "padding": null,
            "grid_auto_rows": null,
            "grid_gap": null,
            "max_width": null,
            "order": null,
            "_view_module_version": "1.2.0",
            "grid_template_areas": null,
            "object_position": null,
            "object_fit": null,
            "grid_auto_columns": null,
            "margin": null,
            "display": null,
            "left": null
          }
        },
        "166bfa7ba65e49b1aa2ef4aba3726b01": {
          "model_module": "@jupyter-widgets/controls",
          "model_name": "HBoxModel",
          "model_module_version": "1.5.0",
          "state": {
            "_view_name": "HBoxView",
            "_dom_classes": [],
            "_model_name": "HBoxModel",
            "_view_module": "@jupyter-widgets/controls",
            "_model_module_version": "1.5.0",
            "_view_count": null,
            "_view_module_version": "1.5.0",
            "box_style": "",
            "layout": "IPY_MODEL_be981eb664654972b82d370334cca74f",
            "_model_module": "@jupyter-widgets/controls",
            "children": [
              "IPY_MODEL_5ab2166d6d0c45d99c1230d1d91ae273",
              "IPY_MODEL_dcf74170c4874997b0f6e33a7fdbe8f3",
              "IPY_MODEL_f83338afc06644c2a00c2767bbdf5f32"
            ]
          }
        },
        "be981eb664654972b82d370334cca74f": {
          "model_module": "@jupyter-widgets/base",
          "model_name": "LayoutModel",
          "model_module_version": "1.2.0",
          "state": {
            "_view_name": "LayoutView",
            "grid_template_rows": null,
            "right": null,
            "justify_content": null,
            "_view_module": "@jupyter-widgets/base",
            "overflow": null,
            "_model_module_version": "1.2.0",
            "_view_count": null,
            "flex_flow": null,
            "width": null,
            "min_width": null,
            "border": null,
            "align_items": null,
            "bottom": null,
            "_model_module": "@jupyter-widgets/base",
            "top": null,
            "grid_column": null,
            "overflow_y": null,
            "overflow_x": null,
            "grid_auto_flow": null,
            "grid_area": null,
            "grid_template_columns": null,
            "flex": null,
            "_model_name": "LayoutModel",
            "justify_items": null,
            "grid_row": null,
            "max_height": null,
            "align_content": null,
            "visibility": null,
            "align_self": null,
            "height": null,
            "min_height": null,
            "padding": null,
            "grid_auto_rows": null,
            "grid_gap": null,
            "max_width": null,
            "order": null,
            "_view_module_version": "1.2.0",
            "grid_template_areas": null,
            "object_position": null,
            "object_fit": null,
            "grid_auto_columns": null,
            "margin": null,
            "display": null,
            "left": null
          }
        },
        "5ab2166d6d0c45d99c1230d1d91ae273": {
          "model_module": "@jupyter-widgets/controls",
          "model_name": "HTMLModel",
          "model_module_version": "1.5.0",
          "state": {
            "_view_name": "HTMLView",
            "style": "IPY_MODEL_ef42317b33e74a99930f02d2d4280a6f",
            "_dom_classes": [],
            "description": "",
            "_model_name": "HTMLModel",
            "placeholder": "​",
            "_view_module": "@jupyter-widgets/controls",
            "_model_module_version": "1.5.0",
            "value": "PGD - Random Initializations: 100%",
            "_view_count": null,
            "_view_module_version": "1.5.0",
            "description_tooltip": null,
            "_model_module": "@jupyter-widgets/controls",
            "layout": "IPY_MODEL_a8106333102b4ce3914b68c9c053db7a"
          }
        },
        "dcf74170c4874997b0f6e33a7fdbe8f3": {
          "model_module": "@jupyter-widgets/controls",
          "model_name": "FloatProgressModel",
          "model_module_version": "1.5.0",
          "state": {
            "_view_name": "ProgressView",
            "style": "IPY_MODEL_5dc08415b04946cba903929e9abc5408",
            "_dom_classes": [],
            "description": "",
            "_model_name": "FloatProgressModel",
            "bar_style": "success",
            "max": 1,
            "_view_module": "@jupyter-widgets/controls",
            "_model_module_version": "1.5.0",
            "value": 1,
            "_view_count": null,
            "_view_module_version": "1.5.0",
            "orientation": "horizontal",
            "min": 0,
            "description_tooltip": null,
            "_model_module": "@jupyter-widgets/controls",
            "layout": "IPY_MODEL_0604068c165c4466b59faa79ebf294aa"
          }
        },
        "f83338afc06644c2a00c2767bbdf5f32": {
          "model_module": "@jupyter-widgets/controls",
          "model_name": "HTMLModel",
          "model_module_version": "1.5.0",
          "state": {
            "_view_name": "HTMLView",
            "style": "IPY_MODEL_aed8862a64074df6ab5e76a5e9ae9f8d",
            "_dom_classes": [],
            "description": "",
            "_model_name": "HTMLModel",
            "placeholder": "​",
            "_view_module": "@jupyter-widgets/controls",
            "_model_module_version": "1.5.0",
            "value": " 1/1 [00:17&lt;00:00, 17.99s/it]",
            "_view_count": null,
            "_view_module_version": "1.5.0",
            "description_tooltip": null,
            "_model_module": "@jupyter-widgets/controls",
            "layout": "IPY_MODEL_3e4cff6e78f9463d8d806aa408571800"
          }
        },
        "ef42317b33e74a99930f02d2d4280a6f": {
          "model_module": "@jupyter-widgets/controls",
          "model_name": "DescriptionStyleModel",
          "model_module_version": "1.5.0",
          "state": {
            "_view_name": "StyleView",
            "_model_name": "DescriptionStyleModel",
            "description_width": "",
            "_view_module": "@jupyter-widgets/base",
            "_model_module_version": "1.5.0",
            "_view_count": null,
            "_view_module_version": "1.2.0",
            "_model_module": "@jupyter-widgets/controls"
          }
        },
        "a8106333102b4ce3914b68c9c053db7a": {
          "model_module": "@jupyter-widgets/base",
          "model_name": "LayoutModel",
          "model_module_version": "1.2.0",
          "state": {
            "_view_name": "LayoutView",
            "grid_template_rows": null,
            "right": null,
            "justify_content": null,
            "_view_module": "@jupyter-widgets/base",
            "overflow": null,
            "_model_module_version": "1.2.0",
            "_view_count": null,
            "flex_flow": null,
            "width": null,
            "min_width": null,
            "border": null,
            "align_items": null,
            "bottom": null,
            "_model_module": "@jupyter-widgets/base",
            "top": null,
            "grid_column": null,
            "overflow_y": null,
            "overflow_x": null,
            "grid_auto_flow": null,
            "grid_area": null,
            "grid_template_columns": null,
            "flex": null,
            "_model_name": "LayoutModel",
            "justify_items": null,
            "grid_row": null,
            "max_height": null,
            "align_content": null,
            "visibility": null,
            "align_self": null,
            "height": null,
            "min_height": null,
            "padding": null,
            "grid_auto_rows": null,
            "grid_gap": null,
            "max_width": null,
            "order": null,
            "_view_module_version": "1.2.0",
            "grid_template_areas": null,
            "object_position": null,
            "object_fit": null,
            "grid_auto_columns": null,
            "margin": null,
            "display": null,
            "left": null
          }
        },
        "5dc08415b04946cba903929e9abc5408": {
          "model_module": "@jupyter-widgets/controls",
          "model_name": "ProgressStyleModel",
          "model_module_version": "1.5.0",
          "state": {
            "_view_name": "StyleView",
            "_model_name": "ProgressStyleModel",
            "description_width": "",
            "_view_module": "@jupyter-widgets/base",
            "_model_module_version": "1.5.0",
            "_view_count": null,
            "_view_module_version": "1.2.0",
            "bar_color": null,
            "_model_module": "@jupyter-widgets/controls"
          }
        },
        "0604068c165c4466b59faa79ebf294aa": {
          "model_module": "@jupyter-widgets/base",
          "model_name": "LayoutModel",
          "model_module_version": "1.2.0",
          "state": {
            "_view_name": "LayoutView",
            "grid_template_rows": null,
            "right": null,
            "justify_content": null,
            "_view_module": "@jupyter-widgets/base",
            "overflow": null,
            "_model_module_version": "1.2.0",
            "_view_count": null,
            "flex_flow": null,
            "width": null,
            "min_width": null,
            "border": null,
            "align_items": null,
            "bottom": null,
            "_model_module": "@jupyter-widgets/base",
            "top": null,
            "grid_column": null,
            "overflow_y": null,
            "overflow_x": null,
            "grid_auto_flow": null,
            "grid_area": null,
            "grid_template_columns": null,
            "flex": null,
            "_model_name": "LayoutModel",
            "justify_items": null,
            "grid_row": null,
            "max_height": null,
            "align_content": null,
            "visibility": null,
            "align_self": null,
            "height": null,
            "min_height": null,
            "padding": null,
            "grid_auto_rows": null,
            "grid_gap": null,
            "max_width": null,
            "order": null,
            "_view_module_version": "1.2.0",
            "grid_template_areas": null,
            "object_position": null,
            "object_fit": null,
            "grid_auto_columns": null,
            "margin": null,
            "display": null,
            "left": null
          }
        },
        "aed8862a64074df6ab5e76a5e9ae9f8d": {
          "model_module": "@jupyter-widgets/controls",
          "model_name": "DescriptionStyleModel",
          "model_module_version": "1.5.0",
          "state": {
            "_view_name": "StyleView",
            "_model_name": "DescriptionStyleModel",
            "description_width": "",
            "_view_module": "@jupyter-widgets/base",
            "_model_module_version": "1.5.0",
            "_view_count": null,
            "_view_module_version": "1.2.0",
            "_model_module": "@jupyter-widgets/controls"
          }
        },
        "3e4cff6e78f9463d8d806aa408571800": {
          "model_module": "@jupyter-widgets/base",
          "model_name": "LayoutModel",
          "model_module_version": "1.2.0",
          "state": {
            "_view_name": "LayoutView",
            "grid_template_rows": null,
            "right": null,
            "justify_content": null,
            "_view_module": "@jupyter-widgets/base",
            "overflow": null,
            "_model_module_version": "1.2.0",
            "_view_count": null,
            "flex_flow": null,
            "width": null,
            "min_width": null,
            "border": null,
            "align_items": null,
            "bottom": null,
            "_model_module": "@jupyter-widgets/base",
            "top": null,
            "grid_column": null,
            "overflow_y": null,
            "overflow_x": null,
            "grid_auto_flow": null,
            "grid_area": null,
            "grid_template_columns": null,
            "flex": null,
            "_model_name": "LayoutModel",
            "justify_items": null,
            "grid_row": null,
            "max_height": null,
            "align_content": null,
            "visibility": null,
            "align_self": null,
            "height": null,
            "min_height": null,
            "padding": null,
            "grid_auto_rows": null,
            "grid_gap": null,
            "max_width": null,
            "order": null,
            "_view_module_version": "1.2.0",
            "grid_template_areas": null,
            "object_position": null,
            "object_fit": null,
            "grid_auto_columns": null,
            "margin": null,
            "display": null,
            "left": null
          }
        },
        "b9783f6409744d9b874b24f090701682": {
          "model_module": "@jupyter-widgets/controls",
          "model_name": "HBoxModel",
          "model_module_version": "1.5.0",
          "state": {
            "_view_name": "HBoxView",
            "_dom_classes": [],
            "_model_name": "HBoxModel",
            "_view_module": "@jupyter-widgets/controls",
            "_model_module_version": "1.5.0",
            "_view_count": null,
            "_view_module_version": "1.5.0",
            "box_style": "",
            "layout": "IPY_MODEL_389857550b834d99973fd9ba2f0241ea",
            "_model_module": "@jupyter-widgets/controls",
            "children": [
              "IPY_MODEL_ac25392f0ebc4b1cb880542f08e14b81",
              "IPY_MODEL_e9605b28521b4738b3aa04b1c877b680",
              "IPY_MODEL_1279af5e112a4e44a3dbfcf167e9102b"
            ]
          }
        },
        "389857550b834d99973fd9ba2f0241ea": {
          "model_module": "@jupyter-widgets/base",
          "model_name": "LayoutModel",
          "model_module_version": "1.2.0",
          "state": {
            "_view_name": "LayoutView",
            "grid_template_rows": null,
            "right": null,
            "justify_content": null,
            "_view_module": "@jupyter-widgets/base",
            "overflow": null,
            "_model_module_version": "1.2.0",
            "_view_count": null,
            "flex_flow": null,
            "width": null,
            "min_width": null,
            "border": null,
            "align_items": null,
            "bottom": null,
            "_model_module": "@jupyter-widgets/base",
            "top": null,
            "grid_column": null,
            "overflow_y": null,
            "overflow_x": null,
            "grid_auto_flow": null,
            "grid_area": null,
            "grid_template_columns": null,
            "flex": null,
            "_model_name": "LayoutModel",
            "justify_items": null,
            "grid_row": null,
            "max_height": null,
            "align_content": null,
            "visibility": null,
            "align_self": null,
            "height": null,
            "min_height": null,
            "padding": null,
            "grid_auto_rows": null,
            "grid_gap": null,
            "max_width": null,
            "order": null,
            "_view_module_version": "1.2.0",
            "grid_template_areas": null,
            "object_position": null,
            "object_fit": null,
            "grid_auto_columns": null,
            "margin": null,
            "display": null,
            "left": null
          }
        },
        "ac25392f0ebc4b1cb880542f08e14b81": {
          "model_module": "@jupyter-widgets/controls",
          "model_name": "HTMLModel",
          "model_module_version": "1.5.0",
          "state": {
            "_view_name": "HTMLView",
            "style": "IPY_MODEL_afe977607bf14c938e311b777b49b631",
            "_dom_classes": [],
            "description": "",
            "_model_name": "HTMLModel",
            "placeholder": "​",
            "_view_module": "@jupyter-widgets/controls",
            "_model_module_version": "1.5.0",
            "value": "PGD - Iterations: 100%",
            "_view_count": null,
            "_view_module_version": "1.5.0",
            "description_tooltip": null,
            "_model_module": "@jupyter-widgets/controls",
            "layout": "IPY_MODEL_1eace9268ce34798a1d54458d3e55d03"
          }
        },
        "e9605b28521b4738b3aa04b1c877b680": {
          "model_module": "@jupyter-widgets/controls",
          "model_name": "FloatProgressModel",
          "model_module_version": "1.5.0",
          "state": {
            "_view_name": "ProgressView",
            "style": "IPY_MODEL_dd0320b143f943e8b9fb3272d7d8bcde",
            "_dom_classes": [],
            "description": "",
            "_model_name": "FloatProgressModel",
            "bar_style": "",
            "max": 10,
            "_view_module": "@jupyter-widgets/controls",
            "_model_module_version": "1.5.0",
            "value": 10,
            "_view_count": null,
            "_view_module_version": "1.5.0",
            "orientation": "horizontal",
            "min": 0,
            "description_tooltip": null,
            "_model_module": "@jupyter-widgets/controls",
            "layout": "IPY_MODEL_6a9d777e4f1d4e29be222f7d9cfdaad7"
          }
        },
        "1279af5e112a4e44a3dbfcf167e9102b": {
          "model_module": "@jupyter-widgets/controls",
          "model_name": "HTMLModel",
          "model_module_version": "1.5.0",
          "state": {
            "_view_name": "HTMLView",
            "style": "IPY_MODEL_1d78d1264b7a4c56a201379328b05cee",
            "_dom_classes": [],
            "description": "",
            "_model_name": "HTMLModel",
            "placeholder": "​",
            "_view_module": "@jupyter-widgets/controls",
            "_model_module_version": "1.5.0",
            "value": " 10/10 [00:17&lt;00:00,  1.78s/it]",
            "_view_count": null,
            "_view_module_version": "1.5.0",
            "description_tooltip": null,
            "_model_module": "@jupyter-widgets/controls",
            "layout": "IPY_MODEL_182fec9f95a342c4be77e0731570dd80"
          }
        },
        "afe977607bf14c938e311b777b49b631": {
          "model_module": "@jupyter-widgets/controls",
          "model_name": "DescriptionStyleModel",
          "model_module_version": "1.5.0",
          "state": {
            "_view_name": "StyleView",
            "_model_name": "DescriptionStyleModel",
            "description_width": "",
            "_view_module": "@jupyter-widgets/base",
            "_model_module_version": "1.5.0",
            "_view_count": null,
            "_view_module_version": "1.2.0",
            "_model_module": "@jupyter-widgets/controls"
          }
        },
        "1eace9268ce34798a1d54458d3e55d03": {
          "model_module": "@jupyter-widgets/base",
          "model_name": "LayoutModel",
          "model_module_version": "1.2.0",
          "state": {
            "_view_name": "LayoutView",
            "grid_template_rows": null,
            "right": null,
            "justify_content": null,
            "_view_module": "@jupyter-widgets/base",
            "overflow": null,
            "_model_module_version": "1.2.0",
            "_view_count": null,
            "flex_flow": null,
            "width": null,
            "min_width": null,
            "border": null,
            "align_items": null,
            "bottom": null,
            "_model_module": "@jupyter-widgets/base",
            "top": null,
            "grid_column": null,
            "overflow_y": null,
            "overflow_x": null,
            "grid_auto_flow": null,
            "grid_area": null,
            "grid_template_columns": null,
            "flex": null,
            "_model_name": "LayoutModel",
            "justify_items": null,
            "grid_row": null,
            "max_height": null,
            "align_content": null,
            "visibility": null,
            "align_self": null,
            "height": null,
            "min_height": null,
            "padding": null,
            "grid_auto_rows": null,
            "grid_gap": null,
            "max_width": null,
            "order": null,
            "_view_module_version": "1.2.0",
            "grid_template_areas": null,
            "object_position": null,
            "object_fit": null,
            "grid_auto_columns": null,
            "margin": null,
            "display": null,
            "left": null
          }
        },
        "dd0320b143f943e8b9fb3272d7d8bcde": {
          "model_module": "@jupyter-widgets/controls",
          "model_name": "ProgressStyleModel",
          "model_module_version": "1.5.0",
          "state": {
            "_view_name": "StyleView",
            "_model_name": "ProgressStyleModel",
            "description_width": "",
            "_view_module": "@jupyter-widgets/base",
            "_model_module_version": "1.5.0",
            "_view_count": null,
            "_view_module_version": "1.2.0",
            "bar_color": null,
            "_model_module": "@jupyter-widgets/controls"
          }
        },
        "6a9d777e4f1d4e29be222f7d9cfdaad7": {
          "model_module": "@jupyter-widgets/base",
          "model_name": "LayoutModel",
          "model_module_version": "1.2.0",
          "state": {
            "_view_name": "LayoutView",
            "grid_template_rows": null,
            "right": null,
            "justify_content": null,
            "_view_module": "@jupyter-widgets/base",
            "overflow": null,
            "_model_module_version": "1.2.0",
            "_view_count": null,
            "flex_flow": null,
            "width": null,
            "min_width": null,
            "border": null,
            "align_items": null,
            "bottom": null,
            "_model_module": "@jupyter-widgets/base",
            "top": null,
            "grid_column": null,
            "overflow_y": null,
            "overflow_x": null,
            "grid_auto_flow": null,
            "grid_area": null,
            "grid_template_columns": null,
            "flex": null,
            "_model_name": "LayoutModel",
            "justify_items": null,
            "grid_row": null,
            "max_height": null,
            "align_content": null,
            "visibility": null,
            "align_self": null,
            "height": null,
            "min_height": null,
            "padding": null,
            "grid_auto_rows": null,
            "grid_gap": null,
            "max_width": null,
            "order": null,
            "_view_module_version": "1.2.0",
            "grid_template_areas": null,
            "object_position": null,
            "object_fit": null,
            "grid_auto_columns": null,
            "margin": null,
            "display": null,
            "left": null
          }
        },
        "1d78d1264b7a4c56a201379328b05cee": {
          "model_module": "@jupyter-widgets/controls",
          "model_name": "DescriptionStyleModel",
          "model_module_version": "1.5.0",
          "state": {
            "_view_name": "StyleView",
            "_model_name": "DescriptionStyleModel",
            "description_width": "",
            "_view_module": "@jupyter-widgets/base",
            "_model_module_version": "1.5.0",
            "_view_count": null,
            "_view_module_version": "1.2.0",
            "_model_module": "@jupyter-widgets/controls"
          }
        },
        "182fec9f95a342c4be77e0731570dd80": {
          "model_module": "@jupyter-widgets/base",
          "model_name": "LayoutModel",
          "model_module_version": "1.2.0",
          "state": {
            "_view_name": "LayoutView",
            "grid_template_rows": null,
            "right": null,
            "justify_content": null,
            "_view_module": "@jupyter-widgets/base",
            "overflow": null,
            "_model_module_version": "1.2.0",
            "_view_count": null,
            "flex_flow": null,
            "width": null,
            "min_width": null,
            "border": null,
            "align_items": null,
            "bottom": null,
            "_model_module": "@jupyter-widgets/base",
            "top": null,
            "grid_column": null,
            "overflow_y": null,
            "overflow_x": null,
            "grid_auto_flow": null,
            "grid_area": null,
            "grid_template_columns": null,
            "flex": null,
            "_model_name": "LayoutModel",
            "justify_items": null,
            "grid_row": null,
            "max_height": null,
            "align_content": null,
            "visibility": null,
            "align_self": null,
            "height": null,
            "min_height": null,
            "padding": null,
            "grid_auto_rows": null,
            "grid_gap": null,
            "max_width": null,
            "order": null,
            "_view_module_version": "1.2.0",
            "grid_template_areas": null,
            "object_position": null,
            "object_fit": null,
            "grid_auto_columns": null,
            "margin": null,
            "display": null,
            "left": null
          }
        },
        "972daae80baa4c09941bf6c0219c07cc": {
          "model_module": "@jupyter-widgets/controls",
          "model_name": "HBoxModel",
          "model_module_version": "1.5.0",
          "state": {
            "_view_name": "HBoxView",
            "_dom_classes": [],
            "_model_name": "HBoxModel",
            "_view_module": "@jupyter-widgets/controls",
            "_model_module_version": "1.5.0",
            "_view_count": null,
            "_view_module_version": "1.5.0",
            "box_style": "",
            "layout": "IPY_MODEL_cf48784267164328a6ae38132c99e166",
            "_model_module": "@jupyter-widgets/controls",
            "children": [
              "IPY_MODEL_543617b31dc24222a7f21cd5b1fb5ecf",
              "IPY_MODEL_db9c3f96098644559dd4c9730e9101ec",
              "IPY_MODEL_6d6fd706e5104cb0915ced27f1c76dfc"
            ]
          }
        },
        "cf48784267164328a6ae38132c99e166": {
          "model_module": "@jupyter-widgets/base",
          "model_name": "LayoutModel",
          "model_module_version": "1.2.0",
          "state": {
            "_view_name": "LayoutView",
            "grid_template_rows": null,
            "right": null,
            "justify_content": null,
            "_view_module": "@jupyter-widgets/base",
            "overflow": null,
            "_model_module_version": "1.2.0",
            "_view_count": null,
            "flex_flow": null,
            "width": null,
            "min_width": null,
            "border": null,
            "align_items": null,
            "bottom": null,
            "_model_module": "@jupyter-widgets/base",
            "top": null,
            "grid_column": null,
            "overflow_y": null,
            "overflow_x": null,
            "grid_auto_flow": null,
            "grid_area": null,
            "grid_template_columns": null,
            "flex": null,
            "_model_name": "LayoutModel",
            "justify_items": null,
            "grid_row": null,
            "max_height": null,
            "align_content": null,
            "visibility": null,
            "align_self": null,
            "height": null,
            "min_height": null,
            "padding": null,
            "grid_auto_rows": null,
            "grid_gap": null,
            "max_width": null,
            "order": null,
            "_view_module_version": "1.2.0",
            "grid_template_areas": null,
            "object_position": null,
            "object_fit": null,
            "grid_auto_columns": null,
            "margin": null,
            "display": null,
            "left": null
          }
        },
        "543617b31dc24222a7f21cd5b1fb5ecf": {
          "model_module": "@jupyter-widgets/controls",
          "model_name": "HTMLModel",
          "model_module_version": "1.5.0",
          "state": {
            "_view_name": "HTMLView",
            "style": "IPY_MODEL_c7391b2701c74a1d962fddfa9a203d6d",
            "_dom_classes": [],
            "description": "",
            "_model_name": "HTMLModel",
            "placeholder": "​",
            "_view_module": "@jupyter-widgets/controls",
            "_model_module_version": "1.5.0",
            "value": "PGD - Random Initializations: 100%",
            "_view_count": null,
            "_view_module_version": "1.5.0",
            "description_tooltip": null,
            "_model_module": "@jupyter-widgets/controls",
            "layout": "IPY_MODEL_0bd869cfe90f4744b98d0c3f837617ff"
          }
        },
        "db9c3f96098644559dd4c9730e9101ec": {
          "model_module": "@jupyter-widgets/controls",
          "model_name": "FloatProgressModel",
          "model_module_version": "1.5.0",
          "state": {
            "_view_name": "ProgressView",
            "style": "IPY_MODEL_68c3ebeb42cc44b2806b891cb94b29aa",
            "_dom_classes": [],
            "description": "",
            "_model_name": "FloatProgressModel",
            "bar_style": "success",
            "max": 1,
            "_view_module": "@jupyter-widgets/controls",
            "_model_module_version": "1.5.0",
            "value": 1,
            "_view_count": null,
            "_view_module_version": "1.5.0",
            "orientation": "horizontal",
            "min": 0,
            "description_tooltip": null,
            "_model_module": "@jupyter-widgets/controls",
            "layout": "IPY_MODEL_cc43acc053b048b79e19a248dd4aa6a7"
          }
        },
        "6d6fd706e5104cb0915ced27f1c76dfc": {
          "model_module": "@jupyter-widgets/controls",
          "model_name": "HTMLModel",
          "model_module_version": "1.5.0",
          "state": {
            "_view_name": "HTMLView",
            "style": "IPY_MODEL_c59755467d574739be0487a4a8909734",
            "_dom_classes": [],
            "description": "",
            "_model_name": "HTMLModel",
            "placeholder": "​",
            "_view_module": "@jupyter-widgets/controls",
            "_model_module_version": "1.5.0",
            "value": " 1/1 [00:02&lt;00:00,  2.75s/it]",
            "_view_count": null,
            "_view_module_version": "1.5.0",
            "description_tooltip": null,
            "_model_module": "@jupyter-widgets/controls",
            "layout": "IPY_MODEL_ad28144d8aee4ab9b2bf18eeae030e99"
          }
        },
        "c7391b2701c74a1d962fddfa9a203d6d": {
          "model_module": "@jupyter-widgets/controls",
          "model_name": "DescriptionStyleModel",
          "model_module_version": "1.5.0",
          "state": {
            "_view_name": "StyleView",
            "_model_name": "DescriptionStyleModel",
            "description_width": "",
            "_view_module": "@jupyter-widgets/base",
            "_model_module_version": "1.5.0",
            "_view_count": null,
            "_view_module_version": "1.2.0",
            "_model_module": "@jupyter-widgets/controls"
          }
        },
        "0bd869cfe90f4744b98d0c3f837617ff": {
          "model_module": "@jupyter-widgets/base",
          "model_name": "LayoutModel",
          "model_module_version": "1.2.0",
          "state": {
            "_view_name": "LayoutView",
            "grid_template_rows": null,
            "right": null,
            "justify_content": null,
            "_view_module": "@jupyter-widgets/base",
            "overflow": null,
            "_model_module_version": "1.2.0",
            "_view_count": null,
            "flex_flow": null,
            "width": null,
            "min_width": null,
            "border": null,
            "align_items": null,
            "bottom": null,
            "_model_module": "@jupyter-widgets/base",
            "top": null,
            "grid_column": null,
            "overflow_y": null,
            "overflow_x": null,
            "grid_auto_flow": null,
            "grid_area": null,
            "grid_template_columns": null,
            "flex": null,
            "_model_name": "LayoutModel",
            "justify_items": null,
            "grid_row": null,
            "max_height": null,
            "align_content": null,
            "visibility": null,
            "align_self": null,
            "height": null,
            "min_height": null,
            "padding": null,
            "grid_auto_rows": null,
            "grid_gap": null,
            "max_width": null,
            "order": null,
            "_view_module_version": "1.2.0",
            "grid_template_areas": null,
            "object_position": null,
            "object_fit": null,
            "grid_auto_columns": null,
            "margin": null,
            "display": null,
            "left": null
          }
        },
        "68c3ebeb42cc44b2806b891cb94b29aa": {
          "model_module": "@jupyter-widgets/controls",
          "model_name": "ProgressStyleModel",
          "model_module_version": "1.5.0",
          "state": {
            "_view_name": "StyleView",
            "_model_name": "ProgressStyleModel",
            "description_width": "",
            "_view_module": "@jupyter-widgets/base",
            "_model_module_version": "1.5.0",
            "_view_count": null,
            "_view_module_version": "1.2.0",
            "bar_color": null,
            "_model_module": "@jupyter-widgets/controls"
          }
        },
        "cc43acc053b048b79e19a248dd4aa6a7": {
          "model_module": "@jupyter-widgets/base",
          "model_name": "LayoutModel",
          "model_module_version": "1.2.0",
          "state": {
            "_view_name": "LayoutView",
            "grid_template_rows": null,
            "right": null,
            "justify_content": null,
            "_view_module": "@jupyter-widgets/base",
            "overflow": null,
            "_model_module_version": "1.2.0",
            "_view_count": null,
            "flex_flow": null,
            "width": null,
            "min_width": null,
            "border": null,
            "align_items": null,
            "bottom": null,
            "_model_module": "@jupyter-widgets/base",
            "top": null,
            "grid_column": null,
            "overflow_y": null,
            "overflow_x": null,
            "grid_auto_flow": null,
            "grid_area": null,
            "grid_template_columns": null,
            "flex": null,
            "_model_name": "LayoutModel",
            "justify_items": null,
            "grid_row": null,
            "max_height": null,
            "align_content": null,
            "visibility": null,
            "align_self": null,
            "height": null,
            "min_height": null,
            "padding": null,
            "grid_auto_rows": null,
            "grid_gap": null,
            "max_width": null,
            "order": null,
            "_view_module_version": "1.2.0",
            "grid_template_areas": null,
            "object_position": null,
            "object_fit": null,
            "grid_auto_columns": null,
            "margin": null,
            "display": null,
            "left": null
          }
        },
        "c59755467d574739be0487a4a8909734": {
          "model_module": "@jupyter-widgets/controls",
          "model_name": "DescriptionStyleModel",
          "model_module_version": "1.5.0",
          "state": {
            "_view_name": "StyleView",
            "_model_name": "DescriptionStyleModel",
            "description_width": "",
            "_view_module": "@jupyter-widgets/base",
            "_model_module_version": "1.5.0",
            "_view_count": null,
            "_view_module_version": "1.2.0",
            "_model_module": "@jupyter-widgets/controls"
          }
        },
        "ad28144d8aee4ab9b2bf18eeae030e99": {
          "model_module": "@jupyter-widgets/base",
          "model_name": "LayoutModel",
          "model_module_version": "1.2.0",
          "state": {
            "_view_name": "LayoutView",
            "grid_template_rows": null,
            "right": null,
            "justify_content": null,
            "_view_module": "@jupyter-widgets/base",
            "overflow": null,
            "_model_module_version": "1.2.0",
            "_view_count": null,
            "flex_flow": null,
            "width": null,
            "min_width": null,
            "border": null,
            "align_items": null,
            "bottom": null,
            "_model_module": "@jupyter-widgets/base",
            "top": null,
            "grid_column": null,
            "overflow_y": null,
            "overflow_x": null,
            "grid_auto_flow": null,
            "grid_area": null,
            "grid_template_columns": null,
            "flex": null,
            "_model_name": "LayoutModel",
            "justify_items": null,
            "grid_row": null,
            "max_height": null,
            "align_content": null,
            "visibility": null,
            "align_self": null,
            "height": null,
            "min_height": null,
            "padding": null,
            "grid_auto_rows": null,
            "grid_gap": null,
            "max_width": null,
            "order": null,
            "_view_module_version": "1.2.0",
            "grid_template_areas": null,
            "object_position": null,
            "object_fit": null,
            "grid_auto_columns": null,
            "margin": null,
            "display": null,
            "left": null
          }
        },
        "b7ab1a42b1004db099a4f5f5686c415e": {
          "model_module": "@jupyter-widgets/controls",
          "model_name": "HBoxModel",
          "model_module_version": "1.5.0",
          "state": {
            "_view_name": "HBoxView",
            "_dom_classes": [],
            "_model_name": "HBoxModel",
            "_view_module": "@jupyter-widgets/controls",
            "_model_module_version": "1.5.0",
            "_view_count": null,
            "_view_module_version": "1.5.0",
            "box_style": "",
            "layout": "IPY_MODEL_a11eb0cfa09a4a5abb2977e0b8b385f9",
            "_model_module": "@jupyter-widgets/controls",
            "children": [
              "IPY_MODEL_8fecb7709d56470abe3cc7233045129f",
              "IPY_MODEL_843b6dd1a0d943a2b4e28ba7de6216b7",
              "IPY_MODEL_c640d3c54b474db1971e69ab2778e490"
            ]
          }
        },
        "a11eb0cfa09a4a5abb2977e0b8b385f9": {
          "model_module": "@jupyter-widgets/base",
          "model_name": "LayoutModel",
          "model_module_version": "1.2.0",
          "state": {
            "_view_name": "LayoutView",
            "grid_template_rows": null,
            "right": null,
            "justify_content": null,
            "_view_module": "@jupyter-widgets/base",
            "overflow": null,
            "_model_module_version": "1.2.0",
            "_view_count": null,
            "flex_flow": null,
            "width": null,
            "min_width": null,
            "border": null,
            "align_items": null,
            "bottom": null,
            "_model_module": "@jupyter-widgets/base",
            "top": null,
            "grid_column": null,
            "overflow_y": null,
            "overflow_x": null,
            "grid_auto_flow": null,
            "grid_area": null,
            "grid_template_columns": null,
            "flex": null,
            "_model_name": "LayoutModel",
            "justify_items": null,
            "grid_row": null,
            "max_height": null,
            "align_content": null,
            "visibility": null,
            "align_self": null,
            "height": null,
            "min_height": null,
            "padding": null,
            "grid_auto_rows": null,
            "grid_gap": null,
            "max_width": null,
            "order": null,
            "_view_module_version": "1.2.0",
            "grid_template_areas": null,
            "object_position": null,
            "object_fit": null,
            "grid_auto_columns": null,
            "margin": null,
            "display": null,
            "left": null
          }
        },
        "8fecb7709d56470abe3cc7233045129f": {
          "model_module": "@jupyter-widgets/controls",
          "model_name": "HTMLModel",
          "model_module_version": "1.5.0",
          "state": {
            "_view_name": "HTMLView",
            "style": "IPY_MODEL_e70166b878e34422b9c52ede3bb14d1b",
            "_dom_classes": [],
            "description": "",
            "_model_name": "HTMLModel",
            "placeholder": "​",
            "_view_module": "@jupyter-widgets/controls",
            "_model_module_version": "1.5.0",
            "value": "PGD - Iterations: 100%",
            "_view_count": null,
            "_view_module_version": "1.5.0",
            "description_tooltip": null,
            "_model_module": "@jupyter-widgets/controls",
            "layout": "IPY_MODEL_8e6653b8b1ff4ba1861be7a3b0c8f2f7"
          }
        },
        "843b6dd1a0d943a2b4e28ba7de6216b7": {
          "model_module": "@jupyter-widgets/controls",
          "model_name": "FloatProgressModel",
          "model_module_version": "1.5.0",
          "state": {
            "_view_name": "ProgressView",
            "style": "IPY_MODEL_fb5cc1fa73534b59bff6afefd843a7a4",
            "_dom_classes": [],
            "description": "",
            "_model_name": "FloatProgressModel",
            "bar_style": "",
            "max": 10,
            "_view_module": "@jupyter-widgets/controls",
            "_model_module_version": "1.5.0",
            "value": 10,
            "_view_count": null,
            "_view_module_version": "1.5.0",
            "orientation": "horizontal",
            "min": 0,
            "description_tooltip": null,
            "_model_module": "@jupyter-widgets/controls",
            "layout": "IPY_MODEL_cfc7427c7438405a9b1784dd6e3d5ab2"
          }
        },
        "c640d3c54b474db1971e69ab2778e490": {
          "model_module": "@jupyter-widgets/controls",
          "model_name": "HTMLModel",
          "model_module_version": "1.5.0",
          "state": {
            "_view_name": "HTMLView",
            "style": "IPY_MODEL_3746e86788a1493aa8db93728dcca880",
            "_dom_classes": [],
            "description": "",
            "_model_name": "HTMLModel",
            "placeholder": "​",
            "_view_module": "@jupyter-widgets/controls",
            "_model_module_version": "1.5.0",
            "value": " 10/10 [00:02&lt;00:00,  3.85it/s]",
            "_view_count": null,
            "_view_module_version": "1.5.0",
            "description_tooltip": null,
            "_model_module": "@jupyter-widgets/controls",
            "layout": "IPY_MODEL_c4149a2cd4bc4d7eac60d668d69b9388"
          }
        },
        "e70166b878e34422b9c52ede3bb14d1b": {
          "model_module": "@jupyter-widgets/controls",
          "model_name": "DescriptionStyleModel",
          "model_module_version": "1.5.0",
          "state": {
            "_view_name": "StyleView",
            "_model_name": "DescriptionStyleModel",
            "description_width": "",
            "_view_module": "@jupyter-widgets/base",
            "_model_module_version": "1.5.0",
            "_view_count": null,
            "_view_module_version": "1.2.0",
            "_model_module": "@jupyter-widgets/controls"
          }
        },
        "8e6653b8b1ff4ba1861be7a3b0c8f2f7": {
          "model_module": "@jupyter-widgets/base",
          "model_name": "LayoutModel",
          "model_module_version": "1.2.0",
          "state": {
            "_view_name": "LayoutView",
            "grid_template_rows": null,
            "right": null,
            "justify_content": null,
            "_view_module": "@jupyter-widgets/base",
            "overflow": null,
            "_model_module_version": "1.2.0",
            "_view_count": null,
            "flex_flow": null,
            "width": null,
            "min_width": null,
            "border": null,
            "align_items": null,
            "bottom": null,
            "_model_module": "@jupyter-widgets/base",
            "top": null,
            "grid_column": null,
            "overflow_y": null,
            "overflow_x": null,
            "grid_auto_flow": null,
            "grid_area": null,
            "grid_template_columns": null,
            "flex": null,
            "_model_name": "LayoutModel",
            "justify_items": null,
            "grid_row": null,
            "max_height": null,
            "align_content": null,
            "visibility": null,
            "align_self": null,
            "height": null,
            "min_height": null,
            "padding": null,
            "grid_auto_rows": null,
            "grid_gap": null,
            "max_width": null,
            "order": null,
            "_view_module_version": "1.2.0",
            "grid_template_areas": null,
            "object_position": null,
            "object_fit": null,
            "grid_auto_columns": null,
            "margin": null,
            "display": null,
            "left": null
          }
        },
        "fb5cc1fa73534b59bff6afefd843a7a4": {
          "model_module": "@jupyter-widgets/controls",
          "model_name": "ProgressStyleModel",
          "model_module_version": "1.5.0",
          "state": {
            "_view_name": "StyleView",
            "_model_name": "ProgressStyleModel",
            "description_width": "",
            "_view_module": "@jupyter-widgets/base",
            "_model_module_version": "1.5.0",
            "_view_count": null,
            "_view_module_version": "1.2.0",
            "bar_color": null,
            "_model_module": "@jupyter-widgets/controls"
          }
        },
        "cfc7427c7438405a9b1784dd6e3d5ab2": {
          "model_module": "@jupyter-widgets/base",
          "model_name": "LayoutModel",
          "model_module_version": "1.2.0",
          "state": {
            "_view_name": "LayoutView",
            "grid_template_rows": null,
            "right": null,
            "justify_content": null,
            "_view_module": "@jupyter-widgets/base",
            "overflow": null,
            "_model_module_version": "1.2.0",
            "_view_count": null,
            "flex_flow": null,
            "width": null,
            "min_width": null,
            "border": null,
            "align_items": null,
            "bottom": null,
            "_model_module": "@jupyter-widgets/base",
            "top": null,
            "grid_column": null,
            "overflow_y": null,
            "overflow_x": null,
            "grid_auto_flow": null,
            "grid_area": null,
            "grid_template_columns": null,
            "flex": null,
            "_model_name": "LayoutModel",
            "justify_items": null,
            "grid_row": null,
            "max_height": null,
            "align_content": null,
            "visibility": null,
            "align_self": null,
            "height": null,
            "min_height": null,
            "padding": null,
            "grid_auto_rows": null,
            "grid_gap": null,
            "max_width": null,
            "order": null,
            "_view_module_version": "1.2.0",
            "grid_template_areas": null,
            "object_position": null,
            "object_fit": null,
            "grid_auto_columns": null,
            "margin": null,
            "display": null,
            "left": null
          }
        },
        "3746e86788a1493aa8db93728dcca880": {
          "model_module": "@jupyter-widgets/controls",
          "model_name": "DescriptionStyleModel",
          "model_module_version": "1.5.0",
          "state": {
            "_view_name": "StyleView",
            "_model_name": "DescriptionStyleModel",
            "description_width": "",
            "_view_module": "@jupyter-widgets/base",
            "_model_module_version": "1.5.0",
            "_view_count": null,
            "_view_module_version": "1.2.0",
            "_model_module": "@jupyter-widgets/controls"
          }
        },
        "c4149a2cd4bc4d7eac60d668d69b9388": {
          "model_module": "@jupyter-widgets/base",
          "model_name": "LayoutModel",
          "model_module_version": "1.2.0",
          "state": {
            "_view_name": "LayoutView",
            "grid_template_rows": null,
            "right": null,
            "justify_content": null,
            "_view_module": "@jupyter-widgets/base",
            "overflow": null,
            "_model_module_version": "1.2.0",
            "_view_count": null,
            "flex_flow": null,
            "width": null,
            "min_width": null,
            "border": null,
            "align_items": null,
            "bottom": null,
            "_model_module": "@jupyter-widgets/base",
            "top": null,
            "grid_column": null,
            "overflow_y": null,
            "overflow_x": null,
            "grid_auto_flow": null,
            "grid_area": null,
            "grid_template_columns": null,
            "flex": null,
            "_model_name": "LayoutModel",
            "justify_items": null,
            "grid_row": null,
            "max_height": null,
            "align_content": null,
            "visibility": null,
            "align_self": null,
            "height": null,
            "min_height": null,
            "padding": null,
            "grid_auto_rows": null,
            "grid_gap": null,
            "max_width": null,
            "order": null,
            "_view_module_version": "1.2.0",
            "grid_template_areas": null,
            "object_position": null,
            "object_fit": null,
            "grid_auto_columns": null,
            "margin": null,
            "display": null,
            "left": null
          }
        },
        "7d3b70dc82ab4178a75361f06115e73f": {
          "model_module": "@jupyter-widgets/controls",
          "model_name": "HBoxModel",
          "model_module_version": "1.5.0",
          "state": {
            "_dom_classes": [],
            "_model_module": "@jupyter-widgets/controls",
            "_model_module_version": "1.5.0",
            "_model_name": "HBoxModel",
            "_view_count": null,
            "_view_module": "@jupyter-widgets/controls",
            "_view_module_version": "1.5.0",
            "_view_name": "HBoxView",
            "box_style": "",
            "children": [
              "IPY_MODEL_70348a492e62495f968b52a7b9b066b1",
              "IPY_MODEL_5c7e4c5afff24269bc935dfcde664bb9",
              "IPY_MODEL_2b33a9ad9c484a529ed4bf58764e98e8"
            ],
            "layout": "IPY_MODEL_ff57e4ece91e453aa09762e7002da6da"
          }
        },
        "70348a492e62495f968b52a7b9b066b1": {
          "model_module": "@jupyter-widgets/controls",
          "model_name": "HTMLModel",
          "model_module_version": "1.5.0",
          "state": {
            "_dom_classes": [],
            "_model_module": "@jupyter-widgets/controls",
            "_model_module_version": "1.5.0",
            "_model_name": "HTMLModel",
            "_view_count": null,
            "_view_module": "@jupyter-widgets/controls",
            "_view_module_version": "1.5.0",
            "_view_name": "HTMLView",
            "description": "",
            "description_tooltip": null,
            "layout": "IPY_MODEL_aa82043349fb483ba2e273ea1f304e73",
            "placeholder": "​",
            "style": "IPY_MODEL_69ef7fda725745c0bb4b98d908a42f04",
            "value": "PGD - Batches: "
          }
        },
        "5c7e4c5afff24269bc935dfcde664bb9": {
          "model_module": "@jupyter-widgets/controls",
          "model_name": "FloatProgressModel",
          "model_module_version": "1.5.0",
          "state": {
            "_dom_classes": [],
            "_model_module": "@jupyter-widgets/controls",
            "_model_module_version": "1.5.0",
            "_model_name": "FloatProgressModel",
            "_view_count": null,
            "_view_module": "@jupyter-widgets/controls",
            "_view_module_version": "1.5.0",
            "_view_name": "ProgressView",
            "bar_style": "info",
            "description": "",
            "description_tooltip": null,
            "layout": "IPY_MODEL_4c65e884dde5442787117522408a53af",
            "max": 1,
            "min": 0,
            "orientation": "horizontal",
            "style": "IPY_MODEL_20ba67e14bd54bc4957c28f56347ec1c",
            "value": 1
          }
        },
        "2b33a9ad9c484a529ed4bf58764e98e8": {
          "model_module": "@jupyter-widgets/controls",
          "model_name": "HTMLModel",
          "model_module_version": "1.5.0",
          "state": {
            "_dom_classes": [],
            "_model_module": "@jupyter-widgets/controls",
            "_model_module_version": "1.5.0",
            "_model_name": "HTMLModel",
            "_view_count": null,
            "_view_module": "@jupyter-widgets/controls",
            "_view_module_version": "1.5.0",
            "_view_name": "HTMLView",
            "description": "",
            "description_tooltip": null,
            "layout": "IPY_MODEL_cb36019f43e24d4cbd8507479f83db40",
            "placeholder": "​",
            "style": "IPY_MODEL_4b72eae6fe654ddea6b3b9e335289525",
            "value": " 4/? [01:09&lt;00:00, 14.27s/it]"
          }
        },
        "ff57e4ece91e453aa09762e7002da6da": {
          "model_module": "@jupyter-widgets/base",
          "model_name": "LayoutModel",
          "model_module_version": "1.2.0",
          "state": {
            "_model_module": "@jupyter-widgets/base",
            "_model_module_version": "1.2.0",
            "_model_name": "LayoutModel",
            "_view_count": null,
            "_view_module": "@jupyter-widgets/base",
            "_view_module_version": "1.2.0",
            "_view_name": "LayoutView",
            "align_content": null,
            "align_items": null,
            "align_self": null,
            "border": null,
            "bottom": null,
            "display": null,
            "flex": null,
            "flex_flow": null,
            "grid_area": null,
            "grid_auto_columns": null,
            "grid_auto_flow": null,
            "grid_auto_rows": null,
            "grid_column": null,
            "grid_gap": null,
            "grid_row": null,
            "grid_template_areas": null,
            "grid_template_columns": null,
            "grid_template_rows": null,
            "height": null,
            "justify_content": null,
            "justify_items": null,
            "left": null,
            "margin": null,
            "max_height": null,
            "max_width": null,
            "min_height": null,
            "min_width": null,
            "object_fit": null,
            "object_position": null,
            "order": null,
            "overflow": null,
            "overflow_x": null,
            "overflow_y": null,
            "padding": null,
            "right": null,
            "top": null,
            "visibility": null,
            "width": null
          }
        },
        "aa82043349fb483ba2e273ea1f304e73": {
          "model_module": "@jupyter-widgets/base",
          "model_name": "LayoutModel",
          "model_module_version": "1.2.0",
          "state": {
            "_model_module": "@jupyter-widgets/base",
            "_model_module_version": "1.2.0",
            "_model_name": "LayoutModel",
            "_view_count": null,
            "_view_module": "@jupyter-widgets/base",
            "_view_module_version": "1.2.0",
            "_view_name": "LayoutView",
            "align_content": null,
            "align_items": null,
            "align_self": null,
            "border": null,
            "bottom": null,
            "display": null,
            "flex": null,
            "flex_flow": null,
            "grid_area": null,
            "grid_auto_columns": null,
            "grid_auto_flow": null,
            "grid_auto_rows": null,
            "grid_column": null,
            "grid_gap": null,
            "grid_row": null,
            "grid_template_areas": null,
            "grid_template_columns": null,
            "grid_template_rows": null,
            "height": null,
            "justify_content": null,
            "justify_items": null,
            "left": null,
            "margin": null,
            "max_height": null,
            "max_width": null,
            "min_height": null,
            "min_width": null,
            "object_fit": null,
            "object_position": null,
            "order": null,
            "overflow": null,
            "overflow_x": null,
            "overflow_y": null,
            "padding": null,
            "right": null,
            "top": null,
            "visibility": null,
            "width": null
          }
        },
        "69ef7fda725745c0bb4b98d908a42f04": {
          "model_module": "@jupyter-widgets/controls",
          "model_name": "DescriptionStyleModel",
          "model_module_version": "1.5.0",
          "state": {
            "_model_module": "@jupyter-widgets/controls",
            "_model_module_version": "1.5.0",
            "_model_name": "DescriptionStyleModel",
            "_view_count": null,
            "_view_module": "@jupyter-widgets/base",
            "_view_module_version": "1.2.0",
            "_view_name": "StyleView",
            "description_width": ""
          }
        },
        "4c65e884dde5442787117522408a53af": {
          "model_module": "@jupyter-widgets/base",
          "model_name": "LayoutModel",
          "model_module_version": "1.2.0",
          "state": {
            "_model_module": "@jupyter-widgets/base",
            "_model_module_version": "1.2.0",
            "_model_name": "LayoutModel",
            "_view_count": null,
            "_view_module": "@jupyter-widgets/base",
            "_view_module_version": "1.2.0",
            "_view_name": "LayoutView",
            "align_content": null,
            "align_items": null,
            "align_self": null,
            "border": null,
            "bottom": null,
            "display": null,
            "flex": null,
            "flex_flow": null,
            "grid_area": null,
            "grid_auto_columns": null,
            "grid_auto_flow": null,
            "grid_auto_rows": null,
            "grid_column": null,
            "grid_gap": null,
            "grid_row": null,
            "grid_template_areas": null,
            "grid_template_columns": null,
            "grid_template_rows": null,
            "height": null,
            "justify_content": null,
            "justify_items": null,
            "left": null,
            "margin": null,
            "max_height": null,
            "max_width": null,
            "min_height": null,
            "min_width": null,
            "object_fit": null,
            "object_position": null,
            "order": null,
            "overflow": null,
            "overflow_x": null,
            "overflow_y": null,
            "padding": null,
            "right": null,
            "top": null,
            "visibility": null,
            "width": "20px"
          }
        },
        "20ba67e14bd54bc4957c28f56347ec1c": {
          "model_module": "@jupyter-widgets/controls",
          "model_name": "ProgressStyleModel",
          "model_module_version": "1.5.0",
          "state": {
            "_model_module": "@jupyter-widgets/controls",
            "_model_module_version": "1.5.0",
            "_model_name": "ProgressStyleModel",
            "_view_count": null,
            "_view_module": "@jupyter-widgets/base",
            "_view_module_version": "1.2.0",
            "_view_name": "StyleView",
            "bar_color": null,
            "description_width": ""
          }
        },
        "cb36019f43e24d4cbd8507479f83db40": {
          "model_module": "@jupyter-widgets/base",
          "model_name": "LayoutModel",
          "model_module_version": "1.2.0",
          "state": {
            "_model_module": "@jupyter-widgets/base",
            "_model_module_version": "1.2.0",
            "_model_name": "LayoutModel",
            "_view_count": null,
            "_view_module": "@jupyter-widgets/base",
            "_view_module_version": "1.2.0",
            "_view_name": "LayoutView",
            "align_content": null,
            "align_items": null,
            "align_self": null,
            "border": null,
            "bottom": null,
            "display": null,
            "flex": null,
            "flex_flow": null,
            "grid_area": null,
            "grid_auto_columns": null,
            "grid_auto_flow": null,
            "grid_auto_rows": null,
            "grid_column": null,
            "grid_gap": null,
            "grid_row": null,
            "grid_template_areas": null,
            "grid_template_columns": null,
            "grid_template_rows": null,
            "height": null,
            "justify_content": null,
            "justify_items": null,
            "left": null,
            "margin": null,
            "max_height": null,
            "max_width": null,
            "min_height": null,
            "min_width": null,
            "object_fit": null,
            "object_position": null,
            "order": null,
            "overflow": null,
            "overflow_x": null,
            "overflow_y": null,
            "padding": null,
            "right": null,
            "top": null,
            "visibility": null,
            "width": null
          }
        },
        "4b72eae6fe654ddea6b3b9e335289525": {
          "model_module": "@jupyter-widgets/controls",
          "model_name": "DescriptionStyleModel",
          "model_module_version": "1.5.0",
          "state": {
            "_model_module": "@jupyter-widgets/controls",
            "_model_module_version": "1.5.0",
            "_model_name": "DescriptionStyleModel",
            "_view_count": null,
            "_view_module": "@jupyter-widgets/base",
            "_view_module_version": "1.2.0",
            "_view_name": "StyleView",
            "description_width": ""
          }
        },
        "c9d4e28bb5b44ef9b1186b70814d3eca": {
          "model_module": "@jupyter-widgets/controls",
          "model_name": "HBoxModel",
          "model_module_version": "1.5.0",
          "state": {
            "_dom_classes": [],
            "_model_module": "@jupyter-widgets/controls",
            "_model_module_version": "1.5.0",
            "_model_name": "HBoxModel",
            "_view_count": null,
            "_view_module": "@jupyter-widgets/controls",
            "_view_module_version": "1.5.0",
            "_view_name": "HBoxView",
            "box_style": "",
            "children": [
              "IPY_MODEL_30c0e92fb1004f61af5072ffaebd8f93",
              "IPY_MODEL_8efa0ceb95cb489eae6f68148a5414ac",
              "IPY_MODEL_2562219934af487281d3664d51538352"
            ],
            "layout": "IPY_MODEL_35315f8ef98f4062951ac207c219fd6f"
          }
        },
        "30c0e92fb1004f61af5072ffaebd8f93": {
          "model_module": "@jupyter-widgets/controls",
          "model_name": "HTMLModel",
          "model_module_version": "1.5.0",
          "state": {
            "_dom_classes": [],
            "_model_module": "@jupyter-widgets/controls",
            "_model_module_version": "1.5.0",
            "_model_name": "HTMLModel",
            "_view_count": null,
            "_view_module": "@jupyter-widgets/controls",
            "_view_module_version": "1.5.0",
            "_view_name": "HTMLView",
            "description": "",
            "description_tooltip": null,
            "layout": "IPY_MODEL_a3c4c42427794788a254e88304d121be",
            "placeholder": "​",
            "style": "IPY_MODEL_1e9ed9642d9343aca162f4ca20d5f8f7",
            "value": "PGD - Batches: "
          }
        },
        "8efa0ceb95cb489eae6f68148a5414ac": {
          "model_module": "@jupyter-widgets/controls",
          "model_name": "FloatProgressModel",
          "model_module_version": "1.5.0",
          "state": {
            "_dom_classes": [],
            "_model_module": "@jupyter-widgets/controls",
            "_model_module_version": "1.5.0",
            "_model_name": "FloatProgressModel",
            "_view_count": null,
            "_view_module": "@jupyter-widgets/controls",
            "_view_module_version": "1.5.0",
            "_view_name": "ProgressView",
            "bar_style": "info",
            "description": "",
            "description_tooltip": null,
            "layout": "IPY_MODEL_f3d6b2a0967b4ee681fad368e90dbf31",
            "max": 1,
            "min": 0,
            "orientation": "horizontal",
            "style": "IPY_MODEL_57ca2ece9cd642af8503c38ff30e2d60",
            "value": 1
          }
        },
        "2562219934af487281d3664d51538352": {
          "model_module": "@jupyter-widgets/controls",
          "model_name": "HTMLModel",
          "model_module_version": "1.5.0",
          "state": {
            "_dom_classes": [],
            "_model_module": "@jupyter-widgets/controls",
            "_model_module_version": "1.5.0",
            "_model_name": "HTMLModel",
            "_view_count": null,
            "_view_module": "@jupyter-widgets/controls",
            "_view_module_version": "1.5.0",
            "_view_name": "HTMLView",
            "description": "",
            "description_tooltip": null,
            "layout": "IPY_MODEL_b59f407ee5104944a902f028e507e93f",
            "placeholder": "​",
            "style": "IPY_MODEL_f4c79d1686d34460ba50fd87fbcc8912",
            "value": " 4/? [01:07&lt;00:00, 14.16s/it]"
          }
        },
        "35315f8ef98f4062951ac207c219fd6f": {
          "model_module": "@jupyter-widgets/base",
          "model_name": "LayoutModel",
          "model_module_version": "1.2.0",
          "state": {
            "_model_module": "@jupyter-widgets/base",
            "_model_module_version": "1.2.0",
            "_model_name": "LayoutModel",
            "_view_count": null,
            "_view_module": "@jupyter-widgets/base",
            "_view_module_version": "1.2.0",
            "_view_name": "LayoutView",
            "align_content": null,
            "align_items": null,
            "align_self": null,
            "border": null,
            "bottom": null,
            "display": null,
            "flex": null,
            "flex_flow": null,
            "grid_area": null,
            "grid_auto_columns": null,
            "grid_auto_flow": null,
            "grid_auto_rows": null,
            "grid_column": null,
            "grid_gap": null,
            "grid_row": null,
            "grid_template_areas": null,
            "grid_template_columns": null,
            "grid_template_rows": null,
            "height": null,
            "justify_content": null,
            "justify_items": null,
            "left": null,
            "margin": null,
            "max_height": null,
            "max_width": null,
            "min_height": null,
            "min_width": null,
            "object_fit": null,
            "object_position": null,
            "order": null,
            "overflow": null,
            "overflow_x": null,
            "overflow_y": null,
            "padding": null,
            "right": null,
            "top": null,
            "visibility": null,
            "width": null
          }
        },
        "a3c4c42427794788a254e88304d121be": {
          "model_module": "@jupyter-widgets/base",
          "model_name": "LayoutModel",
          "model_module_version": "1.2.0",
          "state": {
            "_model_module": "@jupyter-widgets/base",
            "_model_module_version": "1.2.0",
            "_model_name": "LayoutModel",
            "_view_count": null,
            "_view_module": "@jupyter-widgets/base",
            "_view_module_version": "1.2.0",
            "_view_name": "LayoutView",
            "align_content": null,
            "align_items": null,
            "align_self": null,
            "border": null,
            "bottom": null,
            "display": null,
            "flex": null,
            "flex_flow": null,
            "grid_area": null,
            "grid_auto_columns": null,
            "grid_auto_flow": null,
            "grid_auto_rows": null,
            "grid_column": null,
            "grid_gap": null,
            "grid_row": null,
            "grid_template_areas": null,
            "grid_template_columns": null,
            "grid_template_rows": null,
            "height": null,
            "justify_content": null,
            "justify_items": null,
            "left": null,
            "margin": null,
            "max_height": null,
            "max_width": null,
            "min_height": null,
            "min_width": null,
            "object_fit": null,
            "object_position": null,
            "order": null,
            "overflow": null,
            "overflow_x": null,
            "overflow_y": null,
            "padding": null,
            "right": null,
            "top": null,
            "visibility": null,
            "width": null
          }
        },
        "1e9ed9642d9343aca162f4ca20d5f8f7": {
          "model_module": "@jupyter-widgets/controls",
          "model_name": "DescriptionStyleModel",
          "model_module_version": "1.5.0",
          "state": {
            "_model_module": "@jupyter-widgets/controls",
            "_model_module_version": "1.5.0",
            "_model_name": "DescriptionStyleModel",
            "_view_count": null,
            "_view_module": "@jupyter-widgets/base",
            "_view_module_version": "1.2.0",
            "_view_name": "StyleView",
            "description_width": ""
          }
        },
        "f3d6b2a0967b4ee681fad368e90dbf31": {
          "model_module": "@jupyter-widgets/base",
          "model_name": "LayoutModel",
          "model_module_version": "1.2.0",
          "state": {
            "_model_module": "@jupyter-widgets/base",
            "_model_module_version": "1.2.0",
            "_model_name": "LayoutModel",
            "_view_count": null,
            "_view_module": "@jupyter-widgets/base",
            "_view_module_version": "1.2.0",
            "_view_name": "LayoutView",
            "align_content": null,
            "align_items": null,
            "align_self": null,
            "border": null,
            "bottom": null,
            "display": null,
            "flex": null,
            "flex_flow": null,
            "grid_area": null,
            "grid_auto_columns": null,
            "grid_auto_flow": null,
            "grid_auto_rows": null,
            "grid_column": null,
            "grid_gap": null,
            "grid_row": null,
            "grid_template_areas": null,
            "grid_template_columns": null,
            "grid_template_rows": null,
            "height": null,
            "justify_content": null,
            "justify_items": null,
            "left": null,
            "margin": null,
            "max_height": null,
            "max_width": null,
            "min_height": null,
            "min_width": null,
            "object_fit": null,
            "object_position": null,
            "order": null,
            "overflow": null,
            "overflow_x": null,
            "overflow_y": null,
            "padding": null,
            "right": null,
            "top": null,
            "visibility": null,
            "width": "20px"
          }
        },
        "57ca2ece9cd642af8503c38ff30e2d60": {
          "model_module": "@jupyter-widgets/controls",
          "model_name": "ProgressStyleModel",
          "model_module_version": "1.5.0",
          "state": {
            "_model_module": "@jupyter-widgets/controls",
            "_model_module_version": "1.5.0",
            "_model_name": "ProgressStyleModel",
            "_view_count": null,
            "_view_module": "@jupyter-widgets/base",
            "_view_module_version": "1.2.0",
            "_view_name": "StyleView",
            "bar_color": null,
            "description_width": ""
          }
        },
        "b59f407ee5104944a902f028e507e93f": {
          "model_module": "@jupyter-widgets/base",
          "model_name": "LayoutModel",
          "model_module_version": "1.2.0",
          "state": {
            "_model_module": "@jupyter-widgets/base",
            "_model_module_version": "1.2.0",
            "_model_name": "LayoutModel",
            "_view_count": null,
            "_view_module": "@jupyter-widgets/base",
            "_view_module_version": "1.2.0",
            "_view_name": "LayoutView",
            "align_content": null,
            "align_items": null,
            "align_self": null,
            "border": null,
            "bottom": null,
            "display": null,
            "flex": null,
            "flex_flow": null,
            "grid_area": null,
            "grid_auto_columns": null,
            "grid_auto_flow": null,
            "grid_auto_rows": null,
            "grid_column": null,
            "grid_gap": null,
            "grid_row": null,
            "grid_template_areas": null,
            "grid_template_columns": null,
            "grid_template_rows": null,
            "height": null,
            "justify_content": null,
            "justify_items": null,
            "left": null,
            "margin": null,
            "max_height": null,
            "max_width": null,
            "min_height": null,
            "min_width": null,
            "object_fit": null,
            "object_position": null,
            "order": null,
            "overflow": null,
            "overflow_x": null,
            "overflow_y": null,
            "padding": null,
            "right": null,
            "top": null,
            "visibility": null,
            "width": null
          }
        },
        "f4c79d1686d34460ba50fd87fbcc8912": {
          "model_module": "@jupyter-widgets/controls",
          "model_name": "DescriptionStyleModel",
          "model_module_version": "1.5.0",
          "state": {
            "_model_module": "@jupyter-widgets/controls",
            "_model_module_version": "1.5.0",
            "_model_name": "DescriptionStyleModel",
            "_view_count": null,
            "_view_module": "@jupyter-widgets/base",
            "_view_module_version": "1.2.0",
            "_view_name": "StyleView",
            "description_width": ""
          }
        },
        "c3f9daab1171493fbc6cb3350c3baafb": {
          "model_module": "@jupyter-widgets/controls",
          "model_name": "HBoxModel",
          "model_module_version": "1.5.0",
          "state": {
            "_dom_classes": [],
            "_model_module": "@jupyter-widgets/controls",
            "_model_module_version": "1.5.0",
            "_model_name": "HBoxModel",
            "_view_count": null,
            "_view_module": "@jupyter-widgets/controls",
            "_view_module_version": "1.5.0",
            "_view_name": "HBoxView",
            "box_style": "",
            "children": [
              "IPY_MODEL_eff4a0b7a7824c7b97aba84d20962f8d",
              "IPY_MODEL_11d1bec74ef3478ca79fc039877f0abc",
              "IPY_MODEL_88171d1bb56f4927aa1b980b8f1a5273"
            ],
            "layout": "IPY_MODEL_b7ad8b6231c64bbab4ac515d5e3bee64"
          }
        },
        "eff4a0b7a7824c7b97aba84d20962f8d": {
          "model_module": "@jupyter-widgets/controls",
          "model_name": "HTMLModel",
          "model_module_version": "1.5.0",
          "state": {
            "_dom_classes": [],
            "_model_module": "@jupyter-widgets/controls",
            "_model_module_version": "1.5.0",
            "_model_name": "HTMLModel",
            "_view_count": null,
            "_view_module": "@jupyter-widgets/controls",
            "_view_module_version": "1.5.0",
            "_view_name": "HTMLView",
            "description": "",
            "description_tooltip": null,
            "layout": "IPY_MODEL_8eb5deea54784ff4ad8c03be3bffba4b",
            "placeholder": "​",
            "style": "IPY_MODEL_640a6ba79bc94e9d9516b0568a3c878c",
            "value": "Precompute adv samples: 100%"
          }
        },
        "11d1bec74ef3478ca79fc039877f0abc": {
          "model_module": "@jupyter-widgets/controls",
          "model_name": "FloatProgressModel",
          "model_module_version": "1.5.0",
          "state": {
            "_dom_classes": [],
            "_model_module": "@jupyter-widgets/controls",
            "_model_module_version": "1.5.0",
            "_model_name": "FloatProgressModel",
            "_view_count": null,
            "_view_module": "@jupyter-widgets/controls",
            "_view_module_version": "1.5.0",
            "_view_name": "ProgressView",
            "bar_style": "success",
            "description": "",
            "description_tooltip": null,
            "layout": "IPY_MODEL_93464059d1654c71937d4a0016373df3",
            "max": 1,
            "min": 0,
            "orientation": "horizontal",
            "style": "IPY_MODEL_1a866bec4dec4ee59e6c96e92fad72eb",
            "value": 1
          }
        },
        "88171d1bb56f4927aa1b980b8f1a5273": {
          "model_module": "@jupyter-widgets/controls",
          "model_name": "HTMLModel",
          "model_module_version": "1.5.0",
          "state": {
            "_dom_classes": [],
            "_model_module": "@jupyter-widgets/controls",
            "_model_module_version": "1.5.0",
            "_model_name": "HTMLModel",
            "_view_count": null,
            "_view_module": "@jupyter-widgets/controls",
            "_view_module_version": "1.5.0",
            "_view_name": "HTMLView",
            "description": "",
            "description_tooltip": null,
            "layout": "IPY_MODEL_bea9b7ad63244b6ca39f0234fc04c389",
            "placeholder": "​",
            "style": "IPY_MODEL_4db4d2c484cf46cba24063b7bb560795",
            "value": " 1/1 [50:45&lt;00:00, 3045.42s/it]"
          }
        },
        "b7ad8b6231c64bbab4ac515d5e3bee64": {
          "model_module": "@jupyter-widgets/base",
          "model_name": "LayoutModel",
          "model_module_version": "1.2.0",
          "state": {
            "_model_module": "@jupyter-widgets/base",
            "_model_module_version": "1.2.0",
            "_model_name": "LayoutModel",
            "_view_count": null,
            "_view_module": "@jupyter-widgets/base",
            "_view_module_version": "1.2.0",
            "_view_name": "LayoutView",
            "align_content": null,
            "align_items": null,
            "align_self": null,
            "border": null,
            "bottom": null,
            "display": null,
            "flex": null,
            "flex_flow": null,
            "grid_area": null,
            "grid_auto_columns": null,
            "grid_auto_flow": null,
            "grid_auto_rows": null,
            "grid_column": null,
            "grid_gap": null,
            "grid_row": null,
            "grid_template_areas": null,
            "grid_template_columns": null,
            "grid_template_rows": null,
            "height": null,
            "justify_content": null,
            "justify_items": null,
            "left": null,
            "margin": null,
            "max_height": null,
            "max_width": null,
            "min_height": null,
            "min_width": null,
            "object_fit": null,
            "object_position": null,
            "order": null,
            "overflow": null,
            "overflow_x": null,
            "overflow_y": null,
            "padding": null,
            "right": null,
            "top": null,
            "visibility": null,
            "width": null
          }
        },
        "8eb5deea54784ff4ad8c03be3bffba4b": {
          "model_module": "@jupyter-widgets/base",
          "model_name": "LayoutModel",
          "model_module_version": "1.2.0",
          "state": {
            "_model_module": "@jupyter-widgets/base",
            "_model_module_version": "1.2.0",
            "_model_name": "LayoutModel",
            "_view_count": null,
            "_view_module": "@jupyter-widgets/base",
            "_view_module_version": "1.2.0",
            "_view_name": "LayoutView",
            "align_content": null,
            "align_items": null,
            "align_self": null,
            "border": null,
            "bottom": null,
            "display": null,
            "flex": null,
            "flex_flow": null,
            "grid_area": null,
            "grid_auto_columns": null,
            "grid_auto_flow": null,
            "grid_auto_rows": null,
            "grid_column": null,
            "grid_gap": null,
            "grid_row": null,
            "grid_template_areas": null,
            "grid_template_columns": null,
            "grid_template_rows": null,
            "height": null,
            "justify_content": null,
            "justify_items": null,
            "left": null,
            "margin": null,
            "max_height": null,
            "max_width": null,
            "min_height": null,
            "min_width": null,
            "object_fit": null,
            "object_position": null,
            "order": null,
            "overflow": null,
            "overflow_x": null,
            "overflow_y": null,
            "padding": null,
            "right": null,
            "top": null,
            "visibility": null,
            "width": null
          }
        },
        "640a6ba79bc94e9d9516b0568a3c878c": {
          "model_module": "@jupyter-widgets/controls",
          "model_name": "DescriptionStyleModel",
          "model_module_version": "1.5.0",
          "state": {
            "_model_module": "@jupyter-widgets/controls",
            "_model_module_version": "1.5.0",
            "_model_name": "DescriptionStyleModel",
            "_view_count": null,
            "_view_module": "@jupyter-widgets/base",
            "_view_module_version": "1.2.0",
            "_view_name": "StyleView",
            "description_width": ""
          }
        },
        "93464059d1654c71937d4a0016373df3": {
          "model_module": "@jupyter-widgets/base",
          "model_name": "LayoutModel",
          "model_module_version": "1.2.0",
          "state": {
            "_model_module": "@jupyter-widgets/base",
            "_model_module_version": "1.2.0",
            "_model_name": "LayoutModel",
            "_view_count": null,
            "_view_module": "@jupyter-widgets/base",
            "_view_module_version": "1.2.0",
            "_view_name": "LayoutView",
            "align_content": null,
            "align_items": null,
            "align_self": null,
            "border": null,
            "bottom": null,
            "display": null,
            "flex": null,
            "flex_flow": null,
            "grid_area": null,
            "grid_auto_columns": null,
            "grid_auto_flow": null,
            "grid_auto_rows": null,
            "grid_column": null,
            "grid_gap": null,
            "grid_row": null,
            "grid_template_areas": null,
            "grid_template_columns": null,
            "grid_template_rows": null,
            "height": null,
            "justify_content": null,
            "justify_items": null,
            "left": null,
            "margin": null,
            "max_height": null,
            "max_width": null,
            "min_height": null,
            "min_width": null,
            "object_fit": null,
            "object_position": null,
            "order": null,
            "overflow": null,
            "overflow_x": null,
            "overflow_y": null,
            "padding": null,
            "right": null,
            "top": null,
            "visibility": null,
            "width": null
          }
        },
        "1a866bec4dec4ee59e6c96e92fad72eb": {
          "model_module": "@jupyter-widgets/controls",
          "model_name": "ProgressStyleModel",
          "model_module_version": "1.5.0",
          "state": {
            "_model_module": "@jupyter-widgets/controls",
            "_model_module_version": "1.5.0",
            "_model_name": "ProgressStyleModel",
            "_view_count": null,
            "_view_module": "@jupyter-widgets/base",
            "_view_module_version": "1.2.0",
            "_view_name": "StyleView",
            "bar_color": null,
            "description_width": ""
          }
        },
        "bea9b7ad63244b6ca39f0234fc04c389": {
          "model_module": "@jupyter-widgets/base",
          "model_name": "LayoutModel",
          "model_module_version": "1.2.0",
          "state": {
            "_model_module": "@jupyter-widgets/base",
            "_model_module_version": "1.2.0",
            "_model_name": "LayoutModel",
            "_view_count": null,
            "_view_module": "@jupyter-widgets/base",
            "_view_module_version": "1.2.0",
            "_view_name": "LayoutView",
            "align_content": null,
            "align_items": null,
            "align_self": null,
            "border": null,
            "bottom": null,
            "display": null,
            "flex": null,
            "flex_flow": null,
            "grid_area": null,
            "grid_auto_columns": null,
            "grid_auto_flow": null,
            "grid_auto_rows": null,
            "grid_column": null,
            "grid_gap": null,
            "grid_row": null,
            "grid_template_areas": null,
            "grid_template_columns": null,
            "grid_template_rows": null,
            "height": null,
            "justify_content": null,
            "justify_items": null,
            "left": null,
            "margin": null,
            "max_height": null,
            "max_width": null,
            "min_height": null,
            "min_width": null,
            "object_fit": null,
            "object_position": null,
            "order": null,
            "overflow": null,
            "overflow_x": null,
            "overflow_y": null,
            "padding": null,
            "right": null,
            "top": null,
            "visibility": null,
            "width": null
          }
        },
        "4db4d2c484cf46cba24063b7bb560795": {
          "model_module": "@jupyter-widgets/controls",
          "model_name": "DescriptionStyleModel",
          "model_module_version": "1.5.0",
          "state": {
            "_model_module": "@jupyter-widgets/controls",
            "_model_module_version": "1.5.0",
            "_model_name": "DescriptionStyleModel",
            "_view_count": null,
            "_view_module": "@jupyter-widgets/base",
            "_view_module_version": "1.2.0",
            "_view_name": "StyleView",
            "description_width": ""
          }
        },
        "1ac457bfb84c428bb28695c888887a1d": {
          "model_module": "@jupyter-widgets/controls",
          "model_name": "HBoxModel",
          "model_module_version": "1.5.0",
          "state": {
            "_dom_classes": [],
            "_model_module": "@jupyter-widgets/controls",
            "_model_module_version": "1.5.0",
            "_model_name": "HBoxModel",
            "_view_count": null,
            "_view_module": "@jupyter-widgets/controls",
            "_view_module_version": "1.5.0",
            "_view_name": "HBoxView",
            "box_style": "",
            "children": [
              "IPY_MODEL_20e7bc8b6f894f70bf4496f4617d35e2",
              "IPY_MODEL_de4c522f29274f999f1a70f087040c81",
              "IPY_MODEL_79259fa57a1b4585ab249bbe7f40efbc"
            ],
            "layout": "IPY_MODEL_bd1bce534a4b4eb1935d519807c0becf"
          }
        },
        "20e7bc8b6f894f70bf4496f4617d35e2": {
          "model_module": "@jupyter-widgets/controls",
          "model_name": "HTMLModel",
          "model_module_version": "1.5.0",
          "state": {
            "_dom_classes": [],
            "_model_module": "@jupyter-widgets/controls",
            "_model_module_version": "1.5.0",
            "_model_name": "HTMLModel",
            "_view_count": null,
            "_view_module": "@jupyter-widgets/controls",
            "_view_module_version": "1.5.0",
            "_view_name": "HTMLView",
            "description": "",
            "description_tooltip": null,
            "layout": "IPY_MODEL_fa775cbe91bb4643a38246c45a7723bd",
            "placeholder": "​",
            "style": "IPY_MODEL_73c394a7f5b34f4383f07a9749d02b98",
            "value": "Adversarial training epochs: 100%"
          }
        },
        "de4c522f29274f999f1a70f087040c81": {
          "model_module": "@jupyter-widgets/controls",
          "model_name": "FloatProgressModel",
          "model_module_version": "1.5.0",
          "state": {
            "_dom_classes": [],
            "_model_module": "@jupyter-widgets/controls",
            "_model_module_version": "1.5.0",
            "_model_name": "FloatProgressModel",
            "_view_count": null,
            "_view_module": "@jupyter-widgets/controls",
            "_view_module_version": "1.5.0",
            "_view_name": "ProgressView",
            "bar_style": "success",
            "description": "",
            "description_tooltip": null,
            "layout": "IPY_MODEL_55d4f4059a37479fad2a21a35bfb924e",
            "max": 20,
            "min": 0,
            "orientation": "horizontal",
            "style": "IPY_MODEL_67eb749a021b4e1e9588c95d99f1c3c0",
            "value": 20
          }
        },
        "79259fa57a1b4585ab249bbe7f40efbc": {
          "model_module": "@jupyter-widgets/controls",
          "model_name": "HTMLModel",
          "model_module_version": "1.5.0",
          "state": {
            "_dom_classes": [],
            "_model_module": "@jupyter-widgets/controls",
            "_model_module_version": "1.5.0",
            "_model_name": "HTMLModel",
            "_view_count": null,
            "_view_module": "@jupyter-widgets/controls",
            "_view_module_version": "1.5.0",
            "_view_name": "HTMLView",
            "description": "",
            "description_tooltip": null,
            "layout": "IPY_MODEL_53238c8aaff3427786fdbdb51f84001e",
            "placeholder": "​",
            "style": "IPY_MODEL_cf4d531c3c76465f86eced3debcf0de8",
            "value": " 20/20 [2:56:11&lt;00:00, 529.97s/it]"
          }
        },
        "bd1bce534a4b4eb1935d519807c0becf": {
          "model_module": "@jupyter-widgets/base",
          "model_name": "LayoutModel",
          "model_module_version": "1.2.0",
          "state": {
            "_model_module": "@jupyter-widgets/base",
            "_model_module_version": "1.2.0",
            "_model_name": "LayoutModel",
            "_view_count": null,
            "_view_module": "@jupyter-widgets/base",
            "_view_module_version": "1.2.0",
            "_view_name": "LayoutView",
            "align_content": null,
            "align_items": null,
            "align_self": null,
            "border": null,
            "bottom": null,
            "display": null,
            "flex": null,
            "flex_flow": null,
            "grid_area": null,
            "grid_auto_columns": null,
            "grid_auto_flow": null,
            "grid_auto_rows": null,
            "grid_column": null,
            "grid_gap": null,
            "grid_row": null,
            "grid_template_areas": null,
            "grid_template_columns": null,
            "grid_template_rows": null,
            "height": null,
            "justify_content": null,
            "justify_items": null,
            "left": null,
            "margin": null,
            "max_height": null,
            "max_width": null,
            "min_height": null,
            "min_width": null,
            "object_fit": null,
            "object_position": null,
            "order": null,
            "overflow": null,
            "overflow_x": null,
            "overflow_y": null,
            "padding": null,
            "right": null,
            "top": null,
            "visibility": null,
            "width": null
          }
        },
        "fa775cbe91bb4643a38246c45a7723bd": {
          "model_module": "@jupyter-widgets/base",
          "model_name": "LayoutModel",
          "model_module_version": "1.2.0",
          "state": {
            "_model_module": "@jupyter-widgets/base",
            "_model_module_version": "1.2.0",
            "_model_name": "LayoutModel",
            "_view_count": null,
            "_view_module": "@jupyter-widgets/base",
            "_view_module_version": "1.2.0",
            "_view_name": "LayoutView",
            "align_content": null,
            "align_items": null,
            "align_self": null,
            "border": null,
            "bottom": null,
            "display": null,
            "flex": null,
            "flex_flow": null,
            "grid_area": null,
            "grid_auto_columns": null,
            "grid_auto_flow": null,
            "grid_auto_rows": null,
            "grid_column": null,
            "grid_gap": null,
            "grid_row": null,
            "grid_template_areas": null,
            "grid_template_columns": null,
            "grid_template_rows": null,
            "height": null,
            "justify_content": null,
            "justify_items": null,
            "left": null,
            "margin": null,
            "max_height": null,
            "max_width": null,
            "min_height": null,
            "min_width": null,
            "object_fit": null,
            "object_position": null,
            "order": null,
            "overflow": null,
            "overflow_x": null,
            "overflow_y": null,
            "padding": null,
            "right": null,
            "top": null,
            "visibility": null,
            "width": null
          }
        },
        "73c394a7f5b34f4383f07a9749d02b98": {
          "model_module": "@jupyter-widgets/controls",
          "model_name": "DescriptionStyleModel",
          "model_module_version": "1.5.0",
          "state": {
            "_model_module": "@jupyter-widgets/controls",
            "_model_module_version": "1.5.0",
            "_model_name": "DescriptionStyleModel",
            "_view_count": null,
            "_view_module": "@jupyter-widgets/base",
            "_view_module_version": "1.2.0",
            "_view_name": "StyleView",
            "description_width": ""
          }
        },
        "55d4f4059a37479fad2a21a35bfb924e": {
          "model_module": "@jupyter-widgets/base",
          "model_name": "LayoutModel",
          "model_module_version": "1.2.0",
          "state": {
            "_model_module": "@jupyter-widgets/base",
            "_model_module_version": "1.2.0",
            "_model_name": "LayoutModel",
            "_view_count": null,
            "_view_module": "@jupyter-widgets/base",
            "_view_module_version": "1.2.0",
            "_view_name": "LayoutView",
            "align_content": null,
            "align_items": null,
            "align_self": null,
            "border": null,
            "bottom": null,
            "display": null,
            "flex": null,
            "flex_flow": null,
            "grid_area": null,
            "grid_auto_columns": null,
            "grid_auto_flow": null,
            "grid_auto_rows": null,
            "grid_column": null,
            "grid_gap": null,
            "grid_row": null,
            "grid_template_areas": null,
            "grid_template_columns": null,
            "grid_template_rows": null,
            "height": null,
            "justify_content": null,
            "justify_items": null,
            "left": null,
            "margin": null,
            "max_height": null,
            "max_width": null,
            "min_height": null,
            "min_width": null,
            "object_fit": null,
            "object_position": null,
            "order": null,
            "overflow": null,
            "overflow_x": null,
            "overflow_y": null,
            "padding": null,
            "right": null,
            "top": null,
            "visibility": null,
            "width": null
          }
        },
        "67eb749a021b4e1e9588c95d99f1c3c0": {
          "model_module": "@jupyter-widgets/controls",
          "model_name": "ProgressStyleModel",
          "model_module_version": "1.5.0",
          "state": {
            "_model_module": "@jupyter-widgets/controls",
            "_model_module_version": "1.5.0",
            "_model_name": "ProgressStyleModel",
            "_view_count": null,
            "_view_module": "@jupyter-widgets/base",
            "_view_module_version": "1.2.0",
            "_view_name": "StyleView",
            "bar_color": null,
            "description_width": ""
          }
        },
        "53238c8aaff3427786fdbdb51f84001e": {
          "model_module": "@jupyter-widgets/base",
          "model_name": "LayoutModel",
          "model_module_version": "1.2.0",
          "state": {
            "_model_module": "@jupyter-widgets/base",
            "_model_module_version": "1.2.0",
            "_model_name": "LayoutModel",
            "_view_count": null,
            "_view_module": "@jupyter-widgets/base",
            "_view_module_version": "1.2.0",
            "_view_name": "LayoutView",
            "align_content": null,
            "align_items": null,
            "align_self": null,
            "border": null,
            "bottom": null,
            "display": null,
            "flex": null,
            "flex_flow": null,
            "grid_area": null,
            "grid_auto_columns": null,
            "grid_auto_flow": null,
            "grid_auto_rows": null,
            "grid_column": null,
            "grid_gap": null,
            "grid_row": null,
            "grid_template_areas": null,
            "grid_template_columns": null,
            "grid_template_rows": null,
            "height": null,
            "justify_content": null,
            "justify_items": null,
            "left": null,
            "margin": null,
            "max_height": null,
            "max_width": null,
            "min_height": null,
            "min_width": null,
            "object_fit": null,
            "object_position": null,
            "order": null,
            "overflow": null,
            "overflow_x": null,
            "overflow_y": null,
            "padding": null,
            "right": null,
            "top": null,
            "visibility": null,
            "width": null
          }
        },
        "cf4d531c3c76465f86eced3debcf0de8": {
          "model_module": "@jupyter-widgets/controls",
          "model_name": "DescriptionStyleModel",
          "model_module_version": "1.5.0",
          "state": {
            "_model_module": "@jupyter-widgets/controls",
            "_model_module_version": "1.5.0",
            "_model_name": "DescriptionStyleModel",
            "_view_count": null,
            "_view_module": "@jupyter-widgets/base",
            "_view_module_version": "1.2.0",
            "_view_name": "StyleView",
            "description_width": ""
          }
        },
        "4e8b3c57b686468baa144901c2c031bb": {
          "model_module": "@jupyter-widgets/controls",
          "model_name": "HBoxModel",
          "model_module_version": "1.5.0",
          "state": {
            "_view_name": "HBoxView",
            "_dom_classes": [],
            "_model_name": "HBoxModel",
            "_view_module": "@jupyter-widgets/controls",
            "_model_module_version": "1.5.0",
            "_view_count": null,
            "_view_module_version": "1.5.0",
            "box_style": "",
            "layout": "IPY_MODEL_eada731d5050497489d4ce5b12f07184",
            "_model_module": "@jupyter-widgets/controls",
            "children": [
              "IPY_MODEL_a10e57900c994f18ba081fcf244f166c",
              "IPY_MODEL_79b2df21a01f4236b8c499fcdabd4ecf",
              "IPY_MODEL_0b3d67ac4559444e82d0c770e13a7a1c"
            ]
          }
        },
        "eada731d5050497489d4ce5b12f07184": {
          "model_module": "@jupyter-widgets/base",
          "model_name": "LayoutModel",
          "model_module_version": "1.2.0",
          "state": {
            "_view_name": "LayoutView",
            "grid_template_rows": null,
            "right": null,
            "justify_content": null,
            "_view_module": "@jupyter-widgets/base",
            "overflow": null,
            "_model_module_version": "1.2.0",
            "_view_count": null,
            "flex_flow": null,
            "width": null,
            "min_width": null,
            "border": null,
            "align_items": null,
            "bottom": null,
            "_model_module": "@jupyter-widgets/base",
            "top": null,
            "grid_column": null,
            "overflow_y": null,
            "overflow_x": null,
            "grid_auto_flow": null,
            "grid_area": null,
            "grid_template_columns": null,
            "flex": null,
            "_model_name": "LayoutModel",
            "justify_items": null,
            "grid_row": null,
            "max_height": null,
            "align_content": null,
            "visibility": null,
            "align_self": null,
            "height": null,
            "min_height": null,
            "padding": null,
            "grid_auto_rows": null,
            "grid_gap": null,
            "max_width": null,
            "order": null,
            "_view_module_version": "1.2.0",
            "grid_template_areas": null,
            "object_position": null,
            "object_fit": null,
            "grid_auto_columns": null,
            "margin": null,
            "display": null,
            "left": null
          }
        },
        "a10e57900c994f18ba081fcf244f166c": {
          "model_module": "@jupyter-widgets/controls",
          "model_name": "HTMLModel",
          "model_module_version": "1.5.0",
          "state": {
            "_view_name": "HTMLView",
            "style": "IPY_MODEL_20e58871f91948378cafde42d8aeb441",
            "_dom_classes": [],
            "description": "",
            "_model_name": "HTMLModel",
            "placeholder": "​",
            "_view_module": "@jupyter-widgets/controls",
            "_model_module_version": "1.5.0",
            "value": "Precompute adv samples: 100%",
            "_view_count": null,
            "_view_module_version": "1.5.0",
            "description_tooltip": null,
            "_model_module": "@jupyter-widgets/controls",
            "layout": "IPY_MODEL_085d5186c93a42f0824509a305d7f93a"
          }
        },
        "79b2df21a01f4236b8c499fcdabd4ecf": {
          "model_module": "@jupyter-widgets/controls",
          "model_name": "FloatProgressModel",
          "model_module_version": "1.5.0",
          "state": {
            "_view_name": "ProgressView",
            "style": "IPY_MODEL_11e4451b4a434034adbfec6d912d2383",
            "_dom_classes": [],
            "description": "",
            "_model_name": "FloatProgressModel",
            "bar_style": "success",
            "max": 1,
            "_view_module": "@jupyter-widgets/controls",
            "_model_module_version": "1.5.0",
            "value": 1,
            "_view_count": null,
            "_view_module_version": "1.5.0",
            "orientation": "horizontal",
            "min": 0,
            "description_tooltip": null,
            "_model_module": "@jupyter-widgets/controls",
            "layout": "IPY_MODEL_26003102a81d40de962b5171159ab099"
          }
        },
        "0b3d67ac4559444e82d0c770e13a7a1c": {
          "model_module": "@jupyter-widgets/controls",
          "model_name": "HTMLModel",
          "model_module_version": "1.5.0",
          "state": {
            "_view_name": "HTMLView",
            "style": "IPY_MODEL_62428ff1156e4327b6fa959468458432",
            "_dom_classes": [],
            "description": "",
            "_model_name": "HTMLModel",
            "placeholder": "​",
            "_view_module": "@jupyter-widgets/controls",
            "_model_module_version": "1.5.0",
            "value": " 1/1 [1:30:23&lt;00:00, 5423.18s/it]",
            "_view_count": null,
            "_view_module_version": "1.5.0",
            "description_tooltip": null,
            "_model_module": "@jupyter-widgets/controls",
            "layout": "IPY_MODEL_220d2a8671d647f994d0302acc98027d"
          }
        },
        "20e58871f91948378cafde42d8aeb441": {
          "model_module": "@jupyter-widgets/controls",
          "model_name": "DescriptionStyleModel",
          "model_module_version": "1.5.0",
          "state": {
            "_view_name": "StyleView",
            "_model_name": "DescriptionStyleModel",
            "description_width": "",
            "_view_module": "@jupyter-widgets/base",
            "_model_module_version": "1.5.0",
            "_view_count": null,
            "_view_module_version": "1.2.0",
            "_model_module": "@jupyter-widgets/controls"
          }
        },
        "085d5186c93a42f0824509a305d7f93a": {
          "model_module": "@jupyter-widgets/base",
          "model_name": "LayoutModel",
          "model_module_version": "1.2.0",
          "state": {
            "_view_name": "LayoutView",
            "grid_template_rows": null,
            "right": null,
            "justify_content": null,
            "_view_module": "@jupyter-widgets/base",
            "overflow": null,
            "_model_module_version": "1.2.0",
            "_view_count": null,
            "flex_flow": null,
            "width": null,
            "min_width": null,
            "border": null,
            "align_items": null,
            "bottom": null,
            "_model_module": "@jupyter-widgets/base",
            "top": null,
            "grid_column": null,
            "overflow_y": null,
            "overflow_x": null,
            "grid_auto_flow": null,
            "grid_area": null,
            "grid_template_columns": null,
            "flex": null,
            "_model_name": "LayoutModel",
            "justify_items": null,
            "grid_row": null,
            "max_height": null,
            "align_content": null,
            "visibility": null,
            "align_self": null,
            "height": null,
            "min_height": null,
            "padding": null,
            "grid_auto_rows": null,
            "grid_gap": null,
            "max_width": null,
            "order": null,
            "_view_module_version": "1.2.0",
            "grid_template_areas": null,
            "object_position": null,
            "object_fit": null,
            "grid_auto_columns": null,
            "margin": null,
            "display": null,
            "left": null
          }
        },
        "11e4451b4a434034adbfec6d912d2383": {
          "model_module": "@jupyter-widgets/controls",
          "model_name": "ProgressStyleModel",
          "model_module_version": "1.5.0",
          "state": {
            "_view_name": "StyleView",
            "_model_name": "ProgressStyleModel",
            "description_width": "",
            "_view_module": "@jupyter-widgets/base",
            "_model_module_version": "1.5.0",
            "_view_count": null,
            "_view_module_version": "1.2.0",
            "bar_color": null,
            "_model_module": "@jupyter-widgets/controls"
          }
        },
        "26003102a81d40de962b5171159ab099": {
          "model_module": "@jupyter-widgets/base",
          "model_name": "LayoutModel",
          "model_module_version": "1.2.0",
          "state": {
            "_view_name": "LayoutView",
            "grid_template_rows": null,
            "right": null,
            "justify_content": null,
            "_view_module": "@jupyter-widgets/base",
            "overflow": null,
            "_model_module_version": "1.2.0",
            "_view_count": null,
            "flex_flow": null,
            "width": null,
            "min_width": null,
            "border": null,
            "align_items": null,
            "bottom": null,
            "_model_module": "@jupyter-widgets/base",
            "top": null,
            "grid_column": null,
            "overflow_y": null,
            "overflow_x": null,
            "grid_auto_flow": null,
            "grid_area": null,
            "grid_template_columns": null,
            "flex": null,
            "_model_name": "LayoutModel",
            "justify_items": null,
            "grid_row": null,
            "max_height": null,
            "align_content": null,
            "visibility": null,
            "align_self": null,
            "height": null,
            "min_height": null,
            "padding": null,
            "grid_auto_rows": null,
            "grid_gap": null,
            "max_width": null,
            "order": null,
            "_view_module_version": "1.2.0",
            "grid_template_areas": null,
            "object_position": null,
            "object_fit": null,
            "grid_auto_columns": null,
            "margin": null,
            "display": null,
            "left": null
          }
        },
        "62428ff1156e4327b6fa959468458432": {
          "model_module": "@jupyter-widgets/controls",
          "model_name": "DescriptionStyleModel",
          "model_module_version": "1.5.0",
          "state": {
            "_view_name": "StyleView",
            "_model_name": "DescriptionStyleModel",
            "description_width": "",
            "_view_module": "@jupyter-widgets/base",
            "_model_module_version": "1.5.0",
            "_view_count": null,
            "_view_module_version": "1.2.0",
            "_model_module": "@jupyter-widgets/controls"
          }
        },
        "220d2a8671d647f994d0302acc98027d": {
          "model_module": "@jupyter-widgets/base",
          "model_name": "LayoutModel",
          "model_module_version": "1.2.0",
          "state": {
            "_view_name": "LayoutView",
            "grid_template_rows": null,
            "right": null,
            "justify_content": null,
            "_view_module": "@jupyter-widgets/base",
            "overflow": null,
            "_model_module_version": "1.2.0",
            "_view_count": null,
            "flex_flow": null,
            "width": null,
            "min_width": null,
            "border": null,
            "align_items": null,
            "bottom": null,
            "_model_module": "@jupyter-widgets/base",
            "top": null,
            "grid_column": null,
            "overflow_y": null,
            "overflow_x": null,
            "grid_auto_flow": null,
            "grid_area": null,
            "grid_template_columns": null,
            "flex": null,
            "_model_name": "LayoutModel",
            "justify_items": null,
            "grid_row": null,
            "max_height": null,
            "align_content": null,
            "visibility": null,
            "align_self": null,
            "height": null,
            "min_height": null,
            "padding": null,
            "grid_auto_rows": null,
            "grid_gap": null,
            "max_width": null,
            "order": null,
            "_view_module_version": "1.2.0",
            "grid_template_areas": null,
            "object_position": null,
            "object_fit": null,
            "grid_auto_columns": null,
            "margin": null,
            "display": null,
            "left": null
          }
        },
        "1481bbcf9ba045c080f216ea5d8ee957": {
          "model_module": "@jupyter-widgets/controls",
          "model_name": "HBoxModel",
          "model_module_version": "1.5.0",
          "state": {
            "_view_name": "HBoxView",
            "_dom_classes": [],
            "_model_name": "HBoxModel",
            "_view_module": "@jupyter-widgets/controls",
            "_model_module_version": "1.5.0",
            "_view_count": null,
            "_view_module_version": "1.5.0",
            "box_style": "",
            "layout": "IPY_MODEL_f6d2fe1d02d94b9085b6ed5828ca85f3",
            "_model_module": "@jupyter-widgets/controls",
            "children": [
              "IPY_MODEL_ef143f19225047b1bde90c0e616d9db1",
              "IPY_MODEL_32c37b377c884acfbc7838aaba0d09dc",
              "IPY_MODEL_adcf33d3066f4a3992abad2c97c7027d"
            ]
          }
        },
        "f6d2fe1d02d94b9085b6ed5828ca85f3": {
          "model_module": "@jupyter-widgets/base",
          "model_name": "LayoutModel",
          "model_module_version": "1.2.0",
          "state": {
            "_view_name": "LayoutView",
            "grid_template_rows": null,
            "right": null,
            "justify_content": null,
            "_view_module": "@jupyter-widgets/base",
            "overflow": null,
            "_model_module_version": "1.2.0",
            "_view_count": null,
            "flex_flow": null,
            "width": null,
            "min_width": null,
            "border": null,
            "align_items": null,
            "bottom": null,
            "_model_module": "@jupyter-widgets/base",
            "top": null,
            "grid_column": null,
            "overflow_y": null,
            "overflow_x": null,
            "grid_auto_flow": null,
            "grid_area": null,
            "grid_template_columns": null,
            "flex": null,
            "_model_name": "LayoutModel",
            "justify_items": null,
            "grid_row": null,
            "max_height": null,
            "align_content": null,
            "visibility": null,
            "align_self": null,
            "height": null,
            "min_height": null,
            "padding": null,
            "grid_auto_rows": null,
            "grid_gap": null,
            "max_width": null,
            "order": null,
            "_view_module_version": "1.2.0",
            "grid_template_areas": null,
            "object_position": null,
            "object_fit": null,
            "grid_auto_columns": null,
            "margin": null,
            "display": null,
            "left": null
          }
        },
        "ef143f19225047b1bde90c0e616d9db1": {
          "model_module": "@jupyter-widgets/controls",
          "model_name": "HTMLModel",
          "model_module_version": "1.5.0",
          "state": {
            "_view_name": "HTMLView",
            "style": "IPY_MODEL_72d64304b7624f0b86a5f9ca00ba8e55",
            "_dom_classes": [],
            "description": "",
            "_model_name": "HTMLModel",
            "placeholder": "​",
            "_view_module": "@jupyter-widgets/controls",
            "_model_module_version": "1.5.0",
            "value": "Adversarial training epochs: 100%",
            "_view_count": null,
            "_view_module_version": "1.5.0",
            "description_tooltip": null,
            "_model_module": "@jupyter-widgets/controls",
            "layout": "IPY_MODEL_c124fdf1fbf149028cfff0996bb9a2e0"
          }
        },
        "32c37b377c884acfbc7838aaba0d09dc": {
          "model_module": "@jupyter-widgets/controls",
          "model_name": "FloatProgressModel",
          "model_module_version": "1.5.0",
          "state": {
            "_view_name": "ProgressView",
            "style": "IPY_MODEL_eb7d0c46954b4401a5a8948c95aa091b",
            "_dom_classes": [],
            "description": "",
            "_model_name": "FloatProgressModel",
            "bar_style": "success",
            "max": 20,
            "_view_module": "@jupyter-widgets/controls",
            "_model_module_version": "1.5.0",
            "value": 20,
            "_view_count": null,
            "_view_module_version": "1.5.0",
            "orientation": "horizontal",
            "min": 0,
            "description_tooltip": null,
            "_model_module": "@jupyter-widgets/controls",
            "layout": "IPY_MODEL_c6d5dac1398e46b98bb11681c36d2537"
          }
        },
        "adcf33d3066f4a3992abad2c97c7027d": {
          "model_module": "@jupyter-widgets/controls",
          "model_name": "HTMLModel",
          "model_module_version": "1.5.0",
          "state": {
            "_view_name": "HTMLView",
            "style": "IPY_MODEL_1971afb826bd408d859c1bd9e2fb3661",
            "_dom_classes": [],
            "description": "",
            "_model_name": "HTMLModel",
            "placeholder": "​",
            "_view_module": "@jupyter-widgets/controls",
            "_model_module_version": "1.5.0",
            "value": " 20/20 [3:05:38&lt;00:00, 561.94s/it]",
            "_view_count": null,
            "_view_module_version": "1.5.0",
            "description_tooltip": null,
            "_model_module": "@jupyter-widgets/controls",
            "layout": "IPY_MODEL_50de9dd073af437c8e136d728d8d87f0"
          }
        },
        "72d64304b7624f0b86a5f9ca00ba8e55": {
          "model_module": "@jupyter-widgets/controls",
          "model_name": "DescriptionStyleModel",
          "model_module_version": "1.5.0",
          "state": {
            "_view_name": "StyleView",
            "_model_name": "DescriptionStyleModel",
            "description_width": "",
            "_view_module": "@jupyter-widgets/base",
            "_model_module_version": "1.5.0",
            "_view_count": null,
            "_view_module_version": "1.2.0",
            "_model_module": "@jupyter-widgets/controls"
          }
        },
        "c124fdf1fbf149028cfff0996bb9a2e0": {
          "model_module": "@jupyter-widgets/base",
          "model_name": "LayoutModel",
          "model_module_version": "1.2.0",
          "state": {
            "_view_name": "LayoutView",
            "grid_template_rows": null,
            "right": null,
            "justify_content": null,
            "_view_module": "@jupyter-widgets/base",
            "overflow": null,
            "_model_module_version": "1.2.0",
            "_view_count": null,
            "flex_flow": null,
            "width": null,
            "min_width": null,
            "border": null,
            "align_items": null,
            "bottom": null,
            "_model_module": "@jupyter-widgets/base",
            "top": null,
            "grid_column": null,
            "overflow_y": null,
            "overflow_x": null,
            "grid_auto_flow": null,
            "grid_area": null,
            "grid_template_columns": null,
            "flex": null,
            "_model_name": "LayoutModel",
            "justify_items": null,
            "grid_row": null,
            "max_height": null,
            "align_content": null,
            "visibility": null,
            "align_self": null,
            "height": null,
            "min_height": null,
            "padding": null,
            "grid_auto_rows": null,
            "grid_gap": null,
            "max_width": null,
            "order": null,
            "_view_module_version": "1.2.0",
            "grid_template_areas": null,
            "object_position": null,
            "object_fit": null,
            "grid_auto_columns": null,
            "margin": null,
            "display": null,
            "left": null
          }
        },
        "eb7d0c46954b4401a5a8948c95aa091b": {
          "model_module": "@jupyter-widgets/controls",
          "model_name": "ProgressStyleModel",
          "model_module_version": "1.5.0",
          "state": {
            "_view_name": "StyleView",
            "_model_name": "ProgressStyleModel",
            "description_width": "",
            "_view_module": "@jupyter-widgets/base",
            "_model_module_version": "1.5.0",
            "_view_count": null,
            "_view_module_version": "1.2.0",
            "bar_color": null,
            "_model_module": "@jupyter-widgets/controls"
          }
        },
        "c6d5dac1398e46b98bb11681c36d2537": {
          "model_module": "@jupyter-widgets/base",
          "model_name": "LayoutModel",
          "model_module_version": "1.2.0",
          "state": {
            "_view_name": "LayoutView",
            "grid_template_rows": null,
            "right": null,
            "justify_content": null,
            "_view_module": "@jupyter-widgets/base",
            "overflow": null,
            "_model_module_version": "1.2.0",
            "_view_count": null,
            "flex_flow": null,
            "width": null,
            "min_width": null,
            "border": null,
            "align_items": null,
            "bottom": null,
            "_model_module": "@jupyter-widgets/base",
            "top": null,
            "grid_column": null,
            "overflow_y": null,
            "overflow_x": null,
            "grid_auto_flow": null,
            "grid_area": null,
            "grid_template_columns": null,
            "flex": null,
            "_model_name": "LayoutModel",
            "justify_items": null,
            "grid_row": null,
            "max_height": null,
            "align_content": null,
            "visibility": null,
            "align_self": null,
            "height": null,
            "min_height": null,
            "padding": null,
            "grid_auto_rows": null,
            "grid_gap": null,
            "max_width": null,
            "order": null,
            "_view_module_version": "1.2.0",
            "grid_template_areas": null,
            "object_position": null,
            "object_fit": null,
            "grid_auto_columns": null,
            "margin": null,
            "display": null,
            "left": null
          }
        },
        "1971afb826bd408d859c1bd9e2fb3661": {
          "model_module": "@jupyter-widgets/controls",
          "model_name": "DescriptionStyleModel",
          "model_module_version": "1.5.0",
          "state": {
            "_view_name": "StyleView",
            "_model_name": "DescriptionStyleModel",
            "description_width": "",
            "_view_module": "@jupyter-widgets/base",
            "_model_module_version": "1.5.0",
            "_view_count": null,
            "_view_module_version": "1.2.0",
            "_model_module": "@jupyter-widgets/controls"
          }
        },
        "50de9dd073af437c8e136d728d8d87f0": {
          "model_module": "@jupyter-widgets/base",
          "model_name": "LayoutModel",
          "model_module_version": "1.2.0",
          "state": {
            "_view_name": "LayoutView",
            "grid_template_rows": null,
            "right": null,
            "justify_content": null,
            "_view_module": "@jupyter-widgets/base",
            "overflow": null,
            "_model_module_version": "1.2.0",
            "_view_count": null,
            "flex_flow": null,
            "width": null,
            "min_width": null,
            "border": null,
            "align_items": null,
            "bottom": null,
            "_model_module": "@jupyter-widgets/base",
            "top": null,
            "grid_column": null,
            "overflow_y": null,
            "overflow_x": null,
            "grid_auto_flow": null,
            "grid_area": null,
            "grid_template_columns": null,
            "flex": null,
            "_model_name": "LayoutModel",
            "justify_items": null,
            "grid_row": null,
            "max_height": null,
            "align_content": null,
            "visibility": null,
            "align_self": null,
            "height": null,
            "min_height": null,
            "padding": null,
            "grid_auto_rows": null,
            "grid_gap": null,
            "max_width": null,
            "order": null,
            "_view_module_version": "1.2.0",
            "grid_template_areas": null,
            "object_position": null,
            "object_fit": null,
            "grid_auto_columns": null,
            "margin": null,
            "display": null,
            "left": null
          }
        }
      }
    }
  },
  "cells": [
    {
      "cell_type": "markdown",
      "metadata": {
        "id": "view-in-github",
        "colab_type": "text"
      },
      "source": [
        "<a href=\"https://colab.research.google.com/github/Varchala/Secure_Private_AI/blob/main/evasion_attack_projectphase1_v3.ipynb\" target=\"_parent\"><img src=\"https://colab.research.google.com/assets/colab-badge.svg\" alt=\"Open In Colab\"/></a>"
      ]
    },
    {
      "cell_type": "code",
      "metadata": {
        "id": "47MdbucuOW-_"
      },
      "source": [
        "!pip install tensorflow-gpu==1.15.2 keras==2.2.3 adversarial-robustness-toolbox"
      ],
      "execution_count": null,
      "outputs": []
    },
    {
      "cell_type": "code",
      "metadata": {
        "id": "AxY8z0hd8-eb"
      },
      "source": [
        "!pip install keras==1.2.2"
      ],
      "execution_count": null,
      "outputs": []
    },
    {
      "cell_type": "code",
      "metadata": {
        "id": "eFlZ4DXOY5y-"
      },
      "source": [
        "pip install tensorflow"
      ],
      "execution_count": null,
      "outputs": []
    },
    {
      "cell_type": "code",
      "metadata": {
        "id": "tLJRPiSkOHUC"
      },
      "source": [
        "!pip install adversarial-robustness-toolbox==1.7.1"
      ],
      "execution_count": null,
      "outputs": []
    },
    {
      "cell_type": "code",
      "metadata": {
        "id": "2z6QCraT8M_h"
      },
      "source": [
        "# art.__version__"
      ],
      "execution_count": null,
      "outputs": []
    },
    {
      "cell_type": "code",
      "metadata": {
        "id": "Syw1bbWVOXXE"
      },
      "source": [
        "from google.colab import drive\n",
        "drive.mount('/content/drive') #, force_remount = True)"
      ],
      "execution_count": 3,
      "outputs": []
    },
    {
      "cell_type": "code",
      "metadata": {
        "id": "7oXC6rLNOe2v",
        "colab": {
          "base_uri": "https://localhost:8080/"
        },
        "outputId": "03133ee3-fab1-40cf-a4a2-337679df4e74"
      },
      "source": [
        "import tensorflow as tf\n",
        "import tensorflow.keras as keras\n",
        "import pandas as pd\n",
        "import numpy as np\n",
        "from tensorflow.keras import utils as np_utils\n",
        "import tensorflow.keras.backend as K\n",
        "from keras.datasets import cifar10\n",
        "from tensorflow.keras.utils import to_categorical"
      ],
      "execution_count": 2,
      "outputs": [
        {
          "output_type": "stream",
          "name": "stderr",
          "text": [
            "Using TensorFlow backend.\n"
          ]
        }
      ]
    },
    {
      "cell_type": "code",
      "metadata": {
        "id": "IrpemdpO50cv"
      },
      "source": [
        "# tf.compat.v1.enable_eager_execution()"
      ],
      "execution_count": null,
      "outputs": []
    },
    {
      "cell_type": "markdown",
      "metadata": {
        "id": "ErtnMXg7On18"
      },
      "source": [
        "# CIFAR-10 DATASET"
      ]
    },
    {
      "cell_type": "code",
      "metadata": {
        "id": "dNcTGZYWO8Nt"
      },
      "source": [
        "import matplotlib.pyplot as plt\n",
        "def show_image( img ):\n",
        "    plt.imshow( img)\n",
        "    plt.axis( 'off' )\n",
        "    plt.show( )"
      ],
      "execution_count": 4,
      "outputs": []
    },
    {
      "cell_type": "code",
      "metadata": {
        "id": "J3utjrNXOsgu",
        "colab": {
          "base_uri": "https://localhost:8080/"
        },
        "outputId": "27de7752-fb81-4f31-b6c6-14adaabc097b"
      },
      "source": [
        "(x_train, y_train), (x_test, y_test) = cifar10.load_data()\n",
        "y_test = to_categorical(y_test, 10)\n",
        "y_train = to_categorical(y_train, 10)\n",
        "x_train = x_train.astype('float32')\n",
        "x_test = x_test.astype('float32')\n",
        "x_train  /= 255\n",
        "x_test /= 255\n",
        "# print(y_train.shape)\n",
        "assert x_train.shape == (50000, 32, 32, 3)\n",
        "assert x_test.shape == (10000, 32, 32, 3)\n",
        "assert y_train.shape == (50000, 10)\n",
        "assert y_test.shape == (10000, 10)"
      ],
      "execution_count": 5,
      "outputs": [
        {
          "output_type": "stream",
          "name": "stdout",
          "text": [
            "Downloading data from https://www.cs.toronto.edu/~kriz/cifar-10-python.tar.gz\n",
            "170500096/170498071 [==============================] - 4s 0us/step\n"
          ]
        }
      ]
    },
    {
      "cell_type": "code",
      "metadata": {
        "id": "Y0KAKoHTOvzK"
      },
      "source": [
        "def extract_n_classes( data, labels,n ):\n",
        "    data_cl=[]\n",
        "    # print(n)\n",
        "    for i in range(10):\n",
        "        data_cl.append(data[ np.argwhere( np.argmax(labels,axis=1) == i ).reshape( -1 ) ][ :n ])\n",
        "    x = np.vstack( (data_cl) )\n",
        "\n",
        "    # x = x / 255.\n",
        "    # print(data_cl)\n",
        "    # print( x.shape )\n",
        "    y=[]\n",
        "    for i in range(10):\n",
        "        y.extend(np.full((data_cl[i].shape[0]), i, dtype=int))\n",
        "    y = to_categorical(y, 10)\n",
        "    y = np.array(y)\n",
        "    # print(\"In extract classes function\")\n",
        "    # print(x.shape,y.shape)\n",
        "    return x, y"
      ],
      "execution_count": 6,
      "outputs": []
    },
    {
      "cell_type": "code",
      "metadata": {
        "colab": {
          "base_uri": "https://localhost:8080/",
          "height": 248
        },
        "id": "A8MvyR05PFTL",
        "outputId": "34d03bef-0cb7-4646-b73a-4ff838098300"
      },
      "source": [
        "show_image(x_train[15])"
      ],
      "execution_count": null,
      "outputs": [
        {
          "data": {
            "image/png": "[encoded data removed]",
            "text/plain": [
              "<Figure size 432x288 with 1 Axes>"
            ]
          },
          "metadata": {},
          "output_type": "display_data"
        }
      ]
    },
    {
      "cell_type": "code",
      "metadata": {
        "colab": {
          "base_uri": "https://localhost:8080/"
        },
        "id": "_8PKwmtZSpCN",
        "outputId": "610ff943-1114-48b2-f56d-71b600e974f6"
      },
      "source": [
        "print(y_train[15])"
      ],
      "execution_count": null,
      "outputs": [
        {
          "name": "stdout",
          "output_type": "stream",
          "text": [
            "[0. 0. 0. 0. 0. 0. 0. 0. 0. 1.]\n"
          ]
        }
      ]
    },
    {
      "cell_type": "code",
      "metadata": {
        "id": "hTWQJ74ZPHya"
      },
      "source": [
        "data = x_train[0:1000].copy()\n",
        "label = y_train[0:1000].copy()"
      ],
      "execution_count": null,
      "outputs": []
    },
    {
      "cell_type": "code",
      "metadata": {
        "id": "WLSKsZqPPM_C"
      },
      "source": [
        ""
      ],
      "execution_count": null,
      "outputs": []
    },
    {
      "cell_type": "markdown",
      "metadata": {
        "id": "7NQ9xxpRPPch"
      },
      "source": [
        "# Ganeval-cifar10-convnet model\n",
        "\n",
        "## Module structure\n",
        "The model has 11 convolutional layers with increasing number of channels, followed by an average pooling layer on which a linear layer is applied to obtain to 10 softmax logits. The model uses BatchNorm.\n",
        "\n",
        "## Training\n",
        "The model was trained on random patches 24x24 cropped data patches. After cropping, data augumentation was used via tf.image.random_flip_left_right.\n",
        "\n",
        "The MomentumOptimizer was used for training, with a momentum of 0.9. A decaying learning schedule was used, starting with 0.1 and decaying by a multiplicative factor of 0.1 every 10^3 epochs. The training batch size is 32.\n",
        "\n"
      ]
    },
    {
      "cell_type": "code",
      "metadata": {
        "id": "HJT35LMhPXp5"
      },
      "source": [
        "import tensorflow_hub as hub\n",
        "\n",
        "model_url = \"https://tfhub.dev/deepmind/ganeval-cifar10-convnet/1\"\n",
        "# model2 = hub.load(model_url,signature=\"image_classification\")"
      ],
      "execution_count": 7,
      "outputs": []
    },
    {
      "cell_type": "code",
      "metadata": {
        "id": "pE-9tYXhPp3y"
      },
      "source": [
        "from tensorflow.keras import Sequential\n",
        "def model_def(linear=False):\n",
        "    model = tf.keras.Sequential()\n",
        "    model.add(tf.keras.layers.InputLayer(input_shape=(32,32,3)))\n",
        "    model.add(hub.KerasLayer(model_url,signature=\"default\"))\n",
        "    if linear == False:\n",
        "        model.add(tf.keras.layers.Activation('softmax'))\n",
        "    else:\n",
        "        model.add(tf.keras.layers.Activation('linear'))\n",
        "    # model.add(tf.keras.layers.Activation('relu'))\n",
        "    model.compile(optimizer=tf.keras.optimizers.SGD(learning_rate=0.1, momentum=0.9, decay=1e-4),\n",
        "                    loss=tf.keras.losses.CategoricalCrossentropy(),\n",
        "                    metrics=['accuracy'])\n",
        "    return model"
      ],
      "execution_count": 8,
      "outputs": []
    },
    {
      "cell_type": "code",
      "metadata": {
        "id": "h91CPzn5hdw3"
      },
      "source": [
        "model = model_def(False)"
      ],
      "execution_count": 9,
      "outputs": []
    },
    {
      "cell_type": "code",
      "metadata": {
        "id": "P14GC6etn79b"
      },
      "source": [
        ""
      ],
      "execution_count": null,
      "outputs": []
    },
    {
      "cell_type": "code",
      "metadata": {
        "id": "_4_LPoTen8NF"
      },
      "source": [
        "model2 = model_def(True)"
      ],
      "execution_count": 10,
      "outputs": []
    },
    {
      "cell_type": "code",
      "metadata": {
        "id": "FP8stHien8NF"
      },
      "source": [
        "from art.estimators.classification import TensorFlowV2Classifier\n",
        "# wrap the model an calculte emperical robustnees\n",
        "wrapper2 = TensorFlowV2Classifier(model2, clip_values=(0., 1.),nb_classes=10,input_shape=(32,32,3) ,loss_object=model2.loss)"
      ],
      "execution_count": 11,
      "outputs": []
    },
    {
      "cell_type": "code",
      "metadata": {
        "colab": {
          "base_uri": "https://localhost:8080/"
        },
        "id": "7FpjXYM8Rml-",
        "outputId": "006f02ae-6fc3-4b5a-e7bc-cc93301b47ce"
      },
      "source": [
        "model.summary()"
      ],
      "execution_count": null,
      "outputs": [
        {
          "name": "stdout",
          "output_type": "stream",
          "text": [
            "Model: \"sequential\"\n",
            "_________________________________________________________________\n",
            "Layer (type)                 Output Shape              Param #   \n",
            "=================================================================\n",
            "keras_layer (KerasLayer)     (None, 10)                7796426   \n",
            "_________________________________________________________________\n",
            "activation (Activation)      (None, 10)                0         \n",
            "=================================================================\n",
            "Total params: 7,796,426\n",
            "Trainable params: 0\n",
            "Non-trainable params: 7,796,426\n",
            "_________________________________________________________________\n"
          ]
        }
      ]
    },
    {
      "cell_type": "markdown",
      "metadata": {
        "id": "aCr5OagOwmvR"
      },
      "source": [
        "## Model's accuracy on train data"
      ]
    },
    {
      "cell_type": "code",
      "metadata": {
        "colab": {
          "base_uri": "https://localhost:8080/"
        },
        "id": "nVa-L1a7PxGT",
        "outputId": "22a58a3d-b1ed-4d8d-edcb-f014749f0611"
      },
      "source": [
        "model.evaluate(data,label)"
      ],
      "execution_count": null,
      "outputs": [
        {
          "name": "stdout",
          "output_type": "stream",
          "text": [
            "32/32 [==============================] - 10s 316ms/step - loss: 0.0017 - accuracy: 1.0000\n"
          ]
        },
        {
          "data": {
            "text/plain": [
              "[0.0016680299304425716, 1.0]"
            ]
          },
          "execution_count": 34,
          "metadata": {},
          "output_type": "execute_result"
        }
      ]
    },
    {
      "cell_type": "code",
      "metadata": {
        "colab": {
          "base_uri": "https://localhost:8080/"
        },
        "id": "IoP4W95sSxwL",
        "outputId": "2d94a9a9-9098-4ca7-d98c-b4886c18b3ea"
      },
      "source": [
        "np.argmax(model.predict(x_train[500].reshape(1,32,32,3)))"
      ],
      "execution_count": null,
      "outputs": [
        {
          "data": {
            "text/plain": [
              "5"
            ]
          },
          "execution_count": 14,
          "metadata": {},
          "output_type": "execute_result"
        }
      ]
    },
    {
      "cell_type": "markdown",
      "metadata": {
        "id": "n269aLUqxGVg"
      },
      "source": [
        "## Model's accuracy on test data before evasion attacks"
      ]
    },
    {
      "cell_type": "code",
      "metadata": {
        "colab": {
          "base_uri": "https://localhost:8080/"
        },
        "id": "czDgUm19w0aE",
        "outputId": "f23995bc-985f-4dce-902c-481d9a47e642"
      },
      "source": [
        "model.evaluate(x_test,y_test)"
      ],
      "execution_count": null,
      "outputs": [
        {
          "name": "stdout",
          "output_type": "stream",
          "text": [
            "313/313 [==============================] - 103s 328ms/step - loss: 0.0471 - accuracy: 0.9452\n"
          ]
        },
        {
          "data": {
            "text/plain": [
              "[0.047059524804353714, 0.9452000260353088]"
            ]
          },
          "execution_count": 15,
          "metadata": {},
          "output_type": "execute_result"
        }
      ]
    },
    {
      "cell_type": "markdown",
      "metadata": {
        "id": "z_NcuTitzxSc"
      },
      "source": [
        "creating wrapper for calling generate method of art library"
      ]
    },
    {
      "cell_type": "code",
      "metadata": {
        "id": "dva_YXYUP9oj"
      },
      "source": [
        "from art.metrics import empirical_robustness\n",
        "from art.estimators.classification import TensorFlowV2Classifier\n",
        "# wrap the model an calculte emperical robustnees\n",
        "wrapper = TensorFlowV2Classifier(model, clip_values=(0., 1.),nb_classes=10,input_shape=(32,32,3) ,loss_object=model.loss)"
      ],
      "execution_count": 12,
      "outputs": []
    },
    {
      "cell_type": "markdown",
      "metadata": {
        "id": "XsaLE7WADYp2"
      },
      "source": [
        "## Checking the robustness of the model against FGSM attack"
      ]
    },
    {
      "cell_type": "code",
      "metadata": {
        "colab": {
          "base_uri": "https://localhost:8080/"
        },
        "id": "SYHx6u8Pz4xq",
        "outputId": "cb615068-c684-457a-99fa-f45ddf4ee521"
      },
      "source": [
        "print( 'robustness of the undefended model', empirical_robustness( wrapper, x_test, 'fgsm', {'eps_step':.3}))"
      ],
      "execution_count": null,
      "outputs": [
        {
          "name": "stdout",
          "output_type": "stream",
          "text": [
            "robustness of the undefended model 0.32111713\n"
          ]
        }
      ]
    },
    {
      "cell_type": "markdown",
      "metadata": {
        "id": "f3oKDfbR0e0p"
      },
      "source": [
        "## Trying a sample attack using FGSM method and checking the result"
      ]
    },
    {
      "cell_type": "code",
      "metadata": {
        "colab": {
          "base_uri": "https://localhost:8080/",
          "height": 248
        },
        "id": "wjCrcuPhz6wR",
        "outputId": "462669ef-589a-4827-de58-847e81829266"
      },
      "source": [
        "show_image(x_test[1])"
      ],
      "execution_count": null,
      "outputs": [
        {
          "data": {
            "image/png": "[encoded data removed]",
            "text/plain": [
              "<Figure size 432x288 with 1 Axes>"
            ]
          },
          "metadata": {},
          "output_type": "display_data"
        }
      ]
    },
    {
      "cell_type": "code",
      "metadata": {
        "colab": {
          "base_uri": "https://localhost:8080/"
        },
        "id": "GUnlIgMX1Jqb",
        "outputId": "66f3d861-b21b-4efd-fd76-a85ecdeb3a89"
      },
      "source": [
        "print(\"Predicted Label\")\n",
        "print(np.argmax(model.predict(x_test[1].reshape(1,32,32,3))))\n",
        "print(\"Actual Label\")\n",
        "print(np.argmax(y_test[1]))"
      ],
      "execution_count": null,
      "outputs": [
        {
          "name": "stdout",
          "output_type": "stream",
          "text": [
            "Predicted Label\n",
            "8\n",
            "Actual Label\n",
            "8\n"
          ]
        }
      ]
    },
    {
      "cell_type": "code",
      "metadata": {
        "colab": {
          "base_uri": "https://localhost:8080/",
          "height": 265
        },
        "id": "KIYpyDzq1KVP",
        "outputId": "d0f9850e-52a8-452b-dbe3-04bcecdb6be2"
      },
      "source": [
        "from art.attacks.evasion import FastGradientMethod\n",
        "fgsm = FastGradientMethod( wrapper )\n",
        "x_adv = fgsm.generate(x_test[1].reshape((1,32,32,3) ))\n",
        "print( 'class prediction for the adversarial sample:',\n",
        "       np.argmax(model.predict( x_adv.reshape((1,32,32,3) ) ) ))\n",
        "show_image( x_adv.reshape((32,32,3) ) )"
      ],
      "execution_count": null,
      "outputs": [
        {
          "name": "stdout",
          "output_type": "stream",
          "text": [
            "class prediction for the adversarial sample: 2\n"
          ]
        },
        {
          "data": {
            "image/png": "[encoded data removed]",
            "text/plain": [
              "<Figure size 432x288 with 1 Axes>"
            ]
          },
          "metadata": {},
          "output_type": "display_data"
        }
      ]
    },
    {
      "cell_type": "markdown",
      "metadata": {
        "id": "4ddk4XQiL8rb"
      },
      "source": [
        "# 10 instances from each class (total of 100 instances from test data) for the experiments"
      ]
    },
    {
      "cell_type": "code",
      "metadata": {
        "colab": {
          "base_uri": "https://localhost:8080/",
          "height": 35
        },
        "id": "ymV_69USMyq7",
        "outputId": "7cff16ae-4a6f-450e-99fe-d963f37d6774"
      },
      "source": [
        "np.__version__"
      ],
      "execution_count": null,
      "outputs": [
        {
          "data": {
            "application/vnd.google.colaboratory.intrinsic+json": {
              "type": "string"
            },
            "text/plain": [
              "'1.19.5'"
            ]
          },
          "execution_count": 66,
          "metadata": {},
          "output_type": "execute_result"
        }
      ]
    },
    {
      "cell_type": "code",
      "metadata": {
        "colab": {
          "base_uri": "https://localhost:8080/",
          "height": 35
        },
        "id": "99CZ9pafNE1i",
        "outputId": "0e8158e1-4ad1-4c90-aafe-31c500683519"
      },
      "source": [
        "tf.__version__"
      ],
      "execution_count": null,
      "outputs": [
        {
          "data": {
            "application/vnd.google.colaboratory.intrinsic+json": {
              "type": "string"
            },
            "text/plain": [
              "'2.7.0'"
            ]
          },
          "execution_count": 16,
          "metadata": {},
          "output_type": "execute_result"
        }
      ]
    },
    {
      "cell_type": "code",
      "metadata": {
        "id": "KWe-jD85O_Bw"
      },
      "source": [
        "#extract equal ratio of all the classes\n",
        "x_test_adv, y_test_adv = extract_n_classes( x_test, y_test ,n=10)\n",
        "session =  tf.compat.v1.Session()\n",
        "tf.compat.v1.keras.backend.set_session( session )"
      ],
      "execution_count": 13,
      "outputs": []
    },
    {
      "cell_type": "code",
      "metadata": {
        "colab": {
          "base_uri": "https://localhost:8080/"
        },
        "id": "Eacd0FK3LXFR",
        "outputId": "c78409f2-4d4e-4e8a-a8e2-3d3fc76228dc"
      },
      "source": [
        "y_test_adv.shape, x_test_adv.shape"
      ],
      "execution_count": null,
      "outputs": [
        {
          "data": {
            "text/plain": [
              "((100, 10), (100, 32, 32, 3))"
            ]
          },
          "execution_count": 16,
          "metadata": {},
          "output_type": "execute_result"
        }
      ]
    },
    {
      "cell_type": "code",
      "metadata": {
        "colab": {
          "base_uri": "https://localhost:8080/"
        },
        "id": "3RsydfccrYxA",
        "outputId": "e624a35c-1675-4b3b-d70d-96039fb82dd4"
      },
      "source": [
        "x_test.shape"
      ],
      "execution_count": null,
      "outputs": [
        {
          "data": {
            "text/plain": [
              "(10000, 32, 32, 3)"
            ]
          },
          "execution_count": 17,
          "metadata": {},
          "output_type": "execute_result"
        }
      ]
    },
    {
      "cell_type": "code",
      "metadata": {
        "colab": {
          "base_uri": "https://localhost:8080/"
        },
        "id": "mNJpBJ6aFY59",
        "outputId": "18606809-e44a-4f14-a943-c3da3471ed75"
      },
      "source": [
        "y_test_adv[0]"
      ],
      "execution_count": null,
      "outputs": [
        {
          "data": {
            "text/plain": [
              "array([1., 0., 0., 0., 0., 0., 0., 0., 0., 0.], dtype=float32)"
            ]
          },
          "execution_count": 18,
          "metadata": {},
          "output_type": "execute_result"
        }
      ]
    },
    {
      "cell_type": "code",
      "metadata": {
        "id": "SQL7f0qvYRPc"
      },
      "source": [
        "# wrapper = TensorFlowV2Classifier(model, clip_values=(0., 1.),nb_classes=10,input_shape=(32,32,3) ,loss_object=model.loss)\n",
        "from art.estimators.classification import KerasClassifier\n",
        "wrapper = KerasClassifier(model=model, clip_values=(0, 1), use_logits=False)"
      ],
      "execution_count": 18,
      "outputs": []
    },
    {
      "cell_type": "markdown",
      "metadata": {
        "id": "bSyZzgyK60si"
      },
      "source": [
        "## Model accuracy on adversarial examples before adding perturbations to the examples."
      ]
    },
    {
      "cell_type": "code",
      "metadata": {
        "colab": {
          "base_uri": "https://localhost:8080/"
        },
        "id": "FgmmClib6WIK",
        "outputId": "8fdf71e4-2916-49c6-e380-e903d791eb51"
      },
      "source": [
        "model.evaluate(x_test_adv,y_test_adv)"
      ],
      "execution_count": null,
      "outputs": [
        {
          "name": "stdout",
          "output_type": "stream",
          "text": [
            "4/4 [==============================] - 1s 232ms/step - loss: 1.1921e-07 - accuracy: 0.9200\n"
          ]
        },
        {
          "data": {
            "text/plain": [
              "[1.1920930376163597e-07, 0.9200000166893005]"
            ]
          },
          "execution_count": 23,
          "metadata": {},
          "output_type": "execute_result"
        }
      ]
    },
    {
      "cell_type": "markdown",
      "metadata": {
        "id": "hx-M0-OMMiRG"
      },
      "source": [
        "# **ATTACKS**"
      ]
    },
    {
      "cell_type": "markdown",
      "metadata": {
        "id": "z-xdbdrydb8r"
      },
      "source": [
        "https://deepnotes.io/adversarial-attack"
      ]
    },
    {
      "cell_type": "markdown",
      "metadata": {
        "id": "3YgvHV-zY0if"
      },
      "source": [
        "Most of the attacks are untargeted where an untargeted attack causes a model to misclassify an image to another class except for the original one. In contrast, a targeted attack causes a model to classify an image as a given target class. We want to perturb an image to maximize the probability of a class of our choosing."
      ]
    },
    {
      "cell_type": "markdown",
      "metadata": {
        "id": "xsvXuvjjs_mq"
      },
      "source": [
        "# White Box Attacks"
      ]
    },
    {
      "cell_type": "code",
      "metadata": {
        "id": "9SlsgwRZM-8X"
      },
      "source": [
        "from sklearn.metrics import classification_report\n",
        "target_names=['airplane' ,'automobile' ,'bird' ,'cat' ,'deer' ,'dog' ,'frog' ,'horse' ,'ship' ,'truck']\n",
        "report=pd.DataFrame()\n",
        "def evasion_attack(model,attack,name,wrapper,to_cat=True):\n",
        "    # x_test_adv_evasion = x_test_adv.copy()\n",
        "    if to_cat == False:\n",
        "        y_test_adv_evasion = np.argmax(y_test_adv.copy(), axis=1)\n",
        "    else:\n",
        "        y_test_adv_evasion = y_test_adv.copy()\n",
        "    print(y_test_adv_evasion.shape)\n",
        "    x_test_adv_evasion = attack.generate( x_test_adv.copy() )\n",
        "    metri = model.evaluate( x_test_adv_evasion, y_test_adv_evasion )\n",
        "    predictions = model.predict(x_test_adv_evasion)\n",
        "    print( 'accuracy on adversarial examples for {} attack is : {}'.format(name,metri[1]))\n",
        "    clf = classification_report(np.argmax(y_test_adv, axis=1), \n",
        "                                   np.argmax(predictions, axis=1), \n",
        "                                   output_dict=True)\n",
        "    clf = clf['weighted avg']\n",
        "    clf.update({'Loss':metri[0]})\n",
        "    clf.update({'Accuracy':metri[1]})\n",
        "    clf.update({'Attack':name})\n",
        "    return clf,x_test_adv_evasion,predictions\n"
      ],
      "execution_count": 19,
      "outputs": []
    },
    {
      "cell_type": "code",
      "metadata": {
        "id": "CR3R1QX0Rty2"
      },
      "source": [
        "#for consolidated results\n",
        "res=[]\n",
        "ind=[]"
      ],
      "execution_count": 20,
      "outputs": []
    },
    {
      "cell_type": "code",
      "metadata": {
        "colab": {
          "base_uri": "https://localhost:8080/",
          "height": 479
        },
        "id": "NyALfw6rDlgb",
        "outputId": "d9da83f1-141c-4690-a88f-5f928ef4e6cb"
      },
      "source": [
        "show_image(x_test_adv[1])\n",
        "show_image(x_test_adv[5])"
      ],
      "execution_count": null,
      "outputs": [
        {
          "data": {
            "image/png": "[encoded data removed]",
            "text/plain": [
              "<Figure size 432x288 with 1 Axes>"
            ]
          },
          "metadata": {},
          "output_type": "display_data"
        },
        {
          "data": {
            "image/png": "[encoded data removed]",
            "text/plain": [
              "<Figure size 432x288 with 1 Axes>"
            ]
          },
          "metadata": {},
          "output_type": "display_data"
        }
      ]
    },
    {
      "cell_type": "markdown",
      "metadata": {
        "id": "StL8PXEJMmzt"
      },
      "source": [
        "# Fast Gradient Method"
      ]
    },
    {
      "cell_type": "markdown",
      "metadata": {
        "id": "ibOlLlfIbR-B"
      },
      "source": [
        "FGSM is a one of the simplest yet very efficient method of generating adversarial pertubations. It is a white-box method that can produce samples to cause trageted or untargeted misclassification. To find the perturbations, one can estimate the dimensions of the input space which are most sensitive to class change by calculating the gradient of the loss function with respect to the input. When the input is modified by changing the values of these dimensions in the opposite direction of the gradient, it maximizes the error of the network."
      ]
    },
    {
      "cell_type": "code",
      "metadata": {
        "colab": {
          "base_uri": "https://localhost:8080/"
        },
        "id": "VatybM9JIl_e",
        "outputId": "8720cf03-9431-46b6-8c94-8d882baab6da"
      },
      "source": [
        "from art.attacks.evasion import FastGradientMethod\n",
        "#, eps_step=0.001, eps=0.01, \n",
        "fgsm = FastGradientMethod( wrapper,targeted=False,eps_step=0.001, eps=0.01 )\n",
        "clf,adv_res,pred = evasion_attack(model,fgsm,\"Fast Gradient Method\",wrapper)\n",
        "perturbation = np.mean(np.abs((adv_res - x_test_adv)))\n",
        "clf['perturbation'] = perturbation\n",
        "res.append(clf)\n",
        "ind.append(\"FGSM\")"
      ],
      "execution_count": null,
      "outputs": [
        {
          "name": "stdout",
          "output_type": "stream",
          "text": [
            "(100, 10)\n",
            "4/4 [==============================] - 1s 269ms/step - loss: 3.9229 - accuracy: 0.4000\n",
            "accuracy on adversarial examples for Fast Gradient Method attack is : 0.4000000059604645\n"
          ]
        }
      ]
    },
    {
      "cell_type": "code",
      "metadata": {
        "colab": {
          "base_uri": "https://localhost:8080/",
          "height": 282
        },
        "id": "QUwVrylAKMrS",
        "outputId": "5fe60f0b-442d-455a-d27a-5e9a9589e262"
      },
      "source": [
        "show_image(adv_res[1])\n",
        "print(np.argmax(pred[1]))\n",
        "print(np.argmax(y_test_adv[1]))"
      ],
      "execution_count": null,
      "outputs": [
        {
          "data": {
            "image/png": "[encoded data removed]",
            "text/plain": [
              "<Figure size 432x288 with 1 Axes>"
            ]
          },
          "metadata": {},
          "output_type": "display_data"
        },
        {
          "name": "stdout",
          "output_type": "stream",
          "text": [
            "3\n",
            "0\n"
          ]
        }
      ]
    },
    {
      "cell_type": "code",
      "metadata": {
        "id": "UcK1ffNNvJxq"
      },
      "source": [
        ""
      ],
      "execution_count": null,
      "outputs": []
    },
    {
      "cell_type": "markdown",
      "metadata": {
        "id": "mwa8ZXRY1Vl9"
      },
      "source": [
        "# Auto Projected Gradient Descent (Auto-PGD)"
      ]
    },
    {
      "cell_type": "code",
      "metadata": {
        "colab": {
          "base_uri": "https://localhost:8080/",
          "height": 153,
          "referenced_widgets": [
            "91a4bf670fc3473fb4c83ec244424772",
            "ba9bed6eba664deeb8247ab3c4fe166d",
            "421db3ec58d546e5a321a74bd7134809",
            "b3ff977acbee406c9dfe3170da0e2329",
            "85283da8853a4ff7bed9987964865617",
            "153ed3563e5945c3890c4762924dea7e",
            "eb423c15903f4ce6bc810f7ea2854b20",
            "262b6af5927a488e8c72769f0cf6c11a",
            "1a4fc0c5be7744cba8ff58acfc66ec9a",
            "3fd728951b2e46629293641c8516cd83",
            "c2aef12517e04997826cbbab178c41a5",
            "2be5e1f7d09f439b9f52f16d3a3c292d",
            "e52fc84205904d7988f0676a9aa1fae0",
            "6ac856f6d42149f6b1036febad79d401",
            "90074ef0a0ec448485f2f56117581c9f",
            "8b6d8bb3b19c4259b156cb388cc39ee4",
            "90e929a013da41098f5bde76322d68e7",
            "89199a782cf047deb69a98953403766a",
            "adc04c1f76f34d93a7e43b5d64cfc960",
            "c5f322b12a314c2cb0e5d87d85392262",
            "35465b4b0cfd405193c77951f7d4e47f",
            "d6035b25409d4cea9e79860731fee0d0",
            "5497b61e471e4f1bac2adaba51b9f5ec",
            "5968cc0729ae427d955e2f2a35cf75fd",
            "a1b981f1cae74d4b9c6b9ba9c3b5f382",
            "87a3045a572b4369bbda34154897b0b0",
            "aaf04335f0324147a3f688d129f4a073",
            "7d345718679949f4a5cb19850a6449e5",
            "c439a34ffc5e4e659df2184ae5754059",
            "3c8bf37c55414c11b1350ad6aa6ecde0",
            "ccc6bee745f34da7bdb247efc6427fde",
            "df87c00e456b454cafd984c86d1abdde",
            "deaf0686289a434eb7dc20c35a7ae50d",
            "a57bd8804a6b4cf1a4fb20adf6e60a65",
            "3a545a7f0cd7498ca9d6fe9cea614aba",
            "1a912d7c6e764b8f856c6846b20cf01a",
            "efb44d87afeb4c15941a11a50001ad4a",
            "de4885d6e044433bbc002b3fcee72964",
            "2dcf19bf7a8a41fe8f1bf97969919d6c",
            "25f0741499d34f6eb8e72d4b037647ab",
            "d41d3491002f48b5badaa7580f05dd97",
            "ea024871480f44b3970740e70dc0ea60",
            "4920bfd9a59d41d4ad69bc4357562ebe",
            "4e3136a612f34bdc9755427d273b9418",
            "0c417787d2064def89fb2732d6b06fda",
            "f155322e18b643769206a82b78c0f77e",
            "51169e3e95fc4260a47a9e0f09ef0c54",
            "528ca3e92cf242bea3976ecef4ce8e20",
            "7b7c33bb9aca4a58b79c6540145ce91b",
            "a2e103d4ead04a1a8d5426daf7a413d9",
            "6019cdfe11a04327adf9d01242a7a03e",
            "a9fbe41f4b8941cb9476be57ed2a83b1",
            "d2b2b01d4793437ea37d4938150a1ae4",
            "a47e017b5ed247e9bc83d7b497fae29b",
            "78284727cb4244e9b68091cfc18f7562",
            "78d6159965ee44b5888fb42f79a9da27",
            "c3497759f8864eef888b1d474f33801b",
            "45cca25c75a04dcaabd7780bec7b9751",
            "da6876be602b40d38b4eccb31c48f11a",
            "12448150c5af4583861967154eab2196",
            "aa0b0fdbfd124f979736b87aa511f524",
            "30e3ea8cbd3f4889a8ca1ad5733b7195",
            "2db9df2c66cf41cba1369b12f55ec806",
            "c8061897821e4efb9d74245385027498",
            "aeff0ca36f354d828493998b9187e0ae",
            "07ec52c929554bb69deaa56a19b2ee4a",
            "a042f079131340a5907fcf0093f7e721",
            "08474e36a314431f9bcfde79787a5728",
            "d162a8fecbb74ea3a5fa4e0c9347ac1f",
            "194177519b3d488ca24141509d0f21b0",
            "dc88fe80ec6349deaffa8970ab8efd62",
            "90a4d57b3fd547ea9d375ecb7b058705",
            "9900a3d68a614e23a457a962c687b677",
            "3b1fa650cae84f4399faa35588bc1199",
            "19ee4a9b63c74061a7fd43b1b953c1c4",
            "e13cdc6c0bcd45abbcf4c3b0106e4ad1",
            "648f7aabe1c24056bc8850a95e199e38",
            "ee50eb6369484da88ead91d1f47f7eaf",
            "ca87724b1b8d400ab769e8c7f8da9f4d",
            "63c26d1921b2480ab05c90c5bf9bfeac",
            "c221e36edba34f559bba7f00fbe55e1d",
            "c96764e99831432e9068b816e501ce0d",
            "457ba1cbc44b4540995d7d39e1b2b939",
            "e49b3fab98e846b0aae4a3146bb694bb",
            "423770dc91b9497dad5d5f3f91a88d2d",
            "b2a9dae61306432dabc7287cd1ed23ef",
            "0ef31bb85335450c96f6a9037bbb8136",
            "b71b04d90001430d93395583148d4d8c",
            "4f763be724da49089aa0a3d5df397989",
            "25efc700319544a1aba4a5778836eec0",
            "3f94aad3be5d42c5aaf86e2618360a7f",
            "69c4fb4ce76a45d5a2ea65683bc93332",
            "85fd21aab13d40638a2be37d2cf8b356",
            "131d4a1a19c4469889c13c18326e9c04",
            "76c8a4a5bc6f4a21aa7cacb3249b3de1",
            "2e0843fe0fde455e8abb36262aff6276",
            "b2395e7d2ffc4807abfc93ed6c5f18c3",
            "cff1a8ddcbac4abd8ccfa417b1b07333",
            "370b73844915422f95175cbfa3efc307",
            "c84f8bffecae4a7d9375b86d3cb5e203",
            "5af07db58aa14902a9b32772a2a3d90d",
            "da9ff6f999364edcb9ff5c1221a97a28",
            "d0e79dc17e854255a299b6eff3d4559e",
            "8bca8d2663c2495ebb7ba4b19b5a7e3f",
            "13dea70f73074e73a779dff24b9162fd",
            "626584f07ce949f68574da2cc3309190",
            "e4ab1907796d47d88828f2fb8d8b105a",
            "f867d0bf787742f5b52fec0053083552",
            "ba9d6dee7693468a9e94f4c39ee52940",
            "e151cb3b5c994561adff48c59cd10dee",
            "309e6296495b42ac9bd572cd40be764c",
            "6ea4b1d8cf014d0892800c54c30fac28",
            "f3577ce104a447a38a7d201066d8d2d9",
            "c1f0fe58e63f4762beac985d82471e68",
            "655394e8635845d9ace5e78c77977864",
            "c1c8e0cfd39941d18eebc70afb78edbd",
            "4cc9f485390c4ac4be4aee0dddce00ee",
            "39fd4f73c24e4985b0c6c1d6a66fde5b",
            "018718a28a5b47ef838532b5fb5ee88c",
            "5d24072f5a8b460381d129884d7bc4db",
            "500fa76112ec445fab9d92612480a699",
            "ae6ce3364076461c9e40568ed69cd7f7",
            "329d683776554df9a28d32994e2ecda5",
            "301712c195374cb0baa14de248a56e69",
            "58bd1d1a39b3491c9959c83ef19ed3da",
            "86ce34ef5b9d40b0912405b2d92f3878",
            "f2437ae85da248328604d58d695b245b",
            "c95b143140d04961afe3792cfd10a480",
            "90caf57274b148548af7170ffcabb0f0",
            "535babf7ca2b4b09bd794a8e72208010",
            "d20f915c99054090a27be8fc3b2cd462",
            "3d9b85cffc514ecc8ac517e6e3a7919a"
          ]
        },
        "id": "r5ZwP7yp1W7g",
        "outputId": "1ee2bef6-7bd5-4ed3-9cf3-df39c79aa788"
      },
      "source": [
        "from art.attacks.evasion import AutoProjectedGradientDescent\n",
        "# (estimator: CLASSIFIER_LOSS_GRADIENTS_TYPE, norm: Union[int, float, str] = inf, eps: float = 0.3, eps_step: float = 0.1, max_iter: int = 100, targeted: bool = False, nb_random_init: int = 5, batch_size: int = 32, loss_type: Optional[str] = None, verbose: bool = True)\n",
        "apgd = AutoProjectedGradientDescent(wrapper2, eps=0.1, batch_size=50, max_iter=10,targeted=False,eps_step=0.1)\n",
        "clf,adv_res,pred = evasion_attack(model2,apgd,\"Auto Projected Gradient Descent\",wrapper2)\n",
        "perturbation = np.mean(np.abs((adv_res - x_test_adv)))\n",
        "clf['perturbation'] = perturbation\n",
        "res.append(clf)\n",
        "ind.append(\"AutoPGD\")"
      ],
      "execution_count": null,
      "outputs": [
        {
          "name": "stdout",
          "output_type": "stream",
          "text": [
            "(100, 10)\n"
          ]
        },
        {
          "data": {
            "application/vnd.jupyter.widget-view+json": {
              "model_id": "91a4bf670fc3473fb4c83ec244424772",
              "version_major": 2,
              "version_minor": 0
            },
            "text/plain": [
              "AutoPGD - restart:   0%|          | 0/5 [00:00<?, ?it/s]"
            ]
          },
          "metadata": {},
          "output_type": "display_data"
        },
        {
          "data": {
            "application/vnd.jupyter.widget-view+json": {
              "model_id": "2be5e1f7d09f439b9f52f16d3a3c292d",
              "version_major": 2,
              "version_minor": 0
            },
            "text/plain": [
              "AutoPGD - batch:   0%|          | 0/2 [00:00<?, ?it/s]"
            ]
          },
          "metadata": {},
          "output_type": "display_data"
        },
        {
          "data": {
            "application/vnd.jupyter.widget-view+json": {
              "model_id": "5497b61e471e4f1bac2adaba51b9f5ec",
              "version_major": 2,
              "version_minor": 0
            },
            "text/plain": [
              "AutoPGD - iteration:   0%|          | 0/10 [00:00<?, ?it/s]"
            ]
          },
          "metadata": {},
          "output_type": "display_data"
        },
        {
          "data": {
            "application/vnd.jupyter.widget-view+json": {
              "model_id": "a57bd8804a6b4cf1a4fb20adf6e60a65",
              "version_major": 2,
              "version_minor": 0
            },
            "text/plain": [
              "AutoPGD - iteration:   0%|          | 0/10 [00:00<?, ?it/s]"
            ]
          },
          "metadata": {},
          "output_type": "display_data"
        },
        {
          "data": {
            "application/vnd.jupyter.widget-view+json": {
              "model_id": "0c417787d2064def89fb2732d6b06fda",
              "version_major": 2,
              "version_minor": 0
            },
            "text/plain": [
              "AutoPGD - batch:   0%|          | 0/1 [00:00<?, ?it/s]"
            ]
          },
          "metadata": {},
          "output_type": "display_data"
        },
        {
          "data": {
            "application/vnd.jupyter.widget-view+json": {
              "model_id": "78d6159965ee44b5888fb42f79a9da27",
              "version_major": 2,
              "version_minor": 0
            },
            "text/plain": [
              "AutoPGD - iteration:   0%|          | 0/10 [00:00<?, ?it/s]"
            ]
          },
          "metadata": {},
          "output_type": "display_data"
        },
        {
          "data": {
            "application/vnd.jupyter.widget-view+json": {
              "model_id": "a042f079131340a5907fcf0093f7e721",
              "version_major": 2,
              "version_minor": 0
            },
            "text/plain": [
              "AutoPGD - batch:   0%|          | 0/1 [00:00<?, ?it/s]"
            ]
          },
          "metadata": {},
          "output_type": "display_data"
        },
        {
          "data": {
            "application/vnd.jupyter.widget-view+json": {
              "model_id": "ee50eb6369484da88ead91d1f47f7eaf",
              "version_major": 2,
              "version_minor": 0
            },
            "text/plain": [
              "AutoPGD - iteration:   0%|          | 0/10 [00:00<?, ?it/s]"
            ]
          },
          "metadata": {},
          "output_type": "display_data"
        },
        {
          "data": {
            "application/vnd.jupyter.widget-view+json": {
              "model_id": "4f763be724da49089aa0a3d5df397989",
              "version_major": 2,
              "version_minor": 0
            },
            "text/plain": [
              "AutoPGD - batch:   0%|          | 0/1 [00:00<?, ?it/s]"
            ]
          },
          "metadata": {},
          "output_type": "display_data"
        },
        {
          "data": {
            "application/vnd.jupyter.widget-view+json": {
              "model_id": "c84f8bffecae4a7d9375b86d3cb5e203",
              "version_major": 2,
              "version_minor": 0
            },
            "text/plain": [
              "AutoPGD - iteration:   0%|          | 0/10 [00:00<?, ?it/s]"
            ]
          },
          "metadata": {},
          "output_type": "display_data"
        },
        {
          "data": {
            "application/vnd.jupyter.widget-view+json": {
              "model_id": "309e6296495b42ac9bd572cd40be764c",
              "version_major": 2,
              "version_minor": 0
            },
            "text/plain": [
              "AutoPGD - batch:   0%|          | 0/1 [00:00<?, ?it/s]"
            ]
          },
          "metadata": {},
          "output_type": "display_data"
        },
        {
          "data": {
            "application/vnd.jupyter.widget-view+json": {
              "model_id": "ae6ce3364076461c9e40568ed69cd7f7",
              "version_major": 2,
              "version_minor": 0
            },
            "text/plain": [
              "AutoPGD - iteration:   0%|          | 0/10 [00:00<?, ?it/s]"
            ]
          },
          "metadata": {},
          "output_type": "display_data"
        },
        {
          "name": "stdout",
          "output_type": "stream",
          "text": [
            "4/4 [==============================] - 1s 274ms/step - loss: 2.9013 - accuracy: 0.2900\n",
            "accuracy on adversarial examples for Auto Projected Gradient Descent attack is : 0.28999999165534973\n"
          ]
        },
        {
          "name": "stderr",
          "output_type": "stream",
          "text": [
            "/usr/local/lib/python3.7/dist-packages/sklearn/metrics/_classification.py:1272: UndefinedMetricWarning: Precision and F-score are ill-defined and being set to 0.0 in labels with no predicted samples. Use `zero_division` parameter to control this behavior.\n",
            "  _warn_prf(average, modifier, msg_start, len(result))\n"
          ]
        }
      ]
    },
    {
      "cell_type": "code",
      "metadata": {
        "colab": {
          "base_uri": "https://localhost:8080/",
          "height": 546
        },
        "id": "fak8NIbV3U9m",
        "outputId": "36164c86-44a4-4177-db34-6a7b89b94f85"
      },
      "source": [
        "show_image(adv_res[1])\n",
        "print(np.argmax(pred[1]))\n",
        "print(np.argmax(y_test_adv[1]))\n",
        "show_image(adv_res[5])\n",
        "print(np.argmax(pred[5]))\n",
        "print(np.argmax(y_test_adv[5]))"
      ],
      "execution_count": null,
      "outputs": [
        {
          "data": {
            "image/png": "[encoded data removed]",
            "text/plain": [
              "<Figure size 432x288 with 1 Axes>"
            ]
          },
          "metadata": {},
          "output_type": "display_data"
        },
        {
          "name": "stdout",
          "output_type": "stream",
          "text": [
            "3\n",
            "0\n"
          ]
        },
        {
          "data": {
            "image/png": "[encoded data removed]",
            "text/plain": [
              "<Figure size 432x288 with 1 Axes>"
            ]
          },
          "metadata": {},
          "output_type": "display_data"
        },
        {
          "name": "stdout",
          "output_type": "stream",
          "text": [
            "6\n",
            "0\n"
          ]
        }
      ]
    },
    {
      "cell_type": "code",
      "metadata": {
        "id": "2fujTU5uSg-2"
      },
      "source": [
        ""
      ],
      "execution_count": null,
      "outputs": []
    },
    {
      "cell_type": "code",
      "metadata": {
        "id": "91FGGC3r4UlJ"
      },
      "source": [
        "# Wasserstein Attack"
      ],
      "execution_count": null,
      "outputs": []
    },
    {
      "cell_type": "markdown",
      "metadata": {
        "id": "y_8GK4hJTu6C"
      },
      "source": [
        "# Projected Gradient Descent"
      ]
    },
    {
      "cell_type": "markdown",
      "metadata": {
        "id": "GziNxcU0G4LH"
      },
      "source": [
        "The Projected Gradient Descent attack is an iterative method in which, after each iteration, the perturbation is projected on an lp-ball of specified radius (in addition to clipping the values of the adversarial sample so that it lies in the permitted data range). This is the attack proposed by Madry et al. for adversarial training."
      ]
    },
    {
      "cell_type": "code",
      "metadata": {
        "colab": {
          "base_uri": "https://localhost:8080/",
          "height": 249,
          "referenced_widgets": [
            "76f614b778a949109697a7bef32e9cb6",
            "1a2be6b63bad435cb373e85f05015d67",
            "b8b86835a3424546b76fa7b1cf77a686",
            "c5cd192da4284cae9bae97296a1f920b",
            "6beae4b13d8f4fb9a804745b507bd6a4",
            "6642cdbacb614b49a6d3394dd060651e",
            "031361570b9f44bb9506717936f34d6d",
            "0ffd73e8ce26487c9b13492a1151e069",
            "e13c470f7ab64866810eb5aa8d2e817e",
            "b2300767d72b4c02887e77e9de541dfa",
            "d9bf7b2fcaf74b8eb9774a805ee8839c",
            "563b959ed2c047e29e8820c841e2e085",
            "d83f8bee50fa426f9c0f08b4e70cef0d",
            "39877530942e41b7a90e75e16a209da2",
            "52e299d404ec44fda61e6d25b04e36c4",
            "28f0f1b677f545768480a2efe64481fb",
            "6bae96fff71c49febbeca504fdc85a25",
            "3f21bd78e56144f38448ba5a5ae67f1e",
            "f3a1a5c7c8644d8b81ffe41b44d39abf",
            "c0e8537acfe04ed1916ff0f4d2c5861d",
            "bea68e04c6fd45eda935d26caf6ea211",
            "323adf14bf1a4cf19d25ca5df9a0d175",
            "896838586168424e857cf0f715161933",
            "ecca53560ab24c79a04a1b8c5d6db704",
            "9071e2e2df9a4b9ab2066d310cd66703",
            "3d828839e3444646b3697aeeab8cc17f",
            "30971f417d8845feb0778e8cc1579fd8",
            "799206465c0b4435a21a345723ccf930",
            "4fc2af12b52c41bd86392e0f5928e9f5",
            "93b808b1a416498e9f35c2d86db942aa",
            "dde62a3bea954fb1ac98ba7b5ba1c4a7",
            "ca89987129074c6eae27aadb7c203196",
            "8712c4d2733d4c19bff1406ad07bb08b",
            "2bfa4325a38446129b4b29587a3650c0",
            "c9fc67764e8a4607890a54a5b9afb0a0",
            "f4ba26a90a3446aa80a13d451cfdcf86",
            "9ba2f2163fb548ffa6adae66e1e02828",
            "ae7645eec18945e089bc873599114745",
            "73b6bae3876f49e58e829755c6ebce93",
            "9c54143c7d1f4a01a6f34f8d743b13d0",
            "663e4d7ce08d4370adf958600bf093d0",
            "e4f08215b71442db84178f8adc54729c",
            "dffd4223d57a43d4882fa7f62eb74a5c",
            "3447de057ffc46e6bae74878a3b0fe02",
            "166bfa7ba65e49b1aa2ef4aba3726b01",
            "be981eb664654972b82d370334cca74f",
            "5ab2166d6d0c45d99c1230d1d91ae273",
            "dcf74170c4874997b0f6e33a7fdbe8f3",
            "f83338afc06644c2a00c2767bbdf5f32",
            "ef42317b33e74a99930f02d2d4280a6f",
            "a8106333102b4ce3914b68c9c053db7a",
            "5dc08415b04946cba903929e9abc5408",
            "0604068c165c4466b59faa79ebf294aa",
            "aed8862a64074df6ab5e76a5e9ae9f8d",
            "3e4cff6e78f9463d8d806aa408571800",
            "b9783f6409744d9b874b24f090701682",
            "389857550b834d99973fd9ba2f0241ea",
            "ac25392f0ebc4b1cb880542f08e14b81",
            "e9605b28521b4738b3aa04b1c877b680",
            "1279af5e112a4e44a3dbfcf167e9102b",
            "afe977607bf14c938e311b777b49b631",
            "1eace9268ce34798a1d54458d3e55d03",
            "dd0320b143f943e8b9fb3272d7d8bcde",
            "6a9d777e4f1d4e29be222f7d9cfdaad7",
            "1d78d1264b7a4c56a201379328b05cee",
            "182fec9f95a342c4be77e0731570dd80",
            "972daae80baa4c09941bf6c0219c07cc",
            "cf48784267164328a6ae38132c99e166",
            "543617b31dc24222a7f21cd5b1fb5ecf",
            "db9c3f96098644559dd4c9730e9101ec",
            "6d6fd706e5104cb0915ced27f1c76dfc",
            "c7391b2701c74a1d962fddfa9a203d6d",
            "0bd869cfe90f4744b98d0c3f837617ff",
            "68c3ebeb42cc44b2806b891cb94b29aa",
            "cc43acc053b048b79e19a248dd4aa6a7",
            "c59755467d574739be0487a4a8909734",
            "ad28144d8aee4ab9b2bf18eeae030e99",
            "b7ab1a42b1004db099a4f5f5686c415e",
            "a11eb0cfa09a4a5abb2977e0b8b385f9",
            "8fecb7709d56470abe3cc7233045129f",
            "843b6dd1a0d943a2b4e28ba7de6216b7",
            "c640d3c54b474db1971e69ab2778e490",
            "e70166b878e34422b9c52ede3bb14d1b",
            "8e6653b8b1ff4ba1861be7a3b0c8f2f7",
            "fb5cc1fa73534b59bff6afefd843a7a4",
            "cfc7427c7438405a9b1784dd6e3d5ab2",
            "3746e86788a1493aa8db93728dcca880",
            "c4149a2cd4bc4d7eac60d668d69b9388"
          ]
        },
        "id": "mCe-u5HZUEgO",
        "outputId": "5431b988-5fbd-422f-a433-a2f6551974ea"
      },
      "source": [
        "from art.attacks.evasion import ProjectedGradientDescent\n",
        "pgd = ProjectedGradientDescent( wrapper,eps_step=0.1, eps=0.1, targeted=False,max_iter=10)\n",
        "clf,adv_res,pred = evasion_attack(model,pgd,\"Projected Gradient Descent\",wrapper)\n",
        "perturbation = np.mean(np.abs((adv_res - x_test_adv)))\n",
        "clf['perturbation'] = perturbation\n",
        "res.append(clf)\n",
        "ind.append(\"PGD\")"
      ],
      "execution_count": 22,
      "outputs": [
        {
          "output_type": "stream",
          "name": "stdout",
          "text": [
            "(100, 10)\n"
          ]
        },
        {
          "output_type": "display_data",
          "data": {
            "application/vnd.jupyter.widget-view+json": {
              "model_id": "76f614b778a949109697a7bef32e9cb6",
              "version_minor": 0,
              "version_major": 2
            },
            "text/plain": [
              "PGD - Random Initializations:   0%|          | 0/1 [00:00<?, ?it/s]"
            ]
          },
          "metadata": {}
        },
        {
          "output_type": "display_data",
          "data": {
            "application/vnd.jupyter.widget-view+json": {
              "model_id": "563b959ed2c047e29e8820c841e2e085",
              "version_minor": 0,
              "version_major": 2
            },
            "text/plain": [
              "PGD - Iterations:   0%|          | 0/10 [00:00<?, ?it/s]"
            ]
          },
          "metadata": {}
        },
        {
          "output_type": "display_data",
          "data": {
            "application/vnd.jupyter.widget-view+json": {
              "model_id": "896838586168424e857cf0f715161933",
              "version_minor": 0,
              "version_major": 2
            },
            "text/plain": [
              "PGD - Random Initializations:   0%|          | 0/1 [00:00<?, ?it/s]"
            ]
          },
          "metadata": {}
        },
        {
          "output_type": "display_data",
          "data": {
            "application/vnd.jupyter.widget-view+json": {
              "model_id": "2bfa4325a38446129b4b29587a3650c0",
              "version_minor": 0,
              "version_major": 2
            },
            "text/plain": [
              "PGD - Iterations:   0%|          | 0/10 [00:00<?, ?it/s]"
            ]
          },
          "metadata": {}
        },
        {
          "output_type": "display_data",
          "data": {
            "application/vnd.jupyter.widget-view+json": {
              "model_id": "166bfa7ba65e49b1aa2ef4aba3726b01",
              "version_minor": 0,
              "version_major": 2
            },
            "text/plain": [
              "PGD - Random Initializations:   0%|          | 0/1 [00:00<?, ?it/s]"
            ]
          },
          "metadata": {}
        },
        {
          "output_type": "display_data",
          "data": {
            "application/vnd.jupyter.widget-view+json": {
              "model_id": "b9783f6409744d9b874b24f090701682",
              "version_minor": 0,
              "version_major": 2
            },
            "text/plain": [
              "PGD - Iterations:   0%|          | 0/10 [00:00<?, ?it/s]"
            ]
          },
          "metadata": {}
        },
        {
          "output_type": "display_data",
          "data": {
            "application/vnd.jupyter.widget-view+json": {
              "model_id": "972daae80baa4c09941bf6c0219c07cc",
              "version_minor": 0,
              "version_major": 2
            },
            "text/plain": [
              "PGD - Random Initializations:   0%|          | 0/1 [00:00<?, ?it/s]"
            ]
          },
          "metadata": {}
        },
        {
          "output_type": "display_data",
          "data": {
            "application/vnd.jupyter.widget-view+json": {
              "model_id": "b7ab1a42b1004db099a4f5f5686c415e",
              "version_minor": 0,
              "version_major": 2
            },
            "text/plain": [
              "PGD - Iterations:   0%|          | 0/10 [00:00<?, ?it/s]"
            ]
          },
          "metadata": {}
        },
        {
          "output_type": "stream",
          "name": "stdout",
          "text": [
            "100/100 [==============================] - 1s 13ms/sample - loss: 18.7566 - acc: 0.0100\n",
            "accuracy on adversarial examples for Projected Gradient Descent attack is : 0.009999999776482582\n"
          ]
        },
        {
          "output_type": "stream",
          "name": "stderr",
          "text": [
            "/usr/local/lib/python3.7/dist-packages/sklearn/metrics/_classification.py:1272: UndefinedMetricWarning: Precision and F-score are ill-defined and being set to 0.0 in labels with no predicted samples. Use `zero_division` parameter to control this behavior.\n",
            "  _warn_prf(average, modifier, msg_start, len(result))\n"
          ]
        }
      ]
    },
    {
      "cell_type": "code",
      "metadata": {
        "colab": {
          "base_uri": "https://localhost:8080/",
          "height": 546
        },
        "id": "D7-QRAEBJaq1",
        "outputId": "452ce2e8-b6ec-4314-b477-e295cf814fb9"
      },
      "source": [
        "show_image(adv_res[1])\n",
        "print(np.argmax(pred[1]))\n",
        "print(np.argmax(y_test_adv[1]))\n",
        "show_image(adv_res[5])\n",
        "print(np.argmax(pred[5]))\n",
        "print(np.argmax(y_test_adv[5]))"
      ],
      "execution_count": 23,
      "outputs": [
        {
          "output_type": "display_data",
          "data": {
            "image/png": "[encoded data removed]",
            "text/plain": [
              "<Figure size 432x288 with 1 Axes>"
            ]
          },
          "metadata": {
            "needs_background": "light"
          }
        },
        {
          "output_type": "stream",
          "name": "stdout",
          "text": [
            "2\n",
            "0\n"
          ]
        },
        {
          "output_type": "display_data",
          "data": {
            "image/png": "[encoded data removed]",
            "text/plain": [
              "<Figure size 432x288 with 1 Axes>"
            ]
          },
          "metadata": {
            "needs_background": "light"
          }
        },
        {
          "output_type": "stream",
          "name": "stdout",
          "text": [
            "2\n",
            "0\n"
          ]
        }
      ]
    },
    {
      "cell_type": "code",
      "metadata": {
        "colab": {
          "base_uri": "https://localhost:8080/"
        },
        "id": "TGH7NfbQLzsi",
        "outputId": "1af5febb-7ff9-49a6-e56a-e3a5784a489f"
      },
      "source": [
        "res"
      ],
      "execution_count": 26,
      "outputs": [
        {
          "output_type": "execute_result",
          "data": {
            "text/plain": [
              "[{'Accuracy': 0.01,\n",
              "  'Attack': 'Projected Gradient Descent',\n",
              "  'Loss': 18.75661560058594,\n",
              "  'f1-score': 0.01666666666666667,\n",
              "  'perturbation': 0.06549544,\n",
              "  'precision': 0.05,\n",
              "  'recall': 0.01,\n",
              "  'support': 100}]"
            ]
          },
          "metadata": {},
          "execution_count": 26
        }
      ]
    },
    {
      "cell_type": "markdown",
      "metadata": {
        "id": "fL0me0ggQgwB"
      },
      "source": [
        "# Newton Fool"
      ]
    },
    {
      "cell_type": "code",
      "metadata": {
        "colab": {
          "base_uri": "https://localhost:8080/",
          "height": 136,
          "referenced_widgets": [
            "561f54ec85694e9294e6335208900e11"
          ]
        },
        "id": "rz3J1tvmQwoY",
        "outputId": "0eb847ce-0b4f-49c0-834d-b6bab7ee3b98"
      },
      "source": [
        "from art.attacks.evasion import NewtonFool\n",
        "nf = NewtonFool( wrapper, eta=0.01, batch_size=1,max_iter=10)\n",
        "clf,adv_res,pred = evasion_attack(model,nf,\"Newton Fool\",wrapper)\n",
        "perturbation = np.mean(np.abs((adv_res - x_test_adv)))\n",
        "clf['perturbation'] = perturbation\n",
        "res.append(clf)\n",
        "ind.append(\"NF\")"
      ],
      "execution_count": null,
      "outputs": [
        {
          "data": {
            "application/vnd.jupyter.widget-view+json": {
              "model_id": "561f54ec85694e9294e6335208900e11",
              "version_major": 2,
              "version_minor": 0
            },
            "text/plain": [
              "NewtonFool:   0%|          | 0/100 [00:00<?, ?it/s]"
            ]
          },
          "metadata": {},
          "output_type": "display_data"
        },
        {
          "name": "stdout",
          "output_type": "stream",
          "text": [
            "WARNING:tensorflow:Calling GradientTape.gradient on a persistent tape inside its context is significantly less efficient than calling it outside the context (it causes the gradient ops to be recorded on the tape, leading to increased CPU and memory usage). Only call GradientTape.gradient inside the context if you actually want to trace the gradient in order to compute higher order derivatives.\n"
          ]
        },
        {
          "name": "stderr",
          "output_type": "stream",
          "text": [
            "WARNING:tensorflow:Calling GradientTape.gradient on a persistent tape inside its context is significantly less efficient than calling it outside the context (it causes the gradient ops to be recorded on the tape, leading to increased CPU and memory usage). Only call GradientTape.gradient inside the context if you actually want to trace the gradient in order to compute higher order derivatives.\n"
          ]
        },
        {
          "name": "stdout",
          "output_type": "stream",
          "text": [
            "4/4 [==============================] - 1s 230ms/step - loss: 2.5701 - accuracy: 0.0400\n",
            "accuracy on adversarial examples for Newton Fool attack is : 0.03999999910593033\n"
          ]
        }
      ]
    },
    {
      "cell_type": "code",
      "metadata": {
        "colab": {
          "base_uri": "https://localhost:8080/",
          "height": 282
        },
        "id": "99G3ZWceReZZ",
        "outputId": "979f5e1a-be1f-4197-ed18-99acab66ae2a"
      },
      "source": [
        "show_image(adv_res[1])\n",
        "print(np.argmax(pred[1]))\n",
        "print(np.argmax(y_test_adv[1]))"
      ],
      "execution_count": null,
      "outputs": [
        {
          "data": {
            "image/png": "[encoded data removed]",
            "text/plain": [
              "<Figure size 432x288 with 1 Axes>"
            ]
          },
          "metadata": {},
          "output_type": "display_data"
        },
        {
          "name": "stdout",
          "output_type": "stream",
          "text": [
            "3\n",
            "0\n"
          ]
        }
      ]
    },
    {
      "cell_type": "markdown",
      "metadata": {
        "id": "4LO2Er-lssxl"
      },
      "source": [
        "# Elastic Net Attack"
      ]
    },
    {
      "cell_type": "code",
      "metadata": {
        "colab": {
          "base_uri": "https://localhost:8080/",
          "height": 82
        },
        "id": "yMFkoVp6su6G",
        "outputId": "616114ef-102f-4780-fc2c-12a0f5ffcc15"
      },
      "source": [
        "from art.attacks.evasion import ElasticNet\n",
        "en = ElasticNet( wrapper,max_iter=10,targeted=False,decision_rule=\"EN\")\n",
        "clf,adv_res,pred = evasion_attack(model,en,\"elastic net\",wrapper)\n",
        "perturbation = np.mean(np.abs((adv_res - x_test_adv)))\n",
        "clf['perturbation'] = perturbation\n",
        "res.append(clf)\n",
        "ind.append(\"elastic net\")"
      ],
      "execution_count": null,
      "outputs": [
        {
          "data": {
            "application/vnd.jupyter.widget-view+json": {
              "model_id": "e62bab46ec1147eaade73f086d909fae",
              "version_major": 2,
              "version_minor": 0
            },
            "text/plain": [
              "EAD:   0%|          | 0/100 [00:00<?, ?it/s]"
            ]
          },
          "metadata": {},
          "output_type": "display_data"
        },
        {
          "name": "stdout",
          "output_type": "stream",
          "text": [
            "4/4 [==============================] - 1s 228ms/step - loss: 3.4087 - accuracy: 0.0600\n",
            "accuracy on adversarial examples for elastic net attack is : 0.05999999865889549\n"
          ]
        }
      ]
    },
    {
      "cell_type": "code",
      "metadata": {
        "colab": {
          "base_uri": "https://localhost:8080/",
          "height": 282
        },
        "id": "QoB8je1huVgy",
        "outputId": "fc8c4c7d-ed1b-4d0c-acae-306411dda698"
      },
      "source": [
        "show_image(adv_res[1])\n",
        "print(np.argmax(pred[1]))\n",
        "print(np.argmax(y_test_adv[1]))"
      ],
      "execution_count": null,
      "outputs": [
        {
          "data": {
            "image/png": "[encoded data removed]",
            "text/plain": [
              "<Figure size 432x288 with 1 Axes>"
            ]
          },
          "metadata": {},
          "output_type": "display_data"
        },
        {
          "name": "stdout",
          "output_type": "stream",
          "text": [
            "3\n",
            "0\n"
          ]
        }
      ]
    },
    {
      "cell_type": "markdown",
      "metadata": {
        "id": "Q7EPsSIN7IC7"
      },
      "source": [
        "# Carlini and Wagner L_inf Attack"
      ]
    },
    {
      "cell_type": "markdown",
      "metadata": {
        "id": "SxTX88u87YLI"
      },
      "source": [
        "This is a modified version of the L_2 optimized attack of Carlini and Wagner (2016). It controls the L_Inf norm, i.e. the maximum perturbation applied to each pixe"
      ]
    },
    {
      "cell_type": "code",
      "metadata": {
        "colab": {
          "base_uri": "https://localhost:8080/",
          "height": 82
        },
        "id": "YJfQE5jR7aXN",
        "outputId": "0a46a499-82f5-445d-a5c1-5807ce708832"
      },
      "source": [
        "from art.attacks.evasion import CarliniLInfMethod\n",
        "clfm = CarliniLInfMethod(wrapper, confidence=0.0, targeted=False,learning_rate=0.01, \n",
        "                         max_iter=10, max_halving=15, max_doubling=15,eps=0.01,batch_size=20)\n",
        "clf,adv_res,pred = evasion_attack(model,clfm,\"C&W L_inf\",wrapper)\n",
        "perturbation = np.mean(np.abs((adv_res - x_test_adv)))\n",
        "clf['perturbation'] = perturbation\n",
        "res.append(clf)\n",
        "ind.append(\"C&W L_inf\")"
      ],
      "execution_count": null,
      "outputs": [
        {
          "data": {
            "application/vnd.jupyter.widget-view+json": {
              "model_id": "0954f3fd1f6e435cb9bdea9524907781",
              "version_major": 2,
              "version_minor": 0
            },
            "text/plain": [
              "C&W L_inf:   0%|          | 0/5 [00:00<?, ?it/s]"
            ]
          },
          "metadata": {},
          "output_type": "display_data"
        },
        {
          "name": "stdout",
          "output_type": "stream",
          "text": [
            "4/4 [==============================] - 1s 235ms/step - loss: 0.8046 - accuracy: 0.6900\n",
            "accuracy on adversarial examples for C&W L_inf attack is : 0.6899999976158142\n"
          ]
        }
      ]
    },
    {
      "cell_type": "code",
      "metadata": {
        "colab": {
          "base_uri": "https://localhost:8080/",
          "height": 546
        },
        "id": "P9SFlnkz79SS",
        "outputId": "dc04c8ff-f8ee-4e34-b4e4-aac67c4f211e"
      },
      "source": [
        "show_image(adv_res[1])\n",
        "print(np.argmax(pred[1]))\n",
        "print(np.argmax(y_test_adv[1]))\n",
        "show_image(adv_res[5])\n",
        "print(np.argmax(pred[5]))\n",
        "print(np.argmax(y_test_adv[5]))"
      ],
      "execution_count": null,
      "outputs": [
        {
          "data": {
            "image/png": "[encoded data removed]",
            "text/plain": [
              "<Figure size 432x288 with 1 Axes>"
            ]
          },
          "metadata": {},
          "output_type": "display_data"
        },
        {
          "name": "stdout",
          "output_type": "stream",
          "text": [
            "0\n",
            "0\n"
          ]
        },
        {
          "data": {
            "image/png": "[encoded data removed]",
            "text/plain": [
              "<Figure size 432x288 with 1 Axes>"
            ]
          },
          "metadata": {},
          "output_type": "display_data"
        },
        {
          "name": "stdout",
          "output_type": "stream",
          "text": [
            "2\n",
            "0\n"
          ]
        }
      ]
    },
    {
      "cell_type": "markdown",
      "metadata": {
        "id": "rnmQ95Q4bAqm"
      },
      "source": [
        "# Jacobian Based Saliency Map Attack"
      ]
    },
    {
      "cell_type": "markdown",
      "metadata": {
        "id": "MBF8vmFybD30"
      },
      "source": [
        "JSMA is another gradient based whitebox method. Papernot et al. (2016)[4] proposed to use the gradient of loss with each class labels with respect to every component of the input i.e. jacobian matrix to extract the sensitivity direction. Then a saliency map is used to select the dimension which produces the maximum error "
      ]
    },
    {
      "cell_type": "code",
      "metadata": {
        "colab": {
          "base_uri": "https://localhost:8080/",
          "height": 136
        },
        "id": "DoPn5sY1CYcL",
        "outputId": "edc3cd76-dbfe-4d2d-bb8b-a171631f0cf9"
      },
      "source": [
        "from art.attacks.evasion import SaliencyMapMethod\n",
        "scm = SaliencyMapMethod(wrapper, theta=0.1, gamma=1.0, batch_size=20)\n",
        "clf,adv_res,pred = evasion_attack(model,scm,\"Saliency Map Method\",wrapper)\n",
        "perturbation = np.mean(np.abs((adv_res - x_test_adv)))\n",
        "clf['perturbation'] = perturbation\n",
        "res.append(clf)\n",
        "ind.append(\"Saliency Map Method\")"
      ],
      "execution_count": null,
      "outputs": [
        {
          "data": {
            "application/vnd.jupyter.widget-view+json": {
              "model_id": "25636df30e914fc08bf4a2c9805fae19",
              "version_major": 2,
              "version_minor": 0
            },
            "text/plain": [
              "JSMA:   0%|          | 0/5 [00:00<?, ?it/s]"
            ]
          },
          "metadata": {},
          "output_type": "display_data"
        },
        {
          "name": "stdout",
          "output_type": "stream",
          "text": [
            "4/4 [==============================] - 1s 236ms/step - loss: 1.2219 - accuracy: 0.0000e+00\n",
            "accuracy on adversarial examples for Saliency Map Method attack is : 0.0\n"
          ]
        },
        {
          "name": "stderr",
          "output_type": "stream",
          "text": [
            "/usr/local/lib/python3.7/dist-packages/sklearn/metrics/_classification.py:1272: UndefinedMetricWarning: Precision and F-score are ill-defined and being set to 0.0 in labels with no predicted samples. Use `zero_division` parameter to control this behavior.\n",
            "  _warn_prf(average, modifier, msg_start, len(result))\n"
          ]
        }
      ]
    },
    {
      "cell_type": "code",
      "metadata": {
        "colab": {
          "base_uri": "https://localhost:8080/",
          "height": 546
        },
        "id": "QsvuEbfpd2-y",
        "outputId": "5887b4d2-eb45-40a5-c39d-9aed0f1c196d"
      },
      "source": [
        "show_image(adv_res[1])\n",
        "print(np.argmax(pred[1]))\n",
        "print(np.argmax(y_test_adv[1]))\n",
        "show_image(adv_res[5])\n",
        "print(np.argmax(pred[5]))\n",
        "print(np.argmax(y_test_adv[5]))"
      ],
      "execution_count": null,
      "outputs": [
        {
          "data": {
            "image/png": "[encoded data removed]",
            "text/plain": [
              "<Figure size 432x288 with 1 Axes>"
            ]
          },
          "metadata": {},
          "output_type": "display_data"
        },
        {
          "name": "stdout",
          "output_type": "stream",
          "text": [
            "1\n",
            "0\n"
          ]
        },
        {
          "data": {
            "image/png": "[encoded data removed]",
            "text/plain": [
              "<Figure size 432x288 with 1 Axes>"
            ]
          },
          "metadata": {},
          "output_type": "display_data"
        },
        {
          "name": "stdout",
          "output_type": "stream",
          "text": [
            "6\n",
            "0\n"
          ]
        }
      ]
    },
    {
      "cell_type": "markdown",
      "metadata": {
        "id": "ViFt34v9CFnG"
      },
      "source": [
        "# DeepFool attack"
      ]
    },
    {
      "cell_type": "markdown",
      "metadata": {
        "id": "74vZTeMNCp4R"
      },
      "source": [
        "Implementation of the DeepFool algorithm from Moosavi-Dezfooli et al. (2015) to efficiently compute perturbations that fool deep networks, and thus reliably quantify the robustness of the state-of-the-art deep classifiers."
      ]
    },
    {
      "cell_type": "code",
      "metadata": {
        "colab": {
          "base_uri": "https://localhost:8080/",
          "height": 153
        },
        "id": "aB1-vOeLDEbD",
        "outputId": "84edb30d-2d46-49cc-c44b-eac72b19b640"
      },
      "source": [
        "from art.attacks.evasion import DeepFool\n",
        "depf = DeepFool(wrapper, max_iter=100, epsilon=1e-06, nb_grads=10, batch_size=1)\n",
        "clf,adv_res,pred = evasion_attack(model,depf,\"Deep Fool\",wrapper)\n",
        "perturbation = np.mean(np.abs((adv_res - x_test_adv)))\n",
        "clf['perturbation'] = perturbation\n",
        "res.append(clf)\n",
        "ind.append(\"Deep Fool\")"
      ],
      "execution_count": null,
      "outputs": [
        {
          "name": "stderr",
          "output_type": "stream",
          "text": [
            "WARNING:art.attacks.evasion.deepfool:It seems that the attacked model is predicting probabilities. DeepFool expects logits as model output to achieve its full attack strength.\n"
          ]
        },
        {
          "data": {
            "application/vnd.jupyter.widget-view+json": {
              "model_id": "b3ca88fdbdd14afe9f0b1d6be1080bc8",
              "version_major": 2,
              "version_minor": 0
            },
            "text/plain": [
              "DeepFool:   0%|          | 0/100 [00:00<?, ?it/s]"
            ]
          },
          "metadata": {},
          "output_type": "display_data"
        },
        {
          "name": "stdout",
          "output_type": "stream",
          "text": [
            "WARNING:tensorflow:Calling GradientTape.gradient on a persistent tape inside its context is significantly less efficient than calling it outside the context (it causes the gradient ops to be recorded on the tape, leading to increased CPU and memory usage). Only call GradientTape.gradient inside the context if you actually want to trace the gradient in order to compute higher order derivatives.\n"
          ]
        },
        {
          "name": "stderr",
          "output_type": "stream",
          "text": [
            "WARNING:tensorflow:Calling GradientTape.gradient on a persistent tape inside its context is significantly less efficient than calling it outside the context (it causes the gradient ops to be recorded on the tape, leading to increased CPU and memory usage). Only call GradientTape.gradient inside the context if you actually want to trace the gradient in order to compute higher order derivatives.\n"
          ]
        },
        {
          "name": "stdout",
          "output_type": "stream",
          "text": [
            "4/4 [==============================] - 1s 234ms/step - loss: 6.6634 - accuracy: 0.1100\n",
            "accuracy on adversarial examples for Deep Fool attack is : 0.10999999940395355\n"
          ]
        }
      ]
    },
    {
      "cell_type": "code",
      "metadata": {
        "colab": {
          "base_uri": "https://localhost:8080/",
          "height": 546
        },
        "id": "rtxEhMLLgWmd",
        "outputId": "2ed335ba-1f09-42ad-de1e-ef0ffec5b20a"
      },
      "source": [
        "show_image(adv_res[1])\n",
        "print(np.argmax(pred[1]))\n",
        "print(np.argmax(y_test_adv[1]))\n",
        "show_image(adv_res[5])\n",
        "print(np.argmax(pred[5]))\n",
        "print(np.argmax(y_test_adv[5]))"
      ],
      "execution_count": null,
      "outputs": [
        {
          "data": {
            "image/png": "[encoded data removed]",
            "text/plain": [
              "<Figure size 432x288 with 1 Axes>"
            ]
          },
          "metadata": {},
          "output_type": "display_data"
        },
        {
          "name": "stdout",
          "output_type": "stream",
          "text": [
            "9\n",
            "0\n"
          ]
        },
        {
          "data": {
            "image/png": "[encoded data removed]",
            "text/plain": [
              "<Figure size 432x288 with 1 Axes>"
            ]
          },
          "metadata": {},
          "output_type": "display_data"
        },
        {
          "name": "stdout",
          "output_type": "stream",
          "text": [
            "2\n",
            "0\n"
          ]
        }
      ]
    },
    {
      "cell_type": "markdown",
      "metadata": {
        "id": "V9TSbuzXDGGG"
      },
      "source": [
        "# Universal Perturbation Attack"
      ]
    },
    {
      "cell_type": "markdown",
      "metadata": {
        "id": "d1PET0OyDXT8"
      },
      "source": [
        "Implementation of the attack from Moosavi-Dezfooli et al. (2016). Computes a fixed perturbation to be applied to all future inputs. To this end, it can use any adversarial attack method."
      ]
    },
    {
      "cell_type": "code",
      "metadata": {
        "colab": {
          "base_uri": "https://localhost:8080/"
        },
        "id": "Qg9YoMa6Dao3",
        "outputId": "eb989aec-ee92-44b2-83ad-79b707c593e2"
      },
      "source": [
        "from art.attacks.evasion import UniversalPerturbation\n",
        "upa = UniversalPerturbation(wrapper,attacker='deepfool', attacker_params=None, delta=0.2, max_iter=10, eps=10.0, norm=2)\n",
        "clf,adv_res,pred = evasion_attack(model,upa,\"Universal Perturbation\",wrapper)\n",
        "perturbation = np.mean(np.abs((adv_res - x_test_adv)))\n",
        "clf['perturbation'] = perturbation\n",
        "res.append(clf)\n",
        "ind.append(\"Universal Perturbation\")"
      ],
      "execution_count": null,
      "outputs": [
        {
          "name": "stdout",
          "output_type": "stream",
          "text": [
            "4/4 [==============================] - 1s 239ms/step - loss: 6.4808 - accuracy: 0.1200\n",
            "accuracy on adversarial examples for Universal Perturbation attack is : 0.11999999731779099\n"
          ]
        },
        {
          "name": "stderr",
          "output_type": "stream",
          "text": [
            "/usr/local/lib/python3.7/dist-packages/sklearn/metrics/_classification.py:1272: UndefinedMetricWarning: Precision and F-score are ill-defined and being set to 0.0 in labels with no predicted samples. Use `zero_division` parameter to control this behavior.\n",
            "  _warn_prf(average, modifier, msg_start, len(result))\n"
          ]
        }
      ]
    },
    {
      "cell_type": "code",
      "metadata": {
        "colab": {
          "base_uri": "https://localhost:8080/",
          "height": 546
        },
        "id": "-IgMFaF0gw83",
        "outputId": "3ada6418-a474-4667-efe1-34d3fdc2a182"
      },
      "source": [
        "show_image(adv_res[1])\n",
        "print(np.argmax(pred[1]))\n",
        "print(np.argmax(y_test_adv[1]))\n",
        "show_image(adv_res[5])\n",
        "print(np.argmax(pred[5]))\n",
        "print(np.argmax(y_test_adv[5]))"
      ],
      "execution_count": null,
      "outputs": [
        {
          "data": {
            "image/png": "[encoded data removed]",
            "text/plain": [
              "<Figure size 432x288 with 1 Axes>"
            ]
          },
          "metadata": {},
          "output_type": "display_data"
        },
        {
          "name": "stdout",
          "output_type": "stream",
          "text": [
            "2\n",
            "0\n"
          ]
        },
        {
          "data": {
            "image/png": "[encoded data removed]",
            "text/plain": [
              "<Figure size 432x288 with 1 Axes>"
            ]
          },
          "metadata": {},
          "output_type": "display_data"
        },
        {
          "name": "stdout",
          "output_type": "stream",
          "text": [
            "2\n",
            "0\n"
          ]
        }
      ]
    },
    {
      "cell_type": "markdown",
      "metadata": {
        "id": "MmP9S8MOkg-n"
      },
      "source": [
        "# Virtual Adversarial Method"
      ]
    },
    {
      "cell_type": "code",
      "metadata": {
        "colab": {
          "base_uri": "https://localhost:8080/",
          "height": 82
        },
        "id": "L0Njqbehr0E5",
        "outputId": "5f0c3270-2c8d-40f2-f7a1-1bb56bbb4f8f"
      },
      "source": [
        "from art.attacks.evasion import VirtualAdversarialMethod\n",
        "vam = VirtualAdversarialMethod(wrapper, eps=0.1, batch_size=5, max_iter=1)\n",
        "clf,adv_res,pred = evasion_attack(model,vam,\"Virtual Adversarial Method\",wrapper)\n",
        "perturbation = np.mean(np.abs((adv_res - x_test_adv)))\n",
        "clf['perturbation'] = perturbation\n",
        "res.append(clf)\n",
        "ind.append(\"VirtualAdversarialMethod\")"
      ],
      "execution_count": null,
      "outputs": [
        {
          "data": {
            "application/vnd.jupyter.widget-view+json": {
              "model_id": "e795439de064409f9d7d617b017c685b",
              "version_major": 2,
              "version_minor": 0
            },
            "text/plain": [
              "VAT:   0%|          | 0/20 [00:00<?, ?it/s]"
            ]
          },
          "metadata": {},
          "output_type": "display_data"
        },
        {
          "name": "stdout",
          "output_type": "stream",
          "text": [
            "4/4 [==============================] - 1s 221ms/step - loss: 0.2277 - accuracy: 0.9400\n",
            "accuracy on adversarial examples for Virtual Adversarial Method attack is : 0.9399999976158142\n"
          ]
        }
      ]
    },
    {
      "cell_type": "code",
      "metadata": {
        "colab": {
          "base_uri": "https://localhost:8080/",
          "height": 546
        },
        "id": "Zskfu25fsHhK",
        "outputId": "2a852559-810c-4577-b6bb-14e603c0b93d"
      },
      "source": [
        "show_image(adv_res[1])\n",
        "print(np.argmax(pred[1]))\n",
        "print(np.argmax(y_test_adv[1]))\n",
        "show_image(adv_res[5])\n",
        "print(np.argmax(pred[5]))\n",
        "print(np.argmax(y_test_adv[5]))"
      ],
      "execution_count": null,
      "outputs": [
        {
          "data": {
            "image/png": "[encoded data removed]",
            "text/plain": [
              "<Figure size 432x288 with 1 Axes>"
            ]
          },
          "metadata": {},
          "output_type": "display_data"
        },
        {
          "name": "stdout",
          "output_type": "stream",
          "text": [
            "0\n",
            "0\n"
          ]
        },
        {
          "data": {
            "image/png": "[encoded data removed]",
            "text/plain": [
              "<Figure size 432x288 with 1 Axes>"
            ]
          },
          "metadata": {},
          "output_type": "display_data"
        },
        {
          "name": "stdout",
          "output_type": "stream",
          "text": [
            "2\n",
            "0\n"
          ]
        }
      ]
    },
    {
      "cell_type": "markdown",
      "metadata": {
        "id": "8OR81mM3-wWv"
      },
      "source": [
        "# Frame Saliency Attack"
      ]
    },
    {
      "cell_type": "markdown",
      "metadata": {
        "id": "Dihjkazw_T2i"
      },
      "source": [
        "The Iterative Frame Saliency attack creates adversarial examples for optical flow-based image and video classification models."
      ]
    },
    {
      "cell_type": "code",
      "metadata": {
        "id": "GkZ2Bsa7U8O-"
      },
      "source": [
        ""
      ],
      "execution_count": null,
      "outputs": []
    },
    {
      "cell_type": "code",
      "metadata": {
        "id": "4gQJllR7_WYI"
      },
      "source": [
        "from art.attacks.evasion import FrameSaliencyAttack\n",
        "fsa = FrameSaliencyAttack(wrapper, batch_size=20, attacker=fgsm,method=\"iterative_saliency\")\n",
        "clf,adv_res,pred = evasion_attack(model,fsa,\"Frame Saliency Attack\",wrapper)\n",
        "perturbation = np.mean(np.abs((adv_res - x_test_adv)))\n",
        "clf['perturbation'] = perturbation\n",
        "res.append(clf)\n",
        "ind.append(\"Frame Saliency Attack\")"
      ],
      "execution_count": null,
      "outputs": []
    },
    {
      "cell_type": "code",
      "metadata": {
        "colab": {
          "base_uri": "https://localhost:8080/",
          "height": 546
        },
        "id": "SkJe2yFX_am1",
        "outputId": "edbdb301-3e0e-4b7f-ac84-ed7c078d37c8"
      },
      "source": [
        "show_image(adv_res[1])\n",
        "print(np.argmax(pred[1]))\n",
        "print(np.argmax(y_test_adv[1]))\n",
        "show_image(adv_res[5])\n",
        "print(np.argmax(pred[5]))\n",
        "print(np.argmax(y_test_adv[5]))"
      ],
      "execution_count": null,
      "outputs": [
        {
          "data": {
            "image/png": "[encoded data removed]",
            "text/plain": [
              "<Figure size 432x288 with 1 Axes>"
            ]
          },
          "metadata": {},
          "output_type": "display_data"
        },
        {
          "name": "stdout",
          "output_type": "stream",
          "text": [
            "3\n",
            "0\n"
          ]
        },
        {
          "data": {
            "image/png": "[encoded data removed]",
            "text/plain": [
              "<Figure size 432x288 with 1 Axes>"
            ]
          },
          "metadata": {},
          "output_type": "display_data"
        },
        {
          "name": "stdout",
          "output_type": "stream",
          "text": [
            "0\n",
            "0\n"
          ]
        }
      ]
    },
    {
      "cell_type": "markdown",
      "metadata": {
        "id": "4aHR5WMzH1CV"
      },
      "source": [
        "# Adversarial Patch\n",
        "\n",
        "This attack generates adversarial patches that can be printed and applied in the physical world to attack image and video classification models."
      ]
    },
    {
      "cell_type": "code",
      "metadata": {
        "id": "37e4y3LMWlq5"
      },
      "source": [
        "!pip install tensorflow_addons"
      ],
      "execution_count": null,
      "outputs": []
    },
    {
      "cell_type": "code",
      "metadata": {
        "id": "ZRf9KbceiIvE"
      },
      "source": [
        "model2 = model_def(True)"
      ],
      "execution_count": null,
      "outputs": []
    },
    {
      "cell_type": "code",
      "metadata": {
        "id": "csFRry86njkQ"
      },
      "source": [
        "from art.estimators.classification import TensorFlowV2Classifier\n",
        "# wrap the model an calculte emperical robustnees\n",
        "wrapper2 = TensorFlowV2Classifier(model2, clip_values=(0., 1.),nb_classes=10,input_shape=(32,32,3) ,loss_object=model2.loss)"
      ],
      "execution_count": null,
      "outputs": []
    },
    {
      "cell_type": "code",
      "metadata": {
        "colab": {
          "base_uri": "https://localhost:8080/",
          "height": 470
        },
        "id": "i9lH_sRhH4xi",
        "outputId": "0813ae63-e598-4ed8-8ef3-21b2b17c3fc9"
      },
      "source": [
        "from art.attacks.evasion import AdversarialPatchTensorFlowV2\n",
        "adpv2 = AdversarialPatchTensorFlowV2(wrapper2, patch_shape=(2,2,3),max_iter=10,batch_size=20,learning_rate=1e-3)\n",
        "clf,adv_res,pred = evasion_attack(model2,adpv2,\"Adversarial Patch TensorFlowV2\",wrapper)\n",
        "clf['perturbation'] = perturbation\n",
        "res.append(clf)\n",
        "ind.append(\"AdversarialPatchTensorFlowV2\")"
      ],
      "execution_count": null,
      "outputs": [
        {
          "name": "stdout",
          "output_type": "stream",
          "text": [
            "(100, 10)\n"
          ]
        },
        {
          "data": {
            "application/vnd.jupyter.widget-view+json": {
              "model_id": "a678375045cb4f939560396c05366598",
              "version_major": 2,
              "version_minor": 0
            },
            "text/plain": [
              "Adversarial Patch TensorFlow v2:   0%|          | 0/10 [00:00<?, ?it/s]"
            ]
          },
          "metadata": {},
          "output_type": "display_data"
        },
        {
          "ename": "ValueError",
          "evalue": "ignored",
          "output_type": "error",
          "traceback": [
            "\u001b[0;31m---------------------------------------------------------------------------\u001b[0m",
            "\u001b[0;31mValueError\u001b[0m                                Traceback (most recent call last)",
            "\u001b[0;32m<ipython-input-54-5fa680df1fa3>\u001b[0m in \u001b[0;36m<module>\u001b[0;34m()\u001b[0m\n\u001b[1;32m      1\u001b[0m \u001b[0;32mfrom\u001b[0m \u001b[0mart\u001b[0m\u001b[0;34m.\u001b[0m\u001b[0mattacks\u001b[0m\u001b[0;34m.\u001b[0m\u001b[0mevasion\u001b[0m \u001b[0;32mimport\u001b[0m \u001b[0mAdversarialPatchTensorFlowV2\u001b[0m\u001b[0;34m\u001b[0m\u001b[0;34m\u001b[0m\u001b[0m\n\u001b[1;32m      2\u001b[0m \u001b[0madpv2\u001b[0m \u001b[0;34m=\u001b[0m \u001b[0mAdversarialPatchTensorFlowV2\u001b[0m\u001b[0;34m(\u001b[0m\u001b[0mwrapper2\u001b[0m\u001b[0;34m,\u001b[0m \u001b[0mpatch_shape\u001b[0m\u001b[0;34m=\u001b[0m\u001b[0;34m(\u001b[0m\u001b[0;36m2\u001b[0m\u001b[0;34m,\u001b[0m\u001b[0;36m2\u001b[0m\u001b[0;34m,\u001b[0m\u001b[0;36m3\u001b[0m\u001b[0;34m)\u001b[0m\u001b[0;34m,\u001b[0m\u001b[0mmax_iter\u001b[0m\u001b[0;34m=\u001b[0m\u001b[0;36m10\u001b[0m\u001b[0;34m,\u001b[0m\u001b[0mbatch_size\u001b[0m\u001b[0;34m=\u001b[0m\u001b[0;36m20\u001b[0m\u001b[0;34m,\u001b[0m\u001b[0mlearning_rate\u001b[0m\u001b[0;34m=\u001b[0m\u001b[0;36m1e-3\u001b[0m\u001b[0;34m)\u001b[0m\u001b[0;34m\u001b[0m\u001b[0;34m\u001b[0m\u001b[0m\n\u001b[0;32m----> 3\u001b[0;31m \u001b[0mclf\u001b[0m\u001b[0;34m,\u001b[0m\u001b[0madv_res\u001b[0m\u001b[0;34m,\u001b[0m\u001b[0mpred\u001b[0m \u001b[0;34m=\u001b[0m \u001b[0mevasion_attack\u001b[0m\u001b[0;34m(\u001b[0m\u001b[0mmodel2\u001b[0m\u001b[0;34m,\u001b[0m\u001b[0madpv2\u001b[0m\u001b[0;34m,\u001b[0m\u001b[0;34m\"Adversarial Patch TensorFlowV2\"\u001b[0m\u001b[0;34m,\u001b[0m\u001b[0mwrapper\u001b[0m\u001b[0;34m)\u001b[0m\u001b[0;34m\u001b[0m\u001b[0;34m\u001b[0m\u001b[0m\n\u001b[0m\u001b[1;32m      4\u001b[0m \u001b[0mclf\u001b[0m\u001b[0;34m[\u001b[0m\u001b[0;34m'perturbation'\u001b[0m\u001b[0;34m]\u001b[0m \u001b[0;34m=\u001b[0m \u001b[0mperturbation\u001b[0m\u001b[0;34m\u001b[0m\u001b[0;34m\u001b[0m\u001b[0m\n\u001b[1;32m      5\u001b[0m \u001b[0mres\u001b[0m\u001b[0;34m.\u001b[0m\u001b[0mappend\u001b[0m\u001b[0;34m(\u001b[0m\u001b[0mclf\u001b[0m\u001b[0;34m)\u001b[0m\u001b[0;34m\u001b[0m\u001b[0;34m\u001b[0m\u001b[0m\n",
            "\u001b[0;32m<ipython-input-42-743a5aa3af6d>\u001b[0m in \u001b[0;36mevasion_attack\u001b[0;34m(model, attack, name, wrapper, to_cat)\u001b[0m\n\u001b[1;32m     10\u001b[0m     \u001b[0mprint\u001b[0m\u001b[0;34m(\u001b[0m\u001b[0my_test_adv_evasion\u001b[0m\u001b[0;34m.\u001b[0m\u001b[0mshape\u001b[0m\u001b[0;34m)\u001b[0m\u001b[0;34m\u001b[0m\u001b[0;34m\u001b[0m\u001b[0m\n\u001b[1;32m     11\u001b[0m     \u001b[0mx_test_adv_evasion\u001b[0m \u001b[0;34m=\u001b[0m \u001b[0mattack\u001b[0m\u001b[0;34m.\u001b[0m\u001b[0mgenerate\u001b[0m\u001b[0;34m(\u001b[0m \u001b[0mx_test_adv\u001b[0m\u001b[0;34m.\u001b[0m\u001b[0mcopy\u001b[0m\u001b[0;34m(\u001b[0m\u001b[0;34m)\u001b[0m \u001b[0;34m)\u001b[0m\u001b[0;34m\u001b[0m\u001b[0;34m\u001b[0m\u001b[0m\n\u001b[0;32m---> 12\u001b[0;31m     \u001b[0mmetri\u001b[0m \u001b[0;34m=\u001b[0m \u001b[0mmodel\u001b[0m\u001b[0;34m.\u001b[0m\u001b[0mevaluate\u001b[0m\u001b[0;34m(\u001b[0m \u001b[0mx_test_adv_evasion\u001b[0m\u001b[0;34m,\u001b[0m \u001b[0my_test_adv_evasion\u001b[0m \u001b[0;34m)\u001b[0m\u001b[0;34m\u001b[0m\u001b[0;34m\u001b[0m\u001b[0m\n\u001b[0m\u001b[1;32m     13\u001b[0m     \u001b[0mpredictions\u001b[0m \u001b[0;34m=\u001b[0m \u001b[0mmodel\u001b[0m\u001b[0;34m.\u001b[0m\u001b[0mpredict\u001b[0m\u001b[0;34m(\u001b[0m\u001b[0mx_test_adv_evasion\u001b[0m\u001b[0;34m)\u001b[0m\u001b[0;34m\u001b[0m\u001b[0;34m\u001b[0m\u001b[0m\n\u001b[1;32m     14\u001b[0m     \u001b[0mprint\u001b[0m\u001b[0;34m(\u001b[0m \u001b[0;34m'accuracy on adversarial examples for {} attack is : {}'\u001b[0m\u001b[0;34m.\u001b[0m\u001b[0mformat\u001b[0m\u001b[0;34m(\u001b[0m\u001b[0mname\u001b[0m\u001b[0;34m,\u001b[0m\u001b[0mmetri\u001b[0m\u001b[0;34m[\u001b[0m\u001b[0;36m1\u001b[0m\u001b[0;34m]\u001b[0m\u001b[0;34m)\u001b[0m\u001b[0;34m)\u001b[0m\u001b[0;34m\u001b[0m\u001b[0;34m\u001b[0m\u001b[0m\n",
            "\u001b[0;32m/usr/local/lib/python3.7/dist-packages/keras/engine/training.py\u001b[0m in \u001b[0;36mevaluate\u001b[0;34m(self, x, y, batch_size, verbose, sample_weight, steps, callbacks, max_queue_size, workers, use_multiprocessing, return_dict, **kwargs)\u001b[0m\n\u001b[1;32m   1476\u001b[0m             \u001b[0muse_multiprocessing\u001b[0m\u001b[0;34m=\u001b[0m\u001b[0muse_multiprocessing\u001b[0m\u001b[0;34m,\u001b[0m\u001b[0;34m\u001b[0m\u001b[0;34m\u001b[0m\u001b[0m\n\u001b[1;32m   1477\u001b[0m             \u001b[0mmodel\u001b[0m\u001b[0;34m=\u001b[0m\u001b[0mself\u001b[0m\u001b[0;34m,\u001b[0m\u001b[0;34m\u001b[0m\u001b[0;34m\u001b[0m\u001b[0m\n\u001b[0;32m-> 1478\u001b[0;31m             steps_per_execution=self._steps_per_execution)\n\u001b[0m\u001b[1;32m   1479\u001b[0m \u001b[0;34m\u001b[0m\u001b[0m\n\u001b[1;32m   1480\u001b[0m       \u001b[0;31m# Container that configures and calls `tf.keras.Callback`s.\u001b[0m\u001b[0;34m\u001b[0m\u001b[0;34m\u001b[0m\u001b[0;34m\u001b[0m\u001b[0m\n",
            "\u001b[0;32m/usr/local/lib/python3.7/dist-packages/keras/engine/data_adapter.py\u001b[0m in \u001b[0;36mget_data_handler\u001b[0;34m(*args, **kwargs)\u001b[0m\n\u001b[1;32m   1381\u001b[0m   \u001b[0;32mif\u001b[0m \u001b[0mgetattr\u001b[0m\u001b[0;34m(\u001b[0m\u001b[0mkwargs\u001b[0m\u001b[0;34m[\u001b[0m\u001b[0;34m\"model\"\u001b[0m\u001b[0;34m]\u001b[0m\u001b[0;34m,\u001b[0m \u001b[0;34m\"_cluster_coordinator\"\u001b[0m\u001b[0;34m,\u001b[0m \u001b[0;32mNone\u001b[0m\u001b[0;34m)\u001b[0m\u001b[0;34m:\u001b[0m\u001b[0;34m\u001b[0m\u001b[0;34m\u001b[0m\u001b[0m\n\u001b[1;32m   1382\u001b[0m     \u001b[0;32mreturn\u001b[0m \u001b[0m_ClusterCoordinatorDataHandler\u001b[0m\u001b[0;34m(\u001b[0m\u001b[0;34m*\u001b[0m\u001b[0margs\u001b[0m\u001b[0;34m,\u001b[0m \u001b[0;34m**\u001b[0m\u001b[0mkwargs\u001b[0m\u001b[0;34m)\u001b[0m\u001b[0;34m\u001b[0m\u001b[0;34m\u001b[0m\u001b[0m\n\u001b[0;32m-> 1383\u001b[0;31m   \u001b[0;32mreturn\u001b[0m \u001b[0mDataHandler\u001b[0m\u001b[0;34m(\u001b[0m\u001b[0;34m*\u001b[0m\u001b[0margs\u001b[0m\u001b[0;34m,\u001b[0m \u001b[0;34m**\u001b[0m\u001b[0mkwargs\u001b[0m\u001b[0;34m)\u001b[0m\u001b[0;34m\u001b[0m\u001b[0;34m\u001b[0m\u001b[0m\n\u001b[0m\u001b[1;32m   1384\u001b[0m \u001b[0;34m\u001b[0m\u001b[0m\n\u001b[1;32m   1385\u001b[0m \u001b[0;34m\u001b[0m\u001b[0m\n",
            "\u001b[0;32m/usr/local/lib/python3.7/dist-packages/keras/engine/data_adapter.py\u001b[0m in \u001b[0;36m__init__\u001b[0;34m(self, x, y, sample_weight, batch_size, steps_per_epoch, initial_epoch, epochs, shuffle, class_weight, max_queue_size, workers, use_multiprocessing, model, steps_per_execution, distribute)\u001b[0m\n\u001b[1;32m   1148\u001b[0m         \u001b[0muse_multiprocessing\u001b[0m\u001b[0;34m=\u001b[0m\u001b[0muse_multiprocessing\u001b[0m\u001b[0;34m,\u001b[0m\u001b[0;34m\u001b[0m\u001b[0;34m\u001b[0m\u001b[0m\n\u001b[1;32m   1149\u001b[0m         \u001b[0mdistribution_strategy\u001b[0m\u001b[0;34m=\u001b[0m\u001b[0mtf\u001b[0m\u001b[0;34m.\u001b[0m\u001b[0mdistribute\u001b[0m\u001b[0;34m.\u001b[0m\u001b[0mget_strategy\u001b[0m\u001b[0;34m(\u001b[0m\u001b[0;34m)\u001b[0m\u001b[0;34m,\u001b[0m\u001b[0;34m\u001b[0m\u001b[0;34m\u001b[0m\u001b[0m\n\u001b[0;32m-> 1150\u001b[0;31m         model=model)\n\u001b[0m\u001b[1;32m   1151\u001b[0m \u001b[0;34m\u001b[0m\u001b[0m\n\u001b[1;32m   1152\u001b[0m     \u001b[0mstrategy\u001b[0m \u001b[0;34m=\u001b[0m \u001b[0mtf\u001b[0m\u001b[0;34m.\u001b[0m\u001b[0mdistribute\u001b[0m\u001b[0;34m.\u001b[0m\u001b[0mget_strategy\u001b[0m\u001b[0;34m(\u001b[0m\u001b[0;34m)\u001b[0m\u001b[0;34m\u001b[0m\u001b[0;34m\u001b[0m\u001b[0m\n",
            "\u001b[0;32m/usr/local/lib/python3.7/dist-packages/keras/engine/data_adapter.py\u001b[0m in \u001b[0;36m__init__\u001b[0;34m(self, x, y, sample_weights, sample_weight_modes, batch_size, epochs, steps, shuffle, **kwargs)\u001b[0m\n\u001b[1;32m    239\u001b[0m \u001b[0;34m\u001b[0m\u001b[0m\n\u001b[1;32m    240\u001b[0m     \u001b[0mnum_samples\u001b[0m \u001b[0;34m=\u001b[0m \u001b[0mset\u001b[0m\u001b[0;34m(\u001b[0m\u001b[0mint\u001b[0m\u001b[0;34m(\u001b[0m\u001b[0mi\u001b[0m\u001b[0;34m.\u001b[0m\u001b[0mshape\u001b[0m\u001b[0;34m[\u001b[0m\u001b[0;36m0\u001b[0m\u001b[0;34m]\u001b[0m\u001b[0;34m)\u001b[0m \u001b[0;32mfor\u001b[0m \u001b[0mi\u001b[0m \u001b[0;32min\u001b[0m \u001b[0mtf\u001b[0m\u001b[0;34m.\u001b[0m\u001b[0mnest\u001b[0m\u001b[0;34m.\u001b[0m\u001b[0mflatten\u001b[0m\u001b[0;34m(\u001b[0m\u001b[0minputs\u001b[0m\u001b[0;34m)\u001b[0m\u001b[0;34m)\u001b[0m\u001b[0;34m.\u001b[0m\u001b[0mpop\u001b[0m\u001b[0;34m(\u001b[0m\u001b[0;34m)\u001b[0m\u001b[0;34m\u001b[0m\u001b[0;34m\u001b[0m\u001b[0m\n\u001b[0;32m--> 241\u001b[0;31m     \u001b[0m_check_data_cardinality\u001b[0m\u001b[0;34m(\u001b[0m\u001b[0minputs\u001b[0m\u001b[0;34m)\u001b[0m\u001b[0;34m\u001b[0m\u001b[0;34m\u001b[0m\u001b[0m\n\u001b[0m\u001b[1;32m    242\u001b[0m \u001b[0;34m\u001b[0m\u001b[0m\n\u001b[1;32m    243\u001b[0m     \u001b[0;31m# If batch_size is not passed but steps is, calculate from the input data.\u001b[0m\u001b[0;34m\u001b[0m\u001b[0;34m\u001b[0m\u001b[0;34m\u001b[0m\u001b[0m\n",
            "\u001b[0;32m/usr/local/lib/python3.7/dist-packages/keras/engine/data_adapter.py\u001b[0m in \u001b[0;36m_check_data_cardinality\u001b[0;34m(data)\u001b[0m\n\u001b[1;32m   1647\u001b[0m           label, \", \".join(str(i.shape[0]) for i in tf.nest.flatten(single_data)))\n\u001b[1;32m   1648\u001b[0m     \u001b[0mmsg\u001b[0m \u001b[0;34m+=\u001b[0m \u001b[0;34m\"Make sure all arrays contain the same number of samples.\"\u001b[0m\u001b[0;34m\u001b[0m\u001b[0;34m\u001b[0m\u001b[0m\n\u001b[0;32m-> 1649\u001b[0;31m     \u001b[0;32mraise\u001b[0m \u001b[0mValueError\u001b[0m\u001b[0;34m(\u001b[0m\u001b[0mmsg\u001b[0m\u001b[0;34m)\u001b[0m\u001b[0;34m\u001b[0m\u001b[0;34m\u001b[0m\u001b[0m\n\u001b[0m\u001b[1;32m   1650\u001b[0m \u001b[0;34m\u001b[0m\u001b[0m\n\u001b[1;32m   1651\u001b[0m \u001b[0;34m\u001b[0m\u001b[0m\n",
            "\u001b[0;31mValueError\u001b[0m: Data cardinality is ambiguous:\n  x sizes: 2, 2\n  y sizes: 100\nMake sure all arrays contain the same number of samples."
          ]
        }
      ]
    },
    {
      "cell_type": "code",
      "metadata": {
        "id": "ODIGCP-5H76D"
      },
      "source": [
        "show_image(adv_res[1])\n",
        "print(np.argmax(pred[1]))\n",
        "print(np.argmax(y_test_adv[1]))\n",
        "show_image(adv_res[5])\n",
        "print(np.argmax(pred[5]))\n",
        "print(np.argmax(y_test_adv[5]))"
      ],
      "execution_count": null,
      "outputs": []
    },
    {
      "cell_type": "markdown",
      "metadata": {
        "id": "zeWrylvHI3XM"
      },
      "source": [
        "# Feature Adversaries"
      ]
    },
    {
      "cell_type": "markdown",
      "metadata": {
        "id": "v0dJMTqDI5_t"
      },
      "source": [
        "Feature Adversaries manipulates images as inputs to neural networks to mimic the intermediate representations/layers of the original images while changing its classification."
      ]
    },
    {
      "cell_type": "code",
      "metadata": {
        "id": "MFvfybpkj3-Y"
      },
      "source": [
        "from art.attacks.evasion import ProjectedGradientDescent\n",
        "pgd = ProjectedGradientDescent( wrapper,eps_step=0.001, eps=0.01, targeted=False,max_iter=10)"
      ],
      "execution_count": null,
      "outputs": []
    },
    {
      "cell_type": "code",
      "metadata": {
        "colab": {
          "base_uri": "https://localhost:8080/",
          "height": 227
        },
        "id": "lg73Axq_I41N",
        "outputId": "9be50015-f058-422d-9482-9a3cf72c66a9"
      },
      "source": [
        "from art.attacks.evasion import FeatureAdversariesTensorFlowV2\n",
        "adpv2 = FeatureAdversariesTensorFlowV2(wrapper, max_iter=10,batch_size=20,delta=0.1,step_size=3)\n",
        "# clf,adv_res,pred = evasion_attack(model2,adpv2,\"Feature Adversaries TensorFlowV2\",wrapper2)\n",
        "attack=adpv2\n",
        "# y_test_adv_evasion = np.argmax(y_test_adv.copy(), axis=1)\n",
        "y_test_adv_evasion = y_test_adv.copy()\n",
        "print(y_test_adv_evasion.shape,x_test_adv.shape)\n",
        "x_test_adv_evasion = attack.generate( x_test_adv.copy() ,x_test_adv.copy())\n",
        "metri = model2.evaluate( x_test_adv_evasion, y_test_adv_evasion )\n",
        "predictions = model2.predict(x_test_adv_evasion)\n",
        "print( 'accuracy on adversarial examples for {} attack is : {}'.format(\"Feature Adversaries TensorFlowV2\",metri[1]))\n",
        "clf = classification_report(np.argmax(y_test_adv, axis=1), \n",
        "                                   np.argmax(predictions, axis=1), \n",
        "                                   output_dict=True)\n",
        "clf = clf['weighted avg']\n",
        "clf.update({'Loss':metri[0]})\n",
        "clf.update({'Accuracy':metri[1]})\n",
        "clf.update({'Attack':\"Feature Adversaries TensorFlowV2\"})\n",
        "perturbation = np.mean(np.abs((x_test_adv_evasion - x_test_adv)))\n",
        "clf['perturbation'] = perturbation\n",
        "res.append(clf)\n",
        "ind.append(\"Feature Adversaries TensorFlowV2\")"
      ],
      "execution_count": null,
      "outputs": [
        {
          "name": "stdout",
          "output_type": "stream",
          "text": [
            "(100, 10) (100, 32, 32, 3)\n"
          ]
        },
        {
          "data": {
            "application/vnd.jupyter.widget-view+json": {
              "model_id": "7b7719c38e984e8bbe1584fdd82518c8",
              "version_major": 2,
              "version_minor": 0
            },
            "text/plain": [
              "Feature Adversaries TensorFlow v2:   0%|          | 0/10 [00:00<?, ?it/s]"
            ]
          },
          "metadata": {},
          "output_type": "display_data"
        },
        {
          "data": {
            "application/vnd.jupyter.widget-view+json": {
              "model_id": "7a51681eaabb44efb75356f1c9cdf29f",
              "version_major": 2,
              "version_minor": 0
            },
            "text/plain": [
              "Feature Adversaries TensorFlow v2:   0%|          | 0/10 [00:00<?, ?it/s]"
            ]
          },
          "metadata": {},
          "output_type": "display_data"
        },
        {
          "data": {
            "application/vnd.jupyter.widget-view+json": {
              "model_id": "3a6ef3cdeed0498080fb1318674afe65",
              "version_major": 2,
              "version_minor": 0
            },
            "text/plain": [
              "Feature Adversaries TensorFlow v2:   0%|          | 0/10 [00:00<?, ?it/s]"
            ]
          },
          "metadata": {},
          "output_type": "display_data"
        },
        {
          "data": {
            "application/vnd.jupyter.widget-view+json": {
              "model_id": "098c98180de6407e91af9070daaec783",
              "version_major": 2,
              "version_minor": 0
            },
            "text/plain": [
              "Feature Adversaries TensorFlow v2:   0%|          | 0/10 [00:00<?, ?it/s]"
            ]
          },
          "metadata": {},
          "output_type": "display_data"
        },
        {
          "data": {
            "application/vnd.jupyter.widget-view+json": {
              "model_id": "c399ca111ce84bbb933e24a3bdeafccb",
              "version_major": 2,
              "version_minor": 0
            },
            "text/plain": [
              "Feature Adversaries TensorFlow v2:   0%|          | 0/10 [00:00<?, ?it/s]"
            ]
          },
          "metadata": {},
          "output_type": "display_data"
        },
        {
          "name": "stdout",
          "output_type": "stream",
          "text": [
            "4/4 [==============================] - 1s 285ms/step - loss: 1.1921e-07 - accuracy: 0.9200\n",
            "accuracy on adversarial examples for Feature Adversaries TensorFlowV2 attack is : 0.9200000166893005\n"
          ]
        }
      ]
    },
    {
      "cell_type": "code",
      "metadata": {
        "colab": {
          "base_uri": "https://localhost:8080/",
          "height": 546
        },
        "id": "MYPNgBb1JKTu",
        "outputId": "d4e0fdb8-4de7-455f-cd40-1700d13d495d"
      },
      "source": [
        "show_image(x_test_adv_evasion[1])\n",
        "print(np.argmax(predictions[1]))\n",
        "print(np.argmax(y_test_adv_evasion[1]))\n",
        "show_image(x_test_adv_evasion[5])\n",
        "print(np.argmax(predictions[5]))\n",
        "print(np.argmax(y_test_adv_evasion[5]))"
      ],
      "execution_count": null,
      "outputs": [
        {
          "data": {
            "image/png": "[encoded data removed]",
            "text/plain": [
              "<Figure size 432x288 with 1 Axes>"
            ]
          },
          "metadata": {},
          "output_type": "display_data"
        },
        {
          "name": "stdout",
          "output_type": "stream",
          "text": [
            "0\n",
            "0\n"
          ]
        },
        {
          "data": {
            "image/png": "[encoded data removed]",
            "text/plain": [
              "<Figure size 432x288 with 1 Axes>"
            ]
          },
          "metadata": {},
          "output_type": "display_data"
        },
        {
          "name": "stdout",
          "output_type": "stream",
          "text": [
            "5\n",
            "0\n"
          ]
        }
      ]
    },
    {
      "cell_type": "markdown",
      "metadata": {
        "id": "n00Jdj6jctNJ"
      },
      "source": [
        "# Black-Box Attacks"
      ]
    },
    {
      "cell_type": "markdown",
      "metadata": {
        "id": "gd-zhzBXdAUJ"
      },
      "source": [
        "White-box attacks use gradient information of the neural networks which may not be able to an adversary in the real world situation. However, several black box attacks like surrogate models etc have shown to be quite effective in fooling networks. One of the extreme methods that demonstrates the severity of adversarial attacks is Pixel Attack."
      ]
    },
    {
      "cell_type": "markdown",
      "metadata": {
        "id": "mY7qaSywSmrC"
      },
      "source": [
        "# Hop Skip Jump "
      ]
    },
    {
      "cell_type": "markdown",
      "metadata": {
        "id": "PvTiW2bSVmvO"
      },
      "source": [
        "### Implementation of the HopSkipJump attack from Jianbo et al. (2019). This is a powerful black-box attack that only requires final class prediction, and is an advanced version of the boundary attack."
      ]
    },
    {
      "cell_type": "code",
      "metadata": {
        "colab": {
          "base_uri": "https://localhost:8080/",
          "height": 200
        },
        "id": "NQBhoADnS-A2",
        "outputId": "d865cee8-e4be-48a0-8a4c-9afd4ebd4b0b"
      },
      "source": [
        "from art.attacks.evasion import HopSkipJump\n",
        "# hsj = HopSkipJump( wrapper, max_iter=10, targeted=False)\n",
        "# res.append(evasion_attack(model,hsj,\"Hop Skip Jump\",wrapper))\n",
        "# ind.append(\"HSJ\")\n",
        "hsj = HopSkipJump( wrapper, targeted=False,max_iter=10, norm=2,\n",
        "                                  max_eval=10000, init_eval=10, init_size=10)\n",
        "clf,adv_res,pred = evasion_attack(model,hsj,\"Hop Skip Jump\",wrapper)\n",
        "perturbation = np.mean(np.abs((adv_res - x_test_adv)))\n",
        "clf['perturbation'] = perturbation\n",
        "res.append(clf)\n",
        "ind.append(\"HSJ\")\n",
        "# print( 'robustness of the undefended model', \n",
        "#       empirical_robustness( wrapper, x_test_adv[:10], 'hsj', {'max_iter':10} ))"
      ],
      "execution_count": null,
      "outputs": [
        {
          "data": {
            "application/vnd.jupyter.widget-view+json": {
              "model_id": "389f2c0607cf431cad4d444088560985",
              "version_major": 2,
              "version_minor": 0
            },
            "text/plain": [
              "HopSkipJump:   0%|          | 0/100 [00:00<?, ?it/s]"
            ]
          },
          "metadata": {},
          "output_type": "display_data"
        },
        {
          "name": "stderr",
          "output_type": "stream",
          "text": [
            "WARNING:art.attacks.evasion.hop_skip_jump:Failed to draw a random image that is adversarial, attack failed.\n",
            "WARNING:art.attacks.evasion.hop_skip_jump:Failed to draw a random image that is adversarial, attack failed.\n",
            "WARNING:art.attacks.evasion.hop_skip_jump:Failed to draw a random image that is adversarial, attack failed.\n",
            "WARNING:art.attacks.evasion.hop_skip_jump:Failed to draw a random image that is adversarial, attack failed.\n",
            "WARNING:art.attacks.evasion.hop_skip_jump:Failed to draw a random image that is adversarial, attack failed.\n",
            "WARNING:art.attacks.evasion.hop_skip_jump:Failed to draw a random image that is adversarial, attack failed.\n",
            "WARNING:art.attacks.evasion.hop_skip_jump:Failed to draw a random image that is adversarial, attack failed.\n"
          ]
        },
        {
          "name": "stdout",
          "output_type": "stream",
          "text": [
            "4/4 [==============================] - 1s 237ms/step - loss: 2.1276 - accuracy: 0.1200\n",
            "accuracy on adversarial examples for Hop Skip Jump attack is : 0.11999999731779099\n"
          ]
        }
      ]
    },
    {
      "cell_type": "code",
      "metadata": {
        "colab": {
          "base_uri": "https://localhost:8080/",
          "height": 282
        },
        "id": "BpKfyp5ssJkt",
        "outputId": "31db8b63-33f3-4393-f5ad-6aa7a1128012"
      },
      "source": [
        "show_image(adv_res[1])\n",
        "print(np.argmax(pred[1]))\n",
        "print(np.argmax(y_test_adv[1]))\n"
      ],
      "execution_count": null,
      "outputs": [
        {
          "data": {
            "image/png": "[encoded data removed]",
            "text/plain": [
              "<Figure size 432x288 with 1 Axes>"
            ]
          },
          "metadata": {},
          "output_type": "display_data"
        },
        {
          "name": "stdout",
          "output_type": "stream",
          "text": [
            "5\n",
            "0\n"
          ]
        }
      ]
    },
    {
      "cell_type": "markdown",
      "metadata": {
        "id": "YnjCcFMMv94b"
      },
      "source": [
        "# Spatial Transformation"
      ]
    },
    {
      "cell_type": "markdown",
      "metadata": {
        "id": "fHA4vW5Px5nD"
      },
      "source": [
        "Implementation of the spatial transformation attack using translation and rotation of inputs. The attack conducts black-box queries to the target model in a grid search over possible translations and rotations to find optimal attack parameters."
      ]
    },
    {
      "cell_type": "code",
      "metadata": {
        "colab": {
          "base_uri": "https://localhost:8080/",
          "height": 82
        },
        "id": "Xl_x5lxvwBLO",
        "outputId": "a2bea736-872d-4576-e72d-e4e735a4f955"
      },
      "source": [
        "from art.attacks.evasion import SpatialTransformation\n",
        "st = SpatialTransformation( wrapper )\n",
        "clf,adv_res,pred = evasion_attack(model,st,\"Spatial Transformation\",wrapper)\n",
        "perturbation = np.mean(np.abs((adv_res - x_test_adv)))\n",
        "clf['perturbation'] = perturbation\n",
        "res.append(clf)\n",
        "ind.append(\"Spatial Transformation\")"
      ],
      "execution_count": null,
      "outputs": [
        {
          "data": {
            "application/vnd.jupyter.widget-view+json": {
              "model_id": "ca4ea6082421441480fb32d053c2d49c",
              "version_major": 2,
              "version_minor": 0
            },
            "text/plain": [
              "Spatial transformation:   0%|          | 0/1 [00:00<?, ?it/s]"
            ]
          },
          "metadata": {},
          "output_type": "display_data"
        },
        {
          "name": "stdout",
          "output_type": "stream",
          "text": [
            "4/4 [==============================] - 1s 238ms/step - loss: 0.3555 - accuracy: 0.9200\n",
            "accuracy on adversarial examples for Spatial Transformation attack is : 0.9200000166893005\n"
          ]
        }
      ]
    },
    {
      "cell_type": "code",
      "metadata": {
        "colab": {
          "base_uri": "https://localhost:8080/",
          "height": 282
        },
        "id": "6uMHUQlBxFnF",
        "outputId": "2959b4c8-3c80-4751-9b53-44a2af92e273"
      },
      "source": [
        "# show_image(adv_res[5])\n",
        "# print(np.argmax(pred[5]))\n",
        "# print(np.argmax(y_test_adv[5]))\n",
        "show_image(adv_res[1])\n",
        "print(np.argmax(pred[1]))\n",
        "print(np.argmax(y_test_adv[1]))"
      ],
      "execution_count": null,
      "outputs": [
        {
          "data": {
            "image/png": "[encoded data removed]",
            "text/plain": [
              "<Figure size 432x288 with 1 Axes>"
            ]
          },
          "metadata": {},
          "output_type": "display_data"
        },
        {
          "name": "stdout",
          "output_type": "stream",
          "text": [
            "0\n",
            "0\n"
          ]
        }
      ]
    },
    {
      "cell_type": "markdown",
      "metadata": {
        "id": "N4nDHPVsAxNB"
      },
      "source": [
        "# Zeroth-Order Optimization (ZOO) Attack"
      ]
    },
    {
      "cell_type": "markdown",
      "metadata": {
        "id": "GdE-zs0aA9c9"
      },
      "source": [
        "The black-box zeroth-order optimization attack from Pin-Yu Chen et al. (2018). This attack is a variant of the C&W attack which uses ADAM coordinate descent to perform numerical estimation of gradients."
      ]
    },
    {
      "cell_type": "code",
      "metadata": {
        "colab": {
          "base_uri": "https://localhost:8080/",
          "height": 82
        },
        "id": "jaEM9WluA1MV",
        "outputId": "2b23a99b-1e55-4adb-b940-cd363e954c85"
      },
      "source": [
        "from art.attacks.evasion import ZooAttack\n",
        "zoo = ZooAttack(wrapper,confidence=0.0,binary_search_steps=1, initial_const=0.001, targeted=False, learning_rate=0.01, max_iter=10, \n",
        "                abort_early=True, use_resize=True,use_importance=True, nb_parallel=128, batch_size=1, variable_h=0.0001)\n",
        "clf,adv_res,pred = evasion_attack(model,zoo,\"Zeroth-Order Optimization\",wrapper)\n",
        "perturbation = np.mean(np.abs((adv_res - x_test_adv)))\n",
        "clf['perturbation'] = perturbation\n"
      ],
      "execution_count": null,
      "outputs": [
        {
          "data": {
            "application/vnd.jupyter.widget-view+json": {
              "model_id": "51c8eebee95b4f0c9f6bd15b8f531bc6",
              "version_major": 2,
              "version_minor": 0
            },
            "text/plain": [
              "ZOO:   0%|          | 0/100 [00:00<?, ?it/s]"
            ]
          },
          "metadata": {},
          "output_type": "display_data"
        },
        {
          "name": "stdout",
          "output_type": "stream",
          "text": [
            "4/4 [==============================] - 1s 245ms/step - loss: 0.3563 - accuracy: 0.9200\n",
            "accuracy on adversarial examples for Zeroth-Order Optimization attack is : 0.9200000166893005\n"
          ]
        }
      ]
    },
    {
      "cell_type": "code",
      "metadata": {
        "id": "EylVH61THlMn"
      },
      "source": [
        "res.append(clf)\n",
        "ind.append(\"ZOO\")"
      ],
      "execution_count": null,
      "outputs": []
    },
    {
      "cell_type": "code",
      "metadata": {
        "colab": {
          "base_uri": "https://localhost:8080/",
          "height": 546
        },
        "id": "SlHDYUUyBh1j",
        "outputId": "30140b26-5f79-4868-b8a0-fb13d069c2f9"
      },
      "source": [
        "show_image(adv_res[1])\n",
        "print(np.argmax(pred[1]))\n",
        "print(np.argmax(y_test_adv[1]))\n",
        "show_image(adv_res[5])\n",
        "print(np.argmax(pred[5]))\n",
        "print(np.argmax(y_test_adv[5]))"
      ],
      "execution_count": null,
      "outputs": [
        {
          "data": {
            "image/png": "[encoded data removed]",
            "text/plain": [
              "<Figure size 432x288 with 1 Axes>"
            ]
          },
          "metadata": {},
          "output_type": "display_data"
        },
        {
          "name": "stdout",
          "output_type": "stream",
          "text": [
            "0\n",
            "0\n"
          ]
        },
        {
          "data": {
            "image/png": "[encoded data removed]",
            "text/plain": [
              "<Figure size 432x288 with 1 Axes>"
            ]
          },
          "metadata": {},
          "output_type": "display_data"
        },
        {
          "name": "stdout",
          "output_type": "stream",
          "text": [
            "5\n",
            "0\n"
          ]
        }
      ]
    },
    {
      "cell_type": "markdown",
      "metadata": {
        "id": "wzjoc8khPo3N"
      },
      "source": [
        "# Pixel Attack"
      ]
    },
    {
      "cell_type": "code",
      "metadata": {
        "colab": {
          "base_uri": "https://localhost:8080/"
        },
        "id": "7Foek5WvQZAw",
        "outputId": "0154a929-e716-429d-dc32-7d0bb663ef23"
      },
      "source": [
        "from art.attacks.evasion import PixelAttack\n",
        "pxl = PixelAttack( wrapper, th=None, es=1, targeted=False,max_iter=10)\n",
        "clf,adv_res,pred = evasion_attack(model,pxl,\"Pixel Attack\",wrapper)\n",
        "perturbation = np.mean(np.abs((adv_res - x_test_adv)))\n",
        "clf['perturbation'] = perturbation\n",
        "res.append(clf)\n",
        "ind.append(\"Pixel\")"
      ],
      "execution_count": null,
      "outputs": [
        {
          "name": "stdout",
          "output_type": "stream",
          "text": [
            "(100, 10)\n"
          ]
        }
      ]
    },
    {
      "cell_type": "code",
      "metadata": {
        "colab": {
          "base_uri": "https://localhost:8080/",
          "height": 546
        },
        "id": "BDov_FplVKRD",
        "outputId": "770d2808-2ec4-42d4-db1e-320ed962a55f"
      },
      "source": [
        "show_image(adv_res[1])\n",
        "print(np.argmax(pred[1]))\n",
        "print(np.argmax(y_test_adv[1]))\n",
        "show_image(adv_res[5])\n",
        "print(np.argmax(pred[5]))\n",
        "print(np.argmax(y_test_adv[5]))"
      ],
      "execution_count": null,
      "outputs": [
        {
          "data": {
            "image/png": "[encoded data removed]",
            "text/plain": [
              "<Figure size 432x288 with 1 Axes>"
            ]
          },
          "metadata": {},
          "output_type": "display_data"
        },
        {
          "name": "stdout",
          "output_type": "stream",
          "text": [
            "4\n",
            "0\n"
          ]
        },
        {
          "data": {
            "image/png": "[encoded data removed]",
            "text/plain": [
              "<Figure size 432x288 with 1 Axes>"
            ]
          },
          "metadata": {},
          "output_type": "display_data"
        },
        {
          "name": "stdout",
          "output_type": "stream",
          "text": [
            "9\n",
            "0\n"
          ]
        }
      ]
    },
    {
      "cell_type": "markdown",
      "metadata": {
        "id": "-IHOLjwPfXPX"
      },
      "source": [
        "# Threshold Attack"
      ]
    },
    {
      "cell_type": "code",
      "metadata": {
        "id": "p-3E57azf24C"
      },
      "source": [
        "!python -m pip install cma"
      ],
      "execution_count": null,
      "outputs": []
    },
    {
      "cell_type": "code",
      "metadata": {
        "id": "l4GK7mIAXLHD"
      },
      "source": [
        "from art.attacks.evasion import ThresholdAttack\n",
        "ta = ThresholdAttack( wrapper )\n",
        "clf,adv_res,pred = evasion_attack(model,ta,\"Threshold Attack\",wrapper)\n",
        "perturbation = np.mean(np.abs((adv_res - x_test_adv)))\n",
        "clf['perturbation'] = perturbation\n",
        "res.append(clf)\n",
        "ind.append(\"Threshold\")"
      ],
      "execution_count": null,
      "outputs": []
    },
    {
      "cell_type": "code",
      "metadata": {
        "id": "0VmDzumRZVXB"
      },
      "source": [
        "show_image(adv_res[1])\n",
        "print(np.argmax(pred[1]))\n",
        "print(np.argmax(y_test_adv[1]))\n",
        "show_image(adv_res[5])\n",
        "print(np.argmax(pred[5]))\n",
        "print(np.argmax(y_test_adv[5]))"
      ],
      "execution_count": null,
      "outputs": []
    },
    {
      "cell_type": "markdown",
      "metadata": {
        "id": "3k752AJ9gPyK"
      },
      "source": [
        "# Saving the Results"
      ]
    },
    {
      "cell_type": "code",
      "metadata": {
        "id": "0_WfLBdg3vPt"
      },
      "source": [
        "# rr=pd.read_csv('/content/drive/MyDrive/EvasionAttacksResults.csv')\n",
        "# rr"
      ],
      "execution_count": 25,
      "outputs": []
    },
    {
      "cell_type": "code",
      "metadata": {
        "colab": {
          "base_uri": "https://localhost:8080/"
        },
        "id": "bOlhX2nw-szC",
        "outputId": "d5201a93-3047-4a66-8f5a-0fee81c2615a"
      },
      "source": [
        "res"
      ],
      "execution_count": null,
      "outputs": [
        {
          "data": {
            "text/plain": [
              "[{'Accuracy': 0.9200000166893005,\n",
              "  'Attack': 'Feature Adversaries TensorFlowV2',\n",
              "  'Loss': 1.1920930376163597e-07,\n",
              "  'f1-score': 0.921540973646237,\n",
              "  'perturbation': 0.0,\n",
              "  'precision': 0.9301515151515152,\n",
              "  'recall': 0.92,\n",
              "  'support': 100},\n",
              " {'Accuracy': 0.28999999165534973,\n",
              "  'Attack': 'Auto Projected Gradient Descent',\n",
              "  'Loss': 2.901257276535034,\n",
              "  'f1-score': 0.28491928469540406,\n",
              "  'perturbation': 0.060501564,\n",
              "  'precision': 0.48805137844611524,\n",
              "  'recall': 0.29,\n",
              "  'support': 100}]"
            ]
          },
          "execution_count": 73,
          "metadata": {},
          "output_type": "execute_result"
        }
      ]
    },
    {
      "cell_type": "code",
      "metadata": {
        "id": "vHQGJOLFISob"
      },
      "source": [
        "# df_new"
      ],
      "execution_count": null,
      "outputs": []
    },
    {
      "cell_type": "code",
      "metadata": {
        "colab": {
          "base_uri": "https://localhost:8080/",
          "height": 810
        },
        "id": "dDcYNjGU-WZP",
        "outputId": "ecfdf08d-a65a-448e-b27e-3f59eb0ac66d"
      },
      "source": [
        "df = pd.DataFrame(res)\n",
        "df_new = pd.concat([rr, df], axis =0).reset_index()\n",
        "df_new"
      ],
      "execution_count": null,
      "outputs": [
        {
          "data": {
            "text/html": [
              "<div>\n",
              "<style scoped>\n",
              "    .dataframe tbody tr th:only-of-type {\n",
              "        vertical-align: middle;\n",
              "    }\n",
              "\n",
              "    .dataframe tbody tr th {\n",
              "        vertical-align: top;\n",
              "    }\n",
              "\n",
              "    .dataframe thead th {\n",
              "        text-align: right;\n",
              "    }\n",
              "</style>\n",
              "<table border=\"1\" class=\"dataframe\">\n",
              "  <thead>\n",
              "    <tr style=\"text-align: right;\">\n",
              "      <th></th>\n",
              "      <th>level_0</th>\n",
              "      <th>Unnamed: 0</th>\n",
              "      <th>index</th>\n",
              "      <th>Unnamed: 0.1</th>\n",
              "      <th>precision</th>\n",
              "      <th>recall</th>\n",
              "      <th>f1-score</th>\n",
              "      <th>support</th>\n",
              "      <th>Loss</th>\n",
              "      <th>Accuracy</th>\n",
              "      <th>Attack</th>\n",
              "      <th>perturbation</th>\n",
              "    </tr>\n",
              "  </thead>\n",
              "  <tbody>\n",
              "    <tr>\n",
              "      <th>0</th>\n",
              "      <td>0</td>\n",
              "      <td>0.0</td>\n",
              "      <td>0.0</td>\n",
              "      <td>0.0</td>\n",
              "      <td>0.412133</td>\n",
              "      <td>0.40</td>\n",
              "      <td>0.401318</td>\n",
              "      <td>100.0</td>\n",
              "      <td>3.922883e+00</td>\n",
              "      <td>0.40</td>\n",
              "      <td>Fast Gradient Method</td>\n",
              "      <td>0.009887</td>\n",
              "    </tr>\n",
              "    <tr>\n",
              "      <th>1</th>\n",
              "      <td>1</td>\n",
              "      <td>1.0</td>\n",
              "      <td>1.0</td>\n",
              "      <td>1.0</td>\n",
              "      <td>0.111111</td>\n",
              "      <td>0.12</td>\n",
              "      <td>0.081193</td>\n",
              "      <td>100.0</td>\n",
              "      <td>2.127613e+00</td>\n",
              "      <td>0.12</td>\n",
              "      <td>Hop Skip Jump</td>\n",
              "      <td>0.015916</td>\n",
              "    </tr>\n",
              "    <tr>\n",
              "      <th>2</th>\n",
              "      <td>2</td>\n",
              "      <td>2.0</td>\n",
              "      <td>2.0</td>\n",
              "      <td>2.0</td>\n",
              "      <td>0.143263</td>\n",
              "      <td>0.15</td>\n",
              "      <td>0.144628</td>\n",
              "      <td>100.0</td>\n",
              "      <td>9.883766e+00</td>\n",
              "      <td>0.15</td>\n",
              "      <td>Projected Gradient Descent</td>\n",
              "      <td>0.006463</td>\n",
              "    </tr>\n",
              "    <tr>\n",
              "      <th>3</th>\n",
              "      <td>3</td>\n",
              "      <td>3.0</td>\n",
              "      <td>3.0</td>\n",
              "      <td>3.0</td>\n",
              "      <td>0.049167</td>\n",
              "      <td>0.04</td>\n",
              "      <td>0.043611</td>\n",
              "      <td>100.0</td>\n",
              "      <td>2.570076e+00</td>\n",
              "      <td>0.04</td>\n",
              "      <td>Newton Fool</td>\n",
              "      <td>0.025163</td>\n",
              "    </tr>\n",
              "    <tr>\n",
              "      <th>4</th>\n",
              "      <td>4</td>\n",
              "      <td>4.0</td>\n",
              "      <td>4.0</td>\n",
              "      <td>4.0</td>\n",
              "      <td>0.062208</td>\n",
              "      <td>0.06</td>\n",
              "      <td>0.059847</td>\n",
              "      <td>100.0</td>\n",
              "      <td>3.408747e+00</td>\n",
              "      <td>0.06</td>\n",
              "      <td>elastic net</td>\n",
              "      <td>0.047407</td>\n",
              "    </tr>\n",
              "    <tr>\n",
              "      <th>5</th>\n",
              "      <td>5</td>\n",
              "      <td>5.0</td>\n",
              "      <td>5.0</td>\n",
              "      <td>5.0</td>\n",
              "      <td>0.930152</td>\n",
              "      <td>0.92</td>\n",
              "      <td>0.921541</td>\n",
              "      <td>100.0</td>\n",
              "      <td>3.554935e-01</td>\n",
              "      <td>0.92</td>\n",
              "      <td>Spatial Transformation</td>\n",
              "      <td>0.000000</td>\n",
              "    </tr>\n",
              "    <tr>\n",
              "      <th>6</th>\n",
              "      <td>6</td>\n",
              "      <td>6.0</td>\n",
              "      <td>6.0</td>\n",
              "      <td>6.0</td>\n",
              "      <td>0.926818</td>\n",
              "      <td>0.92</td>\n",
              "      <td>0.921743</td>\n",
              "      <td>100.0</td>\n",
              "      <td>3.563122e-01</td>\n",
              "      <td>0.92</td>\n",
              "      <td>Zeroth-Order Optimization</td>\n",
              "      <td>0.000004</td>\n",
              "    </tr>\n",
              "    <tr>\n",
              "      <th>7</th>\n",
              "      <td>7</td>\n",
              "      <td>7.0</td>\n",
              "      <td>0.0</td>\n",
              "      <td>NaN</td>\n",
              "      <td>0.412133</td>\n",
              "      <td>0.40</td>\n",
              "      <td>0.401318</td>\n",
              "      <td>100.0</td>\n",
              "      <td>3.922883e+00</td>\n",
              "      <td>0.40</td>\n",
              "      <td>Fast Gradient Method</td>\n",
              "      <td>0.009887</td>\n",
              "    </tr>\n",
              "    <tr>\n",
              "      <th>8</th>\n",
              "      <td>8</td>\n",
              "      <td>8.0</td>\n",
              "      <td>1.0</td>\n",
              "      <td>NaN</td>\n",
              "      <td>0.111111</td>\n",
              "      <td>0.12</td>\n",
              "      <td>0.081193</td>\n",
              "      <td>100.0</td>\n",
              "      <td>2.127613e+00</td>\n",
              "      <td>0.12</td>\n",
              "      <td>Hop Skip Jump</td>\n",
              "      <td>0.015916</td>\n",
              "    </tr>\n",
              "    <tr>\n",
              "      <th>9</th>\n",
              "      <td>9</td>\n",
              "      <td>9.0</td>\n",
              "      <td>2.0</td>\n",
              "      <td>NaN</td>\n",
              "      <td>0.143263</td>\n",
              "      <td>0.15</td>\n",
              "      <td>0.144628</td>\n",
              "      <td>100.0</td>\n",
              "      <td>9.883766e+00</td>\n",
              "      <td>0.15</td>\n",
              "      <td>Projected Gradient Descent</td>\n",
              "      <td>0.006463</td>\n",
              "    </tr>\n",
              "    <tr>\n",
              "      <th>10</th>\n",
              "      <td>10</td>\n",
              "      <td>10.0</td>\n",
              "      <td>3.0</td>\n",
              "      <td>NaN</td>\n",
              "      <td>0.049167</td>\n",
              "      <td>0.04</td>\n",
              "      <td>0.043611</td>\n",
              "      <td>100.0</td>\n",
              "      <td>2.570076e+00</td>\n",
              "      <td>0.04</td>\n",
              "      <td>Newton Fool</td>\n",
              "      <td>0.025163</td>\n",
              "    </tr>\n",
              "    <tr>\n",
              "      <th>11</th>\n",
              "      <td>11</td>\n",
              "      <td>11.0</td>\n",
              "      <td>4.0</td>\n",
              "      <td>NaN</td>\n",
              "      <td>0.062208</td>\n",
              "      <td>0.06</td>\n",
              "      <td>0.059847</td>\n",
              "      <td>100.0</td>\n",
              "      <td>3.408747e+00</td>\n",
              "      <td>0.06</td>\n",
              "      <td>elastic net</td>\n",
              "      <td>0.047407</td>\n",
              "    </tr>\n",
              "    <tr>\n",
              "      <th>12</th>\n",
              "      <td>12</td>\n",
              "      <td>12.0</td>\n",
              "      <td>5.0</td>\n",
              "      <td>NaN</td>\n",
              "      <td>0.930152</td>\n",
              "      <td>0.92</td>\n",
              "      <td>0.921541</td>\n",
              "      <td>100.0</td>\n",
              "      <td>3.554935e-01</td>\n",
              "      <td>0.92</td>\n",
              "      <td>Spatial Transformation</td>\n",
              "      <td>0.000000</td>\n",
              "    </tr>\n",
              "    <tr>\n",
              "      <th>13</th>\n",
              "      <td>13</td>\n",
              "      <td>13.0</td>\n",
              "      <td>6.0</td>\n",
              "      <td>NaN</td>\n",
              "      <td>0.926818</td>\n",
              "      <td>0.92</td>\n",
              "      <td>0.921743</td>\n",
              "      <td>100.0</td>\n",
              "      <td>3.563122e-01</td>\n",
              "      <td>0.92</td>\n",
              "      <td>Zeroth-Order Optimization</td>\n",
              "      <td>0.000004</td>\n",
              "    </tr>\n",
              "    <tr>\n",
              "      <th>14</th>\n",
              "      <td>14</td>\n",
              "      <td>14.0</td>\n",
              "      <td>7.0</td>\n",
              "      <td>NaN</td>\n",
              "      <td>0.708585</td>\n",
              "      <td>0.69</td>\n",
              "      <td>0.693329</td>\n",
              "      <td>100.0</td>\n",
              "      <td>8.046181e-01</td>\n",
              "      <td>0.69</td>\n",
              "      <td>C&amp;W L_inf</td>\n",
              "      <td>0.000412</td>\n",
              "    </tr>\n",
              "    <tr>\n",
              "      <th>15</th>\n",
              "      <td>15</td>\n",
              "      <td>15.0</td>\n",
              "      <td>8.0</td>\n",
              "      <td>NaN</td>\n",
              "      <td>0.000000</td>\n",
              "      <td>0.00</td>\n",
              "      <td>0.000000</td>\n",
              "      <td>100.0</td>\n",
              "      <td>1.221933e+00</td>\n",
              "      <td>0.00</td>\n",
              "      <td>Saliency Map Method</td>\n",
              "      <td>0.002204</td>\n",
              "    </tr>\n",
              "    <tr>\n",
              "      <th>16</th>\n",
              "      <td>16</td>\n",
              "      <td>16.0</td>\n",
              "      <td>9.0</td>\n",
              "      <td>NaN</td>\n",
              "      <td>0.096129</td>\n",
              "      <td>0.11</td>\n",
              "      <td>0.090186</td>\n",
              "      <td>100.0</td>\n",
              "      <td>6.663444e+00</td>\n",
              "      <td>0.11</td>\n",
              "      <td>Deep Fool</td>\n",
              "      <td>0.214818</td>\n",
              "    </tr>\n",
              "    <tr>\n",
              "      <th>17</th>\n",
              "      <td>17</td>\n",
              "      <td>17.0</td>\n",
              "      <td>10.0</td>\n",
              "      <td>NaN</td>\n",
              "      <td>0.044762</td>\n",
              "      <td>0.12</td>\n",
              "      <td>0.056364</td>\n",
              "      <td>100.0</td>\n",
              "      <td>5.537315e+00</td>\n",
              "      <td>0.12</td>\n",
              "      <td>Universal Perturbation with fgsm</td>\n",
              "      <td>0.137684</td>\n",
              "    </tr>\n",
              "    <tr>\n",
              "      <th>18</th>\n",
              "      <td>18</td>\n",
              "      <td>18.0</td>\n",
              "      <td>11.0</td>\n",
              "      <td>NaN</td>\n",
              "      <td>0.304444</td>\n",
              "      <td>0.14</td>\n",
              "      <td>0.098195</td>\n",
              "      <td>100.0</td>\n",
              "      <td>5.417380e+00</td>\n",
              "      <td>0.14</td>\n",
              "      <td>Universal Perturbation with fgsm</td>\n",
              "      <td>0.113901</td>\n",
              "    </tr>\n",
              "    <tr>\n",
              "      <th>19</th>\n",
              "      <td>19</td>\n",
              "      <td>19.0</td>\n",
              "      <td>12.0</td>\n",
              "      <td>NaN</td>\n",
              "      <td>0.136911</td>\n",
              "      <td>0.12</td>\n",
              "      <td>0.063958</td>\n",
              "      <td>100.0</td>\n",
              "      <td>6.480812e+00</td>\n",
              "      <td>0.12</td>\n",
              "      <td>Universal Perturbation</td>\n",
              "      <td>0.121734</td>\n",
              "    </tr>\n",
              "    <tr>\n",
              "      <th>20</th>\n",
              "      <td>0</td>\n",
              "      <td>NaN</td>\n",
              "      <td>NaN</td>\n",
              "      <td>NaN</td>\n",
              "      <td>0.930152</td>\n",
              "      <td>0.92</td>\n",
              "      <td>0.921541</td>\n",
              "      <td>100.0</td>\n",
              "      <td>1.192093e-07</td>\n",
              "      <td>0.92</td>\n",
              "      <td>Feature Adversaries TensorFlowV2</td>\n",
              "      <td>0.000000</td>\n",
              "    </tr>\n",
              "    <tr>\n",
              "      <th>21</th>\n",
              "      <td>1</td>\n",
              "      <td>NaN</td>\n",
              "      <td>NaN</td>\n",
              "      <td>NaN</td>\n",
              "      <td>0.488051</td>\n",
              "      <td>0.29</td>\n",
              "      <td>0.284919</td>\n",
              "      <td>100.0</td>\n",
              "      <td>2.901257e+00</td>\n",
              "      <td>0.29</td>\n",
              "      <td>Auto Projected Gradient Descent</td>\n",
              "      <td>0.060502</td>\n",
              "    </tr>\n",
              "  </tbody>\n",
              "</table>\n",
              "</div>"
            ],
            "text/plain": [
              "    level_0  Unnamed: 0  ...                            Attack  perturbation\n",
              "0         0         0.0  ...              Fast Gradient Method      0.009887\n",
              "1         1         1.0  ...                     Hop Skip Jump      0.015916\n",
              "2         2         2.0  ...        Projected Gradient Descent      0.006463\n",
              "3         3         3.0  ...                       Newton Fool      0.025163\n",
              "4         4         4.0  ...                       elastic net      0.047407\n",
              "5         5         5.0  ...            Spatial Transformation      0.000000\n",
              "6         6         6.0  ...         Zeroth-Order Optimization      0.000004\n",
              "7         7         7.0  ...              Fast Gradient Method      0.009887\n",
              "8         8         8.0  ...                     Hop Skip Jump      0.015916\n",
              "9         9         9.0  ...        Projected Gradient Descent      0.006463\n",
              "10       10        10.0  ...                       Newton Fool      0.025163\n",
              "11       11        11.0  ...                       elastic net      0.047407\n",
              "12       12        12.0  ...            Spatial Transformation      0.000000\n",
              "13       13        13.0  ...         Zeroth-Order Optimization      0.000004\n",
              "14       14        14.0  ...                         C&W L_inf      0.000412\n",
              "15       15        15.0  ...               Saliency Map Method      0.002204\n",
              "16       16        16.0  ...                         Deep Fool      0.214818\n",
              "17       17        17.0  ...  Universal Perturbation with fgsm      0.137684\n",
              "18       18        18.0  ...  Universal Perturbation with fgsm      0.113901\n",
              "19       19        19.0  ...            Universal Perturbation      0.121734\n",
              "20        0         NaN  ...  Feature Adversaries TensorFlowV2      0.000000\n",
              "21        1         NaN  ...   Auto Projected Gradient Descent      0.060502\n",
              "\n",
              "[22 rows x 12 columns]"
            ]
          },
          "execution_count": 74,
          "metadata": {},
          "output_type": "execute_result"
        }
      ]
    },
    {
      "cell_type": "code",
      "metadata": {
        "id": "fZwYcifzfZP6"
      },
      "source": [
        "report = pd.DataFrame(df_new)\n",
        "report.to_csv('/content/drive/MyDrive/EvasionAttacksResults4.csv')"
      ],
      "execution_count": null,
      "outputs": []
    },
    {
      "cell_type": "markdown",
      "metadata": {
        "id": "sFrwYjxPOcyG"
      },
      "source": [
        "# MISC\n",
        "\n",
        "The following attacks did not work"
      ]
    },
    {
      "cell_type": "markdown",
      "metadata": {
        "id": "GxkgUm_A3Wnr"
      },
      "source": [
        "# Shadow Attack"
      ]
    },
    {
      "cell_type": "code",
      "metadata": {
        "colab": {
          "base_uri": "https://localhost:8080/",
          "height": 1000
        },
        "id": "5JHdud9k3gP3",
        "outputId": "97738099-ef92-491c-88e9-b509356ad6ef"
      },
      "source": [
        "from art.attacks.evasion import ShadowAttack\n",
        "sa = ShadowAttack(wrapper, batch_size=100, nb_steps=1,targeted=False)\n",
        "# clf,adv_res,pred = evasion_attack(model,sa,\"Shadow Attack\",wrapper)\n",
        "attack=sa\n",
        "# y_test_adv_evasion = np.argmax(y_test_adv.copy(), axis=1)\n",
        "# x_test_adv_evasion=np.array(1)\n",
        "y_test_adv_evasion = y_test_adv.copy()\n",
        "print(y_test_adv_evasion.shape,x_test_adv.shape)\n",
        "# x_test_adv_evasion = attack.generate( x_test_adv.copy())\n",
        "x_test_adv_evasion = [attack.generate( ff.reshape((1,32,32,3))) for ff in x_test_adv.copy()]\n",
        "metri = model.evaluate( x_test_adv_evasion, y_test_adv_evasion )\n",
        "predictions = model.predict(x_test_adv_evasion)\n",
        "print( 'accuracy on adversarial examples for {} attack is : {}'.format(\"Feature Adversaries TensorFlowV2\",metri[1]))\n",
        "clf = classification_report(np.argmax(y_test_adv, axis=1), \n",
        "                                   np.argmax(predictions, axis=1), \n",
        "                                   output_dict=True)\n",
        "clf = clf['weighted avg']\n",
        "clf.update({'Loss':metri[0]})\n",
        "clf.update({'Accuracy':metri[1]})\n",
        "clf.update({'Attack':\"Feature Adversaries TensorFlowV2\"})\n",
        "perturbation = np.mean(np.abs((x_test_adv_evasion - x_test_adv)))\n",
        "clf['perturbation'] = perturbation\n",
        "res.append(clf)\n",
        "ind.append(\"Feature Adversaries TensorFlowV2\")\n",
        "perturbation = np.mean(np.abs((adv_res - x_test_adv)))\n",
        "clf['perturbation'] = perturbation\n",
        "res.append(clf)\n",
        "ind.append(\"shadow\")"
      ],
      "execution_count": null,
      "outputs": [
        {
          "data": {
            "application/vnd.jupyter.widget-view+json": {
              "model_id": "5392efe358bb45b4ac0b5e6b80f4ab18",
              "version_major": 2,
              "version_minor": 0
            },
            "text/plain": [
              "Shadow attack:   0%|          | 0/1 [00:00<?, ?it/s]"
            ]
          },
          "metadata": {},
          "output_type": "display_data"
        },
        {
          "data": {
            "application/vnd.jupyter.widget-view+json": {
              "model_id": "385b72f0c080493180178a4bc337b48f",
              "version_major": 2,
              "version_minor": 0
            },
            "text/plain": [
              "Shadow attack:   0%|          | 0/1 [00:00<?, ?it/s]"
            ]
          },
          "metadata": {},
          "output_type": "display_data"
        },
        {
          "data": {
            "application/vnd.jupyter.widget-view+json": {
              "model_id": "8f35d012950c47eca44418184e61ed40",
              "version_major": 2,
              "version_minor": 0
            },
            "text/plain": [
              "Shadow attack:   0%|          | 0/1 [00:00<?, ?it/s]"
            ]
          },
          "metadata": {},
          "output_type": "display_data"
        },
        {
          "data": {
            "application/vnd.jupyter.widget-view+json": {
              "model_id": "d565176fcd8248e3b8a897eb69ac4235",
              "version_major": 2,
              "version_minor": 0
            },
            "text/plain": [
              "Shadow attack:   0%|          | 0/1 [00:00<?, ?it/s]"
            ]
          },
          "metadata": {},
          "output_type": "display_data"
        },
        {
          "data": {
            "application/vnd.jupyter.widget-view+json": {
              "model_id": "c64a41d382034d8f8b059bad9220674b",
              "version_major": 2,
              "version_minor": 0
            },
            "text/plain": [
              "Shadow attack:   0%|          | 0/1 [00:00<?, ?it/s]"
            ]
          },
          "metadata": {},
          "output_type": "display_data"
        },
        {
          "data": {
            "application/vnd.jupyter.widget-view+json": {
              "model_id": "03573d89ad5847008ee94ef18ac693a3",
              "version_major": 2,
              "version_minor": 0
            },
            "text/plain": [
              "Shadow attack:   0%|          | 0/1 [00:00<?, ?it/s]"
            ]
          },
          "metadata": {},
          "output_type": "display_data"
        },
        {
          "data": {
            "application/vnd.jupyter.widget-view+json": {
              "model_id": "26ed5a186de2402fa1e33041c8a1e411",
              "version_major": 2,
              "version_minor": 0
            },
            "text/plain": [
              "Shadow attack:   0%|          | 0/1 [00:00<?, ?it/s]"
            ]
          },
          "metadata": {},
          "output_type": "display_data"
        },
        {
          "data": {
            "application/vnd.jupyter.widget-view+json": {
              "model_id": "4fb8b4693f394d319da030b7b9737022",
              "version_major": 2,
              "version_minor": 0
            },
            "text/plain": [
              "Shadow attack:   0%|          | 0/1 [00:00<?, ?it/s]"
            ]
          },
          "metadata": {},
          "output_type": "display_data"
        },
        {
          "data": {
            "application/vnd.jupyter.widget-view+json": {
              "model_id": "8673ceac26704a86b112cac8e361d157",
              "version_major": 2,
              "version_minor": 0
            },
            "text/plain": [
              "Shadow attack:   0%|          | 0/1 [00:00<?, ?it/s]"
            ]
          },
          "metadata": {},
          "output_type": "display_data"
        },
        {
          "data": {
            "application/vnd.jupyter.widget-view+json": {
              "model_id": "4b65a729068d45ad8adfb359b4ea8736",
              "version_major": 2,
              "version_minor": 0
            },
            "text/plain": [
              "Shadow attack:   0%|          | 0/1 [00:00<?, ?it/s]"
            ]
          },
          "metadata": {},
          "output_type": "display_data"
        },
        {
          "data": {
            "application/vnd.jupyter.widget-view+json": {
              "model_id": "908c4eed93ad49a78029d8db9b71fd72",
              "version_major": 2,
              "version_minor": 0
            },
            "text/plain": [
              "Shadow attack:   0%|          | 0/1 [00:00<?, ?it/s]"
            ]
          },
          "metadata": {},
          "output_type": "display_data"
        },
        {
          "data": {
            "application/vnd.jupyter.widget-view+json": {
              "model_id": "2a3cccb3d806482fa75869fdde305b13",
              "version_major": 2,
              "version_minor": 0
            },
            "text/plain": [
              "Shadow attack:   0%|          | 0/1 [00:00<?, ?it/s]"
            ]
          },
          "metadata": {},
          "output_type": "display_data"
        },
        {
          "data": {
            "application/vnd.jupyter.widget-view+json": {
              "model_id": "9d64febcbce74e91b4dc19ca2f724f01",
              "version_major": 2,
              "version_minor": 0
            },
            "text/plain": [
              "Shadow attack:   0%|          | 0/1 [00:00<?, ?it/s]"
            ]
          },
          "metadata": {},
          "output_type": "display_data"
        },
        {
          "data": {
            "application/vnd.jupyter.widget-view+json": {
              "model_id": "5a12375f3b6e4d568c5701534e6d0c83",
              "version_major": 2,
              "version_minor": 0
            },
            "text/plain": [
              "Shadow attack:   0%|          | 0/1 [00:00<?, ?it/s]"
            ]
          },
          "metadata": {},
          "output_type": "display_data"
        },
        {
          "data": {
            "application/vnd.jupyter.widget-view+json": {
              "model_id": "3c10f922a1bc429eb6ce547ffad597ac",
              "version_major": 2,
              "version_minor": 0
            },
            "text/plain": [
              "Shadow attack:   0%|          | 0/1 [00:00<?, ?it/s]"
            ]
          },
          "metadata": {},
          "output_type": "display_data"
        },
        {
          "data": {
            "application/vnd.jupyter.widget-view+json": {
              "model_id": "2631f2d772184b34886c9bef0182b0d8",
              "version_major": 2,
              "version_minor": 0
            },
            "text/plain": [
              "Shadow attack:   0%|          | 0/1 [00:00<?, ?it/s]"
            ]
          },
          "metadata": {},
          "output_type": "display_data"
        },
        {
          "data": {
            "application/vnd.jupyter.widget-view+json": {
              "model_id": "0eabedea9def4a04a385e6319a2d9c51",
              "version_major": 2,
              "version_minor": 0
            },
            "text/plain": [
              "Shadow attack:   0%|          | 0/1 [00:00<?, ?it/s]"
            ]
          },
          "metadata": {},
          "output_type": "display_data"
        },
        {
          "data": {
            "application/vnd.jupyter.widget-view+json": {
              "model_id": "c7ff9e4d17d94654ae3f69d2233e5076",
              "version_major": 2,
              "version_minor": 0
            },
            "text/plain": [
              "Shadow attack:   0%|          | 0/1 [00:00<?, ?it/s]"
            ]
          },
          "metadata": {},
          "output_type": "display_data"
        },
        {
          "data": {
            "application/vnd.jupyter.widget-view+json": {
              "model_id": "b0ed0ca134c44348a97dd80dbd654c5c",
              "version_major": 2,
              "version_minor": 0
            },
            "text/plain": [
              "Shadow attack:   0%|          | 0/1 [00:00<?, ?it/s]"
            ]
          },
          "metadata": {},
          "output_type": "display_data"
        },
        {
          "data": {
            "application/vnd.jupyter.widget-view+json": {
              "model_id": "8561110855f74ac79e4716d27a33d556",
              "version_major": 2,
              "version_minor": 0
            },
            "text/plain": [
              "Shadow attack:   0%|          | 0/1 [00:00<?, ?it/s]"
            ]
          },
          "metadata": {},
          "output_type": "display_data"
        },
        {
          "data": {
            "application/vnd.jupyter.widget-view+json": {
              "model_id": "cc6ca9ad9f4c44559c3ef9512c617c8d",
              "version_major": 2,
              "version_minor": 0
            },
            "text/plain": [
              "Shadow attack:   0%|          | 0/1 [00:00<?, ?it/s]"
            ]
          },
          "metadata": {},
          "output_type": "display_data"
        },
        {
          "data": {
            "application/vnd.jupyter.widget-view+json": {
              "model_id": "d396f7c092334eeca702acf89e8e1cbe",
              "version_major": 2,
              "version_minor": 0
            },
            "text/plain": [
              "Shadow attack:   0%|          | 0/1 [00:00<?, ?it/s]"
            ]
          },
          "metadata": {},
          "output_type": "display_data"
        },
        {
          "data": {
            "application/vnd.jupyter.widget-view+json": {
              "model_id": "7199c401a9f747e1927227dd5bc72a90",
              "version_major": 2,
              "version_minor": 0
            },
            "text/plain": [
              "Shadow attack:   0%|          | 0/1 [00:00<?, ?it/s]"
            ]
          },
          "metadata": {},
          "output_type": "display_data"
        },
        {
          "data": {
            "application/vnd.jupyter.widget-view+json": {
              "model_id": "d84e76ac71114349b63844b240de2ad0",
              "version_major": 2,
              "version_minor": 0
            },
            "text/plain": [
              "Shadow attack:   0%|          | 0/1 [00:00<?, ?it/s]"
            ]
          },
          "metadata": {},
          "output_type": "display_data"
        },
        {
          "data": {
            "application/vnd.jupyter.widget-view+json": {
              "model_id": "8aad14894df44b02b3f65114570bc5f6",
              "version_major": 2,
              "version_minor": 0
            },
            "text/plain": [
              "Shadow attack:   0%|          | 0/1 [00:00<?, ?it/s]"
            ]
          },
          "metadata": {},
          "output_type": "display_data"
        },
        {
          "data": {
            "application/vnd.jupyter.widget-view+json": {
              "model_id": "47c723d7906744cbb41de36ed7179153",
              "version_major": 2,
              "version_minor": 0
            },
            "text/plain": [
              "Shadow attack:   0%|          | 0/1 [00:00<?, ?it/s]"
            ]
          },
          "metadata": {},
          "output_type": "display_data"
        },
        {
          "data": {
            "application/vnd.jupyter.widget-view+json": {
              "model_id": "236883b65b7e40e1895e81244478d537",
              "version_major": 2,
              "version_minor": 0
            },
            "text/plain": [
              "Shadow attack:   0%|          | 0/1 [00:00<?, ?it/s]"
            ]
          },
          "metadata": {},
          "output_type": "display_data"
        },
        {
          "data": {
            "application/vnd.jupyter.widget-view+json": {
              "model_id": "2b06e12f4d19437091741bba4fb492fa",
              "version_major": 2,
              "version_minor": 0
            },
            "text/plain": [
              "Shadow attack:   0%|          | 0/1 [00:00<?, ?it/s]"
            ]
          },
          "metadata": {},
          "output_type": "display_data"
        },
        {
          "data": {
            "application/vnd.jupyter.widget-view+json": {
              "model_id": "376d93ae8ab441d3a43e4d35a112e33b",
              "version_major": 2,
              "version_minor": 0
            },
            "text/plain": [
              "Shadow attack:   0%|          | 0/1 [00:00<?, ?it/s]"
            ]
          },
          "metadata": {},
          "output_type": "display_data"
        },
        {
          "data": {
            "application/vnd.jupyter.widget-view+json": {
              "model_id": "ac1d20e7a6cc4d59894d44ebef0c44b6",
              "version_major": 2,
              "version_minor": 0
            },
            "text/plain": [
              "Shadow attack:   0%|          | 0/1 [00:00<?, ?it/s]"
            ]
          },
          "metadata": {},
          "output_type": "display_data"
        },
        {
          "ename": "ValueError",
          "evalue": "ignored",
          "output_type": "error",
          "traceback": [
            "\u001b[0;31m---------------------------------------------------------------------------\u001b[0m",
            "\u001b[0;31mValueError\u001b[0m                                Traceback (most recent call last)",
            "\u001b[0;32m<ipython-input-90-b83b8a38eb9f>\u001b[0m in \u001b[0;36m<module>\u001b[0;34m()\u001b[0m\n\u001b[1;32m      9\u001b[0m \u001b[0;31m# x_test_adv_evasion = attack.generate( x_test_adv.copy())\u001b[0m\u001b[0;34m\u001b[0m\u001b[0;34m\u001b[0m\u001b[0;34m\u001b[0m\u001b[0m\n\u001b[1;32m     10\u001b[0m \u001b[0mx_test_adv_evasion\u001b[0m \u001b[0;34m=\u001b[0m \u001b[0;34m[\u001b[0m\u001b[0mattack\u001b[0m\u001b[0;34m.\u001b[0m\u001b[0mgenerate\u001b[0m\u001b[0;34m(\u001b[0m \u001b[0mff\u001b[0m\u001b[0;34m.\u001b[0m\u001b[0mreshape\u001b[0m\u001b[0;34m(\u001b[0m\u001b[0;34m(\u001b[0m\u001b[0;36m1\u001b[0m\u001b[0;34m,\u001b[0m\u001b[0;36m32\u001b[0m\u001b[0;34m,\u001b[0m\u001b[0;36m32\u001b[0m\u001b[0;34m,\u001b[0m\u001b[0;36m3\u001b[0m\u001b[0;34m)\u001b[0m\u001b[0;34m)\u001b[0m\u001b[0;34m)\u001b[0m \u001b[0;32mfor\u001b[0m \u001b[0mff\u001b[0m \u001b[0;32min\u001b[0m \u001b[0mx_test_adv\u001b[0m\u001b[0;34m.\u001b[0m\u001b[0mcopy\u001b[0m\u001b[0;34m(\u001b[0m\u001b[0;34m)\u001b[0m\u001b[0;34m]\u001b[0m\u001b[0;34m\u001b[0m\u001b[0;34m\u001b[0m\u001b[0m\n\u001b[0;32m---> 11\u001b[0;31m \u001b[0mmetri\u001b[0m \u001b[0;34m=\u001b[0m \u001b[0mmodel\u001b[0m\u001b[0;34m.\u001b[0m\u001b[0mevaluate\u001b[0m\u001b[0;34m(\u001b[0m \u001b[0mx_test_adv_evasion\u001b[0m\u001b[0;34m,\u001b[0m \u001b[0my_test_adv_evasion\u001b[0m \u001b[0;34m)\u001b[0m\u001b[0;34m\u001b[0m\u001b[0;34m\u001b[0m\u001b[0m\n\u001b[0m\u001b[1;32m     12\u001b[0m \u001b[0mpredictions\u001b[0m \u001b[0;34m=\u001b[0m \u001b[0mmodel\u001b[0m\u001b[0;34m.\u001b[0m\u001b[0mpredict\u001b[0m\u001b[0;34m(\u001b[0m\u001b[0mx_test_adv_evasion\u001b[0m\u001b[0;34m)\u001b[0m\u001b[0;34m\u001b[0m\u001b[0;34m\u001b[0m\u001b[0m\n\u001b[1;32m     13\u001b[0m \u001b[0mprint\u001b[0m\u001b[0;34m(\u001b[0m \u001b[0;34m'accuracy on adversarial examples for {} attack is : {}'\u001b[0m\u001b[0;34m.\u001b[0m\u001b[0mformat\u001b[0m\u001b[0;34m(\u001b[0m\u001b[0;34m\"Feature Adversaries TensorFlowV2\"\u001b[0m\u001b[0;34m,\u001b[0m\u001b[0mmetri\u001b[0m\u001b[0;34m[\u001b[0m\u001b[0;36m1\u001b[0m\u001b[0;34m]\u001b[0m\u001b[0;34m)\u001b[0m\u001b[0;34m)\u001b[0m\u001b[0;34m\u001b[0m\u001b[0;34m\u001b[0m\u001b[0m\n",
            "\u001b[0;32m/usr/local/lib/python3.7/dist-packages/keras/engine/training.py\u001b[0m in \u001b[0;36mevaluate\u001b[0;34m(self, x, y, batch_size, verbose, sample_weight, steps, callbacks, max_queue_size, workers, use_multiprocessing, return_dict, **kwargs)\u001b[0m\n\u001b[1;32m   1476\u001b[0m             \u001b[0muse_multiprocessing\u001b[0m\u001b[0;34m=\u001b[0m\u001b[0muse_multiprocessing\u001b[0m\u001b[0;34m,\u001b[0m\u001b[0;34m\u001b[0m\u001b[0;34m\u001b[0m\u001b[0m\n\u001b[1;32m   1477\u001b[0m             \u001b[0mmodel\u001b[0m\u001b[0;34m=\u001b[0m\u001b[0mself\u001b[0m\u001b[0;34m,\u001b[0m\u001b[0;34m\u001b[0m\u001b[0;34m\u001b[0m\u001b[0m\n\u001b[0;32m-> 1478\u001b[0;31m             steps_per_execution=self._steps_per_execution)\n\u001b[0m\u001b[1;32m   1479\u001b[0m \u001b[0;34m\u001b[0m\u001b[0m\n\u001b[1;32m   1480\u001b[0m       \u001b[0;31m# Container that configures and calls `tf.keras.Callback`s.\u001b[0m\u001b[0;34m\u001b[0m\u001b[0;34m\u001b[0m\u001b[0;34m\u001b[0m\u001b[0m\n",
            "\u001b[0;32m/usr/local/lib/python3.7/dist-packages/keras/engine/data_adapter.py\u001b[0m in \u001b[0;36mget_data_handler\u001b[0;34m(*args, **kwargs)\u001b[0m\n\u001b[1;32m   1381\u001b[0m   \u001b[0;32mif\u001b[0m \u001b[0mgetattr\u001b[0m\u001b[0;34m(\u001b[0m\u001b[0mkwargs\u001b[0m\u001b[0;34m[\u001b[0m\u001b[0;34m\"model\"\u001b[0m\u001b[0;34m]\u001b[0m\u001b[0;34m,\u001b[0m \u001b[0;34m\"_cluster_coordinator\"\u001b[0m\u001b[0;34m,\u001b[0m \u001b[0;32mNone\u001b[0m\u001b[0;34m)\u001b[0m\u001b[0;34m:\u001b[0m\u001b[0;34m\u001b[0m\u001b[0;34m\u001b[0m\u001b[0m\n\u001b[1;32m   1382\u001b[0m     \u001b[0;32mreturn\u001b[0m \u001b[0m_ClusterCoordinatorDataHandler\u001b[0m\u001b[0;34m(\u001b[0m\u001b[0;34m*\u001b[0m\u001b[0margs\u001b[0m\u001b[0;34m,\u001b[0m \u001b[0;34m**\u001b[0m\u001b[0mkwargs\u001b[0m\u001b[0;34m)\u001b[0m\u001b[0;34m\u001b[0m\u001b[0;34m\u001b[0m\u001b[0m\n\u001b[0;32m-> 1383\u001b[0;31m   \u001b[0;32mreturn\u001b[0m \u001b[0mDataHandler\u001b[0m\u001b[0;34m(\u001b[0m\u001b[0;34m*\u001b[0m\u001b[0margs\u001b[0m\u001b[0;34m,\u001b[0m \u001b[0;34m**\u001b[0m\u001b[0mkwargs\u001b[0m\u001b[0;34m)\u001b[0m\u001b[0;34m\u001b[0m\u001b[0;34m\u001b[0m\u001b[0m\n\u001b[0m\u001b[1;32m   1384\u001b[0m \u001b[0;34m\u001b[0m\u001b[0m\n\u001b[1;32m   1385\u001b[0m \u001b[0;34m\u001b[0m\u001b[0m\n",
            "\u001b[0;32m/usr/local/lib/python3.7/dist-packages/keras/engine/data_adapter.py\u001b[0m in \u001b[0;36m__init__\u001b[0;34m(self, x, y, sample_weight, batch_size, steps_per_epoch, initial_epoch, epochs, shuffle, class_weight, max_queue_size, workers, use_multiprocessing, model, steps_per_execution, distribute)\u001b[0m\n\u001b[1;32m   1148\u001b[0m         \u001b[0muse_multiprocessing\u001b[0m\u001b[0;34m=\u001b[0m\u001b[0muse_multiprocessing\u001b[0m\u001b[0;34m,\u001b[0m\u001b[0;34m\u001b[0m\u001b[0;34m\u001b[0m\u001b[0m\n\u001b[1;32m   1149\u001b[0m         \u001b[0mdistribution_strategy\u001b[0m\u001b[0;34m=\u001b[0m\u001b[0mtf\u001b[0m\u001b[0;34m.\u001b[0m\u001b[0mdistribute\u001b[0m\u001b[0;34m.\u001b[0m\u001b[0mget_strategy\u001b[0m\u001b[0;34m(\u001b[0m\u001b[0;34m)\u001b[0m\u001b[0;34m,\u001b[0m\u001b[0;34m\u001b[0m\u001b[0;34m\u001b[0m\u001b[0m\n\u001b[0;32m-> 1150\u001b[0;31m         model=model)\n\u001b[0m\u001b[1;32m   1151\u001b[0m \u001b[0;34m\u001b[0m\u001b[0m\n\u001b[1;32m   1152\u001b[0m     \u001b[0mstrategy\u001b[0m \u001b[0;34m=\u001b[0m \u001b[0mtf\u001b[0m\u001b[0;34m.\u001b[0m\u001b[0mdistribute\u001b[0m\u001b[0;34m.\u001b[0m\u001b[0mget_strategy\u001b[0m\u001b[0;34m(\u001b[0m\u001b[0;34m)\u001b[0m\u001b[0;34m\u001b[0m\u001b[0;34m\u001b[0m\u001b[0m\n",
            "\u001b[0;32m/usr/local/lib/python3.7/dist-packages/keras/engine/data_adapter.py\u001b[0m in \u001b[0;36m__init__\u001b[0;34m(self, x, y, sample_weights, sample_weight_modes, batch_size, epochs, steps, shuffle, **kwargs)\u001b[0m\n\u001b[1;32m    239\u001b[0m \u001b[0;34m\u001b[0m\u001b[0m\n\u001b[1;32m    240\u001b[0m     \u001b[0mnum_samples\u001b[0m \u001b[0;34m=\u001b[0m \u001b[0mset\u001b[0m\u001b[0;34m(\u001b[0m\u001b[0mint\u001b[0m\u001b[0;34m(\u001b[0m\u001b[0mi\u001b[0m\u001b[0;34m.\u001b[0m\u001b[0mshape\u001b[0m\u001b[0;34m[\u001b[0m\u001b[0;36m0\u001b[0m\u001b[0;34m]\u001b[0m\u001b[0;34m)\u001b[0m \u001b[0;32mfor\u001b[0m \u001b[0mi\u001b[0m \u001b[0;32min\u001b[0m \u001b[0mtf\u001b[0m\u001b[0;34m.\u001b[0m\u001b[0mnest\u001b[0m\u001b[0;34m.\u001b[0m\u001b[0mflatten\u001b[0m\u001b[0;34m(\u001b[0m\u001b[0minputs\u001b[0m\u001b[0;34m)\u001b[0m\u001b[0;34m)\u001b[0m\u001b[0;34m.\u001b[0m\u001b[0mpop\u001b[0m\u001b[0;34m(\u001b[0m\u001b[0;34m)\u001b[0m\u001b[0;34m\u001b[0m\u001b[0;34m\u001b[0m\u001b[0m\n\u001b[0;32m--> 241\u001b[0;31m     \u001b[0m_check_data_cardinality\u001b[0m\u001b[0;34m(\u001b[0m\u001b[0minputs\u001b[0m\u001b[0;34m)\u001b[0m\u001b[0;34m\u001b[0m\u001b[0;34m\u001b[0m\u001b[0m\n\u001b[0m\u001b[1;32m    242\u001b[0m \u001b[0;34m\u001b[0m\u001b[0m\n\u001b[1;32m    243\u001b[0m     \u001b[0;31m# If batch_size is not passed but steps is, calculate from the input data.\u001b[0m\u001b[0;34m\u001b[0m\u001b[0;34m\u001b[0m\u001b[0;34m\u001b[0m\u001b[0m\n",
            "\u001b[0;32m/usr/local/lib/python3.7/dist-packages/keras/engine/data_adapter.py\u001b[0m in \u001b[0;36m_check_data_cardinality\u001b[0;34m(data)\u001b[0m\n\u001b[1;32m   1647\u001b[0m           label, \", \".join(str(i.shape[0]) for i in tf.nest.flatten(single_data)))\n\u001b[1;32m   1648\u001b[0m     \u001b[0mmsg\u001b[0m \u001b[0;34m+=\u001b[0m \u001b[0;34m\"Make sure all arrays contain the same number of samples.\"\u001b[0m\u001b[0;34m\u001b[0m\u001b[0;34m\u001b[0m\u001b[0m\n\u001b[0;32m-> 1649\u001b[0;31m     \u001b[0;32mraise\u001b[0m \u001b[0mValueError\u001b[0m\u001b[0;34m(\u001b[0m\u001b[0mmsg\u001b[0m\u001b[0;34m)\u001b[0m\u001b[0;34m\u001b[0m\u001b[0;34m\u001b[0m\u001b[0m\n\u001b[0m\u001b[1;32m   1650\u001b[0m \u001b[0;34m\u001b[0m\u001b[0m\n\u001b[1;32m   1651\u001b[0m \u001b[0;34m\u001b[0m\u001b[0m\n",
            "\u001b[0;31mValueError\u001b[0m: Data cardinality is ambiguous:\n  x sizes: 1, 1, 1, 1, 1, 1, 1, 1, 1, 1, 1, 1, 1, 1, 1, 1, 1, 1, 1, 1, 1, 1, 1, 1, 1, 1, 1, 1, 1, 1, 1, 1, 1, 1, 1, 1, 1, 1, 1, 1, 1, 1, 1, 1, 1, 1, 1, 1, 1, 1, 1, 1, 1, 1, 1, 1, 1, 1, 1, 1, 1, 1, 1, 1, 1, 1, 1, 1, 1, 1, 1, 1, 1, 1, 1, 1, 1, 1, 1, 1, 1, 1, 1, 1, 1, 1, 1, 1, 1, 1, 1, 1, 1, 1, 1, 1, 1, 1, 1, 1\n  y sizes: 100\nMake sure all arrays contain the same number of samples."
          ]
        }
      ]
    },
    {
      "cell_type": "code",
      "metadata": {
        "id": "BnHb1r923fdE"
      },
      "source": [
        "show_image(adv_res[1])\n",
        "print(np.argmax(pred[1]))\n",
        "print(np.argmax(y_test_adv[1]))\n",
        "show_image(adv_res[5])\n",
        "print(np.argmax(pred[5]))\n",
        "print(np.argmax(y_test_adv[5]))"
      ],
      "execution_count": null,
      "outputs": []
    },
    {
      "cell_type": "markdown",
      "metadata": {
        "id": "ypv5qFmgWOED"
      },
      "source": [
        "# Wasserstein Attack"
      ]
    },
    {
      "cell_type": "code",
      "metadata": {
        "colab": {
          "base_uri": "https://localhost:8080/",
          "height": 453
        },
        "id": "PccsCeWY4fMb",
        "outputId": "401e8fa6-9b26-4a38-dabc-8f981f1f794d"
      },
      "source": [
        "from art.attacks.evasion import Wasserstein\n",
        "wa = Wasserstein(wrapper,targeted = False, regularization = 3000.0, p = 2, kernel_size = 5, eps_step = 0.1, \n",
        "                 norm = 'wasserstein', ball = 'wasserstein', eps = 0.3, eps_iter = 10, eps_factor = 1.1, \n",
        "                 max_iter = 400, conjugate_sinkhorn_max_iter = 1, projected_sinkhorn_max_iter = 1, batch_size = 1)\n",
        "clf,adv_res,pred = evasion_attack(model,wa,\"Wasserstein Attack\",wrapper,to_cat=False)\n",
        "perturbation = np.mean(np.abs((adv_res - x_test_adv)))\n",
        "clf['perturbation'] = perturbation\n",
        "res.append(clf)\n",
        "ind.append(\"Wasserstein\")"
      ],
      "execution_count": null,
      "outputs": [
        {
          "name": "stdout",
          "output_type": "stream",
          "text": [
            "(100,)\n"
          ]
        },
        {
          "data": {
            "application/vnd.jupyter.widget-view+json": {
              "model_id": "d975b8d5fa2747b0841993f53f2bff14",
              "version_major": 2,
              "version_minor": 0
            },
            "text/plain": [
              "Wasserstein:   0%|          | 0/100 [00:00<?, ?it/s]"
            ]
          },
          "metadata": {},
          "output_type": "display_data"
        },
        {
          "name": "stderr",
          "output_type": "stream",
          "text": [
            "/usr/local/lib/python3.7/dist-packages/art/attacks/evasion/wasserstein.py:388: RuntimeWarning: overflow encountered in exp\n",
            "  exp_beta = np.exp(-beta)\n"
          ]
        },
        {
          "ename": "ValueError",
          "evalue": "ignored",
          "output_type": "error",
          "traceback": [
            "\u001b[0;31m---------------------------------------------------------------------------\u001b[0m",
            "\u001b[0;31mValueError\u001b[0m                                Traceback (most recent call last)",
            "\u001b[0;32m<ipython-input-51-7131d2c80081>\u001b[0m in \u001b[0;36m<module>\u001b[0;34m()\u001b[0m\n\u001b[1;32m      3\u001b[0m                  \u001b[0mnorm\u001b[0m \u001b[0;34m=\u001b[0m \u001b[0;34m'wasserstein'\u001b[0m\u001b[0;34m,\u001b[0m \u001b[0mball\u001b[0m \u001b[0;34m=\u001b[0m \u001b[0;34m'wasserstein'\u001b[0m\u001b[0;34m,\u001b[0m \u001b[0meps\u001b[0m \u001b[0;34m=\u001b[0m \u001b[0;36m0.3\u001b[0m\u001b[0;34m,\u001b[0m \u001b[0meps_iter\u001b[0m \u001b[0;34m=\u001b[0m \u001b[0;36m10\u001b[0m\u001b[0;34m,\u001b[0m \u001b[0meps_factor\u001b[0m \u001b[0;34m=\u001b[0m \u001b[0;36m1.1\u001b[0m\u001b[0;34m,\u001b[0m\u001b[0;34m\u001b[0m\u001b[0;34m\u001b[0m\u001b[0m\n\u001b[1;32m      4\u001b[0m                  max_iter = 400, conjugate_sinkhorn_max_iter = 1, projected_sinkhorn_max_iter = 1, batch_size = 1)\n\u001b[0;32m----> 5\u001b[0;31m \u001b[0mclf\u001b[0m\u001b[0;34m,\u001b[0m\u001b[0madv_res\u001b[0m\u001b[0;34m,\u001b[0m\u001b[0mpred\u001b[0m \u001b[0;34m=\u001b[0m \u001b[0mevasion_attack\u001b[0m\u001b[0;34m(\u001b[0m\u001b[0mmodel\u001b[0m\u001b[0;34m,\u001b[0m\u001b[0mwa\u001b[0m\u001b[0;34m,\u001b[0m\u001b[0;34m\"Wasserstein Attack\"\u001b[0m\u001b[0;34m,\u001b[0m\u001b[0mwrapper\u001b[0m\u001b[0;34m,\u001b[0m\u001b[0mto_cat\u001b[0m\u001b[0;34m=\u001b[0m\u001b[0;32mFalse\u001b[0m\u001b[0;34m)\u001b[0m\u001b[0;34m\u001b[0m\u001b[0;34m\u001b[0m\u001b[0m\n\u001b[0m\u001b[1;32m      6\u001b[0m \u001b[0mperturbation\u001b[0m \u001b[0;34m=\u001b[0m \u001b[0mnp\u001b[0m\u001b[0;34m.\u001b[0m\u001b[0mmean\u001b[0m\u001b[0;34m(\u001b[0m\u001b[0mnp\u001b[0m\u001b[0;34m.\u001b[0m\u001b[0mabs\u001b[0m\u001b[0;34m(\u001b[0m\u001b[0;34m(\u001b[0m\u001b[0madv_res\u001b[0m \u001b[0;34m-\u001b[0m \u001b[0mx_test_adv\u001b[0m\u001b[0;34m)\u001b[0m\u001b[0;34m)\u001b[0m\u001b[0;34m)\u001b[0m\u001b[0;34m\u001b[0m\u001b[0;34m\u001b[0m\u001b[0m\n\u001b[1;32m      7\u001b[0m \u001b[0mclf\u001b[0m\u001b[0;34m[\u001b[0m\u001b[0;34m'perturbation'\u001b[0m\u001b[0;34m]\u001b[0m \u001b[0;34m=\u001b[0m \u001b[0mperturbation\u001b[0m\u001b[0;34m\u001b[0m\u001b[0;34m\u001b[0m\u001b[0m\n",
            "\u001b[0;32m<ipython-input-42-743a5aa3af6d>\u001b[0m in \u001b[0;36mevasion_attack\u001b[0;34m(model, attack, name, wrapper, to_cat)\u001b[0m\n\u001b[1;32m      9\u001b[0m         \u001b[0my_test_adv_evasion\u001b[0m \u001b[0;34m=\u001b[0m \u001b[0my_test_adv\u001b[0m\u001b[0;34m.\u001b[0m\u001b[0mcopy\u001b[0m\u001b[0;34m(\u001b[0m\u001b[0;34m)\u001b[0m\u001b[0;34m\u001b[0m\u001b[0;34m\u001b[0m\u001b[0m\n\u001b[1;32m     10\u001b[0m     \u001b[0mprint\u001b[0m\u001b[0;34m(\u001b[0m\u001b[0my_test_adv_evasion\u001b[0m\u001b[0;34m.\u001b[0m\u001b[0mshape\u001b[0m\u001b[0;34m)\u001b[0m\u001b[0;34m\u001b[0m\u001b[0;34m\u001b[0m\u001b[0m\n\u001b[0;32m---> 11\u001b[0;31m     \u001b[0mx_test_adv_evasion\u001b[0m \u001b[0;34m=\u001b[0m \u001b[0mattack\u001b[0m\u001b[0;34m.\u001b[0m\u001b[0mgenerate\u001b[0m\u001b[0;34m(\u001b[0m \u001b[0mx_test_adv\u001b[0m\u001b[0;34m.\u001b[0m\u001b[0mcopy\u001b[0m\u001b[0;34m(\u001b[0m\u001b[0;34m)\u001b[0m \u001b[0;34m)\u001b[0m\u001b[0;34m\u001b[0m\u001b[0;34m\u001b[0m\u001b[0m\n\u001b[0m\u001b[1;32m     12\u001b[0m     \u001b[0mmetri\u001b[0m \u001b[0;34m=\u001b[0m \u001b[0mmodel\u001b[0m\u001b[0;34m.\u001b[0m\u001b[0mevaluate\u001b[0m\u001b[0;34m(\u001b[0m \u001b[0mx_test_adv_evasion\u001b[0m\u001b[0;34m,\u001b[0m \u001b[0my_test_adv_evasion\u001b[0m \u001b[0;34m)\u001b[0m\u001b[0;34m\u001b[0m\u001b[0;34m\u001b[0m\u001b[0m\n\u001b[1;32m     13\u001b[0m     \u001b[0mpredictions\u001b[0m \u001b[0;34m=\u001b[0m \u001b[0mmodel\u001b[0m\u001b[0;34m.\u001b[0m\u001b[0mpredict\u001b[0m\u001b[0;34m(\u001b[0m\u001b[0mx_test_adv_evasion\u001b[0m\u001b[0;34m)\u001b[0m\u001b[0;34m\u001b[0m\u001b[0;34m\u001b[0m\u001b[0m\n",
            "\u001b[0;32m/usr/local/lib/python3.7/dist-packages/art/attacks/attack.py\u001b[0m in \u001b[0;36mreplacement_function\u001b[0;34m(self, *args, **kwargs)\u001b[0m\n\u001b[1;32m     73\u001b[0m                 \u001b[0;32mif\u001b[0m \u001b[0mlen\u001b[0m\u001b[0;34m(\u001b[0m\u001b[0margs\u001b[0m\u001b[0;34m)\u001b[0m \u001b[0;34m>\u001b[0m \u001b[0;36m0\u001b[0m\u001b[0;34m:\u001b[0m\u001b[0;34m\u001b[0m\u001b[0;34m\u001b[0m\u001b[0m\n\u001b[1;32m     74\u001b[0m                     \u001b[0margs\u001b[0m \u001b[0;34m=\u001b[0m \u001b[0mtuple\u001b[0m\u001b[0;34m(\u001b[0m\u001b[0mlst\u001b[0m\u001b[0;34m)\u001b[0m\u001b[0;34m\u001b[0m\u001b[0;34m\u001b[0m\u001b[0m\n\u001b[0;32m---> 75\u001b[0;31m                 \u001b[0;32mreturn\u001b[0m \u001b[0mfdict\u001b[0m\u001b[0;34m[\u001b[0m\u001b[0mfunc_name\u001b[0m\u001b[0;34m]\u001b[0m\u001b[0;34m(\u001b[0m\u001b[0mself\u001b[0m\u001b[0;34m,\u001b[0m \u001b[0;34m*\u001b[0m\u001b[0margs\u001b[0m\u001b[0;34m,\u001b[0m \u001b[0;34m**\u001b[0m\u001b[0mkwargs\u001b[0m\u001b[0;34m)\u001b[0m\u001b[0;34m\u001b[0m\u001b[0;34m\u001b[0m\u001b[0m\n\u001b[0m\u001b[1;32m     76\u001b[0m \u001b[0;34m\u001b[0m\u001b[0m\n\u001b[1;32m     77\u001b[0m             \u001b[0mreplacement_function\u001b[0m\u001b[0;34m.\u001b[0m\u001b[0m__doc__\u001b[0m \u001b[0;34m=\u001b[0m \u001b[0mfdict\u001b[0m\u001b[0;34m[\u001b[0m\u001b[0mfunc_name\u001b[0m\u001b[0;34m]\u001b[0m\u001b[0;34m.\u001b[0m\u001b[0m__doc__\u001b[0m\u001b[0;34m\u001b[0m\u001b[0;34m\u001b[0m\u001b[0m\n",
            "\u001b[0;32m/usr/local/lib/python3.7/dist-packages/art/attacks/evasion/wasserstein.py\u001b[0m in \u001b[0;36mgenerate\u001b[0;34m(self, x, y, **kwargs)\u001b[0m\n\u001b[1;32m    174\u001b[0m             \u001b[0mbatch_labels\u001b[0m \u001b[0;34m=\u001b[0m \u001b[0mtargets\u001b[0m\u001b[0;34m[\u001b[0m\u001b[0mbatch_index_1\u001b[0m\u001b[0;34m:\u001b[0m\u001b[0mbatch_index_2\u001b[0m\u001b[0;34m]\u001b[0m\u001b[0;34m\u001b[0m\u001b[0;34m\u001b[0m\u001b[0m\n\u001b[1;32m    175\u001b[0m \u001b[0;34m\u001b[0m\u001b[0m\n\u001b[0;32m--> 176\u001b[0;31m             \u001b[0mx_adv\u001b[0m\u001b[0;34m[\u001b[0m\u001b[0mbatch_index_1\u001b[0m\u001b[0;34m:\u001b[0m\u001b[0mbatch_index_2\u001b[0m\u001b[0;34m]\u001b[0m \u001b[0;34m=\u001b[0m \u001b[0mself\u001b[0m\u001b[0;34m.\u001b[0m\u001b[0m_generate_batch\u001b[0m\u001b[0;34m(\u001b[0m\u001b[0mbatch\u001b[0m\u001b[0;34m,\u001b[0m \u001b[0mbatch_labels\u001b[0m\u001b[0;34m,\u001b[0m \u001b[0mcost_matrix\u001b[0m\u001b[0;34m)\u001b[0m\u001b[0;34m\u001b[0m\u001b[0;34m\u001b[0m\u001b[0m\n\u001b[0m\u001b[1;32m    177\u001b[0m \u001b[0;34m\u001b[0m\u001b[0m\n\u001b[1;32m    178\u001b[0m         logger.info(\n",
            "\u001b[0;32m/usr/local/lib/python3.7/dist-packages/art/attacks/evasion/wasserstein.py\u001b[0m in \u001b[0;36m_generate_batch\u001b[0;34m(self, x, targets, cost_matrix)\u001b[0m\n\u001b[1;32m    204\u001b[0m \u001b[0;34m\u001b[0m\u001b[0m\n\u001b[1;32m    205\u001b[0m         \u001b[0;32mfor\u001b[0m \u001b[0mi\u001b[0m \u001b[0;32min\u001b[0m \u001b[0mrange\u001b[0m\u001b[0;34m(\u001b[0m\u001b[0mself\u001b[0m\u001b[0;34m.\u001b[0m\u001b[0mmax_iter\u001b[0m\u001b[0;34m)\u001b[0m\u001b[0;34m:\u001b[0m\u001b[0;34m\u001b[0m\u001b[0;34m\u001b[0m\u001b[0m\n\u001b[0;32m--> 206\u001b[0;31m             \u001b[0madv_x\u001b[0m \u001b[0;34m=\u001b[0m \u001b[0mself\u001b[0m\u001b[0;34m.\u001b[0m\u001b[0m_compute\u001b[0m\u001b[0;34m(\u001b[0m\u001b[0madv_x\u001b[0m\u001b[0;34m,\u001b[0m \u001b[0mx\u001b[0m\u001b[0;34m,\u001b[0m \u001b[0mtargets\u001b[0m\u001b[0;34m,\u001b[0m \u001b[0mcost_matrix\u001b[0m\u001b[0;34m,\u001b[0m \u001b[0meps_\u001b[0m\u001b[0;34m,\u001b[0m \u001b[0merr\u001b[0m\u001b[0;34m)\u001b[0m\u001b[0;34m\u001b[0m\u001b[0;34m\u001b[0m\u001b[0m\n\u001b[0m\u001b[1;32m    207\u001b[0m \u001b[0;34m\u001b[0m\u001b[0m\n\u001b[1;32m    208\u001b[0m             \u001b[0;32mif\u001b[0m \u001b[0mself\u001b[0m\u001b[0;34m.\u001b[0m\u001b[0mtargeted\u001b[0m\u001b[0;34m:\u001b[0m\u001b[0;34m\u001b[0m\u001b[0;34m\u001b[0m\u001b[0m\n",
            "\u001b[0;32m/usr/local/lib/python3.7/dist-packages/art/attacks/evasion/wasserstein.py\u001b[0m in \u001b[0;36m_compute\u001b[0;34m(self, x_adv, x_init, y, cost_matrix, eps, err)\u001b[0m\n\u001b[1;32m    252\u001b[0m         \"\"\"\n\u001b[1;32m    253\u001b[0m         \u001b[0;31m# Compute and apply perturbation\u001b[0m\u001b[0;34m\u001b[0m\u001b[0;34m\u001b[0m\u001b[0;34m\u001b[0m\u001b[0m\n\u001b[0;32m--> 254\u001b[0;31m         \u001b[0mx_adv\u001b[0m\u001b[0;34m[\u001b[0m\u001b[0;34m~\u001b[0m\u001b[0merr\u001b[0m\u001b[0;34m]\u001b[0m \u001b[0;34m=\u001b[0m \u001b[0mself\u001b[0m\u001b[0;34m.\u001b[0m\u001b[0m_compute_apply_perturbation\u001b[0m\u001b[0;34m(\u001b[0m\u001b[0mx_adv\u001b[0m\u001b[0;34m,\u001b[0m \u001b[0my\u001b[0m\u001b[0;34m,\u001b[0m \u001b[0mcost_matrix\u001b[0m\u001b[0;34m)\u001b[0m\u001b[0;34m[\u001b[0m\u001b[0;34m~\u001b[0m\u001b[0merr\u001b[0m\u001b[0;34m]\u001b[0m\u001b[0;34m\u001b[0m\u001b[0;34m\u001b[0m\u001b[0m\n\u001b[0m\u001b[1;32m    255\u001b[0m \u001b[0;34m\u001b[0m\u001b[0m\n\u001b[1;32m    256\u001b[0m         \u001b[0;31m# Do projection\u001b[0m\u001b[0;34m\u001b[0m\u001b[0;34m\u001b[0m\u001b[0;34m\u001b[0m\u001b[0m\n",
            "\u001b[0;32m/usr/local/lib/python3.7/dist-packages/art/attacks/evasion/wasserstein.py\u001b[0m in \u001b[0;36m_compute_apply_perturbation\u001b[0;34m(self, x, y, cost_matrix)\u001b[0m\n\u001b[1;32m    298\u001b[0m \u001b[0;34m\u001b[0m\u001b[0m\n\u001b[1;32m    299\u001b[0m         \u001b[0;32melif\u001b[0m \u001b[0mself\u001b[0m\u001b[0;34m.\u001b[0m\u001b[0mnorm\u001b[0m \u001b[0;34m==\u001b[0m \u001b[0;34m\"wasserstein\"\u001b[0m\u001b[0;34m:\u001b[0m\u001b[0;34m\u001b[0m\u001b[0;34m\u001b[0m\u001b[0m\n\u001b[0;32m--> 300\u001b[0;31m             \u001b[0mx_adv\u001b[0m \u001b[0;34m=\u001b[0m \u001b[0mself\u001b[0m\u001b[0;34m.\u001b[0m\u001b[0m_conjugate_sinkhorn\u001b[0m\u001b[0;34m(\u001b[0m\u001b[0mx\u001b[0m\u001b[0;34m,\u001b[0m \u001b[0mgrad\u001b[0m\u001b[0;34m,\u001b[0m \u001b[0mcost_matrix\u001b[0m\u001b[0;34m)\u001b[0m\u001b[0;34m\u001b[0m\u001b[0;34m\u001b[0m\u001b[0m\n\u001b[0m\u001b[1;32m    301\u001b[0m \u001b[0;34m\u001b[0m\u001b[0m\n\u001b[1;32m    302\u001b[0m         \u001b[0;32melse\u001b[0m\u001b[0;34m:\u001b[0m\u001b[0;34m\u001b[0m\u001b[0;34m\u001b[0m\u001b[0m\n",
            "\u001b[0;32m/usr/local/lib/python3.7/dist-packages/art/attacks/evasion/wasserstein.py\u001b[0m in \u001b[0;36m_conjugate_sinkhorn\u001b[0;34m(self, x, grad, cost_matrix)\u001b[0m\n\u001b[1;32m    390\u001b[0m         \u001b[0;31m# Check for overflow\u001b[0m\u001b[0;34m\u001b[0m\u001b[0;34m\u001b[0m\u001b[0;34m\u001b[0m\u001b[0m\n\u001b[1;32m    391\u001b[0m         \u001b[0;32mif\u001b[0m \u001b[0;34m(\u001b[0m\u001b[0mexp_beta\u001b[0m \u001b[0;34m==\u001b[0m \u001b[0mnp\u001b[0m\u001b[0;34m.\u001b[0m\u001b[0minf\u001b[0m\u001b[0;34m)\u001b[0m\u001b[0;34m.\u001b[0m\u001b[0many\u001b[0m\u001b[0;34m(\u001b[0m\u001b[0;34m)\u001b[0m\u001b[0;34m:\u001b[0m\u001b[0;34m\u001b[0m\u001b[0;34m\u001b[0m\u001b[0m\n\u001b[0;32m--> 392\u001b[0;31m             \u001b[0;32mraise\u001b[0m \u001b[0mValueError\u001b[0m\u001b[0;34m(\u001b[0m\u001b[0;34m\"Overflow error in `_conjugate_sinkhorn` for exponential beta.\"\u001b[0m\u001b[0;34m)\u001b[0m\u001b[0;34m\u001b[0m\u001b[0;34m\u001b[0m\u001b[0m\n\u001b[0m\u001b[1;32m    393\u001b[0m \u001b[0;34m\u001b[0m\u001b[0m\n\u001b[1;32m    394\u001b[0m         \u001b[0mcost_matrix_new\u001b[0m \u001b[0;34m=\u001b[0m \u001b[0mcost_matrix\u001b[0m\u001b[0;34m.\u001b[0m\u001b[0mcopy\u001b[0m\u001b[0;34m(\u001b[0m\u001b[0;34m)\u001b[0m \u001b[0;34m+\u001b[0m \u001b[0;36m1\u001b[0m\u001b[0;34m\u001b[0m\u001b[0;34m\u001b[0m\u001b[0m\n",
            "\u001b[0;31mValueError\u001b[0m: Overflow error in `_conjugate_sinkhorn` for exponential beta."
          ]
        }
      ]
    },
    {
      "cell_type": "code",
      "metadata": {
        "id": "h2UNEsVy42sD"
      },
      "source": [
        "show_image(adv_res[1])\n",
        "print(np.argmax(pred[1]))\n",
        "print(np.argmax(y_test_adv[1]))\n",
        "show_image(adv_res[5])\n",
        "print(np.argmax(pred[5]))\n",
        "print(np.argmax(y_test_adv[5]))"
      ],
      "execution_count": null,
      "outputs": []
    },
    {
      "cell_type": "code",
      "metadata": {
        "id": "f53G1D3KVIrT"
      },
      "source": [
        ""
      ],
      "execution_count": null,
      "outputs": []
    },
    {
      "cell_type": "markdown",
      "metadata": {
        "id": "rB4btaxjWTcm"
      },
      "source": [
        ""
      ]
    },
    {
      "cell_type": "markdown",
      "metadata": {
        "id": "Syl2TvaNWV7c"
      },
      "source": [
        "# Even Dpatch and RobustDPatch did not work"
      ]
    },
    {
      "cell_type": "code",
      "metadata": {
        "id": "-lPlsfQVWbVX"
      },
      "source": [
        ""
      ],
      "execution_count": null,
      "outputs": []
    },
    {
      "cell_type": "markdown",
      "metadata": {
        "id": "gEHO267_OTdL"
      },
      "source": [
        "# **Defences**"
      ]
    },
    {
      "cell_type": "markdown",
      "metadata": {
        "id": "wdQce_Mk6J-e"
      },
      "source": [
        "Look at the defenses that are implemented in ART. These include both preprocessor and postprocessor defense mechanisms as well as trainer, transformer, and\n",
        "detector mechanisms. The postprocessor defenses are applied to the output of\n",
        "the model. Just as you do with the preprocessor defenses you are to evaluate the\n",
        "performance of the postprocessor defenses. You should evaluate these defenses\n",
        "on the adversarial examples created earlier and provide a detailed comparison\n",
        "of these defense mechanisms."
      ]
    },
    {
      "cell_type": "code",
      "metadata": {
        "id": "ffcL05dAHgbO"
      },
      "source": [
        "res_def = []"
      ],
      "execution_count": null,
      "outputs": []
    },
    {
      "cell_type": "code",
      "metadata": {
        "id": "0pD3E1ZQBdzQ"
      },
      "source": [
        "from art.attacks.evasion import FastGradientMethod"
      ],
      "execution_count": null,
      "outputs": []
    },
    {
      "cell_type": "markdown",
      "metadata": {
        "id": "raiO04aSDWUj"
      },
      "source": [
        "# **Pre-Processor**"
      ]
    },
    {
      "cell_type": "markdown",
      "metadata": {
        "id": "z1PiqOYjDds1"
      },
      "source": [
        "# Feature Squeezing"
      ]
    },
    {
      "cell_type": "markdown",
      "metadata": {
        "id": "LosEmhtJM1Ba"
      },
      "source": [
        "Feature Squeezing: A general framework that reduces the search space available for an adversary and detects adversarial examples."
      ]
    },
    {
      "cell_type": "code",
      "metadata": {
        "id": "KyhYaJFEOV9z"
      },
      "source": [
        "from art.defences.preprocessor import FeatureSqueezing\n",
        "fes = FeatureSqueezing(clip_values = (0.,0.2), bit_depth = 4, apply_fit = True, apply_predict = False)\n"
      ],
      "execution_count": null,
      "outputs": []
    },
    {
      "cell_type": "code",
      "metadata": {
        "id": "QTy-5xKmclYe"
      },
      "source": [
        "# fes.fit( x_train, y_train, batch_size=100, nb_epochs=5 )"
      ],
      "execution_count": null,
      "outputs": []
    },
    {
      "cell_type": "code",
      "metadata": {
        "id": "T8qGxjz318N0"
      },
      "source": [
        "x_new_def,y_new_def = fes.__call__(x=x_train,y=y_train)"
      ],
      "execution_count": null,
      "outputs": []
    },
    {
      "cell_type": "code",
      "metadata": {
        "id": "TbkTnx8q2MC1"
      },
      "source": [
        "defended_model = model_def()"
      ],
      "execution_count": null,
      "outputs": []
    },
    {
      "cell_type": "code",
      "metadata": {
        "colab": {
          "base_uri": "https://localhost:8080/"
        },
        "id": "fR4sYY4R2W--",
        "outputId": "f9a30c3c-c4cc-4886-9b55-255a7fabe503"
      },
      "source": [
        "defended_model.summary()"
      ],
      "execution_count": null,
      "outputs": [
        {
          "name": "stdout",
          "output_type": "stream",
          "text": [
            "Model: \"sequential_8\"\n",
            "_________________________________________________________________\n",
            "Layer (type)                 Output Shape              Param #   \n",
            "=================================================================\n",
            "keras_layer_8 (KerasLayer)   (None, 10)                7796426   \n",
            "_________________________________________________________________\n",
            "activation_8 (Activation)    (None, 10)                0         \n",
            "=================================================================\n",
            "Total params: 7,796,426\n",
            "Trainable params: 0\n",
            "Non-trainable params: 7,796,426\n",
            "_________________________________________________________________\n"
          ]
        }
      ]
    },
    {
      "cell_type": "code",
      "metadata": {
        "colab": {
          "base_uri": "https://localhost:8080/"
        },
        "id": "qw7hQicz7ciF",
        "outputId": "99a7c057-21af-4447-d6eb-1f1f66623685"
      },
      "source": [
        "np.sum(x_new_def != x_train)"
      ],
      "execution_count": null,
      "outputs": [
        {
          "data": {
            "text/plain": [
              "143475833"
            ]
          },
          "execution_count": 48,
          "metadata": {},
          "output_type": "execute_result"
        }
      ]
    },
    {
      "cell_type": "code",
      "metadata": {
        "colab": {
          "base_uri": "https://localhost:8080/"
        },
        "id": "Lbyf6IL72biT",
        "outputId": "c7faa26f-413c-44ad-cb5c-5db19e01c065"
      },
      "source": [
        "defended_model.fit(x_new_def,y_new_def)"
      ],
      "execution_count": null,
      "outputs": [
        {
          "name": "stdout",
          "output_type": "stream",
          "text": [
            "1563/1563 [==============================] - 588s 376ms/step - loss: 0.0019 - accuracy: 0.9999\n"
          ]
        },
        {
          "data": {
            "text/plain": [
              "<keras.callbacks.History at 0x7fcc01526810>"
            ]
          },
          "execution_count": 49,
          "metadata": {},
          "output_type": "execute_result"
        }
      ]
    },
    {
      "cell_type": "code",
      "metadata": {
        "colab": {
          "base_uri": "https://localhost:8080/"
        },
        "id": "JHd2i9OIF6qa",
        "outputId": "3c2dbf20-1001-465e-ecff-c37addb56f5c"
      },
      "source": [
        "# adversarial_tranier = AdversarialTrainer( defended_model, fgsm )\n",
        "from art.attacks.evasion import FastGradientMethod\n",
        "fgsm = FastGradientMethod( wrapper,targeted=False,eps_step=0.001, eps=0.01 )\n",
        "# and now on adversarial examples\n",
        "x_test_adv_def = fgsm.generate( x_test_adv )\n",
        "# acc =  wrapper_def._model.evaluate( x_test_adv_def, y_test_adv )\n",
        "acc = defended_model.evaluate( x_test_adv_def, y_test_adv )\n",
        "print( 'loss and accuracy on adversarial examples: ', acc )"
      ],
      "execution_count": null,
      "outputs": [
        {
          "name": "stdout",
          "output_type": "stream",
          "text": [
            "4/4 [==============================] - 1s 274ms/step - loss: 2.7515 - accuracy: 0.4000\n",
            "loss and accuracy on adversarial examples:  [2.7515037059783936, 0.4000000059604645]\n"
          ]
        }
      ]
    },
    {
      "cell_type": "code",
      "metadata": {
        "id": "HhKDeoNcHp-A"
      },
      "source": [
        "res_def.append({\"name\":\"Feature Squezzing\",\"accuracy\":acc[1],\"loss\":acc[0]})"
      ],
      "execution_count": null,
      "outputs": []
    },
    {
      "cell_type": "code",
      "metadata": {
        "colab": {
          "base_uri": "https://localhost:8080/",
          "height": 82,
          "referenced_widgets": [
            "37a4df1b223541e9aff85758ca7fec78"
          ]
        },
        "id": "70WJmTaPT83P",
        "outputId": "371c6bda-ec3c-45f9-c20f-94deb5861de1"
      },
      "source": [
        "from art.attacks.evasion import SaliencyMapMethod\n",
        "scm = SaliencyMapMethod(wrapper, theta=0.1, gamma=1.0, batch_size=20)\n",
        "x_test_adv_def = scm.generate( x_test_adv )\n",
        "acc =  defended_model.evaluate( x_test_adv_def, y_test_adv )\n",
        "print( 'loss and accuracy on adversarial examples: ', acc )"
      ],
      "execution_count": null,
      "outputs": [
        {
          "data": {
            "application/vnd.jupyter.widget-view+json": {
              "model_id": "37a4df1b223541e9aff85758ca7fec78",
              "version_major": 2,
              "version_minor": 0
            },
            "text/plain": [
              "JSMA:   0%|          | 0/5 [00:00<?, ?it/s]"
            ]
          },
          "metadata": {},
          "output_type": "display_data"
        },
        {
          "name": "stdout",
          "output_type": "stream",
          "text": [
            "4/4 [==============================] - 1s 272ms/step - loss: 1.2387 - accuracy: 0.0100\n",
            "loss and accuracy on adversarial examples:  [1.2387489080429077, 0.009999999776482582]\n"
          ]
        }
      ]
    },
    {
      "cell_type": "code",
      "metadata": {
        "id": "D_tY8_dTUQ0Y"
      },
      "source": [
        "res_def.append({\"name\":\"Feature Squezzing - Saliency Map Method\",\"accuracy\":acc[1],\"loss\":acc[0]})"
      ],
      "execution_count": null,
      "outputs": []
    },
    {
      "cell_type": "code",
      "metadata": {
        "colab": {
          "base_uri": "https://localhost:8080/",
          "height": 82,
          "referenced_widgets": [
            "06c35373abe743e9a34c5198da45595c"
          ]
        },
        "id": "mtvyiyApaXIQ",
        "outputId": "dfa8c929-a645-42ef-b1ef-9096492e3f83"
      },
      "source": [
        "from art.attacks.evasion import NewtonFool\n",
        "nf = NewtonFool( wrapper, eta=0.01, batch_size=1,max_iter=10)\n",
        "x_test_adv_def = nf.generate( x_test_adv )\n",
        "acc =  defended_model.evaluate( x_test_adv_def, y_test_adv )\n",
        "print( 'loss and accuracy on adversarial examples: ', acc )"
      ],
      "execution_count": null,
      "outputs": [
        {
          "data": {
            "application/vnd.jupyter.widget-view+json": {
              "model_id": "06c35373abe743e9a34c5198da45595c",
              "version_major": 2,
              "version_minor": 0
            },
            "text/plain": [
              "NewtonFool:   0%|          | 0/100 [00:00<?, ?it/s]"
            ]
          },
          "metadata": {},
          "output_type": "display_data"
        },
        {
          "name": "stdout",
          "output_type": "stream",
          "text": [
            "4/4 [==============================] - 1s 269ms/step - loss: 2.5701 - accuracy: 0.0400\n",
            "loss and accuracy on adversarial examples:  [2.5700762271881104, 0.03999999910593033]\n"
          ]
        }
      ]
    },
    {
      "cell_type": "code",
      "metadata": {
        "id": "XDZhROwiabbC"
      },
      "source": [
        "res_def.append({\"name\":\"Feature Squezzing - Newton Fool\",\"accuracy\":acc[1],\"loss\":acc[0]})"
      ],
      "execution_count": null,
      "outputs": []
    },
    {
      "cell_type": "code",
      "metadata": {
        "colab": {
          "base_uri": "https://localhost:8080/",
          "height": 82,
          "referenced_widgets": [
            "a9b5a8f9326f478db2a442df666f5ae1"
          ]
        },
        "id": "GODpHSS8cnTj",
        "outputId": "7a7f31c7-d981-4d56-e2ab-74f85323af95"
      },
      "source": [
        "from art.attacks.evasion import ElasticNet\n",
        "en = ElasticNet( wrapper,max_iter=10,targeted=False,decision_rule=\"EN\")\n",
        "x_test_adv_def = en.generate( x_test_adv )\n",
        "acc =  defended_model.evaluate( x_test_adv_def, y_test_adv )\n",
        "print( 'loss and accuracy on adversarial examples: ', acc )"
      ],
      "execution_count": null,
      "outputs": [
        {
          "data": {
            "application/vnd.jupyter.widget-view+json": {
              "model_id": "a9b5a8f9326f478db2a442df666f5ae1",
              "version_major": 2,
              "version_minor": 0
            },
            "text/plain": [
              "EAD:   0%|          | 0/100 [00:00<?, ?it/s]"
            ]
          },
          "metadata": {},
          "output_type": "display_data"
        },
        {
          "name": "stdout",
          "output_type": "stream",
          "text": [
            "4/4 [==============================] - 1s 269ms/step - loss: 3.4087 - accuracy: 0.0600\n",
            "loss and accuracy on adversarial examples:  [3.4087471961975098, 0.05999999865889549]\n"
          ]
        }
      ]
    },
    {
      "cell_type": "code",
      "metadata": {
        "id": "UrYp5mZtct0H"
      },
      "source": [
        "res_def.append({\"name\":\"Feature Squezzing - Elastic Net\",\"accuracy\":acc[1],\"loss\":acc[0]})"
      ],
      "execution_count": null,
      "outputs": []
    },
    {
      "cell_type": "code",
      "metadata": {
        "colab": {
          "base_uri": "https://localhost:8080/"
        },
        "id": "2c7UiWf7c5eN",
        "outputId": "d467283d-19fe-47db-c016-51ccd401401e"
      },
      "source": [
        "res_def"
      ],
      "execution_count": null,
      "outputs": [
        {
          "data": {
            "text/plain": [
              "[{'accuracy': 0.4000000059604645,\n",
              "  'loss': 3.9273157119750977,\n",
              "  'name': 'Feature Squezzing'},\n",
              " {'accuracy': 0.4000000059604645,\n",
              "  'loss': 3.9228830337524414,\n",
              "  'name': 'Gaussian Data Augmentation'},\n",
              " {'accuracy': 0.15000000596046448,\n",
              "  'loss': 9.883766174316406,\n",
              "  'name': 'Gaussian Data Augmentation on PGD'},\n",
              " {'accuracy': 0.4000000059604645, 'loss': 3.9228830337524414, 'name': 'JPEG '},\n",
              " {'accuracy': 0.4000000059604645,\n",
              "  'loss': 3.9228830337524414,\n",
              "  'name': 'Label Smoothing '},\n",
              " {'accuracy': 0.15000000596046448,\n",
              "  'loss': 9.883766174316406,\n",
              "  'name': 'Spatial Smoothing on PGD'},\n",
              " {'accuracy': 0.15000000596046448,\n",
              "  'loss': 9.883766174316406,\n",
              "  'name': 'Spatial Smoothing'},\n",
              " {'accuracy': 0.4000000059604645,\n",
              "  'loss': 3.9228830337524414,\n",
              "  'name': 'Total Variance Minimization'},\n",
              " {'accuracy': 0.019999999552965164,\n",
              "  'loss': 1.2184207439422607,\n",
              "  'name': 'Spatial Smoothing - Saliency Map Attack'},\n",
              " {'accuracy': 0.009999999776482582,\n",
              "  'loss': 1.2387489080429077,\n",
              "  'name': 'Feature Squezzing - Saliency Map Method'},\n",
              " {'accuracy': 0.03999999910593033,\n",
              "  'loss': 2.5700762271881104,\n",
              "  'name': 'Feature Squezzing - Newton Fool'},\n",
              " {'accuracy': 0.05999999865889549,\n",
              "  'loss': 3.4087471961975098,\n",
              "  'name': 'Feature Squezzing - Elastic Net'}]"
            ]
          },
          "execution_count": 59,
          "metadata": {},
          "output_type": "execute_result"
        }
      ]
    },
    {
      "cell_type": "markdown",
      "metadata": {
        "id": "q4p4FXzjDLLB"
      },
      "source": [
        ""
      ]
    },
    {
      "cell_type": "markdown",
      "metadata": {
        "id": "kJkNZUJhEzuy"
      },
      "source": [
        "# Gaussian Data Augmentation¶\n"
      ]
    },
    {
      "cell_type": "markdown",
      "metadata": {
        "id": "by1LHJmZEzuy"
      },
      "source": [
        "Feature Squeezing: A general framework that reduces the search space available for an adversary and detects adversarial examples."
      ]
    },
    {
      "cell_type": "code",
      "metadata": {
        "id": "a12vsn7VEzuy"
      },
      "source": [
        "from art.defences.preprocessor import GaussianAugmentation\n",
        "gas = GaussianAugmentation(sigma=0.05, augmentation=True, ratio=0.5, clip_values=(0.,255.), apply_fit=True, apply_predict=False)\n"
      ],
      "execution_count": null,
      "outputs": []
    },
    {
      "cell_type": "code",
      "metadata": {
        "id": "QXQEeyhaEzuy"
      },
      "source": [
        "# fes.fit( x_train, y_train, batch_size=100, nb_epochs=5 )"
      ],
      "execution_count": null,
      "outputs": []
    },
    {
      "cell_type": "code",
      "metadata": {
        "id": "F0Ll7WL7Ezuy"
      },
      "source": [
        "x_new_def,y_new_def = gas.__call__(x=x_train,y=y_train)"
      ],
      "execution_count": null,
      "outputs": []
    },
    {
      "cell_type": "code",
      "metadata": {
        "id": "jXtU0ojFEzuy"
      },
      "source": [
        "defended_model = model_def()"
      ],
      "execution_count": null,
      "outputs": []
    },
    {
      "cell_type": "code",
      "metadata": {
        "colab": {
          "base_uri": "https://localhost:8080/"
        },
        "id": "HXS6bqAAEzuz",
        "outputId": "4e724120-a7b0-421f-92f2-d5918af007f2"
      },
      "source": [
        "defended_model.summary()"
      ],
      "execution_count": null,
      "outputs": [
        {
          "name": "stdout",
          "output_type": "stream",
          "text": [
            "Model: \"sequential_5\"\n",
            "_________________________________________________________________\n",
            "Layer (type)                 Output Shape              Param #   \n",
            "=================================================================\n",
            "keras_layer_5 (KerasLayer)   (None, 10)                7796426   \n",
            "_________________________________________________________________\n",
            "activation_5 (Activation)    (None, 10)                0         \n",
            "=================================================================\n",
            "Total params: 7,796,426\n",
            "Trainable params: 0\n",
            "Non-trainable params: 7,796,426\n",
            "_________________________________________________________________\n"
          ]
        }
      ]
    },
    {
      "cell_type": "code",
      "metadata": {
        "colab": {
          "base_uri": "https://localhost:8080/"
        },
        "id": "c4qVrki-Ezuz",
        "outputId": "c43211f0-9b22-4629-c201-3a559c957b71"
      },
      "source": [
        "np.sum(x_new_def == x_train)"
      ],
      "execution_count": null,
      "outputs": [
        {
          "name": "stderr",
          "output_type": "stream",
          "text": [
            "/usr/local/lib/python3.7/dist-packages/ipykernel_launcher.py:1: DeprecationWarning: elementwise comparison failed; this will raise an error in the future.\n",
            "  \"\"\"Entry point for launching an IPython kernel.\n"
          ]
        },
        {
          "data": {
            "text/plain": [
              "0"
            ]
          },
          "execution_count": 55,
          "metadata": {},
          "output_type": "execute_result"
        }
      ]
    },
    {
      "cell_type": "code",
      "metadata": {
        "id": "A37Kaf8cHK4A"
      },
      "source": [
        ""
      ],
      "execution_count": null,
      "outputs": []
    },
    {
      "cell_type": "code",
      "metadata": {
        "colab": {
          "base_uri": "https://localhost:8080/"
        },
        "id": "nVPGAr73Ezuz",
        "outputId": "5d323ebf-0602-4271-c3e8-c859d1ec56d7"
      },
      "source": [
        "defended_model.fit(x_new_def,y_new_def)"
      ],
      "execution_count": null,
      "outputs": [
        {
          "name": "stdout",
          "output_type": "stream",
          "text": [
            "2344/2344 [==============================] - 893s 380ms/step - loss: 0.4311 - accuracy: 0.9016\n"
          ]
        },
        {
          "data": {
            "text/plain": [
              "<keras.callbacks.History at 0x7f969c5db490>"
            ]
          },
          "execution_count": 111,
          "metadata": {},
          "output_type": "execute_result"
        }
      ]
    },
    {
      "cell_type": "code",
      "metadata": {
        "colab": {
          "base_uri": "https://localhost:8080/"
        },
        "id": "04aWKkS4Ezuz",
        "outputId": "e5ff5ca7-d2f9-4cf0-8313-023cf9cee357"
      },
      "source": [
        "wrapper_def = TensorFlowV2Classifier(defended_model, clip_values=(0., 1.),nb_classes=10,input_shape=(32,32,3) ,loss_object=defended_model.loss)\n",
        "\n",
        "fgsm = FastGradientMethod( wrapper,targeted=False,eps_step=0.001, eps=0.01 )\n",
        "# and now on adversarial examples\n",
        "x_test_adv_def = fgsm.generate( x_test_adv )\n",
        "acc =  defended_model.evaluate( x_test_adv_def, y_test_adv )\n",
        "print( 'loss and accuracy on adversarial examples: ', acc )"
      ],
      "execution_count": null,
      "outputs": [
        {
          "name": "stdout",
          "output_type": "stream",
          "text": [
            "4/4 [==============================] - 1s 275ms/step - loss: 3.9229 - accuracy: 0.4000\n",
            "loss and accuracy on adversarial examples:  [3.9228830337524414, 0.4000000059604645]\n"
          ]
        }
      ]
    },
    {
      "cell_type": "code",
      "metadata": {
        "id": "uJNJKMKdIG28"
      },
      "source": [
        "res_def.append({\"name\":\"Gaussian Data Augmentation\",\"accuracy\":acc[1],\"loss\":acc[0]})"
      ],
      "execution_count": null,
      "outputs": []
    },
    {
      "cell_type": "code",
      "metadata": {
        "colab": {
          "base_uri": "https://localhost:8080/",
          "height": 34,
          "referenced_widgets": [
            "7d3b70dc82ab4178a75361f06115e73f",
            "70348a492e62495f968b52a7b9b066b1",
            "5c7e4c5afff24269bc935dfcde664bb9",
            "2b33a9ad9c484a529ed4bf58764e98e8",
            "ff57e4ece91e453aa09762e7002da6da",
            "aa82043349fb483ba2e273ea1f304e73",
            "69ef7fda725745c0bb4b98d908a42f04",
            "4c65e884dde5442787117522408a53af",
            "20ba67e14bd54bc4957c28f56347ec1c",
            "cb36019f43e24d4cbd8507479f83db40",
            "4b72eae6fe654ddea6b3b9e335289525"
          ]
        },
        "id": "CcmmH9el_BEX",
        "outputId": "c774507d-6ff9-4c31-d6fa-8a7fec6d6d7d"
      },
      "source": [
        "from art.attacks.evasion import ProjectedGradientDescent\n",
        "pgd = ProjectedGradientDescent( wrapper,eps_step=0.001, eps=0.01, targeted=False,max_iter=10)\n",
        "x_test_adv_def = pgd.generate( x_test_adv )\n",
        "acc =  defended_model.evaluate( x_test_adv_def, y_test_adv )"
      ],
      "execution_count": null,
      "outputs": [
        {
          "data": {
            "application/vnd.jupyter.widget-view+json": {
              "model_id": "7d3b70dc82ab4178a75361f06115e73f",
              "version_major": 2,
              "version_minor": 0
            },
            "text/plain": [
              "PGD - Batches: 0it [00:00, ?it/s]"
            ]
          },
          "metadata": {},
          "output_type": "display_data"
        },
        {
          "name": "stdout",
          "output_type": "stream",
          "text": [
            "4/4 [==============================] - 1s 276ms/step - loss: 9.8838 - accuracy: 0.1500\n"
          ]
        }
      ]
    },
    {
      "cell_type": "code",
      "metadata": {
        "colab": {
          "base_uri": "https://localhost:8080/"
        },
        "id": "WFFP_qBRDEO8",
        "outputId": "f73a3f12-0eb4-48f5-ba59-c2ba64d93b5f"
      },
      "source": [
        "print( 'loss and accuracy on adversarial examples: ', acc )"
      ],
      "execution_count": null,
      "outputs": [
        {
          "name": "stdout",
          "output_type": "stream",
          "text": [
            "loss and accuracy on adversarial examples:  [9.883766174316406, 0.15000000596046448]\n"
          ]
        }
      ]
    },
    {
      "cell_type": "code",
      "metadata": {
        "id": "LqDkOtQf_aRF"
      },
      "source": [
        ""
      ],
      "execution_count": null,
      "outputs": []
    },
    {
      "cell_type": "code",
      "metadata": {
        "id": "kn5ZL57g_aeA"
      },
      "source": [
        "res_def.append({\"name\":\"Gaussian Data Augmentation on PGD\",\"accuracy\":acc[1],\"loss\":acc[0]})"
      ],
      "execution_count": null,
      "outputs": []
    },
    {
      "cell_type": "code",
      "metadata": {
        "colab": {
          "base_uri": "https://localhost:8080/"
        },
        "id": "vrNp2TDCNLcA",
        "outputId": "f0f1296f-2b86-46fa-97ff-007fc5813bb8"
      },
      "source": [
        "res_def"
      ],
      "execution_count": null,
      "outputs": [
        {
          "data": {
            "text/plain": [
              "[{'accuracy': 0.4000000059604645,\n",
              "  'loss': 3.9273157119750977,\n",
              "  'name': 'Feature Squezzing'},\n",
              " {'accuracy': 0.4000000059604645,\n",
              "  'loss': 3.9228830337524414,\n",
              "  'name': 'Gaussian Data Augmentation'},\n",
              " {'accuracy': 0.15000000596046448,\n",
              "  'loss': 9.883766174316406,\n",
              "  'name': 'Gaussian Data Augmentation on PGD'}]"
            ]
          },
          "execution_count": 65,
          "metadata": {},
          "output_type": "execute_result"
        }
      ]
    },
    {
      "cell_type": "markdown",
      "metadata": {
        "id": "Plwd-zAtEzuz"
      },
      "source": [
        "# JPEG Compression"
      ]
    },
    {
      "cell_type": "code",
      "metadata": {
        "id": "62fDoIiQp0ok"
      },
      "source": [
        "from art.defences.preprocessor import JpegCompression\n",
        "jpeg = JpegCompression(clip_values=(0.,255.), quality = 95, \n",
        "                       channels_first = True, apply_fit = True, \n",
        "                       apply_predict = True)\n"
      ],
      "execution_count": null,
      "outputs": []
    },
    {
      "cell_type": "code",
      "metadata": {
        "id": "8BBCAkaftZ0y"
      },
      "source": [
        "x_new_def,y_new_def = jpeg.__call__(x=x_train,y=y_train)"
      ],
      "execution_count": null,
      "outputs": []
    },
    {
      "cell_type": "code",
      "metadata": {
        "id": "zb5jcFHkunwz"
      },
      "source": [
        "defended_model = model_def()"
      ],
      "execution_count": null,
      "outputs": []
    },
    {
      "cell_type": "code",
      "metadata": {
        "colab": {
          "base_uri": "https://localhost:8080/"
        },
        "id": "WHDdURJmye8t",
        "outputId": "df9f3671-5e2d-4b62-a9ae-4b15d1f19274"
      },
      "source": [
        "x_new_def.shape"
      ],
      "execution_count": null,
      "outputs": [
        {
          "data": {
            "text/plain": [
              "(50000, 32, 32, 3)"
            ]
          },
          "execution_count": 88,
          "metadata": {},
          "output_type": "execute_result"
        }
      ]
    },
    {
      "cell_type": "code",
      "metadata": {
        "colab": {
          "base_uri": "https://localhost:8080/"
        },
        "id": "7bD4C6A6uuUk",
        "outputId": "2ca972b7-f5d2-460f-ca89-f182d329e138"
      },
      "source": [
        "defended_model.fit(x_new_def,y_new_def)"
      ],
      "execution_count": null,
      "outputs": [
        {
          "name": "stdout",
          "output_type": "stream",
          "text": [
            "1563/1563 [==============================] - 598s 382ms/step - loss: 8.4528 - accuracy: 0.1155\n"
          ]
        },
        {
          "data": {
            "text/plain": [
              "<keras.callbacks.History at 0x7f96902d1690>"
            ]
          },
          "execution_count": 89,
          "metadata": {},
          "output_type": "execute_result"
        }
      ]
    },
    {
      "cell_type": "code",
      "metadata": {
        "colab": {
          "base_uri": "https://localhost:8080/"
        },
        "id": "Y-fmdus6uyb5",
        "outputId": "46e60d05-da72-400e-d290-66d7fbe3cb10"
      },
      "source": [
        "# wrapper_def = TensorFlowV2Classifier(defended_model, clip_values=(0., 1.),nb_classes=10,input_shape=(32,32,3) ,loss_object=defended_model.loss)\n",
        "\n",
        "fgsm = FastGradientMethod( wrapper,targeted=False,eps_step=0.001, eps=0.01 )\n",
        "# and now on adversarial examples\n",
        "x_test_adv_def = fgsm.generate( x_test_adv )\n",
        "acc =  defended_model.evaluate( x_test_adv_def, y_test_adv )\n",
        "print( 'loss and accuracy on adversarial examples: ', acc )"
      ],
      "execution_count": null,
      "outputs": [
        {
          "name": "stdout",
          "output_type": "stream",
          "text": [
            "4/4 [==============================] - 1s 288ms/step - loss: 3.9229 - accuracy: 0.4000\n",
            "loss and accuracy on adversarial examples:  [3.9228830337524414, 0.4000000059604645]\n"
          ]
        }
      ]
    },
    {
      "cell_type": "code",
      "metadata": {
        "id": "5tnsKtEtx-7Q"
      },
      "source": [
        "res_def.append({\"name\":\"JPEG \",\"accuracy\":acc[1],\"loss\":acc[0]})"
      ],
      "execution_count": null,
      "outputs": []
    },
    {
      "cell_type": "code",
      "metadata": {
        "id": "7gelg4DQ7X04"
      },
      "source": [
        ""
      ],
      "execution_count": null,
      "outputs": []
    },
    {
      "cell_type": "code",
      "metadata": {
        "id": "f4pt1cch7amm"
      },
      "source": [
        ""
      ],
      "execution_count": null,
      "outputs": []
    },
    {
      "cell_type": "markdown",
      "metadata": {
        "id": "9qTLDttC7ava"
      },
      "source": [
        "# Label Smoothing"
      ]
    },
    {
      "cell_type": "code",
      "metadata": {
        "id": "xhQa1Qfl7ava"
      },
      "source": [
        "from art.defences.preprocessor import LabelSmoothing\n",
        "lbsm = LabelSmoothing(max_value = 0.9, apply_fit = True, apply_predict = False)\n"
      ],
      "execution_count": null,
      "outputs": []
    },
    {
      "cell_type": "code",
      "metadata": {
        "id": "Hi3nRdc97ava"
      },
      "source": [
        "x_new_def,y_new_def = lbsm.__call__(x=x_train,y=y_train)"
      ],
      "execution_count": null,
      "outputs": []
    },
    {
      "cell_type": "code",
      "metadata": {
        "id": "TUMx4WAI7ava"
      },
      "source": [
        "defended_model = model_def()"
      ],
      "execution_count": null,
      "outputs": []
    },
    {
      "cell_type": "code",
      "metadata": {
        "colab": {
          "base_uri": "https://localhost:8080/"
        },
        "id": "acU56ibg7ava",
        "outputId": "69b4ff46-7fc1-4b69-b682-802f38d09fad"
      },
      "source": [
        "x_new_def.shape"
      ],
      "execution_count": null,
      "outputs": [
        {
          "data": {
            "text/plain": [
              "(50000, 32, 32, 3)"
            ]
          },
          "execution_count": 95,
          "metadata": {},
          "output_type": "execute_result"
        }
      ]
    },
    {
      "cell_type": "code",
      "metadata": {
        "colab": {
          "base_uri": "https://localhost:8080/"
        },
        "id": "WGa2K5QV7ava",
        "outputId": "0c3bbb9e-7284-4126-bd34-f8029560de2d"
      },
      "source": [
        "defended_model.fit(x_new_def,y_new_def)"
      ],
      "execution_count": null,
      "outputs": [
        {
          "name": "stdout",
          "output_type": "stream",
          "text": [
            "1563/1563 [==============================] - 633s 404ms/step - loss: 1.2624 - accuracy: 1.0000\n"
          ]
        },
        {
          "data": {
            "text/plain": [
              "<keras.callbacks.History at 0x7f9696f820d0>"
            ]
          },
          "execution_count": 96,
          "metadata": {},
          "output_type": "execute_result"
        }
      ]
    },
    {
      "cell_type": "code",
      "metadata": {
        "colab": {
          "base_uri": "https://localhost:8080/"
        },
        "id": "V7lFIhZH_WuC",
        "outputId": "d239fa25-44d3-48d7-d2fa-e1cc5f7060b5"
      },
      "source": [
        "defended_model.evaluate(x_test[1:1000],y_test[1:1000])"
      ],
      "execution_count": null,
      "outputs": [
        {
          "name": "stdout",
          "output_type": "stream",
          "text": [
            "32/32 [==============================] - 12s 388ms/step - loss: 0.2087 - accuracy: 0.9459\n"
          ]
        },
        {
          "data": {
            "text/plain": [
              "[0.20868916809558868, 0.9459459185600281]"
            ]
          },
          "execution_count": 100,
          "metadata": {},
          "output_type": "execute_result"
        }
      ]
    },
    {
      "cell_type": "code",
      "metadata": {
        "colab": {
          "base_uri": "https://localhost:8080/"
        },
        "id": "YrOYtu8Z7avb",
        "outputId": "77968d6f-d151-4329-a231-483951e54987"
      },
      "source": [
        "# wrapper_def = TensorFlowV2Classifier(defended_model, clip_values=(0., 1.),nb_classes=10,input_shape=(32,32,3) ,loss_object=defended_model.loss)\n",
        "\n",
        "fgsm = FastGradientMethod( wrapper,targeted=False,eps_step=0.001, eps=0.01 )\n",
        "# and now on adversarial examples\n",
        "x_test_adv_def = fgsm.generate( x_test_adv )\n",
        "acc =  defended_model.evaluate( x_test_adv_def, y_test_adv )\n",
        "print( 'loss and accuracy on adversarial examples: ', acc )"
      ],
      "execution_count": null,
      "outputs": [
        {
          "name": "stdout",
          "output_type": "stream",
          "text": [
            "4/4 [==============================] - 2s 301ms/step - loss: 3.9229 - accuracy: 0.4000\n",
            "loss and accuracy on adversarial examples:  [3.9228830337524414, 0.4000000059604645]\n"
          ]
        }
      ]
    },
    {
      "cell_type": "code",
      "metadata": {
        "id": "C5lFQvEo7avb"
      },
      "source": [
        "res_def.append({\"name\":\"Label Smoothing \",\"accuracy\":acc[1],\"loss\":acc[0]})"
      ],
      "execution_count": null,
      "outputs": []
    },
    {
      "cell_type": "code",
      "metadata": {
        "colab": {
          "base_uri": "https://localhost:8080/"
        },
        "id": "EeEaMb-67avb",
        "outputId": "709f3ec3-70c0-471e-f00c-0b847f3175c7"
      },
      "source": [
        "res_def"
      ],
      "execution_count": null,
      "outputs": [
        {
          "data": {
            "text/plain": [
              "[{'accuracy': 0.4000000059604645,\n",
              "  'loss': 3.9273157119750977,\n",
              "  'name': 'Feature Squezzing'},\n",
              " {'accuracy': 0.4000000059604645,\n",
              "  'loss': 3.9228830337524414,\n",
              "  'name': 'Gaussian Data Augmentation'},\n",
              " {'accuracy': 0.15000000596046448,\n",
              "  'loss': 9.883766174316406,\n",
              "  'name': 'Gaussian Data Augmentation on PGD'},\n",
              " {'accuracy': 0.4000000059604645, 'loss': 3.9228830337524414, 'name': 'JPEG '},\n",
              " {'accuracy': 0.4000000059604645,\n",
              "  'loss': 3.9228830337524414,\n",
              "  'name': 'Label Smoothing '}]"
            ]
          },
          "execution_count": 101,
          "metadata": {},
          "output_type": "execute_result"
        }
      ]
    },
    {
      "cell_type": "code",
      "metadata": {
        "id": "oNwYQy-k_1dg"
      },
      "source": [
        ""
      ],
      "execution_count": null,
      "outputs": []
    },
    {
      "cell_type": "markdown",
      "metadata": {
        "id": "9BbHx-ew_1n7"
      },
      "source": [
        "# Resample\n",
        "\n",
        "Not applicable as it is for audio"
      ]
    },
    {
      "cell_type": "code",
      "metadata": {
        "id": "15mEpWUi_1n8"
      },
      "source": [
        "from art.defences.preprocessor import Resample\n",
        "resamp = Resample(sr_original = 5 , sr_new = 5, channels_first = False, apply_fit = False, apply_predict = True)\n"
      ],
      "execution_count": null,
      "outputs": []
    },
    {
      "cell_type": "code",
      "metadata": {
        "colab": {
          "base_uri": "https://localhost:8080/"
        },
        "id": "50jWZUHj5uLx",
        "outputId": "937cc73d-89ad-43f4-c6e2-f77655ba1ede"
      },
      "source": [
        "x_train.shape"
      ],
      "execution_count": null,
      "outputs": [
        {
          "data": {
            "text/plain": [
              "(50000, 32, 32, 3)"
            ]
          },
          "execution_count": 37,
          "metadata": {},
          "output_type": "execute_result"
        }
      ]
    },
    {
      "cell_type": "code",
      "metadata": {
        "colab": {
          "base_uri": "https://localhost:8080/",
          "height": 279
        },
        "id": "Q11jw0Xx_1n8",
        "outputId": "84b494a2-e6bc-42a4-db88-e78dfa9eacce"
      },
      "source": [
        "x_new_def,y_new_def = resamp.__call__(x=x_train,y=y_train)"
      ],
      "execution_count": null,
      "outputs": [
        {
          "ename": "ValueError",
          "evalue": "ignored",
          "output_type": "error",
          "traceback": [
            "\u001b[0;31m---------------------------------------------------------------------------\u001b[0m",
            "\u001b[0;31mValueError\u001b[0m                                Traceback (most recent call last)",
            "\u001b[0;32m<ipython-input-36-6587107c0e05>\u001b[0m in \u001b[0;36m<module>\u001b[0;34m()\u001b[0m\n\u001b[0;32m----> 1\u001b[0;31m \u001b[0mx_new_def\u001b[0m\u001b[0;34m,\u001b[0m\u001b[0my_new_def\u001b[0m \u001b[0;34m=\u001b[0m \u001b[0mresamp\u001b[0m\u001b[0;34m.\u001b[0m\u001b[0m__call__\u001b[0m\u001b[0;34m(\u001b[0m\u001b[0mx\u001b[0m\u001b[0;34m=\u001b[0m\u001b[0mx_train\u001b[0m\u001b[0;34m,\u001b[0m\u001b[0my\u001b[0m\u001b[0;34m=\u001b[0m\u001b[0my_train\u001b[0m\u001b[0;34m)\u001b[0m\u001b[0;34m\u001b[0m\u001b[0;34m\u001b[0m\u001b[0m\n\u001b[0m",
            "\u001b[0;32m/usr/local/lib/python3.7/dist-packages/art/defences/preprocessor/resample.py\u001b[0m in \u001b[0;36m__call__\u001b[0;34m(self, x, y)\u001b[0m\n\u001b[1;32m     78\u001b[0m \u001b[0;34m\u001b[0m\u001b[0m\n\u001b[1;32m     79\u001b[0m         \u001b[0;32mif\u001b[0m \u001b[0mx\u001b[0m\u001b[0;34m.\u001b[0m\u001b[0mndim\u001b[0m \u001b[0;34m!=\u001b[0m \u001b[0;36m3\u001b[0m\u001b[0;34m:\u001b[0m\u001b[0;34m\u001b[0m\u001b[0;34m\u001b[0m\u001b[0m\n\u001b[0;32m---> 80\u001b[0;31m             \u001b[0;32mraise\u001b[0m \u001b[0mValueError\u001b[0m\u001b[0;34m(\u001b[0m\u001b[0;34m\"Resampling can only be applied to temporal data across at least one channel.\"\u001b[0m\u001b[0;34m)\u001b[0m\u001b[0;34m\u001b[0m\u001b[0;34m\u001b[0m\u001b[0m\n\u001b[0m\u001b[1;32m     81\u001b[0m \u001b[0;34m\u001b[0m\u001b[0m\n\u001b[1;32m     82\u001b[0m         \u001b[0msample_index\u001b[0m \u001b[0;34m=\u001b[0m \u001b[0;36m2\u001b[0m \u001b[0;32mif\u001b[0m \u001b[0mself\u001b[0m\u001b[0;34m.\u001b[0m\u001b[0mchannels_first\u001b[0m \u001b[0;32melse\u001b[0m \u001b[0;36m1\u001b[0m\u001b[0;34m\u001b[0m\u001b[0;34m\u001b[0m\u001b[0m\n",
            "\u001b[0;31mValueError\u001b[0m: Resampling can only be applied to temporal data across at least one channel."
          ]
        }
      ]
    },
    {
      "cell_type": "code",
      "metadata": {
        "id": "TTRy3Gyt_1n9"
      },
      "source": [
        "defended_model = model_def()"
      ],
      "execution_count": null,
      "outputs": []
    },
    {
      "cell_type": "code",
      "metadata": {
        "colab": {
          "base_uri": "https://localhost:8080/"
        },
        "id": "gRb1FFZ7_1n9",
        "outputId": "69b4ff46-7fc1-4b69-b682-802f38d09fad"
      },
      "source": [
        "x_new_def.shape"
      ],
      "execution_count": null,
      "outputs": [
        {
          "data": {
            "text/plain": [
              "(50000, 32, 32, 3)"
            ]
          },
          "execution_count": 95,
          "metadata": {},
          "output_type": "execute_result"
        }
      ]
    },
    {
      "cell_type": "code",
      "metadata": {
        "colab": {
          "base_uri": "https://localhost:8080/"
        },
        "id": "_kZOb9QQ_1n9",
        "outputId": "0c3bbb9e-7284-4126-bd34-f8029560de2d"
      },
      "source": [
        "defended_model.fit(x_new_def,y_new_def)"
      ],
      "execution_count": null,
      "outputs": [
        {
          "name": "stdout",
          "output_type": "stream",
          "text": [
            "1563/1563 [==============================] - 633s 404ms/step - loss: 1.2624 - accuracy: 1.0000\n"
          ]
        },
        {
          "data": {
            "text/plain": [
              "<keras.callbacks.History at 0x7f9696f820d0>"
            ]
          },
          "execution_count": 96,
          "metadata": {},
          "output_type": "execute_result"
        }
      ]
    },
    {
      "cell_type": "code",
      "metadata": {
        "colab": {
          "base_uri": "https://localhost:8080/"
        },
        "id": "gHNr0EK__1n9",
        "outputId": "d239fa25-44d3-48d7-d2fa-e1cc5f7060b5"
      },
      "source": [
        "defended_model.evaluate(x_test[1:1000],y_test[1:1000])"
      ],
      "execution_count": null,
      "outputs": [
        {
          "name": "stdout",
          "output_type": "stream",
          "text": [
            "32/32 [==============================] - 12s 388ms/step - loss: 0.2087 - accuracy: 0.9459\n"
          ]
        },
        {
          "data": {
            "text/plain": [
              "[0.20868916809558868, 0.9459459185600281]"
            ]
          },
          "execution_count": 100,
          "metadata": {},
          "output_type": "execute_result"
        }
      ]
    },
    {
      "cell_type": "code",
      "metadata": {
        "colab": {
          "base_uri": "https://localhost:8080/"
        },
        "id": "myOz9UNB_1n9",
        "outputId": "77968d6f-d151-4329-a231-483951e54987"
      },
      "source": [
        "# wrapper_def = TensorFlowV2Classifier(defended_model, clip_values=(0., 1.),nb_classes=10,input_shape=(32,32,3) ,loss_object=defended_model.loss)\n",
        "\n",
        "fgsm = FastGradientMethod( wrapper,targeted=False,eps_step=0.001, eps=0.01 )\n",
        "# and now on adversarial examples\n",
        "x_test_adv_def = fgsm.generate( x_test_adv )\n",
        "acc =  defended_model.evaluate( x_test_adv_def, y_test_adv )\n",
        "print( 'loss and accuracy on adversarial examples: ', acc )"
      ],
      "execution_count": null,
      "outputs": [
        {
          "name": "stdout",
          "output_type": "stream",
          "text": [
            "4/4 [==============================] - 2s 301ms/step - loss: 3.9229 - accuracy: 0.4000\n",
            "loss and accuracy on adversarial examples:  [3.9228830337524414, 0.4000000059604645]\n"
          ]
        }
      ]
    },
    {
      "cell_type": "code",
      "metadata": {
        "id": "N4qwdrn__1n9"
      },
      "source": [
        "res_def.append({\"name\":\"Label Smoothing \",\"accuracy\":acc[1],\"loss\":acc[0]})"
      ],
      "execution_count": null,
      "outputs": []
    },
    {
      "cell_type": "code",
      "metadata": {
        "colab": {
          "base_uri": "https://localhost:8080/"
        },
        "id": "AJxPENhv_1n9",
        "outputId": "5707a4ea-8049-46d5-bc9c-b0e5ab1a7ee7"
      },
      "source": [
        "res_def"
      ],
      "execution_count": null,
      "outputs": [
        {
          "data": {
            "text/plain": [
              "[{'accuracy': 0.4000000059604645,\n",
              "  'loss': 3.9273157119750977,\n",
              "  'name': 'Feature Squezzing'},\n",
              " {'accuracy': 0.4000000059604645,\n",
              "  'loss': 3.9228830337524414,\n",
              "  'name': 'Gaussian Data Augmentation'},\n",
              " {'accuracy': 0.15000000596046448,\n",
              "  'loss': 9.883766174316406,\n",
              "  'name': 'Gaussian Data Augmentation on PGD'},\n",
              " {'accuracy': 0.4000000059604645, 'loss': 3.9228830337524414, 'name': 'JPEG '},\n",
              " {'accuracy': 0.4000000059604645,\n",
              "  'loss': 3.9228830337524414,\n",
              "  'name': 'Label Smoothing '}]"
            ]
          },
          "execution_count": 114,
          "metadata": {},
          "output_type": "execute_result"
        }
      ]
    },
    {
      "cell_type": "markdown",
      "metadata": {
        "id": "xsIdYRya7Ahm"
      },
      "source": [
        "# Spatial Smoothing"
      ]
    },
    {
      "cell_type": "code",
      "metadata": {
        "id": "9nfce3I8DOSm"
      },
      "source": [
        "res_def = [{'accuracy': 0.4000000059604645,\n",
        "  'loss': 3.9273157119750977,\n",
        "  'name': 'Feature Squezzing'},\n",
        " {'accuracy': 0.4000000059604645,\n",
        "  'loss': 3.9228830337524414,\n",
        "  'name': 'Gaussian Data Augmentation'},\n",
        " {'accuracy': 0.15000000596046448,\n",
        "  'loss': 9.883766174316406,\n",
        "  'name': 'Gaussian Data Augmentation on PGD'},\n",
        " {'accuracy': 0.4000000059604645, 'loss': 3.9228830337524414, 'name': 'JPEG '},\n",
        " {'accuracy': 0.4000000059604645,\n",
        "  'loss': 3.9228830337524414,\n",
        "  'name': 'Label Smoothing '}]"
      ],
      "execution_count": null,
      "outputs": []
    },
    {
      "cell_type": "code",
      "metadata": {
        "id": "_NIIX4E883wZ"
      },
      "source": [
        "!pip install tensorflow_addons"
      ],
      "execution_count": null,
      "outputs": []
    },
    {
      "cell_type": "code",
      "metadata": {
        "id": "LjX15xj38QfV"
      },
      "source": [
        "from art.defences.preprocessor import SpatialSmoothing\n",
        "sstv = SpatialSmoothing(window_size = 3, channels_first = False, \n",
        "                                    clip_values = (0.,1.), \n",
        "                                    apply_fit = False, apply_predict = True)\n"
      ],
      "execution_count": null,
      "outputs": []
    },
    {
      "cell_type": "code",
      "metadata": {
        "id": "LQjonqFp8QfW"
      },
      "source": [
        "x_new_def,y_new_def = sstv.__call__(x=x_train,y=y_train)"
      ],
      "execution_count": null,
      "outputs": []
    },
    {
      "cell_type": "code",
      "metadata": {
        "id": "uYGHzpdg8QfW"
      },
      "source": [
        "defended_model = model_def()"
      ],
      "execution_count": null,
      "outputs": []
    },
    {
      "cell_type": "code",
      "metadata": {
        "colab": {
          "base_uri": "https://localhost:8080/"
        },
        "id": "lHHqCIgF8QfW",
        "outputId": "4e724120-a7b0-421f-92f2-d5918af007f2"
      },
      "source": [
        "defended_model.summary()"
      ],
      "execution_count": null,
      "outputs": [
        {
          "name": "stdout",
          "output_type": "stream",
          "text": [
            "Model: \"sequential_5\"\n",
            "_________________________________________________________________\n",
            "Layer (type)                 Output Shape              Param #   \n",
            "=================================================================\n",
            "keras_layer_5 (KerasLayer)   (None, 10)                7796426   \n",
            "_________________________________________________________________\n",
            "activation_5 (Activation)    (None, 10)                0         \n",
            "=================================================================\n",
            "Total params: 7,796,426\n",
            "Trainable params: 0\n",
            "Non-trainable params: 7,796,426\n",
            "_________________________________________________________________\n"
          ]
        }
      ]
    },
    {
      "cell_type": "code",
      "metadata": {
        "colab": {
          "base_uri": "https://localhost:8080/"
        },
        "id": "u0VyeDIB8QfW",
        "outputId": "97720908-70e5-4a46-c3b7-c4c36dd68274"
      },
      "source": [
        "np.sum(x_new_def != x_train)"
      ],
      "execution_count": null,
      "outputs": [
        {
          "data": {
            "text/plain": [
              "98373634"
            ]
          },
          "execution_count": 38,
          "metadata": {},
          "output_type": "execute_result"
        }
      ]
    },
    {
      "cell_type": "code",
      "metadata": {
        "id": "qvnpXHNg8QfW"
      },
      "source": [
        ""
      ],
      "execution_count": null,
      "outputs": []
    },
    {
      "cell_type": "code",
      "metadata": {
        "colab": {
          "base_uri": "https://localhost:8080/"
        },
        "id": "UIi-trPZ8QfW",
        "outputId": "69825c12-177a-4183-b3f2-70c18f272fcd"
      },
      "source": [
        "defended_model.fit(x_new_def,y_new_def)"
      ],
      "execution_count": null,
      "outputs": [
        {
          "name": "stdout",
          "output_type": "stream",
          "text": [
            "1563/1563 [==============================] - 588s 375ms/step - loss: 0.3276 - accuracy: 0.9020\n"
          ]
        },
        {
          "data": {
            "text/plain": [
              "<keras.callbacks.History at 0x7fcbf7f54ed0>"
            ]
          },
          "execution_count": 39,
          "metadata": {},
          "output_type": "execute_result"
        }
      ]
    },
    {
      "cell_type": "code",
      "metadata": {
        "colab": {
          "base_uri": "https://localhost:8080/"
        },
        "id": "MIUuB0pO8QfW",
        "outputId": "31560af9-7e02-49cb-a3c2-132c30a81038"
      },
      "source": [
        "# wrapper_def = TensorFlowV2Classifier(defended_model, clip_values=(0., 1.),nb_classes=10,input_shape=(32,32,3) ,loss_object=defended_model.loss)\n",
        "\n",
        "fgsm = FastGradientMethod( wrapper,targeted=False,eps_step=0.001, eps=0.01 )\n",
        "# and now on adversarial examples\n",
        "x_test_adv_def = fgsm.generate( x_test_adv )\n",
        "acc =  defended_model.evaluate( x_test_adv_def, y_test_adv )\n",
        "print( 'loss and accuracy on adversarial examples: ', acc )"
      ],
      "execution_count": null,
      "outputs": [
        {
          "name": "stdout",
          "output_type": "stream",
          "text": [
            "4/4 [==============================] - 1s 266ms/step - loss: 3.9229 - accuracy: 0.4000\n",
            "loss and accuracy on adversarial examples:  [3.9228830337524414, 0.4000000059604645]\n"
          ]
        }
      ]
    },
    {
      "cell_type": "code",
      "metadata": {
        "id": "iZ-5bPuT8QfW"
      },
      "source": [
        "res_def.append({\"name\":\"Spatial Smoothing\",\"accuracy\":acc[1],\"loss\":acc[0]})"
      ],
      "execution_count": null,
      "outputs": []
    },
    {
      "cell_type": "code",
      "metadata": {
        "colab": {
          "base_uri": "https://localhost:8080/",
          "height": 34
        },
        "id": "5w5TBroA8QfX",
        "outputId": "59545ec7-3d4b-4cd8-dc45-52988d1e9736"
      },
      "source": [
        "from art.attacks.evasion import ProjectedGradientDescent\n",
        "pgd = ProjectedGradientDescent( wrapper,eps_step=0.001, eps=0.01, targeted=False,max_iter=10)\n",
        "x_test_adv_def = pgd.generate( x_test_adv )\n",
        "acc =  defended_model.evaluate( x_test_adv_def, y_test_adv )"
      ],
      "execution_count": null,
      "outputs": [
        {
          "data": {
            "application/vnd.jupyter.widget-view+json": {
              "model_id": "c9d4e28bb5b44ef9b1186b70814d3eca",
              "version_major": 2,
              "version_minor": 0
            },
            "text/plain": [
              "PGD - Batches: 0it [00:00, ?it/s]"
            ]
          },
          "metadata": {},
          "output_type": "display_data"
        },
        {
          "name": "stdout",
          "output_type": "stream",
          "text": [
            "4/4 [==============================] - 1s 265ms/step - loss: 9.8838 - accuracy: 0.1500\n"
          ]
        }
      ]
    },
    {
      "cell_type": "code",
      "metadata": {
        "colab": {
          "base_uri": "https://localhost:8080/"
        },
        "id": "051dUJuB8QfX",
        "outputId": "f6b87a26-983c-4364-f2c1-804aa4badb45"
      },
      "source": [
        "print( 'loss and accuracy on adversarial examples: ', acc )"
      ],
      "execution_count": null,
      "outputs": [
        {
          "name": "stdout",
          "output_type": "stream",
          "text": [
            "loss and accuracy on adversarial examples:  [9.883766174316406, 0.15000000596046448]\n"
          ]
        }
      ]
    },
    {
      "cell_type": "code",
      "metadata": {
        "id": "CX8yZXt08QfX"
      },
      "source": [
        ""
      ],
      "execution_count": null,
      "outputs": []
    },
    {
      "cell_type": "code",
      "metadata": {
        "id": "maRfAGMy8QfX"
      },
      "source": [
        "res_def.append({\"name\":\"Spatial Smoothing on PGD\",\"accuracy\":acc[1],\"loss\":acc[0]})"
      ],
      "execution_count": null,
      "outputs": []
    },
    {
      "cell_type": "code",
      "metadata": {
        "colab": {
          "base_uri": "https://localhost:8080/",
          "height": 119
        },
        "id": "T_XCG-hGHBig",
        "outputId": "2d060448-6d93-43d0-f49c-39c8b1d9f776"
      },
      "source": [
        "from art.attacks.evasion import SaliencyMapMethod\n",
        "scm = SaliencyMapMethod(wrapper, theta=0.1, gamma=1.0, batch_size=20)\n",
        "x_test_adv_def = scm.generate( x_test_adv )\n",
        "acc =  defended_model.evaluate( x_test_adv_def, y_test_adv )"
      ],
      "execution_count": null,
      "outputs": [
        {
          "data": {
            "application/vnd.jupyter.widget-view+json": {
              "model_id": "f00b8e9834cc4d23be538aa4b3d17105",
              "version_major": 2,
              "version_minor": 0
            },
            "text/plain": [
              "JSMA:   0%|          | 0/5 [00:00<?, ?it/s]"
            ]
          },
          "metadata": {},
          "output_type": "display_data"
        },
        {
          "name": "stdout",
          "output_type": "stream",
          "text": [
            "WARNING:tensorflow:Calling GradientTape.gradient on a persistent tape inside its context is significantly less efficient than calling it outside the context (it causes the gradient ops to be recorded on the tape, leading to increased CPU and memory usage). Only call GradientTape.gradient inside the context if you actually want to trace the gradient in order to compute higher order derivatives.\n"
          ]
        },
        {
          "name": "stderr",
          "output_type": "stream",
          "text": [
            "WARNING:tensorflow:Calling GradientTape.gradient on a persistent tape inside its context is significantly less efficient than calling it outside the context (it causes the gradient ops to be recorded on the tape, leading to increased CPU and memory usage). Only call GradientTape.gradient inside the context if you actually want to trace the gradient in order to compute higher order derivatives.\n"
          ]
        },
        {
          "name": "stdout",
          "output_type": "stream",
          "text": [
            "4/4 [==============================] - 1s 268ms/step - loss: 1.2184 - accuracy: 0.0200\n"
          ]
        }
      ]
    },
    {
      "cell_type": "code",
      "metadata": {
        "id": "qO7WD_M9JfBR"
      },
      "source": [
        "res_def.append({\"name\":\"Spatial Smoothing - Saliency Map Attack\",\"accuracy\":acc[1],\"loss\":acc[0]})"
      ],
      "execution_count": null,
      "outputs": []
    },
    {
      "cell_type": "code",
      "metadata": {
        "colab": {
          "base_uri": "https://localhost:8080/"
        },
        "id": "z-E3wWKZ8QfX",
        "outputId": "c5fc3f7e-3775-4d2c-a22f-b30f27649457"
      },
      "source": [
        "res_def"
      ],
      "execution_count": null,
      "outputs": [
        {
          "data": {
            "text/plain": [
              "[{'accuracy': 0.4000000059604645,\n",
              "  'loss': 3.9273157119750977,\n",
              "  'name': 'Feature Squezzing'},\n",
              " {'accuracy': 0.4000000059604645,\n",
              "  'loss': 3.9228830337524414,\n",
              "  'name': 'Gaussian Data Augmentation'},\n",
              " {'accuracy': 0.15000000596046448,\n",
              "  'loss': 9.883766174316406,\n",
              "  'name': 'Gaussian Data Augmentation on PGD'},\n",
              " {'accuracy': 0.4000000059604645, 'loss': 3.9228830337524414, 'name': 'JPEG '},\n",
              " {'accuracy': 0.4000000059604645,\n",
              "  'loss': 3.9228830337524414,\n",
              "  'name': 'Label Smoothing '},\n",
              " {'accuracy': 0.15000000596046448,\n",
              "  'loss': 9.883766174316406,\n",
              "  'name': 'Spatial Smoothing on PGD'},\n",
              " {'accuracy': 0.15000000596046448,\n",
              "  'loss': 9.883766174316406,\n",
              "  'name': 'Spatial Smoothing'},\n",
              " {'accuracy': 0.4000000059604645,\n",
              "  'loss': 3.9228830337524414,\n",
              "  'name': 'Total Variance Minimization'},\n",
              " {'accuracy': 0.019999999552965164,\n",
              "  'loss': 1.2184207439422607,\n",
              "  'name': 'Spatial Smoothing - Saliency Map Attack'}]"
            ]
          },
          "execution_count": 44,
          "metadata": {},
          "output_type": "execute_result"
        }
      ]
    },
    {
      "cell_type": "code",
      "metadata": {
        "id": "hZxOhQrTDoyv"
      },
      "source": [
        ""
      ],
      "execution_count": null,
      "outputs": []
    },
    {
      "cell_type": "markdown",
      "metadata": {
        "id": "ikAW6ffADpBX"
      },
      "source": [
        "# ThermometerEncoding"
      ]
    },
    {
      "cell_type": "code",
      "metadata": {
        "id": "I3lkr_IDDpBX"
      },
      "source": [
        "# res_def = [{'accuracy': 0.4000000059604645,\n",
        "#   'loss': 3.9273157119750977,\n",
        "#   'name': 'Feature Squezzing'},\n",
        "#  {'accuracy': 0.4000000059604645,\n",
        "#   'loss': 3.9228830337524414,\n",
        "#   'name': 'Gaussian Data Augmentation'},\n",
        "#  {'accuracy': 0.15000000596046448,\n",
        "#   'loss': 9.883766174316406,\n",
        "#   'name': 'Gaussian Data Augmentation on PGD'},\n",
        "#  {'accuracy': 0.4000000059604645, 'loss': 3.9228830337524414, 'name': 'JPEG '},\n",
        "#  {'accuracy': 0.4000000059604645,\n",
        "#   'loss': 3.9228830337524414,\n",
        "#   'name': 'Label Smoothing '}]"
      ],
      "execution_count": null,
      "outputs": []
    },
    {
      "cell_type": "code",
      "metadata": {
        "id": "zT4KxVfTDpBY"
      },
      "source": [
        "!pip install tensorflow_addons"
      ],
      "execution_count": null,
      "outputs": []
    },
    {
      "cell_type": "code",
      "metadata": {
        "id": "hiBVpWXTDpBY"
      },
      "source": [
        "from art.defences.preprocessor import ThermometerEncoding\n",
        "thenc = ThermometerEncoding(clip_values = (0.,1.), num_space = 10, \n",
        "                            channels_first = False, apply_fit = True, \n",
        "                            apply_predict = False)\n"
      ],
      "execution_count": null,
      "outputs": []
    },
    {
      "cell_type": "code",
      "metadata": {
        "id": "UDCX31VcDpBY"
      },
      "source": [
        "x_new_def,y_new_def = thenc.__call__(x=x_train,y=y_train)"
      ],
      "execution_count": null,
      "outputs": []
    },
    {
      "cell_type": "code",
      "metadata": {
        "id": "y7HyqnfPDpBY"
      },
      "source": [
        "defended_model = model_def()"
      ],
      "execution_count": null,
      "outputs": []
    },
    {
      "cell_type": "code",
      "metadata": {
        "colab": {
          "base_uri": "https://localhost:8080/"
        },
        "id": "Q3twfkfHDpBY",
        "outputId": "4e724120-a7b0-421f-92f2-d5918af007f2"
      },
      "source": [
        "defended_model.summary()"
      ],
      "execution_count": null,
      "outputs": [
        {
          "name": "stdout",
          "output_type": "stream",
          "text": [
            "Model: \"sequential_5\"\n",
            "_________________________________________________________________\n",
            "Layer (type)                 Output Shape              Param #   \n",
            "=================================================================\n",
            "keras_layer_5 (KerasLayer)   (None, 10)                7796426   \n",
            "_________________________________________________________________\n",
            "activation_5 (Activation)    (None, 10)                0         \n",
            "=================================================================\n",
            "Total params: 7,796,426\n",
            "Trainable params: 0\n",
            "Non-trainable params: 7,796,426\n",
            "_________________________________________________________________\n"
          ]
        }
      ]
    },
    {
      "cell_type": "code",
      "metadata": {
        "colab": {
          "base_uri": "https://localhost:8080/"
        },
        "id": "fspv0805DpBY",
        "outputId": "69e7fa73-2643-4cd7-fec6-ef1a703fb19c"
      },
      "source": [
        "np.sum(x_new_def != x_train)"
      ],
      "execution_count": null,
      "outputs": [
        {
          "data": {
            "text/plain": [
              "98373634"
            ]
          },
          "execution_count": 24,
          "metadata": {},
          "output_type": "execute_result"
        }
      ]
    },
    {
      "cell_type": "code",
      "metadata": {
        "id": "cpmamzPbDpBY"
      },
      "source": [
        ""
      ],
      "execution_count": null,
      "outputs": []
    },
    {
      "cell_type": "code",
      "metadata": {
        "colab": {
          "base_uri": "https://localhost:8080/"
        },
        "id": "kMlIJeLYDpBY",
        "outputId": "88de5203-4a93-42d8-af3f-fa4dede860f7"
      },
      "source": [
        "defended_model.fit(x_new_def,y_new_def)"
      ],
      "execution_count": null,
      "outputs": [
        {
          "name": "stdout",
          "output_type": "stream",
          "text": [
            "1563/1563 [==============================] - 576s 368ms/step - loss: 0.3276 - accuracy: 0.9020\n"
          ]
        },
        {
          "data": {
            "text/plain": [
              "<keras.callbacks.History at 0x7f228d0d5490>"
            ]
          },
          "execution_count": 25,
          "metadata": {},
          "output_type": "execute_result"
        }
      ]
    },
    {
      "cell_type": "code",
      "metadata": {
        "colab": {
          "base_uri": "https://localhost:8080/"
        },
        "id": "75fe3g2ADpBY",
        "outputId": "31560af9-7e02-49cb-a3c2-132c30a81038"
      },
      "source": [
        "# wrapper_def = TensorFlowV2Classifier(defended_model, clip_values=(0., 1.),nb_classes=10,input_shape=(32,32,3) ,loss_object=defended_model.loss)\n",
        "\n",
        "fgsm = FastGradientMethod( wrapper,targeted=False,eps_step=0.001, eps=0.01 )\n",
        "# and now on adversarial examples\n",
        "x_test_adv_def = fgsm.generate( x_test_adv )\n",
        "acc =  defended_model.evaluate( x_test_adv_def, y_test_adv )\n",
        "print( 'loss and accuracy on adversarial examples: ', acc )"
      ],
      "execution_count": null,
      "outputs": [
        {
          "name": "stdout",
          "output_type": "stream",
          "text": [
            "4/4 [==============================] - 1s 266ms/step - loss: 3.9229 - accuracy: 0.4000\n",
            "loss and accuracy on adversarial examples:  [3.9228830337524414, 0.4000000059604645]\n"
          ]
        }
      ]
    },
    {
      "cell_type": "code",
      "metadata": {
        "id": "PdI3QpkiDpBZ"
      },
      "source": [
        "res_def.append({\"name\":\"Spatial Smoothing\",\"accuracy\":acc[1],\"loss\":acc[0]})"
      ],
      "execution_count": null,
      "outputs": []
    },
    {
      "cell_type": "code",
      "metadata": {
        "colab": {
          "base_uri": "https://localhost:8080/",
          "height": 34
        },
        "id": "Lz-z4u2QDpBZ",
        "outputId": "59545ec7-3d4b-4cd8-dc45-52988d1e9736"
      },
      "source": [
        "from art.attacks.evasion import ProjectedGradientDescent\n",
        "pgd = ProjectedGradientDescent( wrapper,eps_step=0.001, eps=0.01, targeted=False,max_iter=10)\n",
        "x_test_adv_def = pgd.generate( x_test_adv )\n",
        "acc =  defended_model.evaluate( x_test_adv_def, y_test_adv )"
      ],
      "execution_count": null,
      "outputs": [
        {
          "data": {
            "application/vnd.jupyter.widget-view+json": {
              "model_id": "c9d4e28bb5b44ef9b1186b70814d3eca",
              "version_major": 2,
              "version_minor": 0
            },
            "text/plain": [
              "PGD - Batches: 0it [00:00, ?it/s]"
            ]
          },
          "metadata": {},
          "output_type": "display_data"
        },
        {
          "name": "stdout",
          "output_type": "stream",
          "text": [
            "4/4 [==============================] - 1s 265ms/step - loss: 9.8838 - accuracy: 0.1500\n"
          ]
        }
      ]
    },
    {
      "cell_type": "code",
      "metadata": {
        "colab": {
          "base_uri": "https://localhost:8080/"
        },
        "id": "C3BDQkkhDpBZ",
        "outputId": "f6b87a26-983c-4364-f2c1-804aa4badb45"
      },
      "source": [
        "print( 'loss and accuracy on adversarial examples: ', acc )"
      ],
      "execution_count": null,
      "outputs": [
        {
          "name": "stdout",
          "output_type": "stream",
          "text": [
            "loss and accuracy on adversarial examples:  [9.883766174316406, 0.15000000596046448]\n"
          ]
        }
      ]
    },
    {
      "cell_type": "code",
      "metadata": {
        "id": "e0WBrEM7DpBZ"
      },
      "source": [
        ""
      ],
      "execution_count": null,
      "outputs": []
    },
    {
      "cell_type": "code",
      "metadata": {
        "id": "KbmXYmYEDpBZ"
      },
      "source": [
        "res_def.append({\"name\":\"Spatial Smoothing on PGD\",\"accuracy\":acc[1],\"loss\":acc[0]})"
      ],
      "execution_count": null,
      "outputs": []
    },
    {
      "cell_type": "code",
      "metadata": {
        "colab": {
          "base_uri": "https://localhost:8080/"
        },
        "id": "dJLXSU7yDpBZ",
        "outputId": "80519126-dfa7-4420-bd10-cf911b71bb42"
      },
      "source": [
        "res_def"
      ],
      "execution_count": null,
      "outputs": [
        {
          "data": {
            "text/plain": [
              "[{'accuracy': 0.4000000059604645,\n",
              "  'loss': 3.9273157119750977,\n",
              "  'name': 'Feature Squezzing'},\n",
              " {'accuracy': 0.4000000059604645,\n",
              "  'loss': 3.9228830337524414,\n",
              "  'name': 'Gaussian Data Augmentation'},\n",
              " {'accuracy': 0.15000000596046448,\n",
              "  'loss': 9.883766174316406,\n",
              "  'name': 'Gaussian Data Augmentation on PGD'},\n",
              " {'accuracy': 0.4000000059604645, 'loss': 3.9228830337524414, 'name': 'JPEG '},\n",
              " {'accuracy': 0.4000000059604645,\n",
              "  'loss': 3.9228830337524414,\n",
              "  'name': 'Label Smoothing '},\n",
              " {'accuracy': 0.15000000596046448,\n",
              "  'loss': 9.883766174316406,\n",
              "  'name': 'Spatial Smoothing on PGD'},\n",
              " {'accuracy': 0.15000000596046448,\n",
              "  'loss': 9.883766174316406,\n",
              "  'name': 'Spatial Smoothing'}]"
            ]
          },
          "execution_count": 39,
          "metadata": {},
          "output_type": "execute_result"
        }
      ]
    },
    {
      "cell_type": "markdown",
      "metadata": {
        "id": "7mhNDtni2C3C"
      },
      "source": [
        ""
      ]
    },
    {
      "cell_type": "code",
      "metadata": {
        "id": "fHoFgZU_2FRb"
      },
      "source": [
        ""
      ],
      "execution_count": null,
      "outputs": []
    },
    {
      "cell_type": "markdown",
      "metadata": {
        "id": "rzYYoh2K2FYX"
      },
      "source": [
        "# Total Variance Minimization"
      ]
    },
    {
      "cell_type": "code",
      "metadata": {
        "id": "dCLTwlwe2FYX"
      },
      "source": [
        "res_def = [{'accuracy': 0.4000000059604645,\n",
        "  'loss': 3.9273157119750977,\n",
        "  'name': 'Feature Squezzing'},\n",
        " {'accuracy': 0.4000000059604645,\n",
        "  'loss': 3.9228830337524414,\n",
        "  'name': 'Gaussian Data Augmentation'},\n",
        " {'accuracy': 0.15000000596046448,\n",
        "  'loss': 9.883766174316406,\n",
        "  'name': 'Gaussian Data Augmentation on PGD'},\n",
        " {'accuracy': 0.4000000059604645, 'loss': 3.9228830337524414, 'name': 'JPEG '},\n",
        " {'accuracy': 0.4000000059604645,\n",
        "  'loss': 3.9228830337524414,\n",
        "  'name': 'Label Smoothing '},\n",
        " {'accuracy': 0.15000000596046448,\n",
        "  'loss': 9.883766174316406,\n",
        "  'name': 'Spatial Smoothing on PGD'},\n",
        " {'accuracy': 0.15000000596046448,\n",
        "  'loss': 9.883766174316406,\n",
        "  'name': 'Spatial Smoothing'}]"
      ],
      "execution_count": null,
      "outputs": []
    },
    {
      "cell_type": "code",
      "metadata": {
        "id": "OGq0sD-w2FYX"
      },
      "source": [
        "!pip install tensorflow_addons"
      ],
      "execution_count": null,
      "outputs": []
    },
    {
      "cell_type": "code",
      "metadata": {
        "id": "G3r_MPwo2FYX"
      },
      "source": [
        "from art.defences.preprocessor import TotalVarMin\n",
        "thenc = TotalVarMin(prob = 0.3, norm = 2, lamb = 0.5, solver = 'L-BFGS-B', \n",
        "                    max_iter = 10, clip_values = (0.,1.), apply_fit = True, apply_predict = False)\n"
      ],
      "execution_count": null,
      "outputs": []
    },
    {
      "cell_type": "code",
      "metadata": {
        "id": "BZSwQz3T2FYX"
      },
      "source": [
        "x_new_def,y_new_def = thenc.__call__(x=x_train,y=y_train)"
      ],
      "execution_count": null,
      "outputs": []
    },
    {
      "cell_type": "code",
      "metadata": {
        "id": "olW7n_Ih2FYY"
      },
      "source": [
        "defended_model = model_def()"
      ],
      "execution_count": null,
      "outputs": []
    },
    {
      "cell_type": "code",
      "metadata": {
        "colab": {
          "base_uri": "https://localhost:8080/"
        },
        "id": "sFwgilUx2FYY",
        "outputId": "4e724120-a7b0-421f-92f2-d5918af007f2"
      },
      "source": [
        "defended_model.summary()"
      ],
      "execution_count": null,
      "outputs": [
        {
          "name": "stdout",
          "output_type": "stream",
          "text": [
            "Model: \"sequential_5\"\n",
            "_________________________________________________________________\n",
            "Layer (type)                 Output Shape              Param #   \n",
            "=================================================================\n",
            "keras_layer_5 (KerasLayer)   (None, 10)                7796426   \n",
            "_________________________________________________________________\n",
            "activation_5 (Activation)    (None, 10)                0         \n",
            "=================================================================\n",
            "Total params: 7,796,426\n",
            "Trainable params: 0\n",
            "Non-trainable params: 7,796,426\n",
            "_________________________________________________________________\n"
          ]
        }
      ]
    },
    {
      "cell_type": "code",
      "metadata": {
        "colab": {
          "base_uri": "https://localhost:8080/"
        },
        "id": "foEboDl_2FYY",
        "outputId": "8e0e098f-2fd5-43c1-bac2-d6cf55085feb"
      },
      "source": [
        "np.sum(x_new_def != x_train)"
      ],
      "execution_count": null,
      "outputs": [
        {
          "data": {
            "text/plain": [
              "153548106"
            ]
          },
          "execution_count": 34,
          "metadata": {},
          "output_type": "execute_result"
        }
      ]
    },
    {
      "cell_type": "code",
      "metadata": {
        "id": "hgYfsXQw2FYY"
      },
      "source": [
        ""
      ],
      "execution_count": null,
      "outputs": []
    },
    {
      "cell_type": "code",
      "metadata": {
        "colab": {
          "base_uri": "https://localhost:8080/"
        },
        "id": "VjZQuPil2FYY",
        "outputId": "a9c35547-c0fb-4385-c5a7-a2ad1f392a58"
      },
      "source": [
        "defended_model.fit(x_new_def,y_new_def)"
      ],
      "execution_count": null,
      "outputs": [
        {
          "name": "stdout",
          "output_type": "stream",
          "text": [
            "1563/1563 [==============================] - 585s 374ms/step - loss: 4.6040 - accuracy: 0.2630\n"
          ]
        },
        {
          "data": {
            "text/plain": [
              "<keras.callbacks.History at 0x7fcbfb89b310>"
            ]
          },
          "execution_count": 23,
          "metadata": {},
          "output_type": "execute_result"
        }
      ]
    },
    {
      "cell_type": "code",
      "metadata": {
        "colab": {
          "base_uri": "https://localhost:8080/"
        },
        "id": "CB2nwg7d2FYY",
        "outputId": "7370cd9b-a9bf-46db-ac7a-80a64cfc2c5f"
      },
      "source": [
        "# wrapper_def = TensorFlowV2Classifier(defended_model, clip_values=(0., 1.),nb_classes=10,input_shape=(32,32,3) ,loss_object=defended_model.loss)\n",
        "\n",
        "fgsm = FastGradientMethod( wrapper,targeted=False,eps_step=0.001, eps=0.01 )\n",
        "# and now on adversarial examples\n",
        "x_test_adv_def = fgsm.generate( x_test_adv )\n",
        "acc =  defended_model.evaluate( x_test_adv_def, y_test_adv )\n",
        "print( 'loss and accuracy on adversarial examples: ', acc )"
      ],
      "execution_count": null,
      "outputs": [
        {
          "name": "stdout",
          "output_type": "stream",
          "text": [
            "4/4 [==============================] - 1s 270ms/step - loss: 3.9229 - accuracy: 0.4000\n",
            "loss and accuracy on adversarial examples:  [3.9228830337524414, 0.4000000059604645]\n"
          ]
        }
      ]
    },
    {
      "cell_type": "code",
      "metadata": {
        "colab": {
          "base_uri": "https://localhost:8080/"
        },
        "id": "EMwTP3tiBJ9D",
        "outputId": "2a5844a6-ee89-49f8-e3f8-21ec3b7a25b2"
      },
      "source": [
        "np.argmax(defended_model.predict(x_test_adv_def),axis=1)"
      ],
      "execution_count": null,
      "outputs": [
        {
          "data": {
            "text/plain": [
              "array([9, 3, 3, 6, 8, 2, 4, 1, 2, 0, 5, 9, 1, 8, 1, 1, 1, 1, 1, 3, 5, 8,\n",
              "       2, 2, 8, 2, 7, 1, 2, 3, 5, 5, 6, 5, 3, 9, 5, 3, 5, 2, 0, 5, 8, 7,\n",
              "       4, 3, 7, 4, 6, 0, 3, 5, 3, 5, 4, 5, 3, 3, 3, 5, 6, 3, 4, 6, 6, 2,\n",
              "       2, 3, 2, 6, 7, 2, 7, 7, 5, 3, 7, 4, 7, 3, 0, 1, 6, 8, 6, 8, 8, 8,\n",
              "       0, 8, 9, 9, 9, 1, 9, 9, 9, 0, 6, 9])"
            ]
          },
          "execution_count": 26,
          "metadata": {},
          "output_type": "execute_result"
        }
      ]
    },
    {
      "cell_type": "code",
      "metadata": {
        "id": "0YTj3Ul_2FYY"
      },
      "source": [
        "res_def.append({\"name\":\"Total Variance Minimization\",\"accuracy\":acc[1],\"loss\":acc[0]})"
      ],
      "execution_count": null,
      "outputs": []
    },
    {
      "cell_type": "code",
      "metadata": {
        "colab": {
          "base_uri": "https://localhost:8080/",
          "height": 34
        },
        "id": "X-zQFL4X2FYY",
        "outputId": "59545ec7-3d4b-4cd8-dc45-52988d1e9736"
      },
      "source": [
        "from art.attacks.evasion import ProjectedGradientDescent\n",
        "pgd = ProjectedGradientDescent( wrapper,eps_step=0.001, eps=0.01, targeted=False,max_iter=10)\n",
        "x_test_adv_def = pgd.generate( x_test_adv )\n",
        "acc =  defended_model.evaluate( x_test_adv_def, y_test_adv )"
      ],
      "execution_count": null,
      "outputs": [
        {
          "data": {
            "application/vnd.jupyter.widget-view+json": {
              "model_id": "c9d4e28bb5b44ef9b1186b70814d3eca",
              "version_major": 2,
              "version_minor": 0
            },
            "text/plain": [
              "PGD - Batches: 0it [00:00, ?it/s]"
            ]
          },
          "metadata": {},
          "output_type": "display_data"
        },
        {
          "name": "stdout",
          "output_type": "stream",
          "text": [
            "4/4 [==============================] - 1s 265ms/step - loss: 9.8838 - accuracy: 0.1500\n"
          ]
        }
      ]
    },
    {
      "cell_type": "code",
      "metadata": {
        "colab": {
          "base_uri": "https://localhost:8080/"
        },
        "id": "ctROYMU-2FYY",
        "outputId": "f6b87a26-983c-4364-f2c1-804aa4badb45"
      },
      "source": [
        "print( 'loss and accuracy on adversarial examples: ', acc )"
      ],
      "execution_count": null,
      "outputs": [
        {
          "name": "stdout",
          "output_type": "stream",
          "text": [
            "loss and accuracy on adversarial examples:  [9.883766174316406, 0.15000000596046448]\n"
          ]
        }
      ]
    },
    {
      "cell_type": "code",
      "metadata": {
        "id": "LjV-zUxv2FYZ"
      },
      "source": [
        ""
      ],
      "execution_count": null,
      "outputs": []
    },
    {
      "cell_type": "code",
      "metadata": {
        "id": "Cdaeozjq2FYZ"
      },
      "source": [
        "res_def.append({\"name\":\"Spatial Smoothing on PGD\",\"accuracy\":acc[1],\"loss\":acc[0]})"
      ],
      "execution_count": null,
      "outputs": []
    },
    {
      "cell_type": "code",
      "metadata": {
        "colab": {
          "base_uri": "https://localhost:8080/"
        },
        "id": "0KLKoAnE2FYZ",
        "outputId": "43e112d6-0b6f-4fb2-fe3b-bacc20065938"
      },
      "source": [
        "res_def"
      ],
      "execution_count": null,
      "outputs": [
        {
          "data": {
            "text/plain": [
              "[{'accuracy': 0.4000000059604645,\n",
              "  'loss': 3.9273157119750977,\n",
              "  'name': 'Feature Squezzing'},\n",
              " {'accuracy': 0.4000000059604645,\n",
              "  'loss': 3.9228830337524414,\n",
              "  'name': 'Gaussian Data Augmentation'},\n",
              " {'accuracy': 0.15000000596046448,\n",
              "  'loss': 9.883766174316406,\n",
              "  'name': 'Gaussian Data Augmentation on PGD'},\n",
              " {'accuracy': 0.4000000059604645, 'loss': 3.9228830337524414, 'name': 'JPEG '},\n",
              " {'accuracy': 0.4000000059604645,\n",
              "  'loss': 3.9228830337524414,\n",
              "  'name': 'Label Smoothing '},\n",
              " {'accuracy': 0.15000000596046448,\n",
              "  'loss': 9.883766174316406,\n",
              "  'name': 'Spatial Smoothing on PGD'},\n",
              " {'accuracy': 0.15000000596046448,\n",
              "  'loss': 9.883766174316406,\n",
              "  'name': 'Spatial Smoothing'},\n",
              " {'accuracy': 0.4000000059604645,\n",
              "  'loss': 3.9228830337524414,\n",
              "  'name': 'Total Variance Minimization'},\n",
              " {'accuracy': 0.019999999552965164,\n",
              "  'loss': 1.2184207439422607,\n",
              "  'name': 'Spatial Smoothing - Saliency Map Attack'},\n",
              " {'accuracy': 0.009999999776482582,\n",
              "  'loss': 1.2387489080429077,\n",
              "  'name': 'Feature Squezzing - Saliency Map Method'}]"
            ]
          },
          "execution_count": 52,
          "metadata": {},
          "output_type": "execute_result"
        }
      ]
    },
    {
      "cell_type": "markdown",
      "metadata": {
        "id": "DKMFcNPm2FYZ"
      },
      "source": [
        ""
      ]
    },
    {
      "cell_type": "code",
      "metadata": {
        "id": "EYqm4HQYZ3ra"
      },
      "source": [
        "# res_def = [{'accuracy': 0.4000000059604645,\n",
        "#   'loss': 3.9273157119750977,\n",
        "#   'name': 'Feature Squezzing'},\n",
        "#  {'accuracy': 0.4000000059604645,\n",
        "#   'loss': 3.9228830337524414,\n",
        "#   'name': 'Gaussian Data Augmentation'},\n",
        "#  {'accuracy': 0.15000000596046448,\n",
        "#   'loss': 9.883766174316406,\n",
        "#   'name': 'Gaussian Data Augmentation on PGD'},\n",
        "#  {'accuracy': 0.4000000059604645, 'loss': 3.9228830337524414, 'name': 'JPEG '},\n",
        "#  {'accuracy': 0.4000000059604645,\n",
        "#   'loss': 3.9228830337524414,\n",
        "#   'name': 'Label Smoothing '},\n",
        "#  {'accuracy': 0.15000000596046448,\n",
        "#   'loss': 9.883766174316406,\n",
        "#   'name': 'Spatial Smoothing on PGD'},\n",
        "#  {'accuracy': 0.15000000596046448,\n",
        "#   'loss': 9.883766174316406,\n",
        "#   'name': 'Spatial Smoothing'},\n",
        "#  {'accuracy': 0.4000000059604645,\n",
        "#   'loss': 3.9228830337524414,\n",
        "#   'name': 'Total Variance Minimization'},\n",
        "#  {'accuracy': 0.019999999552965164,\n",
        "#   'loss': 1.2184207439422607,\n",
        "#   'name': 'Spatial Smoothing - Saliency Map Attack'},\n",
        "#  {'accuracy': 0.009999999776482582,\n",
        "#   'loss': 1.2387489080429077,\n",
        "#   'name': 'Feature Squezzing - Saliency Map Method'}]"
      ],
      "execution_count": null,
      "outputs": []
    },
    {
      "cell_type": "markdown",
      "metadata": {
        "id": "s7KldcwKLF7o"
      },
      "source": [
        "# **Post- Processor**"
      ]
    },
    {
      "cell_type": "markdown",
      "metadata": {
        "id": "uPW9X4I8hvYb"
      },
      "source": [
        "Building a custom model to facilitate post-processing defense."
      ]
    },
    {
      "cell_type": "code",
      "metadata": {
        "id": "YB4eY1NSiQvs"
      },
      "source": [
        "from keras import backend as K \n",
        "from keras.layers import Layer\n",
        "class MyCustomLayer(Layer): \n",
        "   def __init__(self, output_dim, **kwargs): \n",
        "      from art.defences.postprocessor import ClassLabels\n",
        "      self.clslabl = ClassLabels(apply_fit = False, apply_predict = True)\n",
        "      self.output_dim = output_dim \n",
        "      super(MyCustomLayer, self).__init__(**kwargs) \n",
        "   def build(self, input_shape):\n",
        "    #   print(\"In build--------------\")\n",
        "      self.add_weight(name = 'kernel', \n",
        "      shape = (input_shape[1], self.output_dim), \n",
        "      initializer = 'normal', trainable = True) \n",
        "      super(MyCustomLayer, self).build(input_shape) # \n",
        "    #   Be sure to call this at the end \n",
        "   def call(self, input_data): \n",
        "       print(\"In call--------------\")\n",
        "       with tf.compat.v1.Session().as_default() as sess:\n",
        "        print(input_data.eval())\n",
        "    #    input_data = tf.make_tensor_proto(input_data)\n",
        "    #    input_data = tf.make_tensor_proto(input_data)\n",
        "    #    input_data = tf.make_ndarray(input_data)\n",
        "       idx = clslabl(input_data)\n",
        "       print(idx)\n",
        "    #    idx = to_categorical(idx, 10)\n",
        "       return idx\n",
        "   def compute_output_shape(self, input_shape): \n",
        "       return (input_shape[0], self.output_dim)"
      ],
      "execution_count": null,
      "outputs": []
    },
    {
      "cell_type": "code",
      "metadata": {
        "id": "wXIz5Wdfhu-P"
      },
      "source": [
        "def model_def_custom(linear=False):\n",
        "    model = tf.keras.Sequential()\n",
        "    model.add(tf.keras.layers.InputLayer(input_shape=(32,32,3)))\n",
        "    model.add(hub.KerasLayer(model_url,signature=\"default\"))\n",
        "    if linear == False:\n",
        "        model.add(tf.keras.layers.Activation('softmax'))\n",
        "    else:\n",
        "        model.add(tf.keras.layers.Activation('linear'))\n",
        "    # model.add(tf.keras.layers.Activation('relu'))\n",
        "    model.add(MyCustomLayer(10, input_shape = (1,10))) \n",
        "    model.compile(optimizer=tf.keras.optimizers.SGD(learning_rate=0.1, momentum=0.9, decay=1e-4),\n",
        "                    loss=tf.keras.losses.CategoricalCrossentropy(),\n",
        "                    metrics=['accuracy'])\n",
        "    return model"
      ],
      "execution_count": null,
      "outputs": []
    },
    {
      "cell_type": "code",
      "metadata": {
        "id": "pzJChoN7L2Hw"
      },
      "source": [
        "# res_def"
      ],
      "execution_count": null,
      "outputs": []
    },
    {
      "cell_type": "code",
      "metadata": {
        "id": "QB6_clzSL7WE"
      },
      "source": [
        "res_def = []"
      ],
      "execution_count": null,
      "outputs": []
    },
    {
      "cell_type": "code",
      "metadata": {
        "id": "psHrq1SqL7WE"
      },
      "source": [
        "!pip install tensorflow_addons"
      ],
      "execution_count": null,
      "outputs": []
    },
    {
      "cell_type": "code",
      "metadata": {
        "id": "XBMQ6tLtL7WE"
      },
      "source": [
        "from art.defences.postprocessor import ClassLabels\n",
        "clslabl = ClassLabels(apply_fit = False, apply_predict = True)\n"
      ],
      "execution_count": null,
      "outputs": []
    },
    {
      "cell_type": "code",
      "metadata": {
        "colab": {
          "base_uri": "https://localhost:8080/"
        },
        "id": "5eP5MXfKL7WF",
        "outputId": "02a6969e-f6ed-4a5c-b8c9-ff24ebc0d205"
      },
      "source": [
        "defended_model = model_def_custom(True)"
      ],
      "execution_count": null,
      "outputs": [
        {
          "name": "stdout",
          "output_type": "stream",
          "text": [
            "In call--------------\n"
          ]
        },
        {
          "ename": "InvalidArgumentError",
          "evalue": "ignored",
          "output_type": "error",
          "traceback": [
            "\u001b[0;31m---------------------------------------------------------------------------\u001b[0m",
            "\u001b[0;31mInvalidArgumentError\u001b[0m                      Traceback (most recent call last)",
            "\u001b[0;32m<ipython-input-36-15768086ad4b>\u001b[0m in \u001b[0;36m<module>\u001b[0;34m()\u001b[0m\n\u001b[0;32m----> 1\u001b[0;31m \u001b[0mdefended_model\u001b[0m \u001b[0;34m=\u001b[0m \u001b[0mmodel_def_custom\u001b[0m\u001b[0;34m(\u001b[0m\u001b[0;32mTrue\u001b[0m\u001b[0;34m)\u001b[0m\u001b[0;34m\u001b[0m\u001b[0;34m\u001b[0m\u001b[0m\n\u001b[0m",
            "\u001b[0;32m<ipython-input-20-b9ee2f2a98c9>\u001b[0m in \u001b[0;36mmodel_def_custom\u001b[0;34m(linear)\u001b[0m\n\u001b[1;32m      8\u001b[0m         \u001b[0mmodel\u001b[0m\u001b[0;34m.\u001b[0m\u001b[0madd\u001b[0m\u001b[0;34m(\u001b[0m\u001b[0mtf\u001b[0m\u001b[0;34m.\u001b[0m\u001b[0mkeras\u001b[0m\u001b[0;34m.\u001b[0m\u001b[0mlayers\u001b[0m\u001b[0;34m.\u001b[0m\u001b[0mActivation\u001b[0m\u001b[0;34m(\u001b[0m\u001b[0;34m'linear'\u001b[0m\u001b[0;34m)\u001b[0m\u001b[0;34m)\u001b[0m\u001b[0;34m\u001b[0m\u001b[0;34m\u001b[0m\u001b[0m\n\u001b[1;32m      9\u001b[0m     \u001b[0;31m# model.add(tf.keras.layers.Activation('relu'))\u001b[0m\u001b[0;34m\u001b[0m\u001b[0;34m\u001b[0m\u001b[0;34m\u001b[0m\u001b[0m\n\u001b[0;32m---> 10\u001b[0;31m     \u001b[0mmodel\u001b[0m\u001b[0;34m.\u001b[0m\u001b[0madd\u001b[0m\u001b[0;34m(\u001b[0m\u001b[0mMyCustomLayer\u001b[0m\u001b[0;34m(\u001b[0m\u001b[0;36m10\u001b[0m\u001b[0;34m,\u001b[0m \u001b[0minput_shape\u001b[0m \u001b[0;34m=\u001b[0m \u001b[0;34m(\u001b[0m\u001b[0;36m1\u001b[0m\u001b[0;34m,\u001b[0m\u001b[0;36m10\u001b[0m\u001b[0;34m)\u001b[0m\u001b[0;34m)\u001b[0m\u001b[0;34m)\u001b[0m\u001b[0;34m\u001b[0m\u001b[0;34m\u001b[0m\u001b[0m\n\u001b[0m\u001b[1;32m     11\u001b[0m     model.compile(optimizer=tf.keras.optimizers.SGD(learning_rate=0.1, momentum=0.9, decay=1e-4),\n\u001b[1;32m     12\u001b[0m                     \u001b[0mloss\u001b[0m\u001b[0;34m=\u001b[0m\u001b[0mtf\u001b[0m\u001b[0;34m.\u001b[0m\u001b[0mkeras\u001b[0m\u001b[0;34m.\u001b[0m\u001b[0mlosses\u001b[0m\u001b[0;34m.\u001b[0m\u001b[0mCategoricalCrossentropy\u001b[0m\u001b[0;34m(\u001b[0m\u001b[0;34m)\u001b[0m\u001b[0;34m,\u001b[0m\u001b[0;34m\u001b[0m\u001b[0;34m\u001b[0m\u001b[0m\n",
            "\u001b[0;32m/usr/local/lib/python3.7/dist-packages/tensorflow/python/training/tracking/base.py\u001b[0m in \u001b[0;36m_method_wrapper\u001b[0;34m(self, *args, **kwargs)\u001b[0m\n\u001b[1;32m    528\u001b[0m     \u001b[0mself\u001b[0m\u001b[0;34m.\u001b[0m\u001b[0m_self_setattr_tracking\u001b[0m \u001b[0;34m=\u001b[0m \u001b[0;32mFalse\u001b[0m  \u001b[0;31m# pylint: disable=protected-access\u001b[0m\u001b[0;34m\u001b[0m\u001b[0;34m\u001b[0m\u001b[0m\n\u001b[1;32m    529\u001b[0m     \u001b[0;32mtry\u001b[0m\u001b[0;34m:\u001b[0m\u001b[0;34m\u001b[0m\u001b[0;34m\u001b[0m\u001b[0m\n\u001b[0;32m--> 530\u001b[0;31m       \u001b[0mresult\u001b[0m \u001b[0;34m=\u001b[0m \u001b[0mmethod\u001b[0m\u001b[0;34m(\u001b[0m\u001b[0mself\u001b[0m\u001b[0;34m,\u001b[0m \u001b[0;34m*\u001b[0m\u001b[0margs\u001b[0m\u001b[0;34m,\u001b[0m \u001b[0;34m**\u001b[0m\u001b[0mkwargs\u001b[0m\u001b[0;34m)\u001b[0m\u001b[0;34m\u001b[0m\u001b[0;34m\u001b[0m\u001b[0m\n\u001b[0m\u001b[1;32m    531\u001b[0m     \u001b[0;32mfinally\u001b[0m\u001b[0;34m:\u001b[0m\u001b[0;34m\u001b[0m\u001b[0;34m\u001b[0m\u001b[0m\n\u001b[1;32m    532\u001b[0m       \u001b[0mself\u001b[0m\u001b[0;34m.\u001b[0m\u001b[0m_self_setattr_tracking\u001b[0m \u001b[0;34m=\u001b[0m \u001b[0mprevious_value\u001b[0m  \u001b[0;31m# pylint: disable=protected-access\u001b[0m\u001b[0;34m\u001b[0m\u001b[0;34m\u001b[0m\u001b[0m\n",
            "\u001b[0;32m/usr/local/lib/python3.7/dist-packages/keras/utils/traceback_utils.py\u001b[0m in \u001b[0;36merror_handler\u001b[0;34m(*args, **kwargs)\u001b[0m\n\u001b[1;32m     65\u001b[0m     \u001b[0;32mexcept\u001b[0m \u001b[0mException\u001b[0m \u001b[0;32mas\u001b[0m \u001b[0me\u001b[0m\u001b[0;34m:\u001b[0m  \u001b[0;31m# pylint: disable=broad-except\u001b[0m\u001b[0;34m\u001b[0m\u001b[0;34m\u001b[0m\u001b[0m\n\u001b[1;32m     66\u001b[0m       \u001b[0mfiltered_tb\u001b[0m \u001b[0;34m=\u001b[0m \u001b[0m_process_traceback_frames\u001b[0m\u001b[0;34m(\u001b[0m\u001b[0me\u001b[0m\u001b[0;34m.\u001b[0m\u001b[0m__traceback__\u001b[0m\u001b[0;34m)\u001b[0m\u001b[0;34m\u001b[0m\u001b[0;34m\u001b[0m\u001b[0m\n\u001b[0;32m---> 67\u001b[0;31m       \u001b[0;32mraise\u001b[0m \u001b[0me\u001b[0m\u001b[0;34m.\u001b[0m\u001b[0mwith_traceback\u001b[0m\u001b[0;34m(\u001b[0m\u001b[0mfiltered_tb\u001b[0m\u001b[0;34m)\u001b[0m \u001b[0;32mfrom\u001b[0m \u001b[0;32mNone\u001b[0m\u001b[0;34m\u001b[0m\u001b[0;34m\u001b[0m\u001b[0m\n\u001b[0m\u001b[1;32m     68\u001b[0m     \u001b[0;32mfinally\u001b[0m\u001b[0;34m:\u001b[0m\u001b[0;34m\u001b[0m\u001b[0;34m\u001b[0m\u001b[0m\n\u001b[1;32m     69\u001b[0m       \u001b[0;32mdel\u001b[0m \u001b[0mfiltered_tb\u001b[0m\u001b[0;34m\u001b[0m\u001b[0;34m\u001b[0m\u001b[0m\n",
            "\u001b[0;32m/usr/local/lib/python3.7/dist-packages/tensorflow/python/autograph/impl/api.py\u001b[0m in \u001b[0;36mwrapper\u001b[0;34m(*args, **kwargs)\u001b[0m\n\u001b[1;32m    697\u001b[0m       \u001b[0;32mexcept\u001b[0m \u001b[0mException\u001b[0m \u001b[0;32mas\u001b[0m \u001b[0me\u001b[0m\u001b[0;34m:\u001b[0m  \u001b[0;31m# pylint:disable=broad-except\u001b[0m\u001b[0;34m\u001b[0m\u001b[0;34m\u001b[0m\u001b[0m\n\u001b[1;32m    698\u001b[0m         \u001b[0;32mif\u001b[0m \u001b[0mhasattr\u001b[0m\u001b[0;34m(\u001b[0m\u001b[0me\u001b[0m\u001b[0;34m,\u001b[0m \u001b[0;34m'ag_error_metadata'\u001b[0m\u001b[0;34m)\u001b[0m\u001b[0;34m:\u001b[0m\u001b[0;34m\u001b[0m\u001b[0;34m\u001b[0m\u001b[0m\n\u001b[0;32m--> 699\u001b[0;31m           \u001b[0;32mraise\u001b[0m \u001b[0me\u001b[0m\u001b[0;34m.\u001b[0m\u001b[0mag_error_metadata\u001b[0m\u001b[0;34m.\u001b[0m\u001b[0mto_exception\u001b[0m\u001b[0;34m(\u001b[0m\u001b[0me\u001b[0m\u001b[0;34m)\u001b[0m\u001b[0;34m\u001b[0m\u001b[0;34m\u001b[0m\u001b[0m\n\u001b[0m\u001b[1;32m    700\u001b[0m         \u001b[0;32melse\u001b[0m\u001b[0;34m:\u001b[0m\u001b[0;34m\u001b[0m\u001b[0;34m\u001b[0m\u001b[0m\n\u001b[1;32m    701\u001b[0m           \u001b[0;32mraise\u001b[0m\u001b[0;34m\u001b[0m\u001b[0;34m\u001b[0m\u001b[0m\n",
            "\u001b[0;31mInvalidArgumentError\u001b[0m: Exception encountered when calling layer \"my_custom_layer_6\" (type MyCustomLayer).\n\nin user code:\n\n    File \"<ipython-input-35-d2ba6fee2379>\", line 19, in call  *\n        print(input_data.eval())\n\n    InvalidArgumentError: You must feed a value for placeholder tensor 'Placeholder' with dtype float and shape [?,10]\n    \t [[node Placeholder\n     (defined at /usr/local/lib/python3.7/dist-packages/keras/engine/keras_tensor.py:213)\n    ]]\n    \n    Errors may have originated from an input operation.\n    \n    Operation defined at: (most recent call last)\n    >>>   File \"/usr/lib/python3.7/runpy.py\", line 193, in _run_module_as_main\n    >>>     \"__main__\", mod_spec)\n    >>> \n    >>>   File \"/usr/lib/python3.7/runpy.py\", line 85, in _run_code\n    >>>     exec(code, run_globals)\n    >>> \n    >>>   File \"/usr/local/lib/python3.7/dist-packages/ipykernel_launcher.py\", line 16, in <module>\n    >>>     app.launch_new_instance()\n    >>> \n    >>>   File \"/usr/local/lib/python3.7/dist-packages/traitlets/config/application.py\", line 846, in launch_instance\n    >>>     app.start()\n    >>> \n    >>>   File \"/usr/local/lib/python3.7/dist-packages/ipykernel/kernelapp.py\", line 499, in start\n    >>>     self.io_loop.start()\n    >>> \n    >>>   File \"/usr/local/lib/python3.7/dist-packages/tornado/platform/asyncio.py\", line 132, in start\n    >>>     self.asyncio_loop.run_forever()\n    >>> \n    >>>   File \"/usr/lib/python3.7/asyncio/base_events.py\", line 541, in run_forever\n    >>>     self._run_once()\n    >>> \n    >>>   File \"/usr/lib/python3.7/asyncio/base_events.py\", line 1786, in _run_once\n    >>>     handle._run()\n    >>> \n    >>>   File \"/usr/lib/python3.7/asyncio/events.py\", line 88, in _run\n    >>>     self._context.run(self._callback, *self._args)\n    >>> \n    >>>   File \"/usr/local/lib/python3.7/dist-packages/tornado/platform/asyncio.py\", line 122, in _handle_events\n    >>>     handler_func(fileobj, events)\n    >>> \n    >>>   File \"/usr/local/lib/python3.7/dist-packages/tornado/stack_context.py\", line 300, in null_wrapper\n    >>>     return fn(*args, **kwargs)\n    >>> \n    >>>   File \"/usr/local/lib/python3.7/dist-packages/zmq/eventloop/zmqstream.py\", line 452, in _handle_events\n    >>>     self._handle_recv()\n    >>> \n    >>>   File \"/usr/local/lib/python3.7/dist-packages/zmq/eventloop/zmqstream.py\", line 481, in _handle_recv\n    >>>     self._run_callback(callback, msg)\n    >>> \n    >>>   File \"/usr/local/lib/python3.7/dist-packages/zmq/eventloop/zmqstream.py\", line 431, in _run_callback\n    >>>     callback(*args, **kwargs)\n    >>> \n    >>>   File \"/usr/local/lib/python3.7/dist-packages/tornado/stack_context.py\", line 300, in null_wrapper\n    >>>     return fn(*args, **kwargs)\n    >>> \n    >>>   File \"/usr/local/lib/python3.7/dist-packages/ipykernel/kernelbase.py\", line 283, in dispatcher\n    >>>     return self.dispatch_shell(stream, msg)\n    >>> \n    >>>   File \"/usr/local/lib/python3.7/dist-packages/ipykernel/kernelbase.py\", line 233, in dispatch_shell\n    >>>     handler(stream, idents, msg)\n    >>> \n    >>>   File \"/usr/local/lib/python3.7/dist-packages/ipykernel/kernelbase.py\", line 399, in execute_request\n    >>>     user_expressions, allow_stdin)\n    >>> \n    >>>   File \"/usr/local/lib/python3.7/dist-packages/ipykernel/ipkernel.py\", line 208, in do_execute\n    >>>     res = shell.run_cell(code, store_history=store_history, silent=silent)\n    >>> \n    >>>   File \"/usr/local/lib/python3.7/dist-packages/ipykernel/zmqshell.py\", line 537, in run_cell\n    >>>     return super(ZMQInteractiveShell, self).run_cell(*args, **kwargs)\n    >>> \n    >>>   File \"/usr/local/lib/python3.7/dist-packages/IPython/core/interactiveshell.py\", line 2718, in run_cell\n    >>>     interactivity=interactivity, compiler=compiler, result=result)\n    >>> \n    >>>   File \"/usr/local/lib/python3.7/dist-packages/IPython/core/interactiveshell.py\", line 2822, in run_ast_nodes\n    >>>     if self.run_code(code, result):\n    >>> \n    >>>   File \"/usr/local/lib/python3.7/dist-packages/IPython/core/interactiveshell.py\", line 2882, in run_code\n    >>>     exec(code_obj, self.user_global_ns, self.user_ns)\n    >>> \n    >>>   File \"<ipython-input-36-15768086ad4b>\", line 1, in <module>\n    >>>     defended_model = model_def_custom(True)\n    >>> \n    >>>   File \"<ipython-input-20-b9ee2f2a98c9>\", line 10, in model_def_custom\n    >>>     model.add(MyCustomLayer(10, input_shape = (1,10)))\n    >>> \n    >>>   File \"/usr/local/lib/python3.7/dist-packages/keras/utils/traceback_utils.py\", line 64, in error_handler\n    >>>     return fn(*args, **kwargs)\n    >>> \n    >>>   File \"/usr/local/lib/python3.7/dist-packages/keras/engine/sequential.py\", line 220, in add\n    >>>     output_tensor = layer(self.outputs[0])\n    >>> \n    >>>   File \"/usr/local/lib/python3.7/dist-packages/keras/utils/traceback_utils.py\", line 64, in error_handler\n    >>>     return fn(*args, **kwargs)\n    >>> \n    >>>   File \"/usr/local/lib/python3.7/dist-packages/keras/engine/base_layer.py\", line 1020, in __call__\n    >>>     input_list)\n    >>> \n    >>>   File \"/usr/local/lib/python3.7/dist-packages/keras/engine/base_layer.py\", line 1161, in _functional_construction_call\n    >>>     inputs, input_masks, args, kwargs)\n    >>> \n    >>>   File \"/usr/local/lib/python3.7/dist-packages/keras/engine/base_layer.py\", line 885, in _keras_tensor_symbolic_call\n    >>>     return self._infer_output_signature(inputs, args, kwargs, input_masks)\n    >>> \n    >>>   File \"/usr/local/lib/python3.7/dist-packages/keras/engine/base_layer.py\", line 914, in _infer_output_signature\n    >>>     keras_tensor.keras_tensor_to_placeholder, inputs)\n    >>> \n    >>>   File \"/usr/local/lib/python3.7/dist-packages/keras/engine/keras_tensor.py\", line 606, in keras_tensor_to_placeholder\n    >>>     return x._to_placeholder()  # pylint: disable=protected-access\n    >>> \n    >>>   File \"/usr/local/lib/python3.7/dist-packages/keras/engine/keras_tensor.py\", line 216, in _to_placeholder\n    >>>     component_to_placeholder, self.type_spec, expand_composites=True)\n    >>> \n    >>>   File \"/usr/local/lib/python3.7/dist-packages/keras/engine/keras_tensor.py\", line 213, in component_to_placeholder\n    >>>     return tf.compat.v1.placeholder(component.dtype, component.shape)\n    >>> \n    \n    Original stack trace for 'Placeholder':\n      File \"/usr/lib/python3.7/runpy.py\", line 193, in _run_module_as_main\n        \"__main__\", mod_spec)\n      File \"/usr/lib/python3.7/runpy.py\", line 85, in _run_code\n        exec(code, run_globals)\n      File \"/usr/local/lib/python3.7/dist-packages/ipykernel_launcher.py\", line 16, in <module>\n        app.launch_new_instance()\n      File \"/usr/local/lib/python3.7/dist-packages/traitlets/config/application.py\", line 846, in launch_instance\n        app.start()\n      File \"/usr/local/lib/python3.7/dist-packages/ipykernel/kernelapp.py\", line 499, in start\n        self.io_loop.start()\n      File \"/usr/local/lib/python3.7/dist-packages/tornado/platform/asyncio.py\", line 132, in start\n        self.asyncio_loop.run_forever()\n      File \"/usr/lib/python3.7/asyncio/base_events.py\", line 541, in run_forever\n        self._run_once()\n      File \"/usr/lib/python3.7/asyncio/base_events.py\", line 1786, in _run_once\n        handle._run()\n      File \"/usr/lib/python3.7/asyncio/events.py\", line 88, in _run\n        self._context.run(self._callback, *self._args)\n      File \"/usr/local/lib/python3.7/dist-packages/tornado/platform/asyncio.py\", line 122, in _handle_events\n        handler_func(fileobj, events)\n      File \"/usr/local/lib/python3.7/dist-packages/tornado/stack_context.py\", line 300, in null_wrapper\n        return fn(*args, **kwargs)\n      File \"/usr/local/lib/python3.7/dist-packages/zmq/eventloop/zmqstream.py\", line 452, in _handle_events\n        self._handle_recv()\n      File \"/usr/local/lib/python3.7/dist-packages/zmq/eventloop/zmqstream.py\", line 481, in _handle_recv\n        self._run_callback(callback, msg)\n      File \"/usr/local/lib/python3.7/dist-packages/zmq/eventloop/zmqstream.py\", line 431, in _run_callback\n        callback(*args, **kwargs)\n      File \"/usr/local/lib/python3.7/dist-packages/tornado/stack_context.py\", line 300, in null_wrapper\n        return fn(*args, **kwargs)\n      File \"/usr/local/lib/python3.7/dist-packages/ipykernel/kernelbase.py\", line 283, in dispatcher\n        return self.dispatch_shell(stream, msg)\n      File \"/usr/local/lib/python3.7/dist-packages/ipykernel/kernelbase.py\", line 233, in dispatch_shell\n        handler(stream, idents, msg)\n      File \"/usr/local/lib/python3.7/dist-packages/ipykernel/kernelbase.py\", line 399, in execute_request\n        user_expressions, allow_stdin)\n      File \"/usr/local/lib/python3.7/dist-packages/ipykernel/ipkernel.py\", line 208, in do_execute\n        res = shell.run_cell(code, store_history=store_history, silent=silent)\n      File \"/usr/local/lib/python3.7/dist-packages/ipykernel/zmqshell.py\", line 537, in run_cell\n        return super(ZMQInteractiveShell, self).run_cell(*args, **kwargs)\n      File \"/usr/local/lib/python3.7/dist-packages/IPython/core/interactiveshell.py\", line 2718, in run_cell\n        interactivity=interactivity, compiler=compiler, result=result)\n      File \"/usr/local/lib/python3.7/dist-packages/IPython/core/interactiveshell.py\", line 2822, in run_ast_nodes\n        if self.run_code(code, result):\n      File \"/usr/local/lib/python3.7/dist-packages/IPython/core/interactiveshell.py\", line 2882, in run_code\n        exec(code_obj, self.user_global_ns, self.user_ns)\n      File \"<ipython-input-36-15768086ad4b>\", line 1, in <module>\n        defended_model = model_def_custom(True)\n      File \"<ipython-input-20-b9ee2f2a98c9>\", line 10, in model_def_custom\n        model.add(MyCustomLayer(10, input_shape = (1,10)))\n      File \"/usr/local/lib/python3.7/dist-packages/tensorflow/python/training/tracking/base.py\", line 530, in _method_wrapper\n        result = method(self, *args, **kwargs)\n      File \"/usr/local/lib/python3.7/dist-packages/keras/utils/traceback_utils.py\", line 64, in error_handler\n        return fn(*args, **kwargs)\n      File \"/usr/local/lib/python3.7/dist-packages/keras/engine/sequential.py\", line 220, in add\n        output_tensor = layer(self.outputs[0])\n      File \"/usr/local/lib/python3.7/dist-packages/keras/utils/traceback_utils.py\", line 64, in error_handler\n        return fn(*args, **kwargs)\n      File \"/usr/local/lib/python3.7/dist-packages/keras/engine/base_layer.py\", line 1020, in __call__\n        input_list)\n      File \"/usr/local/lib/python3.7/dist-packages/keras/engine/base_layer.py\", line 1161, in _functional_construction_call\n        inputs, input_masks, args, kwargs)\n      File \"/usr/local/lib/python3.7/dist-packages/keras/engine/base_layer.py\", line 885, in _keras_tensor_symbolic_call\n        return self._infer_output_signature(inputs, args, kwargs, input_masks)\n      File \"/usr/local/lib/python3.7/dist-packages/keras/engine/base_layer.py\", line 914, in _infer_output_signature\n        keras_tensor.keras_tensor_to_placeholder, inputs)\n      File \"/usr/local/lib/python3.7/dist-packages/tensorflow/python/util/nest.py\", line 869, in map_structure\n        structure[0], [func(*x) for x in entries],\n      File \"/usr/local/lib/python3.7/dist-packages/tensorflow/python/util/nest.py\", line 869, in <listcomp>\n        structure[0], [func(*x) for x in entries],\n      File \"/usr/local/lib/python3.7/dist-packages/keras/engine/keras_tensor.py\", line 606, in keras_tensor_to_placeholder\n        return x._to_placeholder()  # pylint: disable=protected-access\n      File \"/usr/local/lib/python3.7/dist-packages/keras/engine/keras_tensor.py\", line 216, in _to_placeholder\n        component_to_placeholder, self.type_spec, expand_composites=True)\n      File \"/usr/local/lib/python3.7/dist-packages/tensorflow/python/util/nest.py\", line 869, in map_structure\n        structure[0], [func(*x) for x in entries],\n      File \"/usr/local/lib/python3.7/dist-packages/tensorflow/python/util/nest.py\", line 869, in <listcomp>\n        structure[0], [func(*x) for x in entries],\n      File \"/usr/local/lib/python3.7/dist-packages/keras/engine/keras_tensor.py\", line 213, in component_to_placeholder\n        return tf.compat.v1.placeholder(component.dtype, component.shape)\n      File \"/usr/local/lib/python3.7/dist-packages/tensorflow/python/ops/array_ops.py\", line 3289, in placeholder\n        return gen_array_ops.placeholder(dtype=dtype, shape=shape, name=name)\n      File \"/usr/local/lib/python3.7/dist-packages/tensorflow/python/ops/gen_array_ops.py\", line 6894, in placeholder\n        \"Placeholder\", dtype=dtype, shape=shape, name=name)\n      File \"/usr/local/lib/python3.7/dist-packages/tensorflow/python/framework/op_def_library.py\", line 746, in _apply_op_helper\n        attrs=attr_protos, op_def=op_def)\n      File \"/usr/local/lib/python3.7/dist-packages/tensorflow/python/framework/func_graph.py\", line 691, in _create_op_internal\n        compute_device)\n      File \"/usr/local/lib/python3.7/dist-packages/tensorflow/python/framework/ops.py\", line 3705, in _create_op_internal\n        op_def=op_def)\n      File \"/usr/local/lib/python3.7/dist-packages/tensorflow/python/framework/ops.py\", line 2101, in __init__\n        self._traceback = tf_stack.extract_stack_for_node(self._c_op)\n    \n\n\nCall arguments received:\n  • input_data=tf.Tensor(shape=(None, 10), dtype=float32)\n\nOriginal stack trace for 'Placeholder':\n  File \"/usr/lib/python3.7/runpy.py\", line 193, in _run_module_as_main\n    \"__main__\", mod_spec)\n  File \"/usr/lib/python3.7/runpy.py\", line 85, in _run_code\n    exec(code, run_globals)\n  File \"/usr/local/lib/python3.7/dist-packages/ipykernel_launcher.py\", line 16, in <module>\n    app.launch_new_instance()\n  File \"/usr/local/lib/python3.7/dist-packages/traitlets/config/application.py\", line 846, in launch_instance\n    app.start()\n  File \"/usr/local/lib/python3.7/dist-packages/ipykernel/kernelapp.py\", line 499, in start\n    self.io_loop.start()\n  File \"/usr/local/lib/python3.7/dist-packages/tornado/platform/asyncio.py\", line 132, in start\n    self.asyncio_loop.run_forever()\n  File \"/usr/lib/python3.7/asyncio/base_events.py\", line 541, in run_forever\n    self._run_once()\n  File \"/usr/lib/python3.7/asyncio/base_events.py\", line 1786, in _run_once\n    handle._run()\n  File \"/usr/lib/python3.7/asyncio/events.py\", line 88, in _run\n    self._context.run(self._callback, *self._args)\n  File \"/usr/local/lib/python3.7/dist-packages/tornado/platform/asyncio.py\", line 122, in _handle_events\n    handler_func(fileobj, events)\n  File \"/usr/local/lib/python3.7/dist-packages/tornado/stack_context.py\", line 300, in null_wrapper\n    return fn(*args, **kwargs)\n  File \"/usr/local/lib/python3.7/dist-packages/zmq/eventloop/zmqstream.py\", line 452, in _handle_events\n    self._handle_recv()\n  File \"/usr/local/lib/python3.7/dist-packages/zmq/eventloop/zmqstream.py\", line 481, in _handle_recv\n    self._run_callback(callback, msg)\n  File \"/usr/local/lib/python3.7/dist-packages/zmq/eventloop/zmqstream.py\", line 431, in _run_callback\n    callback(*args, **kwargs)\n  File \"/usr/local/lib/python3.7/dist-packages/tornado/stack_context.py\", line 300, in null_wrapper\n    return fn(*args, **kwargs)\n  File \"/usr/local/lib/python3.7/dist-packages/ipykernel/kernelbase.py\", line 283, in dispatcher\n    return self.dispatch_shell(stream, msg)\n  File \"/usr/local/lib/python3.7/dist-packages/ipykernel/kernelbase.py\", line 233, in dispatch_shell\n    handler(stream, idents, msg)\n  File \"/usr/local/lib/python3.7/dist-packages/ipykernel/kernelbase.py\", line 399, in execute_request\n    user_expressions, allow_stdin)\n  File \"/usr/local/lib/python3.7/dist-packages/ipykernel/ipkernel.py\", line 208, in do_execute\n    res = shell.run_cell(code, store_history=store_history, silent=silent)\n  File \"/usr/local/lib/python3.7/dist-packages/ipykernel/zmqshell.py\", line 537, in run_cell\n    return super(ZMQInteractiveShell, self).run_cell(*args, **kwargs)\n  File \"/usr/local/lib/python3.7/dist-packages/IPython/core/interactiveshell.py\", line 2718, in run_cell\n    interactivity=interactivity, compiler=compiler, result=result)\n  File \"/usr/local/lib/python3.7/dist-packages/IPython/core/interactiveshell.py\", line 2822, in run_ast_nodes\n    if self.run_code(code, result):\n  File \"/usr/local/lib/python3.7/dist-packages/IPython/core/interactiveshell.py\", line 2882, in run_code\n    exec(code_obj, self.user_global_ns, self.user_ns)\n  File \"<ipython-input-36-15768086ad4b>\", line 1, in <module>\n    defended_model = model_def_custom(True)\n  File \"<ipython-input-20-b9ee2f2a98c9>\", line 10, in model_def_custom\n    model.add(MyCustomLayer(10, input_shape = (1,10)))\n  File \"/usr/local/lib/python3.7/dist-packages/tensorflow/python/training/tracking/base.py\", line 530, in _method_wrapper\n    result = method(self, *args, **kwargs)\n  File \"/usr/local/lib/python3.7/dist-packages/keras/utils/traceback_utils.py\", line 64, in error_handler\n    return fn(*args, **kwargs)\n  File \"/usr/local/lib/python3.7/dist-packages/keras/engine/sequential.py\", line 220, in add\n    output_tensor = layer(self.outputs[0])\n  File \"/usr/local/lib/python3.7/dist-packages/keras/utils/traceback_utils.py\", line 64, in error_handler\n    return fn(*args, **kwargs)\n  File \"/usr/local/lib/python3.7/dist-packages/keras/engine/base_layer.py\", line 1020, in __call__\n    input_list)\n  File \"/usr/local/lib/python3.7/dist-packages/keras/engine/base_layer.py\", line 1161, in _functional_construction_call\n    inputs, input_masks, args, kwargs)\n  File \"/usr/local/lib/python3.7/dist-packages/keras/engine/base_layer.py\", line 885, in _keras_tensor_symbolic_call\n    return self._infer_output_signature(inputs, args, kwargs, input_masks)\n  File \"/usr/local/lib/python3.7/dist-packages/keras/engine/base_layer.py\", line 914, in _infer_output_signature\n    keras_tensor.keras_tensor_to_placeholder, inputs)\n  File \"/usr/local/lib/python3.7/dist-packages/tensorflow/python/util/nest.py\", line 869, in map_structure\n    structure[0], [func(*x) for x in entries],\n  File \"/usr/local/lib/python3.7/dist-packages/tensorflow/python/util/nest.py\", line 869, in <listcomp>\n    structure[0], [func(*x) for x in entries],\n  File \"/usr/local/lib/python3.7/dist-packages/keras/engine/keras_tensor.py\", line 606, in keras_tensor_to_placeholder\n    return x._to_placeholder()  # pylint: disable=protected-access\n  File \"/usr/local/lib/python3.7/dist-packages/keras/engine/keras_tensor.py\", line 216, in _to_placeholder\n    component_to_placeholder, self.type_spec, expand_composites=True)\n  File \"/usr/local/lib/python3.7/dist-packages/tensorflow/python/util/nest.py\", line 869, in map_structure\n    structure[0], [func(*x) for x in entries],\n  File \"/usr/local/lib/python3.7/dist-packages/tensorflow/python/util/nest.py\", line 869, in <listcomp>\n    structure[0], [func(*x) for x in entries],\n  File \"/usr/local/lib/python3.7/dist-packages/keras/engine/keras_tensor.py\", line 213, in component_to_placeholder\n    return tf.compat.v1.placeholder(component.dtype, component.shape)\n  File \"/usr/local/lib/python3.7/dist-packages/tensorflow/python/ops/array_ops.py\", line 3289, in placeholder\n    return gen_array_ops.placeholder(dtype=dtype, shape=shape, name=name)\n  File \"/usr/local/lib/python3.7/dist-packages/tensorflow/python/ops/gen_array_ops.py\", line 6894, in placeholder\n    \"Placeholder\", dtype=dtype, shape=shape, name=name)\n  File \"/usr/local/lib/python3.7/dist-packages/tensorflow/python/framework/op_def_library.py\", line 746, in _apply_op_helper\n    attrs=attr_protos, op_def=op_def)\n  File \"/usr/local/lib/python3.7/dist-packages/tensorflow/python/framework/func_graph.py\", line 691, in _create_op_internal\n    compute_device)\n  File \"/usr/local/lib/python3.7/dist-packages/tensorflow/python/framework/ops.py\", line 3705, in _create_op_internal\n    op_def=op_def)\n  File \"/usr/local/lib/python3.7/dist-packages/tensorflow/python/framework/ops.py\", line 2101, in __init__\n    self._traceback = tf_stack.extract_stack_for_node(self._c_op)\n"
          ]
        }
      ]
    },
    {
      "cell_type": "code",
      "metadata": {
        "colab": {
          "base_uri": "https://localhost:8080/"
        },
        "id": "joYZYrZgiqmA",
        "outputId": "b5beb0a2-afca-4261-b4b1-5c04c42a8c08"
      },
      "source": [
        "pred = defended_model.predict(x_test[0].reshape(1,32,32,3))"
      ],
      "execution_count": null,
      "outputs": [
        {
          "name": "stdout",
          "output_type": "stream",
          "text": [
            "In call--------------\n",
            "Tensor(\"sequential_13/keras_layer_13/StatefulPartitionedCall:0\", shape=(None, 10), dtype=float32)\n"
          ]
        }
      ]
    },
    {
      "cell_type": "code",
      "metadata": {
        "colab": {
          "base_uri": "https://localhost:8080/"
        },
        "id": "IYFLueasi6z0",
        "outputId": "f4a23e3d-d152-48ce-91c7-6a3129d86890"
      },
      "source": [
        "pred"
      ],
      "execution_count": null,
      "outputs": [
        {
          "data": {
            "text/plain": [
              "array([[0., 0., 0., 1., 0., 0., 0., 0., 0., 0.]], dtype=float32)"
            ]
          },
          "execution_count": 80,
          "metadata": {},
          "output_type": "execute_result"
        }
      ]
    },
    {
      "cell_type": "code",
      "metadata": {
        "colab": {
          "base_uri": "https://localhost:8080/"
        },
        "id": "LtuiF4vBi3dp",
        "outputId": "96e57160-f0a6-443d-e3f4-8b933caeee09"
      },
      "source": [
        "clslabl(pred)"
      ],
      "execution_count": null,
      "outputs": [
        {
          "data": {
            "text/plain": [
              "array([[0., 0., 0., 1., 0., 0., 0., 0., 0., 0.]], dtype=float32)"
            ]
          },
          "execution_count": 56,
          "metadata": {},
          "output_type": "execute_result"
        }
      ]
    },
    {
      "cell_type": "code",
      "metadata": {
        "colab": {
          "base_uri": "https://localhost:8080/"
        },
        "id": "sdFfjyXpL7WF",
        "outputId": "a00a6fe7-f0b2-433a-b7b9-7da9039621d7"
      },
      "source": [
        "defended_model.summary()"
      ],
      "execution_count": null,
      "outputs": [
        {
          "name": "stdout",
          "output_type": "stream",
          "text": [
            "Model: \"sequential_16\"\n",
            "_________________________________________________________________\n",
            " Layer (type)                Output Shape              Param #   \n",
            "=================================================================\n",
            " keras_layer_16 (KerasLayer)  (None, 10)               7796426   \n",
            "                                                                 \n",
            " activation_22 (Activation)  (None, 10)                0         \n",
            "                                                                 \n",
            " my_custom_layer_5 (MyCustom  (1, 10)                  100       \n",
            " Layer)                                                          \n",
            "                                                                 \n",
            "=================================================================\n",
            "Total params: 7,796,526\n",
            "Trainable params: 100\n",
            "Non-trainable params: 7,796,426\n",
            "_________________________________________________________________\n"
          ]
        }
      ]
    },
    {
      "cell_type": "code",
      "metadata": {
        "colab": {
          "base_uri": "https://localhost:8080/"
        },
        "id": "mfPFyKmiwUyY",
        "outputId": "05647c7b-d096-4a74-b879-49d6c99f4cb8"
      },
      "source": [
        "np.argmax(defended_model.predict(x_test[1].reshape(1,32,32,3)),axis=1)"
      ],
      "execution_count": null,
      "outputs": [
        {
          "data": {
            "text/plain": [
              "array([8])"
            ]
          },
          "execution_count": 107,
          "metadata": {},
          "output_type": "execute_result"
        }
      ]
    },
    {
      "cell_type": "code",
      "metadata": {
        "colab": {
          "base_uri": "https://localhost:8080/"
        },
        "id": "G-aI0xnoxEkn",
        "outputId": "a69b12c1-d992-42e7-f879-8d30f97d15df"
      },
      "source": [
        "clslabl(defended_model.predict(x_test[1].reshape(1,32,32,3)))"
      ],
      "execution_count": null,
      "outputs": [
        {
          "data": {
            "text/plain": [
              "array([[0., 0., 0., 0., 0., 0., 0., 0., 1., 0.]], dtype=float32)"
            ]
          },
          "execution_count": 108,
          "metadata": {},
          "output_type": "execute_result"
        }
      ]
    },
    {
      "cell_type": "code",
      "metadata": {
        "colab": {
          "base_uri": "https://localhost:8080/"
        },
        "id": "GWGUm-cuweFN",
        "outputId": "d9ea27a4-35b7-44d6-e82d-173d83dc180a"
      },
      "source": [
        "y_test[1]"
      ],
      "execution_count": null,
      "outputs": [
        {
          "data": {
            "text/plain": [
              "array([0., 0., 0., 0., 0., 0., 0., 0., 1., 0.], dtype=float32)"
            ]
          },
          "execution_count": 96,
          "metadata": {},
          "output_type": "execute_result"
        }
      ]
    },
    {
      "cell_type": "code",
      "metadata": {
        "colab": {
          "base_uri": "https://localhost:8080/"
        },
        "id": "3MguG8QVL7WF",
        "outputId": "39a744ad-afbe-4fb8-ef32-3aabf658ee75"
      },
      "source": [
        "defended_model.evaluate(x_test[1:10],y_test[1:10])"
      ],
      "execution_count": null,
      "outputs": [
        {
          "name": "stdout",
          "output_type": "stream",
          "text": [
            "Tensor(\"sequential_15/keras_layer_15/StatefulPartitionedCall:0\", shape=(None, 10), dtype=float32)\n",
            "Tensor(\"sequential_15/keras_layer_15/StatefulPartitionedCall:0\", shape=(None, 10), dtype=float32)\n",
            "1/1 [==============================] - 0s 305ms/step - loss: 14.3272 - accuracy: 0.1111\n"
          ]
        },
        {
          "data": {
            "text/plain": [
              "[14.32719612121582, 0.1111111119389534]"
            ]
          },
          "execution_count": 92,
          "metadata": {},
          "output_type": "execute_result"
        }
      ]
    },
    {
      "cell_type": "code",
      "metadata": {
        "id": "XBJ7KFsXwSvg"
      },
      "source": [
        ""
      ],
      "execution_count": null,
      "outputs": []
    },
    {
      "cell_type": "code",
      "metadata": {
        "colab": {
          "base_uri": "https://localhost:8080/"
        },
        "id": "TLIFM4vnL7WF",
        "outputId": "a9c35547-c0fb-4385-c5a7-a2ad1f392a58"
      },
      "source": [
        "defended_model.fit(x_new_def,y_new_def)"
      ],
      "execution_count": null,
      "outputs": [
        {
          "name": "stdout",
          "output_type": "stream",
          "text": [
            "1563/1563 [==============================] - 585s 374ms/step - loss: 4.6040 - accuracy: 0.2630\n"
          ]
        },
        {
          "data": {
            "text/plain": [
              "<keras.callbacks.History at 0x7fcbfb89b310>"
            ]
          },
          "execution_count": 23,
          "metadata": {},
          "output_type": "execute_result"
        }
      ]
    },
    {
      "cell_type": "code",
      "metadata": {
        "colab": {
          "base_uri": "https://localhost:8080/"
        },
        "id": "vDBLmLftL7WF",
        "outputId": "4fcd735d-b349-42e0-aef1-058c7695c001"
      },
      "source": [
        "# wrapper_def = TensorFlowV2Classifier(defended_model, clip_values=(0., 1.),nb_classes=10,input_shape=(32,32,3) ,loss_object=defended_model.loss)\n",
        "\n",
        "fgsm = FastGradientMethod( wrapper,targeted=False,eps_step=0.001, eps=0.01 )\n",
        "# and now on adversarial examples\n",
        "x_test_adv_def = fgsm.generate( x_test_adv )\n",
        "acc =  defended_model.evaluate( x_test_adv_def, y_test_adv )\n",
        "print( 'loss and accuracy on adversarial examples: ', acc )"
      ],
      "execution_count": null,
      "outputs": [
        {
          "name": "stdout",
          "output_type": "stream",
          "text": [
            "4/4 [==============================] - 0s 4ms/step - loss: 14.5063 - accuracy: 0.1000\n",
            "loss and accuracy on adversarial examples:  [14.50628662109375, 0.10000000149011612]\n"
          ]
        }
      ]
    },
    {
      "cell_type": "code",
      "metadata": {
        "colab": {
          "base_uri": "https://localhost:8080/"
        },
        "id": "jMIwhvNWL7WF",
        "outputId": "2a5844a6-ee89-49f8-e3f8-21ec3b7a25b2"
      },
      "source": [
        "np.argmax(defended_model.predict(x_test_adv_def),axis=1)"
      ],
      "execution_count": null,
      "outputs": [
        {
          "data": {
            "text/plain": [
              "array([9, 3, 3, 6, 8, 2, 4, 1, 2, 0, 5, 9, 1, 8, 1, 1, 1, 1, 1, 3, 5, 8,\n",
              "       2, 2, 8, 2, 7, 1, 2, 3, 5, 5, 6, 5, 3, 9, 5, 3, 5, 2, 0, 5, 8, 7,\n",
              "       4, 3, 7, 4, 6, 0, 3, 5, 3, 5, 4, 5, 3, 3, 3, 5, 6, 3, 4, 6, 6, 2,\n",
              "       2, 3, 2, 6, 7, 2, 7, 7, 5, 3, 7, 4, 7, 3, 0, 1, 6, 8, 6, 8, 8, 8,\n",
              "       0, 8, 9, 9, 9, 1, 9, 9, 9, 0, 6, 9])"
            ]
          },
          "execution_count": 26,
          "metadata": {},
          "output_type": "execute_result"
        }
      ]
    },
    {
      "cell_type": "code",
      "metadata": {
        "id": "NFTQuLIRL7WF"
      },
      "source": [
        "res_def.append({\"name\":\"Total Variance Minimization\",\"accuracy\":acc[1],\"loss\":acc[0]})"
      ],
      "execution_count": null,
      "outputs": []
    },
    {
      "cell_type": "code",
      "metadata": {
        "colab": {
          "base_uri": "https://localhost:8080/",
          "height": 34,
          "referenced_widgets": [
            "c9d4e28bb5b44ef9b1186b70814d3eca",
            "30c0e92fb1004f61af5072ffaebd8f93",
            "8efa0ceb95cb489eae6f68148a5414ac",
            "2562219934af487281d3664d51538352",
            "35315f8ef98f4062951ac207c219fd6f",
            "a3c4c42427794788a254e88304d121be",
            "1e9ed9642d9343aca162f4ca20d5f8f7",
            "f3d6b2a0967b4ee681fad368e90dbf31",
            "57ca2ece9cd642af8503c38ff30e2d60",
            "b59f407ee5104944a902f028e507e93f",
            "f4c79d1686d34460ba50fd87fbcc8912"
          ]
        },
        "id": "1Jhl66URL7WG",
        "outputId": "59545ec7-3d4b-4cd8-dc45-52988d1e9736"
      },
      "source": [
        "from art.attacks.evasion import ProjectedGradientDescent\n",
        "pgd = ProjectedGradientDescent( wrapper,eps_step=0.001, eps=0.01, targeted=False,max_iter=10)\n",
        "x_test_adv_def = pgd.generate( x_test_adv )\n",
        "acc =  defended_model.evaluate( x_test_adv_def, y_test_adv )"
      ],
      "execution_count": null,
      "outputs": [
        {
          "data": {
            "application/vnd.jupyter.widget-view+json": {
              "model_id": "c9d4e28bb5b44ef9b1186b70814d3eca",
              "version_major": 2,
              "version_minor": 0
            },
            "text/plain": [
              "PGD - Batches: 0it [00:00, ?it/s]"
            ]
          },
          "metadata": {},
          "output_type": "display_data"
        },
        {
          "name": "stdout",
          "output_type": "stream",
          "text": [
            "4/4 [==============================] - 1s 265ms/step - loss: 9.8838 - accuracy: 0.1500\n"
          ]
        }
      ]
    },
    {
      "cell_type": "code",
      "metadata": {
        "colab": {
          "base_uri": "https://localhost:8080/"
        },
        "id": "WHqOKDzsL7WG",
        "outputId": "f6b87a26-983c-4364-f2c1-804aa4badb45"
      },
      "source": [
        "print( 'loss and accuracy on adversarial examples: ', acc )"
      ],
      "execution_count": null,
      "outputs": [
        {
          "name": "stdout",
          "output_type": "stream",
          "text": [
            "loss and accuracy on adversarial examples:  [9.883766174316406, 0.15000000596046448]\n"
          ]
        }
      ]
    },
    {
      "cell_type": "code",
      "metadata": {
        "id": "5QdjKKnCL7WG"
      },
      "source": [
        ""
      ],
      "execution_count": null,
      "outputs": []
    },
    {
      "cell_type": "code",
      "metadata": {
        "id": "AAm-u3V7L7WG"
      },
      "source": [
        "res_def.append({\"name\":\"Spatial Smoothing on PGD\",\"accuracy\":acc[1],\"loss\":acc[0]})"
      ],
      "execution_count": null,
      "outputs": []
    },
    {
      "cell_type": "code",
      "metadata": {
        "colab": {
          "base_uri": "https://localhost:8080/"
        },
        "id": "nDjNZcGHL7WG",
        "outputId": "43e112d6-0b6f-4fb2-fe3b-bacc20065938"
      },
      "source": [
        "res_def"
      ],
      "execution_count": null,
      "outputs": [
        {
          "data": {
            "text/plain": [
              "[{'accuracy': 0.4000000059604645,\n",
              "  'loss': 3.9273157119750977,\n",
              "  'name': 'Feature Squezzing'},\n",
              " {'accuracy': 0.4000000059604645,\n",
              "  'loss': 3.9228830337524414,\n",
              "  'name': 'Gaussian Data Augmentation'},\n",
              " {'accuracy': 0.15000000596046448,\n",
              "  'loss': 9.883766174316406,\n",
              "  'name': 'Gaussian Data Augmentation on PGD'},\n",
              " {'accuracy': 0.4000000059604645, 'loss': 3.9228830337524414, 'name': 'JPEG '},\n",
              " {'accuracy': 0.4000000059604645,\n",
              "  'loss': 3.9228830337524414,\n",
              "  'name': 'Label Smoothing '},\n",
              " {'accuracy': 0.15000000596046448,\n",
              "  'loss': 9.883766174316406,\n",
              "  'name': 'Spatial Smoothing on PGD'},\n",
              " {'accuracy': 0.15000000596046448,\n",
              "  'loss': 9.883766174316406,\n",
              "  'name': 'Spatial Smoothing'},\n",
              " {'accuracy': 0.4000000059604645,\n",
              "  'loss': 3.9228830337524414,\n",
              "  'name': 'Total Variance Minimization'},\n",
              " {'accuracy': 0.019999999552965164,\n",
              "  'loss': 1.2184207439422607,\n",
              "  'name': 'Spatial Smoothing - Saliency Map Attack'},\n",
              " {'accuracy': 0.009999999776482582,\n",
              "  'loss': 1.2387489080429077,\n",
              "  'name': 'Feature Squezzing - Saliency Map Method'}]"
            ]
          },
          "execution_count": 52,
          "metadata": {},
          "output_type": "execute_result"
        }
      ]
    },
    {
      "cell_type": "markdown",
      "metadata": {
        "id": "tgoDxKlUL7WG"
      },
      "source": [
        ""
      ]
    },
    {
      "cell_type": "code",
      "metadata": {
        "id": "IW6tK6ZTL7WG"
      },
      "source": [
        "# res_def = [{'accuracy': 0.4000000059604645,\n",
        "#   'loss': 3.9273157119750977,\n",
        "#   'name': 'Feature Squezzing'},\n",
        "#  {'accuracy': 0.4000000059604645,\n",
        "#   'loss': 3.9228830337524414,\n",
        "#   'name': 'Gaussian Data Augmentation'},\n",
        "#  {'accuracy': 0.15000000596046448,\n",
        "#   'loss': 9.883766174316406,\n",
        "#   'name': 'Gaussian Data Augmentation on PGD'},\n",
        "#  {'accuracy': 0.4000000059604645, 'loss': 3.9228830337524414, 'name': 'JPEG '},\n",
        "#  {'accuracy': 0.4000000059604645,\n",
        "#   'loss': 3.9228830337524414,\n",
        "#   'name': 'Label Smoothing '},\n",
        "#  {'accuracy': 0.15000000596046448,\n",
        "#   'loss': 9.883766174316406,\n",
        "#   'name': 'Spatial Smoothing on PGD'},\n",
        "#  {'accuracy': 0.15000000596046448,\n",
        "#   'loss': 9.883766174316406,\n",
        "#   'name': 'Spatial Smoothing'},\n",
        "#  {'accuracy': 0.4000000059604645,\n",
        "#   'loss': 3.9228830337524414,\n",
        "#   'name': 'Total Variance Minimization'},\n",
        "#  {'accuracy': 0.019999999552965164,\n",
        "#   'loss': 1.2184207439422607,\n",
        "#   'name': 'Spatial Smoothing - Saliency Map Attack'},\n",
        "#  {'accuracy': 0.009999999776482582,\n",
        "#   'loss': 1.2387489080429077,\n",
        "#   'name': 'Feature Squezzing - Saliency Map Method'}]"
      ],
      "execution_count": null,
      "outputs": []
    },
    {
      "cell_type": "markdown",
      "metadata": {
        "id": "-twcA708sk-9"
      },
      "source": [
        ""
      ]
    },
    {
      "cell_type": "code",
      "metadata": {
        "id": "STA01m2uso0U"
      },
      "source": [
        ""
      ],
      "execution_count": null,
      "outputs": []
    },
    {
      "cell_type": "code",
      "metadata": {
        "id": "Ht8x_jwVkWB5"
      },
      "source": [
        ""
      ],
      "execution_count": null,
      "outputs": []
    },
    {
      "cell_type": "markdown",
      "metadata": {
        "id": "NjlpMXMNspLi"
      },
      "source": [
        "# **Adversarial Training**"
      ]
    },
    {
      "cell_type": "code",
      "metadata": {
        "id": "phqx8lOwspLi"
      },
      "source": [
        "# res_def = "
      ],
      "execution_count": null,
      "outputs": []
    },
    {
      "cell_type": "code",
      "metadata": {
        "id": "sPMrhvsLspLi"
      },
      "source": [
        "!pip install tensorflow_addons"
      ],
      "execution_count": null,
      "outputs": []
    },
    {
      "cell_type": "code",
      "metadata": {
        "id": "DYUorpQTspLi"
      },
      "source": [
        "defended_model = model_def()"
      ],
      "execution_count": null,
      "outputs": []
    },
    {
      "cell_type": "code",
      "metadata": {
        "colab": {
          "base_uri": "https://localhost:8080/"
        },
        "id": "DsFo6fQfspLi",
        "outputId": "356cc801-7398-4f5a-9f51-7db6504c39c5"
      },
      "source": [
        "defended_model.summary()"
      ],
      "execution_count": null,
      "outputs": [
        {
          "name": "stdout",
          "output_type": "stream",
          "text": [
            "Model: \"sequential_2\"\n",
            "_________________________________________________________________\n",
            " Layer (type)                Output Shape              Param #   \n",
            "=================================================================\n",
            " keras_layer_2 (KerasLayer)  (None, 10)                7796426   \n",
            "                                                                 \n",
            " activation_2 (Activation)   (None, 10)                0         \n",
            "                                                                 \n",
            "=================================================================\n",
            "Total params: 7,796,426\n",
            "Trainable params: 0\n",
            "Non-trainable params: 7,796,426\n",
            "_________________________________________________________________\n"
          ]
        }
      ]
    },
    {
      "cell_type": "code",
      "metadata": {
        "id": "bvU5QtNyLRt0"
      },
      "source": [
        "from art.attacks.evasion import FastGradientMethod\n",
        "#, eps_step=0.001, eps=0.01, \n",
        "fgsm = FastGradientMethod( wrapper,targeted=False,eps_step=0.001, eps=0.01 )"
      ],
      "execution_count": null,
      "outputs": []
    },
    {
      "cell_type": "code",
      "metadata": {
        "id": "5RO6EuJIspLi"
      },
      "source": [
        "from art.defences.trainer import AdversarialTrainer\n",
        "adtrain = AdversarialTrainer(classifier = defended_model,\n",
        "                           attacks = fgsm, ratio = 0.001)\n"
      ],
      "execution_count": null,
      "outputs": []
    },
    {
      "cell_type": "code",
      "metadata": {
        "colab": {
          "base_uri": "https://localhost:8080/",
          "height": 81,
          "referenced_widgets": [
            "c3f9daab1171493fbc6cb3350c3baafb",
            "eff4a0b7a7824c7b97aba84d20962f8d",
            "11d1bec74ef3478ca79fc039877f0abc",
            "88171d1bb56f4927aa1b980b8f1a5273",
            "b7ad8b6231c64bbab4ac515d5e3bee64",
            "8eb5deea54784ff4ad8c03be3bffba4b",
            "640a6ba79bc94e9d9516b0568a3c878c",
            "93464059d1654c71937d4a0016373df3",
            "1a866bec4dec4ee59e6c96e92fad72eb",
            "bea9b7ad63244b6ca39f0234fc04c389",
            "4db4d2c484cf46cba24063b7bb560795",
            "1ac457bfb84c428bb28695c888887a1d",
            "20e7bc8b6f894f70bf4496f4617d35e2",
            "de4c522f29274f999f1a70f087040c81",
            "79259fa57a1b4585ab249bbe7f40efbc",
            "bd1bce534a4b4eb1935d519807c0becf",
            "fa775cbe91bb4643a38246c45a7723bd",
            "73c394a7f5b34f4383f07a9749d02b98",
            "55d4f4059a37479fad2a21a35bfb924e",
            "67eb749a021b4e1e9588c95d99f1c3c0",
            "53238c8aaff3427786fdbdb51f84001e",
            "cf4d531c3c76465f86eced3debcf0de8"
          ]
        },
        "id": "6KmLIle9spLi",
        "outputId": "c404ff97-4493-4227-a19f-13b66529bf72"
      },
      "source": [
        "adtrain.fit(x_train, y_train, batch_size = 20)"
      ],
      "execution_count": null,
      "outputs": [
        {
          "data": {
            "application/vnd.jupyter.widget-view+json": {
              "model_id": "c3f9daab1171493fbc6cb3350c3baafb",
              "version_major": 2,
              "version_minor": 0
            },
            "text/plain": [
              "Precompute adv samples:   0%|          | 0/1 [00:00<?, ?it/s]"
            ]
          },
          "metadata": {},
          "output_type": "display_data"
        },
        {
          "data": {
            "application/vnd.jupyter.widget-view+json": {
              "model_id": "1ac457bfb84c428bb28695c888887a1d",
              "version_major": 2,
              "version_minor": 0
            },
            "text/plain": [
              "Adversarial training epochs:   0%|          | 0/20 [00:00<?, ?it/s]"
            ]
          },
          "metadata": {},
          "output_type": "display_data"
        }
      ]
    },
    {
      "cell_type": "code",
      "metadata": {
        "id": "vpadz5mNLMcI"
      },
      "source": [
        "x_test_adv_def = fgsm.generate( x_test_adv )"
      ],
      "execution_count": null,
      "outputs": []
    },
    {
      "cell_type": "code",
      "metadata": {
        "id": "ffvngb1VhnAs"
      },
      "source": [
        "preds_adt = adtrain.predict(x_test_adv_def)"
      ],
      "execution_count": null,
      "outputs": []
    },
    {
      "cell_type": "code",
      "metadata": {
        "id": "afyBP5rrh78P"
      },
      "source": [
        "preds_adt = np.argmax(preds_adt,axis=1)"
      ],
      "execution_count": null,
      "outputs": []
    },
    {
      "cell_type": "code",
      "metadata": {
        "colab": {
          "base_uri": "https://localhost:8080/"
        },
        "id": "vaAjvxW7iBZY",
        "outputId": "dc41f3b4-ed82-4638-ec05-b145315d43b4"
      },
      "source": [
        "from sklearn.metrics import classification_report\n",
        "ad_clf_rep = classification_report(preds_adt, np.argmax(y_test_adv,axis=1))\n",
        "print(ad_clf_rep)"
      ],
      "execution_count": null,
      "outputs": [
        {
          "output_type": "stream",
          "name": "stdout",
          "text": [
            "              precision    recall  f1-score   support\n",
            "\n",
            "           0       0.10      0.17      0.12         6\n",
            "           1       0.60      0.60      0.60        10\n",
            "           2       0.40      0.36      0.38        11\n",
            "           3       0.20      0.12      0.15        16\n",
            "           4       0.20      0.33      0.25         6\n",
            "           5       0.40      0.31      0.35        13\n",
            "           6       0.40      0.40      0.40        10\n",
            "           7       0.50      0.62      0.56         8\n",
            "           8       0.50      0.50      0.50        10\n",
            "           9       0.70      0.70      0.70        10\n",
            "\n",
            "    accuracy                           0.40       100\n",
            "   macro avg       0.40      0.41      0.40       100\n",
            "weighted avg       0.41      0.40      0.40       100\n",
            "\n"
          ]
        }
      ]
    },
    {
      "cell_type": "code",
      "metadata": {
        "id": "vwSYR865spLj"
      },
      "source": [
        "res_def"
      ],
      "execution_count": null,
      "outputs": []
    },
    {
      "cell_type": "markdown",
      "metadata": {
        "id": "AULMRuTOspLj"
      },
      "source": [
        ""
      ]
    },
    {
      "cell_type": "code",
      "metadata": {
        "id": "bXd__ebqspLk"
      },
      "source": [
        "# res_def = [{'accuracy': 0.4000000059604645,\n",
        "#   'loss': 3.9273157119750977,\n",
        "#   'name': 'Feature Squezzing'},\n",
        "#  {'accuracy': 0.4000000059604645,\n",
        "#   'loss': 3.9228830337524414,\n",
        "#   'name': 'Gaussian Data Augmentation'},\n",
        "#  {'accuracy': 0.15000000596046448,\n",
        "#   'loss': 9.883766174316406,\n",
        "#   'name': 'Gaussian Data Augmentation on PGD'},\n",
        "#  {'accuracy': 0.4000000059604645, 'loss': 3.9228830337524414, 'name': 'JPEG '},\n",
        "#  {'accuracy': 0.4000000059604645,\n",
        "#   'loss': 3.9228830337524414,\n",
        "#   'name': 'Label Smoothing '},\n",
        "#  {'accuracy': 0.15000000596046448,\n",
        "#   'loss': 9.883766174316406,\n",
        "#   'name': 'Spatial Smoothing on PGD'},\n",
        "#  {'accuracy': 0.15000000596046448,\n",
        "#   'loss': 9.883766174316406,\n",
        "#   'name': 'Spatial Smoothing'},\n",
        "#  {'accuracy': 0.4000000059604645,\n",
        "#   'loss': 3.9228830337524414,\n",
        "#   'name': 'Total Variance Minimization'},\n",
        "#  {'accuracy': 0.019999999552965164,\n",
        "#   'loss': 1.2184207439422607,\n",
        "#   'name': 'Spatial Smoothing - Saliency Map Attack'},\n",
        "#  {'accuracy': 0.009999999776482582,\n",
        "#   'loss': 1.2387489080429077,\n",
        "#   'name': 'Feature Squezzing - Saliency Map Method'}]"
      ],
      "execution_count": null,
      "outputs": []
    },
    {
      "cell_type": "code",
      "metadata": {
        "id": "k1z-wBiSkeDA"
      },
      "source": [
        ""
      ],
      "execution_count": null,
      "outputs": []
    },
    {
      "cell_type": "markdown",
      "metadata": {
        "id": "gDwY0bbhkeSK"
      },
      "source": [
        "# **Adversarial Training**"
      ]
    },
    {
      "cell_type": "code",
      "metadata": {
        "id": "26nElA7ekeSL"
      },
      "source": [
        "# res_def = "
      ],
      "execution_count": null,
      "outputs": []
    },
    {
      "cell_type": "code",
      "metadata": {
        "id": "sM0Z7fqdkeSL"
      },
      "source": [
        "!pip install tensorflow_addons"
      ],
      "execution_count": null,
      "outputs": []
    },
    {
      "cell_type": "code",
      "metadata": {
        "id": "etNembWmkeSL"
      },
      "source": [
        "defended_model = model_def()"
      ],
      "execution_count": null,
      "outputs": []
    },
    {
      "cell_type": "code",
      "metadata": {
        "colab": {
          "base_uri": "https://localhost:8080/"
        },
        "id": "F5c2L5NUkeSL",
        "outputId": "63318000-a57e-4e64-a275-1da1cf93bc9a"
      },
      "source": [
        "defended_model.summary()"
      ],
      "execution_count": null,
      "outputs": [
        {
          "output_type": "stream",
          "name": "stdout",
          "text": [
            "Model: \"sequential_3\"\n",
            "_________________________________________________________________\n",
            " Layer (type)                Output Shape              Param #   \n",
            "=================================================================\n",
            " keras_layer_3 (KerasLayer)  (None, 10)                7796426   \n",
            "                                                                 \n",
            " activation_3 (Activation)   (None, 10)                0         \n",
            "                                                                 \n",
            "=================================================================\n",
            "Total params: 7,796,426\n",
            "Trainable params: 0\n",
            "Non-trainable params: 7,796,426\n",
            "_________________________________________________________________\n"
          ]
        }
      ]
    },
    {
      "cell_type": "code",
      "metadata": {
        "id": "qPKJhNGKkeSL"
      },
      "source": [
        "from art.attacks.evasion import FastGradientMethod\n",
        "#, eps_step=0.001, eps=0.01, \n",
        "fgsm = FastGradientMethod( wrapper,targeted=False,eps_step=0.001, eps=0.01 )"
      ],
      "execution_count": null,
      "outputs": []
    },
    {
      "cell_type": "code",
      "metadata": {
        "id": "lzSbKbCLkeSL"
      },
      "source": [
        "from art.defences.trainer import AdversarialTrainer\n",
        "adtrain = AdversarialTrainer(classifier = defended_model,\n",
        "                           attacks = fgsm, ratio = 0.1)\n"
      ],
      "execution_count": null,
      "outputs": []
    },
    {
      "cell_type": "code",
      "metadata": {
        "colab": {
          "base_uri": "https://localhost:8080/",
          "height": 81,
          "referenced_widgets": [
            "4e8b3c57b686468baa144901c2c031bb",
            "eada731d5050497489d4ce5b12f07184",
            "a10e57900c994f18ba081fcf244f166c",
            "79b2df21a01f4236b8c499fcdabd4ecf",
            "0b3d67ac4559444e82d0c770e13a7a1c",
            "20e58871f91948378cafde42d8aeb441",
            "085d5186c93a42f0824509a305d7f93a",
            "11e4451b4a434034adbfec6d912d2383",
            "26003102a81d40de962b5171159ab099",
            "62428ff1156e4327b6fa959468458432",
            "220d2a8671d647f994d0302acc98027d",
            "1481bbcf9ba045c080f216ea5d8ee957",
            "f6d2fe1d02d94b9085b6ed5828ca85f3",
            "ef143f19225047b1bde90c0e616d9db1",
            "32c37b377c884acfbc7838aaba0d09dc",
            "adcf33d3066f4a3992abad2c97c7027d",
            "72d64304b7624f0b86a5f9ca00ba8e55",
            "c124fdf1fbf149028cfff0996bb9a2e0",
            "eb7d0c46954b4401a5a8948c95aa091b",
            "c6d5dac1398e46b98bb11681c36d2537",
            "1971afb826bd408d859c1bd9e2fb3661",
            "50de9dd073af437c8e136d728d8d87f0"
          ]
        },
        "id": "u1ff5XIjkeSL",
        "outputId": "3b03e3b6-e874-4802-d058-0824cf54e182"
      },
      "source": [
        "adtrain.fit(x_train, y_train, batch_size = 20)"
      ],
      "execution_count": null,
      "outputs": [
        {
          "output_type": "display_data",
          "data": {
            "application/vnd.jupyter.widget-view+json": {
              "model_id": "4e8b3c57b686468baa144901c2c031bb",
              "version_minor": 0,
              "version_major": 2
            },
            "text/plain": [
              "Precompute adv samples:   0%|          | 0/1 [00:00<?, ?it/s]"
            ]
          },
          "metadata": {}
        },
        {
          "output_type": "display_data",
          "data": {
            "application/vnd.jupyter.widget-view+json": {
              "model_id": "1481bbcf9ba045c080f216ea5d8ee957",
              "version_minor": 0,
              "version_major": 2
            },
            "text/plain": [
              "Adversarial training epochs:   0%|          | 0/20 [00:00<?, ?it/s]"
            ]
          },
          "metadata": {}
        }
      ]
    },
    {
      "cell_type": "code",
      "metadata": {
        "id": "7G02f0eFkeSM"
      },
      "source": [
        "x_test_adv_def = fgsm.generate( x_test_adv )"
      ],
      "execution_count": null,
      "outputs": []
    },
    {
      "cell_type": "code",
      "metadata": {
        "id": "f_I4gJ33keSM"
      },
      "source": [
        "preds_adt = adtrain.predict(x_test_adv_def)\n",
        "preds_adt = np.argmax(preds_adt,axis=1)"
      ],
      "execution_count": null,
      "outputs": []
    },
    {
      "cell_type": "code",
      "metadata": {
        "colab": {
          "base_uri": "https://localhost:8080/"
        },
        "id": "RKSt5NZcnGDY",
        "outputId": "d6da109f-756a-4d93-bea1-1d5de4f1b4db"
      },
      "source": [
        "model.evaluate(x_test_adv_def,y_test_adv)"
      ],
      "execution_count": null,
      "outputs": [
        {
          "output_type": "stream",
          "name": "stdout",
          "text": [
            "4/4 [==============================] - 1s 212ms/step - loss: 3.9229 - accuracy: 0.4000\n"
          ]
        },
        {
          "output_type": "execute_result",
          "data": {
            "text/plain": [
              "[3.9228835105895996, 0.4000000059604645]"
            ]
          },
          "metadata": {},
          "execution_count": 85
        }
      ]
    },
    {
      "cell_type": "code",
      "metadata": {
        "colab": {
          "base_uri": "https://localhost:8080/"
        },
        "id": "k7HJ596JkeSM",
        "outputId": "90a92513-3c8f-41ff-a9e8-d055cc6e21a0"
      },
      "source": [
        "from sklearn.metrics import classification_report\n",
        "ad_clf_rep = classification_report(preds_adt, np.argmax(y_test_adv,axis=1))\n",
        "print(ad_clf_rep)"
      ],
      "execution_count": null,
      "outputs": [
        {
          "output_type": "stream",
          "name": "stdout",
          "text": [
            "              precision    recall  f1-score   support\n",
            "\n",
            "           0       0.10      0.17      0.12         6\n",
            "           1       0.60      0.60      0.60        10\n",
            "           2       0.40      0.36      0.38        11\n",
            "           3       0.20      0.12      0.15        16\n",
            "           4       0.20      0.33      0.25         6\n",
            "           5       0.40      0.31      0.35        13\n",
            "           6       0.40      0.40      0.40        10\n",
            "           7       0.50      0.62      0.56         8\n",
            "           8       0.50      0.50      0.50        10\n",
            "           9       0.70      0.70      0.70        10\n",
            "\n",
            "    accuracy                           0.40       100\n",
            "   macro avg       0.40      0.41      0.40       100\n",
            "weighted avg       0.41      0.40      0.40       100\n",
            "\n"
          ]
        }
      ]
    },
    {
      "cell_type": "code",
      "metadata": {
        "id": "ABrSKzRFkeSM"
      },
      "source": [
        "res_def"
      ],
      "execution_count": null,
      "outputs": []
    },
    {
      "cell_type": "markdown",
      "metadata": {
        "id": "yRzI-pkJkeSM"
      },
      "source": [
        ""
      ]
    },
    {
      "cell_type": "code",
      "metadata": {
        "id": "8LnlDeickeSM"
      },
      "source": [
        "# res_def = [{'accuracy': 0.4000000059604645,\n",
        "#   'loss': 3.9273157119750977,\n",
        "#   'name': 'Feature Squezzing'},\n",
        "#  {'accuracy': 0.4000000059604645,\n",
        "#   'loss': 3.9228830337524414,\n",
        "#   'name': 'Gaussian Data Augmentation'},\n",
        "#  {'accuracy': 0.15000000596046448,\n",
        "#   'loss': 9.883766174316406,\n",
        "#   'name': 'Gaussian Data Augmentation on PGD'},\n",
        "#  {'accuracy': 0.4000000059604645, 'loss': 3.9228830337524414, 'name': 'JPEG '},\n",
        "#  {'accuracy': 0.4000000059604645,\n",
        "#   'loss': 3.9228830337524414,\n",
        "#   'name': 'Label Smoothing '},\n",
        "#  {'accuracy': 0.15000000596046448,\n",
        "#   'loss': 9.883766174316406,\n",
        "#   'name': 'Spatial Smoothing on PGD'},\n",
        "#  {'accuracy': 0.15000000596046448,\n",
        "#   'loss': 9.883766174316406,\n",
        "#   'name': 'Spatial Smoothing'},\n",
        "#  {'accuracy': 0.4000000059604645,\n",
        "#   'loss': 3.9228830337524414,\n",
        "#   'name': 'Total Variance Minimization'},\n",
        "#  {'accuracy': 0.019999999552965164,\n",
        "#   'loss': 1.2184207439422607,\n",
        "#   'name': 'Spatial Smoothing - Saliency Map Attack'},\n",
        "#  {'accuracy': 0.009999999776482582,\n",
        "#   'loss': 1.2387489080429077,\n",
        "#   'name': 'Feature Squezzing - Saliency Map Method'}]"
      ],
      "execution_count": null,
      "outputs": []
    },
    {
      "cell_type": "code",
      "metadata": {
        "id": "UdD7b8R0Hkra"
      },
      "source": [
        ""
      ],
      "execution_count": null,
      "outputs": []
    },
    {
      "cell_type": "markdown",
      "metadata": {
        "id": "u7z35SXnwPt_"
      },
      "source": [
        "# **Evasion attacks on Text**"
      ]
    },
    {
      "cell_type": "code",
      "metadata": {
        "colab": {
          "base_uri": "https://localhost:8080/"
        },
        "id": "-0w3aIE0DiNj",
        "outputId": "77d2ba58-e03c-4b44-b982-10e7d06f0345"
      },
      "source": [
        "# This model training code is directly from:\n",
        "# https://github.com/keras-team/keras/blob/master/examples/imdb_lstm.py\n",
        "\n",
        "'''Trains an LSTM model on the IMDB sentiment classification task.\n",
        "The dataset is actually too small for LSTM to be of any advantage\n",
        "compared to simpler, much faster methods such as TF-IDF + LogReg.\n",
        "# Notes\n",
        "- RNNs are tricky. Choice of batch size is important,\n",
        "choice of loss and optimizer is critical, etc.\n",
        "Some configurations won't converge.\n",
        "- LSTM loss decrease patterns during training can be quite different\n",
        "from what you see with CNNs/MLPs/etc.\n",
        "'''\n",
        "from __future__ import print_function\n",
        "\n",
        "from keras.preprocessing import sequence\n",
        "from keras.models import Sequential\n",
        "from keras.layers import Dense, Embedding\n",
        "from keras.layers import LSTM\n",
        "from keras.datasets import imdb\n",
        "\n",
        "max_features = 20000\n",
        "maxlen = 80  # cut texts after this number of words (among top max_features most common words)\n",
        "batch_size = 32\n",
        "\n",
        "print('Loading data...')\n",
        "(x_train, y_train), (x_test, y_test) = imdb.load_data(num_words=max_features)\n",
        "print(len(x_train), 'train sequences')\n",
        "print(len(x_test), 'test sequences')\n",
        "\n",
        "print('Pad sequences (samples x time)')\n",
        "x_train = sequence.pad_sequences(x_train, maxlen=maxlen)\n",
        "x_test = sequence.pad_sequences(x_test, maxlen=maxlen)\n",
        "print('x_train shape:', x_train.shape)\n",
        "print('x_test shape:', x_test.shape)"
      ],
      "execution_count": null,
      "outputs": [
        {
          "output_type": "stream",
          "name": "stdout",
          "text": [
            "Loading data...\n",
            "Downloading data from https://storage.googleapis.com/tensorflow/tf-keras-datasets/imdb.npz\n",
            "17465344/17464789 [==============================] - 0s 0us/step\n",
            "17473536/17464789 [==============================] - 0s 0us/step\n",
            "25000 train sequences\n",
            "25000 test sequences\n",
            "Pad sequences (samples x time)\n",
            "x_train shape: (25000, 80)\n",
            "x_test shape: (25000, 80)\n"
          ]
        }
      ]
    },
    {
      "cell_type": "code",
      "metadata": {
        "colab": {
          "base_uri": "https://localhost:8080/"
        },
        "id": "nltZ3pIkwdmH",
        "outputId": "ba56f775-04a4-4abe-b306-a4f3d2027c75"
      },
      "source": [
        "print('Build model...')\n",
        "model_imdb = Sequential()\n",
        "model_imdb.add(Embedding(max_features, 128))\n",
        "model_imdb.add(LSTM(128, dropout=0.2, recurrent_dropout=0.2))\n",
        "model_imdb.add(Dense(1, activation='sigmoid'))\n",
        "\n",
        "# try using different optimizers and different optimizer configs\n",
        "model_imdb.compile(loss='binary_crossentropy',\n",
        "              optimizer='adam',\n",
        "              metrics=['accuracy'])\n",
        "\n",
        "print('Train...')\n",
        "model_imdb.fit(x_train, y_train,\n",
        "          batch_size=batch_size,\n",
        "          epochs=5,\n",
        "          validation_data=(x_test, y_test))\n",
        "score, acc = model_imdb.evaluate(x_test, y_test,\n",
        "                            batch_size=batch_size)\n",
        "print('Test score:', score)\n",
        "print('Test accuracy:', acc)"
      ],
      "execution_count": null,
      "outputs": [
        {
          "output_type": "stream",
          "name": "stdout",
          "text": [
            "Loading data...\n",
            "25000 train sequences\n",
            "25000 test sequences\n",
            "Pad sequences (samples x time)\n",
            "x_train shape: (25000, 80)\n",
            "x_test shape: (25000, 80)\n",
            "Build model...\n",
            "Train...\n",
            "Epoch 1/5\n",
            "782/782 [==============================] - 245s 310ms/step - loss: 0.4355 - accuracy: 0.7948 - val_loss: 0.3587 - val_accuracy: 0.8419\n",
            "Epoch 2/5\n",
            "782/782 [==============================] - 243s 311ms/step - loss: 0.2533 - accuracy: 0.8990 - val_loss: 0.3770 - val_accuracy: 0.8390\n",
            "Epoch 3/5\n",
            "782/782 [==============================] - 245s 313ms/step - loss: 0.1658 - accuracy: 0.9374 - val_loss: 0.5200 - val_accuracy: 0.8272\n",
            "Epoch 4/5\n",
            "782/782 [==============================] - 243s 311ms/step - loss: 0.1086 - accuracy: 0.9611 - val_loss: 0.5250 - val_accuracy: 0.8228\n",
            "Epoch 5/5\n",
            "782/782 [==============================] - 244s 313ms/step - loss: 0.0680 - accuracy: 0.9767 - val_loss: 0.7274 - val_accuracy: 0.8180\n",
            "782/782 [==============================] - 26s 33ms/step - loss: 0.7274 - accuracy: 0.8180\n",
            "Test score: 0.7274217009544373\n",
            "Test accuracy: 0.8180000185966492\n"
          ]
        }
      ]
    },
    {
      "cell_type": "code",
      "metadata": {
        "id": "uuD8OTS964J0"
      },
      "source": [
        "model_imdb.save(\"/content/drive/MyDrive/imdb_model\")"
      ],
      "execution_count": null,
      "outputs": []
    },
    {
      "cell_type": "code",
      "metadata": {
        "id": "QU6Uy9Vd7Ach"
      },
      "source": [
        "from keras.models import load_model\n",
        "model_imdb = load_model('/content/drive/MyDrive/imdb_model')"
      ],
      "execution_count": null,
      "outputs": []
    },
    {
      "cell_type": "code",
      "metadata": {
        "colab": {
          "base_uri": "https://localhost:8080/"
        },
        "id": "DParG2l6zbip",
        "outputId": "386ac4e1-1503-44e2-b86a-2ccc9b7950a4"
      },
      "source": [
        "x_test.shape,y_test.shape"
      ],
      "execution_count": null,
      "outputs": [
        {
          "output_type": "execute_result",
          "data": {
            "text/plain": [
              "((25000, 80), (25000,))"
            ]
          },
          "metadata": {},
          "execution_count": 7
        }
      ]
    },
    {
      "cell_type": "code",
      "metadata": {
        "id": "c0JvC21pCRBl"
      },
      "source": [
        "sam_1 = x_test[y_test==1]"
      ],
      "execution_count": null,
      "outputs": []
    },
    {
      "cell_type": "code",
      "metadata": {
        "id": "ex6age9WCy3j"
      },
      "source": [
        "sam_0 = x_test[y_test==0]"
      ],
      "execution_count": null,
      "outputs": []
    },
    {
      "cell_type": "code",
      "metadata": {
        "colab": {
          "base_uri": "https://localhost:8080/"
        },
        "id": "A80vBtqOC3WV",
        "outputId": "f4d7e79a-382b-4422-a0d6-389578225242"
      },
      "source": [
        "sam_1.shape,sam_0.shape"
      ],
      "execution_count": null,
      "outputs": [
        {
          "output_type": "execute_result",
          "data": {
            "text/plain": [
              "((12500, 80), (12500, 80))"
            ]
          },
          "metadata": {},
          "execution_count": 10
        }
      ]
    },
    {
      "cell_type": "code",
      "metadata": {
        "id": "sIQg00H0C-uW"
      },
      "source": [
        "x_text_test = np.concatenate((sam_0[0:100], sam_1[0:100]), axis=0)"
      ],
      "execution_count": null,
      "outputs": []
    },
    {
      "cell_type": "code",
      "metadata": {
        "id": "kVi9v1-JnFqh"
      },
      "source": [
        "jj = np.zeros(100,dtype=int)\n",
        "jk = np.ones(100,dtype=int)"
      ],
      "execution_count": null,
      "outputs": []
    },
    {
      "cell_type": "code",
      "metadata": {
        "id": "dkQzhf6tFPmH"
      },
      "source": [
        "y_text_test = np.concatenate((jj,jk),axis=0)"
      ],
      "execution_count": null,
      "outputs": []
    },
    {
      "cell_type": "code",
      "metadata": {
        "colab": {
          "base_uri": "https://localhost:8080/"
        },
        "id": "RPNT1bkqnnnW",
        "outputId": "f1f38bf3-761e-4a50-b00f-ca1b1dbdebf2"
      },
      "source": [
        "x_text_test.shape,y_text_test.shape"
      ],
      "execution_count": null,
      "outputs": [
        {
          "output_type": "execute_result",
          "data": {
            "text/plain": [
              "((200, 80), (200,))"
            ]
          },
          "metadata": {},
          "execution_count": 14
        }
      ]
    },
    {
      "cell_type": "code",
      "metadata": {
        "id": "0bGtu3z-Mg6r"
      },
      "source": [
        "# model_imdb = Sequential()\n",
        "# model_imdb.add(Embedding(max_features, 128))\n",
        "# model_imdb.add(LSTM(128, dropout=0.2, recurrent_dropout=0.2))\n",
        "# model_imdb.add(Dense(1, activation='sigmoid'))"
      ],
      "execution_count": null,
      "outputs": []
    },
    {
      "cell_type": "code",
      "metadata": {
        "colab": {
          "base_uri": "https://localhost:8080/"
        },
        "id": "zOqwkv_ZNpCz",
        "outputId": "7ce5fc3f-78a0-4d31-9d0c-9fa9534712d3"
      },
      "source": [
        "x_text_test.shape"
      ],
      "execution_count": null,
      "outputs": [
        {
          "output_type": "execute_result",
          "data": {
            "text/plain": [
              "(200, 80)"
            ]
          },
          "metadata": {},
          "execution_count": 36
        }
      ]
    },
    {
      "cell_type": "code",
      "metadata": {
        "colab": {
          "base_uri": "https://localhost:8080/"
        },
        "id": "oPQUQkDTJzYe",
        "outputId": "21c44470-7f91-46f2-ee25-ed3a2096a9e0"
      },
      "source": [
        "import numpy as np\n",
        "import pandas as pd\n",
        "import tensorflow as tf\n",
        "tf.compat.v1.enable_eager_execution() #This will enable eager execution which is must.\n",
        "\n",
        "tf.executing_eagerly() #check if eager execution is enabled or not. Should give \"True\"\n",
        "\n",
        "data = x_text_test\n",
        "#My data is in the from of dataframe with 127549 rows and 5 columns(127549*5)\n",
        "\n",
        "# a = data[:100]  #shape is (20,5)\n",
        "# b = data[100:] # shape is (20,5)\n",
        "# A = [a,b]  # making a list\n",
        "# A = np.array(data) # convert into array size (2,20,5) \n",
        "\n",
        "At = tf.Variable(tf.convert_to_tensor(data, np.float32)) #convert into tensor\n",
        "At.shape # TensorShape([Dimension(2), Dimension(20), Dimension(5)])\n",
        "\n",
        "model = model_imdb # Load the trained model\n",
        "# I have a trained model which is shown in the question above. \n",
        "# Output of this model is a single value\n",
        "with tf.GradientTape(persistent=True,watch_accessed_variables=True) as tape:\n",
        "  # Forward pass\n",
        "  tape.watch(At)\n",
        "  y = model(At)\n",
        "#   print(y)\n",
        "  loss = tf.reduce_mean(y**2)\n",
        "grad = tape.jacobian(loss, model.trainable_variables)\n",
        "print('Gradients\\n')\n",
        "print(grad)\n",
        "# jacobian_wrt_loss=tape.jacobian(loss,At[0])\n",
        "# print(f'{jacobian_wrt_loss}\\n')\n",
        "# jacobian_wrt_y=tape.jacobian(y,At[0])\n",
        "# print(f'{jacobian_wrt_y}\\n')\n",
        "# with tf.GradientTape(persistent=True,watch_accessed_variables=True) as tape:\n",
        "\n",
        "#     tape.watch(At)\n",
        "#     y1 = model(At) #defining your output as a function of input variables\n",
        "#     print(y1,type(y1)\n",
        "# jacobian = tape.jacobian(y1,At)\n",
        "# jacobian.shape "
      ],
      "execution_count": null,
      "outputs": [
        {
          "output_type": "stream",
          "name": "stdout",
          "text": [
            "WARNING:tensorflow:Converting IndexedSlices(indices=Tensor(\"gradient_tape/Reshape_3:0\", shape=(16000,), dtype=int32), values=Tensor(\"gradient_tape/Reshape_2:0\", shape=(16000, 128), dtype=float32), dense_shape=Tensor(\"gradient_tape/Const_2:0\", shape=(2,), dtype=int32)) to a dense representation may make it slow. Alternatively, output the indices and values of the IndexedSlices separately, and handle the vectorized outputs directly.\n",
            "Gradients\n",
            "\n",
            "[<tf.Tensor: shape=(20000, 128), dtype=float32, numpy=\n",
            "array([[-2.8685613e-06, -7.6211209e-06,  4.8698557e-06, ...,\n",
            "        -4.2731917e-06, -7.7583109e-06,  6.9773951e-06],\n",
            "       [-1.7826191e-07,  3.5095488e-07, -2.3006862e-07, ...,\n",
            "         2.4996621e-07, -5.9822355e-07, -5.7460846e-07],\n",
            "       [-1.3918228e-05,  1.6529608e-05, -3.1673405e-06, ...,\n",
            "        -1.6479164e-06,  3.7069012e-06, -1.6327219e-06],\n",
            "       ...,\n",
            "       [ 0.0000000e+00,  0.0000000e+00,  0.0000000e+00, ...,\n",
            "         0.0000000e+00,  0.0000000e+00,  0.0000000e+00],\n",
            "       [ 0.0000000e+00,  0.0000000e+00,  0.0000000e+00, ...,\n",
            "         0.0000000e+00,  0.0000000e+00,  0.0000000e+00],\n",
            "       [ 0.0000000e+00,  0.0000000e+00,  0.0000000e+00, ...,\n",
            "         0.0000000e+00,  0.0000000e+00,  0.0000000e+00]], dtype=float32)>]\n"
          ]
        }
      ]
    },
    {
      "cell_type": "code",
      "metadata": {
        "id": "IlY7hRZzQAg8"
      },
      "source": [
        "## l2_attack.py -- attack a network optimizing for l_2 distance\n",
        "##\n",
        "## Copyright (C) 2016, Nicholas Carlini <nicholas@carlini.com>.\n",
        "##\n",
        "## This program is licenced under the BSD 2-Clause licence,\n",
        "## contained in the LICENCE file in this directory.\n",
        "\n",
        "import sys\n",
        "import tensorflow as tf\n",
        "import numpy as np\n",
        "\n",
        "BINARY_SEARCH_STEPS = 9  # number of times to adjust the constant with binary search\n",
        "MAX_ITERATIONS = 10000   # number of iterations to perform gradient descent\n",
        "ABORT_EARLY = True       # if we stop improving, abort gradient descent early\n",
        "LEARNING_RATE = 1e-2     # larger values converge faster to less accurate results\n",
        "TARGETED = True          # should we target one specific class? or just be wrong?\n",
        "CONFIDENCE = 0           # how strong the adversarial example should be\n",
        "INITIAL_CONST = 1e-3     # the initial constant c to pick as a first guess\n",
        "\n",
        "class CarliniL2:\n",
        "    def __init__(self, sess, model, batch_size=1, confidence = CONFIDENCE,\n",
        "                 targeted = TARGETED, learning_rate = LEARNING_RATE,\n",
        "                 binary_search_steps = BINARY_SEARCH_STEPS, max_iterations = MAX_ITERATIONS,\n",
        "                 abort_early = ABORT_EARLY, \n",
        "                 initial_const = INITIAL_CONST,\n",
        "                 boxmin = -0.5, boxmax = 0.5):\n",
        "        #boxmin = -0.5, boxmax = 0.5):\n",
        "        \"\"\"\n",
        "        The L_2 optimized attack. \n",
        "\n",
        "        This attack is the most efficient and should be used as the primary \n",
        "        attack to evaluate potential defenses.\n",
        "\n",
        "        Returns adversarial examples for the supplied model.\n",
        "\n",
        "        confidence: Confidence of adversarial examples: higher produces examples\n",
        "          that are farther away, but more strongly classified as adversarial.\n",
        "        batch_size: Number of attacks to run simultaneously.\n",
        "        targeted: True if we should perform a targetted attack, False otherwise.\n",
        "        learning_rate: The learning rate for the attack algorithm. Smaller values\n",
        "          produce better results but are slower to converge.\n",
        "        binary_search_steps: The number of times we perform binary search to\n",
        "          find the optimal tradeoff-constant between distance and confidence. \n",
        "        max_iterations: The maximum number of iterations. Larger values are more\n",
        "          accurate; setting too small will require a large learning rate and will\n",
        "          produce poor results.\n",
        "        abort_early: If true, allows early aborts if gradient descent gets stuck.\n",
        "        initial_const: The initial tradeoff-constant to use to tune the relative\n",
        "          importance of distance and confidence. If binary_search_steps is large,\n",
        "          the initial constant is not important.\n",
        "        boxmin: Minimum pixel value (default -0.5).\n",
        "        boxmax: Maximum pixel value (default 0.5).\n",
        "        \"\"\"\n",
        "\n",
        "        # image_size, num_channels, num_labels = model.image_size, model.num_channels, model.num_labels\n",
        "        self.sess = sess\n",
        "        self.TARGETED = targeted\n",
        "        self.LEARNING_RATE = learning_rate\n",
        "        self.MAX_ITERATIONS = max_iterations\n",
        "        self.BINARY_SEARCH_STEPS = binary_search_steps\n",
        "        self.ABORT_EARLY = abort_early\n",
        "        self.CONFIDENCE = confidence\n",
        "        self.initial_const = initial_const\n",
        "        self.batch_size = batch_size\n",
        "\n",
        "        self.repeat = binary_search_steps >= 10\n",
        "\n",
        "        shape = model.s\n",
        "        \n",
        "        # the variable we're going to optimize over\n",
        "        modifier = tf.Variable(np.zeros(shape,dtype=np.float32))\n",
        "\n",
        "        # these are variables to be more efficient in sending data to tf\n",
        "        self.timg = tf.Variable(np.zeros(shape), dtype=tf.float32)\n",
        "        self.tlab = tf.Variable(np.zeros((batch_size,num_labels)), dtype=tf.float32)\n",
        "        self.const = tf.Variable(np.zeros(batch_size), dtype=tf.float32)\n",
        "\n",
        "        # and here's what we use to assign them\n",
        "        self.assign_timg = tf.placeholder(tf.float32, shape)\n",
        "        self.assign_tlab = tf.placeholder(tf.float32, (batch_size,num_labels))\n",
        "        self.assign_const = tf.placeholder(tf.float32, [batch_size])\n",
        "        \n",
        "        # the resulting image, tanh'd to keep bounded from boxmin to boxmax\n",
        "        self.boxmul = (boxmax - boxmin) / 2.\n",
        "        self.boxplus = (boxmin + boxmax) / 2.\n",
        "        self.newimg = tf.tanh(modifier + self.timg) * self.boxmul + self.boxplus\n",
        "        \n",
        "        # prediction BEFORE-SOFTMAX of the model\n",
        "        #self.output = model.predict(self.newimg)\n",
        "        self.before_multi = self.newimg + 0.5\n",
        "        self.pass_to_model = self.before_multi * 20000\n",
        "        #self.pass_it = tf.reshape(self.pass_to_model,[256])\n",
        "        #print(\"SAHPE\", tf.shape(self.pass_it))\n",
        "        self.output = model.predict(self.pass_to_model)\n",
        "        \n",
        "        # distance to the input data\n",
        "        self.l2dist = tf.reduce_sum(tf.square(self.newimg-(tf.tanh(self.timg) * self.boxmul + self.boxplus)),[1,2,3])\n",
        "        \n",
        "        # compute the probability of the label class versus the maximum other\n",
        "        real = tf.reduce_sum((self.tlab)*self.output,1)\n",
        "        other = tf.reduce_max((1-self.tlab)*self.output - (self.tlab*10000),1)\n",
        "\n",
        "        if self.TARGETED:\n",
        "            # if targetted, optimize for making the other class most likely\n",
        "            loss1 = tf.maximum(0.0, other-real+self.CONFIDENCE)\n",
        "        else:\n",
        "            # if untargeted, optimize for making this class least likely.\n",
        "            loss1 = tf.maximum(0.0, real-other+self.CONFIDENCE)\n",
        "\n",
        "        # sum up the losses\n",
        "        self.loss2 = tf.reduce_sum(self.l2dist)\n",
        "        self.loss1 = tf.reduce_sum(self.const*loss1)\n",
        "        self.loss = self.loss1+self.loss2\n",
        "        \n",
        "        # Setup the adam optimizer and keep track of variables we're creating\n",
        "        start_vars = set(x.name for x in tf.global_variables())\n",
        "        optimizer = tf.train.AdamOptimizer(self.LEARNING_RATE)\n",
        "        self.train = optimizer.minimize(self.loss, var_list=[modifier])\n",
        "        end_vars = tf.global_variables()\n",
        "        new_vars = [x for x in end_vars if x.name not in start_vars]\n",
        "\n",
        "        # these are the variables to initialize when we run\n",
        "        self.setup = []\n",
        "        self.setup.append(self.timg.assign(self.assign_timg))\n",
        "        self.setup.append(self.tlab.assign(self.assign_tlab))\n",
        "        self.setup.append(self.const.assign(self.assign_const))\n",
        "        \n",
        "        self.init = tf.variables_initializer(var_list=[modifier]+new_vars)\n",
        "\n",
        "    def attack(self, imgs, targets):\n",
        "        \"\"\"\n",
        "        Perform the L_2 attack on the given images for the given targets.\n",
        "\n",
        "        If self.targeted is true, then the targets represents the target labels.\n",
        "        If self.targeted is false, then targets are the original class labels.\n",
        "        \"\"\"\n",
        "        r = []\n",
        "        print('go up to',len(imgs))\n",
        "        for i in range(0,len(imgs),self.batch_size):\n",
        "            print('tick',i)\n",
        "            r.extend(self.attack_batch(imgs[i:i+self.batch_size], targets[i:i+self.batch_size]))\n",
        "        return np.array(r)\n",
        "\n",
        "    def attack_batch(self, imgs, labs):\n",
        "        \"\"\"\n",
        "        Run the attack on a batch of images and labels.\n",
        "        \"\"\"\n",
        "        def compare(x,y):\n",
        "            if not isinstance(x, (float, int, np.int64)):\n",
        "                x = np.copy(x)\n",
        "                if self.TARGETED:\n",
        "                    x[y] -= self.CONFIDENCE\n",
        "                else:\n",
        "                    x[y] += self.CONFIDENCE\n",
        "                x = np.argmax(x)\n",
        "            if self.TARGETED:\n",
        "                return x == y\n",
        "            else:\n",
        "                return x != y\n",
        "\n",
        "        batch_size = self.batch_size\n",
        "\n",
        "        # convert to tanh-space\n",
        "        imgs = np.arctanh((imgs - self.boxplus) / self.boxmul * 0.999999)\n",
        "\n",
        "        # set the lower and upper bounds accordingly\n",
        "        lower_bound = np.zeros(batch_size)\n",
        "        CONST = np.ones(batch_size)*self.initial_const\n",
        "        upper_bound = np.ones(batch_size)*1e10\n",
        "\n",
        "        # the best l2, score, and image attack\n",
        "        o_bestl2 = [1e10]*batch_size\n",
        "        o_bestscore = [-1]*batch_size\n",
        "        o_bestattack = [np.zeros(imgs[0].shape)]*batch_size\n",
        "        \n",
        "        for outer_step in range(self.BINARY_SEARCH_STEPS):\n",
        "            print(o_bestl2)\n",
        "            # completely reset adam's internal state.\n",
        "            self.sess.run(self.init)\n",
        "            batch = imgs[:batch_size]\n",
        "            batchlab = labs[:batch_size]\n",
        "    \n",
        "            bestl2 = [1e10]*batch_size\n",
        "            bestscore = [-1]*batch_size\n",
        "\n",
        "            # The last iteration (if we run many steps) repeat the search once.\n",
        "            if self.repeat == True and outer_step == self.BINARY_SEARCH_STEPS-1:\n",
        "                CONST = upper_bound\n",
        "\n",
        "            # set the variables so that we don't have to send them over again\n",
        "            self.sess.run(self.setup, {self.assign_timg: batch,\n",
        "                                       self.assign_tlab: batchlab,\n",
        "                                       self.assign_const: CONST})\n",
        "            \n",
        "            prev = 1e6\n",
        "            for iteration in range(self.MAX_ITERATIONS):\n",
        "                # perform the attack \n",
        "                _, l, l2s, scores, nimg = self.sess.run([self.train, self.loss, \n",
        "                                                         self.l2dist, self.output, \n",
        "                                                         self.newimg])\n",
        "\n",
        "                # print out the losses every 10%\n",
        "                #if iteration%(self.MAX_ITERATIONS//10) == 0:\n",
        "                print(iteration,self.sess.run((self.output, self.loss,self.loss1,self.loss2)))\n",
        "                #print(iteration, self.sess.run((self.loss, self.loss1, self.loss2)))\n",
        "\n",
        "\n",
        "                # check if we should abort search if we're getting nowhere.\n",
        "                if self.ABORT_EARLY and iteration%(self.MAX_ITERATIONS//10) == 0:\n",
        "                    if l > prev*.9999:\n",
        "                        break\n",
        "                    prev = l\n",
        "\n",
        "                # adjust the best result found so far\n",
        "                for e,(l2,sc,ii) in enumerate(zip(l2s,scores,nimg)):\n",
        "                    if l2 < bestl2[e] and compare(sc, np.argmax(batchlab[e])):\n",
        "                        bestl2[e] = l2\n",
        "                        bestscore[e] = np.argmax(sc)\n",
        "                    if l2 < o_bestl2[e] and compare(sc, np.argmax(batchlab[e])):\n",
        "                        o_bestl2[e] = l2\n",
        "                        o_bestscore[e] = np.argmax(sc)\n",
        "                        o_bestattack[e] = ii\n",
        "\n",
        "            # adjust the constant as needed\n",
        "            for e in range(batch_size):\n",
        "                if compare(bestscore[e], np.argmax(batchlab[e])) and bestscore[e] != -1:\n",
        "                    # success, divide const by two\n",
        "                    upper_bound[e] = min(upper_bound[e],CONST[e])\n",
        "                    if upper_bound[e] < 1e9:\n",
        "                        CONST[e] = (lower_bound[e] + upper_bound[e])/2\n",
        "                else:\n",
        "                    # failure, either multiply by 10 if no solution found yet\n",
        "                    #          or do binary search with the known upper bound\n",
        "                    lower_bound[e] = max(lower_bound[e],CONST[e])\n",
        "                    if upper_bound[e] < 1e9:\n",
        "                        CONST[e] = (lower_bound[e] + upper_bound[e])/2\n",
        "                    else:\n",
        "                        CONST[e] *= 10\n",
        "\n",
        "        # return the best solution found\n",
        "        o_bestl2 = np.array(o_bestl2)\n",
        "        return o_bestattack\n"
      ],
      "execution_count": null,
      "outputs": []
    },
    {
      "cell_type": "code",
      "metadata": {
        "colab": {
          "base_uri": "https://localhost:8080/",
          "height": 296
        },
        "id": "srdpyNp_UeRi",
        "outputId": "b244a7f7-5ee9-464a-b974-c8eca50fce99"
      },
      "source": [
        "crl2 = CarliniL2(model=model_imdb,sess=tf.compat.v1.Session())"
      ],
      "execution_count": null,
      "outputs": [
        {
          "output_type": "error",
          "ename": "AttributeError",
          "evalue": "ignored",
          "traceback": [
            "\u001b[0;31m---------------------------------------------------------------------------\u001b[0m",
            "\u001b[0;31mAttributeError\u001b[0m                            Traceback (most recent call last)",
            "\u001b[0;32m<ipython-input-68-ca3fba58b8ab>\u001b[0m in \u001b[0;36m<module>\u001b[0;34m()\u001b[0m\n\u001b[0;32m----> 1\u001b[0;31m \u001b[0mcrl2\u001b[0m \u001b[0;34m=\u001b[0m \u001b[0mCarliniL2\u001b[0m\u001b[0;34m(\u001b[0m\u001b[0mmodel\u001b[0m\u001b[0;34m=\u001b[0m\u001b[0mmodel_imdb\u001b[0m\u001b[0;34m,\u001b[0m\u001b[0msess\u001b[0m\u001b[0;34m=\u001b[0m\u001b[0mtf\u001b[0m\u001b[0;34m.\u001b[0m\u001b[0mcompat\u001b[0m\u001b[0;34m.\u001b[0m\u001b[0mv1\u001b[0m\u001b[0;34m.\u001b[0m\u001b[0mSession\u001b[0m\u001b[0;34m(\u001b[0m\u001b[0;34m)\u001b[0m\u001b[0;34m)\u001b[0m\u001b[0;34m\u001b[0m\u001b[0;34m\u001b[0m\u001b[0m\n\u001b[0m",
            "\u001b[0;32m<ipython-input-65-264877a912f8>\u001b[0m in \u001b[0;36m__init__\u001b[0;34m(self, sess, model, batch_size, confidence, targeted, learning_rate, binary_search_steps, max_iterations, abort_early, initial_const, boxmin, boxmax)\u001b[0m\n\u001b[1;32m     53\u001b[0m         \"\"\"\n\u001b[1;32m     54\u001b[0m \u001b[0;34m\u001b[0m\u001b[0m\n\u001b[0;32m---> 55\u001b[0;31m         \u001b[0mimage_size\u001b[0m\u001b[0;34m,\u001b[0m \u001b[0mnum_channels\u001b[0m\u001b[0;34m,\u001b[0m \u001b[0mnum_labels\u001b[0m \u001b[0;34m=\u001b[0m \u001b[0mmodel\u001b[0m\u001b[0;34m.\u001b[0m\u001b[0mimage_size\u001b[0m\u001b[0;34m,\u001b[0m \u001b[0mmodel\u001b[0m\u001b[0;34m.\u001b[0m\u001b[0mnum_channels\u001b[0m\u001b[0;34m,\u001b[0m \u001b[0mmodel\u001b[0m\u001b[0;34m.\u001b[0m\u001b[0mnum_labels\u001b[0m\u001b[0;34m\u001b[0m\u001b[0;34m\u001b[0m\u001b[0m\n\u001b[0m\u001b[1;32m     56\u001b[0m         \u001b[0mself\u001b[0m\u001b[0;34m.\u001b[0m\u001b[0msess\u001b[0m \u001b[0;34m=\u001b[0m \u001b[0msess\u001b[0m\u001b[0;34m\u001b[0m\u001b[0;34m\u001b[0m\u001b[0m\n\u001b[1;32m     57\u001b[0m         \u001b[0mself\u001b[0m\u001b[0;34m.\u001b[0m\u001b[0mTARGETED\u001b[0m \u001b[0;34m=\u001b[0m \u001b[0mtargeted\u001b[0m\u001b[0;34m\u001b[0m\u001b[0;34m\u001b[0m\u001b[0m\n",
            "\u001b[0;31mAttributeError\u001b[0m: 'Sequential' object has no attribute 'image_size'"
          ]
        }
      ]
    },
    {
      "cell_type": "code",
      "metadata": {
        "id": "lqrcQrBxqVWx"
      },
      "source": [
        "from art.estimators.classification import TensorFlowV2Classifier\n",
        "# wrap the model an calculte emperical robustnees\n",
        "wrapper_text = TensorFlowV2Classifier(model_imdb,nb_classes=2,input_shape=(80) ,loss_object=tf.keras.losses.BinaryCrossentropy(from_logits=True))"
      ],
      "execution_count": null,
      "outputs": []
    },
    {
      "cell_type": "code",
      "metadata": {
        "id": "pggEwJGjN_mv"
      },
      "source": [
        "# from art.estimators.classification import KerasClassifier\n",
        "# KerasClassifier(model=model_imdb, clip_values=(0, 2000),use_logits=True)"
      ],
      "execution_count": null,
      "outputs": []
    },
    {
      "cell_type": "code",
      "metadata": {
        "id": "zX0kfj8yaT2S"
      },
      "source": [
        ""
      ],
      "execution_count": null,
      "outputs": []
    }
  ]
}