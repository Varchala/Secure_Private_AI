{
  "nbformat": 4,
  "nbformat_minor": 0,
  "metadata": {
    "colab": {
      "name": "privacy_attacks_varchala.ipynb",
      "private_outputs": true,
      "provenance": [],
      "collapsed_sections": [],
      "machine_shape": "hm",
      "include_colab_link": true
    },
    "kernelspec": {
      "name": "python3",
      "display_name": "Python 3"
    },
    "language_info": {
      "name": "python"
    },
    "accelerator": "GPU"
  },
  "cells": [
    {
      "cell_type": "markdown",
      "metadata": {
        "id": "view-in-github",
        "colab_type": "text"
      },
      "source": [
        "<a href=\"https://colab.research.google.com/github/Varchala/Secure_Private_AI/blob/main/privacy_attacks_varchala.ipynb\" target=\"_parent\"><img src=\"https://colab.research.google.com/assets/colab-badge.svg\" alt=\"Open In Colab\"/></a>"
      ]
    },
    {
      "cell_type": "markdown",
      "metadata": {
        "id": "tfAo-O8YRebo"
      },
      "source": [
        "# Refered the following Link to implement basic privacy attacks on sample model\n",
        "\n",
        "https://franziska-boenisch.de/posts/2021/01/membership-inference/"
      ]
    },
    {
      "cell_type": "code",
      "metadata": {
        "id": "FN4mdDbPxe9y"
      },
      "source": [
        "\n",
        "!pip install -U git+https://github.com/tensorflow/privacy\n"
      ],
      "execution_count": null,
      "outputs": []
    },
    {
      "cell_type": "code",
      "metadata": {
        "id": "N8GN7-WlxJCP"
      },
      "source": [
        "\n",
        "import numpy as np\n",
        "import matplotlib.pyplot as plt\n",
        "import tensorflow as tf\n",
        "\n",
        "from scipy import special\n",
        "\n",
        "\n",
        "from tensorflow.keras.layers import Input, Conv2D, Dense, Flatten, MaxPooling2D,Dropout\n",
        "from tensorflow.keras.models import Model\n",
        "from tensorflow.keras.utils import to_categorical"
      ],
      "execution_count": null,
      "outputs": []
    },
    {
      "cell_type": "code",
      "metadata": {
        "id": "nQ63ejojyI9M"
      },
      "source": [
        "\n",
        "from tensorflow_privacy.privacy.membership_inference_attack import membership_inference_attack as mia\n",
        "from tensorflow_privacy.privacy.membership_inference_attack.data_structures import AttackInputData\n",
        "from tensorflow_privacy.privacy.membership_inference_attack.data_structures import SlicingSpec\n",
        "from tensorflow_privacy.privacy.membership_inference_attack.data_structures import AttackType"
      ],
      "execution_count": null,
      "outputs": []
    },
    {
      "cell_type": "code",
      "metadata": {
        "id": "_B5WM3bGQTZL"
      },
      "source": [
        "train_data, train_labels, test_data, test_labels = load_cifar10()"
      ],
      "execution_count": null,
      "outputs": []
    },
    {
      "cell_type": "code",
      "metadata": {
        "id": "AYs5RlxOyNpk"
      },
      "source": [
        "def load_cifar10():\n",
        "  \"\"\"Loads MNIST-Dataset and preprocesses to combine training and test data.\"\"\"\n",
        "  \n",
        "  train, test = tf.keras.datasets.cifar100.load_data()\n",
        "  train_data, train_labels = train\n",
        "  test_data, test_labels = test\n",
        "\n",
        "  train_data = np.array(train_data, dtype=np.float32) / 255\n",
        "  test_data = np.array(test_data, dtype=np.float32) / 255\n",
        "\n",
        "  train_labels = train_labels.flatten()\n",
        "  test_labels = test_labels.flatten()\n",
        "\n",
        "  return train_data, train_labels, test_data, test_labels\n",
        " \n",
        "def make_simple_model():\n",
        "  \"\"\" Define a Keras model without much of regularization\n",
        "  Such a model is prone to overfitting\"\"\"\n",
        "  shape = (32, 32, 3)\n",
        "  i = Input(shape=shape)\n",
        "  x = Conv2D(32, (3, 3), activation='relu')(i)\n",
        "  x = MaxPooling2D()(x)\n",
        "\n",
        "  x = Conv2D(64, (3, 3), activation='relu')(x)\n",
        "  x = MaxPooling2D()(x)\n",
        "\n",
        "  x = Conv2D(64, (3, 3), activation='relu')(x)\n",
        "  x = MaxPooling2D()(x)\n",
        "\n",
        "  x = Flatten()(x)\n",
        "  x = Dense(128, activation='relu')(x)\n",
        "  x = Dense(100)(x)\n",
        "  model = Model(i, x)\n",
        "  return model"
      ],
      "execution_count": null,
      "outputs": []
    },
    {
      "cell_type": "code",
      "metadata": {
        "id": "9vni62VxQHwA"
      },
      "source": [
        "model = make_simple_model()\n",
        "model.summary()"
      ],
      "execution_count": null,
      "outputs": []
    },
    {
      "cell_type": "code",
      "metadata": {
        "id": "lEb3M6DsQJXV"
      },
      "source": [
        "\n",
        "optimizer = tf.keras.optimizers.Adam()\n",
        "loss = tf.keras.losses.SparseCategoricalCrossentropy(from_logits=True)\n",
        "\n",
        "\n",
        "model.compile(optimizer=optimizer, loss=loss, metrics=['accuracy'])"
      ],
      "execution_count": null,
      "outputs": []
    },
    {
      "cell_type": "code",
      "metadata": {
        "id": "NR1gIdS7QNVr"
      },
      "source": [
        "\n",
        "history = model.fit(train_data, train_labels,\n",
        "                       validation_data=(test_data, test_labels),\n",
        "                       batch_size=128, \n",
        "                       epochs=5)"
      ],
      "execution_count": null,
      "outputs": []
    },
    {
      "cell_type": "code",
      "metadata": {
        "id": "ANVWYXx3QOiJ"
      },
      "source": [
        "\n",
        "plt.plot(history.history['accuracy'], label='acc')\n",
        "plt.plot(history.history['val_accuracy'], label='val_acc')\n",
        "plt.legend();\n",
        "plt.ylim(0,1)"
      ],
      "execution_count": null,
      "outputs": []
    },
    {
      "cell_type": "code",
      "metadata": {
        "id": "l5ttcfYoQi4c"
      },
      "source": [
        "\n",
        "print('Predict on train...')\n",
        "logits_train = model.predict(train_data)\n",
        "print('Predict on test...')\n",
        "logits_test = model.predict(test_data)\n",
        "\n",
        "print('Apply softmax to get probabilities from logits...')\n",
        "prob_train = special.softmax(logits_train, axis=1)\n",
        "prob_test = special.softmax(logits_test, axis=1)\n",
        "\n",
        "print('Compute losses...')\n",
        "cce = tf.keras.backend.categorical_crossentropy\n",
        "constant = tf.keras.backend.constant\n",
        "\n",
        "y_train_onehot = to_categorical(train_labels)\n",
        "y_test_onehot = to_categorical(test_labels)\n",
        "\n",
        "loss_train = cce(constant(y_train_onehot), constant(prob_train), from_logits=False).numpy()\n",
        "loss_test = cce(constant(y_test_onehot), constant(prob_test), from_logits=False).numpy()"
      ],
      "execution_count": null,
      "outputs": []
    },
    {
      "cell_type": "code",
      "metadata": {
        "id": "PuzoIxTcQkvI"
      },
      "source": [
        "\n",
        "attack_input = AttackInputData(\n",
        "  logits_train = logits_train,\n",
        "  logits_test = logits_test,\n",
        "  loss_train = loss_train,\n",
        "  loss_test = loss_test,\n",
        "  labels_train = train_labels,\n",
        "  labels_test = test_labels\n",
        ")"
      ],
      "execution_count": null,
      "outputs": []
    },
    {
      "cell_type": "code",
      "metadata": {
        "id": "mdOSFCD2Q9O6"
      },
      "source": [
        "\n",
        "slicing_spec = SlicingSpec(\n",
        "    entire_dataset = True,\n",
        "    by_class = True,\n",
        "    by_percentiles = False,\n",
        "    by_classification_correctness = True)"
      ],
      "execution_count": null,
      "outputs": []
    },
    {
      "cell_type": "code",
      "metadata": {
        "id": "meq0EvSKQ-dr"
      },
      "source": [
        "\n",
        "attack_types = [\n",
        "    AttackType.THRESHOLD_ATTACK\n",
        "]"
      ],
      "execution_count": null,
      "outputs": []
    },
    {
      "cell_type": "code",
      "metadata": {
        "id": "SpQWClWbRAHf"
      },
      "source": [
        "attacks_result = mia.run_attacks(attack_input=attack_input,\n",
        "                                 slicing_spec=slicing_spec,\n",
        "                                 attack_types=attack_types)"
      ],
      "execution_count": null,
      "outputs": []
    },
    {
      "cell_type": "code",
      "metadata": {
        "id": "u7UlPkSwRB5x"
      },
      "source": [
        "print(attacks_result.summary(by_slices=True))"
      ],
      "execution_count": null,
      "outputs": []
    },
    {
      "cell_type": "code",
      "metadata": {
        "id": "YNhjvK2iRC8C"
      },
      "source": [
        "# plot the curve, we see that the attacker is much better than random guessing\n",
        "import tensorflow_privacy.privacy.membership_inference_attack.plotting as plotting\n",
        "print(plotting.plot_roc_curve(attacks_result.get_result_with_max_auc().roc_curve))"
      ],
      "execution_count": null,
      "outputs": []
    },
    {
      "cell_type": "code",
      "metadata": {
        "id": "AIwlov7yRE--"
      },
      "source": [
        ""
      ],
      "execution_count": null,
      "outputs": []
    }
  ]
}