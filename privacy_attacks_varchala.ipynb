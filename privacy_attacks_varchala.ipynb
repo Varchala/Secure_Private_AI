{
  "nbformat": 4,
  "nbformat_minor": 0,
  "metadata": {
    "colab": {
      "name": "privacy_attacks_varchala.ipynb",
      "provenance": [],
      "collapsed_sections": [],
      "machine_shape": "hm",
      "include_colab_link": true
    },
    "kernelspec": {
      "name": "python3",
      "display_name": "Python 3"
    },
    "language_info": {
      "name": "python"
    },
    "accelerator": "GPU"
  },
  "cells": [
    {
      "cell_type": "markdown",
      "metadata": {
        "id": "view-in-github",
        "colab_type": "text"
      },
      "source": [
        "<a href=\"https://colab.research.google.com/github/Varchala/Secure_Private_AI/blob/main/privacy_attacks_varchala.ipynb\" target=\"_parent\"><img src=\"https://colab.research.google.com/assets/colab-badge.svg\" alt=\"Open In Colab\"/></a>"
      ]
    },
    {
      "cell_type": "markdown",
      "metadata": {
        "id": "tfAo-O8YRebo"
      },
      "source": [
        "# Refered the following Link to implement basic privacy attacks on sample model\n",
        "\n",
        "https://franziska-boenisch.de/posts/2021/01/membership-inference/"
      ]
    },
    {
      "cell_type": "code",
      "metadata": {
        "id": "FN4mdDbPxe9y"
      },
      "source": [
        "\n",
        "!pip install -U git+https://github.com/tensorflow/privacy\n"
      ],
      "execution_count": null,
      "outputs": []
    },
    {
      "cell_type": "code",
      "metadata": {
        "id": "N8GN7-WlxJCP"
      },
      "source": [
        "\n",
        "import numpy as np\n",
        "import matplotlib.pyplot as plt\n",
        "import tensorflow as tf\n",
        "\n",
        "from scipy import special\n",
        "\n",
        "\n",
        "from tensorflow.keras.layers import Input, Conv2D, Dense, Flatten, MaxPooling2D,Dropout\n",
        "from tensorflow.keras.models import Model\n",
        "from tensorflow.keras.utils import to_categorical"
      ],
      "execution_count": 1,
      "outputs": []
    },
    {
      "cell_type": "code",
      "metadata": {
        "id": "nQ63ejojyI9M",
        "colab": {
          "base_uri": "https://localhost:8080/"
        },
        "outputId": "bf766970-bc6e-4210-cb0c-3787fc33a0c3"
      },
      "source": [
        "\n",
        "from tensorflow_privacy.privacy.membership_inference_attack import membership_inference_attack as mia\n",
        "from tensorflow_privacy.privacy.membership_inference_attack.data_structures import AttackInputData\n",
        "from tensorflow_privacy.privacy.membership_inference_attack.data_structures import SlicingSpec\n",
        "from tensorflow_privacy.privacy.membership_inference_attack.data_structures import AttackType"
      ],
      "execution_count": 3,
      "outputs": [
        {
          "output_type": "stream",
          "name": "stderr",
          "text": [
            "/usr/local/lib/python3.7/dist-packages/tensorflow_privacy/privacy/membership_inference_attack/__init__.py:19: UserWarning: \n",
            "Membership inference attack sources were moved. Please replace\n",
            "import tensorflow_privacy.privacy.membership_inference_attack\n",
            "\n",
            "with\n",
            "import tensorflow_privacy.privacy.privacy_tests.membership_inference_attack\n",
            "  \"\\nMembership inference attack sources were moved. Please replace\"\n"
          ]
        }
      ]
    },
    {
      "cell_type": "code",
      "metadata": {
        "id": "_B5WM3bGQTZL",
        "colab": {
          "base_uri": "https://localhost:8080/"
        },
        "outputId": "9f983f5b-3b93-4ffd-8e06-85caa2825579"
      },
      "source": [
        "train_data, train_labels, test_data, test_labels = load_cifar10()"
      ],
      "execution_count": 5,
      "outputs": [
        {
          "output_type": "stream",
          "name": "stdout",
          "text": [
            "Downloading data from https://www.cs.toronto.edu/~kriz/cifar-100-python.tar.gz\n",
            "169009152/169001437 [==============================] - 3s 0us/step\n",
            "169017344/169001437 [==============================] - 3s 0us/step\n"
          ]
        }
      ]
    },
    {
      "cell_type": "code",
      "metadata": {
        "id": "AYs5RlxOyNpk"
      },
      "source": [
        "def load_cifar10():\n",
        "  \"\"\"Loads MNIST-Dataset and preprocesses to combine training and test data.\"\"\"\n",
        "  \n",
        "  train, test = tf.keras.datasets.cifar100.load_data()\n",
        "  train_data, train_labels = train\n",
        "  test_data, test_labels = test\n",
        "\n",
        "  train_data = np.array(train_data, dtype=np.float32) / 255\n",
        "  test_data = np.array(test_data, dtype=np.float32) / 255\n",
        "\n",
        "  train_labels = train_labels.flatten()\n",
        "  test_labels = test_labels.flatten()\n",
        "\n",
        "  return train_data, train_labels, test_data, test_labels\n",
        " \n",
        "def make_simple_model():\n",
        "  \"\"\" Define a Keras model without much of regularization\n",
        "  Such a model is prone to overfitting\"\"\"\n",
        "  shape = (32, 32, 3)\n",
        "  i = Input(shape=shape)\n",
        "  x = Conv2D(32, (3, 3), activation='relu')(i)\n",
        "  x = MaxPooling2D()(x)\n",
        "\n",
        "  x = Conv2D(64, (3, 3), activation='relu')(x)\n",
        "  x = MaxPooling2D()(x)\n",
        "\n",
        "  x = Conv2D(64, (3, 3), activation='relu')(x)\n",
        "  x = MaxPooling2D()(x)\n",
        "\n",
        "  x = Flatten()(x)\n",
        "  x = Dense(128, activation='relu')(x)\n",
        "  x = Dense(100)(x)\n",
        "  model = Model(i, x)\n",
        "  return model"
      ],
      "execution_count": 4,
      "outputs": []
    },
    {
      "cell_type": "code",
      "metadata": {
        "id": "9vni62VxQHwA",
        "colab": {
          "base_uri": "https://localhost:8080/"
        },
        "outputId": "9d5ba2fe-c54b-4602-98dd-55cd3887daf1"
      },
      "source": [
        "model = make_simple_model()\n",
        "model.summary()"
      ],
      "execution_count": 7,
      "outputs": [
        {
          "output_type": "stream",
          "name": "stdout",
          "text": [
            "Model: \"model\"\n",
            "_________________________________________________________________\n",
            " Layer (type)                Output Shape              Param #   \n",
            "=================================================================\n",
            " input_1 (InputLayer)        [(None, 32, 32, 3)]       0         \n",
            "                                                                 \n",
            " conv2d (Conv2D)             (None, 30, 30, 32)        896       \n",
            "                                                                 \n",
            " max_pooling2d (MaxPooling2D  (None, 15, 15, 32)       0         \n",
            " )                                                               \n",
            "                                                                 \n",
            " conv2d_1 (Conv2D)           (None, 13, 13, 64)        18496     \n",
            "                                                                 \n",
            " max_pooling2d_1 (MaxPooling  (None, 6, 6, 64)         0         \n",
            " 2D)                                                             \n",
            "                                                                 \n",
            " conv2d_2 (Conv2D)           (None, 4, 4, 64)          36928     \n",
            "                                                                 \n",
            " max_pooling2d_2 (MaxPooling  (None, 2, 2, 64)         0         \n",
            " 2D)                                                             \n",
            "                                                                 \n",
            " flatten (Flatten)           (None, 256)               0         \n",
            "                                                                 \n",
            " dense (Dense)               (None, 128)               32896     \n",
            "                                                                 \n",
            " dense_1 (Dense)             (None, 100)               12900     \n",
            "                                                                 \n",
            "=================================================================\n",
            "Total params: 102,116\n",
            "Trainable params: 102,116\n",
            "Non-trainable params: 0\n",
            "_________________________________________________________________\n"
          ]
        }
      ]
    },
    {
      "cell_type": "code",
      "metadata": {
        "id": "lEb3M6DsQJXV"
      },
      "source": [
        "\n",
        "optimizer = tf.keras.optimizers.Adam()\n",
        "loss = tf.keras.losses.SparseCategoricalCrossentropy(from_logits=True)\n",
        "\n",
        "\n",
        "model.compile(optimizer=optimizer, loss=loss, metrics=['accuracy'])"
      ],
      "execution_count": 8,
      "outputs": []
    },
    {
      "cell_type": "code",
      "metadata": {
        "id": "NR1gIdS7QNVr",
        "colab": {
          "base_uri": "https://localhost:8080/"
        },
        "outputId": "847cece6-9862-4cf8-b7fc-26ec9c49c6be"
      },
      "source": [
        "\n",
        "history = model.fit(train_data, train_labels,\n",
        "                       validation_data=(test_data, test_labels),\n",
        "                       batch_size=128, \n",
        "                       epochs=5)"
      ],
      "execution_count": 10,
      "outputs": [
        {
          "output_type": "stream",
          "name": "stdout",
          "text": [
            "Epoch 1/5\n",
            "391/391 [==============================] - 6s 15ms/step - loss: 4.0581 - accuracy: 0.0809 - val_loss: 3.6295 - val_accuracy: 0.1513\n",
            "Epoch 2/5\n",
            "391/391 [==============================] - 6s 14ms/step - loss: 3.4624 - accuracy: 0.1770 - val_loss: 3.2791 - val_accuracy: 0.2126\n",
            "Epoch 3/5\n",
            "391/391 [==============================] - 6s 15ms/step - loss: 3.1833 - accuracy: 0.2267 - val_loss: 3.1120 - val_accuracy: 0.2492\n",
            "Epoch 4/5\n",
            "391/391 [==============================] - 6s 14ms/step - loss: 3.0102 - accuracy: 0.2578 - val_loss: 3.0650 - val_accuracy: 0.2502\n",
            "Epoch 5/5\n",
            "391/391 [==============================] - 5s 14ms/step - loss: 2.8682 - accuracy: 0.2871 - val_loss: 2.9290 - val_accuracy: 0.2785\n"
          ]
        }
      ]
    },
    {
      "cell_type": "code",
      "metadata": {
        "id": "ANVWYXx3QOiJ",
        "colab": {
          "base_uri": "https://localhost:8080/",
          "height": 286
        },
        "outputId": "d7e9cefb-60ca-4ce5-aac8-9ccfb24cbf68"
      },
      "source": [
        "\n",
        "plt.plot(history.history['accuracy'], label='acc')\n",
        "plt.plot(history.history['val_accuracy'], label='val_acc')\n",
        "plt.legend();\n",
        "plt.ylim(0,1)"
      ],
      "execution_count": 11,
      "outputs": [
        {
          "output_type": "execute_result",
          "data": {
            "text/plain": [
              "(0.0, 1.0)"
            ]
          },
          "metadata": {},
          "execution_count": 11
        },
        {
          "output_type": "display_data",
          "data": {
            "image/png": "[encoded data removed]",
            "text/plain": [
              "<Figure size 432x288 with 1 Axes>"
            ]
          },
          "metadata": {
            "needs_background": "light"
          }
        }
      ]
    },
    {
      "cell_type": "code",
      "metadata": {
        "id": "l5ttcfYoQi4c",
        "colab": {
          "base_uri": "https://localhost:8080/"
        },
        "outputId": "0c403323-307b-4a31-94b3-81c33604ecb0"
      },
      "source": [
        "\n",
        "print('Predict on train...')\n",
        "logits_train = model.predict(train_data)\n",
        "print('Predict on test...')\n",
        "logits_test = model.predict(test_data)\n",
        "\n",
        "print('Apply softmax to get probabilities from logits...')\n",
        "prob_train = special.softmax(logits_train, axis=1)\n",
        "prob_test = special.softmax(logits_test, axis=1)\n",
        "\n",
        "print('Compute losses...')\n",
        "cce = tf.keras.backend.categorical_crossentropy\n",
        "constant = tf.keras.backend.constant\n",
        "\n",
        "y_train_onehot = to_categorical(train_labels)\n",
        "y_test_onehot = to_categorical(test_labels)\n",
        "\n",
        "loss_train = cce(constant(y_train_onehot), constant(prob_train), from_logits=False).numpy()\n",
        "loss_test = cce(constant(y_test_onehot), constant(prob_test), from_logits=False).numpy()"
      ],
      "execution_count": 12,
      "outputs": [
        {
          "output_type": "stream",
          "name": "stdout",
          "text": [
            "Predict on train...\n",
            "Predict on test...\n",
            "Apply softmax to get probabilities from logits...\n",
            "Compute losses...\n"
          ]
        }
      ]
    },
    {
      "cell_type": "code",
      "metadata": {
        "id": "PuzoIxTcQkvI"
      },
      "source": [
        "\n",
        "attack_input = AttackInputData(\n",
        "  logits_train = logits_train,\n",
        "  logits_test = logits_test,\n",
        "  loss_train = loss_train,\n",
        "  loss_test = loss_test,\n",
        "  labels_train = train_labels,\n",
        "  labels_test = test_labels\n",
        ")"
      ],
      "execution_count": 13,
      "outputs": []
    },
    {
      "cell_type": "code",
      "metadata": {
        "id": "mdOSFCD2Q9O6"
      },
      "source": [
        "\n",
        "slicing_spec = SlicingSpec(\n",
        "    entire_dataset = True,\n",
        "    by_class = True,\n",
        "    by_percentiles = False,\n",
        "    by_classification_correctness = True)"
      ],
      "execution_count": 14,
      "outputs": []
    },
    {
      "cell_type": "code",
      "metadata": {
        "id": "meq0EvSKQ-dr"
      },
      "source": [
        "\n",
        "attack_types = [\n",
        "    AttackType.THRESHOLD_ATTACK\n",
        "]"
      ],
      "execution_count": 15,
      "outputs": []
    },
    {
      "cell_type": "code",
      "metadata": {
        "id": "SpQWClWbRAHf"
      },
      "source": [
        "attacks_result = mia.run_attacks(attack_input=attack_input,\n",
        "                                 slicing_spec=slicing_spec,\n",
        "                                 attack_types=attack_types)"
      ],
      "execution_count": 16,
      "outputs": []
    },
    {
      "cell_type": "code",
      "metadata": {
        "id": "u7UlPkSwRB5x",
        "colab": {
          "base_uri": "https://localhost:8080/"
        },
        "outputId": "8570fecd-5a2b-4098-db95-8ec0eb70db55"
      },
      "source": [
        "print(attacks_result.summary(by_slices=True))"
      ],
      "execution_count": 17,
      "outputs": [
        {
          "output_type": "stream",
          "name": "stdout",
          "text": [
            "Best-performing attacks over all slices\n",
            "  THRESHOLD_ATTACK (with 500 training and 100 test examples) achieved an AUC of 0.64 on slice CLASS=98\n",
            "  THRESHOLD_ATTACK (with 500 training and 100 test examples) achieved an advantage of 0.25 on slice CLASS=98\n",
            "\n",
            "Best-performing attacks over slice: \"Entire dataset\"\n",
            "  THRESHOLD_ATTACK (with 50000 training and 10000 test examples) achieved an AUC of 0.52\n",
            "  THRESHOLD_ATTACK (with 50000 training and 10000 test examples) achieved an advantage of 0.04\n",
            "\n",
            "Best-performing attacks over slice: \"CLASS=0\"\n",
            "  THRESHOLD_ATTACK (with 500 training and 100 test examples) achieved an AUC of 0.49\n",
            "  THRESHOLD_ATTACK (with 500 training and 100 test examples) achieved an advantage of 0.06\n",
            "\n",
            "Best-performing attacks over slice: \"CLASS=1\"\n",
            "  THRESHOLD_ATTACK (with 500 training and 100 test examples) achieved an AUC of 0.49\n",
            "  THRESHOLD_ATTACK (with 500 training and 100 test examples) achieved an advantage of 0.05\n",
            "\n",
            "Best-performing attacks over slice: \"CLASS=2\"\n",
            "  THRESHOLD_ATTACK (with 500 training and 100 test examples) achieved an AUC of 0.50\n",
            "  THRESHOLD_ATTACK (with 500 training and 100 test examples) achieved an advantage of 0.08\n",
            "\n",
            "Best-performing attacks over slice: \"CLASS=3\"\n",
            "  THRESHOLD_ATTACK (with 500 training and 100 test examples) achieved an AUC of 0.53\n",
            "  THRESHOLD_ATTACK (with 500 training and 100 test examples) achieved an advantage of 0.08\n",
            "\n",
            "Best-performing attacks over slice: \"CLASS=4\"\n",
            "  THRESHOLD_ATTACK (with 500 training and 100 test examples) achieved an AUC of 0.54\n",
            "  THRESHOLD_ATTACK (with 500 training and 100 test examples) achieved an advantage of 0.10\n",
            "\n",
            "Best-performing attacks over slice: \"CLASS=5\"\n",
            "  THRESHOLD_ATTACK (with 500 training and 100 test examples) achieved an AUC of 0.58\n",
            "  THRESHOLD_ATTACK (with 500 training and 100 test examples) achieved an advantage of 0.17\n",
            "\n",
            "Best-performing attacks over slice: \"CLASS=6\"\n",
            "  THRESHOLD_ATTACK (with 500 training and 100 test examples) achieved an AUC of 0.46\n",
            "  THRESHOLD_ATTACK (with 500 training and 100 test examples) achieved an advantage of 0.12\n",
            "\n",
            "Best-performing attacks over slice: \"CLASS=7\"\n",
            "  THRESHOLD_ATTACK (with 500 training and 100 test examples) achieved an AUC of 0.56\n",
            "  THRESHOLD_ATTACK (with 500 training and 100 test examples) achieved an advantage of 0.13\n",
            "\n",
            "Best-performing attacks over slice: \"CLASS=8\"\n",
            "  THRESHOLD_ATTACK (with 500 training and 100 test examples) achieved an AUC of 0.50\n",
            "  THRESHOLD_ATTACK (with 500 training and 100 test examples) achieved an advantage of 0.06\n",
            "\n",
            "Best-performing attacks over slice: \"CLASS=9\"\n",
            "  THRESHOLD_ATTACK (with 500 training and 100 test examples) achieved an AUC of 0.53\n",
            "  THRESHOLD_ATTACK (with 500 training and 100 test examples) achieved an advantage of 0.10\n",
            "\n",
            "Best-performing attacks over slice: \"CLASS=10\"\n",
            "  THRESHOLD_ATTACK (with 500 training and 100 test examples) achieved an AUC of 0.55\n",
            "  THRESHOLD_ATTACK (with 500 training and 100 test examples) achieved an advantage of 0.11\n",
            "\n",
            "Best-performing attacks over slice: \"CLASS=11\"\n",
            "  THRESHOLD_ATTACK (with 500 training and 100 test examples) achieved an AUC of 0.52\n",
            "  THRESHOLD_ATTACK (with 500 training and 100 test examples) achieved an advantage of 0.07\n",
            "\n",
            "Best-performing attacks over slice: \"CLASS=12\"\n",
            "  THRESHOLD_ATTACK (with 500 training and 100 test examples) achieved an AUC of 0.51\n",
            "  THRESHOLD_ATTACK (with 500 training and 100 test examples) achieved an advantage of 0.07\n",
            "\n",
            "Best-performing attacks over slice: \"CLASS=13\"\n",
            "  THRESHOLD_ATTACK (with 500 training and 100 test examples) achieved an AUC of 0.53\n",
            "  THRESHOLD_ATTACK (with 500 training and 100 test examples) achieved an advantage of 0.12\n",
            "\n",
            "Best-performing attacks over slice: \"CLASS=14\"\n",
            "  THRESHOLD_ATTACK (with 500 training and 100 test examples) achieved an AUC of 0.55\n",
            "  THRESHOLD_ATTACK (with 500 training and 100 test examples) achieved an advantage of 0.12\n",
            "\n",
            "Best-performing attacks over slice: \"CLASS=15\"\n",
            "  THRESHOLD_ATTACK (with 500 training and 100 test examples) achieved an AUC of 0.53\n",
            "  THRESHOLD_ATTACK (with 500 training and 100 test examples) achieved an advantage of 0.10\n",
            "\n",
            "Best-performing attacks over slice: \"CLASS=16\"\n",
            "  THRESHOLD_ATTACK (with 500 training and 100 test examples) achieved an AUC of 0.49\n",
            "  THRESHOLD_ATTACK (with 500 training and 100 test examples) achieved an advantage of 0.07\n",
            "\n",
            "Best-performing attacks over slice: \"CLASS=17\"\n",
            "  THRESHOLD_ATTACK (with 500 training and 100 test examples) achieved an AUC of 0.53\n",
            "  THRESHOLD_ATTACK (with 500 training and 100 test examples) achieved an advantage of 0.07\n",
            "\n",
            "Best-performing attacks over slice: \"CLASS=18\"\n",
            "  THRESHOLD_ATTACK (with 500 training and 100 test examples) achieved an AUC of 0.48\n",
            "  THRESHOLD_ATTACK (with 500 training and 100 test examples) achieved an advantage of 0.08\n",
            "\n",
            "Best-performing attacks over slice: \"CLASS=19\"\n",
            "  THRESHOLD_ATTACK (with 500 training and 100 test examples) achieved an AUC of 0.56\n",
            "  THRESHOLD_ATTACK (with 500 training and 100 test examples) achieved an advantage of 0.15\n",
            "\n",
            "Best-performing attacks over slice: \"CLASS=20\"\n",
            "  THRESHOLD_ATTACK (with 500 training and 100 test examples) achieved an AUC of 0.52\n",
            "  THRESHOLD_ATTACK (with 500 training and 100 test examples) achieved an advantage of 0.08\n",
            "\n",
            "Best-performing attacks over slice: \"CLASS=21\"\n",
            "  THRESHOLD_ATTACK (with 500 training and 100 test examples) achieved an AUC of 0.48\n",
            "  THRESHOLD_ATTACK (with 500 training and 100 test examples) achieved an advantage of 0.12\n",
            "\n",
            "Best-performing attacks over slice: \"CLASS=22\"\n",
            "  THRESHOLD_ATTACK (with 500 training and 100 test examples) achieved an AUC of 0.53\n",
            "  THRESHOLD_ATTACK (with 500 training and 100 test examples) achieved an advantage of 0.13\n",
            "\n",
            "Best-performing attacks over slice: \"CLASS=23\"\n",
            "  THRESHOLD_ATTACK (with 500 training and 100 test examples) achieved an AUC of 0.54\n",
            "  THRESHOLD_ATTACK (with 500 training and 100 test examples) achieved an advantage of 0.10\n",
            "\n",
            "Best-performing attacks over slice: \"CLASS=24\"\n",
            "  THRESHOLD_ATTACK (with 500 training and 100 test examples) achieved an AUC of 0.52\n",
            "  THRESHOLD_ATTACK (with 500 training and 100 test examples) achieved an advantage of 0.06\n",
            "\n",
            "Best-performing attacks over slice: \"CLASS=25\"\n",
            "  THRESHOLD_ATTACK (with 500 training and 100 test examples) achieved an AUC of 0.52\n",
            "  THRESHOLD_ATTACK (with 500 training and 100 test examples) achieved an advantage of 0.07\n",
            "\n",
            "Best-performing attacks over slice: \"CLASS=26\"\n",
            "  THRESHOLD_ATTACK (with 500 training and 100 test examples) achieved an AUC of 0.52\n",
            "  THRESHOLD_ATTACK (with 500 training and 100 test examples) achieved an advantage of 0.06\n",
            "\n",
            "Best-performing attacks over slice: \"CLASS=27\"\n",
            "  THRESHOLD_ATTACK (with 500 training and 100 test examples) achieved an AUC of 0.49\n",
            "  THRESHOLD_ATTACK (with 500 training and 100 test examples) achieved an advantage of 0.07\n",
            "\n",
            "Best-performing attacks over slice: \"CLASS=28\"\n",
            "  THRESHOLD_ATTACK (with 500 training and 100 test examples) achieved an AUC of 0.48\n",
            "  THRESHOLD_ATTACK (with 500 training and 100 test examples) achieved an advantage of 0.08\n",
            "\n",
            "Best-performing attacks over slice: \"CLASS=29\"\n",
            "  THRESHOLD_ATTACK (with 500 training and 100 test examples) achieved an AUC of 0.50\n",
            "  THRESHOLD_ATTACK (with 500 training and 100 test examples) achieved an advantage of 0.08\n",
            "\n",
            "Best-performing attacks over slice: \"CLASS=30\"\n",
            "  THRESHOLD_ATTACK (with 500 training and 100 test examples) achieved an AUC of 0.51\n",
            "  THRESHOLD_ATTACK (with 500 training and 100 test examples) achieved an advantage of 0.07\n",
            "\n",
            "Best-performing attacks over slice: \"CLASS=31\"\n",
            "  THRESHOLD_ATTACK (with 500 training and 100 test examples) achieved an AUC of 0.55\n",
            "  THRESHOLD_ATTACK (with 500 training and 100 test examples) achieved an advantage of 0.16\n",
            "\n",
            "Best-performing attacks over slice: \"CLASS=32\"\n",
            "  THRESHOLD_ATTACK (with 500 training and 100 test examples) achieved an AUC of 0.50\n",
            "  THRESHOLD_ATTACK (with 500 training and 100 test examples) achieved an advantage of 0.07\n",
            "\n",
            "Best-performing attacks over slice: \"CLASS=33\"\n",
            "  THRESHOLD_ATTACK (with 500 training and 100 test examples) achieved an AUC of 0.51\n",
            "  THRESHOLD_ATTACK (with 500 training and 100 test examples) achieved an advantage of 0.08\n",
            "\n",
            "Best-performing attacks over slice: \"CLASS=34\"\n",
            "  THRESHOLD_ATTACK (with 500 training and 100 test examples) achieved an AUC of 0.51\n",
            "  THRESHOLD_ATTACK (with 500 training and 100 test examples) achieved an advantage of 0.07\n",
            "\n",
            "Best-performing attacks over slice: \"CLASS=35\"\n",
            "  THRESHOLD_ATTACK (with 500 training and 100 test examples) achieved an AUC of 0.49\n",
            "  THRESHOLD_ATTACK (with 500 training and 100 test examples) achieved an advantage of 0.08\n",
            "\n",
            "Best-performing attacks over slice: \"CLASS=36\"\n",
            "  THRESHOLD_ATTACK (with 500 training and 100 test examples) achieved an AUC of 0.57\n",
            "  THRESHOLD_ATTACK (with 500 training and 100 test examples) achieved an advantage of 0.14\n",
            "\n",
            "Best-performing attacks over slice: \"CLASS=37\"\n",
            "  THRESHOLD_ATTACK (with 500 training and 100 test examples) achieved an AUC of 0.55\n",
            "  THRESHOLD_ATTACK (with 500 training and 100 test examples) achieved an advantage of 0.11\n",
            "\n",
            "Best-performing attacks over slice: \"CLASS=38\"\n",
            "  THRESHOLD_ATTACK (with 500 training and 100 test examples) achieved an AUC of 0.51\n",
            "  THRESHOLD_ATTACK (with 500 training and 100 test examples) achieved an advantage of 0.08\n",
            "\n",
            "Best-performing attacks over slice: \"CLASS=39\"\n",
            "  THRESHOLD_ATTACK (with 500 training and 100 test examples) achieved an AUC of 0.54\n",
            "  THRESHOLD_ATTACK (with 500 training and 100 test examples) achieved an advantage of 0.09\n",
            "\n",
            "Best-performing attacks over slice: \"CLASS=40\"\n",
            "  THRESHOLD_ATTACK (with 500 training and 100 test examples) achieved an AUC of 0.51\n",
            "  THRESHOLD_ATTACK (with 500 training and 100 test examples) achieved an advantage of 0.09\n",
            "\n",
            "Best-performing attacks over slice: \"CLASS=41\"\n",
            "  THRESHOLD_ATTACK (with 500 training and 100 test examples) achieved an AUC of 0.48\n",
            "  THRESHOLD_ATTACK (with 500 training and 100 test examples) achieved an advantage of 0.07\n",
            "\n",
            "Best-performing attacks over slice: \"CLASS=42\"\n",
            "  THRESHOLD_ATTACK (with 500 training and 100 test examples) achieved an AUC of 0.54\n",
            "  THRESHOLD_ATTACK (with 500 training and 100 test examples) achieved an advantage of 0.10\n",
            "\n",
            "Best-performing attacks over slice: \"CLASS=43\"\n",
            "  THRESHOLD_ATTACK (with 500 training and 100 test examples) achieved an AUC of 0.51\n",
            "  THRESHOLD_ATTACK (with 500 training and 100 test examples) achieved an advantage of 0.07\n",
            "\n",
            "Best-performing attacks over slice: \"CLASS=44\"\n",
            "  THRESHOLD_ATTACK (with 500 training and 100 test examples) achieved an AUC of 0.48\n",
            "  THRESHOLD_ATTACK (with 500 training and 100 test examples) achieved an advantage of 0.07\n",
            "\n",
            "Best-performing attacks over slice: \"CLASS=45\"\n",
            "  THRESHOLD_ATTACK (with 500 training and 100 test examples) achieved an AUC of 0.55\n",
            "  THRESHOLD_ATTACK (with 500 training and 100 test examples) achieved an advantage of 0.11\n",
            "\n",
            "Best-performing attacks over slice: \"CLASS=46\"\n",
            "  THRESHOLD_ATTACK (with 500 training and 100 test examples) achieved an AUC of 0.52\n",
            "  THRESHOLD_ATTACK (with 500 training and 100 test examples) achieved an advantage of 0.10\n",
            "\n",
            "Best-performing attacks over slice: \"CLASS=47\"\n",
            "  THRESHOLD_ATTACK (with 500 training and 100 test examples) achieved an AUC of 0.51\n",
            "  THRESHOLD_ATTACK (with 500 training and 100 test examples) achieved an advantage of 0.08\n",
            "\n",
            "Best-performing attacks over slice: \"CLASS=48\"\n",
            "  THRESHOLD_ATTACK (with 500 training and 100 test examples) achieved an AUC of 0.46\n",
            "  THRESHOLD_ATTACK (with 500 training and 100 test examples) achieved an advantage of 0.10\n",
            "\n",
            "Best-performing attacks over slice: \"CLASS=49\"\n",
            "  THRESHOLD_ATTACK (with 500 training and 100 test examples) achieved an AUC of 0.56\n",
            "  THRESHOLD_ATTACK (with 500 training and 100 test examples) achieved an advantage of 0.13\n",
            "\n",
            "Best-performing attacks over slice: \"CLASS=50\"\n",
            "  THRESHOLD_ATTACK (with 500 training and 100 test examples) achieved an AUC of 0.51\n",
            "  THRESHOLD_ATTACK (with 500 training and 100 test examples) achieved an advantage of 0.07\n",
            "\n",
            "Best-performing attacks over slice: \"CLASS=51\"\n",
            "  THRESHOLD_ATTACK (with 500 training and 100 test examples) achieved an AUC of 0.54\n",
            "  THRESHOLD_ATTACK (with 500 training and 100 test examples) achieved an advantage of 0.10\n",
            "\n",
            "Best-performing attacks over slice: \"CLASS=52\"\n",
            "  THRESHOLD_ATTACK (with 500 training and 100 test examples) achieved an AUC of 0.45\n",
            "  THRESHOLD_ATTACK (with 500 training and 100 test examples) achieved an advantage of 0.14\n",
            "\n",
            "Best-performing attacks over slice: \"CLASS=53\"\n",
            "  THRESHOLD_ATTACK (with 500 training and 100 test examples) achieved an AUC of 0.56\n",
            "  THRESHOLD_ATTACK (with 500 training and 100 test examples) achieved an advantage of 0.15\n",
            "\n",
            "Best-performing attacks over slice: \"CLASS=54\"\n",
            "  THRESHOLD_ATTACK (with 500 training and 100 test examples) achieved an AUC of 0.50\n",
            "  THRESHOLD_ATTACK (with 500 training and 100 test examples) achieved an advantage of 0.07\n",
            "\n",
            "Best-performing attacks over slice: \"CLASS=55\"\n",
            "  THRESHOLD_ATTACK (with 500 training and 100 test examples) achieved an AUC of 0.55\n",
            "  THRESHOLD_ATTACK (with 500 training and 100 test examples) achieved an advantage of 0.12\n",
            "\n",
            "Best-performing attacks over slice: \"CLASS=56\"\n",
            "  THRESHOLD_ATTACK (with 500 training and 100 test examples) achieved an AUC of 0.52\n",
            "  THRESHOLD_ATTACK (with 500 training and 100 test examples) achieved an advantage of 0.09\n",
            "\n",
            "Best-performing attacks over slice: \"CLASS=57\"\n",
            "  THRESHOLD_ATTACK (with 500 training and 100 test examples) achieved an AUC of 0.55\n",
            "  THRESHOLD_ATTACK (with 500 training and 100 test examples) achieved an advantage of 0.15\n",
            "\n",
            "Best-performing attacks over slice: \"CLASS=58\"\n",
            "  THRESHOLD_ATTACK (with 500 training and 100 test examples) achieved an AUC of 0.59\n",
            "  THRESHOLD_ATTACK (with 500 training and 100 test examples) achieved an advantage of 0.17\n",
            "\n",
            "Best-performing attacks over slice: \"CLASS=59\"\n",
            "  THRESHOLD_ATTACK (with 500 training and 100 test examples) achieved an AUC of 0.53\n",
            "  THRESHOLD_ATTACK (with 500 training and 100 test examples) achieved an advantage of 0.08\n",
            "\n",
            "Best-performing attacks over slice: \"CLASS=60\"\n",
            "  THRESHOLD_ATTACK (with 500 training and 100 test examples) achieved an AUC of 0.50\n",
            "  THRESHOLD_ATTACK (with 500 training and 100 test examples) achieved an advantage of 0.05\n",
            "\n",
            "Best-performing attacks over slice: \"CLASS=61\"\n",
            "  THRESHOLD_ATTACK (with 500 training and 100 test examples) achieved an AUC of 0.55\n",
            "  THRESHOLD_ATTACK (with 500 training and 100 test examples) achieved an advantage of 0.14\n",
            "\n",
            "Best-performing attacks over slice: \"CLASS=62\"\n",
            "  THRESHOLD_ATTACK (with 500 training and 100 test examples) achieved an AUC of 0.52\n",
            "  THRESHOLD_ATTACK (with 500 training and 100 test examples) achieved an advantage of 0.09\n",
            "\n",
            "Best-performing attacks over slice: \"CLASS=63\"\n",
            "  THRESHOLD_ATTACK (with 500 training and 100 test examples) achieved an AUC of 0.55\n",
            "  THRESHOLD_ATTACK (with 500 training and 100 test examples) achieved an advantage of 0.12\n",
            "\n",
            "Best-performing attacks over slice: \"CLASS=64\"\n",
            "  THRESHOLD_ATTACK (with 500 training and 100 test examples) achieved an AUC of 0.59\n",
            "  THRESHOLD_ATTACK (with 500 training and 100 test examples) achieved an advantage of 0.17\n",
            "\n",
            "Best-performing attacks over slice: \"CLASS=65\"\n",
            "  THRESHOLD_ATTACK (with 500 training and 100 test examples) achieved an AUC of 0.50\n",
            "  THRESHOLD_ATTACK (with 500 training and 100 test examples) achieved an advantage of 0.06\n",
            "\n",
            "Best-performing attacks over slice: \"CLASS=66\"\n",
            "  THRESHOLD_ATTACK (with 500 training and 100 test examples) achieved an AUC of 0.49\n",
            "  THRESHOLD_ATTACK (with 500 training and 100 test examples) achieved an advantage of 0.06\n",
            "\n",
            "Best-performing attacks over slice: \"CLASS=67\"\n",
            "  THRESHOLD_ATTACK (with 500 training and 100 test examples) achieved an AUC of 0.54\n",
            "  THRESHOLD_ATTACK (with 500 training and 100 test examples) achieved an advantage of 0.10\n",
            "\n",
            "Best-performing attacks over slice: \"CLASS=68\"\n",
            "  THRESHOLD_ATTACK (with 500 training and 100 test examples) achieved an AUC of 0.56\n",
            "  THRESHOLD_ATTACK (with 500 training and 100 test examples) achieved an advantage of 0.16\n",
            "\n",
            "Best-performing attacks over slice: \"CLASS=69\"\n",
            "  THRESHOLD_ATTACK (with 500 training and 100 test examples) achieved an AUC of 0.55\n",
            "  THRESHOLD_ATTACK (with 500 training and 100 test examples) achieved an advantage of 0.11\n",
            "\n",
            "Best-performing attacks over slice: \"CLASS=70\"\n",
            "  THRESHOLD_ATTACK (with 500 training and 100 test examples) achieved an AUC of 0.48\n",
            "  THRESHOLD_ATTACK (with 500 training and 100 test examples) achieved an advantage of 0.08\n",
            "\n",
            "Best-performing attacks over slice: \"CLASS=71\"\n",
            "  THRESHOLD_ATTACK (with 500 training and 100 test examples) achieved an AUC of 0.51\n",
            "  THRESHOLD_ATTACK (with 500 training and 100 test examples) achieved an advantage of 0.11\n",
            "\n",
            "Best-performing attacks over slice: \"CLASS=72\"\n",
            "  THRESHOLD_ATTACK (with 500 training and 100 test examples) achieved an AUC of 0.50\n",
            "  THRESHOLD_ATTACK (with 500 training and 100 test examples) achieved an advantage of 0.06\n",
            "\n",
            "Best-performing attacks over slice: \"CLASS=73\"\n",
            "  THRESHOLD_ATTACK (with 500 training and 100 test examples) achieved an AUC of 0.53\n",
            "  THRESHOLD_ATTACK (with 500 training and 100 test examples) achieved an advantage of 0.09\n",
            "\n",
            "Best-performing attacks over slice: \"CLASS=74\"\n",
            "  THRESHOLD_ATTACK (with 500 training and 100 test examples) achieved an AUC of 0.56\n",
            "  THRESHOLD_ATTACK (with 500 training and 100 test examples) achieved an advantage of 0.13\n",
            "\n",
            "Best-performing attacks over slice: \"CLASS=75\"\n",
            "  THRESHOLD_ATTACK (with 500 training and 100 test examples) achieved an AUC of 0.54\n",
            "  THRESHOLD_ATTACK (with 500 training and 100 test examples) achieved an advantage of 0.10\n",
            "\n",
            "Best-performing attacks over slice: \"CLASS=76\"\n",
            "  THRESHOLD_ATTACK (with 500 training and 100 test examples) achieved an AUC of 0.50\n",
            "  THRESHOLD_ATTACK (with 500 training and 100 test examples) achieved an advantage of 0.09\n",
            "\n",
            "Best-performing attacks over slice: \"CLASS=77\"\n",
            "  THRESHOLD_ATTACK (with 500 training and 100 test examples) achieved an AUC of 0.53\n",
            "  THRESHOLD_ATTACK (with 500 training and 100 test examples) achieved an advantage of 0.10\n",
            "\n",
            "Best-performing attacks over slice: \"CLASS=78\"\n",
            "  THRESHOLD_ATTACK (with 500 training and 100 test examples) achieved an AUC of 0.53\n",
            "  THRESHOLD_ATTACK (with 500 training and 100 test examples) achieved an advantage of 0.09\n",
            "\n",
            "Best-performing attacks over slice: \"CLASS=79\"\n",
            "  THRESHOLD_ATTACK (with 500 training and 100 test examples) achieved an AUC of 0.51\n",
            "  THRESHOLD_ATTACK (with 500 training and 100 test examples) achieved an advantage of 0.08\n",
            "\n",
            "Best-performing attacks over slice: \"CLASS=80\"\n",
            "  THRESHOLD_ATTACK (with 500 training and 100 test examples) achieved an AUC of 0.53\n",
            "  THRESHOLD_ATTACK (with 500 training and 100 test examples) achieved an advantage of 0.08\n",
            "\n",
            "Best-performing attacks over slice: \"CLASS=81\"\n",
            "  THRESHOLD_ATTACK (with 500 training and 100 test examples) achieved an AUC of 0.51\n",
            "  THRESHOLD_ATTACK (with 500 training and 100 test examples) achieved an advantage of 0.07\n",
            "\n",
            "Best-performing attacks over slice: \"CLASS=82\"\n",
            "  THRESHOLD_ATTACK (with 500 training and 100 test examples) achieved an AUC of 0.48\n",
            "  THRESHOLD_ATTACK (with 500 training and 100 test examples) achieved an advantage of 0.12\n",
            "\n",
            "Best-performing attacks over slice: \"CLASS=83\"\n",
            "  THRESHOLD_ATTACK (with 500 training and 100 test examples) achieved an AUC of 0.56\n",
            "  THRESHOLD_ATTACK (with 500 training and 100 test examples) achieved an advantage of 0.12\n",
            "\n",
            "Best-performing attacks over slice: \"CLASS=84\"\n",
            "  THRESHOLD_ATTACK (with 500 training and 100 test examples) achieved an AUC of 0.59\n",
            "  THRESHOLD_ATTACK (with 500 training and 100 test examples) achieved an advantage of 0.16\n",
            "\n",
            "Best-performing attacks over slice: \"CLASS=85\"\n",
            "  THRESHOLD_ATTACK (with 500 training and 100 test examples) achieved an AUC of 0.48\n",
            "  THRESHOLD_ATTACK (with 500 training and 100 test examples) achieved an advantage of 0.10\n",
            "\n",
            "Best-performing attacks over slice: \"CLASS=86\"\n",
            "  THRESHOLD_ATTACK (with 500 training and 100 test examples) achieved an AUC of 0.53\n",
            "  THRESHOLD_ATTACK (with 500 training and 100 test examples) achieved an advantage of 0.14\n",
            "\n",
            "Best-performing attacks over slice: \"CLASS=87\"\n",
            "  THRESHOLD_ATTACK (with 500 training and 100 test examples) achieved an AUC of 0.54\n",
            "  THRESHOLD_ATTACK (with 500 training and 100 test examples) achieved an advantage of 0.13\n",
            "\n",
            "Best-performing attacks over slice: \"CLASS=88\"\n",
            "  THRESHOLD_ATTACK (with 500 training and 100 test examples) achieved an AUC of 0.57\n",
            "  THRESHOLD_ATTACK (with 500 training and 100 test examples) achieved an advantage of 0.17\n",
            "\n",
            "Best-performing attacks over slice: \"CLASS=89\"\n",
            "  THRESHOLD_ATTACK (with 500 training and 100 test examples) achieved an AUC of 0.47\n",
            "  THRESHOLD_ATTACK (with 500 training and 100 test examples) achieved an advantage of 0.09\n",
            "\n",
            "Best-performing attacks over slice: \"CLASS=90\"\n",
            "  THRESHOLD_ATTACK (with 500 training and 100 test examples) achieved an AUC of 0.51\n",
            "  THRESHOLD_ATTACK (with 500 training and 100 test examples) achieved an advantage of 0.13\n",
            "\n",
            "Best-performing attacks over slice: \"CLASS=91\"\n",
            "  THRESHOLD_ATTACK (with 500 training and 100 test examples) achieved an AUC of 0.50\n",
            "  THRESHOLD_ATTACK (with 500 training and 100 test examples) achieved an advantage of 0.06\n",
            "\n",
            "Best-performing attacks over slice: \"CLASS=92\"\n",
            "  THRESHOLD_ATTACK (with 500 training and 100 test examples) achieved an AUC of 0.54\n",
            "  THRESHOLD_ATTACK (with 500 training and 100 test examples) achieved an advantage of 0.08\n",
            "\n",
            "Best-performing attacks over slice: \"CLASS=93\"\n",
            "  THRESHOLD_ATTACK (with 500 training and 100 test examples) achieved an AUC of 0.57\n",
            "  THRESHOLD_ATTACK (with 500 training and 100 test examples) achieved an advantage of 0.14\n",
            "\n",
            "Best-performing attacks over slice: \"CLASS=94\"\n",
            "  THRESHOLD_ATTACK (with 500 training and 100 test examples) achieved an AUC of 0.51\n",
            "  THRESHOLD_ATTACK (with 500 training and 100 test examples) achieved an advantage of 0.07\n",
            "\n",
            "Best-performing attacks over slice: \"CLASS=95\"\n",
            "  THRESHOLD_ATTACK (with 500 training and 100 test examples) achieved an AUC of 0.55\n",
            "  THRESHOLD_ATTACK (with 500 training and 100 test examples) achieved an advantage of 0.13\n",
            "\n",
            "Best-performing attacks over slice: \"CLASS=96\"\n",
            "  THRESHOLD_ATTACK (with 500 training and 100 test examples) achieved an AUC of 0.57\n",
            "  THRESHOLD_ATTACK (with 500 training and 100 test examples) achieved an advantage of 0.17\n",
            "\n",
            "Best-performing attacks over slice: \"CLASS=97\"\n",
            "  THRESHOLD_ATTACK (with 500 training and 100 test examples) achieved an AUC of 0.50\n",
            "  THRESHOLD_ATTACK (with 500 training and 100 test examples) achieved an advantage of 0.05\n",
            "\n",
            "Best-performing attacks over slice: \"CLASS=98\"\n",
            "  THRESHOLD_ATTACK (with 500 training and 100 test examples) achieved an AUC of 0.64\n",
            "  THRESHOLD_ATTACK (with 500 training and 100 test examples) achieved an advantage of 0.25\n",
            "\n",
            "Best-performing attacks over slice: \"CLASS=99\"\n",
            "  THRESHOLD_ATTACK (with 500 training and 100 test examples) achieved an AUC of 0.48\n",
            "  THRESHOLD_ATTACK (with 500 training and 100 test examples) achieved an advantage of 0.06\n",
            "\n",
            "Best-performing attacks over slice: \"CORRECTLY_CLASSIFIED=True\"\n",
            "  THRESHOLD_ATTACK (with 15115 training and 2785 test examples) achieved an AUC of 0.49\n",
            "  THRESHOLD_ATTACK (with 15115 training and 2785 test examples) achieved an advantage of 0.02\n",
            "\n",
            "Best-performing attacks over slice: \"CORRECTLY_CLASSIFIED=False\"\n",
            "  THRESHOLD_ATTACK (with 34885 training and 7215 test examples) achieved an AUC of 0.52\n",
            "  THRESHOLD_ATTACK (with 34885 training and 7215 test examples) achieved an advantage of 0.04\n"
          ]
        }
      ]
    },
    {
      "cell_type": "code",
      "metadata": {
        "id": "YNhjvK2iRC8C",
        "colab": {
          "base_uri": "https://localhost:8080/",
          "height": 296
        },
        "outputId": "4a485748-4cc6-4ab0-aad4-c7e670cdacd6"
      },
      "source": [
        "# plot the curve, we see that the attacker is much better than random guessing\n",
        "import tensorflow_privacy.privacy.membership_inference_attack.plotting as plotting\n",
        "print(plotting.plot_roc_curve(attacks_result.get_result_with_max_auc().roc_curve))"
      ],
      "execution_count": 18,
      "outputs": [
        {
          "output_type": "stream",
          "name": "stdout",
          "text": [
            "Figure(432x288)\n"
          ]
        },
        {
          "output_type": "display_data",
          "data": {
            "image/png": "[encoded data removed]",
            "text/plain": [
              "<Figure size 432x288 with 1 Axes>"
            ]
          },
          "metadata": {
            "needs_background": "light"
          }
        }
      ]
    },
    {
      "cell_type": "code",
      "metadata": {
        "id": "AIwlov7yRE--"
      },
      "source": [
        ""
      ],
      "execution_count": null,
      "outputs": []
    }
  ]
}