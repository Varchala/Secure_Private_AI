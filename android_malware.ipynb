{
  "nbformat": 4,
  "nbformat_minor": 0,
  "metadata": {
    "colab": {
      "name": "android_malware.ipynb",
      "provenance": [],
      "collapsed_sections": [],
      "include_colab_link": true
    },
    "kernelspec": {
      "name": "python3",
      "display_name": "Python 3"
    }
  },
  "cells": [
    {
      "cell_type": "markdown",
      "metadata": {
        "id": "view-in-github",
        "colab_type": "text"
      },
      "source": [
        "<a href=\"https://colab.research.google.com/github/Varchala/Secure_Private_AI/blob/main/android_malware.ipynb\" target=\"_parent\"><img src=\"https://colab.research.google.com/assets/colab-badge.svg\" alt=\"Open In Colab\"/></a>"
      ]
    },
    {
      "cell_type": "markdown",
      "metadata": {
        "id": "9Hy_8YxiXNr1"
      },
      "source": [
        "We are using [androguard](https://github.com/androguard/androguard) to perform apk analysis. We are using a small data set that is available on [kaggle](https://www.kaggle.com/xwolf12/datasetandroidpermissions). \n",
        "\n",
        "We will also use some live android malware as well as a (hopefully ;) ) clean android app. The cell below downloads the data we need through this notebook.\n"
      ]
    },
    {
      "cell_type": "code",
      "metadata": {
        "id": "99-9GWOoT-aH"
      },
      "source": [
        "!pip install androguard\n",
        "!pip install tensorflow-gpu==1.15.2  keras==2.2.3 cleverhans==2.1.0\n",
        "!wget https://github.com/duckduckgo/Android/releases/download/5.36.3/duckduckgo-5.36.3-release.apk\n",
        "!wget 'https://docs.google.com/uc?export=download&id=1_eK_o1Jdp0K8lIVptcgfrn3x546bbc3d' -O android_permissions.csv\n",
        "!wget https://github.com/ashishb/android-malware/raw/master/fake_bankers/eba335956afad3b50a93effc61cd7467552ff0f7c8ac14032f784c5fec3a5720.apk -O fake_banker.apk\n",
        "!wget https://raw.githubusercontent.com/ashishb/android-malware/master/feabme/com.tinker.jumperchess\\(Jump%20Chess\\).apk -O feabme.apk\n",
        "!wget https://github.com/ashishb/android-malware/raw/master/TrojanDownloader.Agent.JI/Google-play.apk -O TrojanDownloader.apk\n"
      ],
      "execution_count": null,
      "outputs": []
    },
    {
      "cell_type": "markdown",
      "metadata": {
        "id": "qaZPx8AdYUhV"
      },
      "source": [
        "Below is some help code that is mostly about data handling. It provides function to split the data in tow the two different classes as well as perform the test and train split."
      ]
    },
    {
      "cell_type": "code",
      "metadata": {
        "id": "4O7GNX3Rp5_z"
      },
      "source": [
        "def split_by_class(  x, y, MALWARE_LABEL=1, BEGING_LABEL=0 ):\n",
        "  \"\"\"\n",
        "  Return two datasets. one for benign and one for malicious\n",
        "  :param x:\n",
        "  :param y:\n",
        "  :return: (x_mal, y_mal), (x_beg, y_beg)\n",
        "  \"\"\"\n",
        "\n",
        "  # saftey checks\n",
        "  size = x.shape[ 0 ]\n",
        "  assert (size == y.shape[ 0 ])\n",
        "\n",
        "  # converted to category labels\n",
        "  if hasattr( y[ 0 ], 'shape' ) and  len( y[0].shape) != 0 and y[ 0 ].shape[ 0 ] > 1:\n",
        "    mal_label = to_categorical( MALWARE_LABEL, 2 )\n",
        "    beg_label = to_categorical( BEGING_LABEL, 2 )\n",
        "    # cause numpy is fun\n",
        "    i_m = (y == mal_label).all( axis=1 ).nonzero( )[ 0 ]\n",
        "    i_x = (y == beg_label).all( axis=1 ).nonzero( )[ 0 ]\n",
        "  else:\n",
        "    i_m = np.argwhere( y == MALWARE_LABEL )[ :, 0 ]\n",
        "    i_x = np.argwhere( y == BEGING_LABEL )[ :, 0 ]\n",
        "\n",
        "  x_mal = x[ i_m ][ : ]\n",
        "  y_mal = y[ i_m ][ : ]\n",
        "\n",
        "  x_beg = x[ i_x ][ : ]\n",
        "  y_beg = y[ i_x ][ : ]\n",
        "\n",
        "  print( 'Malware: ', x_mal.shape )\n",
        "  print( 'Goodware: ', x_beg.shape )\n",
        "\n",
        "  # saftey checks\n",
        "  assert (size == x_mal.shape[ 0 ] + x_beg.shape[ 0 ])\n",
        "  assert (size == y_mal.shape[ 0 ] + y_beg.shape[ 0 ])\n",
        "\n",
        "  return (x_mal, y_mal), (x_beg, y_beg)\n",
        "\n",
        "\n",
        "def training_and_test( x, y, split=0.75, balance_classes=False,\n",
        "                      MALWARE_LABEL=1, BEGING_LABEL=0, **kwargs ):\n",
        "  \"\"\"\n",
        "  Splits the data set into training set. If x or y is None the data is loaded \n",
        "  or processed.\n",
        "  :param x:\n",
        "  :param y:\n",
        "  :param split: percentage of the training going into the training data\n",
        "  :balance_classes: keep the ratio of classes in training and test set\n",
        "  :return: (x_train, y_train), (x_test, y_test)\n",
        "  \"\"\"\n",
        "  # safety checks\n",
        "  size = x.shape[ 0 ]\n",
        "  assert (size == y.shape[ 0 ])\n",
        "\n",
        "  print( 'X: ', x.shape )\n",
        "  print( 'Y: ', y.shape )\n",
        "\n",
        "  rand = np.random.RandomState( )\n",
        "  rand.seed( 7 )\n",
        "  if balance_classes:\n",
        "    (x_mal, y_mal), (x_beg, y_beg) = split_by_class( x, y )\n",
        "    p_mal = rand.permutation( x_mal.shape[ 0 ] )\n",
        "    p_beg = rand.permutation( x_beg.shape[ 0 ] )\n",
        "    # training set\n",
        "    print( y_beg[ p_beg ][ : int( x.shape[ 0 ] * split ) ].shape )\n",
        "    x_train = np.vstack( (x_mal[ p_mal ][ : int( x_mal.shape[ 0 ] * split ) ],\n",
        "                        x_beg[ p_beg ][ : int( x_beg.shape[ 0 ] * split ) ]) )\n",
        "    if len( y.shape ) ==1 :\n",
        "      y_train = np.concatenate( (y_mal[ p_mal ][ : int( x_mal.shape[ 0 ] * split ) ],\n",
        "                            y_beg[ p_beg ][ : int( x_beg.shape[ 0 ] * split ) ]),\n",
        "                            axis=None )\n",
        "    else:\n",
        "      y_train = np.vstack( (y_mal[ p_mal ][ : int( x_mal.shape[ 0 ] * split ) ],\n",
        "                            y_beg[ p_beg ][ : int( x_beg.shape[ 0 ] * split ) ]) )\n",
        "    # test set\n",
        "    x_test = np.vstack( (x_mal[ p_mal ][ int( x_mal.shape[ 0 ] * split ): ],\n",
        "                        x_beg[ p_beg ][ int( x_beg.shape[ 0 ] * split ): ]) )\n",
        "    if len( y.shape ) ==1 :\n",
        "      y_test = np.concatenate( (y_mal[ p_mal ][ int( x_mal.shape[ 0 ] * split ): ],\n",
        "                          y_beg[ p_beg ][ int( x_beg.shape[ 0 ] * split ): ]),\n",
        "                            axis=None )\n",
        "    else:\n",
        "      y_test = np.vstack( (y_mal[ p_mal ][ int( x_mal.shape[ 0 ] * split ): ],\n",
        "                          y_beg[ p_beg ][ int( x_beg.shape[ 0 ] * split ): ]) )\n",
        "  else:\n",
        "    p = rand.permutation( x.shape[ 0 ] )\n",
        "    x_train = x[ p ][ : int( x.shape[ 0 ] * split ) ]\n",
        "    y_train = y[ p ][ : int( x.shape[ 0 ] * split ) ]\n",
        "    x_test = x[ p ][ int( x.shape[ 0 ] * split ): ]\n",
        "    y_test = y[ p ][ int( x.shape[ 0 ] * split ): ]\n",
        "\n",
        "  print( 'X_train: ', x_train.shape, type( x_train ) )\n",
        "  print( 'Y_train: ', y_train.shape, type( y_train ) )\n",
        "  print( 'X_test: ', x_test.shape, type( x_test ) )\n",
        "  print( 'Y_test: ', y_test.shape, type( y_test ) )\n",
        "  # safety checks\n",
        "  assert (size == x_train.shape[ 0 ] + x_test.shape[ 0 ])\n",
        "  assert (size == y_train.shape[ 0 ] + y_test.shape[ 0 ])\n",
        "\n",
        "  return (x_train, y_train), (x_test, y_test)\n"
      ],
      "execution_count": 2,
      "outputs": []
    },
    {
      "cell_type": "markdown",
      "metadata": {
        "id": "-KB9buyUp5c_"
      },
      "source": [
        "Description of the dataset\n",
        "\n",
        "The data were obtained by a process that consisted to\n",
        " create a binary vector of **permissions** used for each application analyzed {1=used, 0=no used}.\n",
        "Moreover, the samples of malware/benign were divided by \"Type\"; 1 malware and 0 non-malware."
      ]
    },
    {
      "cell_type": "code",
      "metadata": {
        "pycharm": {
          "name": "#%%\n"
        },
        "id": "ZoRXcnTdfvkW"
      },
      "source": [
        "!head android_permissions.csv"
      ],
      "execution_count": null,
      "outputs": []
    },
    {
      "cell_type": "markdown",
      "metadata": {
        "collapsed": false,
        "pycharm": {
          "name": "#%% md\n"
        },
        "id": "1fEWOQEjfvkW"
      },
      "source": [
        "Next we'll read in the csv file and parse it. the first line gives us the names of the permissions. After that each line represents an instance. A 1 indicates that a certain feature/permission is present while a 0 indicates that it is not. The last value of the line gives us the class. "
      ]
    },
    {
      "cell_type": "code",
      "metadata": {
        "id": "qAlg61I8LlEN",
        "colab": {
          "base_uri": "https://localhost:8080/"
        },
        "outputId": "30744530-73c9-4933-b074-c7a75bb2536c"
      },
      "source": [
        "import numpy as np\n",
        "\n",
        "with open( 'android_permissions.csv', 'r' ) as f:\n",
        "  lines = f.readlines()\n",
        "\n",
        "permissions = lines[ 0 ].split( ';' )[ :-1 ]\n",
        "print( 'all knonw permissions' )\n",
        "print( permissions )\n",
        "\n",
        "x = [ ]\n",
        "y = [ ]\n",
        "for line in lines[ 1: ]:\n",
        "    features = line.rstrip( '\\n' ).split( ';' )\n",
        "    arr = [ int( i ) for i in features[ : -1 ] ]\n",
        "    x.append( arr )\n",
        "    y.append(  int( features[ -1 ] ) )\n",
        "f.close( )\n",
        "x = np.array( x )\n",
        "y = np.array( y )\n",
        "\n",
        "(x_train, y_train), (x_test, y_test) = training_and_test( x, y, \n",
        "                                                         balance_classes=True)\n",
        "\n"
      ],
      "execution_count": 4,
      "outputs": [
        {
          "output_type": "stream",
          "name": "stdout",
          "text": [
            "all knonw permissions\n",
            "['android', 'android.app.cts.permission.TEST_GRANTED', 'android.intent.category.MASTER_CLEAR.permission.C2D_MESSAGE', 'android.os.cts.permission.TEST_GRANTED', 'android.permission.ACCESS_ALL_DOWNLOADS', 'android.permission.ACCESS_ALL_EXTERNAL_STORAGE', 'android.permission.ACCESS_BLUETOOTH_SHARE', 'android.permission.ACCESS_CACHE_FILESYSTEM', 'android.permission.ACCESS_CHECKIN_PROPERTIES', 'android.permission.ACCESS_COARSE_LOCATION', 'android.permission.ACCESS_CONTENT_PROVIDERS_EXTERNALLY', 'android.permission.ACCESS_DOWNLOAD_MANAGER', 'android.permission.ACCESS_DOWNLOAD_MANAGER_ADVANCED', 'android.permission.ACCESS_DRM_CERTIFICATES', 'android.permission.ACCESS_FINE_LOCATION', 'android.permission.ACCESS_FM_RADIO', 'android.permission.ACCESS_INPUT_FLINGER', 'android.permission.ACCESS_KEYGUARD_SECURE_STORAGE', 'android.permission.ACCESS_LOCATION_EXTRA_COMMANDS', 'android.permission.ACCESS_MOCK_LOCATION', 'android.permission.ACCESS_MTP', 'android.permission.ACCESS_NETWORK_CONDITIONS', 'android.permission.ACCESS_NETWORK_STATE', 'android.permission.ACCESS_NOTIFICATIONS', 'android.permission.ACCESS_PDB_STATE', 'android.permission.ACCESS_SURFACE_FLINGER', 'android.permission.ACCESS_WIFI_STATE', 'android.permission.ACCESS_WIMAX_STATE', 'android.permission.ACCOUNT_MANAGER', 'android.permission.ALLOW_ANY_CODEC_FOR_PLAYBACK', 'android.permission.ASEC_ACCESS', 'android.permission.ASEC_CREATE', 'android.permission.ASEC_DESTROY', 'android.permission.ASEC_MOUNT_UNMOUNT', 'android.permission.ASEC_RENAME', 'android.permission.AUTHENTICATE_ACCOUNTS', 'android.permission.BACKUP', 'android.permission.BATTERY_STATS', 'android.permission.BIND_ACCESSIBILITY_SERVICE', 'android.permission.BIND_APPWIDGET', 'android.permission.BIND_CARRIER_MESSAGING_SERVICE', 'android.permission.BIND_CONDITION_PROVIDER_SERVICE', 'android.permission.BIND_CONNECTION_SERVICE', 'android.permission.BIND_DEVICE_ADMIN', 'android.permission.BIND_DIRECTORY_SEARCH', 'android.permission.BIND_DREAM_SERVICE', 'android.permission.BIND_INCALL_SERVICE', 'android.permission.BIND_INPUT_METHOD', 'android.permission.BIND_JOB_SERVICE', 'android.permission.BIND_KEYGUARD_APPWIDGET', 'android.permission.BIND_NFC_SERVICE', 'android.permission.BIND_NOTIFICATION_LISTENER_SERVICE', 'android.permission.BIND_PACKAGE_VERIFIER', 'android.permission.BIND_PRINT_SERVICE', 'android.permission.BIND_PRINT_SPOOLER_SERVICE', 'android.permission.BIND_REMOTEVIEWS', 'android.permission.BIND_REMOTE_DISPLAY', 'android.permission.BIND_TEXT_SERVICE', 'android.permission.BIND_TRUST_AGENT', 'android.permission.BIND_TV_INPUT', 'android.permission.BIND_VOICE_INTERACTION', 'android.permission.BIND_VPN_SERVICE', 'android.permission.BIND_WALLPAPER', 'android.permission.BLUETOOTH', 'android.permission.BLUETOOTH_ADMIN', 'android.permission.BLUETOOTH_MAP', 'android.permission.BLUETOOTH_PRIVILEGED', 'android.permission.BLUETOOTH_STACK', 'android.permission.BODY_SENSORS', 'android.permission.BRICK', 'android.permission.BROADCAST_CALLLOG_INFO', 'android.permission.BROADCAST_NETWORK_PRIVILEGED', 'android.permission.BROADCAST_PACKAGE_REMOVED', 'android.permission.BROADCAST_SMS', 'android.permission.BROADCAST_STICKY', 'android.permission.BROADCAST_WAP_PUSH', 'android.permission.CALL_PHONE', 'android.permission.CALL_PRIVILEGED', 'android.permission.CAMERA', 'android.permission.CAMERA_DISABLE_TRANSMIT_LED', 'android.permission.CAPTURE_AUDIO_HOTWORD', 'android.permission.CAPTURE_AUDIO_OUTPUT', 'android.permission.CAPTURE_SECURE_VIDEO_OUTPUT', 'android.permission.CAPTURE_TV_INPUT', 'android.permission.CAPTURE_VIDEO_OUTPUT', 'android.permission.CARRIER_FILTER_SMS', 'android.permission.CHANGE_BACKGROUND_DATA_SETTING', 'android.permission.CHANGE_COMPONENT_ENABLED_STATE', 'android.permission.CHANGE_CONFIGURATION', 'android.permission.CHANGE_NETWORK_STATE', 'android.permission.CHANGE_WIFI_MULTICAST_STATE', 'android.permission.CHANGE_WIFI_STATE', 'android.permission.CHANGE_WIMAX_STATE', 'android.permission.CLEAR_APP_CACHE', 'android.permission.CLEAR_APP_USER_DATA', 'android.permission.CONFIGURE_WIFI_DISPLAY', 'android.permission.CONFIRM_FULL_BACKUP', 'android.permission.CONNECTIVITY_INTERNAL', 'android.permission.CONTROL_INCALL_EXPERIENCE', 'android.permission.CONTROL_KEYGUARD', 'android.permission.CONTROL_LOCATION_UPDATES', 'android.permission.CONTROL_VPN', 'android.permission.CONTROL_WIFI_DISPLAY', 'android.permission.COPY_PROTECTED_DATA', 'android.permission.CRYPT_KEEPER', 'android.permission.DELETE_CACHE_FILES', 'android.permission.DELETE_PACKAGES', 'android.permission.DEVICE_POWER', 'android.permission.DIAGNOSTIC', 'android.permission.DISABLE_KEYGUARD', 'android.permission.DOWNLOAD_CACHE_NON_PURGEABLE', 'android.permission.DOWNLOAD_WITHOUT_NOTIFICATION', 'android.permission.DUMP', 'android.permission.EXPAND_STATUS_BAR', 'android.permission.FACTORY_TEST', 'android.permission.FILTER_EVENTS', 'android.permission.FLASHLIGHT', 'android.permission.FORCE_BACK', 'android.permission.FORCE_STOP_PACKAGES', 'android.permission.FRAME_STATS', 'android.permission.FREEZE_SCREEN', 'android.permission.GET_ACCOUNTS', 'android.permission.GET_APP_OPS_STATS', 'android.permission.GET_DETAILED_TASKS', 'android.permission.GET_PACKAGE_SIZE', 'android.permission.GET_TASKS', 'android.permission.GET_TOP_ACTIVITY_INFO', 'android.permission.GLOBAL_SEARCH', 'android.permission.GLOBAL_SEARCH_CONTROL', 'android.permission.GRANT_REVOKE_PERMISSIONS', 'android.permission.HARDWARE_TEST', 'android.permission.HDMI_CEC', 'android.permission.INJECT_EVENTS', 'android.permission.INSTALL_LOCATION_PROVIDER', 'android.permission.INSTALL_PACKAGES', 'android.permission.INTERACT_ACROSS_USERS', 'android.permission.INTERACT_ACROSS_USERS_FULL', 'android.permission.INTERNAL_SYSTEM_WINDOW', 'android.permission.INTERNET', 'android.permission.INVOKE_CARRIER_SETUP', 'android.permission.KILL_BACKGROUND_PROCESSES', 'android.permission.LAUNCH_TRUST_AGENT_SETTINGS', 'android.permission.LOCATION_HARDWARE', 'android.permission.LOOP_RADIO', 'android.permission.MANAGE_ACCOUNTS', 'android.permission.MANAGE_ACTIVITY_STACKS', 'android.permission.MANAGE_APP_TOKENS', 'android.permission.MANAGE_CA_CERTIFICATES', 'android.permission.MANAGE_DEVICE_ADMINS', 'android.permission.MANAGE_DOCUMENTS', 'android.permission.MANAGE_MEDIA_PROJECTION', 'android.permission.MANAGE_NETWORK_POLICY', 'android.permission.MANAGE_USB', 'android.permission.MANAGE_USERS', 'android.permission.MANAGE_VOICE_KEYPHRASES', 'android.permission.MASTER_CLEAR', 'android.permission.MEDIA_CONTENT_CONTROL', 'android.permission.MMS_SEND_OUTBOX_MSG', 'android.permission.MODIFY_APPWIDGET_BIND_PERMISSIONS', 'android.permission.MODIFY_AUDIO_ROUTING', 'android.permission.MODIFY_AUDIO_SETTINGS', 'android.permission.MODIFY_NETWORK_ACCOUNTING', 'android.permission.MODIFY_PARENTAL_CONTROLS', 'android.permission.MODIFY_PHONE_STATE', 'android.permission.MOUNT_FORMAT_FILESYSTEMS', 'android.permission.MOUNT_UNMOUNT_FILESYSTEMS', 'android.permission.MOVE_PACKAGE', 'android.permission.NET_ADMIN', 'android.permission.NET_TUNNELING', 'android.permission.NFC', 'android.permission.NFC_HANDOVER_STATUS', 'android.permission.OEM_UNLOCK_STATE', 'android.permission.PACKAGE_USAGE_STATS', 'android.permission.PACKAGE_VERIFICATION_AGENT', 'android.permission.PERFORM_CDMA_PROVISIONING', 'android.permission.PERSISTENT_ACTIVITY', 'android.permission.PROCESS_CALLLOG_INFO', 'android.permission.PROCESS_OUTGOING_CALLS', 'android.permission.PROVIDE_TRUST_AGENT', 'android.permission.READ_CALENDAR', 'android.permission.READ_CALL_LOG', 'android.permission.READ_CELL_BROADCASTS', 'android.permission.READ_CONTACTS', 'android.permission.READ_DREAM_STATE', 'android.permission.READ_EXTERNAL_STORAGE', 'android.permission.READ_FRAME_BUFFER', 'android.permission.READ_INPUT_STATE', 'android.permission.READ_INSTALL_SESSIONS', 'android.permission.READ_LOGS', 'android.permission.READ_NETWORK_USAGE_HISTORY', 'android.permission.READ_PHONE_STATE', 'android.permission.READ_PRECISE_PHONE_STATE', 'android.permission.READ_PRIVILEGED_PHONE_STATE', 'android.permission.READ_PROFILE', 'android.permission.READ_SEARCH_INDEXABLES', 'android.permission.READ_SMS', 'android.permission.READ_SOCIAL_STREAM', 'android.permission.READ_SYNC_SETTINGS', 'android.permission.READ_SYNC_STATS', 'android.permission.READ_USER_DICTIONARY', 'android.permission.READ_WIFI_CREDENTIAL', 'android.permission.REAL_GET_TASKS', 'android.permission.REBOOT', 'android.permission.RECEIVE_BLUETOOTH_MAP', 'android.permission.RECEIVE_BOOT_COMPLETED', 'android.permission.RECEIVE_DATA_ACTIVITY_CHANGE', 'android.permission.RECEIVE_EMERGENCY_BROADCAST', 'android.permission.RECEIVE_MMS', 'android.permission.RECEIVE_SMS', 'android.permission.RECEIVE_WAP_PUSH', 'android.permission.RECORD_AUDIO', 'android.permission.RECOVERY', 'android.permission.REGISTER_CALL_PROVIDER', 'android.permission.REGISTER_CONNECTION_MANAGER', 'android.permission.REGISTER_SIM_SUBSCRIPTION', 'android.permission.REMOTE_AUDIO_PLAYBACK', 'android.permission.REMOVE_DRM_CERTIFICATES', 'android.permission.REMOVE_TASKS', 'android.permission.REORDER_TASKS', 'android.permission.RESTART_PACKAGES', 'android.permission.RETRIEVE_WINDOW_CONTENT', 'android.permission.RETRIEVE_WINDOW_TOKEN', 'android.permission.SCORE_NETWORKS', 'android.permission.SEND_DOWNLOAD_COMPLETED_INTENTS', 'android.permission.SEND_RESPOND_VIA_MESSAGE', 'android.permission.SEND_SMS', 'android.permission.SERIAL_PORT', 'android.permission.SET_ACTIVITY_WATCHER', 'android.permission.SET_ALWAYS_FINISH', 'android.permission.SET_ANIMATION_SCALE', 'android.permission.SET_DEBUG_APP', 'android.permission.SET_INPUT_CALIBRATION', 'android.permission.SET_KEYBOARD_LAYOUT', 'android.permission.SET_ORIENTATION', 'android.permission.SET_POINTER_SPEED', 'android.permission.SET_PREFERRED_APPLICATIONS', 'android.permission.SET_PROCESS_LIMIT', 'android.permission.SET_SCREEN_COMPATIBILITY', 'android.permission.SET_TIME', 'android.permission.SET_TIME_ZONE', 'android.permission.SET_WALLPAPER', 'android.permission.SET_WALLPAPER_COMPONENT', 'android.permission.SET_WALLPAPER_HINTS', 'android.permission.SHUTDOWN', 'android.permission.SIGNAL_PERSISTENT_PROCESSES', 'android.permission.START_ANY_ACTIVITY', 'android.permission.START_PRINT_SERVICE_CONFIG_ACTIVITY', 'android.permission.START_TASKS_FROM_RECENTS', 'android.permission.STATUS_BAR', 'android.permission.STATUS_BAR_SERVICE', 'android.permission.STOP_APP_SWITCHES', 'android.permission.SUBSCRIBED_FEEDS_READ', 'android.permission.SUBSCRIBED_FEEDS_WRITE', 'android.permission.SYSTEM_ALERT_WINDOW', 'android.permission.TEMPORARY_ENABLE_ACCESSIBILITY', 'android.permission.TRANSMIT_IR', 'android.permission.TRUST_LISTENER', 'android.permission.TV_INPUT_HARDWARE', 'android.permission.UPDATE_APP_OPS_STATS', 'android.permission.UPDATE_DEVICE_STATS', 'android.permission.UPDATE_LOCK', 'android.permission.USER_ACTIVITY', 'android.permission.USE_CREDENTIALS', 'android.permission.USE_SIP', 'android.permission.VIBRATE', 'android.permission.WAKE_LOCK', 'android.permission.WRITE_APN_SETTINGS', 'android.permission.WRITE_CALENDAR', 'android.permission.WRITE_CALL_LOG', 'android.permission.WRITE_CONTACTS', 'android.permission.WRITE_DREAM_STATE', 'android.permission.WRITE_EXTERNAL_STORAGE', 'android.permission.WRITE_GSERVICES', 'android.permission.WRITE_MEDIA_STORAGE', 'android.permission.WRITE_PROFILE', 'android.permission.WRITE_SECURE_SETTINGS', 'android.permission.WRITE_SETTINGS', 'android.permission.WRITE_SMS', 'android.permission.WRITE_SOCIAL_STREAM', 'android.permission.WRITE_SYNC_SETTINGS', 'android.permission.WRITE_USER_DICTIONARY', 'com.android.alarm.permission.SET_ALARM', 'com.android.browser.permission.PRELOAD', 'com.android.browser.permission.READ_HISTORY_BOOKMARKS', 'com.android.browser.permission.WRITE_HISTORY_BOOKMARKS', 'com.android.certinstaller.INSTALL_AS_USER', 'com.android.cts.intent.sender.permission.SAMPLE', 'com.android.cts.keysets_permdef.keysets_perm', 'com.android.cts.permissionAllowedWithSignature', 'com.android.cts.permissionNormal', 'com.android.cts.permissionNotUsedWithSignature', 'com.android.cts.permissionWithSignature', 'com.android.email.permission.ACCESS_PROVIDER', 'com.android.email.permission.READ_ATTACHMENT', 'com.android.frameworks.coretests.DANGEROUS', 'com.android.frameworks.coretests.NORMAL', 'com.android.frameworks.coretests.SIGNATURE', 'com.android.frameworks.coretests.keysets_permdef.keyset_perm', 'com.android.frameworks.coretests.permission.TEST_DENIED', 'com.android.frameworks.coretests.permission.TEST_GRANTED', 'com.android.gallery3d.filtershow.permission.READ', 'com.android.gallery3d.filtershow.permission.WRITE', 'com.android.gallery3d.permission.GALLERY_PROVIDER', 'com.android.launcher.permission.INSTALL_SHORTCUT', 'com.android.launcher.permission.PRELOAD_WORKSPACE', 'com.android.launcher.permission.READ_SETTINGS', 'com.android.launcher.permission.UNINSTALL_SHORTCUT', 'com.android.launcher.permission.WRITE_SETTINGS', 'com.android.launcher3.permission.READ_SETTINGS', 'com.android.launcher3.permission.RECEIVE_FIRST_LOAD_BROADCAST', 'com.android.launcher3.permission.RECEIVE_LAUNCH_BROADCASTS', 'com.android.launcher3.permission.WRITE_SETTINGS', 'com.android.permission.WHITELIST_BLUETOOTH_DEVICE', 'com.android.printspooler.permission.ACCESS_ALL_PRINT_JOBS', 'com.android.providers.tv.permission.ACCESS_ALL_EPG_DATA', 'com.android.providers.tv.permission.ACCESS_WATCHED_PROGRAMS', 'com.android.providers.tv.permission.READ_EPG_DATA', 'com.android.providers.tv.permission.WRITE_EPG_DATA', 'com.android.smspush.WAPPUSH_MANAGER_BIND', 'com.android.voicemail.permission.ADD_VOICEMAIL', 'com.android.voicemail.permission.READ_VOICEMAIL', 'com.android.voicemail.permission.WRITE_VOICEMAIL', 'com.foo.mypermission', 'com.foo.mypermission2', 'org.chromium.chrome.shell.permission.C2D_MESSAGE', 'org.chromium.chrome.shell.permission.DEBUG', 'org.chromium.chrome.shell.permission.SANDBOX', 'org.chromium.chromecast.shell.permission.SANDBOX', 'org.chromium.content_shell.permission.SANDBOX', 'test_permission']\n",
            "X:  (398, 330)\n",
            "Y:  (398,)\n",
            "Malware:  (199, 330)\n",
            "Goodware:  (199, 330)\n",
            "(199,)\n",
            "X_train:  (298, 330) <class 'numpy.ndarray'>\n",
            "Y_train:  (298,) <class 'numpy.ndarray'>\n",
            "X_test:  (100, 330) <class 'numpy.ndarray'>\n",
            "Y_test:  (100,) <class 'numpy.ndarray'>\n"
          ]
        }
      ]
    },
    {
      "cell_type": "markdown",
      "metadata": {
        "id": "QUz5JAXrdW2W"
      },
      "source": [
        "Before we dive into learning from the data. Let's take a look at it."
      ]
    },
    {
      "cell_type": "code",
      "metadata": {
        "id": "xgfCQS8-CFkv",
        "colab": {
          "base_uri": "https://localhost:8080/",
          "height": 950
        },
        "outputId": "66cc1ef3-3ff7-42fd-a979-a24fc12ddd49"
      },
      "source": [
        "import matplotlib.pyplot as plt\n",
        "\n",
        "print( x_train.shape )\n",
        "print( y_train.shape )\n",
        "\n",
        "(x_mal, y_mal), (x_beg, y_beg) = split_by_class( x_train, y_train )\n",
        "\n",
        "print( 'MALWARE' )\n",
        "mal = x_mal.sum( axis=0 )\n",
        "plt.bar( np.arange( mal.shape[ 0 ] ), mal )\n",
        "plt.show()\n",
        "argsorted = np.flip( np.argsort( mal ) )\n",
        "for i in range(10):\n",
        "  print( permissions[ argsorted[ i ] ] + ': ' + str( mal[ argsorted[ i ] ] )  )\n",
        "\n",
        "print( 'BENIGN' )\n",
        "beg = x_beg.sum( axis=0 )\n",
        "plt.bar( np.arange( beg.shape[ 0 ] ), beg )\n",
        "plt.show()\n",
        "argsorted = np.flip( np.argsort( beg ) )\n",
        "for i in range(10):\n",
        "  print( permissions[ argsorted[ i ] ] + ': ' + str( beg[ argsorted[ i ] ] )  )\n"
      ],
      "execution_count": 5,
      "outputs": [
        {
          "output_type": "stream",
          "name": "stdout",
          "text": [
            "(298, 330)\n",
            "(298,)\n",
            "Malware:  (149, 330)\n",
            "Goodware:  (149, 330)\n",
            "MALWARE\n"
          ]
        },
        {
          "output_type": "display_data",
          "data": {
            "image/png": "[encoded data removed]",
            "text/plain": [
              "<Figure size 432x288 with 1 Axes>"
            ]
          },
          "metadata": {
            "needs_background": "light"
          }
        },
        {
          "output_type": "stream",
          "name": "stdout",
          "text": [
            "android.permission.INTERNET: 145\n",
            "android.permission.READ_PHONE_STATE: 141\n",
            "android.permission.ACCESS_NETWORK_STATE: 122\n",
            "android.permission.ACCESS_WIFI_STATE: 101\n",
            "android.permission.WRITE_EXTERNAL_STORAGE: 98\n",
            "android.permission.READ_SMS: 94\n",
            "android.permission.WRITE_SMS: 77\n",
            "android.permission.RECEIVE_BOOT_COMPLETED: 77\n",
            "android.permission.ACCESS_COARSE_LOCATION: 58\n",
            "android.permission.READ_CONTACTS: 57\n",
            "BENIGN\n"
          ]
        },
        {
          "output_type": "display_data",
          "data": {
            "image/png": "[encoded data removed]",
            "text/plain": [
              "<Figure size 432x288 with 1 Axes>"
            ]
          },
          "metadata": {
            "needs_background": "light"
          }
        },
        {
          "output_type": "stream",
          "name": "stdout",
          "text": [
            "android.permission.INTERNET: 80\n",
            "android.permission.WRITE_EXTERNAL_STORAGE: 53\n",
            "android.permission.ACCESS_NETWORK_STATE: 51\n",
            "android.permission.WAKE_LOCK: 28\n",
            "android.permission.RECEIVE_BOOT_COMPLETED: 23\n",
            "android.permission.READ_PHONE_STATE: 21\n",
            "android.permission.ACCESS_WIFI_STATE: 21\n",
            "android.permission.VIBRATE: 18\n",
            "android.permission.ACCESS_FINE_LOCATION: 15\n",
            "android.permission.READ_CONTACTS: 10\n"
          ]
        }
      ]
    },
    {
      "cell_type": "markdown",
      "metadata": {
        "id": "G9cPxxzveT-I"
      },
      "source": [
        "Using what you have learned so far, create an SVM classifier (also any other classifier) using scikit-learn library, train it on that training data and evaluate it on the test data."
      ]
    },
    {
      "cell_type": "code",
      "metadata": {
        "id": "E0BomuoDfp45"
      },
      "source": [
        "# your code here\n",
        "import numpy as np\n",
        "from sklearn.pipeline import make_pipeline\n",
        "from sklearn.preprocessing import StandardScaler\n",
        "from sklearn.svm import SVC\n",
        "clf = make_pipeline(StandardScaler(), SVC(kernel='linear'))\n",
        "clf.fit(x_train, y_train)"
      ],
      "execution_count": null,
      "outputs": []
    },
    {
      "cell_type": "code",
      "metadata": {
        "id": "yHoBQcMehQ9b"
      },
      "source": [
        "y_pred=clf.predict(x_test)\n",
        "# clf.score(x_test)"
      ],
      "execution_count": 20,
      "outputs": []
    },
    {
      "cell_type": "code",
      "metadata": {
        "colab": {
          "base_uri": "https://localhost:8080/"
        },
        "id": "pfvxJtVVhZp2",
        "outputId": "ed94f0db-5bd1-4ee8-a706-4cecfa6dd84f"
      },
      "source": [
        "from sklearn.metrics import accuracy_score\n",
        "accuracy_score(y_test, y_pred)"
      ],
      "execution_count": 18,
      "outputs": [
        {
          "output_type": "execute_result",
          "data": {
            "text/plain": [
              "0.94"
            ]
          },
          "metadata": {},
          "execution_count": 18
        }
      ]
    },
    {
      "cell_type": "code",
      "metadata": {
        "id": "WgL2ksVXhwQX"
      },
      "source": [
        ""
      ],
      "execution_count": null,
      "outputs": []
    },
    {
      "cell_type": "markdown",
      "metadata": {
        "id": "Tgoy9oAghQ66"
      },
      "source": [
        "In this task accuracy is not the most important measure. A more important way of measuring the effectiveness of our classifier is false negative and false positive rate. The function below allows us to compute it.\n",
        "\n",
        "![img](http://rasbt.github.io/mlxtend/user_guide/evaluate/confusion_matrix_files/confusion_matrix_1.png)"
      ]
    },
    {
      "cell_type": "code",
      "metadata": {
        "id": "8rlB-vAZ6pFe"
      },
      "source": [
        "from sklearn.metrics import confusion_matrix\n",
        "\n",
        "def metrics( y_true, y_pred ):\n",
        "  # convert from categorial labels if required\n",
        "  if len( y_pred[ 0 ].shape ) != 0:\n",
        "    y_pred = np.argmax( y_pred, axis=1 )\n",
        "  if len( y_true[ 0 ].shape ) != 0:\n",
        "    y_true = np.argmax( y_true, axis=1 )\n",
        "  tn, fp, fn, tp = confusion_matrix( y_true, y_pred, labels=[ 0, 1 ] ).ravel( )\n",
        "  return { 'tn': tn, 'fp': fp, 'fn': fn, 'tp': tp }\n"
      ],
      "execution_count": 9,
      "outputs": []
    },
    {
      "cell_type": "code",
      "metadata": {
        "id": "h4Ue37j86y_Y",
        "colab": {
          "base_uri": "https://localhost:8080/"
        },
        "outputId": "4cac16e7-832f-4e78-879f-76651ce7ea42"
      },
      "source": [
        "print( clf.predict( x_test ) )\n",
        "print( metrics( y_test, clf.predict( x_test ) ) )\n"
      ],
      "execution_count": 21,
      "outputs": [
        {
          "output_type": "stream",
          "name": "stdout",
          "text": [
            "[1 1 1 1 1 1 1 1 1 1 1 1 1 1 1 0 1 1 1 1 1 1 1 1 0 1 1 1 1 1 1 1 1 1 1 1 1\n",
            " 1 1 1 1 1 1 1 1 1 1 1 1 1 1 0 0 0 0 0 0 0 1 0 0 0 0 0 0 0 0 0 0 0 0 0 0 0\n",
            " 0 0 0 0 1 0 0 0 0 0 0 0 0 0 1 0 0 0 0 0 0 0 0 0 0 0]\n",
            "{'tn': 46, 'fp': 4, 'fn': 2, 'tp': 48}\n"
          ]
        }
      ]
    },
    {
      "cell_type": "markdown",
      "metadata": {
        "id": "k8wkbc0plWax"
      },
      "source": [
        "Let's see how our classifier work to new apks. We just downloaded a few at the beginning of the notebook. First we need to extract the permissions from the apk. \n"
      ]
    },
    {
      "cell_type": "code",
      "metadata": {
        "id": "61CDZJKYfbC0"
      },
      "source": [
        "from androguard.misc import AnalyzeAPK\n",
        "import re\n",
        "\n",
        "def extract_permissions( apk, dv_formant, analysis ):\n",
        "  print( apk.get_app_name() )\n",
        "  print( 'permissions' )\n",
        "  apk_permissions = apk.get_permissions()\n",
        "  print( apk_permissions )\n",
        "\n",
        "  # create empty feature vector\n",
        "  apk_features = np.zeros( [ len( permissions ) ] )\n",
        "\n",
        "  for perm in apk_permissions:\n",
        "    if not isinstance( perm, str ):\n",
        "      continue\n",
        "    try:\n",
        "      idx = permissions.index( perm )\n",
        "    except:\n",
        "      print( 'encountered unknown permission:' + perm )  \n",
        "    apk_features[ idx ] = 1\n",
        "\n",
        "  return apk_features\n",
        "\n",
        "def predict_svm( x ):\n",
        "  print( clf.predict( x ) )\n",
        "  "
      ],
      "execution_count": 11,
      "outputs": []
    },
    {
      "cell_type": "markdown",
      "metadata": {
        "id": "dl1vRasPmSlc"
      },
      "source": [
        "If we wanted to get more elaborate with our feature extraction. The code below extracts suspicious API calls and URL that are used in the app.\n"
      ]
    },
    {
      "cell_type": "code",
      "metadata": {
        "id": "wNURQL9I8ngB"
      },
      "source": [
        "def suspicious_api_and_urls ( apk, dv_formant, analysis ):\n",
        "  \"\"\"\n",
        "  taken from\n",
        "  https://github.com/MLDroid/drebin\n",
        "  \"\"\"\n",
        "\n",
        "  print( apk.get_app_name() )\n",
        "  SuspiciousApiSet = set()\n",
        "  URLDomainSet = set()\n",
        "  for dv in dv_formant:\n",
        "    for m in dv.get_methods():\n",
        "      for block in analysis.get_method( m ).get_basic_blocks().get():\n",
        "        DalvikCodeList = []\n",
        "        for Instruction in block.get_instructions():\n",
        "            CodeLine = str(Instruction.get_name() + \" \" + Instruction.get_output())\n",
        "            DalvikCodeList.append(CodeLine)\n",
        "        DalvikCodeList = set(DalvikCodeList)\n",
        "        ApiList = []\n",
        "        AndroidSuspiciousApiNameList = [\"getExternalStorageDirectory\", \"getSimCountryIso\", \"execHttpRequest\", \n",
        "                    \"sendTextMessage\", \"getSubscriberId\", \"getDeviceId\", \"getPackageInfo\", \"getSystemService\", \"getWifiState\", \n",
        "                    \"setWifiEnabled\", \"setWifiDisabled\", \"Cipher\"]\n",
        "        OtherSuspiciousApiNameList = [\"Ljava/net/HttpURLconnection;->setRequestMethod(Ljava/lang/String;)\", \"Ljava/net/HttpURLconnection\", \n",
        "                                      \"Lorg/apache/http/client/methods/HttpPost\", \"Landroid/telephony/SmsMessage;->getMessageBody\", \n",
        "                                      \"Ljava/io/IOException;->printStackTrace\", \"Ljava/lang/Runtime;->exec\"]\n",
        "        NotLikeApiNameList = [\"system/bin/su\", \"android/os/Exec\"]\n",
        "        for DalvikCode in DalvikCodeList:\n",
        "          if \"invoke-\" in DalvikCode:\n",
        "              Parts = DalvikCode.split(\",\")\n",
        "              for Part in Parts:\n",
        "                  if \";->\" in Part:\n",
        "                      Part = Part.strip()\n",
        "                      if Part.startswith('Landroid'):\n",
        "                          FullApi = Part\n",
        "                          ApiParts = FullApi.split(\";->\")\n",
        "                          ApiClass = ApiParts[0].strip()\n",
        "                          ApiName = ApiParts[1].split(\"(\")[0].strip()\n",
        "                          ApiDetails = {}\n",
        "                          ApiDetails['FullApi'] = FullApi\n",
        "                          ApiDetails['ApiClass'] = ApiClass\n",
        "                          ApiDetails['ApiName'] = ApiName\n",
        "                          ApiList.append(ApiDetails)\n",
        "                          if(ApiName in AndroidSuspiciousApiNameList):\n",
        "                              #ApiClass = Api['ApiClass'].replace(\"/\", \".\").replace(\"Landroid\", \"android\").strip()\n",
        "                              SuspiciousApiSet.add(ApiClass+\".\"+ApiName)\n",
        "                  for Element in OtherSuspiciousApiNameList:\n",
        "                      if(Element in Part):\n",
        "                          SuspiciousApiSet.add(Element)\n",
        "          for Element in NotLikeApiNameList:\n",
        "              if Element in DalvikCode:\n",
        "                  SuspiciousApiSet.add(Element)\n",
        "        for Instruction in DalvikCodeList:\n",
        "          URLSearch = re.search(\"https?://([\\da-z\\.-]+\\.[a-z\\.]{2, 6}|[\\d.]+)[^'\\\"]*\", Instruction, re.IGNORECASE)\n",
        "          if (URLSearch):\n",
        "              URL = URLSearch.group()\n",
        "              Domain = re.sub(\"https?://(.*)\", \"\\g<1>\",\n",
        "                              re.search(\"https?://([^/:\\\\\\\\]*)\", URL, re.IGNORECASE).group(), 0, re.IGNORECASE)\n",
        "              URLDomainSet.add(Domain)\n",
        "\n",
        "  print( SuspiciousApiSet )\n",
        "  print( URLDomainSet )\n",
        "  return SuspiciousApiSet, URLDomainSet\n"
      ],
      "execution_count": 12,
      "outputs": []
    },
    {
      "cell_type": "markdown",
      "metadata": {
        "id": "nYRv15l6CSov"
      },
      "source": [
        "Now that we have a trained classifier and a way to extract features from APK files we can see how are classifier perform on apps that were not part of the dataset.\n",
        "\n",
        "Complete the code sub below to classify the apps."
      ]
    },
    {
      "cell_type": "code",
      "metadata": {
        "id": "VUlxHhTQdOKT"
      },
      "source": [
        "# list of apk filenames\n",
        "apks =  [ 'duckduckgo-5.36.3-release.apk', 'fake_banker.apk', 'feabme.apk',\n",
        "         'TrojanDownloader.apk' ]\n",
        "# labels\n",
        "labels = [ 0, 1, 1, 1 ]\n",
        "\n",
        "# analyze the apks using an imported library\n",
        "# for i in range(len(apks)):\n",
        "a = [AnalyzeAPK(i) for i in apks]\n"
      ],
      "execution_count": null,
      "outputs": []
    },
    {
      "cell_type": "code",
      "metadata": {
        "colab": {
          "base_uri": "https://localhost:8080/"
        },
        "id": "YZETKUZPruGt",
        "outputId": "d93c2467-82a1-40ee-9ad6-166a91aad0bf"
      },
      "source": [
        "apk_features = [extract_permissions(i[0],None,None)for i in a]\n",
        "y_pred = clf.predict(apk_features) #.reshape(1, -1))\n",
        "print(y_pred)\n",
        "print(\"Score for {} is {}\".format(apks,accuracy_score(labels, y_pred)))\n",
        "\n",
        "\n",
        "# extract features using a defined function\n",
        "\n",
        "\n",
        "# perform inference using the trained classifier (scikit learn)"
      ],
      "execution_count": 32,
      "outputs": [
        {
          "output_type": "stream",
          "name": "stdout",
          "text": [
            "DuckDuckGo\n",
            "permissions\n",
            "['android.permission.INTERNET', 'com.android.launcher.permission.INSTALL_SHORTCUT', 'android.permission.RECEIVE_BOOT_COMPLETED', 'android.permission.WAKE_LOCK', 'android.permission.ACCESS_NETWORK_STATE', 'android.permission.WRITE_EXTERNAL_STORAGE']\n",
            "Ziraat 156.Yıl\n",
            "permissions\n",
            "['android.permission.RECEIVE_SMS', 'android.permission.READ_PHONE_STATE', 'android.permission.READ_SMS', 'android.permission.INTERNET', 'android.permission.ACCESS_NETWORK_STATE', 'android.permission.SEND_SMS']\n",
            "Jump Chess\n",
            "permissions\n",
            "['android.permission.ACCESS_NETWORK_STATE', 'android.permission.BLUETOOTH', 'android.permission.BLUETOOTH_ADMIN', 'android.permission.INTERNET']\n",
            "Google Play Services\n",
            "permissions\n",
            "['android.permission.SEND_SMS', 'android.permission.ACCESS_WIFI_STATE', 'android.permission.INTERNET', 'android.permission.USES_POLICY_FORCE_LOCK', 'android.permission.RECEIVE_BOOT_COMPLETED', 'android.permission.WAKE_LOCK', 'android.permission.SYSTEM_ALERT_WINDOW', 'android.permission.WRITE_EXTERNAL_STORAGE', 'android.permission.RECEIVE_SMS', 'android.permission.READ_PHONE_STATE', 'android.permission.READ_SMS', 'android.permission.READ_CONTACTS', 'android.permission.READ_EXTERNAL_STORAGE', 'android.permission.GET_TASKS', 'android.permission.WRITE_SETTINGS', 'android.permission.ACCESS_NETWORK_STATE', 'android.permission.CHANGE_NETWORK_STATE', 'android.permission.CHANGE_WIFI_STATE', 'android.permission.WRITE_SMS', 'android.permission.VIBRATE', 'android.permission.DEVICE_POWER']\n",
            "encountered unknown permission:android.permission.USES_POLICY_FORCE_LOCK\n",
            "[0 1 0 1]\n",
            "Score for ['duckduckgo-5.36.3-release.apk', 'fake_banker.apk', 'feabme.apk', 'TrojanDownloader.apk'] is 0.75\n"
          ]
        }
      ]
    },
    {
      "cell_type": "markdown",
      "metadata": {
        "id": "H6s_WnrBe_B_"
      },
      "source": [
        "How does the classifier perform? Check against www.virustotal.com \n",
        "(You need to download and upload the files)\n",
        "\n",
        "\n",
        "Download links:\n",
        "https://github.com/duckduckgo/Android/releases/download/5.36.3/duckduckgo-5.36.3-release.apk\n",
        "\n",
        "https://github.com/ashishb/android-malware/raw/master/fake_bankers/eba335956afad3b50a93effc61cd7467552ff0f7c8ac14032f784c5fec3a5720.apk\n",
        "\n",
        "https://github.com/ashishb/android-malware/raw/master/feabme/com.tinker.jumperchess(Jump%20Chess).apk\n",
        "or open https://github.com/ashishb/android-malware/blob/master/feabme/com.tinker.jumperchess(Jump%20Chess).apk\n",
        "\n",
        "https://github.com/ashishb/android-malware/raw/master/TrojanDownloader.Agent.JI/Google-play.apk"
      ]
    },
    {
      "cell_type": "markdown",
      "metadata": {
        "id": "GuS-F096yHq8"
      },
      "source": [
        "Of course, we are not limited to SVMs for malware detection. We can use neural nets too.\n",
        "The code below builds a and trains a simple neural network."
      ]
    },
    {
      "cell_type": "code",
      "metadata": {
        "id": "oVP_AZKasVfJ"
      },
      "source": [
        "import tensorflow as tf"
      ],
      "execution_count": 40,
      "outputs": []
    },
    {
      "cell_type": "code",
      "metadata": {
        "id": "6rjR9w1xhHvh",
        "colab": {
          "base_uri": "https://localhost:8080/"
        },
        "outputId": "756bca4b-b6a1-49e1-d72f-a5e7164e55cf"
      },
      "source": [
        "from keras.models import Sequential\n",
        "from keras.layers import Dense\n",
        "from keras.utils import to_categorical\n",
        "# from keras.utils.np_utils import to_categorical\n",
        "\n",
        "y_train_cat = to_categorical( y_train )  \n",
        "y_test_cat = to_categorical( y_test )  \n",
        "\n",
        "model = Sequential()\n",
        "model.add( Dense( 64, activation='relu', input_shape=x_train.shape[ 1: ]  ) )\n",
        "model.add( Dense( 32, activation='relu' ) )\n",
        "model.add( Dense( 2, activation='softmax' ) )\n",
        "model.compile(optimizer=\"adam\",\n",
        "              loss=\"categorical_crossentropy\",\n",
        "              metrics=['accuracy'])\n",
        "# your code here\n",
        "model.fit(x_train,y_train_cat,epochs=64)"
      ],
      "execution_count": 43,
      "outputs": [
        {
          "output_type": "stream",
          "name": "stdout",
          "text": [
            "298/298 [==============================] - 0s 115us/step - loss: 0.0385 - acc: 0.9933\n",
            "Epoch 38/64\n",
            "298/298 [==============================] - 0s 112us/step - loss: 0.0376 - acc: 0.9933\n",
            "Epoch 39/64\n",
            "298/298 [==============================] - 0s 85us/step - loss: 0.0366 - acc: 0.9933\n",
            "Epoch 40/64\n",
            "298/298 [==============================] - 0s 87us/step - loss: 0.0362 - acc: 0.9933\n",
            "Epoch 41/64\n",
            "298/298 [==============================] - 0s 95us/step - loss: 0.0348 - acc: 0.9933\n",
            "Epoch 42/64\n",
            "298/298 [==============================] - 0s 75us/step - loss: 0.0345 - acc: 0.9933\n",
            "Epoch 43/64\n",
            "298/298 [==============================] - 0s 85us/step - loss: 0.0337 - acc: 0.9933\n",
            "Epoch 44/64\n",
            "298/298 [==============================] - 0s 84us/step - loss: 0.0346 - acc: 0.9899\n",
            "Epoch 45/64\n",
            "298/298 [==============================] - 0s 79us/step - loss: 0.0327 - acc: 0.9933\n",
            "Epoch 46/64\n",
            "298/298 [==============================] - 0s 101us/step - loss: 0.0321 - acc: 0.9933\n",
            "Epoch 47/64\n",
            "298/298 [==============================] - 0s 101us/step - loss: 0.0306 - acc: 0.9933\n",
            "Epoch 48/64\n",
            "298/298 [==============================] - 0s 103us/step - loss: 0.0318 - acc: 0.9933\n",
            "Epoch 49/64\n",
            "298/298 [==============================] - 0s 93us/step - loss: 0.0307 - acc: 0.9933\n",
            "Epoch 50/64\n",
            "298/298 [==============================] - 0s 89us/step - loss: 0.0293 - acc: 0.9933\n",
            "Epoch 51/64\n",
            "298/298 [==============================] - 0s 99us/step - loss: 0.0284 - acc: 0.9933\n",
            "Epoch 52/64\n",
            "298/298 [==============================] - 0s 75us/step - loss: 0.0285 - acc: 0.9933\n",
            "Epoch 53/64\n",
            "298/298 [==============================] - 0s 76us/step - loss: 0.0275 - acc: 0.9933\n",
            "Epoch 54/64\n",
            "298/298 [==============================] - 0s 130us/step - loss: 0.0274 - acc: 0.9933\n",
            "Epoch 55/64\n",
            "298/298 [==============================] - 0s 103us/step - loss: 0.0264 - acc: 0.9933\n",
            "Epoch 56/64\n",
            "298/298 [==============================] - 0s 91us/step - loss: 0.0264 - acc: 0.9933\n",
            "Epoch 57/64\n",
            "298/298 [==============================] - 0s 87us/step - loss: 0.0262 - acc: 0.9933\n",
            "Epoch 58/64\n",
            "298/298 [==============================] - 0s 95us/step - loss: 0.0256 - acc: 0.9933\n",
            "Epoch 59/64\n",
            "298/298 [==============================] - 0s 95us/step - loss: 0.0252 - acc: 0.9933\n",
            "Epoch 60/64\n",
            "298/298 [==============================] - 0s 97us/step - loss: 0.0260 - acc: 0.9933\n",
            "Epoch 61/64\n",
            "298/298 [==============================] - 0s 96us/step - loss: 0.0252 - acc: 0.9933\n",
            "Epoch 62/64\n",
            "298/298 [==============================] - 0s 116us/step - loss: 0.0248 - acc: 0.9933\n",
            "Epoch 63/64\n",
            "298/298 [==============================] - 0s 96us/step - loss: 0.0249 - acc: 0.9933\n",
            "Epoch 64/64\n",
            "298/298 [==============================] - 0s 81us/step - loss: 0.0244 - acc: 0.9933\n"
          ]
        },
        {
          "output_type": "execute_result",
          "data": {
            "text/plain": [
              "<keras.callbacks.History at 0x7f2011e6b350>"
            ]
          },
          "metadata": {},
          "execution_count": 43
        }
      ]
    },
    {
      "cell_type": "markdown",
      "metadata": {
        "id": "sS7MmGTE2BXP"
      },
      "source": [
        "How does the neural network perform when compared against our SVM classifier we trained earlier? \n",
        "Compare the relevant metrics on the test set and the 4 APKs we downloaded."
      ]
    },
    {
      "cell_type": "code",
      "metadata": {
        "id": "U-afwgFK_314",
        "colab": {
          "base_uri": "https://localhost:8080/"
        },
        "outputId": "329c4b2e-ef4e-4296-b2b3-dc4b5aa51d02"
      },
      "source": [
        "# evaluate model performance\n",
        "\n",
        "print(model.evaluate(x_test,y_test_cat))\n",
        "metrics(y_test,model.predict(x_test))\n"
      ],
      "execution_count": 48,
      "outputs": [
        {
          "output_type": "stream",
          "name": "stdout",
          "text": [
            "100/100 [==============================] - 0s 155us/step\n",
            "[0.17831587915774436, 0.97]\n"
          ]
        },
        {
          "output_type": "execute_result",
          "data": {
            "text/plain": [
              "{'fn': 1, 'fp': 2, 'tn': 48, 'tp': 49}"
            ]
          },
          "metadata": {},
          "execution_count": 48
        }
      ]
    },
    {
      "cell_type": "code",
      "metadata": {
        "colab": {
          "base_uri": "https://localhost:8080/"
        },
        "id": "w4LYoD58t7Y8",
        "outputId": "12bf9f50-26b9-401a-e176-c7801305518f"
      },
      "source": [
        "model.predict(np.array(apk_features))"
      ],
      "execution_count": 49,
      "outputs": [
        {
          "output_type": "execute_result",
          "data": {
            "text/plain": [
              "array([[9.9525368e-01, 4.7462853e-03],\n",
              "       [7.2407880e-04, 9.9927598e-01],\n",
              "       [9.9999046e-01, 9.5355290e-06],\n",
              "       [3.7188679e-06, 9.9999630e-01]], dtype=float32)"
            ]
          },
          "metadata": {},
          "execution_count": 49
        }
      ]
    },
    {
      "cell_type": "markdown",
      "metadata": {
        "id": "nmw3bdmw2g8Z"
      },
      "source": [
        "Of course the neural model is vulnerable to same attacks we discussed earlier. But in the malware setting we are not free to make any change we want.\n",
        "We need to constrain ourselves, so we can \"easily\" make the modifications to the APK without changing its functionality. A common constraint is to only add features.\n",
        "\n",
        "Another constraint is that we can only make a change of exactly 1 since our features are binary. There is no 0.1 change. It is only on or off.\n",
        "We deal with this by rounding up our down in the code below.\n",
        "\n",
        "For the moment lets ignore the first constraint.\n",
        "\n",
        "Let's build a simple FGSM attack with rounding and attack the model we trained above.\n"
      ]
    },
    {
      "cell_type": "code",
      "metadata": {
        "id": "pkB_hocXxbVr"
      },
      "source": [
        "!pip install adversarial-robustness-toolbox==1.7.1"
      ],
      "execution_count": null,
      "outputs": []
    },
    {
      "cell_type": "code",
      "metadata": {
        "id": "RDFSRXBqAVUQ",
        "colab": {
          "base_uri": "https://localhost:8080/",
          "height": 229
        },
        "outputId": "f9d755ee-b472-422a-9915-570bb823cf43"
      },
      "source": [
        "import tensorflow as tf\n",
        "from cleverhans.utils_tf import model_loss\n",
        "import keras\n",
        "\n",
        "eps = .1 # rate of change\n",
        "alpha = 0.5 # threshold for rounding\n",
        "\n",
        "# we don't want training phase behaviour\n",
        "keras.layers.core.K.set_learning_phase( 0 )\n",
        "\n",
        "# Set TF random seed to improve reproducibility\n",
        "tf.set_random_seed( 1234 )\n",
        "\n",
        "# we need the tensorflow session to run the attack\n",
        "sess = keras.backend.get_session()\n",
        "\n",
        "# compute natural loss\n",
        "x_tensor = tf.convert_to_tensor(x_test,np.float32)\n",
        "preds= model(x_tensor)\n",
        "# forward pass\n",
        "\n",
        "\n",
        "# compute gradient\n",
        "\n",
        "\n",
        "# find next sample\n",
        "\n",
        "\n",
        "# make sure we are in the correct range\n",
        "\n",
        "\n",
        "# rounding\n",
        "\n",
        "\n",
        "# compute adversarial loss\n",
        "loss_adv = model_loss( y_test_cat, model( x_tensor ), mean=False )\n",
        "\n",
        "# run the attack\n",
        "x_adv = sess.run( x_tensor )\n",
        "\n",
        "\n",
        "print( 'changes that were made' )\n",
        "print( np.sum( x_adv, axis=1 ) - np.sum( x_test, axis=1 ) )\n"
      ],
      "execution_count": 53,
      "outputs": [
        {
          "output_type": "error",
          "ename": "NameError",
          "evalue": "ignored",
          "traceback": [
            "\u001b[0;31m---------------------------------------------------------------------------\u001b[0m",
            "\u001b[0;31mNameError\u001b[0m                                 Traceback (most recent call last)",
            "\u001b[0;32m<ipython-input-53-3d87a3441ac6>\u001b[0m in \u001b[0;36m<module>\u001b[0;34m()\u001b[0m\n\u001b[1;32m     17\u001b[0m \u001b[0;31m# compute natural loss\u001b[0m\u001b[0;34m\u001b[0m\u001b[0;34m\u001b[0m\u001b[0;34m\u001b[0m\u001b[0m\n\u001b[1;32m     18\u001b[0m \u001b[0;31m# x_tensor = tf.convert_to_tensor(x_test,np.float32)\u001b[0m\u001b[0;34m\u001b[0m\u001b[0;34m\u001b[0m\u001b[0;34m\u001b[0m\u001b[0m\n\u001b[0;32m---> 19\u001b[0;31m \u001b[0mwrapper\u001b[0m \u001b[0;34m=\u001b[0m \u001b[0mKerasClassifier\u001b[0m\u001b[0;34m(\u001b[0m \u001b[0mmodel\u001b[0m\u001b[0;34m=\u001b[0m\u001b[0mmodel\u001b[0m\u001b[0;34m,\u001b[0m \u001b[0mclip_values\u001b[0m\u001b[0;34m=\u001b[0m\u001b[0;34m(\u001b[0m\u001b[0;36m0.\u001b[0m\u001b[0;34m,\u001b[0m \u001b[0;36m1.\u001b[0m\u001b[0;34m)\u001b[0m \u001b[0;34m)\u001b[0m\u001b[0;34m\u001b[0m\u001b[0;34m\u001b[0m\u001b[0m\n\u001b[0m\u001b[1;32m     20\u001b[0m print( 'robustness of the undefended model', \n\u001b[1;32m     21\u001b[0m       empirical_robustness( wrapper, x_test, 'fgsm'))\n",
            "\u001b[0;31mNameError\u001b[0m: name 'KerasClassifier' is not defined"
          ]
        }
      ]
    },
    {
      "cell_type": "markdown",
      "metadata": {
        "id": "Pb7Fm0XyHuud"
      },
      "source": [
        "How does the attack perform? Evaluate the created examples."
      ]
    },
    {
      "cell_type": "code",
      "metadata": {
        "id": "svY3vl_nH1re"
      },
      "source": [
        "# your code here\n",
        "\n"
      ],
      "execution_count": null,
      "outputs": []
    },
    {
      "cell_type": "markdown",
      "metadata": {
        "id": "nUgpfT7XH2AM"
      },
      "source": [
        "A more powerful version of the attack is an iterative version. Modify the code above to make the attack iterative. Additionally, the attack currently still regards our first constraint. How would that be changed?\n"
      ]
    },
    {
      "cell_type": "code",
      "metadata": {
        "pycharm": {
          "name": "#%%\n"
        },
        "id": "InYGYYrxfvkd"
      },
      "source": [
        "# your code here\n"
      ],
      "execution_count": null,
      "outputs": []
    },
    {
      "cell_type": "markdown",
      "metadata": {
        "id": "tkszhap7JPCk"
      },
      "source": [
        "It is time to analyze the adversarial examples that we have created. Using code from earlier check which features where added the most often. Also do the samples work against the SVM classifier?\n",
        "\n",
        "Further exercise: with the androguard tool you can repakage apks. Make the changes to the manifest suggested by the adversarial examples, repakage the apk and see how it fares against virustotal.\n"
      ]
    }
  ]
}